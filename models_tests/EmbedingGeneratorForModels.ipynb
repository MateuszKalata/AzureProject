{
  "cells": [
    {
      "cell_type": "code",
      "source": [
        "!pip install sentence-transformers\r\n",
        "import pandas as pd\r\n",
        "from urllib.parse import unquote\r\n",
        "import pickle\r\n",
        "import re\r\n",
        "import numpy as np\r\n",
        "from sentence_transformers import SentenceTransformer, LoggingHandler, util, models, evaluation, losses\r\n",
        "from nltk import tokenize\r\n",
        "import nltk.data\r\n",
        "nltk.download('punkt')\r\n",
        "import math\r\n",
        "import logging\r\n",
        "from datetime import datetime\r\n",
        "import gzip\r\n",
        "import os\r\n",
        "import tarfile\r\n",
        "from collections import defaultdict\r\n",
        "from torch.utils.data import IterableDataset\r\n",
        "from torch.utils.data import DataLoader\r\n",
        "from datetime import datetime\r\n",
        "from zipfile import ZipFile\r\n",
        "import csv\r\n",
        "import sys\r\n",
        "import torch"
      ],
      "outputs": [
        {
          "output_type": "stream",
          "name": "stdout",
          "text": [
            "Requirement already satisfied: sentence-transformers in /anaconda/envs/azureml_py36/lib/python3.6/site-packages (0.4.1.2)\n",
            "Requirement already satisfied: scikit-learn in /anaconda/envs/azureml_py36/lib/python3.6/site-packages (from sentence-transformers) (0.22.2.post1)\n",
            "Requirement already satisfied: nltk in /anaconda/envs/azureml_py36/lib/python3.6/site-packages (from sentence-transformers) (3.5)\n",
            "Requirement already satisfied: scipy in /anaconda/envs/azureml_py36/lib/python3.6/site-packages (from sentence-transformers) (1.5.2)\n",
            "Requirement already satisfied: sentencepiece in /anaconda/envs/azureml_py36/lib/python3.6/site-packages (from sentence-transformers) (0.1.94)\n",
            "Requirement already satisfied: tqdm in /anaconda/envs/azureml_py36/lib/python3.6/site-packages (from sentence-transformers) (4.54.0)\n",
            "Requirement already satisfied: torch>=1.6.0 in /anaconda/envs/azureml_py36/lib/python3.6/site-packages (from sentence-transformers) (1.6.0)\n",
            "Requirement already satisfied: numpy in /anaconda/envs/azureml_py36/lib/python3.6/site-packages (from sentence-transformers) (1.18.5)\n",
            "Requirement already satisfied: transformers<5.0.0,>=3.1.0 in /anaconda/envs/azureml_py36/lib/python3.6/site-packages (from sentence-transformers) (4.1.1)\n",
            "Requirement already satisfied: joblib>=0.11 in /anaconda/envs/azureml_py36/lib/python3.6/site-packages (from scikit-learn->sentence-transformers) (0.14.1)\n",
            "Requirement already satisfied: regex in /anaconda/envs/azureml_py36/lib/python3.6/site-packages (from nltk->sentence-transformers) (2020.11.13)\n",
            "Requirement already satisfied: click in /anaconda/envs/azureml_py36/lib/python3.6/site-packages (from nltk->sentence-transformers) (7.1.2)\n",
            "Requirement already satisfied: future in /anaconda/envs/azureml_py36/lib/python3.6/site-packages (from torch>=1.6.0->sentence-transformers) (0.18.2)\n",
            "Requirement already satisfied: dataclasses; python_version < \"3.7\" in /anaconda/envs/azureml_py36/lib/python3.6/site-packages (from transformers<5.0.0,>=3.1.0->sentence-transformers) (0.8)\n",
            "Requirement already satisfied: requests in /anaconda/envs/azureml_py36/lib/python3.6/site-packages (from transformers<5.0.0,>=3.1.0->sentence-transformers) (2.25.0)\n",
            "Requirement already satisfied: filelock in /anaconda/envs/azureml_py36/lib/python3.6/site-packages (from transformers<5.0.0,>=3.1.0->sentence-transformers) (3.0.12)\n",
            "Requirement already satisfied: sacremoses in /anaconda/envs/azureml_py36/lib/python3.6/site-packages (from transformers<5.0.0,>=3.1.0->sentence-transformers) (0.0.43)\n",
            "Requirement already satisfied: packaging in /anaconda/envs/azureml_py36/lib/python3.6/site-packages (from transformers<5.0.0,>=3.1.0->sentence-transformers) (20.7)\n",
            "Requirement already satisfied: tokenizers==0.9.4 in /anaconda/envs/azureml_py36/lib/python3.6/site-packages (from transformers<5.0.0,>=3.1.0->sentence-transformers) (0.9.4)\n",
            "Requirement already satisfied: urllib3<1.27,>=1.21.1 in /anaconda/envs/azureml_py36/lib/python3.6/site-packages (from requests->transformers<5.0.0,>=3.1.0->sentence-transformers) (1.25.11)\n",
            "Requirement already satisfied: idna<3,>=2.5 in /anaconda/envs/azureml_py36/lib/python3.6/site-packages (from requests->transformers<5.0.0,>=3.1.0->sentence-transformers) (2.10)\n",
            "Requirement already satisfied: chardet<4,>=3.0.2 in /anaconda/envs/azureml_py36/lib/python3.6/site-packages (from requests->transformers<5.0.0,>=3.1.0->sentence-transformers) (3.0.4)\n",
            "Requirement already satisfied: certifi>=2017.4.17 in /anaconda/envs/azureml_py36/lib/python3.6/site-packages (from requests->transformers<5.0.0,>=3.1.0->sentence-transformers) (2020.11.8)\n",
            "Requirement already satisfied: six in /anaconda/envs/azureml_py36/lib/python3.6/site-packages (from sacremoses->transformers<5.0.0,>=3.1.0->sentence-transformers) (1.15.0)\n",
            "Requirement already satisfied: pyparsing>=2.0.2 in /anaconda/envs/azureml_py36/lib/python3.6/site-packages (from packaging->transformers<5.0.0,>=3.1.0->sentence-transformers) (2.4.7)\n"
          ]
        },
        {
          "output_type": "stream",
          "name": "stderr",
          "text": [
            "[nltk_data] Downloading package punkt to /home/azureuser/nltk_data...\n",
            "[nltk_data]   Package punkt is already up-to-date!\n"
          ]
        }
      ],
      "execution_count": 1,
      "metadata": {
        "gather": {
          "logged": 1611660107472
        },
        "id": "RLyTgueZBB-2"
      }
    },
    {
      "cell_type": "code",
      "source": [
        "def divide_into_par(text, threshold=10):\r\n",
        "  splits = text.split('\\n')\r\n",
        "  pars = []\r\n",
        "  par = ''\r\n",
        "  for split in splits:\r\n",
        "    words = split.split(' ')\r\n",
        "    if len(words) > 0 and len(words) < threshold:\r\n",
        "      if len(par) > 0:\r\n",
        "        pars.append(par)\r\n",
        "        par = ''\r\n",
        "    elif len(words) > threshold:\r\n",
        "      par += split\r\n",
        "  if len(pars) > 0:\r\n",
        "    return pars\r\n",
        "  return [text]"
      ],
      "outputs": [],
      "execution_count": 7,
      "metadata": {
        "executionInfo": {
          "elapsed": 618,
          "status": "ok",
          "timestamp": 1611569457197,
          "user": {
            "displayName": "Mateusz Kalata",
            "photoUrl": "",
            "userId": "01949051063727843987"
          },
          "user_tz": -60
        },
        "gather": {
          "logged": 1611605660105
        },
        "id": "w_J4YkqrBlz1"
      }
    },
    {
      "cell_type": "code",
      "source": [
        "wiki = pickle.load(open( 'wikipedia2.pickle', 'rb' ))\r\n",
        "wiki = pd.DataFrame(data=wiki, columns=['id', 'url', 'title', 'text'])"
      ],
      "outputs": [],
      "execution_count": 8,
      "metadata": {
        "collapsed": true,
        "gather": {
          "logged": 1611605682537
        },
        "jupyter": {
          "outputs_hidden": true,
          "source_hidden": false
        },
        "nteract": {
          "transient": {
            "deleting": false
          }
        }
      }
    },
    {
      "cell_type": "code",
      "source": [
        "\r\n",
        "wiki['paragraph'] = wiki['text'].apply(divide_into_par)\r\n",
        "wiki.reset_index(drop=True, inplace=True)\r\n",
        "wiki = wiki.explode('paragraph')\r\n",
        "wiki.reset_index(drop=True, inplace=True)\r\n",
        "wiki = wiki.sort_values(by='title')\r\n",
        "wiki.reset_index(drop=True, inplace=True)\r\n",
        "pickle.dump( wiki, open( 'wiki_full.pickle', 'wb' ))"
      ],
      "outputs": [],
      "execution_count": 9,
      "metadata": {
        "executionInfo": {
          "elapsed": 38933,
          "status": "ok",
          "timestamp": 1611569641364,
          "user": {
            "displayName": "Mateusz Kalata",
            "photoUrl": "",
            "userId": "01949051063727843987"
          },
          "user_tz": -60
        },
        "gather": {
          "logged": 1611605730265
        },
        "id": "SYhLqRrkBRRV"
      }
    },
    {
      "cell_type": "code",
      "source": [
        "wiki = pickle.load( open( 'wiki_full.pickle', 'rb' ))"
      ],
      "outputs": [],
      "execution_count": 2,
      "metadata": {
        "nteract": {
          "transient": {
            "deleting": false
          }
        },
        "gather": {
          "logged": 1611660146928
        }
      }
    },
    {
      "cell_type": "markdown",
      "source": [
        "### Model nietrenowany\r\n"
      ],
      "metadata": {
        "nteract": {
          "transient": {
            "deleting": false
          }
        }
      }
    },
    {
      "cell_type": "code",
      "source": [
        "bi_encoder = SentenceTransformer('paraphrase-xlm-r-multilingual-v1')"
      ],
      "outputs": [],
      "execution_count": 5,
      "metadata": {
        "collapsed": true,
        "jupyter": {
          "source_hidden": false,
          "outputs_hidden": false
        },
        "nteract": {
          "transient": {
            "deleting": false
          }
        },
        "gather": {
          "logged": 1611660252354
        }
      }
    },
    {
      "cell_type": "code",
      "source": [
        "corpus_embeddings_bi_encoder = bi_encoder.encode(wiki['paragraph'].tolist()[:250000], show_progress_bar=True)\r\n"
      ],
      "outputs": [
        {
          "output_type": "display_data",
          "data": {
            "text/plain": "HBox(children=(HTML(value='Batches'), FloatProgress(value=0.0, max=7813.0), HTML(value='')))",
            "application/vnd.jupyter.widget-view+json": {
              "version_major": 2,
              "version_minor": 0,
              "model_id": "6245d1f795f34e20927864d5ce90c9bc"
            }
          },
          "metadata": {}
        }
      ],
      "execution_count": 6,
      "metadata": {
        "collapsed": true,
        "jupyter": {
          "source_hidden": false,
          "outputs_hidden": false
        },
        "nteract": {
          "transient": {
            "deleting": false
          }
        }
      }
    },
    {
      "cell_type": "code",
      "source": [
        "pickle.dump( corpus_embeddings_bi_encoder, open( 'corpus_embeddings_bi_encoder.pickle', 'wb' ))"
      ],
      "outputs": [],
      "execution_count": null,
      "metadata": {
        "collapsed": true,
        "jupyter": {
          "source_hidden": false,
          "outputs_hidden": false
        },
        "nteract": {
          "transient": {
            "deleting": false
          }
        }
      }
    },
    {
      "cell_type": "markdown",
      "source": [
        "### Model Trenowany na cds"
      ],
      "metadata": {
        "nteract": {
          "transient": {
            "deleting": false
          }
        }
      }
    },
    {
      "cell_type": "code",
      "source": [
        "cds_bi_encoder = SentenceTransformer('models/cds-bi-encoder/cds-bi-encoder-paraphrase-xlm-r-multilingual-v1-2021-01-24_20-05-32')\r\n",
        "top_k = 100  "
      ],
      "outputs": [],
      "execution_count": null,
      "metadata": {
        "executionInfo": {
          "elapsed": 21248,
          "status": "ok",
          "timestamp": 1611569872361,
          "user": {
            "displayName": "Mateusz Kalata",
            "photoUrl": "",
            "userId": "01949051063727843987"
          },
          "user_tz": -60
        },
        "gather": {
          "logged": 1611589659039
        },
        "id": "ytxo7IvKCO7I"
      }
    },
    {
      "cell_type": "code",
      "source": [
        "\r\n",
        "corpus_embeddings_for_cds_bi_encoder = cds_bi_encoder.encode(wiki['paragraph'].tolist()[:250000], show_progress_bar=True)\r\n"
      ],
      "outputs": [],
      "execution_count": null,
      "metadata": {
        "colab": {
          "base_uri": "https://localhost:8080/",
          "height": 49,
          "referenced_widgets": [
            "fc030d4741804bb1aa313ba84ab5bcfb",
            "da519d86d1aa454ca9d6a8426369591c",
            "898fd759b5cb4426ab40d3a38ae28c30",
            "da1de9549169469f84c38bb7f5faf840",
            "3ba487e233f8407798336a150580706a",
            "ae7826827cdd4682be1a421fd84774a2",
            "ca364ca9f1404d4c910e774a794057a6",
            "cc916b49bdaf4cb1b8e81cc151ff8b96"
          ]
        },
        "gather": {
          "logged": 1611593200746
        },
        "id": "xcPjUcQxDOkQ",
        "outputId": "4459963b-9002-4900-c526-5399c0efbe83"
      }
    },
    {
      "cell_type": "code",
      "source": [
        "pickle.dump( corpus_embeddings_for_cds_bi_encoder, open( 'corpus_embeddings_for_cds_bi_encoder.pickle', 'wb' ))"
      ],
      "outputs": [],
      "execution_count": 16,
      "metadata": {
        "collapsed": true,
        "gather": {
          "logged": 1611593274344
        },
        "jupyter": {
          "outputs_hidden": true,
          "source_hidden": false
        },
        "nteract": {
          "transient": {
            "deleting": false
          }
        }
      }
    },
    {
      "cell_type": "markdown",
      "source": [
        "### Model Trenowany na cds oraz czywiesz"
      ],
      "metadata": {
        "nteract": {
          "transient": {
            "deleting": false
          }
        }
      }
    },
    {
      "cell_type": "code",
      "source": [
        "cds_czywiesz_bi_encoder = SentenceTransformer('models/cds-czywiesz-bi-encoder/cds-czywiesz-bi-encoder--content-drive-MyDrive-models-cds-bi-encoder-cds-bi-encoder-paraphrase-xlm-r-multilingual-v1-2021-01-24_20-05-32-2021-01-24_22-00-53')"
      ],
      "outputs": [],
      "execution_count": 5,
      "metadata": {
        "gather": {
          "logged": 1611594468990
        },
        "nteract": {
          "transient": {
            "deleting": false
          }
        }
      }
    },
    {
      "cell_type": "code",
      "source": [
        "corpus_embeddings_for_cds_czywiesz_bi_encoder = cds_czywiesz_bi_encoder.encode(wiki['paragraph'].tolist()[:250000], show_progress_bar=True)"
      ],
      "outputs": [
        {
          "output_type": "display_data",
          "data": {
            "application/vnd.jupyter.widget-view+json": {
              "model_id": "195903953b2c44eebbafa8c5e62fc508",
              "version_major": 2,
              "version_minor": 0
            },
            "text/plain": "HBox(children=(HTML(value='Batches'), FloatProgress(value=0.0, max=7813.0), HTML(value='')))"
          },
          "metadata": {}
        },
        {
          "output_type": "stream",
          "name": "stdout",
          "text": [
            "\n"
          ]
        }
      ],
      "execution_count": 6,
      "metadata": {
        "nteract": {
          "transient": {
            "deleting": false
          }
        }
      }
    },
    {
      "cell_type": "code",
      "source": [
        "pickle.dump( corpus_embeddings_for_cds_czywiesz_bi_encoder, open( 'corpus_embeddings_for_cds_czywiesz_bi_encoder.pickle', 'wb' ))"
      ],
      "outputs": [],
      "execution_count": 7,
      "metadata": {
        "nteract": {
          "transient": {
            "deleting": false
          }
        }
      }
    },
    {
      "cell_type": "markdown",
      "source": [
        "### Model Trenowany na cds, czywiesz oraz na zdanich stworzonych na podstawie zbioru czywiesz "
      ],
      "metadata": {
        "nteract": {
          "transient": {
            "deleting": false
          }
        }
      }
    },
    {
      "cell_type": "code",
      "source": [
        "cds_czywiesz_labels_bi_encoder = SentenceTransformer('models/cds-czywiesz-labels-bi-encoder/cds_czywiesz_labels-bi-encoder-bert-base-multilingual-cased-2021-01-24_22-52-29')"
      ],
      "outputs": [],
      "execution_count": 8,
      "metadata": {
        "nteract": {
          "transient": {
            "deleting": false
          }
        }
      }
    },
    {
      "cell_type": "code",
      "source": [
        "corpus_embeddings_for_cds_czywiesz_labels_bi_encoder = cds_czywiesz_labels_bi_encoder.encode(wiki['paragraph'].tolist()[:250000], show_progress_bar=True)"
      ],
      "outputs": [
        {
          "output_type": "display_data",
          "data": {
            "application/vnd.jupyter.widget-view+json": {
              "model_id": "54c2af9f37a3473a8d9dd9e632c31efc",
              "version_major": 2,
              "version_minor": 0
            },
            "text/plain": "HBox(children=(HTML(value='Batches'), FloatProgress(value=0.0, max=7813.0), HTML(value='')))"
          },
          "metadata": {}
        },
        {
          "output_type": "stream",
          "name": "stdout",
          "text": [
            "\n"
          ]
        }
      ],
      "execution_count": 9,
      "metadata": {
        "nteract": {
          "transient": {
            "deleting": false
          }
        }
      }
    },
    {
      "cell_type": "code",
      "source": [
        "pickle.dump( corpus_embeddings_for_cds_czywiesz_labels_bi_encoder, open( 'corpus_embeddings_for_cds_czywiesz_labels_bi_encoder.pickle', 'wb' ))"
      ],
      "outputs": [],
      "execution_count": 10,
      "metadata": {
        "nteract": {
          "transient": {
            "deleting": false
          }
        }
      }
    },
    {
      "cell_type": "markdown",
      "source": [
        "### Model Trenowany na czywiesz "
      ],
      "metadata": {
        "nteract": {
          "transient": {
            "deleting": false
          }
        }
      }
    },
    {
      "cell_type": "code",
      "source": [
        "czywiesz_bi_encoder = SentenceTransformer('models/czywiesz-bi-encoder/czywiesz-bi-encoder-paraphrase-xlm-r-multilingual-v1-2021-01-24_21-20-22')"
      ],
      "outputs": [],
      "execution_count": 11,
      "metadata": {
        "nteract": {
          "transient": {
            "deleting": false
          }
        }
      }
    },
    {
      "cell_type": "code",
      "source": [
        "corpus_embeddings_for_czywiesz_bi_encoder = czywiesz_bi_encoder.encode(wiki['paragraph'].tolist()[:250000], show_progress_bar=True)"
      ],
      "outputs": [
        {
          "output_type": "display_data",
          "data": {
            "application/vnd.jupyter.widget-view+json": {
              "model_id": "9cc38f266ce24ae3bad177795a93ab2d",
              "version_major": 2,
              "version_minor": 0
            },
            "text/plain": "HBox(children=(HTML(value='Batches'), FloatProgress(value=0.0, max=7813.0), HTML(value='')))"
          },
          "metadata": {}
        }
      ],
      "execution_count": null,
      "metadata": {
        "nteract": {
          "transient": {
            "deleting": false
          }
        }
      }
    },
    {
      "cell_type": "code",
      "source": [
        "pickle.dump( corpus_embeddings_for_czywiesz_bi_encoder, open( 'corpus_embeddings_for_czywiesz_bi_encoder.pickle', 'wb' ))"
      ],
      "outputs": [],
      "execution_count": null,
      "metadata": {
        "nteract": {
          "transient": {
            "deleting": false
          }
        }
      }
    },
    {
      "cell_type": "markdown",
      "source": [
        "### Model Trenowany na czywiesz oraz cds"
      ],
      "metadata": {
        "nteract": {
          "transient": {
            "deleting": false
          }
        }
      }
    },
    {
      "cell_type": "code",
      "source": [
        "czywiesz_cds_bi_encoder = SentenceTransformer('models/czywiesz-cds-bi-encoder')"
      ],
      "outputs": [
        {
          "output_type": "error",
          "ename": "FileNotFoundError",
          "evalue": "[Errno 2] No such file or directory: 'models/czywiesz-cds-bi-encoder/0_Transformer/sentence_xlnet_config.json'",
          "traceback": [
            "\u001b[0;31m---------------------------------------------------------------------------\u001b[0m",
            "\u001b[0;31mFileNotFoundError\u001b[0m                         Traceback (most recent call last)",
            "\u001b[0;32m<ipython-input-20-70638d07c7ec>\u001b[0m in \u001b[0;36m<module>\u001b[0;34m\u001b[0m\n\u001b[0;32m----> 1\u001b[0;31m \u001b[0mczywiesz_cds_bi_encoder\u001b[0m \u001b[0;34m=\u001b[0m \u001b[0mSentenceTransformer\u001b[0m\u001b[0;34m(\u001b[0m\u001b[0;34m'models/czywiesz-cds-bi-encoder'\u001b[0m\u001b[0;34m)\u001b[0m\u001b[0;34m\u001b[0m\u001b[0;34m\u001b[0m\u001b[0m\n\u001b[0m",
            "\u001b[0;32m/anaconda/envs/azureml_py36/lib/python3.6/site-packages/sentence_transformers/SentenceTransformer.py\u001b[0m in \u001b[0;36m__init__\u001b[0;34m(self, model_name_or_path, modules, device)\u001b[0m\n\u001b[1;32m    112\u001b[0m                 \u001b[0;32mfor\u001b[0m \u001b[0mmodule_config\u001b[0m \u001b[0;32min\u001b[0m \u001b[0mcontained_modules\u001b[0m\u001b[0;34m:\u001b[0m\u001b[0;34m\u001b[0m\u001b[0;34m\u001b[0m\u001b[0m\n\u001b[1;32m    113\u001b[0m                     \u001b[0mmodule_class\u001b[0m \u001b[0;34m=\u001b[0m \u001b[0mimport_from_string\u001b[0m\u001b[0;34m(\u001b[0m\u001b[0mmodule_config\u001b[0m\u001b[0;34m[\u001b[0m\u001b[0;34m'type'\u001b[0m\u001b[0;34m]\u001b[0m\u001b[0;34m)\u001b[0m\u001b[0;34m\u001b[0m\u001b[0;34m\u001b[0m\u001b[0m\n\u001b[0;32m--> 114\u001b[0;31m                     \u001b[0mmodule\u001b[0m \u001b[0;34m=\u001b[0m \u001b[0mmodule_class\u001b[0m\u001b[0;34m.\u001b[0m\u001b[0mload\u001b[0m\u001b[0;34m(\u001b[0m\u001b[0mos\u001b[0m\u001b[0;34m.\u001b[0m\u001b[0mpath\u001b[0m\u001b[0;34m.\u001b[0m\u001b[0mjoin\u001b[0m\u001b[0;34m(\u001b[0m\u001b[0mmodel_path\u001b[0m\u001b[0;34m,\u001b[0m \u001b[0mmodule_config\u001b[0m\u001b[0;34m[\u001b[0m\u001b[0;34m'path'\u001b[0m\u001b[0;34m]\u001b[0m\u001b[0;34m)\u001b[0m\u001b[0;34m)\u001b[0m\u001b[0;34m\u001b[0m\u001b[0;34m\u001b[0m\u001b[0m\n\u001b[0m\u001b[1;32m    115\u001b[0m                     \u001b[0mmodules\u001b[0m\u001b[0;34m[\u001b[0m\u001b[0mmodule_config\u001b[0m\u001b[0;34m[\u001b[0m\u001b[0;34m'name'\u001b[0m\u001b[0;34m]\u001b[0m\u001b[0;34m]\u001b[0m \u001b[0;34m=\u001b[0m \u001b[0mmodule\u001b[0m\u001b[0;34m\u001b[0m\u001b[0;34m\u001b[0m\u001b[0m\n\u001b[1;32m    116\u001b[0m \u001b[0;34m\u001b[0m\u001b[0m\n",
            "\u001b[0;32m/anaconda/envs/azureml_py36/lib/python3.6/site-packages/sentence_transformers/models/Transformer.py\u001b[0m in \u001b[0;36mload\u001b[0;34m(input_path)\u001b[0m\n\u001b[1;32m    101\u001b[0m                 \u001b[0;32mbreak\u001b[0m\u001b[0;34m\u001b[0m\u001b[0;34m\u001b[0m\u001b[0m\n\u001b[1;32m    102\u001b[0m \u001b[0;34m\u001b[0m\u001b[0m\n\u001b[0;32m--> 103\u001b[0;31m         \u001b[0;32mwith\u001b[0m \u001b[0mopen\u001b[0m\u001b[0;34m(\u001b[0m\u001b[0msbert_config_path\u001b[0m\u001b[0;34m)\u001b[0m \u001b[0;32mas\u001b[0m \u001b[0mfIn\u001b[0m\u001b[0;34m:\u001b[0m\u001b[0;34m\u001b[0m\u001b[0;34m\u001b[0m\u001b[0m\n\u001b[0m\u001b[1;32m    104\u001b[0m             \u001b[0mconfig\u001b[0m \u001b[0;34m=\u001b[0m \u001b[0mjson\u001b[0m\u001b[0;34m.\u001b[0m\u001b[0mload\u001b[0m\u001b[0;34m(\u001b[0m\u001b[0mfIn\u001b[0m\u001b[0;34m)\u001b[0m\u001b[0;34m\u001b[0m\u001b[0;34m\u001b[0m\u001b[0m\n\u001b[1;32m    105\u001b[0m         \u001b[0;32mreturn\u001b[0m \u001b[0mTransformer\u001b[0m\u001b[0;34m(\u001b[0m\u001b[0mmodel_name_or_path\u001b[0m\u001b[0;34m=\u001b[0m\u001b[0minput_path\u001b[0m\u001b[0;34m,\u001b[0m \u001b[0;34m**\u001b[0m\u001b[0mconfig\u001b[0m\u001b[0;34m)\u001b[0m\u001b[0;34m\u001b[0m\u001b[0;34m\u001b[0m\u001b[0m\n",
            "\u001b[0;31mFileNotFoundError\u001b[0m: [Errno 2] No such file or directory: 'models/czywiesz-cds-bi-encoder/0_Transformer/sentence_xlnet_config.json'"
          ]
        }
      ],
      "execution_count": 20,
      "metadata": {
        "collapsed": true,
        "jupyter": {
          "outputs_hidden": true,
          "source_hidden": false
        },
        "nteract": {
          "transient": {
            "deleting": false
          }
        }
      }
    },
    {
      "cell_type": "code",
      "source": [
        "corpus_embeddings_for_czywiesz_cds_bi_encoder = czywiesz_cds_bi_encoder.encode(wiki['paragraph'].tolist()[:250000], show_progress_bar=True)"
      ],
      "outputs": [],
      "execution_count": null,
      "metadata": {
        "collapsed": true,
        "jupyter": {
          "outputs_hidden": true,
          "source_hidden": false
        },
        "nteract": {
          "transient": {
            "deleting": false
          }
        }
      }
    },
    {
      "cell_type": "code",
      "source": [
        "pickle.dump( corpus_embeddings_for_czywiesz_cds_bi_encoder, open( 'corpus_embeddings_for_czywiesz_cds_bi_encoder.pickle', 'wb' ))"
      ],
      "outputs": [],
      "execution_count": null,
      "metadata": {
        "collapsed": true,
        "jupyter": {
          "outputs_hidden": true,
          "source_hidden": false
        },
        "nteract": {
          "transient": {
            "deleting": false
          }
        }
      }
    }
  ],
  "metadata": {
    "colab": {
      "authorship_tag": "ABX9TyPOWt5380FG2fYPq08+2AoC",
      "collapsed_sections": [],
      "mount_file_id": "1oa__nRCpMTsJ_Pmf3y9E-WpXfwjWXR98",
      "name": "HTestOfModels.ipynb",
      "provenance": []
    },
    "kernel_info": {
      "name": "python3-azureml"
    },
    "kernelspec": {
      "name": "python3-azureml",
      "language": "python",
      "display_name": "Python 3.6 - AzureML"
    },
    "language_info": {
      "name": "python",
      "version": "3.6.9",
      "mimetype": "text/x-python",
      "codemirror_mode": {
        "name": "ipython",
        "version": 3
      },
      "pygments_lexer": "ipython3",
      "nbconvert_exporter": "python",
      "file_extension": ".py"
    },
    "nteract": {
      "version": "nteract-front-end@1.0.0"
    },
    "widgets": {
      "application/vnd.jupyter.widget-state+json": {
        "3ba487e233f8407798336a150580706a": {
          "model_module": "@jupyter-widgets/controls",
          "model_name": "ProgressStyleModel",
          "state": {
            "_view_module_version": "1.2.0",
            "_model_name": "ProgressStyleModel",
            "_model_module": "@jupyter-widgets/controls",
            "description_width": "initial",
            "_view_name": "StyleView",
            "_view_module": "@jupyter-widgets/base",
            "_view_count": null,
            "bar_color": null,
            "_model_module_version": "1.5.0"
          }
        },
        "898fd759b5cb4426ab40d3a38ae28c30": {
          "model_module": "@jupyter-widgets/controls",
          "model_name": "FloatProgressModel",
          "state": {
            "_view_module_version": "1.5.0",
            "description_tooltip": null,
            "_model_name": "FloatProgressModel",
            "_model_module": "@jupyter-widgets/controls",
            "max": 3125,
            "bar_style": "",
            "_view_name": "ProgressView",
            "_view_module": "@jupyter-widgets/controls",
            "_dom_classes": [],
            "layout": "IPY_MODEL_ae7826827cdd4682be1a421fd84774a2",
            "orientation": "horizontal",
            "value": 88,
            "style": "IPY_MODEL_3ba487e233f8407798336a150580706a",
            "min": 0,
            "_view_count": null,
            "_model_module_version": "1.5.0",
            "description": "Batches:   3%"
          }
        },
        "ae7826827cdd4682be1a421fd84774a2": {
          "model_module": "@jupyter-widgets/base",
          "model_name": "LayoutModel",
          "state": {
            "_view_module_version": "1.2.0",
            "_model_name": "LayoutModel",
            "grid_row": null,
            "_model_module": "@jupyter-widgets/base",
            "overflow": null,
            "max_height": null,
            "display": null,
            "grid_auto_flow": null,
            "grid_template_rows": null,
            "align_self": null,
            "grid_auto_columns": null,
            "width": null,
            "grid_area": null,
            "align_items": null,
            "_view_name": "LayoutView",
            "left": null,
            "height": null,
            "_view_module": "@jupyter-widgets/base",
            "object_position": null,
            "justify_content": null,
            "bottom": null,
            "max_width": null,
            "border": null,
            "margin": null,
            "order": null,
            "grid_column": null,
            "grid_auto_rows": null,
            "padding": null,
            "grid_template_columns": null,
            "justify_items": null,
            "object_fit": null,
            "visibility": null,
            "_view_count": null,
            "flex_flow": null,
            "min_height": null,
            "top": null,
            "min_width": null,
            "flex": null,
            "_model_module_version": "1.2.0",
            "grid_template_areas": null,
            "overflow_x": null,
            "right": null,
            "overflow_y": null,
            "grid_gap": null,
            "align_content": null
          }
        },
        "ca364ca9f1404d4c910e774a794057a6": {
          "model_module": "@jupyter-widgets/controls",
          "model_name": "DescriptionStyleModel",
          "state": {
            "_model_module": "@jupyter-widgets/controls",
            "_model_module_version": "1.5.0",
            "_model_name": "DescriptionStyleModel",
            "_view_count": null,
            "_view_module": "@jupyter-widgets/base",
            "_view_module_version": "1.2.0",
            "_view_name": "StyleView",
            "description_width": ""
          }
        },
        "cc916b49bdaf4cb1b8e81cc151ff8b96": {
          "model_module": "@jupyter-widgets/base",
          "model_name": "LayoutModel",
          "state": {
            "_view_module_version": "1.2.0",
            "_model_name": "LayoutModel",
            "grid_row": null,
            "_model_module": "@jupyter-widgets/base",
            "overflow": null,
            "max_height": null,
            "display": null,
            "grid_auto_flow": null,
            "grid_template_rows": null,
            "align_self": null,
            "grid_auto_columns": null,
            "width": null,
            "grid_area": null,
            "align_items": null,
            "_view_name": "LayoutView",
            "left": null,
            "height": null,
            "_view_module": "@jupyter-widgets/base",
            "object_position": null,
            "justify_content": null,
            "bottom": null,
            "max_width": null,
            "border": null,
            "margin": null,
            "order": null,
            "grid_column": null,
            "grid_auto_rows": null,
            "padding": null,
            "grid_template_columns": null,
            "justify_items": null,
            "object_fit": null,
            "visibility": null,
            "_view_count": null,
            "flex_flow": null,
            "min_height": null,
            "top": null,
            "min_width": null,
            "flex": null,
            "_model_module_version": "1.2.0",
            "grid_template_areas": null,
            "overflow_x": null,
            "right": null,
            "overflow_y": null,
            "grid_gap": null,
            "align_content": null
          }
        },
        "da1de9549169469f84c38bb7f5faf840": {
          "model_module": "@jupyter-widgets/controls",
          "model_name": "HTMLModel",
          "state": {
            "_view_module_version": "1.5.0",
            "description_tooltip": null,
            "_model_name": "HTMLModel",
            "_model_module": "@jupyter-widgets/controls",
            "_view_name": "HTMLView",
            "_view_module": "@jupyter-widgets/controls",
            "_dom_classes": [],
            "layout": "IPY_MODEL_cc916b49bdaf4cb1b8e81cc151ff8b96",
            "value": " 88/3125 [04:03&lt;2:40:35,  3.17s/it]",
            "style": "IPY_MODEL_ca364ca9f1404d4c910e774a794057a6",
            "placeholder": "​",
            "_view_count": null,
            "_model_module_version": "1.5.0",
            "description": ""
          }
        },
        "da519d86d1aa454ca9d6a8426369591c": {
          "model_module": "@jupyter-widgets/base",
          "model_name": "LayoutModel",
          "state": {
            "_view_module_version": "1.2.0",
            "_model_name": "LayoutModel",
            "grid_row": null,
            "_model_module": "@jupyter-widgets/base",
            "overflow": null,
            "max_height": null,
            "display": null,
            "grid_auto_flow": null,
            "grid_template_rows": null,
            "align_self": null,
            "grid_auto_columns": null,
            "width": null,
            "grid_area": null,
            "align_items": null,
            "_view_name": "LayoutView",
            "left": null,
            "height": null,
            "_view_module": "@jupyter-widgets/base",
            "object_position": null,
            "justify_content": null,
            "bottom": null,
            "max_width": null,
            "border": null,
            "margin": null,
            "order": null,
            "grid_column": null,
            "grid_auto_rows": null,
            "padding": null,
            "grid_template_columns": null,
            "justify_items": null,
            "object_fit": null,
            "visibility": null,
            "_view_count": null,
            "flex_flow": null,
            "min_height": null,
            "top": null,
            "min_width": null,
            "flex": null,
            "_model_module_version": "1.2.0",
            "grid_template_areas": null,
            "overflow_x": null,
            "right": null,
            "overflow_y": null,
            "grid_gap": null,
            "align_content": null
          }
        },
        "fc030d4741804bb1aa313ba84ab5bcfb": {
          "model_module": "@jupyter-widgets/controls",
          "model_name": "HBoxModel",
          "state": {
            "_view_module_version": "1.5.0",
            "_model_name": "HBoxModel",
            "_model_module": "@jupyter-widgets/controls",
            "_view_name": "HBoxView",
            "_view_module": "@jupyter-widgets/controls",
            "_dom_classes": [],
            "layout": "IPY_MODEL_da519d86d1aa454ca9d6a8426369591c",
            "_view_count": null,
            "_model_module_version": "1.5.0",
            "box_style": "",
            "children": [
              "IPY_MODEL_898fd759b5cb4426ab40d3a38ae28c30",
              "IPY_MODEL_da1de9549169469f84c38bb7f5faf840"
            ]
          }
        }
      }
    }
  },
  "nbformat": 4,
  "nbformat_minor": 4
}