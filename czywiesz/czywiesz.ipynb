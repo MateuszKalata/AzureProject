{
  "nbformat": 4,
  "nbformat_minor": 0,
  "metadata": {
    "colab": {
      "name": "czywiesz.ipynb",
      "provenance": [],
      "collapsed_sections": [],
      "toc_visible": true
    },
    "kernelspec": {
      "name": "python3",
      "display_name": "Python 3"
    },
    "accelerator": "GPU"
  },
  "cells": [
    {
      "cell_type": "code",
      "metadata": {
        "id": "PM6mM4ySLteo"
      },
      "source": [
        "import pandas as pd\r\n",
        "from urllib.parse import unquote\r\n",
        "import pickle\r\n",
        "import re\r\n",
        "import numpy as np"
      ],
      "execution_count": 4,
      "outputs": []
    },
    {
      "cell_type": "code",
      "metadata": {
        "colab": {
          "base_uri": "https://localhost:8080/"
        },
        "id": "-DeZ_y38gmpp",
        "outputId": "ae2efcc5-f373-4e23-8d3b-55f8e70ea2cb"
      },
      "source": [
        "!pip install sentence-transformers"
      ],
      "execution_count": 1,
      "outputs": [
        {
          "output_type": "stream",
          "text": [
            "Collecting sentence-transformers\n",
            "\u001b[?25l  Downloading https://files.pythonhosted.org/packages/6a/e2/84d6acfcee2d83164149778a33b6bdd1a74e1bcb59b2b2cd1b861359b339/sentence-transformers-0.4.1.2.tar.gz (64kB)\n",
            "\u001b[K     |████████████████████████████████| 71kB 8.9MB/s \n",
            "\u001b[?25hCollecting transformers<5.0.0,>=3.1.0\n",
            "\u001b[?25l  Downloading https://files.pythonhosted.org/packages/88/b1/41130a228dd656a1a31ba281598a968320283f48d42782845f6ba567f00b/transformers-4.2.2-py3-none-any.whl (1.8MB)\n",
            "\u001b[K     |████████████████████████████████| 1.8MB 24.0MB/s \n",
            "\u001b[?25hRequirement already satisfied: tqdm in /usr/local/lib/python3.6/dist-packages (from sentence-transformers) (4.41.1)\n",
            "Requirement already satisfied: torch>=1.6.0 in /usr/local/lib/python3.6/dist-packages (from sentence-transformers) (1.7.0+cu101)\n",
            "Requirement already satisfied: numpy in /usr/local/lib/python3.6/dist-packages (from sentence-transformers) (1.19.5)\n",
            "Requirement already satisfied: scikit-learn in /usr/local/lib/python3.6/dist-packages (from sentence-transformers) (0.22.2.post1)\n",
            "Requirement already satisfied: scipy in /usr/local/lib/python3.6/dist-packages (from sentence-transformers) (1.4.1)\n",
            "Requirement already satisfied: nltk in /usr/local/lib/python3.6/dist-packages (from sentence-transformers) (3.2.5)\n",
            "Collecting sentencepiece\n",
            "\u001b[?25l  Downloading https://files.pythonhosted.org/packages/14/67/e42bd1181472c95c8cda79305df848264f2a7f62740995a46945d9797b67/sentencepiece-0.1.95-cp36-cp36m-manylinux2014_x86_64.whl (1.2MB)\n",
            "\u001b[K     |████████████████████████████████| 1.2MB 56.4MB/s \n",
            "\u001b[?25hRequirement already satisfied: importlib-metadata; python_version < \"3.8\" in /usr/local/lib/python3.6/dist-packages (from transformers<5.0.0,>=3.1.0->sentence-transformers) (3.3.0)\n",
            "Requirement already satisfied: requests in /usr/local/lib/python3.6/dist-packages (from transformers<5.0.0,>=3.1.0->sentence-transformers) (2.23.0)\n",
            "Requirement already satisfied: regex!=2019.12.17 in /usr/local/lib/python3.6/dist-packages (from transformers<5.0.0,>=3.1.0->sentence-transformers) (2019.12.20)\n",
            "Collecting sacremoses\n",
            "\u001b[?25l  Downloading https://files.pythonhosted.org/packages/7d/34/09d19aff26edcc8eb2a01bed8e98f13a1537005d31e95233fd48216eed10/sacremoses-0.0.43.tar.gz (883kB)\n",
            "\u001b[K     |████████████████████████████████| 890kB 49.5MB/s \n",
            "\u001b[?25hCollecting tokenizers==0.9.4\n",
            "\u001b[?25l  Downloading https://files.pythonhosted.org/packages/0f/1c/e789a8b12e28be5bc1ce2156cf87cb522b379be9cadc7ad8091a4cc107c4/tokenizers-0.9.4-cp36-cp36m-manylinux2010_x86_64.whl (2.9MB)\n",
            "\u001b[K     |████████████████████████████████| 2.9MB 49.6MB/s \n",
            "\u001b[?25hRequirement already satisfied: dataclasses; python_version < \"3.7\" in /usr/local/lib/python3.6/dist-packages (from transformers<5.0.0,>=3.1.0->sentence-transformers) (0.8)\n",
            "Requirement already satisfied: filelock in /usr/local/lib/python3.6/dist-packages (from transformers<5.0.0,>=3.1.0->sentence-transformers) (3.0.12)\n",
            "Requirement already satisfied: packaging in /usr/local/lib/python3.6/dist-packages (from transformers<5.0.0,>=3.1.0->sentence-transformers) (20.8)\n",
            "Requirement already satisfied: future in /usr/local/lib/python3.6/dist-packages (from torch>=1.6.0->sentence-transformers) (0.16.0)\n",
            "Requirement already satisfied: typing-extensions in /usr/local/lib/python3.6/dist-packages (from torch>=1.6.0->sentence-transformers) (3.7.4.3)\n",
            "Requirement already satisfied: joblib>=0.11 in /usr/local/lib/python3.6/dist-packages (from scikit-learn->sentence-transformers) (1.0.0)\n",
            "Requirement already satisfied: six in /usr/local/lib/python3.6/dist-packages (from nltk->sentence-transformers) (1.15.0)\n",
            "Requirement already satisfied: zipp>=0.5 in /usr/local/lib/python3.6/dist-packages (from importlib-metadata; python_version < \"3.8\"->transformers<5.0.0,>=3.1.0->sentence-transformers) (3.4.0)\n",
            "Requirement already satisfied: idna<3,>=2.5 in /usr/local/lib/python3.6/dist-packages (from requests->transformers<5.0.0,>=3.1.0->sentence-transformers) (2.10)\n",
            "Requirement already satisfied: chardet<4,>=3.0.2 in /usr/local/lib/python3.6/dist-packages (from requests->transformers<5.0.0,>=3.1.0->sentence-transformers) (3.0.4)\n",
            "Requirement already satisfied: urllib3!=1.25.0,!=1.25.1,<1.26,>=1.21.1 in /usr/local/lib/python3.6/dist-packages (from requests->transformers<5.0.0,>=3.1.0->sentence-transformers) (1.24.3)\n",
            "Requirement already satisfied: certifi>=2017.4.17 in /usr/local/lib/python3.6/dist-packages (from requests->transformers<5.0.0,>=3.1.0->sentence-transformers) (2020.12.5)\n",
            "Requirement already satisfied: click in /usr/local/lib/python3.6/dist-packages (from sacremoses->transformers<5.0.0,>=3.1.0->sentence-transformers) (7.1.2)\n",
            "Requirement already satisfied: pyparsing>=2.0.2 in /usr/local/lib/python3.6/dist-packages (from packaging->transformers<5.0.0,>=3.1.0->sentence-transformers) (2.4.7)\n",
            "Building wheels for collected packages: sentence-transformers, sacremoses\n",
            "  Building wheel for sentence-transformers (setup.py) ... \u001b[?25l\u001b[?25hdone\n",
            "  Created wheel for sentence-transformers: filename=sentence_transformers-0.4.1.2-cp36-none-any.whl size=103068 sha256=9125f2e8d8a62bcba5694650c58a08f4b5673e3b1bfb025ad1fb0a34778b03b8\n",
            "  Stored in directory: /root/.cache/pip/wheels/3d/33/d1/5703dd56199c09d4a1b41e0c07fb4e7765a84d787cbdc48ac3\n",
            "  Building wheel for sacremoses (setup.py) ... \u001b[?25l\u001b[?25hdone\n",
            "  Created wheel for sacremoses: filename=sacremoses-0.0.43-cp36-none-any.whl size=893261 sha256=d14701cd244e8da4453ae89ede8fd87df374f7fe82faabaf171e8f54238cd29f\n",
            "  Stored in directory: /root/.cache/pip/wheels/29/3c/fd/7ce5c3f0666dab31a50123635e6fb5e19ceb42ce38d4e58f45\n",
            "Successfully built sentence-transformers sacremoses\n",
            "Installing collected packages: sacremoses, tokenizers, transformers, sentencepiece, sentence-transformers\n",
            "Successfully installed sacremoses-0.0.43 sentence-transformers-0.4.1.2 sentencepiece-0.1.95 tokenizers-0.9.4 transformers-4.2.2\n"
          ],
          "name": "stdout"
        }
      ]
    },
    {
      "cell_type": "code",
      "metadata": {
        "id": "J-T_XXmOgoag"
      },
      "source": [
        "from sentence_transformers import SentenceTransformer\r\n",
        "from sentence_transformers.util import semantic_search"
      ],
      "execution_count": 2,
      "outputs": []
    },
    {
      "cell_type": "code",
      "metadata": {
        "id": "Zxx_MElHLwG-"
      },
      "source": [
        "with open('/content/drive/MyDrive/czywieszki/questions_links.txt', 'r') as f:\r\n",
        "  questions = f.read() "
      ],
      "execution_count": null,
      "outputs": []
    },
    {
      "cell_type": "code",
      "metadata": {
        "colab": {
          "base_uri": "https://localhost:8080/"
        },
        "id": "oO1VZo7sML4l",
        "outputId": "ac173cd0-1ef4-4173-ef46-e8a8ce60b83b"
      },
      "source": [
        "questions = questions.split('\\n')\r\n",
        "questions = [q.split(';') for q in questions]\r\n",
        "questions[:10]"
      ],
      "execution_count": null,
      "outputs": [
        {
          "output_type": "execute_result",
          "data": {
            "text/plain": [
              "[['kto używał noża bojowego M3?',\n",
              "  'http://pl.wikipedia.org/wiki/N%C3%B3%C5%BC_bojowy_M3'],\n",
              " ['jaki los spotkał sosnę Sosienkę z Brzezia, dzielnicy Raciborza?',\n",
              "  'http://pl.wikipedia.org/wiki/Sosienka'],\n",
              " ['ile kontenerów w ciągu roku przeładowuje się w porcie Keelung na Tajwanie?',\n",
              "  'http://pl.wikipedia.org/wiki/Port_Keelung'],\n",
              " ['jak zakończyła się pierwsza bitwa morska wojny koreańskiej?',\n",
              "  'http://pl.wikipedia.org/wiki/Bitwa_pod_Pusanem'],\n",
              " ['w jaki sposób zasilane są łaziki służące do badania planet i ich księżyców?',\n",
              "  'http://pl.wikipedia.org/wiki/%C5%81azik_(badania_kosmosu)'],\n",
              " ['czy Cyryl Lukaris sympatyzował z kalwinizmem?',\n",
              "  'http://pl.wikipedia.org/wiki/Cyryl_Lukaris'],\n",
              " ['kto stworzył pierwsze graficzne przedstawienie centrum dzisiejszych Katowic?',\n",
              "  'http://pl.wikipedia.org/wiki/Ernest_Knippel'],\n",
              " ['jakie implikacje dla potencjalnego życia pozaziemskiego ma bakteria GFAJ-1?',\n",
              "  'http://pl.wikipedia.org/wiki/GFAJ-1'],\n",
              " ['co stało się przyczyną zamieszek w Grodzisku Dolnym w 1933?',\n",
              "  'http://pl.wikipedia.org/wiki/Zamieszki_w_Grodzisku_Dolnym'],\n",
              " ['żołnierze z ilu krajów są pochowani na cmentarzu wojennym nr 304?',\n",
              "  'http://pl.wikipedia.org/wiki/Cmentarz_wojenny_nr_304_-_%C5%81%C4%85kta_G%C3%B3rna']]"
            ]
          },
          "metadata": {
            "tags": []
          },
          "execution_count": 3
        }
      ]
    },
    {
      "cell_type": "code",
      "metadata": {
        "id": "yRXhuLHXQam0"
      },
      "source": [
        "titles = [unquote(q[1]).split('/')[-1] for q in questions if len(q) == 2]"
      ],
      "execution_count": null,
      "outputs": []
    },
    {
      "cell_type": "code",
      "metadata": {
        "id": "JsBf2t2YRSMS"
      },
      "source": [
        "df = pickle.load( open( '/content/drive/MyDrive/Wikipedia/wikipedia.pickle', 'rb' ))"
      ],
      "execution_count": null,
      "outputs": []
    },
    {
      "cell_type": "code",
      "metadata": {
        "colab": {
          "base_uri": "https://localhost:8080/",
          "height": 206
        },
        "id": "spsLWV9hR9tC",
        "outputId": "50d2734c-dd35-4cba-dd63-e423a25f54f7"
      },
      "source": [
        "df.head()"
      ],
      "execution_count": null,
      "outputs": [
        {
          "output_type": "execute_result",
          "data": {
            "text/html": [
              "<div>\n",
              "<style scoped>\n",
              "    .dataframe tbody tr th:only-of-type {\n",
              "        vertical-align: middle;\n",
              "    }\n",
              "\n",
              "    .dataframe tbody tr th {\n",
              "        vertical-align: top;\n",
              "    }\n",
              "\n",
              "    .dataframe thead th {\n",
              "        text-align: right;\n",
              "    }\n",
              "</style>\n",
              "<table border=\"1\" class=\"dataframe\">\n",
              "  <thead>\n",
              "    <tr style=\"text-align: right;\">\n",
              "      <th></th>\n",
              "      <th>id</th>\n",
              "      <th>url</th>\n",
              "      <th>title</th>\n",
              "      <th>text</th>\n",
              "    </tr>\n",
              "  </thead>\n",
              "  <tbody>\n",
              "    <tr>\n",
              "      <th>0</th>\n",
              "      <td>2069101</td>\n",
              "      <td>http://pl.wikipedia.org/wiki/?curid=2069101</td>\n",
              "      <td>Parafia Matki Bożej Miłosierdzia Ostrobamskiej...</td>\n",
              "      <td>Parafia Matki Bożej Miłosierdzia - Matki Bożej...</td>\n",
              "    </tr>\n",
              "    <tr>\n",
              "      <th>1</th>\n",
              "      <td>2069102</td>\n",
              "      <td>http://pl.wikipedia.org/wiki/?curid=2069102</td>\n",
              "      <td>Parafia Wniebowzięcia Najświętszej Maryi Panny...</td>\n",
              "      <td>Parafia pw. Wniebowzięcia Najświętszej Maryi P...</td>\n",
              "    </tr>\n",
              "    <tr>\n",
              "      <th>2</th>\n",
              "      <td>2069104</td>\n",
              "      <td>http://pl.wikipedia.org/wiki/?curid=2069104</td>\n",
              "      <td>Parafia Matki Bożej Częstochowskiej w Wilamowie</td>\n",
              "      <td>Parafia Matki Bożej Częstochowskiej w Wilamowi...</td>\n",
              "    </tr>\n",
              "    <tr>\n",
              "      <th>3</th>\n",
              "      <td>2069107</td>\n",
              "      <td>http://pl.wikipedia.org/wiki/?curid=2069107</td>\n",
              "      <td>Parafia św. Tomasza Apostoła w Rybotyczach</td>\n",
              "      <td>Parafia pw. Świętego Tomasza Apostoła w Ryboty...</td>\n",
              "    </tr>\n",
              "    <tr>\n",
              "      <th>4</th>\n",
              "      <td>2069108</td>\n",
              "      <td>http://pl.wikipedia.org/wiki/?curid=2069108</td>\n",
              "      <td>Ił-78</td>\n",
              "      <td>Ił-78 – rosyjski powietrzny tankowiec (ros. \"И...</td>\n",
              "    </tr>\n",
              "  </tbody>\n",
              "</table>\n",
              "</div>"
            ],
            "text/plain": [
              "        id  ...                                               text\n",
              "0  2069101  ...  Parafia Matki Bożej Miłosierdzia - Matki Bożej...\n",
              "1  2069102  ...  Parafia pw. Wniebowzięcia Najświętszej Maryi P...\n",
              "2  2069104  ...  Parafia Matki Bożej Częstochowskiej w Wilamowi...\n",
              "3  2069107  ...  Parafia pw. Świętego Tomasza Apostoła w Ryboty...\n",
              "4  2069108  ...  Ił-78 – rosyjski powietrzny tankowiec (ros. \"И...\n",
              "\n",
              "[5 rows x 4 columns]"
            ]
          },
          "metadata": {
            "tags": []
          },
          "execution_count": 6
        }
      ]
    },
    {
      "cell_type": "code",
      "metadata": {
        "id": "5P0l6e04SOzZ"
      },
      "source": [
        "titles = [re.sub('_', ' ', title) for title in titles]"
      ],
      "execution_count": null,
      "outputs": []
    },
    {
      "cell_type": "code",
      "metadata": {
        "id": "H9np9vfiTGyk"
      },
      "source": [
        "questions = [q[0] for q in questions if len(q) == 2]"
      ],
      "execution_count": null,
      "outputs": []
    },
    {
      "cell_type": "code",
      "metadata": {
        "colab": {
          "base_uri": "https://localhost:8080/"
        },
        "id": "mGxbsJKSScs6",
        "outputId": "e62b725b-0cdd-493d-a5b9-91196601e261"
      },
      "source": [
        "df_titles = df['title'].tolist()\r\n",
        "count = 0\r\n",
        "for i in range(len(titles)):\r\n",
        "  title = titles[i]\r\n",
        "  if i % 100 == 0:\r\n",
        "    print(i, 'from', len(titles), 'count', count)\r\n",
        "  mask = df['title'] == title\r\n",
        "  if mask.sum() > 0:\r\n",
        "    idx = df.index[mask][0]\r\n",
        "    question = questions[i]\r\n",
        "    df.loc[mask, 'question'] = question\r\n",
        "    count += 1"
      ],
      "execution_count": null,
      "outputs": [
        {
          "output_type": "stream",
          "text": [
            "0 from 4996 count 0\n",
            "100 from 4996 count 97\n",
            "200 from 4996 count 188\n",
            "300 from 4996 count 285\n",
            "400 from 4996 count 380\n",
            "500 from 4996 count 477\n",
            "600 from 4996 count 574\n",
            "700 from 4996 count 672\n",
            "800 from 4996 count 772\n",
            "900 from 4996 count 867\n",
            "1000 from 4996 count 964\n",
            "1100 from 4996 count 1059\n",
            "1200 from 4996 count 1158\n",
            "1300 from 4996 count 1253\n",
            "1400 from 4996 count 1350\n",
            "1500 from 4996 count 1450\n",
            "1600 from 4996 count 1550\n",
            "1700 from 4996 count 1646\n",
            "1800 from 4996 count 1746\n",
            "1900 from 4996 count 1842\n",
            "2000 from 4996 count 1940\n",
            "2100 from 4996 count 2037\n",
            "2200 from 4996 count 2132\n",
            "2300 from 4996 count 2232\n",
            "2400 from 4996 count 2331\n",
            "2500 from 4996 count 2431\n",
            "2600 from 4996 count 2529\n",
            "2700 from 4996 count 2629\n",
            "2800 from 4996 count 2723\n",
            "2900 from 4996 count 2820\n",
            "3000 from 4996 count 2918\n",
            "3100 from 4996 count 3018\n",
            "3200 from 4996 count 3117\n",
            "3300 from 4996 count 3216\n",
            "3400 from 4996 count 3315\n",
            "3500 from 4996 count 3414\n",
            "3600 from 4996 count 3514\n",
            "3700 from 4996 count 3583\n",
            "3800 from 4996 count 3679\n",
            "3900 from 4996 count 3777\n",
            "4000 from 4996 count 3871\n",
            "4100 from 4996 count 3967\n",
            "4200 from 4996 count 4064\n",
            "4300 from 4996 count 4160\n",
            "4400 from 4996 count 4250\n",
            "4500 from 4996 count 4345\n",
            "4600 from 4996 count 4440\n",
            "4700 from 4996 count 4535\n",
            "4800 from 4996 count 4630\n",
            "4900 from 4996 count 4728\n"
          ],
          "name": "stdout"
        }
      ]
    },
    {
      "cell_type": "code",
      "metadata": {
        "colab": {
          "base_uri": "https://localhost:8080/"
        },
        "id": "EnsT2fWKZhtx",
        "outputId": "cc697713-b39e-4f06-c3ed-1a255827e435"
      },
      "source": [
        "count"
      ],
      "execution_count": null,
      "outputs": [
        {
          "output_type": "execute_result",
          "data": {
            "text/plain": [
              "4821"
            ]
          },
          "metadata": {
            "tags": []
          },
          "execution_count": 10
        }
      ]
    },
    {
      "cell_type": "code",
      "metadata": {
        "id": "HHjfimMLYWZ1"
      },
      "source": [
        "mask = df['question'].isna()"
      ],
      "execution_count": null,
      "outputs": []
    },
    {
      "cell_type": "code",
      "metadata": {
        "colab": {
          "base_uri": "https://localhost:8080/"
        },
        "id": "8Pxk2fG3YYMw",
        "outputId": "971fe89d-c671-4ba1-e0d2-21381bba56e5"
      },
      "source": [
        "mask.sum()"
      ],
      "execution_count": null,
      "outputs": [
        {
          "output_type": "execute_result",
          "data": {
            "text/plain": [
              "890669"
            ]
          },
          "metadata": {
            "tags": []
          },
          "execution_count": 92
        }
      ]
    },
    {
      "cell_type": "code",
      "metadata": {
        "colab": {
          "base_uri": "https://localhost:8080/"
        },
        "id": "mrR3Jo0PYird",
        "outputId": "d2edc4aa-3126-4218-8868-abbf2a10ea4c"
      },
      "source": [
        "pd.set_option('display.max_colwidth', -1)"
      ],
      "execution_count": null,
      "outputs": [
        {
          "output_type": "stream",
          "text": [
            "/usr/local/lib/python3.6/dist-packages/ipykernel_launcher.py:1: FutureWarning: Passing a negative integer is deprecated in version 1.0 and will not be supported in future version. Instead, use None to not limit the column width.\n",
            "  \"\"\"Entry point for launching an IPython kernel.\n"
          ],
          "name": "stderr"
        }
      ]
    },
    {
      "cell_type": "code",
      "metadata": {
        "colab": {
          "base_uri": "https://localhost:8080/",
          "height": 206
        },
        "id": "a97jx9EvVrb5",
        "outputId": "f368b5b2-db22-45dd-ae48-74bc8e738976"
      },
      "source": [
        "df.loc[~mask].head()"
      ],
      "execution_count": null,
      "outputs": [
        {
          "output_type": "execute_result",
          "data": {
            "text/html": [
              "<div>\n",
              "<style scoped>\n",
              "    .dataframe tbody tr th:only-of-type {\n",
              "        vertical-align: middle;\n",
              "    }\n",
              "\n",
              "    .dataframe tbody tr th {\n",
              "        vertical-align: top;\n",
              "    }\n",
              "\n",
              "    .dataframe thead th {\n",
              "        text-align: right;\n",
              "    }\n",
              "</style>\n",
              "<table border=\"1\" class=\"dataframe\">\n",
              "  <thead>\n",
              "    <tr style=\"text-align: right;\">\n",
              "      <th></th>\n",
              "      <th>id</th>\n",
              "      <th>url</th>\n",
              "      <th>title</th>\n",
              "      <th>text</th>\n",
              "      <th>question</th>\n",
              "    </tr>\n",
              "  </thead>\n",
              "  <tbody>\n",
              "    <tr>\n",
              "      <th>0</th>\n",
              "      <td>2069101</td>\n",
              "      <td>http://pl.wikipedia.org/wiki/?curid=2069101</td>\n",
              "      <td>Parafia Matki Bożej Miłosierdzia Ostrobamskiej...</td>\n",
              "      <td>Parafia Matki Bożej Miłosierdzia - Matki Bożej...</td>\n",
              "      <td>NaN</td>\n",
              "    </tr>\n",
              "    <tr>\n",
              "      <th>1</th>\n",
              "      <td>2069102</td>\n",
              "      <td>http://pl.wikipedia.org/wiki/?curid=2069102</td>\n",
              "      <td>Parafia Wniebowzięcia Najświętszej Maryi Panny...</td>\n",
              "      <td>Parafia pw. Wniebowzięcia Najświętszej Maryi P...</td>\n",
              "      <td>NaN</td>\n",
              "    </tr>\n",
              "    <tr>\n",
              "      <th>2</th>\n",
              "      <td>2069104</td>\n",
              "      <td>http://pl.wikipedia.org/wiki/?curid=2069104</td>\n",
              "      <td>Parafia Matki Bożej Częstochowskiej w Wilamowie</td>\n",
              "      <td>Parafia Matki Bożej Częstochowskiej w Wilamowi...</td>\n",
              "      <td>NaN</td>\n",
              "    </tr>\n",
              "    <tr>\n",
              "      <th>3</th>\n",
              "      <td>2069107</td>\n",
              "      <td>http://pl.wikipedia.org/wiki/?curid=2069107</td>\n",
              "      <td>Parafia św. Tomasza Apostoła w Rybotyczach</td>\n",
              "      <td>Parafia pw. Świętego Tomasza Apostoła w Ryboty...</td>\n",
              "      <td>NaN</td>\n",
              "    </tr>\n",
              "    <tr>\n",
              "      <th>4</th>\n",
              "      <td>2069108</td>\n",
              "      <td>http://pl.wikipedia.org/wiki/?curid=2069108</td>\n",
              "      <td>Ił-78</td>\n",
              "      <td>Ił-78 – rosyjski powietrzny tankowiec (ros. \"И...</td>\n",
              "      <td>NaN</td>\n",
              "    </tr>\n",
              "  </tbody>\n",
              "</table>\n",
              "</div>"
            ],
            "text/plain": [
              "        id  ... question\n",
              "0  2069101  ...      NaN\n",
              "1  2069102  ...      NaN\n",
              "2  2069104  ...      NaN\n",
              "3  2069107  ...      NaN\n",
              "4  2069108  ...      NaN\n",
              "\n",
              "[5 rows x 5 columns]"
            ]
          },
          "metadata": {
            "tags": []
          },
          "execution_count": 11
        }
      ]
    },
    {
      "cell_type": "markdown",
      "metadata": {
        "id": "QYxY09rmhzzW"
      },
      "source": [
        "# Searching for answers"
      ]
    },
    {
      "cell_type": "code",
      "metadata": {
        "id": "W8GPq4zB3DOz"
      },
      "source": [
        "full = pd.read_csv('/content/drive/MyDrive/czywieszki/answers.csv')"
      ],
      "execution_count": 5,
      "outputs": []
    },
    {
      "cell_type": "code",
      "metadata": {
        "id": "HIhaKiDNOG1S",
        "colab": {
          "base_uri": "https://localhost:8080/"
        },
        "outputId": "fa4ee790-eb52-41e8-82dc-9e23ef84cc34"
      },
      "source": [
        "model = SentenceTransformer('paraphrase-xlm-r-multilingual-v1')"
      ],
      "execution_count": 6,
      "outputs": [
        {
          "output_type": "stream",
          "text": [
            "100%|██████████| 1.01G/1.01G [00:33<00:00, 30.6MB/s]\n"
          ],
          "name": "stderr"
        }
      ]
    },
    {
      "cell_type": "code",
      "metadata": {
        "colab": {
          "base_uri": "https://localhost:8080/",
          "height": 293
        },
        "id": "ncrWZY_Oh-oK",
        "outputId": "79619567-6c10-4fcb-8fb2-ccbbe5343570"
      },
      "source": [
        "full = df.loc[~mask]\r\n",
        "full.reset_index(drop=True, inplace=True)\r\n",
        "full.head()"
      ],
      "execution_count": null,
      "outputs": [
        {
          "output_type": "execute_result",
          "data": {
            "text/html": [
              "<div>\n",
              "<style scoped>\n",
              "    .dataframe tbody tr th:only-of-type {\n",
              "        vertical-align: middle;\n",
              "    }\n",
              "\n",
              "    .dataframe tbody tr th {\n",
              "        vertical-align: top;\n",
              "    }\n",
              "\n",
              "    .dataframe thead th {\n",
              "        text-align: right;\n",
              "    }\n",
              "</style>\n",
              "<table border=\"1\" class=\"dataframe\">\n",
              "  <thead>\n",
              "    <tr style=\"text-align: right;\">\n",
              "      <th></th>\n",
              "      <th>id</th>\n",
              "      <th>url</th>\n",
              "      <th>title</th>\n",
              "      <th>text</th>\n",
              "      <th>question</th>\n",
              "    </tr>\n",
              "  </thead>\n",
              "  <tbody>\n",
              "    <tr>\n",
              "      <th>0</th>\n",
              "      <td>2070375</td>\n",
              "      <td>http://pl.wikipedia.org/wiki/?curid=2070375</td>\n",
              "      <td>R136a1</td>\n",
              "      <td>R136a1 – gwiazda Wolfa-Rayeta typu widmowego W...</td>\n",
              "      <td>gdzie zaobserwowano najmasywniejszą znaną gwia...</td>\n",
              "    </tr>\n",
              "    <tr>\n",
              "      <th>1</th>\n",
              "      <td>2070656</td>\n",
              "      <td>http://pl.wikipedia.org/wiki/?curid=2070656</td>\n",
              "      <td>Apoteoza wojny</td>\n",
              "      <td>Apoteoza wojny (oryg. ros. Апофеоз войны, \"Apo...</td>\n",
              "      <td>komu Wasilij Wierieszczagin zadedykował swój o...</td>\n",
              "    </tr>\n",
              "    <tr>\n",
              "      <th>2</th>\n",
              "      <td>2070790</td>\n",
              "      <td>http://pl.wikipedia.org/wiki/?curid=2070790</td>\n",
              "      <td>Widzenie chłopca Bartłomieja</td>\n",
              "      <td>Widzenie chłopca Bartłomieja (oryg. ros. \"Виде...</td>\n",
              "      <td>który święty prawosławny został ukazany na obr...</td>\n",
              "    </tr>\n",
              "    <tr>\n",
              "      <th>3</th>\n",
              "      <td>2071346</td>\n",
              "      <td>http://pl.wikipedia.org/wiki/?curid=2071346</td>\n",
              "      <td>Cangjang Gjaco</td>\n",
              "      <td>Cangjang Gjaco (tyb. ཚང་དབྱངས་རྒྱ་མཚོ་ Wylie: ...</td>\n",
              "      <td>któremu dalajlamie przypisuje się nieśmierteln...</td>\n",
              "    </tr>\n",
              "    <tr>\n",
              "      <th>4</th>\n",
              "      <td>2071390</td>\n",
              "      <td>http://pl.wikipedia.org/wiki/?curid=2071390</td>\n",
              "      <td>Wojna erytrejsko-etiopska</td>\n",
              "      <td>Wojna erytrejsko-etiopska trwała w latach 1998...</td>\n",
              "      <td>jakie były skutki wojny erytrejsko-etiopskiej?</td>\n",
              "    </tr>\n",
              "  </tbody>\n",
              "</table>\n",
              "</div>"
            ],
            "text/plain": [
              "        id  ...                                           question\n",
              "0  2070375  ...  gdzie zaobserwowano najmasywniejszą znaną gwia...\n",
              "1  2070656  ...  komu Wasilij Wierieszczagin zadedykował swój o...\n",
              "2  2070790  ...  który święty prawosławny został ukazany na obr...\n",
              "3  2071346  ...  któremu dalajlamie przypisuje się nieśmierteln...\n",
              "4  2071390  ...     jakie były skutki wojny erytrejsko-etiopskiej?\n",
              "\n",
              "[5 rows x 5 columns]"
            ]
          },
          "metadata": {
            "tags": []
          },
          "execution_count": 34
        }
      ]
    },
    {
      "cell_type": "code",
      "metadata": {
        "colab": {
          "base_uri": "https://localhost:8080/",
          "height": 148
        },
        "id": "N1B3xt2Oiz3v",
        "outputId": "293b567f-7688-4b09-ffbc-db26c8d5fcf3"
      },
      "source": [
        "full.loc[0, 'text']"
      ],
      "execution_count": null,
      "outputs": [
        {
          "output_type": "execute_result",
          "data": {
            "application/vnd.google.colaboratory.intrinsic+json": {
              "type": "string"
            },
            "text/plain": [
              "\"R136a1 – gwiazda Wolfa-Rayeta typu widmowego WN o masie równej 265M☉. Ulokowana w gromadzie R136, w mgławicy 30 Doradus (Tarantula), zlokalizowanej w Wielkim Obłoku Magellana.\\nJest to obecnie (sierpień 2010) najmasywniejsza znana gwiazda. Intensywnie traci ona materię na skutek emisji wiatru gwiazdowego. Odkrywcy szacują, że w chwili powstania mogła mieć masę sięgającą 320 mas Słońca. R136a1 jest też niezwykle jasna, jej całkowita jasność jest 8,7 mln razy większa od jasności Słońca.\\nHistoria odkrycia.\\nW roku 1960 grupa astronomów pracujących w Obserwatorium Radcliffe w Pretorii dokonała systematycznych pomiarów jasności i widm jasnych gwiazd w Wielkim Obłoku Magellana. Wśród skatalogowanych przez nich obiektów znalazła się, pod numerem R136, centralna „gwiazda” mgławicy 30 Doradus, w katalogu HD oznaczona numerem HD 38268. W uwagach do tej obserwacji zaznaczono, że obiekt jest „prawdopodobnie złożony”. Późniejsze obserwacje pokazały, że R136, położony w centrum gigantycznego obszaru H II tworzącego mgławicę, jest ośrodkiem intensywnego tworzenia gwiazd, w bezpośrednim jego sąsiedztwie zaobserwowano bardzo młode (poniżej 10 mln lat) gwiazdy. \\nW roku 1979 za pomocą 3,6-metrowego teleskopu obserwatorium ESO udało się rozdzielić obraz R136 na trzy obiekty, oznaczone R136a, R136b i R136c. Dokładna natura najjaśniejszego z nich, R136a, pozostawała jednak niewyjaśniona i była obiektem intensywnych dyskusji, przypuszczano, że może to być bardzo gęsta gromada gwiazd albo młoda supermasywna gwiazda o masie kilku tysięcy mas Słońca. Wiadomo było, że obiekt jest zwarty (o rozmiarach mniejszych od 0,4 pc), niezwykle jasny i praktycznie samodzielnie odpowiedzialny za całą jonizację mgławicy.\\nPierwszego obserwacyjnego dowodu na to, że R136a jest istotnie gromadą gwiazd, dostarczyli Weigelt i Beier w roku 1985. Stosując technikę interferometrii plamkowej wyróżnili oni 8 gwiazd składających się na R136a, nadając im oznaczenia od R136a1 do R136a8. Ostateczne potwierdzenie natury R136a przyszło po wystrzeleniu Kosmicznego Teleskopu Hubble'a. Na uzyskanych dzięki niemu zdjęciach można było bezpośrednio rozróżnić kilkadziesiąt gwiazd wchodzących w skład gromady i zmierzyć widma największych z nich. Okazały się one dla astronomów zaskakujące – widma były podobne do widm klasycznych gwiazd Wolfa-Rayeta, ale należały ewidentnie do obiektów dużo młodszych od typowych gwiazd W-R i zawierających więcej wodoru.\\nW roku 2010 zespół astronomów kierowany przez Paula Crowthera z Uniwersytetu w Sheffield z Wielkiej Brytanii dokonał precyzyjnych obserwacji najjaśniejszych gwiazd należących do R136. Do obserwacji użyty został Teleskop VLT należący do Europejskiego Obserwatorium Południowego (ESO). Naukowcy korzystali również z archiwalnych danych z Kosmicznego Teleskopu Hubble'a. Mierzono widma i jasności czterech najjaśniejszych gwiazd w gromadzie (wszystkich tego samego typu widmowego WN5h): R136a1, R136a2, R136a3 i R136c. Staranna analiza tych pomiarów z użyciem modeli ewolucji gwiazd pokazała, że są to młode gwiazdy, których masy łamią granicę 150 mas Słońca, uważaną dotychczas za górną granicę masy gwiazdy (tzw. granica Eddingtona). Najmasywniejszą i najbardziej jaskrawą okazała się R136a1.\\nWłasności.\\nWiek gromady R136, a więc i wchodzących w jej skład gwiazd, wynosi 1,7±0,2\\xa0mln lat. Obecna masa R136a1 wynosi ok. 265 mas Słońca. Gwiazda traci przez wiatr gwiazdowy ok. 0,005% masy Słońca na rok. Jej początkowa masa została oszacowana na podstawie analizy modelowej na 320 mas Słońca. Rozmiar gwiazdy to około 35 promieni Słońca. Temperatura powierzchni wynosi 53000±3000\\xa0K, oznacza to, że ogromna większość energii gwiazdy jest wypromieniowywana w zakresie ultrafioletowym. Całkowita wypromieniowywana energia jest około 8,7 mln razy większa od energii promieniowania Słońca.\\nOdkrywcy nie wykluczają, że R136a1 może być w rzeczywistości układem podwójnym. Jednak nawet jeżeli tak jest, to musi być to układ o znacznej różnicy mas pomiędzy obydwoma składnikami, w przeciwnym razie bowiem byłby źródłem silnego promieniowania rentgenowskiego powstającego w zderzeniu wiatrów gwiazdowych obydwu składników. Tak więc nawet ewentualna podwójność R136a1 nie zmienia wniosku, że jej główny składnik jest niezwykle masywny.\\n\""
            ]
          },
          "metadata": {
            "tags": []
          },
          "execution_count": 20
        }
      ]
    },
    {
      "cell_type": "code",
      "metadata": {
        "colab": {
          "base_uri": "https://localhost:8080/"
        },
        "id": "tz2fpMVnjI72",
        "outputId": "dcf76d30-2d05-4a9b-f28a-8ba373031641"
      },
      "source": [
        "from nltk import tokenize\r\n",
        "import nltk.data\r\n",
        "nltk.download('punkt')\r\n",
        "import itertools"
      ],
      "execution_count": 7,
      "outputs": [
        {
          "output_type": "stream",
          "text": [
            "[nltk_data] Downloading package punkt to /root/nltk_data...\n",
            "[nltk_data]   Unzipping tokenizers/punkt.zip.\n"
          ],
          "name": "stdout"
        }
      ]
    },
    {
      "cell_type": "code",
      "metadata": {
        "id": "N36_LVfx3swh"
      },
      "source": [
        "tokenizer = nltk.data.load('tokenizers/punkt/polish.pickle')"
      ],
      "execution_count": 8,
      "outputs": []
    },
    {
      "cell_type": "code",
      "metadata": {
        "id": "g_jqgbs5swhe"
      },
      "source": [
        "def text2sent(text):\r\n",
        "  threshold = 5\r\n",
        "  sentences = tokenizer.sentences_from_text(text)\r\n",
        "  sentences = [sent for sent in sentences if len(sent.split(' ')) >= threshold]\r\n",
        "  concatenated = [sentences[i-1] + ' ' + sentences[i] for i in range(1,len(sentences))]\r\n",
        "  sentences += concatenated\r\n",
        "  return sentences"
      ],
      "execution_count": 37,
      "outputs": []
    },
    {
      "cell_type": "code",
      "metadata": {
        "colab": {
          "base_uri": "https://localhost:8080/",
          "height": 345
        },
        "id": "L2yfMz2ijpo-",
        "outputId": "7bda30df-8054-449d-d89c-5ed13e3001d8"
      },
      "source": [
        "full['sentence'] = full['text'].apply(text2sent)\r\n",
        "full.dropna(inplace=True)\r\n",
        "full.reset_index(drop=True, inplace=True)\r\n",
        "full.head()"
      ],
      "execution_count": 38,
      "outputs": [
        {
          "output_type": "execute_result",
          "data": {
            "text/html": [
              "<div>\n",
              "<style scoped>\n",
              "    .dataframe tbody tr th:only-of-type {\n",
              "        vertical-align: middle;\n",
              "    }\n",
              "\n",
              "    .dataframe tbody tr th {\n",
              "        vertical-align: top;\n",
              "    }\n",
              "\n",
              "    .dataframe thead th {\n",
              "        text-align: right;\n",
              "    }\n",
              "</style>\n",
              "<table border=\"1\" class=\"dataframe\">\n",
              "  <thead>\n",
              "    <tr style=\"text-align: right;\">\n",
              "      <th></th>\n",
              "      <th>Unnamed: 0</th>\n",
              "      <th>id</th>\n",
              "      <th>url</th>\n",
              "      <th>title</th>\n",
              "      <th>text</th>\n",
              "      <th>question</th>\n",
              "      <th>sentence</th>\n",
              "      <th>answer</th>\n",
              "    </tr>\n",
              "  </thead>\n",
              "  <tbody>\n",
              "    <tr>\n",
              "      <th>0</th>\n",
              "      <td>0</td>\n",
              "      <td>2070375</td>\n",
              "      <td>http://pl.wikipedia.org/wiki/?curid=2070375</td>\n",
              "      <td>R136a1</td>\n",
              "      <td>R136a1 – gwiazda Wolfa-Rayeta typu widmowego W...</td>\n",
              "      <td>gdzie zaobserwowano najmasywniejszą znaną gwia...</td>\n",
              "      <td>[R136a1 – gwiazda Wolfa-Rayeta typu widmowego ...</td>\n",
              "      <td>Na uzyskanych dzięki niemu zdjęciach można był...</td>\n",
              "    </tr>\n",
              "    <tr>\n",
              "      <th>1</th>\n",
              "      <td>1</td>\n",
              "      <td>2070656</td>\n",
              "      <td>http://pl.wikipedia.org/wiki/?curid=2070656</td>\n",
              "      <td>Apoteoza wojny</td>\n",
              "      <td>Apoteoza wojny (oryg. ros. Апофеоз войны, \"Apo...</td>\n",
              "      <td>komu Wasilij Wierieszczagin zadedykował swój o...</td>\n",
              "      <td>[Апофеоз войны, \"Apofieoz wojny\") – obraz Wasi...</td>\n",
              "      <td>Апофеоз войны, \"Apofieoz wojny\") – obraz Wasil...</td>\n",
              "    </tr>\n",
              "    <tr>\n",
              "      <th>2</th>\n",
              "      <td>2</td>\n",
              "      <td>2070790</td>\n",
              "      <td>http://pl.wikipedia.org/wiki/?curid=2070790</td>\n",
              "      <td>Widzenie chłopca Bartłomieja</td>\n",
              "      <td>Widzenie chłopca Bartłomieja (oryg. ros. \"Виде...</td>\n",
              "      <td>który święty prawosławny został ukazany na obr...</td>\n",
              "      <td>[\"Видение отроку Варфоломею\") – obraz Michaiła...</td>\n",
              "      <td>Niestierow pragnął swoimi dziełami oddać hołd ...</td>\n",
              "    </tr>\n",
              "    <tr>\n",
              "      <th>3</th>\n",
              "      <td>3</td>\n",
              "      <td>2071346</td>\n",
              "      <td>http://pl.wikipedia.org/wiki/?curid=2071346</td>\n",
              "      <td>Cangjang Gjaco</td>\n",
              "      <td>Cangjang Gjaco (tyb. ཚང་དབྱངས་རྒྱ་མཚོ་ Wylie: ...</td>\n",
              "      <td>któremu dalajlamie przypisuje się nieśmierteln...</td>\n",
              "      <td>[ཚང་དབྱངས་རྒྱ་མཚོ་ Wylie: \"tshang-dbyangs-rgya...</td>\n",
              "      <td>Wśród świeckich tybetańskich rozpowszechnione ...</td>\n",
              "    </tr>\n",
              "    <tr>\n",
              "      <th>4</th>\n",
              "      <td>4</td>\n",
              "      <td>2071390</td>\n",
              "      <td>http://pl.wikipedia.org/wiki/?curid=2071390</td>\n",
              "      <td>Wojna erytrejsko-etiopska</td>\n",
              "      <td>Wojna erytrejsko-etiopska trwała w latach 1998...</td>\n",
              "      <td>jakie były skutki wojny erytrejsko-etiopskiej?</td>\n",
              "      <td>[Wojna erytrejsko-etiopska trwała w latach 199...</td>\n",
              "      <td>Następstwa i sytuacja po wojnie. Erytrea twier...</td>\n",
              "    </tr>\n",
              "  </tbody>\n",
              "</table>\n",
              "</div>"
            ],
            "text/plain": [
              "   Unnamed: 0  ...                                             answer\n",
              "0           0  ...  Na uzyskanych dzięki niemu zdjęciach można był...\n",
              "1           1  ...  Апофеоз войны, \"Apofieoz wojny\") – obraz Wasil...\n",
              "2           2  ...  Niestierow pragnął swoimi dziełami oddać hołd ...\n",
              "3           3  ...  Wśród świeckich tybetańskich rozpowszechnione ...\n",
              "4           4  ...  Następstwa i sytuacja po wojnie. Erytrea twier...\n",
              "\n",
              "[5 rows x 8 columns]"
            ]
          },
          "metadata": {
            "tags": []
          },
          "execution_count": 38
        }
      ]
    },
    {
      "cell_type": "code",
      "metadata": {
        "id": "RGha9x8Gkh4N"
      },
      "source": [
        "indices = full['id'].unique().tolist()"
      ],
      "execution_count": null,
      "outputs": []
    },
    {
      "cell_type": "code",
      "metadata": {
        "colab": {
          "base_uri": "https://localhost:8080/"
        },
        "id": "sNzKEQmHV88T",
        "outputId": "99328d65-beba-46c4-9eda-3c9d69e7ab6b"
      },
      "source": [
        "tokenize.sent_tokenize(full.loc[9, 'text'])"
      ],
      "execution_count": null,
      "outputs": [
        {
          "output_type": "execute_result",
          "data": {
            "text/plain": [
              "['Ferdinande von Schmettau (ur.',\n",
              " '26 kwietnia 1798 w Bartoszycach - zm.',\n",
              " '25 maja 1875 w Bad Kösen) − córka majora armii pruskiej, znana ze sprzedaży swoich włosów w celu wsparcia pruskiej armii; symbol oporu wobec armii Napoleona.',\n",
              " 'Ferdinande von Schmettau urodziła się 26 kwietnia 1798 roku w wielodzietnej rodzinie emerytowanego majora pruskiej armii i mieszkała w miejscowości Stary Górnik.',\n",
              " 'W 1813 roku, czasie wojny toczonej przeciw Napoleonowi (VI koalicji antyfrancuskiej), Maria Anna Amalie von Hessen-Homburg, bratowa króla Fryderyka Wilhelma III, wydała odezwę do pruskich kobiet, wzywając je do oddawania biżuterii na rzecz finansowania armii pruskiej.',\n",
              " 'Ferdinande von Schmettau, nie mając żadnych kosztowności, wpadła na pomysł sprzedania swoich włosów fryzjerowi wykonującemu peruki.',\n",
              " 'Zarobione w ten sposób dwa talary przekazała następnie na cele armii.',\n",
              " 'W późniejszym okresie mieszkała w Bad Kösen; tam też zmarła i została pochowana.',\n",
              " 'Jej grób zachował się do dziś.',\n",
              " 'W pruskiej, a następnie niemieckiej i hitlerowskiej tradycji była przedstawiana jako przykład poświęcenia dla ojczyzny; jej sylwetka obecna była także w podręcznikach szkolnych.']"
            ]
          },
          "metadata": {
            "tags": []
          },
          "execution_count": 100
        }
      ]
    },
    {
      "cell_type": "code",
      "metadata": {
        "colab": {
          "base_uri": "https://localhost:8080/"
        },
        "id": "wIE_l3nDW6Oi",
        "outputId": "4ffcea03-2f7d-405c-8335-fb54b4fcab04"
      },
      "source": [
        "len(sentences[1])"
      ],
      "execution_count": null,
      "outputs": [
        {
          "output_type": "execute_result",
          "data": {
            "text/plain": [
              "124"
            ]
          },
          "metadata": {
            "tags": []
          },
          "execution_count": 110
        }
      ]
    },
    {
      "cell_type": "code",
      "metadata": {
        "colab": {
          "base_uri": "https://localhost:8080/"
        },
        "id": "glypkAYIYQAa",
        "outputId": "c3a22c2f-4982-4d7a-94e4-e3bde8952b28"
      },
      "source": [
        "sum_length = 0\r\n",
        "for q in questions:\r\n",
        "  sum_length += len(q)\r\n",
        "sum_length/len(questions)"
      ],
      "execution_count": null,
      "outputs": [
        {
          "output_type": "execute_result",
          "data": {
            "text/plain": [
              "70.08787029623699"
            ]
          },
          "metadata": {
            "tags": []
          },
          "execution_count": 118
        }
      ]
    },
    {
      "cell_type": "code",
      "metadata": {
        "colab": {
          "base_uri": "https://localhost:8080/"
        },
        "id": "Cg6DbTVCTSY2",
        "outputId": "f7254efc-325f-40d5-dced-8addd1b6113d"
      },
      "source": [
        "idx = 7\r\n",
        "question = full.loc[idx, 'question']\r\n",
        "sentences = full.loc[idx, 'sentence']\r\n",
        "Qemb = model.encode(question)  \r\n",
        "Sembs = model.encode(sentences)\r\n",
        "print('Question:', question)\r\n",
        "result = semantic_search(Qemb, Sembs)[0]\r\n",
        "for r in result:\r\n",
        "  i = int(r['corpus_id'])\r\n",
        "  score = r['score']\r\n",
        "  answer = sentences[i]\r\n",
        "  print('Answer:', answer)\r\n",
        "  print('Score:', score, '\\n')"
      ],
      "execution_count": 46,
      "outputs": [
        {
          "output_type": "stream",
          "text": [
            "Question: jaki związek chemiczny mógł być przyczyną śmierci Aleksandra Wielkiego?\n",
            "Answer: Istnieją przypuszczenia, że kalicheamycyna mogła być przyczyną śmierci Aleksandra Wielkiego, na skutek zatrucia wodą z rzeki Styks (obecnie Mawroneri), w której obecne były wytwarzające ją bakterie.\n",
            "Score: 0.6581871 \n",
            "\n",
            "Answer: Podejmuje się próby wykorzystania właściwości kalicheamycyny w terapii antynowotworowej w leczeniu niektórych ostrych białaczek szpikowych. Istnieją przypuszczenia, że kalicheamycyna mogła być przyczyną śmierci Aleksandra Wielkiego, na skutek zatrucia wodą z rzeki Styks (obecnie Mawroneri), w której obecne były wytwarzające ją bakterie.\n",
            "Score: 0.5129128 \n",
            "\n",
            "Answer: Kalicheamycyna (\"calicheamicin γ1\") – organiczny związek chemiczny wyizolowany z bakterii \"Micromonospora echinospora calichensis\". Związek ten został po raz pierwszy wyodrębniony ze skał zebranych w pobliżu miejscowości Wako w Teksasie przez chemika z The Scripps Research Institute w 1987 roku, a następnie zsyntezowany w 1992.\n",
            "Score: 0.29502264 \n",
            "\n",
            "Answer: Związek ten został po raz pierwszy wyodrębniony ze skał zebranych w pobliżu miejscowości Wako w Teksasie przez chemika z The Scripps Research Institute w 1987 roku, a następnie zsyntezowany w 1992. Cząsteczka kalicheamycyny zbudowana jest z trzech zasadniczych fragmentów: pierwszy ma strukturę oligosacharydu (cztery jednostki monosacharydowe) z sześciopodstawionym pierścieniem benzenowym, drugi fragment stanowi rzadko spotykana grupa trisulfidu metylowo-allilowego, trzecim jest rdzeń enediynowy.\n",
            "Score: 0.2921735 \n",
            "\n",
            "Answer: Kalicheamycyna (\"calicheamicin γ1\") – organiczny związek chemiczny wyizolowany z bakterii \"Micromonospora echinospora calichensis\".\n",
            "Score: 0.27163887 \n",
            "\n",
            "Answer: Współdziałanie tych trzech fragmentów zapewnia niespotykany mechanizm działania kalicheamycyny na żywe komórki.\n",
            "Score: 0.27054763 \n",
            "\n",
            "Answer: Cząsteczka kalicheamycyny zbudowana jest z trzech zasadniczych fragmentów: pierwszy ma strukturę oligosacharydu (cztery jednostki monosacharydowe) z sześciopodstawionym pierścieniem benzenowym, drugi fragment stanowi rzadko spotykana grupa trisulfidu metylowo-allilowego, trzecim jest rdzeń enediynowy.\n",
            "Score: 0.2607296 \n",
            "\n",
            "Answer: Cząsteczka kalicheamycyny zbudowana jest z trzech zasadniczych fragmentów: pierwszy ma strukturę oligosacharydu (cztery jednostki monosacharydowe) z sześciopodstawionym pierścieniem benzenowym, drugi fragment stanowi rzadko spotykana grupa trisulfidu metylowo-allilowego, trzecim jest rdzeń enediynowy. Współdziałanie tych trzech fragmentów zapewnia niespotykany mechanizm działania kalicheamycyny na żywe komórki.\n",
            "Score: 0.25823632 \n",
            "\n",
            "Answer: Związek ten został po raz pierwszy wyodrębniony ze skał zebranych w pobliżu miejscowości Wako w Teksasie przez chemika z The Scripps Research Institute w 1987 roku, a następnie zsyntezowany w 1992.\n",
            "Score: 0.24977112 \n",
            "\n",
            "Answer: Współdziałanie tych trzech fragmentów zapewnia niespotykany mechanizm działania kalicheamycyny na żywe komórki. Kalicheamycyna jest zdolna do rozcinania łańcuchów DNA i posiada wyjątkowo silne właściwości cytotoksyczne.\n",
            "Score: 0.2372734 \n",
            "\n"
          ],
          "name": "stdout"
        }
      ]
    },
    {
      "cell_type": "code",
      "metadata": {
        "colab": {
          "base_uri": "https://localhost:8080/",
          "height": 148
        },
        "id": "Uj3TrtCpUHYU",
        "outputId": "9499e138-043f-4f79-e1b8-87fbf4f0abaf"
      },
      "source": [
        "full.loc[1, 'text']"
      ],
      "execution_count": null,
      "outputs": [
        {
          "output_type": "execute_result",
          "data": {
            "application/vnd.google.colaboratory.intrinsic+json": {
              "type": "string"
            },
            "text/plain": [
              "'Apoteoza wojny (oryg. ros. Апофеоз войны, \"Apofieoz wojny\") – obraz Wasilija Wierieszczagina, powstały w 1871 roku.\\nOkoliczności powstania obrazu.\\nW 1867 roku Wasilij Wierieszczagin zgłosił się na ochotnika do udziału w walkach w Turkiestanie (obszar obecnie zajmowany przez Kazachstan, Kirgistan, Turkmenistan, Tadżykistan i Uzbekistan), gdzie w szeregach armii rosyjskiej walczył z emirem Buchary. W czasie trwania konfliktu Wierieszczagin wykonał serię szkiców i obrazów ukazujących zaobserwowane sceny batalistyczne oraz sceny rodzajowe przedstawiające krajobrazy i mieszkańców Turkiestanu. Dzieła te przyniosły mu po powrocie do Rosji europejskiej znaczną popularność. Wojenne przeżycia artysty, a zwłaszcza zaobserwowane przykłady okrucieństwa, skłoniły go również do refleksji nad istotą i skutkami wojny. W wyniku tych doświadczeń Wierieszczagin stał się zdecydowanym przeciwnikiem wszelkich wojen, w których to poglądach utwierdził się jeszcze w kolejnych latach, biorąc m.in. udział bitwie pod Szipką podczas wojny rosyjsko-tureckiej.\\nObraz został wykonany jako jeden z turkiestańskiej serii obrazów, w grupie zatytułowanej \"Barbarzyńcy\" (ros. Варвары, \"Warwary\"), w której zawarte zostały jedynie obrazy o tematyce wojennej. Turkiestański cykl \"Barbarzyńcy\" został później wyodrębniony przez Wierieszczagina jako całkowicie niezależna seria obrazów.\\nOpis i wymowa dzieła.\\nObraz \"Apoteoza wojny\", w którego tytule wyraz apoteoza został użyty przez malarza w znaczeniu ironicznym, przedstawia piramidę z czaszek ludzkich. Niektóre z czaszek są częściowo rozbite, wokół piramidy gromadzą się nadlatujące z różnych stron kruki. W tle widocznych jest kilka uschniętych drzew oraz ruiny doszczętnie zniszczonego miasta. Kompozycja obrazu jest statyczna, co ma podkreślać ogrom dokonanych zniszczeń.\\nPragnąc potępić zjawisko wojny i wywoływanych przez nią zniszczeń, Wierieszczagin odwołał się do uniwersalnych symboli śmierci, jakimi są pustynia, czaszki i kruki. Piramida czaszek nawiązuje również do zwyczaju przypisywanego Tamerlanowi - ustawiania wież i piramid z czaszek pokonanych wrogów, w celu zastraszenia kolejnych przeciwników. Przesłanie obrazu jest dodatkowo podkreślone przez napis zamieszczony przez malarza na ramie dzieła – dedykacja \"wszystkim wielkim zdobywcom, minionym, współczesnym i przyszłym\" (oryg. Посвящается всем великим завоевателям – прошедшим, настоящим и будущим, \"Poswiaszczajetsia wsiem wielikim zawojewatielam – proszedszim, nastojaszczim i buduszczim\").\\n'"
            ]
          },
          "metadata": {
            "tags": []
          },
          "execution_count": 86
        }
      ]
    },
    {
      "cell_type": "code",
      "metadata": {
        "colab": {
          "base_uri": "https://localhost:8080/"
        },
        "id": "yco9NzTKk0O9",
        "outputId": "f99210eb-ef5c-4832-e334-d11d952e2789"
      },
      "source": [
        "for idx, row in full.iterrows():\r\n",
        "  if idx % 100 == 0:\r\n",
        "    print(idx, 'from', len(full))\r\n",
        "  question = full.loc[idx, 'question']\r\n",
        "  sentences = full.loc[idx, 'sentence']\r\n",
        "  Qemb = model.encode(question)  \r\n",
        "  Sembs = model.encode(sentences)\r\n",
        "  result = semantic_search(Qemb, Sembs)[0][0]\r\n",
        "  i = int(result['corpus_id'])\r\n",
        "  answer = sentences[i]\r\n",
        "  full.loc[idx, 'answer'] = answer"
      ],
      "execution_count": 47,
      "outputs": [
        {
          "output_type": "stream",
          "text": [
            "0 from 4817\n",
            "100 from 4817\n",
            "200 from 4817\n",
            "300 from 4817\n",
            "400 from 4817\n",
            "500 from 4817\n",
            "600 from 4817\n",
            "700 from 4817\n",
            "800 from 4817\n",
            "900 from 4817\n",
            "1000 from 4817\n",
            "1100 from 4817\n",
            "1200 from 4817\n",
            "1300 from 4817\n",
            "1400 from 4817\n",
            "1500 from 4817\n",
            "1600 from 4817\n",
            "1700 from 4817\n",
            "1800 from 4817\n",
            "1900 from 4817\n",
            "2000 from 4817\n",
            "2100 from 4817\n",
            "2200 from 4817\n",
            "2300 from 4817\n",
            "2400 from 4817\n",
            "2500 from 4817\n",
            "2600 from 4817\n",
            "2700 from 4817\n",
            "2800 from 4817\n",
            "2900 from 4817\n",
            "3000 from 4817\n",
            "3100 from 4817\n",
            "3200 from 4817\n",
            "3300 from 4817\n",
            "3400 from 4817\n",
            "3500 from 4817\n",
            "3600 from 4817\n",
            "3700 from 4817\n",
            "3800 from 4817\n",
            "3900 from 4817\n",
            "4000 from 4817\n",
            "4100 from 4817\n",
            "4200 from 4817\n",
            "4300 from 4817\n",
            "4400 from 4817\n",
            "4500 from 4817\n",
            "4600 from 4817\n",
            "4700 from 4817\n",
            "4800 from 4817\n"
          ],
          "name": "stdout"
        }
      ]
    },
    {
      "cell_type": "code",
      "metadata": {
        "colab": {
          "base_uri": "https://localhost:8080/"
        },
        "id": "wVZXLw94oliJ",
        "outputId": "5f18e66a-5b6f-4329-a4ff-201c47b118c1"
      },
      "source": [
        "random_answers = np.random.choice(len(full), size=10, replace=False)\r\n",
        "for idx in random_answers:\r\n",
        "  title = full.loc[idx, 'title']\r\n",
        "  question = full.loc[idx, 'question']\r\n",
        "  answer = full.loc[idx, 'answer']\r\n",
        "  print('Index:', idx)\r\n",
        "  print('Title:', title)\r\n",
        "  print('Question:', question)\r\n",
        "  print('Answer:', answer)\r\n",
        "  print('\\n')"
      ],
      "execution_count": 48,
      "outputs": [
        {
          "output_type": "stream",
          "text": [
            "Index: 4339\n",
            "Title: Merck KGaA\n",
            "Question: nad jakim produktem niemieckiej firmy Merck KGaA prowadził badania Zygmunt Freud?\n",
            "Answer: W 2003 roku zespół naukowców firmy Merck KGaA zdobył \"Deutschen Zukunftspreis\" (\"Niemiecką Nagrodę Przyszłości\"), wraz z nagrodą pieniężną wynoszącą 250 tys. euro za swoje badania nad ciekłymi kryształami.\n",
            "\n",
            "\n",
            "Index: 643\n",
            "Title: Słoń morski południowy\n",
            "Question: czy słoń morski południowy jest większy od północnego?\n",
            "Answer: Południowy słoń morski osiąga większe rozmiary od północnego słonia morskiego i zamieszkuje rozleglejszy obszar.\n",
            "\n",
            "\n",
            "Index: 4065\n",
            "Title: Kompleks budynków Sejmu Rzeczypospolitej Polskiej\n",
            "Question: jakie budynki wchodzą w skład kompleksu Sejmu Rzeczypospolitej Polskiej?\n",
            "Answer: Kompleks budynków Sejmu Rzeczypospolitej Polskiej – zespół budynków znajdujący się w Warszawie przy ulicy Wiejskiej 4/6/8, użytkowany przez Sejm i Senat Rzeczypospolitej Polskiej.\n",
            "\n",
            "\n",
            "Index: 3086\n",
            "Title: Hadji Ali\n",
            "Question: kto stał się sławny na początku XX wieku dzięki umiejętnościom kontrolowanej regurgitacji?\n",
            "Answer: Stał się sławny dzięki wodewilowym „aktom regurgitacji”, podczas których połykał, a następnie dokonywał regurgitacji przeróżnych obiektów, materiałów i substancji.\n",
            "\n",
            "\n",
            "Index: 2708\n",
            "Title: Pałac Nymphenburg\n",
            "Question: gdzie mieściła się letnia rezydencja Wittelsbachów?\n",
            "Answer: \"Schloss Nymphenburg\") – dawna letnia rezydencja Wittelsbachów w Monachium (Niemcy) w dzielnicy Neuhausen-Nymphenburg.\n",
            "\n",
            "\n",
            "Index: 1810\n",
            "Title: Taryfa (ewidencja nieruchomości)\n",
            "Question: kiedy w Warszawie wprowadzono numerację budynków?\n",
            "Answer: Przeliczenie dawnej numeracji na współcześnie używaną numerację wzdłuż ulicy umożliwia \"Taryfa posesyj (domów i placów) m. stoł. Warszawy i przedmieścia Pragi\" z 1920?\n",
            "\n",
            "\n",
            "Index: 4099\n",
            "Title: Pałac Tarłów w Podzamczu Piekoszowskim\n",
            "Question: jaką legendą owiany jest pałac Tarłów w Podzamczu Piekoszowskim?\n",
            "Answer: Pałac Tarłów w Podzamczu Piekoszowskim – rezydencja w stylu barokowym wzniesiona w latach 1649-1655. Znajduje się w Podzamczu Piekoszowskim, niedaleko Kielc.\n",
            "\n",
            "\n",
            "Index: 3486\n",
            "Title: Gemba\n",
            "Question: co określamy terminem gemba?\n",
            "Answer: Słowo \"gemba\" jest również używane w szerszym znaczeniu jako określenie miejsca pracy.\n",
            "\n",
            "\n",
            "Index: 3069\n",
            "Title: Klon ostroząbkowy\n",
            "Question: do czego wykorzystywany jest klon ostroząbkowy?\n",
            "Answer: Jak większość klonów jest złym towarzyszem dla okolicznych roślin, ponieważ hamuje ich wzrost.\n",
            "\n",
            "\n",
            "Index: 4250\n",
            "Title: Joell Ortiz\n",
            "Question: dzięki czemu utwór Joella Ortiza, True Meaning, trafił na ścieżkę dźwiękową gry NBA Live 2005?\n",
            "Answer: W 2004 raper zwyciężył w zawodach freestyle'owych EA SPORTS Livestyle, dzięki czemu jego piosenka \"Mean Business\" została zawarta na ścieżce dźwiękowej gry NBA Live 2005.\n",
            "\n",
            "\n"
          ],
          "name": "stdout"
        }
      ]
    },
    {
      "cell_type": "code",
      "metadata": {
        "id": "JqaiKDkn6mUK"
      },
      "source": [
        "full.to_csv('/content/drive/MyDrive/czywieszki/answers.csv')"
      ],
      "execution_count": 49,
      "outputs": []
    }
  ]
}