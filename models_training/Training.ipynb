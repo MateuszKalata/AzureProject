{
  "nbformat": 4,
  "nbformat_minor": 0,
  "metadata": {
    "colab": {
      "name": "Training.ipynb",
      "provenance": [],
      "collapsed_sections": []
    },
    "kernelspec": {
      "name": "python3",
      "display_name": "Python 3"
    },
    "accelerator": "GPU",
    "widgets": {
      "application/vnd.jupyter.widget-state+json": {
        "d8f2942f4d6f46e6aa36113ea09a7e89": {
          "model_module": "@jupyter-widgets/controls",
          "model_name": "HBoxModel",
          "state": {
            "_view_name": "HBoxView",
            "_dom_classes": [],
            "_model_name": "HBoxModel",
            "_view_module": "@jupyter-widgets/controls",
            "_model_module_version": "1.5.0",
            "_view_count": null,
            "_view_module_version": "1.5.0",
            "box_style": "",
            "layout": "IPY_MODEL_6a968360141a421e9c748ce5094ba249",
            "_model_module": "@jupyter-widgets/controls",
            "children": [
              "IPY_MODEL_df0586784836426cbad949287a4ca214",
              "IPY_MODEL_64870db5a3e1411d8c78f2c6fba2ff68"
            ]
          }
        },
        "6a968360141a421e9c748ce5094ba249": {
          "model_module": "@jupyter-widgets/base",
          "model_name": "LayoutModel",
          "state": {
            "_view_name": "LayoutView",
            "grid_template_rows": null,
            "right": null,
            "justify_content": null,
            "_view_module": "@jupyter-widgets/base",
            "overflow": null,
            "_model_module_version": "1.2.0",
            "_view_count": null,
            "flex_flow": null,
            "width": null,
            "min_width": null,
            "border": null,
            "align_items": null,
            "bottom": null,
            "_model_module": "@jupyter-widgets/base",
            "top": null,
            "grid_column": null,
            "overflow_y": null,
            "overflow_x": null,
            "grid_auto_flow": null,
            "grid_area": null,
            "grid_template_columns": null,
            "flex": null,
            "_model_name": "LayoutModel",
            "justify_items": null,
            "grid_row": null,
            "max_height": null,
            "align_content": null,
            "visibility": null,
            "align_self": null,
            "height": null,
            "min_height": null,
            "padding": null,
            "grid_auto_rows": null,
            "grid_gap": null,
            "max_width": null,
            "order": null,
            "_view_module_version": "1.2.0",
            "grid_template_areas": null,
            "object_position": null,
            "object_fit": null,
            "grid_auto_columns": null,
            "margin": null,
            "display": null,
            "left": null
          }
        },
        "df0586784836426cbad949287a4ca214": {
          "model_module": "@jupyter-widgets/controls",
          "model_name": "FloatProgressModel",
          "state": {
            "_view_name": "ProgressView",
            "style": "IPY_MODEL_db665b8b66e84cba9b883fb353d46876",
            "_dom_classes": [],
            "description": "Epoch: 100%",
            "_model_name": "FloatProgressModel",
            "bar_style": "success",
            "max": 5,
            "_view_module": "@jupyter-widgets/controls",
            "_model_module_version": "1.5.0",
            "value": 5,
            "_view_count": null,
            "_view_module_version": "1.5.0",
            "orientation": "horizontal",
            "min": 0,
            "description_tooltip": null,
            "_model_module": "@jupyter-widgets/controls",
            "layout": "IPY_MODEL_bec9c2a8f871490fbbea771270fda7d5"
          }
        },
        "64870db5a3e1411d8c78f2c6fba2ff68": {
          "model_module": "@jupyter-widgets/controls",
          "model_name": "HTMLModel",
          "state": {
            "_view_name": "HTMLView",
            "style": "IPY_MODEL_14a57a6f9f8940849858059769ba7f0b",
            "_dom_classes": [],
            "description": "",
            "_model_name": "HTMLModel",
            "placeholder": "​",
            "_view_module": "@jupyter-widgets/controls",
            "_model_module_version": "1.5.0",
            "value": " 5/5 [22:54&lt;00:00, 275.00s/it]",
            "_view_count": null,
            "_view_module_version": "1.5.0",
            "description_tooltip": null,
            "_model_module": "@jupyter-widgets/controls",
            "layout": "IPY_MODEL_4911d0c3fb064e44a354a2a129443977"
          }
        },
        "db665b8b66e84cba9b883fb353d46876": {
          "model_module": "@jupyter-widgets/controls",
          "model_name": "ProgressStyleModel",
          "state": {
            "_view_name": "StyleView",
            "_model_name": "ProgressStyleModel",
            "description_width": "initial",
            "_view_module": "@jupyter-widgets/base",
            "_model_module_version": "1.5.0",
            "_view_count": null,
            "_view_module_version": "1.2.0",
            "bar_color": null,
            "_model_module": "@jupyter-widgets/controls"
          }
        },
        "bec9c2a8f871490fbbea771270fda7d5": {
          "model_module": "@jupyter-widgets/base",
          "model_name": "LayoutModel",
          "state": {
            "_view_name": "LayoutView",
            "grid_template_rows": null,
            "right": null,
            "justify_content": null,
            "_view_module": "@jupyter-widgets/base",
            "overflow": null,
            "_model_module_version": "1.2.0",
            "_view_count": null,
            "flex_flow": null,
            "width": null,
            "min_width": null,
            "border": null,
            "align_items": null,
            "bottom": null,
            "_model_module": "@jupyter-widgets/base",
            "top": null,
            "grid_column": null,
            "overflow_y": null,
            "overflow_x": null,
            "grid_auto_flow": null,
            "grid_area": null,
            "grid_template_columns": null,
            "flex": null,
            "_model_name": "LayoutModel",
            "justify_items": null,
            "grid_row": null,
            "max_height": null,
            "align_content": null,
            "visibility": null,
            "align_self": null,
            "height": null,
            "min_height": null,
            "padding": null,
            "grid_auto_rows": null,
            "grid_gap": null,
            "max_width": null,
            "order": null,
            "_view_module_version": "1.2.0",
            "grid_template_areas": null,
            "object_position": null,
            "object_fit": null,
            "grid_auto_columns": null,
            "margin": null,
            "display": null,
            "left": null
          }
        },
        "14a57a6f9f8940849858059769ba7f0b": {
          "model_module": "@jupyter-widgets/controls",
          "model_name": "DescriptionStyleModel",
          "state": {
            "_view_name": "StyleView",
            "_model_name": "DescriptionStyleModel",
            "description_width": "",
            "_view_module": "@jupyter-widgets/base",
            "_model_module_version": "1.5.0",
            "_view_count": null,
            "_view_module_version": "1.2.0",
            "_model_module": "@jupyter-widgets/controls"
          }
        },
        "4911d0c3fb064e44a354a2a129443977": {
          "model_module": "@jupyter-widgets/base",
          "model_name": "LayoutModel",
          "state": {
            "_view_name": "LayoutView",
            "grid_template_rows": null,
            "right": null,
            "justify_content": null,
            "_view_module": "@jupyter-widgets/base",
            "overflow": null,
            "_model_module_version": "1.2.0",
            "_view_count": null,
            "flex_flow": null,
            "width": null,
            "min_width": null,
            "border": null,
            "align_items": null,
            "bottom": null,
            "_model_module": "@jupyter-widgets/base",
            "top": null,
            "grid_column": null,
            "overflow_y": null,
            "overflow_x": null,
            "grid_auto_flow": null,
            "grid_area": null,
            "grid_template_columns": null,
            "flex": null,
            "_model_name": "LayoutModel",
            "justify_items": null,
            "grid_row": null,
            "max_height": null,
            "align_content": null,
            "visibility": null,
            "align_self": null,
            "height": null,
            "min_height": null,
            "padding": null,
            "grid_auto_rows": null,
            "grid_gap": null,
            "max_width": null,
            "order": null,
            "_view_module_version": "1.2.0",
            "grid_template_areas": null,
            "object_position": null,
            "object_fit": null,
            "grid_auto_columns": null,
            "margin": null,
            "display": null,
            "left": null
          }
        },
        "69d7cfd3b87c401d9f8d5e79a0756f34": {
          "model_module": "@jupyter-widgets/controls",
          "model_name": "HBoxModel",
          "state": {
            "_view_name": "HBoxView",
            "_dom_classes": [],
            "_model_name": "HBoxModel",
            "_view_module": "@jupyter-widgets/controls",
            "_model_module_version": "1.5.0",
            "_view_count": null,
            "_view_module_version": "1.5.0",
            "box_style": "",
            "layout": "IPY_MODEL_42df101d29f1404498741fad673e8a52",
            "_model_module": "@jupyter-widgets/controls",
            "children": [
              "IPY_MODEL_5f67ced5ca7d44c3bca3c0d967ba6acf",
              "IPY_MODEL_d5b66dd6bc4441cba5b69da16ef6aa01"
            ]
          }
        },
        "42df101d29f1404498741fad673e8a52": {
          "model_module": "@jupyter-widgets/base",
          "model_name": "LayoutModel",
          "state": {
            "_view_name": "LayoutView",
            "grid_template_rows": null,
            "right": null,
            "justify_content": null,
            "_view_module": "@jupyter-widgets/base",
            "overflow": null,
            "_model_module_version": "1.2.0",
            "_view_count": null,
            "flex_flow": null,
            "width": null,
            "min_width": null,
            "border": null,
            "align_items": null,
            "bottom": null,
            "_model_module": "@jupyter-widgets/base",
            "top": null,
            "grid_column": null,
            "overflow_y": null,
            "overflow_x": null,
            "grid_auto_flow": null,
            "grid_area": null,
            "grid_template_columns": null,
            "flex": null,
            "_model_name": "LayoutModel",
            "justify_items": null,
            "grid_row": null,
            "max_height": null,
            "align_content": null,
            "visibility": null,
            "align_self": null,
            "height": null,
            "min_height": null,
            "padding": null,
            "grid_auto_rows": null,
            "grid_gap": null,
            "max_width": null,
            "order": null,
            "_view_module_version": "1.2.0",
            "grid_template_areas": null,
            "object_position": null,
            "object_fit": null,
            "grid_auto_columns": null,
            "margin": null,
            "display": null,
            "left": null
          }
        },
        "5f67ced5ca7d44c3bca3c0d967ba6acf": {
          "model_module": "@jupyter-widgets/controls",
          "model_name": "FloatProgressModel",
          "state": {
            "_view_name": "ProgressView",
            "style": "IPY_MODEL_f722d1bfe0ea4853878f20ca3828dd40",
            "_dom_classes": [],
            "description": "Iteration: 100%",
            "_model_name": "FloatProgressModel",
            "bar_style": "success",
            "max": 563,
            "_view_module": "@jupyter-widgets/controls",
            "_model_module_version": "1.5.0",
            "value": 563,
            "_view_count": null,
            "_view_module_version": "1.5.0",
            "orientation": "horizontal",
            "min": 0,
            "description_tooltip": null,
            "_model_module": "@jupyter-widgets/controls",
            "layout": "IPY_MODEL_efc9c3d3a44c455f8730f735906f481a"
          }
        },
        "d5b66dd6bc4441cba5b69da16ef6aa01": {
          "model_module": "@jupyter-widgets/controls",
          "model_name": "HTMLModel",
          "state": {
            "_view_name": "HTMLView",
            "style": "IPY_MODEL_193c820250444f8bbcabb180641c0827",
            "_dom_classes": [],
            "description": "",
            "_model_name": "HTMLModel",
            "placeholder": "​",
            "_view_module": "@jupyter-widgets/controls",
            "_model_module_version": "1.5.0",
            "value": " 563/563 [22:54&lt;00:00,  2.44s/it]",
            "_view_count": null,
            "_view_module_version": "1.5.0",
            "description_tooltip": null,
            "_model_module": "@jupyter-widgets/controls",
            "layout": "IPY_MODEL_682b02e5bc98452cbff48519b720e605"
          }
        },
        "f722d1bfe0ea4853878f20ca3828dd40": {
          "model_module": "@jupyter-widgets/controls",
          "model_name": "ProgressStyleModel",
          "state": {
            "_view_name": "StyleView",
            "_model_name": "ProgressStyleModel",
            "description_width": "initial",
            "_view_module": "@jupyter-widgets/base",
            "_model_module_version": "1.5.0",
            "_view_count": null,
            "_view_module_version": "1.2.0",
            "bar_color": null,
            "_model_module": "@jupyter-widgets/controls"
          }
        },
        "efc9c3d3a44c455f8730f735906f481a": {
          "model_module": "@jupyter-widgets/base",
          "model_name": "LayoutModel",
          "state": {
            "_view_name": "LayoutView",
            "grid_template_rows": null,
            "right": null,
            "justify_content": null,
            "_view_module": "@jupyter-widgets/base",
            "overflow": null,
            "_model_module_version": "1.2.0",
            "_view_count": null,
            "flex_flow": null,
            "width": null,
            "min_width": null,
            "border": null,
            "align_items": null,
            "bottom": null,
            "_model_module": "@jupyter-widgets/base",
            "top": null,
            "grid_column": null,
            "overflow_y": null,
            "overflow_x": null,
            "grid_auto_flow": null,
            "grid_area": null,
            "grid_template_columns": null,
            "flex": null,
            "_model_name": "LayoutModel",
            "justify_items": null,
            "grid_row": null,
            "max_height": null,
            "align_content": null,
            "visibility": null,
            "align_self": null,
            "height": null,
            "min_height": null,
            "padding": null,
            "grid_auto_rows": null,
            "grid_gap": null,
            "max_width": null,
            "order": null,
            "_view_module_version": "1.2.0",
            "grid_template_areas": null,
            "object_position": null,
            "object_fit": null,
            "grid_auto_columns": null,
            "margin": null,
            "display": null,
            "left": null
          }
        },
        "193c820250444f8bbcabb180641c0827": {
          "model_module": "@jupyter-widgets/controls",
          "model_name": "DescriptionStyleModel",
          "state": {
            "_view_name": "StyleView",
            "_model_name": "DescriptionStyleModel",
            "description_width": "",
            "_view_module": "@jupyter-widgets/base",
            "_model_module_version": "1.5.0",
            "_view_count": null,
            "_view_module_version": "1.2.0",
            "_model_module": "@jupyter-widgets/controls"
          }
        },
        "682b02e5bc98452cbff48519b720e605": {
          "model_module": "@jupyter-widgets/base",
          "model_name": "LayoutModel",
          "state": {
            "_view_name": "LayoutView",
            "grid_template_rows": null,
            "right": null,
            "justify_content": null,
            "_view_module": "@jupyter-widgets/base",
            "overflow": null,
            "_model_module_version": "1.2.0",
            "_view_count": null,
            "flex_flow": null,
            "width": null,
            "min_width": null,
            "border": null,
            "align_items": null,
            "bottom": null,
            "_model_module": "@jupyter-widgets/base",
            "top": null,
            "grid_column": null,
            "overflow_y": null,
            "overflow_x": null,
            "grid_auto_flow": null,
            "grid_area": null,
            "grid_template_columns": null,
            "flex": null,
            "_model_name": "LayoutModel",
            "justify_items": null,
            "grid_row": null,
            "max_height": null,
            "align_content": null,
            "visibility": null,
            "align_self": null,
            "height": null,
            "min_height": null,
            "padding": null,
            "grid_auto_rows": null,
            "grid_gap": null,
            "max_width": null,
            "order": null,
            "_view_module_version": "1.2.0",
            "grid_template_areas": null,
            "object_position": null,
            "object_fit": null,
            "grid_auto_columns": null,
            "margin": null,
            "display": null,
            "left": null
          }
        },
        "9f18449221fc4505ad77397b5411b06b": {
          "model_module": "@jupyter-widgets/controls",
          "model_name": "HBoxModel",
          "state": {
            "_view_name": "HBoxView",
            "_dom_classes": [],
            "_model_name": "HBoxModel",
            "_view_module": "@jupyter-widgets/controls",
            "_model_module_version": "1.5.0",
            "_view_count": null,
            "_view_module_version": "1.5.0",
            "box_style": "",
            "layout": "IPY_MODEL_82aae0ab9d664658b59ac288306ff17b",
            "_model_module": "@jupyter-widgets/controls",
            "children": [
              "IPY_MODEL_42447bd4fc874cfe92f86575222bfbe2",
              "IPY_MODEL_a9b6ec097d684ed3a86db0a606912f09"
            ]
          }
        },
        "82aae0ab9d664658b59ac288306ff17b": {
          "model_module": "@jupyter-widgets/base",
          "model_name": "LayoutModel",
          "state": {
            "_view_name": "LayoutView",
            "grid_template_rows": null,
            "right": null,
            "justify_content": null,
            "_view_module": "@jupyter-widgets/base",
            "overflow": null,
            "_model_module_version": "1.2.0",
            "_view_count": null,
            "flex_flow": null,
            "width": null,
            "min_width": null,
            "border": null,
            "align_items": null,
            "bottom": null,
            "_model_module": "@jupyter-widgets/base",
            "top": null,
            "grid_column": null,
            "overflow_y": null,
            "overflow_x": null,
            "grid_auto_flow": null,
            "grid_area": null,
            "grid_template_columns": null,
            "flex": null,
            "_model_name": "LayoutModel",
            "justify_items": null,
            "grid_row": null,
            "max_height": null,
            "align_content": null,
            "visibility": null,
            "align_self": null,
            "height": null,
            "min_height": null,
            "padding": null,
            "grid_auto_rows": null,
            "grid_gap": null,
            "max_width": null,
            "order": null,
            "_view_module_version": "1.2.0",
            "grid_template_areas": null,
            "object_position": null,
            "object_fit": null,
            "grid_auto_columns": null,
            "margin": null,
            "display": null,
            "left": null
          }
        },
        "42447bd4fc874cfe92f86575222bfbe2": {
          "model_module": "@jupyter-widgets/controls",
          "model_name": "FloatProgressModel",
          "state": {
            "_view_name": "ProgressView",
            "style": "IPY_MODEL_235237a4ee7d422089f25a9a8402f1f7",
            "_dom_classes": [],
            "description": "Iteration: 100%",
            "_model_name": "FloatProgressModel",
            "bar_style": "success",
            "max": 563,
            "_view_module": "@jupyter-widgets/controls",
            "_model_module_version": "1.5.0",
            "value": 563,
            "_view_count": null,
            "_view_module_version": "1.5.0",
            "orientation": "horizontal",
            "min": 0,
            "description_tooltip": null,
            "_model_module": "@jupyter-widgets/controls",
            "layout": "IPY_MODEL_4c51e60f213e41589f33fcd1e23076e1"
          }
        },
        "a9b6ec097d684ed3a86db0a606912f09": {
          "model_module": "@jupyter-widgets/controls",
          "model_name": "HTMLModel",
          "state": {
            "_view_name": "HTMLView",
            "style": "IPY_MODEL_95652568bf6c4497b53600146411e0a8",
            "_dom_classes": [],
            "description": "",
            "_model_name": "HTMLModel",
            "placeholder": "​",
            "_view_module": "@jupyter-widgets/controls",
            "_model_module_version": "1.5.0",
            "value": " 563/563 [19:46&lt;00:00,  2.11s/it]",
            "_view_count": null,
            "_view_module_version": "1.5.0",
            "description_tooltip": null,
            "_model_module": "@jupyter-widgets/controls",
            "layout": "IPY_MODEL_d7a35d5f3ee54ba48a22913f76ad56f7"
          }
        },
        "235237a4ee7d422089f25a9a8402f1f7": {
          "model_module": "@jupyter-widgets/controls",
          "model_name": "ProgressStyleModel",
          "state": {
            "_view_name": "StyleView",
            "_model_name": "ProgressStyleModel",
            "description_width": "initial",
            "_view_module": "@jupyter-widgets/base",
            "_model_module_version": "1.5.0",
            "_view_count": null,
            "_view_module_version": "1.2.0",
            "bar_color": null,
            "_model_module": "@jupyter-widgets/controls"
          }
        },
        "4c51e60f213e41589f33fcd1e23076e1": {
          "model_module": "@jupyter-widgets/base",
          "model_name": "LayoutModel",
          "state": {
            "_view_name": "LayoutView",
            "grid_template_rows": null,
            "right": null,
            "justify_content": null,
            "_view_module": "@jupyter-widgets/base",
            "overflow": null,
            "_model_module_version": "1.2.0",
            "_view_count": null,
            "flex_flow": null,
            "width": null,
            "min_width": null,
            "border": null,
            "align_items": null,
            "bottom": null,
            "_model_module": "@jupyter-widgets/base",
            "top": null,
            "grid_column": null,
            "overflow_y": null,
            "overflow_x": null,
            "grid_auto_flow": null,
            "grid_area": null,
            "grid_template_columns": null,
            "flex": null,
            "_model_name": "LayoutModel",
            "justify_items": null,
            "grid_row": null,
            "max_height": null,
            "align_content": null,
            "visibility": null,
            "align_self": null,
            "height": null,
            "min_height": null,
            "padding": null,
            "grid_auto_rows": null,
            "grid_gap": null,
            "max_width": null,
            "order": null,
            "_view_module_version": "1.2.0",
            "grid_template_areas": null,
            "object_position": null,
            "object_fit": null,
            "grid_auto_columns": null,
            "margin": null,
            "display": null,
            "left": null
          }
        },
        "95652568bf6c4497b53600146411e0a8": {
          "model_module": "@jupyter-widgets/controls",
          "model_name": "DescriptionStyleModel",
          "state": {
            "_view_name": "StyleView",
            "_model_name": "DescriptionStyleModel",
            "description_width": "",
            "_view_module": "@jupyter-widgets/base",
            "_model_module_version": "1.5.0",
            "_view_count": null,
            "_view_module_version": "1.2.0",
            "_model_module": "@jupyter-widgets/controls"
          }
        },
        "d7a35d5f3ee54ba48a22913f76ad56f7": {
          "model_module": "@jupyter-widgets/base",
          "model_name": "LayoutModel",
          "state": {
            "_view_name": "LayoutView",
            "grid_template_rows": null,
            "right": null,
            "justify_content": null,
            "_view_module": "@jupyter-widgets/base",
            "overflow": null,
            "_model_module_version": "1.2.0",
            "_view_count": null,
            "flex_flow": null,
            "width": null,
            "min_width": null,
            "border": null,
            "align_items": null,
            "bottom": null,
            "_model_module": "@jupyter-widgets/base",
            "top": null,
            "grid_column": null,
            "overflow_y": null,
            "overflow_x": null,
            "grid_auto_flow": null,
            "grid_area": null,
            "grid_template_columns": null,
            "flex": null,
            "_model_name": "LayoutModel",
            "justify_items": null,
            "grid_row": null,
            "max_height": null,
            "align_content": null,
            "visibility": null,
            "align_self": null,
            "height": null,
            "min_height": null,
            "padding": null,
            "grid_auto_rows": null,
            "grid_gap": null,
            "max_width": null,
            "order": null,
            "_view_module_version": "1.2.0",
            "grid_template_areas": null,
            "object_position": null,
            "object_fit": null,
            "grid_auto_columns": null,
            "margin": null,
            "display": null,
            "left": null
          }
        },
        "6dccb2ecbbe14851bff7a723b13190df": {
          "model_module": "@jupyter-widgets/controls",
          "model_name": "HBoxModel",
          "state": {
            "_view_name": "HBoxView",
            "_dom_classes": [],
            "_model_name": "HBoxModel",
            "_view_module": "@jupyter-widgets/controls",
            "_model_module_version": "1.5.0",
            "_view_count": null,
            "_view_module_version": "1.5.0",
            "box_style": "",
            "layout": "IPY_MODEL_ce02381635fb47ae8b1613e33d5af589",
            "_model_module": "@jupyter-widgets/controls",
            "children": [
              "IPY_MODEL_116c8622884f4e84a1e4e489afc4e97f",
              "IPY_MODEL_467e39e7deb24ec58c0b04b9abd95415"
            ]
          }
        },
        "ce02381635fb47ae8b1613e33d5af589": {
          "model_module": "@jupyter-widgets/base",
          "model_name": "LayoutModel",
          "state": {
            "_view_name": "LayoutView",
            "grid_template_rows": null,
            "right": null,
            "justify_content": null,
            "_view_module": "@jupyter-widgets/base",
            "overflow": null,
            "_model_module_version": "1.2.0",
            "_view_count": null,
            "flex_flow": null,
            "width": null,
            "min_width": null,
            "border": null,
            "align_items": null,
            "bottom": null,
            "_model_module": "@jupyter-widgets/base",
            "top": null,
            "grid_column": null,
            "overflow_y": null,
            "overflow_x": null,
            "grid_auto_flow": null,
            "grid_area": null,
            "grid_template_columns": null,
            "flex": null,
            "_model_name": "LayoutModel",
            "justify_items": null,
            "grid_row": null,
            "max_height": null,
            "align_content": null,
            "visibility": null,
            "align_self": null,
            "height": null,
            "min_height": null,
            "padding": null,
            "grid_auto_rows": null,
            "grid_gap": null,
            "max_width": null,
            "order": null,
            "_view_module_version": "1.2.0",
            "grid_template_areas": null,
            "object_position": null,
            "object_fit": null,
            "grid_auto_columns": null,
            "margin": null,
            "display": null,
            "left": null
          }
        },
        "116c8622884f4e84a1e4e489afc4e97f": {
          "model_module": "@jupyter-widgets/controls",
          "model_name": "FloatProgressModel",
          "state": {
            "_view_name": "ProgressView",
            "style": "IPY_MODEL_d2403e0252e24686ad6e072d187c86d9",
            "_dom_classes": [],
            "description": "Iteration: 100%",
            "_model_name": "FloatProgressModel",
            "bar_style": "success",
            "max": 563,
            "_view_module": "@jupyter-widgets/controls",
            "_model_module_version": "1.5.0",
            "value": 563,
            "_view_count": null,
            "_view_module_version": "1.5.0",
            "orientation": "horizontal",
            "min": 0,
            "description_tooltip": null,
            "_model_module": "@jupyter-widgets/controls",
            "layout": "IPY_MODEL_497759e80c0b4cfd8972cb3086afa7ab"
          }
        },
        "467e39e7deb24ec58c0b04b9abd95415": {
          "model_module": "@jupyter-widgets/controls",
          "model_name": "HTMLModel",
          "state": {
            "_view_name": "HTMLView",
            "style": "IPY_MODEL_4f25d73f258f43f7afdabdbb4a893937",
            "_dom_classes": [],
            "description": "",
            "_model_name": "HTMLModel",
            "placeholder": "​",
            "_view_module": "@jupyter-widgets/controls",
            "_model_module_version": "1.5.0",
            "value": " 563/563 [16:38&lt;00:00,  1.77s/it]",
            "_view_count": null,
            "_view_module_version": "1.5.0",
            "description_tooltip": null,
            "_model_module": "@jupyter-widgets/controls",
            "layout": "IPY_MODEL_d64d878209b1464984600ee1725f65a2"
          }
        },
        "d2403e0252e24686ad6e072d187c86d9": {
          "model_module": "@jupyter-widgets/controls",
          "model_name": "ProgressStyleModel",
          "state": {
            "_view_name": "StyleView",
            "_model_name": "ProgressStyleModel",
            "description_width": "initial",
            "_view_module": "@jupyter-widgets/base",
            "_model_module_version": "1.5.0",
            "_view_count": null,
            "_view_module_version": "1.2.0",
            "bar_color": null,
            "_model_module": "@jupyter-widgets/controls"
          }
        },
        "497759e80c0b4cfd8972cb3086afa7ab": {
          "model_module": "@jupyter-widgets/base",
          "model_name": "LayoutModel",
          "state": {
            "_view_name": "LayoutView",
            "grid_template_rows": null,
            "right": null,
            "justify_content": null,
            "_view_module": "@jupyter-widgets/base",
            "overflow": null,
            "_model_module_version": "1.2.0",
            "_view_count": null,
            "flex_flow": null,
            "width": null,
            "min_width": null,
            "border": null,
            "align_items": null,
            "bottom": null,
            "_model_module": "@jupyter-widgets/base",
            "top": null,
            "grid_column": null,
            "overflow_y": null,
            "overflow_x": null,
            "grid_auto_flow": null,
            "grid_area": null,
            "grid_template_columns": null,
            "flex": null,
            "_model_name": "LayoutModel",
            "justify_items": null,
            "grid_row": null,
            "max_height": null,
            "align_content": null,
            "visibility": null,
            "align_self": null,
            "height": null,
            "min_height": null,
            "padding": null,
            "grid_auto_rows": null,
            "grid_gap": null,
            "max_width": null,
            "order": null,
            "_view_module_version": "1.2.0",
            "grid_template_areas": null,
            "object_position": null,
            "object_fit": null,
            "grid_auto_columns": null,
            "margin": null,
            "display": null,
            "left": null
          }
        },
        "4f25d73f258f43f7afdabdbb4a893937": {
          "model_module": "@jupyter-widgets/controls",
          "model_name": "DescriptionStyleModel",
          "state": {
            "_view_name": "StyleView",
            "_model_name": "DescriptionStyleModel",
            "description_width": "",
            "_view_module": "@jupyter-widgets/base",
            "_model_module_version": "1.5.0",
            "_view_count": null,
            "_view_module_version": "1.2.0",
            "_model_module": "@jupyter-widgets/controls"
          }
        },
        "d64d878209b1464984600ee1725f65a2": {
          "model_module": "@jupyter-widgets/base",
          "model_name": "LayoutModel",
          "state": {
            "_view_name": "LayoutView",
            "grid_template_rows": null,
            "right": null,
            "justify_content": null,
            "_view_module": "@jupyter-widgets/base",
            "overflow": null,
            "_model_module_version": "1.2.0",
            "_view_count": null,
            "flex_flow": null,
            "width": null,
            "min_width": null,
            "border": null,
            "align_items": null,
            "bottom": null,
            "_model_module": "@jupyter-widgets/base",
            "top": null,
            "grid_column": null,
            "overflow_y": null,
            "overflow_x": null,
            "grid_auto_flow": null,
            "grid_area": null,
            "grid_template_columns": null,
            "flex": null,
            "_model_name": "LayoutModel",
            "justify_items": null,
            "grid_row": null,
            "max_height": null,
            "align_content": null,
            "visibility": null,
            "align_self": null,
            "height": null,
            "min_height": null,
            "padding": null,
            "grid_auto_rows": null,
            "grid_gap": null,
            "max_width": null,
            "order": null,
            "_view_module_version": "1.2.0",
            "grid_template_areas": null,
            "object_position": null,
            "object_fit": null,
            "grid_auto_columns": null,
            "margin": null,
            "display": null,
            "left": null
          }
        },
        "f7bd83e5c3de4d9b82d47589a8291ad5": {
          "model_module": "@jupyter-widgets/controls",
          "model_name": "HBoxModel",
          "state": {
            "_view_name": "HBoxView",
            "_dom_classes": [],
            "_model_name": "HBoxModel",
            "_view_module": "@jupyter-widgets/controls",
            "_model_module_version": "1.5.0",
            "_view_count": null,
            "_view_module_version": "1.5.0",
            "box_style": "",
            "layout": "IPY_MODEL_18437185631b42fd973f6669943b1663",
            "_model_module": "@jupyter-widgets/controls",
            "children": [
              "IPY_MODEL_1c8cbb890eed44179decc0cd2ae7dd40",
              "IPY_MODEL_3f0c6ee3675b4f318e63c2ea87fe6539"
            ]
          }
        },
        "18437185631b42fd973f6669943b1663": {
          "model_module": "@jupyter-widgets/base",
          "model_name": "LayoutModel",
          "state": {
            "_view_name": "LayoutView",
            "grid_template_rows": null,
            "right": null,
            "justify_content": null,
            "_view_module": "@jupyter-widgets/base",
            "overflow": null,
            "_model_module_version": "1.2.0",
            "_view_count": null,
            "flex_flow": null,
            "width": null,
            "min_width": null,
            "border": null,
            "align_items": null,
            "bottom": null,
            "_model_module": "@jupyter-widgets/base",
            "top": null,
            "grid_column": null,
            "overflow_y": null,
            "overflow_x": null,
            "grid_auto_flow": null,
            "grid_area": null,
            "grid_template_columns": null,
            "flex": null,
            "_model_name": "LayoutModel",
            "justify_items": null,
            "grid_row": null,
            "max_height": null,
            "align_content": null,
            "visibility": null,
            "align_self": null,
            "height": null,
            "min_height": null,
            "padding": null,
            "grid_auto_rows": null,
            "grid_gap": null,
            "max_width": null,
            "order": null,
            "_view_module_version": "1.2.0",
            "grid_template_areas": null,
            "object_position": null,
            "object_fit": null,
            "grid_auto_columns": null,
            "margin": null,
            "display": null,
            "left": null
          }
        },
        "1c8cbb890eed44179decc0cd2ae7dd40": {
          "model_module": "@jupyter-widgets/controls",
          "model_name": "FloatProgressModel",
          "state": {
            "_view_name": "ProgressView",
            "style": "IPY_MODEL_4f991042149849f3859e834abc7894ee",
            "_dom_classes": [],
            "description": "Iteration: 100%",
            "_model_name": "FloatProgressModel",
            "bar_style": "success",
            "max": 563,
            "_view_module": "@jupyter-widgets/controls",
            "_model_module_version": "1.5.0",
            "value": 563,
            "_view_count": null,
            "_view_module_version": "1.5.0",
            "orientation": "horizontal",
            "min": 0,
            "description_tooltip": null,
            "_model_module": "@jupyter-widgets/controls",
            "layout": "IPY_MODEL_a694e676d07b4aa88b2699536717b42a"
          }
        },
        "3f0c6ee3675b4f318e63c2ea87fe6539": {
          "model_module": "@jupyter-widgets/controls",
          "model_name": "HTMLModel",
          "state": {
            "_view_name": "HTMLView",
            "style": "IPY_MODEL_80b0fd68258c4b8ca249b0ce2da40612",
            "_dom_classes": [],
            "description": "",
            "_model_name": "HTMLModel",
            "placeholder": "​",
            "_view_module": "@jupyter-widgets/controls",
            "_model_module_version": "1.5.0",
            "value": " 563/563 [13:30&lt;00:00,  1.44s/it]",
            "_view_count": null,
            "_view_module_version": "1.5.0",
            "description_tooltip": null,
            "_model_module": "@jupyter-widgets/controls",
            "layout": "IPY_MODEL_7084b2aaa61345ad9f4e57befacaf9ef"
          }
        },
        "4f991042149849f3859e834abc7894ee": {
          "model_module": "@jupyter-widgets/controls",
          "model_name": "ProgressStyleModel",
          "state": {
            "_view_name": "StyleView",
            "_model_name": "ProgressStyleModel",
            "description_width": "initial",
            "_view_module": "@jupyter-widgets/base",
            "_model_module_version": "1.5.0",
            "_view_count": null,
            "_view_module_version": "1.2.0",
            "bar_color": null,
            "_model_module": "@jupyter-widgets/controls"
          }
        },
        "a694e676d07b4aa88b2699536717b42a": {
          "model_module": "@jupyter-widgets/base",
          "model_name": "LayoutModel",
          "state": {
            "_view_name": "LayoutView",
            "grid_template_rows": null,
            "right": null,
            "justify_content": null,
            "_view_module": "@jupyter-widgets/base",
            "overflow": null,
            "_model_module_version": "1.2.0",
            "_view_count": null,
            "flex_flow": null,
            "width": null,
            "min_width": null,
            "border": null,
            "align_items": null,
            "bottom": null,
            "_model_module": "@jupyter-widgets/base",
            "top": null,
            "grid_column": null,
            "overflow_y": null,
            "overflow_x": null,
            "grid_auto_flow": null,
            "grid_area": null,
            "grid_template_columns": null,
            "flex": null,
            "_model_name": "LayoutModel",
            "justify_items": null,
            "grid_row": null,
            "max_height": null,
            "align_content": null,
            "visibility": null,
            "align_self": null,
            "height": null,
            "min_height": null,
            "padding": null,
            "grid_auto_rows": null,
            "grid_gap": null,
            "max_width": null,
            "order": null,
            "_view_module_version": "1.2.0",
            "grid_template_areas": null,
            "object_position": null,
            "object_fit": null,
            "grid_auto_columns": null,
            "margin": null,
            "display": null,
            "left": null
          }
        },
        "80b0fd68258c4b8ca249b0ce2da40612": {
          "model_module": "@jupyter-widgets/controls",
          "model_name": "DescriptionStyleModel",
          "state": {
            "_view_name": "StyleView",
            "_model_name": "DescriptionStyleModel",
            "description_width": "",
            "_view_module": "@jupyter-widgets/base",
            "_model_module_version": "1.5.0",
            "_view_count": null,
            "_view_module_version": "1.2.0",
            "_model_module": "@jupyter-widgets/controls"
          }
        },
        "7084b2aaa61345ad9f4e57befacaf9ef": {
          "model_module": "@jupyter-widgets/base",
          "model_name": "LayoutModel",
          "state": {
            "_view_name": "LayoutView",
            "grid_template_rows": null,
            "right": null,
            "justify_content": null,
            "_view_module": "@jupyter-widgets/base",
            "overflow": null,
            "_model_module_version": "1.2.0",
            "_view_count": null,
            "flex_flow": null,
            "width": null,
            "min_width": null,
            "border": null,
            "align_items": null,
            "bottom": null,
            "_model_module": "@jupyter-widgets/base",
            "top": null,
            "grid_column": null,
            "overflow_y": null,
            "overflow_x": null,
            "grid_auto_flow": null,
            "grid_area": null,
            "grid_template_columns": null,
            "flex": null,
            "_model_name": "LayoutModel",
            "justify_items": null,
            "grid_row": null,
            "max_height": null,
            "align_content": null,
            "visibility": null,
            "align_self": null,
            "height": null,
            "min_height": null,
            "padding": null,
            "grid_auto_rows": null,
            "grid_gap": null,
            "max_width": null,
            "order": null,
            "_view_module_version": "1.2.0",
            "grid_template_areas": null,
            "object_position": null,
            "object_fit": null,
            "grid_auto_columns": null,
            "margin": null,
            "display": null,
            "left": null
          }
        },
        "43d3884acec747e3a8e5a3a9eccc0e8a": {
          "model_module": "@jupyter-widgets/controls",
          "model_name": "HBoxModel",
          "state": {
            "_view_name": "HBoxView",
            "_dom_classes": [],
            "_model_name": "HBoxModel",
            "_view_module": "@jupyter-widgets/controls",
            "_model_module_version": "1.5.0",
            "_view_count": null,
            "_view_module_version": "1.5.0",
            "box_style": "",
            "layout": "IPY_MODEL_be76a1209eb84d0fb7353fd5fa6e1b3f",
            "_model_module": "@jupyter-widgets/controls",
            "children": [
              "IPY_MODEL_34a05ec559e94c6ea9dfb04337d7ba8c",
              "IPY_MODEL_9500319c106e4150b6721b1c3a2bd456"
            ]
          }
        },
        "be76a1209eb84d0fb7353fd5fa6e1b3f": {
          "model_module": "@jupyter-widgets/base",
          "model_name": "LayoutModel",
          "state": {
            "_view_name": "LayoutView",
            "grid_template_rows": null,
            "right": null,
            "justify_content": null,
            "_view_module": "@jupyter-widgets/base",
            "overflow": null,
            "_model_module_version": "1.2.0",
            "_view_count": null,
            "flex_flow": null,
            "width": null,
            "min_width": null,
            "border": null,
            "align_items": null,
            "bottom": null,
            "_model_module": "@jupyter-widgets/base",
            "top": null,
            "grid_column": null,
            "overflow_y": null,
            "overflow_x": null,
            "grid_auto_flow": null,
            "grid_area": null,
            "grid_template_columns": null,
            "flex": null,
            "_model_name": "LayoutModel",
            "justify_items": null,
            "grid_row": null,
            "max_height": null,
            "align_content": null,
            "visibility": null,
            "align_self": null,
            "height": null,
            "min_height": null,
            "padding": null,
            "grid_auto_rows": null,
            "grid_gap": null,
            "max_width": null,
            "order": null,
            "_view_module_version": "1.2.0",
            "grid_template_areas": null,
            "object_position": null,
            "object_fit": null,
            "grid_auto_columns": null,
            "margin": null,
            "display": null,
            "left": null
          }
        },
        "34a05ec559e94c6ea9dfb04337d7ba8c": {
          "model_module": "@jupyter-widgets/controls",
          "model_name": "FloatProgressModel",
          "state": {
            "_view_name": "ProgressView",
            "style": "IPY_MODEL_8e662e1601f7494cb2e2148be8fcd635",
            "_dom_classes": [],
            "description": "Iteration: 100%",
            "_model_name": "FloatProgressModel",
            "bar_style": "success",
            "max": 563,
            "_view_module": "@jupyter-widgets/controls",
            "_model_module_version": "1.5.0",
            "value": 563,
            "_view_count": null,
            "_view_module_version": "1.5.0",
            "orientation": "horizontal",
            "min": 0,
            "description_tooltip": null,
            "_model_module": "@jupyter-widgets/controls",
            "layout": "IPY_MODEL_d67e40f9848b4b19a01fe60c56ae63f1"
          }
        },
        "9500319c106e4150b6721b1c3a2bd456": {
          "model_module": "@jupyter-widgets/controls",
          "model_name": "HTMLModel",
          "state": {
            "_view_name": "HTMLView",
            "style": "IPY_MODEL_9f5713719e5444cb95900de296dae881",
            "_dom_classes": [],
            "description": "",
            "_model_name": "HTMLModel",
            "placeholder": "​",
            "_view_module": "@jupyter-widgets/controls",
            "_model_module_version": "1.5.0",
            "value": " 563/563 [10:22&lt;00:00,  1.10s/it]",
            "_view_count": null,
            "_view_module_version": "1.5.0",
            "description_tooltip": null,
            "_model_module": "@jupyter-widgets/controls",
            "layout": "IPY_MODEL_cd42f80b4b5a45df9f21d7d9a6824378"
          }
        },
        "8e662e1601f7494cb2e2148be8fcd635": {
          "model_module": "@jupyter-widgets/controls",
          "model_name": "ProgressStyleModel",
          "state": {
            "_view_name": "StyleView",
            "_model_name": "ProgressStyleModel",
            "description_width": "initial",
            "_view_module": "@jupyter-widgets/base",
            "_model_module_version": "1.5.0",
            "_view_count": null,
            "_view_module_version": "1.2.0",
            "bar_color": null,
            "_model_module": "@jupyter-widgets/controls"
          }
        },
        "d67e40f9848b4b19a01fe60c56ae63f1": {
          "model_module": "@jupyter-widgets/base",
          "model_name": "LayoutModel",
          "state": {
            "_view_name": "LayoutView",
            "grid_template_rows": null,
            "right": null,
            "justify_content": null,
            "_view_module": "@jupyter-widgets/base",
            "overflow": null,
            "_model_module_version": "1.2.0",
            "_view_count": null,
            "flex_flow": null,
            "width": null,
            "min_width": null,
            "border": null,
            "align_items": null,
            "bottom": null,
            "_model_module": "@jupyter-widgets/base",
            "top": null,
            "grid_column": null,
            "overflow_y": null,
            "overflow_x": null,
            "grid_auto_flow": null,
            "grid_area": null,
            "grid_template_columns": null,
            "flex": null,
            "_model_name": "LayoutModel",
            "justify_items": null,
            "grid_row": null,
            "max_height": null,
            "align_content": null,
            "visibility": null,
            "align_self": null,
            "height": null,
            "min_height": null,
            "padding": null,
            "grid_auto_rows": null,
            "grid_gap": null,
            "max_width": null,
            "order": null,
            "_view_module_version": "1.2.0",
            "grid_template_areas": null,
            "object_position": null,
            "object_fit": null,
            "grid_auto_columns": null,
            "margin": null,
            "display": null,
            "left": null
          }
        },
        "9f5713719e5444cb95900de296dae881": {
          "model_module": "@jupyter-widgets/controls",
          "model_name": "DescriptionStyleModel",
          "state": {
            "_view_name": "StyleView",
            "_model_name": "DescriptionStyleModel",
            "description_width": "",
            "_view_module": "@jupyter-widgets/base",
            "_model_module_version": "1.5.0",
            "_view_count": null,
            "_view_module_version": "1.2.0",
            "_model_module": "@jupyter-widgets/controls"
          }
        },
        "cd42f80b4b5a45df9f21d7d9a6824378": {
          "model_module": "@jupyter-widgets/base",
          "model_name": "LayoutModel",
          "state": {
            "_view_name": "LayoutView",
            "grid_template_rows": null,
            "right": null,
            "justify_content": null,
            "_view_module": "@jupyter-widgets/base",
            "overflow": null,
            "_model_module_version": "1.2.0",
            "_view_count": null,
            "flex_flow": null,
            "width": null,
            "min_width": null,
            "border": null,
            "align_items": null,
            "bottom": null,
            "_model_module": "@jupyter-widgets/base",
            "top": null,
            "grid_column": null,
            "overflow_y": null,
            "overflow_x": null,
            "grid_auto_flow": null,
            "grid_area": null,
            "grid_template_columns": null,
            "flex": null,
            "_model_name": "LayoutModel",
            "justify_items": null,
            "grid_row": null,
            "max_height": null,
            "align_content": null,
            "visibility": null,
            "align_self": null,
            "height": null,
            "min_height": null,
            "padding": null,
            "grid_auto_rows": null,
            "grid_gap": null,
            "max_width": null,
            "order": null,
            "_view_module_version": "1.2.0",
            "grid_template_areas": null,
            "object_position": null,
            "object_fit": null,
            "grid_auto_columns": null,
            "margin": null,
            "display": null,
            "left": null
          }
        },
        "d4d57bab92c94622ad64de5a4e2bd1ed": {
          "model_module": "@jupyter-widgets/controls",
          "model_name": "HBoxModel",
          "state": {
            "_view_name": "HBoxView",
            "_dom_classes": [],
            "_model_name": "HBoxModel",
            "_view_module": "@jupyter-widgets/controls",
            "_model_module_version": "1.5.0",
            "_view_count": null,
            "_view_module_version": "1.5.0",
            "box_style": "",
            "layout": "IPY_MODEL_6b88b849f8e248bf85c70add57193242",
            "_model_module": "@jupyter-widgets/controls",
            "children": [
              "IPY_MODEL_2bf3e3c7925b4f5b851fcc3f631614aa",
              "IPY_MODEL_507f489b5e0c4defa032a7eec79d90b1"
            ]
          }
        },
        "6b88b849f8e248bf85c70add57193242": {
          "model_module": "@jupyter-widgets/base",
          "model_name": "LayoutModel",
          "state": {
            "_view_name": "LayoutView",
            "grid_template_rows": null,
            "right": null,
            "justify_content": null,
            "_view_module": "@jupyter-widgets/base",
            "overflow": null,
            "_model_module_version": "1.2.0",
            "_view_count": null,
            "flex_flow": null,
            "width": null,
            "min_width": null,
            "border": null,
            "align_items": null,
            "bottom": null,
            "_model_module": "@jupyter-widgets/base",
            "top": null,
            "grid_column": null,
            "overflow_y": null,
            "overflow_x": null,
            "grid_auto_flow": null,
            "grid_area": null,
            "grid_template_columns": null,
            "flex": null,
            "_model_name": "LayoutModel",
            "justify_items": null,
            "grid_row": null,
            "max_height": null,
            "align_content": null,
            "visibility": null,
            "align_self": null,
            "height": null,
            "min_height": null,
            "padding": null,
            "grid_auto_rows": null,
            "grid_gap": null,
            "max_width": null,
            "order": null,
            "_view_module_version": "1.2.0",
            "grid_template_areas": null,
            "object_position": null,
            "object_fit": null,
            "grid_auto_columns": null,
            "margin": null,
            "display": null,
            "left": null
          }
        },
        "2bf3e3c7925b4f5b851fcc3f631614aa": {
          "model_module": "@jupyter-widgets/controls",
          "model_name": "FloatProgressModel",
          "state": {
            "_view_name": "ProgressView",
            "style": "IPY_MODEL_f093f03dccbf49ffa14b3ace8b594a49",
            "_dom_classes": [],
            "description": "Epoch: 100%",
            "_model_name": "FloatProgressModel",
            "bar_style": "success",
            "max": 5,
            "_view_module": "@jupyter-widgets/controls",
            "_model_module_version": "1.5.0",
            "value": 5,
            "_view_count": null,
            "_view_module_version": "1.5.0",
            "orientation": "horizontal",
            "min": 0,
            "description_tooltip": null,
            "_model_module": "@jupyter-widgets/controls",
            "layout": "IPY_MODEL_9e994de5ceb64d56811c5bb8c297f9d5"
          }
        },
        "507f489b5e0c4defa032a7eec79d90b1": {
          "model_module": "@jupyter-widgets/controls",
          "model_name": "HTMLModel",
          "state": {
            "_view_name": "HTMLView",
            "style": "IPY_MODEL_0ea216cd009c494d9e4eb57665f8d4aa",
            "_dom_classes": [],
            "description": "",
            "_model_name": "HTMLModel",
            "placeholder": "​",
            "_view_module": "@jupyter-widgets/controls",
            "_model_module_version": "1.5.0",
            "value": " 5/5 [26:23&lt;00:00, 316.73s/it]",
            "_view_count": null,
            "_view_module_version": "1.5.0",
            "description_tooltip": null,
            "_model_module": "@jupyter-widgets/controls",
            "layout": "IPY_MODEL_ebac30eff16c4c87ad742d71cdc785e9"
          }
        },
        "f093f03dccbf49ffa14b3ace8b594a49": {
          "model_module": "@jupyter-widgets/controls",
          "model_name": "ProgressStyleModel",
          "state": {
            "_view_name": "StyleView",
            "_model_name": "ProgressStyleModel",
            "description_width": "initial",
            "_view_module": "@jupyter-widgets/base",
            "_model_module_version": "1.5.0",
            "_view_count": null,
            "_view_module_version": "1.2.0",
            "bar_color": null,
            "_model_module": "@jupyter-widgets/controls"
          }
        },
        "9e994de5ceb64d56811c5bb8c297f9d5": {
          "model_module": "@jupyter-widgets/base",
          "model_name": "LayoutModel",
          "state": {
            "_view_name": "LayoutView",
            "grid_template_rows": null,
            "right": null,
            "justify_content": null,
            "_view_module": "@jupyter-widgets/base",
            "overflow": null,
            "_model_module_version": "1.2.0",
            "_view_count": null,
            "flex_flow": null,
            "width": null,
            "min_width": null,
            "border": null,
            "align_items": null,
            "bottom": null,
            "_model_module": "@jupyter-widgets/base",
            "top": null,
            "grid_column": null,
            "overflow_y": null,
            "overflow_x": null,
            "grid_auto_flow": null,
            "grid_area": null,
            "grid_template_columns": null,
            "flex": null,
            "_model_name": "LayoutModel",
            "justify_items": null,
            "grid_row": null,
            "max_height": null,
            "align_content": null,
            "visibility": null,
            "align_self": null,
            "height": null,
            "min_height": null,
            "padding": null,
            "grid_auto_rows": null,
            "grid_gap": null,
            "max_width": null,
            "order": null,
            "_view_module_version": "1.2.0",
            "grid_template_areas": null,
            "object_position": null,
            "object_fit": null,
            "grid_auto_columns": null,
            "margin": null,
            "display": null,
            "left": null
          }
        },
        "0ea216cd009c494d9e4eb57665f8d4aa": {
          "model_module": "@jupyter-widgets/controls",
          "model_name": "DescriptionStyleModel",
          "state": {
            "_view_name": "StyleView",
            "_model_name": "DescriptionStyleModel",
            "description_width": "",
            "_view_module": "@jupyter-widgets/base",
            "_model_module_version": "1.5.0",
            "_view_count": null,
            "_view_module_version": "1.2.0",
            "_model_module": "@jupyter-widgets/controls"
          }
        },
        "ebac30eff16c4c87ad742d71cdc785e9": {
          "model_module": "@jupyter-widgets/base",
          "model_name": "LayoutModel",
          "state": {
            "_view_name": "LayoutView",
            "grid_template_rows": null,
            "right": null,
            "justify_content": null,
            "_view_module": "@jupyter-widgets/base",
            "overflow": null,
            "_model_module_version": "1.2.0",
            "_view_count": null,
            "flex_flow": null,
            "width": null,
            "min_width": null,
            "border": null,
            "align_items": null,
            "bottom": null,
            "_model_module": "@jupyter-widgets/base",
            "top": null,
            "grid_column": null,
            "overflow_y": null,
            "overflow_x": null,
            "grid_auto_flow": null,
            "grid_area": null,
            "grid_template_columns": null,
            "flex": null,
            "_model_name": "LayoutModel",
            "justify_items": null,
            "grid_row": null,
            "max_height": null,
            "align_content": null,
            "visibility": null,
            "align_self": null,
            "height": null,
            "min_height": null,
            "padding": null,
            "grid_auto_rows": null,
            "grid_gap": null,
            "max_width": null,
            "order": null,
            "_view_module_version": "1.2.0",
            "grid_template_areas": null,
            "object_position": null,
            "object_fit": null,
            "grid_auto_columns": null,
            "margin": null,
            "display": null,
            "left": null
          }
        },
        "59b76a524b594885a5ad68fc352e62c4": {
          "model_module": "@jupyter-widgets/controls",
          "model_name": "HBoxModel",
          "state": {
            "_view_name": "HBoxView",
            "_dom_classes": [],
            "_model_name": "HBoxModel",
            "_view_module": "@jupyter-widgets/controls",
            "_model_module_version": "1.5.0",
            "_view_count": null,
            "_view_module_version": "1.5.0",
            "box_style": "",
            "layout": "IPY_MODEL_caa4d58acd0749f488b4a3dc228b8791",
            "_model_module": "@jupyter-widgets/controls",
            "children": [
              "IPY_MODEL_797f9a74733649ab8a9f231c4c140951",
              "IPY_MODEL_647ee362bb9a4c98886c4884b4e41767"
            ]
          }
        },
        "caa4d58acd0749f488b4a3dc228b8791": {
          "model_module": "@jupyter-widgets/base",
          "model_name": "LayoutModel",
          "state": {
            "_view_name": "LayoutView",
            "grid_template_rows": null,
            "right": null,
            "justify_content": null,
            "_view_module": "@jupyter-widgets/base",
            "overflow": null,
            "_model_module_version": "1.2.0",
            "_view_count": null,
            "flex_flow": null,
            "width": null,
            "min_width": null,
            "border": null,
            "align_items": null,
            "bottom": null,
            "_model_module": "@jupyter-widgets/base",
            "top": null,
            "grid_column": null,
            "overflow_y": null,
            "overflow_x": null,
            "grid_auto_flow": null,
            "grid_area": null,
            "grid_template_columns": null,
            "flex": null,
            "_model_name": "LayoutModel",
            "justify_items": null,
            "grid_row": null,
            "max_height": null,
            "align_content": null,
            "visibility": null,
            "align_self": null,
            "height": null,
            "min_height": null,
            "padding": null,
            "grid_auto_rows": null,
            "grid_gap": null,
            "max_width": null,
            "order": null,
            "_view_module_version": "1.2.0",
            "grid_template_areas": null,
            "object_position": null,
            "object_fit": null,
            "grid_auto_columns": null,
            "margin": null,
            "display": null,
            "left": null
          }
        },
        "797f9a74733649ab8a9f231c4c140951": {
          "model_module": "@jupyter-widgets/controls",
          "model_name": "FloatProgressModel",
          "state": {
            "_view_name": "ProgressView",
            "style": "IPY_MODEL_fec6014b47504dc199511ac7919c8e7a",
            "_dom_classes": [],
            "description": "Iteration: 100%",
            "_model_name": "FloatProgressModel",
            "bar_style": "success",
            "max": 63,
            "_view_module": "@jupyter-widgets/controls",
            "_model_module_version": "1.5.0",
            "value": 63,
            "_view_count": null,
            "_view_module_version": "1.5.0",
            "orientation": "horizontal",
            "min": 0,
            "description_tooltip": null,
            "_model_module": "@jupyter-widgets/controls",
            "layout": "IPY_MODEL_86c79a9c04434c8cb7af3944dd8c7e74"
          }
        },
        "647ee362bb9a4c98886c4884b4e41767": {
          "model_module": "@jupyter-widgets/controls",
          "model_name": "HTMLModel",
          "state": {
            "_view_name": "HTMLView",
            "style": "IPY_MODEL_eaf6e1c9252740dbb0928130f328298d",
            "_dom_classes": [],
            "description": "",
            "_model_name": "HTMLModel",
            "placeholder": "​",
            "_view_module": "@jupyter-widgets/controls",
            "_model_module_version": "1.5.0",
            "value": " 63/63 [00:51&lt;00:00,  1.23it/s]",
            "_view_count": null,
            "_view_module_version": "1.5.0",
            "description_tooltip": null,
            "_model_module": "@jupyter-widgets/controls",
            "layout": "IPY_MODEL_4d1510805c54448e91d48e29c710d39e"
          }
        },
        "fec6014b47504dc199511ac7919c8e7a": {
          "model_module": "@jupyter-widgets/controls",
          "model_name": "ProgressStyleModel",
          "state": {
            "_view_name": "StyleView",
            "_model_name": "ProgressStyleModel",
            "description_width": "initial",
            "_view_module": "@jupyter-widgets/base",
            "_model_module_version": "1.5.0",
            "_view_count": null,
            "_view_module_version": "1.2.0",
            "bar_color": null,
            "_model_module": "@jupyter-widgets/controls"
          }
        },
        "86c79a9c04434c8cb7af3944dd8c7e74": {
          "model_module": "@jupyter-widgets/base",
          "model_name": "LayoutModel",
          "state": {
            "_view_name": "LayoutView",
            "grid_template_rows": null,
            "right": null,
            "justify_content": null,
            "_view_module": "@jupyter-widgets/base",
            "overflow": null,
            "_model_module_version": "1.2.0",
            "_view_count": null,
            "flex_flow": null,
            "width": null,
            "min_width": null,
            "border": null,
            "align_items": null,
            "bottom": null,
            "_model_module": "@jupyter-widgets/base",
            "top": null,
            "grid_column": null,
            "overflow_y": null,
            "overflow_x": null,
            "grid_auto_flow": null,
            "grid_area": null,
            "grid_template_columns": null,
            "flex": null,
            "_model_name": "LayoutModel",
            "justify_items": null,
            "grid_row": null,
            "max_height": null,
            "align_content": null,
            "visibility": null,
            "align_self": null,
            "height": null,
            "min_height": null,
            "padding": null,
            "grid_auto_rows": null,
            "grid_gap": null,
            "max_width": null,
            "order": null,
            "_view_module_version": "1.2.0",
            "grid_template_areas": null,
            "object_position": null,
            "object_fit": null,
            "grid_auto_columns": null,
            "margin": null,
            "display": null,
            "left": null
          }
        },
        "eaf6e1c9252740dbb0928130f328298d": {
          "model_module": "@jupyter-widgets/controls",
          "model_name": "DescriptionStyleModel",
          "state": {
            "_view_name": "StyleView",
            "_model_name": "DescriptionStyleModel",
            "description_width": "",
            "_view_module": "@jupyter-widgets/base",
            "_model_module_version": "1.5.0",
            "_view_count": null,
            "_view_module_version": "1.2.0",
            "_model_module": "@jupyter-widgets/controls"
          }
        },
        "4d1510805c54448e91d48e29c710d39e": {
          "model_module": "@jupyter-widgets/base",
          "model_name": "LayoutModel",
          "state": {
            "_view_name": "LayoutView",
            "grid_template_rows": null,
            "right": null,
            "justify_content": null,
            "_view_module": "@jupyter-widgets/base",
            "overflow": null,
            "_model_module_version": "1.2.0",
            "_view_count": null,
            "flex_flow": null,
            "width": null,
            "min_width": null,
            "border": null,
            "align_items": null,
            "bottom": null,
            "_model_module": "@jupyter-widgets/base",
            "top": null,
            "grid_column": null,
            "overflow_y": null,
            "overflow_x": null,
            "grid_auto_flow": null,
            "grid_area": null,
            "grid_template_columns": null,
            "flex": null,
            "_model_name": "LayoutModel",
            "justify_items": null,
            "grid_row": null,
            "max_height": null,
            "align_content": null,
            "visibility": null,
            "align_self": null,
            "height": null,
            "min_height": null,
            "padding": null,
            "grid_auto_rows": null,
            "grid_gap": null,
            "max_width": null,
            "order": null,
            "_view_module_version": "1.2.0",
            "grid_template_areas": null,
            "object_position": null,
            "object_fit": null,
            "grid_auto_columns": null,
            "margin": null,
            "display": null,
            "left": null
          }
        },
        "ab91375499d2417083b6994a3da2f747": {
          "model_module": "@jupyter-widgets/controls",
          "model_name": "HBoxModel",
          "state": {
            "_view_name": "HBoxView",
            "_dom_classes": [],
            "_model_name": "HBoxModel",
            "_view_module": "@jupyter-widgets/controls",
            "_model_module_version": "1.5.0",
            "_view_count": null,
            "_view_module_version": "1.5.0",
            "box_style": "",
            "layout": "IPY_MODEL_74817b4be30046308a1a92c4d1a3753b",
            "_model_module": "@jupyter-widgets/controls",
            "children": [
              "IPY_MODEL_aae870f891e544728bc50ce3696dfba6",
              "IPY_MODEL_c4dccd16af8f4ab3bf0b5cd422af441e"
            ]
          }
        },
        "74817b4be30046308a1a92c4d1a3753b": {
          "model_module": "@jupyter-widgets/base",
          "model_name": "LayoutModel",
          "state": {
            "_view_name": "LayoutView",
            "grid_template_rows": null,
            "right": null,
            "justify_content": null,
            "_view_module": "@jupyter-widgets/base",
            "overflow": null,
            "_model_module_version": "1.2.0",
            "_view_count": null,
            "flex_flow": null,
            "width": null,
            "min_width": null,
            "border": null,
            "align_items": null,
            "bottom": null,
            "_model_module": "@jupyter-widgets/base",
            "top": null,
            "grid_column": null,
            "overflow_y": null,
            "overflow_x": null,
            "grid_auto_flow": null,
            "grid_area": null,
            "grid_template_columns": null,
            "flex": null,
            "_model_name": "LayoutModel",
            "justify_items": null,
            "grid_row": null,
            "max_height": null,
            "align_content": null,
            "visibility": null,
            "align_self": null,
            "height": null,
            "min_height": null,
            "padding": null,
            "grid_auto_rows": null,
            "grid_gap": null,
            "max_width": null,
            "order": null,
            "_view_module_version": "1.2.0",
            "grid_template_areas": null,
            "object_position": null,
            "object_fit": null,
            "grid_auto_columns": null,
            "margin": null,
            "display": null,
            "left": null
          }
        },
        "aae870f891e544728bc50ce3696dfba6": {
          "model_module": "@jupyter-widgets/controls",
          "model_name": "FloatProgressModel",
          "state": {
            "_view_name": "ProgressView",
            "style": "IPY_MODEL_917a46369fe541a99b7eeaaca9b47043",
            "_dom_classes": [],
            "description": "Iteration: 100%",
            "_model_name": "FloatProgressModel",
            "bar_style": "success",
            "max": 63,
            "_view_module": "@jupyter-widgets/controls",
            "_model_module_version": "1.5.0",
            "value": 63,
            "_view_count": null,
            "_view_module_version": "1.5.0",
            "orientation": "horizontal",
            "min": 0,
            "description_tooltip": null,
            "_model_module": "@jupyter-widgets/controls",
            "layout": "IPY_MODEL_6d326d661c6f498daa03952f8871ce74"
          }
        },
        "c4dccd16af8f4ab3bf0b5cd422af441e": {
          "model_module": "@jupyter-widgets/controls",
          "model_name": "HTMLModel",
          "state": {
            "_view_name": "HTMLView",
            "style": "IPY_MODEL_a0fbd166a2234c909b5c7214066acb4a",
            "_dom_classes": [],
            "description": "",
            "_model_name": "HTMLModel",
            "placeholder": "​",
            "_view_module": "@jupyter-widgets/controls",
            "_model_module_version": "1.5.0",
            "value": " 63/63 [02:01&lt;00:00,  1.92s/it]",
            "_view_count": null,
            "_view_module_version": "1.5.0",
            "description_tooltip": null,
            "_model_module": "@jupyter-widgets/controls",
            "layout": "IPY_MODEL_f1d0aa9bf5054275bdd699c28c9575d8"
          }
        },
        "917a46369fe541a99b7eeaaca9b47043": {
          "model_module": "@jupyter-widgets/controls",
          "model_name": "ProgressStyleModel",
          "state": {
            "_view_name": "StyleView",
            "_model_name": "ProgressStyleModel",
            "description_width": "initial",
            "_view_module": "@jupyter-widgets/base",
            "_model_module_version": "1.5.0",
            "_view_count": null,
            "_view_module_version": "1.2.0",
            "bar_color": null,
            "_model_module": "@jupyter-widgets/controls"
          }
        },
        "6d326d661c6f498daa03952f8871ce74": {
          "model_module": "@jupyter-widgets/base",
          "model_name": "LayoutModel",
          "state": {
            "_view_name": "LayoutView",
            "grid_template_rows": null,
            "right": null,
            "justify_content": null,
            "_view_module": "@jupyter-widgets/base",
            "overflow": null,
            "_model_module_version": "1.2.0",
            "_view_count": null,
            "flex_flow": null,
            "width": null,
            "min_width": null,
            "border": null,
            "align_items": null,
            "bottom": null,
            "_model_module": "@jupyter-widgets/base",
            "top": null,
            "grid_column": null,
            "overflow_y": null,
            "overflow_x": null,
            "grid_auto_flow": null,
            "grid_area": null,
            "grid_template_columns": null,
            "flex": null,
            "_model_name": "LayoutModel",
            "justify_items": null,
            "grid_row": null,
            "max_height": null,
            "align_content": null,
            "visibility": null,
            "align_self": null,
            "height": null,
            "min_height": null,
            "padding": null,
            "grid_auto_rows": null,
            "grid_gap": null,
            "max_width": null,
            "order": null,
            "_view_module_version": "1.2.0",
            "grid_template_areas": null,
            "object_position": null,
            "object_fit": null,
            "grid_auto_columns": null,
            "margin": null,
            "display": null,
            "left": null
          }
        },
        "a0fbd166a2234c909b5c7214066acb4a": {
          "model_module": "@jupyter-widgets/controls",
          "model_name": "DescriptionStyleModel",
          "state": {
            "_view_name": "StyleView",
            "_model_name": "DescriptionStyleModel",
            "description_width": "",
            "_view_module": "@jupyter-widgets/base",
            "_model_module_version": "1.5.0",
            "_view_count": null,
            "_view_module_version": "1.2.0",
            "_model_module": "@jupyter-widgets/controls"
          }
        },
        "f1d0aa9bf5054275bdd699c28c9575d8": {
          "model_module": "@jupyter-widgets/base",
          "model_name": "LayoutModel",
          "state": {
            "_view_name": "LayoutView",
            "grid_template_rows": null,
            "right": null,
            "justify_content": null,
            "_view_module": "@jupyter-widgets/base",
            "overflow": null,
            "_model_module_version": "1.2.0",
            "_view_count": null,
            "flex_flow": null,
            "width": null,
            "min_width": null,
            "border": null,
            "align_items": null,
            "bottom": null,
            "_model_module": "@jupyter-widgets/base",
            "top": null,
            "grid_column": null,
            "overflow_y": null,
            "overflow_x": null,
            "grid_auto_flow": null,
            "grid_area": null,
            "grid_template_columns": null,
            "flex": null,
            "_model_name": "LayoutModel",
            "justify_items": null,
            "grid_row": null,
            "max_height": null,
            "align_content": null,
            "visibility": null,
            "align_self": null,
            "height": null,
            "min_height": null,
            "padding": null,
            "grid_auto_rows": null,
            "grid_gap": null,
            "max_width": null,
            "order": null,
            "_view_module_version": "1.2.0",
            "grid_template_areas": null,
            "object_position": null,
            "object_fit": null,
            "grid_auto_columns": null,
            "margin": null,
            "display": null,
            "left": null
          }
        },
        "cf1db86a0d9645feb4d80a6846013f3f": {
          "model_module": "@jupyter-widgets/controls",
          "model_name": "HBoxModel",
          "state": {
            "_view_name": "HBoxView",
            "_dom_classes": [],
            "_model_name": "HBoxModel",
            "_view_module": "@jupyter-widgets/controls",
            "_model_module_version": "1.5.0",
            "_view_count": null,
            "_view_module_version": "1.5.0",
            "box_style": "",
            "layout": "IPY_MODEL_ea06feea388f416aa9f69f7b19c9d172",
            "_model_module": "@jupyter-widgets/controls",
            "children": [
              "IPY_MODEL_5b0fb5fd643c4cb1b13c554e49f7d6aa",
              "IPY_MODEL_6cab9a54a3bc4cae8e38ebcd6a776794"
            ]
          }
        },
        "ea06feea388f416aa9f69f7b19c9d172": {
          "model_module": "@jupyter-widgets/base",
          "model_name": "LayoutModel",
          "state": {
            "_view_name": "LayoutView",
            "grid_template_rows": null,
            "right": null,
            "justify_content": null,
            "_view_module": "@jupyter-widgets/base",
            "overflow": null,
            "_model_module_version": "1.2.0",
            "_view_count": null,
            "flex_flow": null,
            "width": null,
            "min_width": null,
            "border": null,
            "align_items": null,
            "bottom": null,
            "_model_module": "@jupyter-widgets/base",
            "top": null,
            "grid_column": null,
            "overflow_y": null,
            "overflow_x": null,
            "grid_auto_flow": null,
            "grid_area": null,
            "grid_template_columns": null,
            "flex": null,
            "_model_name": "LayoutModel",
            "justify_items": null,
            "grid_row": null,
            "max_height": null,
            "align_content": null,
            "visibility": null,
            "align_self": null,
            "height": null,
            "min_height": null,
            "padding": null,
            "grid_auto_rows": null,
            "grid_gap": null,
            "max_width": null,
            "order": null,
            "_view_module_version": "1.2.0",
            "grid_template_areas": null,
            "object_position": null,
            "object_fit": null,
            "grid_auto_columns": null,
            "margin": null,
            "display": null,
            "left": null
          }
        },
        "5b0fb5fd643c4cb1b13c554e49f7d6aa": {
          "model_module": "@jupyter-widgets/controls",
          "model_name": "FloatProgressModel",
          "state": {
            "_view_name": "ProgressView",
            "style": "IPY_MODEL_895ffd78cc5742ea8756dc7b62103330",
            "_dom_classes": [],
            "description": "Iteration: 100%",
            "_model_name": "FloatProgressModel",
            "bar_style": "success",
            "max": 63,
            "_view_module": "@jupyter-widgets/controls",
            "_model_module_version": "1.5.0",
            "value": 63,
            "_view_count": null,
            "_view_module_version": "1.5.0",
            "orientation": "horizontal",
            "min": 0,
            "description_tooltip": null,
            "_model_module": "@jupyter-widgets/controls",
            "layout": "IPY_MODEL_a2689b0f002f4bf5a2a1c5a6ae4b6e1b"
          }
        },
        "6cab9a54a3bc4cae8e38ebcd6a776794": {
          "model_module": "@jupyter-widgets/controls",
          "model_name": "HTMLModel",
          "state": {
            "_view_name": "HTMLView",
            "style": "IPY_MODEL_e9ae48cb582c4549b311c243d12024aa",
            "_dom_classes": [],
            "description": "",
            "_model_name": "HTMLModel",
            "placeholder": "​",
            "_view_module": "@jupyter-widgets/controls",
            "_model_module_version": "1.5.0",
            "value": " 63/63 [01:03&lt;00:00,  1.00s/it]",
            "_view_count": null,
            "_view_module_version": "1.5.0",
            "description_tooltip": null,
            "_model_module": "@jupyter-widgets/controls",
            "layout": "IPY_MODEL_a6e4a581694f46c7b6eccfce7d8acc68"
          }
        },
        "895ffd78cc5742ea8756dc7b62103330": {
          "model_module": "@jupyter-widgets/controls",
          "model_name": "ProgressStyleModel",
          "state": {
            "_view_name": "StyleView",
            "_model_name": "ProgressStyleModel",
            "description_width": "initial",
            "_view_module": "@jupyter-widgets/base",
            "_model_module_version": "1.5.0",
            "_view_count": null,
            "_view_module_version": "1.2.0",
            "bar_color": null,
            "_model_module": "@jupyter-widgets/controls"
          }
        },
        "a2689b0f002f4bf5a2a1c5a6ae4b6e1b": {
          "model_module": "@jupyter-widgets/base",
          "model_name": "LayoutModel",
          "state": {
            "_view_name": "LayoutView",
            "grid_template_rows": null,
            "right": null,
            "justify_content": null,
            "_view_module": "@jupyter-widgets/base",
            "overflow": null,
            "_model_module_version": "1.2.0",
            "_view_count": null,
            "flex_flow": null,
            "width": null,
            "min_width": null,
            "border": null,
            "align_items": null,
            "bottom": null,
            "_model_module": "@jupyter-widgets/base",
            "top": null,
            "grid_column": null,
            "overflow_y": null,
            "overflow_x": null,
            "grid_auto_flow": null,
            "grid_area": null,
            "grid_template_columns": null,
            "flex": null,
            "_model_name": "LayoutModel",
            "justify_items": null,
            "grid_row": null,
            "max_height": null,
            "align_content": null,
            "visibility": null,
            "align_self": null,
            "height": null,
            "min_height": null,
            "padding": null,
            "grid_auto_rows": null,
            "grid_gap": null,
            "max_width": null,
            "order": null,
            "_view_module_version": "1.2.0",
            "grid_template_areas": null,
            "object_position": null,
            "object_fit": null,
            "grid_auto_columns": null,
            "margin": null,
            "display": null,
            "left": null
          }
        },
        "e9ae48cb582c4549b311c243d12024aa": {
          "model_module": "@jupyter-widgets/controls",
          "model_name": "DescriptionStyleModel",
          "state": {
            "_view_name": "StyleView",
            "_model_name": "DescriptionStyleModel",
            "description_width": "",
            "_view_module": "@jupyter-widgets/base",
            "_model_module_version": "1.5.0",
            "_view_count": null,
            "_view_module_version": "1.2.0",
            "_model_module": "@jupyter-widgets/controls"
          }
        },
        "a6e4a581694f46c7b6eccfce7d8acc68": {
          "model_module": "@jupyter-widgets/base",
          "model_name": "LayoutModel",
          "state": {
            "_view_name": "LayoutView",
            "grid_template_rows": null,
            "right": null,
            "justify_content": null,
            "_view_module": "@jupyter-widgets/base",
            "overflow": null,
            "_model_module_version": "1.2.0",
            "_view_count": null,
            "flex_flow": null,
            "width": null,
            "min_width": null,
            "border": null,
            "align_items": null,
            "bottom": null,
            "_model_module": "@jupyter-widgets/base",
            "top": null,
            "grid_column": null,
            "overflow_y": null,
            "overflow_x": null,
            "grid_auto_flow": null,
            "grid_area": null,
            "grid_template_columns": null,
            "flex": null,
            "_model_name": "LayoutModel",
            "justify_items": null,
            "grid_row": null,
            "max_height": null,
            "align_content": null,
            "visibility": null,
            "align_self": null,
            "height": null,
            "min_height": null,
            "padding": null,
            "grid_auto_rows": null,
            "grid_gap": null,
            "max_width": null,
            "order": null,
            "_view_module_version": "1.2.0",
            "grid_template_areas": null,
            "object_position": null,
            "object_fit": null,
            "grid_auto_columns": null,
            "margin": null,
            "display": null,
            "left": null
          }
        },
        "855d5ee62acc4c0daa2d7a090d1e8928": {
          "model_module": "@jupyter-widgets/controls",
          "model_name": "HBoxModel",
          "state": {
            "_view_name": "HBoxView",
            "_dom_classes": [],
            "_model_name": "HBoxModel",
            "_view_module": "@jupyter-widgets/controls",
            "_model_module_version": "1.5.0",
            "_view_count": null,
            "_view_module_version": "1.5.0",
            "box_style": "",
            "layout": "IPY_MODEL_225fefd4567942baa7c674fdaba48921",
            "_model_module": "@jupyter-widgets/controls",
            "children": [
              "IPY_MODEL_b5d1e70672f949468a70cd23a371e72f",
              "IPY_MODEL_10e8486d4e844f85a659097dfc971ce8"
            ]
          }
        },
        "225fefd4567942baa7c674fdaba48921": {
          "model_module": "@jupyter-widgets/base",
          "model_name": "LayoutModel",
          "state": {
            "_view_name": "LayoutView",
            "grid_template_rows": null,
            "right": null,
            "justify_content": null,
            "_view_module": "@jupyter-widgets/base",
            "overflow": null,
            "_model_module_version": "1.2.0",
            "_view_count": null,
            "flex_flow": null,
            "width": null,
            "min_width": null,
            "border": null,
            "align_items": null,
            "bottom": null,
            "_model_module": "@jupyter-widgets/base",
            "top": null,
            "grid_column": null,
            "overflow_y": null,
            "overflow_x": null,
            "grid_auto_flow": null,
            "grid_area": null,
            "grid_template_columns": null,
            "flex": null,
            "_model_name": "LayoutModel",
            "justify_items": null,
            "grid_row": null,
            "max_height": null,
            "align_content": null,
            "visibility": null,
            "align_self": null,
            "height": null,
            "min_height": null,
            "padding": null,
            "grid_auto_rows": null,
            "grid_gap": null,
            "max_width": null,
            "order": null,
            "_view_module_version": "1.2.0",
            "grid_template_areas": null,
            "object_position": null,
            "object_fit": null,
            "grid_auto_columns": null,
            "margin": null,
            "display": null,
            "left": null
          }
        },
        "b5d1e70672f949468a70cd23a371e72f": {
          "model_module": "@jupyter-widgets/controls",
          "model_name": "FloatProgressModel",
          "state": {
            "_view_name": "ProgressView",
            "style": "IPY_MODEL_7532e4a36d394cf4bd0d31ece0e08bb7",
            "_dom_classes": [],
            "description": "Iteration: 100%",
            "_model_name": "FloatProgressModel",
            "bar_style": "success",
            "max": 63,
            "_view_module": "@jupyter-widgets/controls",
            "_model_module_version": "1.5.0",
            "value": 63,
            "_view_count": null,
            "_view_module_version": "1.5.0",
            "orientation": "horizontal",
            "min": 0,
            "description_tooltip": null,
            "_model_module": "@jupyter-widgets/controls",
            "layout": "IPY_MODEL_c9d265fb1e76476eb0b438b931e9a893"
          }
        },
        "10e8486d4e844f85a659097dfc971ce8": {
          "model_module": "@jupyter-widgets/controls",
          "model_name": "HTMLModel",
          "state": {
            "_view_name": "HTMLView",
            "style": "IPY_MODEL_602a506550c7421cad62b55963ee27b0",
            "_dom_classes": [],
            "description": "",
            "_model_name": "HTMLModel",
            "placeholder": "​",
            "_view_module": "@jupyter-widgets/controls",
            "_model_module_version": "1.5.0",
            "value": " 63/63 [23:31&lt;00:00, 22.40s/it]",
            "_view_count": null,
            "_view_module_version": "1.5.0",
            "description_tooltip": null,
            "_model_module": "@jupyter-widgets/controls",
            "layout": "IPY_MODEL_a0188e3fdaea4d59b8e8f3c3099e9cfb"
          }
        },
        "7532e4a36d394cf4bd0d31ece0e08bb7": {
          "model_module": "@jupyter-widgets/controls",
          "model_name": "ProgressStyleModel",
          "state": {
            "_view_name": "StyleView",
            "_model_name": "ProgressStyleModel",
            "description_width": "initial",
            "_view_module": "@jupyter-widgets/base",
            "_model_module_version": "1.5.0",
            "_view_count": null,
            "_view_module_version": "1.2.0",
            "bar_color": null,
            "_model_module": "@jupyter-widgets/controls"
          }
        },
        "c9d265fb1e76476eb0b438b931e9a893": {
          "model_module": "@jupyter-widgets/base",
          "model_name": "LayoutModel",
          "state": {
            "_view_name": "LayoutView",
            "grid_template_rows": null,
            "right": null,
            "justify_content": null,
            "_view_module": "@jupyter-widgets/base",
            "overflow": null,
            "_model_module_version": "1.2.0",
            "_view_count": null,
            "flex_flow": null,
            "width": null,
            "min_width": null,
            "border": null,
            "align_items": null,
            "bottom": null,
            "_model_module": "@jupyter-widgets/base",
            "top": null,
            "grid_column": null,
            "overflow_y": null,
            "overflow_x": null,
            "grid_auto_flow": null,
            "grid_area": null,
            "grid_template_columns": null,
            "flex": null,
            "_model_name": "LayoutModel",
            "justify_items": null,
            "grid_row": null,
            "max_height": null,
            "align_content": null,
            "visibility": null,
            "align_self": null,
            "height": null,
            "min_height": null,
            "padding": null,
            "grid_auto_rows": null,
            "grid_gap": null,
            "max_width": null,
            "order": null,
            "_view_module_version": "1.2.0",
            "grid_template_areas": null,
            "object_position": null,
            "object_fit": null,
            "grid_auto_columns": null,
            "margin": null,
            "display": null,
            "left": null
          }
        },
        "602a506550c7421cad62b55963ee27b0": {
          "model_module": "@jupyter-widgets/controls",
          "model_name": "DescriptionStyleModel",
          "state": {
            "_view_name": "StyleView",
            "_model_name": "DescriptionStyleModel",
            "description_width": "",
            "_view_module": "@jupyter-widgets/base",
            "_model_module_version": "1.5.0",
            "_view_count": null,
            "_view_module_version": "1.2.0",
            "_model_module": "@jupyter-widgets/controls"
          }
        },
        "a0188e3fdaea4d59b8e8f3c3099e9cfb": {
          "model_module": "@jupyter-widgets/base",
          "model_name": "LayoutModel",
          "state": {
            "_view_name": "LayoutView",
            "grid_template_rows": null,
            "right": null,
            "justify_content": null,
            "_view_module": "@jupyter-widgets/base",
            "overflow": null,
            "_model_module_version": "1.2.0",
            "_view_count": null,
            "flex_flow": null,
            "width": null,
            "min_width": null,
            "border": null,
            "align_items": null,
            "bottom": null,
            "_model_module": "@jupyter-widgets/base",
            "top": null,
            "grid_column": null,
            "overflow_y": null,
            "overflow_x": null,
            "grid_auto_flow": null,
            "grid_area": null,
            "grid_template_columns": null,
            "flex": null,
            "_model_name": "LayoutModel",
            "justify_items": null,
            "grid_row": null,
            "max_height": null,
            "align_content": null,
            "visibility": null,
            "align_self": null,
            "height": null,
            "min_height": null,
            "padding": null,
            "grid_auto_rows": null,
            "grid_gap": null,
            "max_width": null,
            "order": null,
            "_view_module_version": "1.2.0",
            "grid_template_areas": null,
            "object_position": null,
            "object_fit": null,
            "grid_auto_columns": null,
            "margin": null,
            "display": null,
            "left": null
          }
        },
        "0c6262f7bc4f4af0ab4459c7270a8f62": {
          "model_module": "@jupyter-widgets/controls",
          "model_name": "HBoxModel",
          "state": {
            "_view_name": "HBoxView",
            "_dom_classes": [],
            "_model_name": "HBoxModel",
            "_view_module": "@jupyter-widgets/controls",
            "_model_module_version": "1.5.0",
            "_view_count": null,
            "_view_module_version": "1.5.0",
            "box_style": "",
            "layout": "IPY_MODEL_dd76f15d693f4664ada6fa76d2eec4a9",
            "_model_module": "@jupyter-widgets/controls",
            "children": [
              "IPY_MODEL_4e52240491e6491e927a0b97dc69611f",
              "IPY_MODEL_593cd9ce6b9542a9a1ec5e9b01203b55"
            ]
          }
        },
        "dd76f15d693f4664ada6fa76d2eec4a9": {
          "model_module": "@jupyter-widgets/base",
          "model_name": "LayoutModel",
          "state": {
            "_view_name": "LayoutView",
            "grid_template_rows": null,
            "right": null,
            "justify_content": null,
            "_view_module": "@jupyter-widgets/base",
            "overflow": null,
            "_model_module_version": "1.2.0",
            "_view_count": null,
            "flex_flow": null,
            "width": null,
            "min_width": null,
            "border": null,
            "align_items": null,
            "bottom": null,
            "_model_module": "@jupyter-widgets/base",
            "top": null,
            "grid_column": null,
            "overflow_y": null,
            "overflow_x": null,
            "grid_auto_flow": null,
            "grid_area": null,
            "grid_template_columns": null,
            "flex": null,
            "_model_name": "LayoutModel",
            "justify_items": null,
            "grid_row": null,
            "max_height": null,
            "align_content": null,
            "visibility": null,
            "align_self": null,
            "height": null,
            "min_height": null,
            "padding": null,
            "grid_auto_rows": null,
            "grid_gap": null,
            "max_width": null,
            "order": null,
            "_view_module_version": "1.2.0",
            "grid_template_areas": null,
            "object_position": null,
            "object_fit": null,
            "grid_auto_columns": null,
            "margin": null,
            "display": null,
            "left": null
          }
        },
        "4e52240491e6491e927a0b97dc69611f": {
          "model_module": "@jupyter-widgets/controls",
          "model_name": "FloatProgressModel",
          "state": {
            "_view_name": "ProgressView",
            "style": "IPY_MODEL_1b5cfdbac8c44ee4b5d1e32ac41c290d",
            "_dom_classes": [],
            "description": "Iteration: 100%",
            "_model_name": "FloatProgressModel",
            "bar_style": "success",
            "max": 63,
            "_view_module": "@jupyter-widgets/controls",
            "_model_module_version": "1.5.0",
            "value": 63,
            "_view_count": null,
            "_view_module_version": "1.5.0",
            "orientation": "horizontal",
            "min": 0,
            "description_tooltip": null,
            "_model_module": "@jupyter-widgets/controls",
            "layout": "IPY_MODEL_0a0c92078a384dbfa9234ec67109d4f8"
          }
        },
        "593cd9ce6b9542a9a1ec5e9b01203b55": {
          "model_module": "@jupyter-widgets/controls",
          "model_name": "HTMLModel",
          "state": {
            "_view_name": "HTMLView",
            "style": "IPY_MODEL_5e85eb6521d3459e9cc04a1f07a7f647",
            "_dom_classes": [],
            "description": "",
            "_model_name": "HTMLModel",
            "placeholder": "​",
            "_view_module": "@jupyter-widgets/controls",
            "_model_module_version": "1.5.0",
            "value": " 63/63 [02:35&lt;00:00,  2.47s/it]",
            "_view_count": null,
            "_view_module_version": "1.5.0",
            "description_tooltip": null,
            "_model_module": "@jupyter-widgets/controls",
            "layout": "IPY_MODEL_33d8301f7dd34f678508e2def62c8e98"
          }
        },
        "1b5cfdbac8c44ee4b5d1e32ac41c290d": {
          "model_module": "@jupyter-widgets/controls",
          "model_name": "ProgressStyleModel",
          "state": {
            "_view_name": "StyleView",
            "_model_name": "ProgressStyleModel",
            "description_width": "initial",
            "_view_module": "@jupyter-widgets/base",
            "_model_module_version": "1.5.0",
            "_view_count": null,
            "_view_module_version": "1.2.0",
            "bar_color": null,
            "_model_module": "@jupyter-widgets/controls"
          }
        },
        "0a0c92078a384dbfa9234ec67109d4f8": {
          "model_module": "@jupyter-widgets/base",
          "model_name": "LayoutModel",
          "state": {
            "_view_name": "LayoutView",
            "grid_template_rows": null,
            "right": null,
            "justify_content": null,
            "_view_module": "@jupyter-widgets/base",
            "overflow": null,
            "_model_module_version": "1.2.0",
            "_view_count": null,
            "flex_flow": null,
            "width": null,
            "min_width": null,
            "border": null,
            "align_items": null,
            "bottom": null,
            "_model_module": "@jupyter-widgets/base",
            "top": null,
            "grid_column": null,
            "overflow_y": null,
            "overflow_x": null,
            "grid_auto_flow": null,
            "grid_area": null,
            "grid_template_columns": null,
            "flex": null,
            "_model_name": "LayoutModel",
            "justify_items": null,
            "grid_row": null,
            "max_height": null,
            "align_content": null,
            "visibility": null,
            "align_self": null,
            "height": null,
            "min_height": null,
            "padding": null,
            "grid_auto_rows": null,
            "grid_gap": null,
            "max_width": null,
            "order": null,
            "_view_module_version": "1.2.0",
            "grid_template_areas": null,
            "object_position": null,
            "object_fit": null,
            "grid_auto_columns": null,
            "margin": null,
            "display": null,
            "left": null
          }
        },
        "5e85eb6521d3459e9cc04a1f07a7f647": {
          "model_module": "@jupyter-widgets/controls",
          "model_name": "DescriptionStyleModel",
          "state": {
            "_view_name": "StyleView",
            "_model_name": "DescriptionStyleModel",
            "description_width": "",
            "_view_module": "@jupyter-widgets/base",
            "_model_module_version": "1.5.0",
            "_view_count": null,
            "_view_module_version": "1.2.0",
            "_model_module": "@jupyter-widgets/controls"
          }
        },
        "33d8301f7dd34f678508e2def62c8e98": {
          "model_module": "@jupyter-widgets/base",
          "model_name": "LayoutModel",
          "state": {
            "_view_name": "LayoutView",
            "grid_template_rows": null,
            "right": null,
            "justify_content": null,
            "_view_module": "@jupyter-widgets/base",
            "overflow": null,
            "_model_module_version": "1.2.0",
            "_view_count": null,
            "flex_flow": null,
            "width": null,
            "min_width": null,
            "border": null,
            "align_items": null,
            "bottom": null,
            "_model_module": "@jupyter-widgets/base",
            "top": null,
            "grid_column": null,
            "overflow_y": null,
            "overflow_x": null,
            "grid_auto_flow": null,
            "grid_area": null,
            "grid_template_columns": null,
            "flex": null,
            "_model_name": "LayoutModel",
            "justify_items": null,
            "grid_row": null,
            "max_height": null,
            "align_content": null,
            "visibility": null,
            "align_self": null,
            "height": null,
            "min_height": null,
            "padding": null,
            "grid_auto_rows": null,
            "grid_gap": null,
            "max_width": null,
            "order": null,
            "_view_module_version": "1.2.0",
            "grid_template_areas": null,
            "object_position": null,
            "object_fit": null,
            "grid_auto_columns": null,
            "margin": null,
            "display": null,
            "left": null
          }
        },
        "849798496f134936ae398715a49deb14": {
          "model_module": "@jupyter-widgets/controls",
          "model_name": "HBoxModel",
          "state": {
            "_view_name": "HBoxView",
            "_dom_classes": [],
            "_model_name": "HBoxModel",
            "_view_module": "@jupyter-widgets/controls",
            "_model_module_version": "1.5.0",
            "_view_count": null,
            "_view_module_version": "1.5.0",
            "box_style": "",
            "layout": "IPY_MODEL_8a5723c9ff3047bcb75b5cbe1987f422",
            "_model_module": "@jupyter-widgets/controls",
            "children": [
              "IPY_MODEL_e510b0595bbd4a03b3d020678363f7a0",
              "IPY_MODEL_2670812a865f45d387b45af950fd5171"
            ]
          }
        },
        "8a5723c9ff3047bcb75b5cbe1987f422": {
          "model_module": "@jupyter-widgets/base",
          "model_name": "LayoutModel",
          "state": {
            "_view_name": "LayoutView",
            "grid_template_rows": null,
            "right": null,
            "justify_content": null,
            "_view_module": "@jupyter-widgets/base",
            "overflow": null,
            "_model_module_version": "1.2.0",
            "_view_count": null,
            "flex_flow": null,
            "width": null,
            "min_width": null,
            "border": null,
            "align_items": null,
            "bottom": null,
            "_model_module": "@jupyter-widgets/base",
            "top": null,
            "grid_column": null,
            "overflow_y": null,
            "overflow_x": null,
            "grid_auto_flow": null,
            "grid_area": null,
            "grid_template_columns": null,
            "flex": null,
            "_model_name": "LayoutModel",
            "justify_items": null,
            "grid_row": null,
            "max_height": null,
            "align_content": null,
            "visibility": null,
            "align_self": null,
            "height": null,
            "min_height": null,
            "padding": null,
            "grid_auto_rows": null,
            "grid_gap": null,
            "max_width": null,
            "order": null,
            "_view_module_version": "1.2.0",
            "grid_template_areas": null,
            "object_position": null,
            "object_fit": null,
            "grid_auto_columns": null,
            "margin": null,
            "display": null,
            "left": null
          }
        },
        "e510b0595bbd4a03b3d020678363f7a0": {
          "model_module": "@jupyter-widgets/controls",
          "model_name": "FloatProgressModel",
          "state": {
            "_view_name": "ProgressView",
            "style": "IPY_MODEL_79700f5cd44442cb899c98af4dfe9cf7",
            "_dom_classes": [],
            "description": "Epoch:   0%",
            "_model_name": "FloatProgressModel",
            "bar_style": "",
            "max": 5,
            "_view_module": "@jupyter-widgets/controls",
            "_model_module_version": "1.5.0",
            "value": 0,
            "_view_count": null,
            "_view_module_version": "1.5.0",
            "orientation": "horizontal",
            "min": 0,
            "description_tooltip": null,
            "_model_module": "@jupyter-widgets/controls",
            "layout": "IPY_MODEL_40f05421336146249db29e6c696479e1"
          }
        },
        "2670812a865f45d387b45af950fd5171": {
          "model_module": "@jupyter-widgets/controls",
          "model_name": "HTMLModel",
          "state": {
            "_view_name": "HTMLView",
            "style": "IPY_MODEL_afa78cedc4db4b55a6b6b9819e0ff947",
            "_dom_classes": [],
            "description": "",
            "_model_name": "HTMLModel",
            "placeholder": "​",
            "_view_module": "@jupyter-widgets/controls",
            "_model_module_version": "1.5.0",
            "value": " 0/5 [00:00&lt;?, ?it/s]",
            "_view_count": null,
            "_view_module_version": "1.5.0",
            "description_tooltip": null,
            "_model_module": "@jupyter-widgets/controls",
            "layout": "IPY_MODEL_f701ca82b0f9454b8c926997833b6431"
          }
        },
        "79700f5cd44442cb899c98af4dfe9cf7": {
          "model_module": "@jupyter-widgets/controls",
          "model_name": "ProgressStyleModel",
          "state": {
            "_view_name": "StyleView",
            "_model_name": "ProgressStyleModel",
            "description_width": "initial",
            "_view_module": "@jupyter-widgets/base",
            "_model_module_version": "1.5.0",
            "_view_count": null,
            "_view_module_version": "1.2.0",
            "bar_color": null,
            "_model_module": "@jupyter-widgets/controls"
          }
        },
        "40f05421336146249db29e6c696479e1": {
          "model_module": "@jupyter-widgets/base",
          "model_name": "LayoutModel",
          "state": {
            "_view_name": "LayoutView",
            "grid_template_rows": null,
            "right": null,
            "justify_content": null,
            "_view_module": "@jupyter-widgets/base",
            "overflow": null,
            "_model_module_version": "1.2.0",
            "_view_count": null,
            "flex_flow": null,
            "width": null,
            "min_width": null,
            "border": null,
            "align_items": null,
            "bottom": null,
            "_model_module": "@jupyter-widgets/base",
            "top": null,
            "grid_column": null,
            "overflow_y": null,
            "overflow_x": null,
            "grid_auto_flow": null,
            "grid_area": null,
            "grid_template_columns": null,
            "flex": null,
            "_model_name": "LayoutModel",
            "justify_items": null,
            "grid_row": null,
            "max_height": null,
            "align_content": null,
            "visibility": null,
            "align_self": null,
            "height": null,
            "min_height": null,
            "padding": null,
            "grid_auto_rows": null,
            "grid_gap": null,
            "max_width": null,
            "order": null,
            "_view_module_version": "1.2.0",
            "grid_template_areas": null,
            "object_position": null,
            "object_fit": null,
            "grid_auto_columns": null,
            "margin": null,
            "display": null,
            "left": null
          }
        },
        "afa78cedc4db4b55a6b6b9819e0ff947": {
          "model_module": "@jupyter-widgets/controls",
          "model_name": "DescriptionStyleModel",
          "state": {
            "_view_name": "StyleView",
            "_model_name": "DescriptionStyleModel",
            "description_width": "",
            "_view_module": "@jupyter-widgets/base",
            "_model_module_version": "1.5.0",
            "_view_count": null,
            "_view_module_version": "1.2.0",
            "_model_module": "@jupyter-widgets/controls"
          }
        },
        "f701ca82b0f9454b8c926997833b6431": {
          "model_module": "@jupyter-widgets/base",
          "model_name": "LayoutModel",
          "state": {
            "_view_name": "LayoutView",
            "grid_template_rows": null,
            "right": null,
            "justify_content": null,
            "_view_module": "@jupyter-widgets/base",
            "overflow": null,
            "_model_module_version": "1.2.0",
            "_view_count": null,
            "flex_flow": null,
            "width": null,
            "min_width": null,
            "border": null,
            "align_items": null,
            "bottom": null,
            "_model_module": "@jupyter-widgets/base",
            "top": null,
            "grid_column": null,
            "overflow_y": null,
            "overflow_x": null,
            "grid_auto_flow": null,
            "grid_area": null,
            "grid_template_columns": null,
            "flex": null,
            "_model_name": "LayoutModel",
            "justify_items": null,
            "grid_row": null,
            "max_height": null,
            "align_content": null,
            "visibility": null,
            "align_self": null,
            "height": null,
            "min_height": null,
            "padding": null,
            "grid_auto_rows": null,
            "grid_gap": null,
            "max_width": null,
            "order": null,
            "_view_module_version": "1.2.0",
            "grid_template_areas": null,
            "object_position": null,
            "object_fit": null,
            "grid_auto_columns": null,
            "margin": null,
            "display": null,
            "left": null
          }
        },
        "a8b839b25a0b498aa1ac55745592126d": {
          "model_module": "@jupyter-widgets/controls",
          "model_name": "HBoxModel",
          "state": {
            "_view_name": "HBoxView",
            "_dom_classes": [],
            "_model_name": "HBoxModel",
            "_view_module": "@jupyter-widgets/controls",
            "_model_module_version": "1.5.0",
            "_view_count": null,
            "_view_module_version": "1.5.0",
            "box_style": "",
            "layout": "IPY_MODEL_03f770f1c80645dbb39b2e41a01b9c86",
            "_model_module": "@jupyter-widgets/controls",
            "children": [
              "IPY_MODEL_bf5f8b8bf35c45f69f188006fa0a56db",
              "IPY_MODEL_c35d42e6277b4a7896ee544c71d9976b"
            ]
          }
        },
        "03f770f1c80645dbb39b2e41a01b9c86": {
          "model_module": "@jupyter-widgets/base",
          "model_name": "LayoutModel",
          "state": {
            "_view_name": "LayoutView",
            "grid_template_rows": null,
            "right": null,
            "justify_content": null,
            "_view_module": "@jupyter-widgets/base",
            "overflow": null,
            "_model_module_version": "1.2.0",
            "_view_count": null,
            "flex_flow": null,
            "width": null,
            "min_width": null,
            "border": null,
            "align_items": null,
            "bottom": null,
            "_model_module": "@jupyter-widgets/base",
            "top": null,
            "grid_column": null,
            "overflow_y": null,
            "overflow_x": null,
            "grid_auto_flow": null,
            "grid_area": null,
            "grid_template_columns": null,
            "flex": null,
            "_model_name": "LayoutModel",
            "justify_items": null,
            "grid_row": null,
            "max_height": null,
            "align_content": null,
            "visibility": null,
            "align_self": null,
            "height": null,
            "min_height": null,
            "padding": null,
            "grid_auto_rows": null,
            "grid_gap": null,
            "max_width": null,
            "order": null,
            "_view_module_version": "1.2.0",
            "grid_template_areas": null,
            "object_position": null,
            "object_fit": null,
            "grid_auto_columns": null,
            "margin": null,
            "display": null,
            "left": null
          }
        },
        "bf5f8b8bf35c45f69f188006fa0a56db": {
          "model_module": "@jupyter-widgets/controls",
          "model_name": "FloatProgressModel",
          "state": {
            "_view_name": "ProgressView",
            "style": "IPY_MODEL_c302486d229e4282ab5be4283be613f5",
            "_dom_classes": [],
            "description": "Iteration:  56%",
            "_model_name": "FloatProgressModel",
            "bar_style": "",
            "max": 250,
            "_view_module": "@jupyter-widgets/controls",
            "_model_module_version": "1.5.0",
            "value": 139,
            "_view_count": null,
            "_view_module_version": "1.5.0",
            "orientation": "horizontal",
            "min": 0,
            "description_tooltip": null,
            "_model_module": "@jupyter-widgets/controls",
            "layout": "IPY_MODEL_4e56e5423a4b42f0babc47694f6936ad"
          }
        },
        "c35d42e6277b4a7896ee544c71d9976b": {
          "model_module": "@jupyter-widgets/controls",
          "model_name": "HTMLModel",
          "state": {
            "_view_name": "HTMLView",
            "style": "IPY_MODEL_5743a7b205be4afaabd5e22f1a27777a",
            "_dom_classes": [],
            "description": "",
            "_model_name": "HTMLModel",
            "placeholder": "​",
            "_view_module": "@jupyter-widgets/controls",
            "_model_module_version": "1.5.0",
            "value": " 139/250 [10:46&lt;08:37,  4.67s/it]",
            "_view_count": null,
            "_view_module_version": "1.5.0",
            "description_tooltip": null,
            "_model_module": "@jupyter-widgets/controls",
            "layout": "IPY_MODEL_487efbf5985b45328ad84e22236a89cd"
          }
        },
        "c302486d229e4282ab5be4283be613f5": {
          "model_module": "@jupyter-widgets/controls",
          "model_name": "ProgressStyleModel",
          "state": {
            "_view_name": "StyleView",
            "_model_name": "ProgressStyleModel",
            "description_width": "initial",
            "_view_module": "@jupyter-widgets/base",
            "_model_module_version": "1.5.0",
            "_view_count": null,
            "_view_module_version": "1.2.0",
            "bar_color": null,
            "_model_module": "@jupyter-widgets/controls"
          }
        },
        "4e56e5423a4b42f0babc47694f6936ad": {
          "model_module": "@jupyter-widgets/base",
          "model_name": "LayoutModel",
          "state": {
            "_view_name": "LayoutView",
            "grid_template_rows": null,
            "right": null,
            "justify_content": null,
            "_view_module": "@jupyter-widgets/base",
            "overflow": null,
            "_model_module_version": "1.2.0",
            "_view_count": null,
            "flex_flow": null,
            "width": null,
            "min_width": null,
            "border": null,
            "align_items": null,
            "bottom": null,
            "_model_module": "@jupyter-widgets/base",
            "top": null,
            "grid_column": null,
            "overflow_y": null,
            "overflow_x": null,
            "grid_auto_flow": null,
            "grid_area": null,
            "grid_template_columns": null,
            "flex": null,
            "_model_name": "LayoutModel",
            "justify_items": null,
            "grid_row": null,
            "max_height": null,
            "align_content": null,
            "visibility": null,
            "align_self": null,
            "height": null,
            "min_height": null,
            "padding": null,
            "grid_auto_rows": null,
            "grid_gap": null,
            "max_width": null,
            "order": null,
            "_view_module_version": "1.2.0",
            "grid_template_areas": null,
            "object_position": null,
            "object_fit": null,
            "grid_auto_columns": null,
            "margin": null,
            "display": null,
            "left": null
          }
        },
        "5743a7b205be4afaabd5e22f1a27777a": {
          "model_module": "@jupyter-widgets/controls",
          "model_name": "DescriptionStyleModel",
          "state": {
            "_view_name": "StyleView",
            "_model_name": "DescriptionStyleModel",
            "description_width": "",
            "_view_module": "@jupyter-widgets/base",
            "_model_module_version": "1.5.0",
            "_view_count": null,
            "_view_module_version": "1.2.0",
            "_model_module": "@jupyter-widgets/controls"
          }
        },
        "487efbf5985b45328ad84e22236a89cd": {
          "model_module": "@jupyter-widgets/base",
          "model_name": "LayoutModel",
          "state": {
            "_view_name": "LayoutView",
            "grid_template_rows": null,
            "right": null,
            "justify_content": null,
            "_view_module": "@jupyter-widgets/base",
            "overflow": null,
            "_model_module_version": "1.2.0",
            "_view_count": null,
            "flex_flow": null,
            "width": null,
            "min_width": null,
            "border": null,
            "align_items": null,
            "bottom": null,
            "_model_module": "@jupyter-widgets/base",
            "top": null,
            "grid_column": null,
            "overflow_y": null,
            "overflow_x": null,
            "grid_auto_flow": null,
            "grid_area": null,
            "grid_template_columns": null,
            "flex": null,
            "_model_name": "LayoutModel",
            "justify_items": null,
            "grid_row": null,
            "max_height": null,
            "align_content": null,
            "visibility": null,
            "align_self": null,
            "height": null,
            "min_height": null,
            "padding": null,
            "grid_auto_rows": null,
            "grid_gap": null,
            "max_width": null,
            "order": null,
            "_view_module_version": "1.2.0",
            "grid_template_areas": null,
            "object_position": null,
            "object_fit": null,
            "grid_auto_columns": null,
            "margin": null,
            "display": null,
            "left": null
          }
        },
        "4da427023e744b34bcd279ca8bddf43e": {
          "model_module": "@jupyter-widgets/controls",
          "model_name": "HBoxModel",
          "state": {
            "_view_name": "HBoxView",
            "_dom_classes": [],
            "_model_name": "HBoxModel",
            "_view_module": "@jupyter-widgets/controls",
            "_model_module_version": "1.5.0",
            "_view_count": null,
            "_view_module_version": "1.5.0",
            "box_style": "",
            "layout": "IPY_MODEL_c2002b1f2a354941a87bac308ce4cc80",
            "_model_module": "@jupyter-widgets/controls",
            "children": [
              "IPY_MODEL_65c684404ec84014a72b7d8a0a739d4d",
              "IPY_MODEL_7fb47bf97bf24dcfad6bdfd8ab3da9e1"
            ]
          }
        },
        "c2002b1f2a354941a87bac308ce4cc80": {
          "model_module": "@jupyter-widgets/base",
          "model_name": "LayoutModel",
          "state": {
            "_view_name": "LayoutView",
            "grid_template_rows": null,
            "right": null,
            "justify_content": null,
            "_view_module": "@jupyter-widgets/base",
            "overflow": null,
            "_model_module_version": "1.2.0",
            "_view_count": null,
            "flex_flow": null,
            "width": null,
            "min_width": null,
            "border": null,
            "align_items": null,
            "bottom": null,
            "_model_module": "@jupyter-widgets/base",
            "top": null,
            "grid_column": null,
            "overflow_y": null,
            "overflow_x": null,
            "grid_auto_flow": null,
            "grid_area": null,
            "grid_template_columns": null,
            "flex": null,
            "_model_name": "LayoutModel",
            "justify_items": null,
            "grid_row": null,
            "max_height": null,
            "align_content": null,
            "visibility": null,
            "align_self": null,
            "height": null,
            "min_height": null,
            "padding": null,
            "grid_auto_rows": null,
            "grid_gap": null,
            "max_width": null,
            "order": null,
            "_view_module_version": "1.2.0",
            "grid_template_areas": null,
            "object_position": null,
            "object_fit": null,
            "grid_auto_columns": null,
            "margin": null,
            "display": null,
            "left": null
          }
        },
        "65c684404ec84014a72b7d8a0a739d4d": {
          "model_module": "@jupyter-widgets/controls",
          "model_name": "FloatProgressModel",
          "state": {
            "_view_name": "ProgressView",
            "style": "IPY_MODEL_153ae06080f1446393cb777163cf7546",
            "_dom_classes": [],
            "description": "Epoch: 100%",
            "_model_name": "FloatProgressModel",
            "bar_style": "success",
            "max": 5,
            "_view_module": "@jupyter-widgets/controls",
            "_model_module_version": "1.5.0",
            "value": 5,
            "_view_count": null,
            "_view_module_version": "1.5.0",
            "orientation": "horizontal",
            "min": 0,
            "description_tooltip": null,
            "_model_module": "@jupyter-widgets/controls",
            "layout": "IPY_MODEL_1fbbb2b47c094651b3846c5ff5e94d6e"
          }
        },
        "7fb47bf97bf24dcfad6bdfd8ab3da9e1": {
          "model_module": "@jupyter-widgets/controls",
          "model_name": "HTMLModel",
          "state": {
            "_view_name": "HTMLView",
            "style": "IPY_MODEL_1eaae17c71784f56979ab96c58f84aaf",
            "_dom_classes": [],
            "description": "",
            "_model_name": "HTMLModel",
            "placeholder": "​",
            "_view_module": "@jupyter-widgets/controls",
            "_model_module_version": "1.5.0",
            "value": " 5/5 [48:00&lt;00:00, 576.07s/it]",
            "_view_count": null,
            "_view_module_version": "1.5.0",
            "description_tooltip": null,
            "_model_module": "@jupyter-widgets/controls",
            "layout": "IPY_MODEL_67926704ac3e425f865f693d23956f58"
          }
        },
        "153ae06080f1446393cb777163cf7546": {
          "model_module": "@jupyter-widgets/controls",
          "model_name": "ProgressStyleModel",
          "state": {
            "_view_name": "StyleView",
            "_model_name": "ProgressStyleModel",
            "description_width": "initial",
            "_view_module": "@jupyter-widgets/base",
            "_model_module_version": "1.5.0",
            "_view_count": null,
            "_view_module_version": "1.2.0",
            "bar_color": null,
            "_model_module": "@jupyter-widgets/controls"
          }
        },
        "1fbbb2b47c094651b3846c5ff5e94d6e": {
          "model_module": "@jupyter-widgets/base",
          "model_name": "LayoutModel",
          "state": {
            "_view_name": "LayoutView",
            "grid_template_rows": null,
            "right": null,
            "justify_content": null,
            "_view_module": "@jupyter-widgets/base",
            "overflow": null,
            "_model_module_version": "1.2.0",
            "_view_count": null,
            "flex_flow": null,
            "width": null,
            "min_width": null,
            "border": null,
            "align_items": null,
            "bottom": null,
            "_model_module": "@jupyter-widgets/base",
            "top": null,
            "grid_column": null,
            "overflow_y": null,
            "overflow_x": null,
            "grid_auto_flow": null,
            "grid_area": null,
            "grid_template_columns": null,
            "flex": null,
            "_model_name": "LayoutModel",
            "justify_items": null,
            "grid_row": null,
            "max_height": null,
            "align_content": null,
            "visibility": null,
            "align_self": null,
            "height": null,
            "min_height": null,
            "padding": null,
            "grid_auto_rows": null,
            "grid_gap": null,
            "max_width": null,
            "order": null,
            "_view_module_version": "1.2.0",
            "grid_template_areas": null,
            "object_position": null,
            "object_fit": null,
            "grid_auto_columns": null,
            "margin": null,
            "display": null,
            "left": null
          }
        },
        "1eaae17c71784f56979ab96c58f84aaf": {
          "model_module": "@jupyter-widgets/controls",
          "model_name": "DescriptionStyleModel",
          "state": {
            "_view_name": "StyleView",
            "_model_name": "DescriptionStyleModel",
            "description_width": "",
            "_view_module": "@jupyter-widgets/base",
            "_model_module_version": "1.5.0",
            "_view_count": null,
            "_view_module_version": "1.2.0",
            "_model_module": "@jupyter-widgets/controls"
          }
        },
        "67926704ac3e425f865f693d23956f58": {
          "model_module": "@jupyter-widgets/base",
          "model_name": "LayoutModel",
          "state": {
            "_view_name": "LayoutView",
            "grid_template_rows": null,
            "right": null,
            "justify_content": null,
            "_view_module": "@jupyter-widgets/base",
            "overflow": null,
            "_model_module_version": "1.2.0",
            "_view_count": null,
            "flex_flow": null,
            "width": null,
            "min_width": null,
            "border": null,
            "align_items": null,
            "bottom": null,
            "_model_module": "@jupyter-widgets/base",
            "top": null,
            "grid_column": null,
            "overflow_y": null,
            "overflow_x": null,
            "grid_auto_flow": null,
            "grid_area": null,
            "grid_template_columns": null,
            "flex": null,
            "_model_name": "LayoutModel",
            "justify_items": null,
            "grid_row": null,
            "max_height": null,
            "align_content": null,
            "visibility": null,
            "align_self": null,
            "height": null,
            "min_height": null,
            "padding": null,
            "grid_auto_rows": null,
            "grid_gap": null,
            "max_width": null,
            "order": null,
            "_view_module_version": "1.2.0",
            "grid_template_areas": null,
            "object_position": null,
            "object_fit": null,
            "grid_auto_columns": null,
            "margin": null,
            "display": null,
            "left": null
          }
        },
        "f1e534fae8724b69b87e002b21006444": {
          "model_module": "@jupyter-widgets/controls",
          "model_name": "HBoxModel",
          "state": {
            "_view_name": "HBoxView",
            "_dom_classes": [],
            "_model_name": "HBoxModel",
            "_view_module": "@jupyter-widgets/controls",
            "_model_module_version": "1.5.0",
            "_view_count": null,
            "_view_module_version": "1.5.0",
            "box_style": "",
            "layout": "IPY_MODEL_6051d54c965a40aea1f81cd9b651b11b",
            "_model_module": "@jupyter-widgets/controls",
            "children": [
              "IPY_MODEL_eebfd44ddc8645c5ba796e78daef83db",
              "IPY_MODEL_eb8b0ca3f6f34feca775cbf4e8f8f796"
            ]
          }
        },
        "6051d54c965a40aea1f81cd9b651b11b": {
          "model_module": "@jupyter-widgets/base",
          "model_name": "LayoutModel",
          "state": {
            "_view_name": "LayoutView",
            "grid_template_rows": null,
            "right": null,
            "justify_content": null,
            "_view_module": "@jupyter-widgets/base",
            "overflow": null,
            "_model_module_version": "1.2.0",
            "_view_count": null,
            "flex_flow": null,
            "width": null,
            "min_width": null,
            "border": null,
            "align_items": null,
            "bottom": null,
            "_model_module": "@jupyter-widgets/base",
            "top": null,
            "grid_column": null,
            "overflow_y": null,
            "overflow_x": null,
            "grid_auto_flow": null,
            "grid_area": null,
            "grid_template_columns": null,
            "flex": null,
            "_model_name": "LayoutModel",
            "justify_items": null,
            "grid_row": null,
            "max_height": null,
            "align_content": null,
            "visibility": null,
            "align_self": null,
            "height": null,
            "min_height": null,
            "padding": null,
            "grid_auto_rows": null,
            "grid_gap": null,
            "max_width": null,
            "order": null,
            "_view_module_version": "1.2.0",
            "grid_template_areas": null,
            "object_position": null,
            "object_fit": null,
            "grid_auto_columns": null,
            "margin": null,
            "display": null,
            "left": null
          }
        },
        "eebfd44ddc8645c5ba796e78daef83db": {
          "model_module": "@jupyter-widgets/controls",
          "model_name": "FloatProgressModel",
          "state": {
            "_view_name": "ProgressView",
            "style": "IPY_MODEL_81f6fc8264644cc385bed19024d528d9",
            "_dom_classes": [],
            "description": "Iteration: 100%",
            "_model_name": "FloatProgressModel",
            "bar_style": "success",
            "max": 63,
            "_view_module": "@jupyter-widgets/controls",
            "_model_module_version": "1.5.0",
            "value": 63,
            "_view_count": null,
            "_view_module_version": "1.5.0",
            "orientation": "horizontal",
            "min": 0,
            "description_tooltip": null,
            "_model_module": "@jupyter-widgets/controls",
            "layout": "IPY_MODEL_ade6bf392a924f05906a9e2174db0c73"
          }
        },
        "eb8b0ca3f6f34feca775cbf4e8f8f796": {
          "model_module": "@jupyter-widgets/controls",
          "model_name": "HTMLModel",
          "state": {
            "_view_name": "HTMLView",
            "style": "IPY_MODEL_aec48c1f79f0473aad15f92aed598ec5",
            "_dom_classes": [],
            "description": "",
            "_model_name": "HTMLModel",
            "placeholder": "​",
            "_view_module": "@jupyter-widgets/controls",
            "_model_module_version": "1.5.0",
            "value": " 63/63 [48:00&lt;00:00, 45.72s/it]",
            "_view_count": null,
            "_view_module_version": "1.5.0",
            "description_tooltip": null,
            "_model_module": "@jupyter-widgets/controls",
            "layout": "IPY_MODEL_dfa3f470f50142a7aa2f28cd78228188"
          }
        },
        "81f6fc8264644cc385bed19024d528d9": {
          "model_module": "@jupyter-widgets/controls",
          "model_name": "ProgressStyleModel",
          "state": {
            "_view_name": "StyleView",
            "_model_name": "ProgressStyleModel",
            "description_width": "initial",
            "_view_module": "@jupyter-widgets/base",
            "_model_module_version": "1.5.0",
            "_view_count": null,
            "_view_module_version": "1.2.0",
            "bar_color": null,
            "_model_module": "@jupyter-widgets/controls"
          }
        },
        "ade6bf392a924f05906a9e2174db0c73": {
          "model_module": "@jupyter-widgets/base",
          "model_name": "LayoutModel",
          "state": {
            "_view_name": "LayoutView",
            "grid_template_rows": null,
            "right": null,
            "justify_content": null,
            "_view_module": "@jupyter-widgets/base",
            "overflow": null,
            "_model_module_version": "1.2.0",
            "_view_count": null,
            "flex_flow": null,
            "width": null,
            "min_width": null,
            "border": null,
            "align_items": null,
            "bottom": null,
            "_model_module": "@jupyter-widgets/base",
            "top": null,
            "grid_column": null,
            "overflow_y": null,
            "overflow_x": null,
            "grid_auto_flow": null,
            "grid_area": null,
            "grid_template_columns": null,
            "flex": null,
            "_model_name": "LayoutModel",
            "justify_items": null,
            "grid_row": null,
            "max_height": null,
            "align_content": null,
            "visibility": null,
            "align_self": null,
            "height": null,
            "min_height": null,
            "padding": null,
            "grid_auto_rows": null,
            "grid_gap": null,
            "max_width": null,
            "order": null,
            "_view_module_version": "1.2.0",
            "grid_template_areas": null,
            "object_position": null,
            "object_fit": null,
            "grid_auto_columns": null,
            "margin": null,
            "display": null,
            "left": null
          }
        },
        "aec48c1f79f0473aad15f92aed598ec5": {
          "model_module": "@jupyter-widgets/controls",
          "model_name": "DescriptionStyleModel",
          "state": {
            "_view_name": "StyleView",
            "_model_name": "DescriptionStyleModel",
            "description_width": "",
            "_view_module": "@jupyter-widgets/base",
            "_model_module_version": "1.5.0",
            "_view_count": null,
            "_view_module_version": "1.2.0",
            "_model_module": "@jupyter-widgets/controls"
          }
        },
        "dfa3f470f50142a7aa2f28cd78228188": {
          "model_module": "@jupyter-widgets/base",
          "model_name": "LayoutModel",
          "state": {
            "_view_name": "LayoutView",
            "grid_template_rows": null,
            "right": null,
            "justify_content": null,
            "_view_module": "@jupyter-widgets/base",
            "overflow": null,
            "_model_module_version": "1.2.0",
            "_view_count": null,
            "flex_flow": null,
            "width": null,
            "min_width": null,
            "border": null,
            "align_items": null,
            "bottom": null,
            "_model_module": "@jupyter-widgets/base",
            "top": null,
            "grid_column": null,
            "overflow_y": null,
            "overflow_x": null,
            "grid_auto_flow": null,
            "grid_area": null,
            "grid_template_columns": null,
            "flex": null,
            "_model_name": "LayoutModel",
            "justify_items": null,
            "grid_row": null,
            "max_height": null,
            "align_content": null,
            "visibility": null,
            "align_self": null,
            "height": null,
            "min_height": null,
            "padding": null,
            "grid_auto_rows": null,
            "grid_gap": null,
            "max_width": null,
            "order": null,
            "_view_module_version": "1.2.0",
            "grid_template_areas": null,
            "object_position": null,
            "object_fit": null,
            "grid_auto_columns": null,
            "margin": null,
            "display": null,
            "left": null
          }
        },
        "a7ebdc4e40ee4fafa3db9a1b8c3cc829": {
          "model_module": "@jupyter-widgets/controls",
          "model_name": "HBoxModel",
          "state": {
            "_view_name": "HBoxView",
            "_dom_classes": [],
            "_model_name": "HBoxModel",
            "_view_module": "@jupyter-widgets/controls",
            "_model_module_version": "1.5.0",
            "_view_count": null,
            "_view_module_version": "1.5.0",
            "box_style": "",
            "layout": "IPY_MODEL_2ffdc7ded798421e8accba5042aea26f",
            "_model_module": "@jupyter-widgets/controls",
            "children": [
              "IPY_MODEL_880087eeeb684bfcab55db4ca6c6b6b6",
              "IPY_MODEL_7f846bedf56e466ea49cbacbc387de80"
            ]
          }
        },
        "2ffdc7ded798421e8accba5042aea26f": {
          "model_module": "@jupyter-widgets/base",
          "model_name": "LayoutModel",
          "state": {
            "_view_name": "LayoutView",
            "grid_template_rows": null,
            "right": null,
            "justify_content": null,
            "_view_module": "@jupyter-widgets/base",
            "overflow": null,
            "_model_module_version": "1.2.0",
            "_view_count": null,
            "flex_flow": null,
            "width": null,
            "min_width": null,
            "border": null,
            "align_items": null,
            "bottom": null,
            "_model_module": "@jupyter-widgets/base",
            "top": null,
            "grid_column": null,
            "overflow_y": null,
            "overflow_x": null,
            "grid_auto_flow": null,
            "grid_area": null,
            "grid_template_columns": null,
            "flex": null,
            "_model_name": "LayoutModel",
            "justify_items": null,
            "grid_row": null,
            "max_height": null,
            "align_content": null,
            "visibility": null,
            "align_self": null,
            "height": null,
            "min_height": null,
            "padding": null,
            "grid_auto_rows": null,
            "grid_gap": null,
            "max_width": null,
            "order": null,
            "_view_module_version": "1.2.0",
            "grid_template_areas": null,
            "object_position": null,
            "object_fit": null,
            "grid_auto_columns": null,
            "margin": null,
            "display": null,
            "left": null
          }
        },
        "880087eeeb684bfcab55db4ca6c6b6b6": {
          "model_module": "@jupyter-widgets/controls",
          "model_name": "FloatProgressModel",
          "state": {
            "_view_name": "ProgressView",
            "style": "IPY_MODEL_a238e5e4cbe345a98515e52d0effdfcc",
            "_dom_classes": [],
            "description": "Iteration: 100%",
            "_model_name": "FloatProgressModel",
            "bar_style": "success",
            "max": 63,
            "_view_module": "@jupyter-widgets/controls",
            "_model_module_version": "1.5.0",
            "value": 63,
            "_view_count": null,
            "_view_module_version": "1.5.0",
            "orientation": "horizontal",
            "min": 0,
            "description_tooltip": null,
            "_model_module": "@jupyter-widgets/controls",
            "layout": "IPY_MODEL_82824de9cce1406eb638e9c8f611b225"
          }
        },
        "7f846bedf56e466ea49cbacbc387de80": {
          "model_module": "@jupyter-widgets/controls",
          "model_name": "HTMLModel",
          "state": {
            "_view_name": "HTMLView",
            "style": "IPY_MODEL_5fb7a98846e049d5b9eb05ff3747745a",
            "_dom_classes": [],
            "description": "",
            "_model_name": "HTMLModel",
            "placeholder": "​",
            "_view_module": "@jupyter-widgets/controls",
            "_model_module_version": "1.5.0",
            "value": " 63/63 [01:31&lt;00:00,  1.46s/it]",
            "_view_count": null,
            "_view_module_version": "1.5.0",
            "description_tooltip": null,
            "_model_module": "@jupyter-widgets/controls",
            "layout": "IPY_MODEL_f3de4a51597c44758c5a709786ff7051"
          }
        },
        "a238e5e4cbe345a98515e52d0effdfcc": {
          "model_module": "@jupyter-widgets/controls",
          "model_name": "ProgressStyleModel",
          "state": {
            "_view_name": "StyleView",
            "_model_name": "ProgressStyleModel",
            "description_width": "initial",
            "_view_module": "@jupyter-widgets/base",
            "_model_module_version": "1.5.0",
            "_view_count": null,
            "_view_module_version": "1.2.0",
            "bar_color": null,
            "_model_module": "@jupyter-widgets/controls"
          }
        },
        "82824de9cce1406eb638e9c8f611b225": {
          "model_module": "@jupyter-widgets/base",
          "model_name": "LayoutModel",
          "state": {
            "_view_name": "LayoutView",
            "grid_template_rows": null,
            "right": null,
            "justify_content": null,
            "_view_module": "@jupyter-widgets/base",
            "overflow": null,
            "_model_module_version": "1.2.0",
            "_view_count": null,
            "flex_flow": null,
            "width": null,
            "min_width": null,
            "border": null,
            "align_items": null,
            "bottom": null,
            "_model_module": "@jupyter-widgets/base",
            "top": null,
            "grid_column": null,
            "overflow_y": null,
            "overflow_x": null,
            "grid_auto_flow": null,
            "grid_area": null,
            "grid_template_columns": null,
            "flex": null,
            "_model_name": "LayoutModel",
            "justify_items": null,
            "grid_row": null,
            "max_height": null,
            "align_content": null,
            "visibility": null,
            "align_self": null,
            "height": null,
            "min_height": null,
            "padding": null,
            "grid_auto_rows": null,
            "grid_gap": null,
            "max_width": null,
            "order": null,
            "_view_module_version": "1.2.0",
            "grid_template_areas": null,
            "object_position": null,
            "object_fit": null,
            "grid_auto_columns": null,
            "margin": null,
            "display": null,
            "left": null
          }
        },
        "5fb7a98846e049d5b9eb05ff3747745a": {
          "model_module": "@jupyter-widgets/controls",
          "model_name": "DescriptionStyleModel",
          "state": {
            "_view_name": "StyleView",
            "_model_name": "DescriptionStyleModel",
            "description_width": "",
            "_view_module": "@jupyter-widgets/base",
            "_model_module_version": "1.5.0",
            "_view_count": null,
            "_view_module_version": "1.2.0",
            "_model_module": "@jupyter-widgets/controls"
          }
        },
        "f3de4a51597c44758c5a709786ff7051": {
          "model_module": "@jupyter-widgets/base",
          "model_name": "LayoutModel",
          "state": {
            "_view_name": "LayoutView",
            "grid_template_rows": null,
            "right": null,
            "justify_content": null,
            "_view_module": "@jupyter-widgets/base",
            "overflow": null,
            "_model_module_version": "1.2.0",
            "_view_count": null,
            "flex_flow": null,
            "width": null,
            "min_width": null,
            "border": null,
            "align_items": null,
            "bottom": null,
            "_model_module": "@jupyter-widgets/base",
            "top": null,
            "grid_column": null,
            "overflow_y": null,
            "overflow_x": null,
            "grid_auto_flow": null,
            "grid_area": null,
            "grid_template_columns": null,
            "flex": null,
            "_model_name": "LayoutModel",
            "justify_items": null,
            "grid_row": null,
            "max_height": null,
            "align_content": null,
            "visibility": null,
            "align_self": null,
            "height": null,
            "min_height": null,
            "padding": null,
            "grid_auto_rows": null,
            "grid_gap": null,
            "max_width": null,
            "order": null,
            "_view_module_version": "1.2.0",
            "grid_template_areas": null,
            "object_position": null,
            "object_fit": null,
            "grid_auto_columns": null,
            "margin": null,
            "display": null,
            "left": null
          }
        },
        "e0204fd6caeb4087b5ea2b97eb15996f": {
          "model_module": "@jupyter-widgets/controls",
          "model_name": "HBoxModel",
          "state": {
            "_view_name": "HBoxView",
            "_dom_classes": [],
            "_model_name": "HBoxModel",
            "_view_module": "@jupyter-widgets/controls",
            "_model_module_version": "1.5.0",
            "_view_count": null,
            "_view_module_version": "1.5.0",
            "box_style": "",
            "layout": "IPY_MODEL_76a5a196d10347e1ab182aa5d934464a",
            "_model_module": "@jupyter-widgets/controls",
            "children": [
              "IPY_MODEL_4eea2ca897e54aa5953df2cad265ea70",
              "IPY_MODEL_e660a360484a4038b616c0f0e325b56a"
            ]
          }
        },
        "76a5a196d10347e1ab182aa5d934464a": {
          "model_module": "@jupyter-widgets/base",
          "model_name": "LayoutModel",
          "state": {
            "_view_name": "LayoutView",
            "grid_template_rows": null,
            "right": null,
            "justify_content": null,
            "_view_module": "@jupyter-widgets/base",
            "overflow": null,
            "_model_module_version": "1.2.0",
            "_view_count": null,
            "flex_flow": null,
            "width": null,
            "min_width": null,
            "border": null,
            "align_items": null,
            "bottom": null,
            "_model_module": "@jupyter-widgets/base",
            "top": null,
            "grid_column": null,
            "overflow_y": null,
            "overflow_x": null,
            "grid_auto_flow": null,
            "grid_area": null,
            "grid_template_columns": null,
            "flex": null,
            "_model_name": "LayoutModel",
            "justify_items": null,
            "grid_row": null,
            "max_height": null,
            "align_content": null,
            "visibility": null,
            "align_self": null,
            "height": null,
            "min_height": null,
            "padding": null,
            "grid_auto_rows": null,
            "grid_gap": null,
            "max_width": null,
            "order": null,
            "_view_module_version": "1.2.0",
            "grid_template_areas": null,
            "object_position": null,
            "object_fit": null,
            "grid_auto_columns": null,
            "margin": null,
            "display": null,
            "left": null
          }
        },
        "4eea2ca897e54aa5953df2cad265ea70": {
          "model_module": "@jupyter-widgets/controls",
          "model_name": "FloatProgressModel",
          "state": {
            "_view_name": "ProgressView",
            "style": "IPY_MODEL_21e44e378e34402696b545c0e11d3b50",
            "_dom_classes": [],
            "description": "Iteration: 100%",
            "_model_name": "FloatProgressModel",
            "bar_style": "success",
            "max": 63,
            "_view_module": "@jupyter-widgets/controls",
            "_model_module_version": "1.5.0",
            "value": 63,
            "_view_count": null,
            "_view_module_version": "1.5.0",
            "orientation": "horizontal",
            "min": 0,
            "description_tooltip": null,
            "_model_module": "@jupyter-widgets/controls",
            "layout": "IPY_MODEL_a68ebf3e157b4af19c995286f0b51352"
          }
        },
        "e660a360484a4038b616c0f0e325b56a": {
          "model_module": "@jupyter-widgets/controls",
          "model_name": "HTMLModel",
          "state": {
            "_view_name": "HTMLView",
            "style": "IPY_MODEL_d41a597a0d094086948e354c994142d3",
            "_dom_classes": [],
            "description": "",
            "_model_name": "HTMLModel",
            "placeholder": "​",
            "_view_module": "@jupyter-widgets/controls",
            "_model_module_version": "1.5.0",
            "value": " 63/63 [46:06&lt;00:00, 43.91s/it]",
            "_view_count": null,
            "_view_module_version": "1.5.0",
            "description_tooltip": null,
            "_model_module": "@jupyter-widgets/controls",
            "layout": "IPY_MODEL_b375ec961a824f199348ba7f718eca64"
          }
        },
        "21e44e378e34402696b545c0e11d3b50": {
          "model_module": "@jupyter-widgets/controls",
          "model_name": "ProgressStyleModel",
          "state": {
            "_view_name": "StyleView",
            "_model_name": "ProgressStyleModel",
            "description_width": "initial",
            "_view_module": "@jupyter-widgets/base",
            "_model_module_version": "1.5.0",
            "_view_count": null,
            "_view_module_version": "1.2.0",
            "bar_color": null,
            "_model_module": "@jupyter-widgets/controls"
          }
        },
        "a68ebf3e157b4af19c995286f0b51352": {
          "model_module": "@jupyter-widgets/base",
          "model_name": "LayoutModel",
          "state": {
            "_view_name": "LayoutView",
            "grid_template_rows": null,
            "right": null,
            "justify_content": null,
            "_view_module": "@jupyter-widgets/base",
            "overflow": null,
            "_model_module_version": "1.2.0",
            "_view_count": null,
            "flex_flow": null,
            "width": null,
            "min_width": null,
            "border": null,
            "align_items": null,
            "bottom": null,
            "_model_module": "@jupyter-widgets/base",
            "top": null,
            "grid_column": null,
            "overflow_y": null,
            "overflow_x": null,
            "grid_auto_flow": null,
            "grid_area": null,
            "grid_template_columns": null,
            "flex": null,
            "_model_name": "LayoutModel",
            "justify_items": null,
            "grid_row": null,
            "max_height": null,
            "align_content": null,
            "visibility": null,
            "align_self": null,
            "height": null,
            "min_height": null,
            "padding": null,
            "grid_auto_rows": null,
            "grid_gap": null,
            "max_width": null,
            "order": null,
            "_view_module_version": "1.2.0",
            "grid_template_areas": null,
            "object_position": null,
            "object_fit": null,
            "grid_auto_columns": null,
            "margin": null,
            "display": null,
            "left": null
          }
        },
        "d41a597a0d094086948e354c994142d3": {
          "model_module": "@jupyter-widgets/controls",
          "model_name": "DescriptionStyleModel",
          "state": {
            "_view_name": "StyleView",
            "_model_name": "DescriptionStyleModel",
            "description_width": "",
            "_view_module": "@jupyter-widgets/base",
            "_model_module_version": "1.5.0",
            "_view_count": null,
            "_view_module_version": "1.2.0",
            "_model_module": "@jupyter-widgets/controls"
          }
        },
        "b375ec961a824f199348ba7f718eca64": {
          "model_module": "@jupyter-widgets/base",
          "model_name": "LayoutModel",
          "state": {
            "_view_name": "LayoutView",
            "grid_template_rows": null,
            "right": null,
            "justify_content": null,
            "_view_module": "@jupyter-widgets/base",
            "overflow": null,
            "_model_module_version": "1.2.0",
            "_view_count": null,
            "flex_flow": null,
            "width": null,
            "min_width": null,
            "border": null,
            "align_items": null,
            "bottom": null,
            "_model_module": "@jupyter-widgets/base",
            "top": null,
            "grid_column": null,
            "overflow_y": null,
            "overflow_x": null,
            "grid_auto_flow": null,
            "grid_area": null,
            "grid_template_columns": null,
            "flex": null,
            "_model_name": "LayoutModel",
            "justify_items": null,
            "grid_row": null,
            "max_height": null,
            "align_content": null,
            "visibility": null,
            "align_self": null,
            "height": null,
            "min_height": null,
            "padding": null,
            "grid_auto_rows": null,
            "grid_gap": null,
            "max_width": null,
            "order": null,
            "_view_module_version": "1.2.0",
            "grid_template_areas": null,
            "object_position": null,
            "object_fit": null,
            "grid_auto_columns": null,
            "margin": null,
            "display": null,
            "left": null
          }
        },
        "78c75cd059c9452c86fa06e443cabd12": {
          "model_module": "@jupyter-widgets/controls",
          "model_name": "HBoxModel",
          "state": {
            "_view_name": "HBoxView",
            "_dom_classes": [],
            "_model_name": "HBoxModel",
            "_view_module": "@jupyter-widgets/controls",
            "_model_module_version": "1.5.0",
            "_view_count": null,
            "_view_module_version": "1.5.0",
            "box_style": "",
            "layout": "IPY_MODEL_65ae54e22f734c8eae6cbaca8fa4a5c2",
            "_model_module": "@jupyter-widgets/controls",
            "children": [
              "IPY_MODEL_7a59d1b87ebe4ab39588134156f738b2",
              "IPY_MODEL_808238c9d61446d3b415f07b0eac01e3"
            ]
          }
        },
        "65ae54e22f734c8eae6cbaca8fa4a5c2": {
          "model_module": "@jupyter-widgets/base",
          "model_name": "LayoutModel",
          "state": {
            "_view_name": "LayoutView",
            "grid_template_rows": null,
            "right": null,
            "justify_content": null,
            "_view_module": "@jupyter-widgets/base",
            "overflow": null,
            "_model_module_version": "1.2.0",
            "_view_count": null,
            "flex_flow": null,
            "width": null,
            "min_width": null,
            "border": null,
            "align_items": null,
            "bottom": null,
            "_model_module": "@jupyter-widgets/base",
            "top": null,
            "grid_column": null,
            "overflow_y": null,
            "overflow_x": null,
            "grid_auto_flow": null,
            "grid_area": null,
            "grid_template_columns": null,
            "flex": null,
            "_model_name": "LayoutModel",
            "justify_items": null,
            "grid_row": null,
            "max_height": null,
            "align_content": null,
            "visibility": null,
            "align_self": null,
            "height": null,
            "min_height": null,
            "padding": null,
            "grid_auto_rows": null,
            "grid_gap": null,
            "max_width": null,
            "order": null,
            "_view_module_version": "1.2.0",
            "grid_template_areas": null,
            "object_position": null,
            "object_fit": null,
            "grid_auto_columns": null,
            "margin": null,
            "display": null,
            "left": null
          }
        },
        "7a59d1b87ebe4ab39588134156f738b2": {
          "model_module": "@jupyter-widgets/controls",
          "model_name": "FloatProgressModel",
          "state": {
            "_view_name": "ProgressView",
            "style": "IPY_MODEL_dd20ba9eaa3f4da08b50bcf68c6fc724",
            "_dom_classes": [],
            "description": "Iteration: 100%",
            "_model_name": "FloatProgressModel",
            "bar_style": "success",
            "max": 63,
            "_view_module": "@jupyter-widgets/controls",
            "_model_module_version": "1.5.0",
            "value": 63,
            "_view_count": null,
            "_view_module_version": "1.5.0",
            "orientation": "horizontal",
            "min": 0,
            "description_tooltip": null,
            "_model_module": "@jupyter-widgets/controls",
            "layout": "IPY_MODEL_e257453575cf4d0fb0c030d02e0a04bd"
          }
        },
        "808238c9d61446d3b415f07b0eac01e3": {
          "model_module": "@jupyter-widgets/controls",
          "model_name": "HTMLModel",
          "state": {
            "_view_name": "HTMLView",
            "style": "IPY_MODEL_6653d0a696b44c0185c7b4c1b920c564",
            "_dom_classes": [],
            "description": "",
            "_model_name": "HTMLModel",
            "placeholder": "​",
            "_view_module": "@jupyter-widgets/controls",
            "_model_module_version": "1.5.0",
            "value": " 63/63 [02:45&lt;00:00,  2.63s/it]",
            "_view_count": null,
            "_view_module_version": "1.5.0",
            "description_tooltip": null,
            "_model_module": "@jupyter-widgets/controls",
            "layout": "IPY_MODEL_c5908df60cc7437a8da800f042a37811"
          }
        },
        "dd20ba9eaa3f4da08b50bcf68c6fc724": {
          "model_module": "@jupyter-widgets/controls",
          "model_name": "ProgressStyleModel",
          "state": {
            "_view_name": "StyleView",
            "_model_name": "ProgressStyleModel",
            "description_width": "initial",
            "_view_module": "@jupyter-widgets/base",
            "_model_module_version": "1.5.0",
            "_view_count": null,
            "_view_module_version": "1.2.0",
            "bar_color": null,
            "_model_module": "@jupyter-widgets/controls"
          }
        },
        "e257453575cf4d0fb0c030d02e0a04bd": {
          "model_module": "@jupyter-widgets/base",
          "model_name": "LayoutModel",
          "state": {
            "_view_name": "LayoutView",
            "grid_template_rows": null,
            "right": null,
            "justify_content": null,
            "_view_module": "@jupyter-widgets/base",
            "overflow": null,
            "_model_module_version": "1.2.0",
            "_view_count": null,
            "flex_flow": null,
            "width": null,
            "min_width": null,
            "border": null,
            "align_items": null,
            "bottom": null,
            "_model_module": "@jupyter-widgets/base",
            "top": null,
            "grid_column": null,
            "overflow_y": null,
            "overflow_x": null,
            "grid_auto_flow": null,
            "grid_area": null,
            "grid_template_columns": null,
            "flex": null,
            "_model_name": "LayoutModel",
            "justify_items": null,
            "grid_row": null,
            "max_height": null,
            "align_content": null,
            "visibility": null,
            "align_self": null,
            "height": null,
            "min_height": null,
            "padding": null,
            "grid_auto_rows": null,
            "grid_gap": null,
            "max_width": null,
            "order": null,
            "_view_module_version": "1.2.0",
            "grid_template_areas": null,
            "object_position": null,
            "object_fit": null,
            "grid_auto_columns": null,
            "margin": null,
            "display": null,
            "left": null
          }
        },
        "6653d0a696b44c0185c7b4c1b920c564": {
          "model_module": "@jupyter-widgets/controls",
          "model_name": "DescriptionStyleModel",
          "state": {
            "_view_name": "StyleView",
            "_model_name": "DescriptionStyleModel",
            "description_width": "",
            "_view_module": "@jupyter-widgets/base",
            "_model_module_version": "1.5.0",
            "_view_count": null,
            "_view_module_version": "1.2.0",
            "_model_module": "@jupyter-widgets/controls"
          }
        },
        "c5908df60cc7437a8da800f042a37811": {
          "model_module": "@jupyter-widgets/base",
          "model_name": "LayoutModel",
          "state": {
            "_view_name": "LayoutView",
            "grid_template_rows": null,
            "right": null,
            "justify_content": null,
            "_view_module": "@jupyter-widgets/base",
            "overflow": null,
            "_model_module_version": "1.2.0",
            "_view_count": null,
            "flex_flow": null,
            "width": null,
            "min_width": null,
            "border": null,
            "align_items": null,
            "bottom": null,
            "_model_module": "@jupyter-widgets/base",
            "top": null,
            "grid_column": null,
            "overflow_y": null,
            "overflow_x": null,
            "grid_auto_flow": null,
            "grid_area": null,
            "grid_template_columns": null,
            "flex": null,
            "_model_name": "LayoutModel",
            "justify_items": null,
            "grid_row": null,
            "max_height": null,
            "align_content": null,
            "visibility": null,
            "align_self": null,
            "height": null,
            "min_height": null,
            "padding": null,
            "grid_auto_rows": null,
            "grid_gap": null,
            "max_width": null,
            "order": null,
            "_view_module_version": "1.2.0",
            "grid_template_areas": null,
            "object_position": null,
            "object_fit": null,
            "grid_auto_columns": null,
            "margin": null,
            "display": null,
            "left": null
          }
        },
        "dad16b2c273640d2bcf4c3f484466126": {
          "model_module": "@jupyter-widgets/controls",
          "model_name": "HBoxModel",
          "state": {
            "_view_name": "HBoxView",
            "_dom_classes": [],
            "_model_name": "HBoxModel",
            "_view_module": "@jupyter-widgets/controls",
            "_model_module_version": "1.5.0",
            "_view_count": null,
            "_view_module_version": "1.5.0",
            "box_style": "",
            "layout": "IPY_MODEL_60b538bac43740aa8fd4d276769556e4",
            "_model_module": "@jupyter-widgets/controls",
            "children": [
              "IPY_MODEL_a6e9123818664757bc84eff04e53370f",
              "IPY_MODEL_05ea603ceaca415eb1ad81cc3dc5ab42"
            ]
          }
        },
        "60b538bac43740aa8fd4d276769556e4": {
          "model_module": "@jupyter-widgets/base",
          "model_name": "LayoutModel",
          "state": {
            "_view_name": "LayoutView",
            "grid_template_rows": null,
            "right": null,
            "justify_content": null,
            "_view_module": "@jupyter-widgets/base",
            "overflow": null,
            "_model_module_version": "1.2.0",
            "_view_count": null,
            "flex_flow": null,
            "width": null,
            "min_width": null,
            "border": null,
            "align_items": null,
            "bottom": null,
            "_model_module": "@jupyter-widgets/base",
            "top": null,
            "grid_column": null,
            "overflow_y": null,
            "overflow_x": null,
            "grid_auto_flow": null,
            "grid_area": null,
            "grid_template_columns": null,
            "flex": null,
            "_model_name": "LayoutModel",
            "justify_items": null,
            "grid_row": null,
            "max_height": null,
            "align_content": null,
            "visibility": null,
            "align_self": null,
            "height": null,
            "min_height": null,
            "padding": null,
            "grid_auto_rows": null,
            "grid_gap": null,
            "max_width": null,
            "order": null,
            "_view_module_version": "1.2.0",
            "grid_template_areas": null,
            "object_position": null,
            "object_fit": null,
            "grid_auto_columns": null,
            "margin": null,
            "display": null,
            "left": null
          }
        },
        "a6e9123818664757bc84eff04e53370f": {
          "model_module": "@jupyter-widgets/controls",
          "model_name": "FloatProgressModel",
          "state": {
            "_view_name": "ProgressView",
            "style": "IPY_MODEL_ad6c0c962de84ce49f35728534c97eb0",
            "_dom_classes": [],
            "description": "Iteration: 100%",
            "_model_name": "FloatProgressModel",
            "bar_style": "success",
            "max": 63,
            "_view_module": "@jupyter-widgets/controls",
            "_model_module_version": "1.5.0",
            "value": 63,
            "_view_count": null,
            "_view_module_version": "1.5.0",
            "orientation": "horizontal",
            "min": 0,
            "description_tooltip": null,
            "_model_module": "@jupyter-widgets/controls",
            "layout": "IPY_MODEL_2d467684ac624bdfbb99eb6a64317ae5"
          }
        },
        "05ea603ceaca415eb1ad81cc3dc5ab42": {
          "model_module": "@jupyter-widgets/controls",
          "model_name": "HTMLModel",
          "state": {
            "_view_name": "HTMLView",
            "style": "IPY_MODEL_0aafbcb4b58e4bf081a8997b435b829c",
            "_dom_classes": [],
            "description": "",
            "_model_name": "HTMLModel",
            "placeholder": "​",
            "_view_module": "@jupyter-widgets/controls",
            "_model_module_version": "1.5.0",
            "value": " 63/63 [01:53&lt;00:00,  1.81s/it]",
            "_view_count": null,
            "_view_module_version": "1.5.0",
            "description_tooltip": null,
            "_model_module": "@jupyter-widgets/controls",
            "layout": "IPY_MODEL_11880efd707d4657b1c0d1d7e90551f1"
          }
        },
        "ad6c0c962de84ce49f35728534c97eb0": {
          "model_module": "@jupyter-widgets/controls",
          "model_name": "ProgressStyleModel",
          "state": {
            "_view_name": "StyleView",
            "_model_name": "ProgressStyleModel",
            "description_width": "initial",
            "_view_module": "@jupyter-widgets/base",
            "_model_module_version": "1.5.0",
            "_view_count": null,
            "_view_module_version": "1.2.0",
            "bar_color": null,
            "_model_module": "@jupyter-widgets/controls"
          }
        },
        "2d467684ac624bdfbb99eb6a64317ae5": {
          "model_module": "@jupyter-widgets/base",
          "model_name": "LayoutModel",
          "state": {
            "_view_name": "LayoutView",
            "grid_template_rows": null,
            "right": null,
            "justify_content": null,
            "_view_module": "@jupyter-widgets/base",
            "overflow": null,
            "_model_module_version": "1.2.0",
            "_view_count": null,
            "flex_flow": null,
            "width": null,
            "min_width": null,
            "border": null,
            "align_items": null,
            "bottom": null,
            "_model_module": "@jupyter-widgets/base",
            "top": null,
            "grid_column": null,
            "overflow_y": null,
            "overflow_x": null,
            "grid_auto_flow": null,
            "grid_area": null,
            "grid_template_columns": null,
            "flex": null,
            "_model_name": "LayoutModel",
            "justify_items": null,
            "grid_row": null,
            "max_height": null,
            "align_content": null,
            "visibility": null,
            "align_self": null,
            "height": null,
            "min_height": null,
            "padding": null,
            "grid_auto_rows": null,
            "grid_gap": null,
            "max_width": null,
            "order": null,
            "_view_module_version": "1.2.0",
            "grid_template_areas": null,
            "object_position": null,
            "object_fit": null,
            "grid_auto_columns": null,
            "margin": null,
            "display": null,
            "left": null
          }
        },
        "0aafbcb4b58e4bf081a8997b435b829c": {
          "model_module": "@jupyter-widgets/controls",
          "model_name": "DescriptionStyleModel",
          "state": {
            "_view_name": "StyleView",
            "_model_name": "DescriptionStyleModel",
            "description_width": "",
            "_view_module": "@jupyter-widgets/base",
            "_model_module_version": "1.5.0",
            "_view_count": null,
            "_view_module_version": "1.2.0",
            "_model_module": "@jupyter-widgets/controls"
          }
        },
        "11880efd707d4657b1c0d1d7e90551f1": {
          "model_module": "@jupyter-widgets/base",
          "model_name": "LayoutModel",
          "state": {
            "_view_name": "LayoutView",
            "grid_template_rows": null,
            "right": null,
            "justify_content": null,
            "_view_module": "@jupyter-widgets/base",
            "overflow": null,
            "_model_module_version": "1.2.0",
            "_view_count": null,
            "flex_flow": null,
            "width": null,
            "min_width": null,
            "border": null,
            "align_items": null,
            "bottom": null,
            "_model_module": "@jupyter-widgets/base",
            "top": null,
            "grid_column": null,
            "overflow_y": null,
            "overflow_x": null,
            "grid_auto_flow": null,
            "grid_area": null,
            "grid_template_columns": null,
            "flex": null,
            "_model_name": "LayoutModel",
            "justify_items": null,
            "grid_row": null,
            "max_height": null,
            "align_content": null,
            "visibility": null,
            "align_self": null,
            "height": null,
            "min_height": null,
            "padding": null,
            "grid_auto_rows": null,
            "grid_gap": null,
            "max_width": null,
            "order": null,
            "_view_module_version": "1.2.0",
            "grid_template_areas": null,
            "object_position": null,
            "object_fit": null,
            "grid_auto_columns": null,
            "margin": null,
            "display": null,
            "left": null
          }
        },
        "5ae8ab80d891421da794ea8aade7d488": {
          "model_module": "@jupyter-widgets/controls",
          "model_name": "HBoxModel",
          "state": {
            "_view_name": "HBoxView",
            "_dom_classes": [],
            "_model_name": "HBoxModel",
            "_view_module": "@jupyter-widgets/controls",
            "_model_module_version": "1.5.0",
            "_view_count": null,
            "_view_module_version": "1.5.0",
            "box_style": "",
            "layout": "IPY_MODEL_eefc9ee302b0498ca65d15b4b7c4127b",
            "_model_module": "@jupyter-widgets/controls",
            "children": [
              "IPY_MODEL_a4a0b3fb4bc24e439bc195e061972e80",
              "IPY_MODEL_6dab8fd9c9bd47a7a5cfed547c988fac"
            ]
          }
        },
        "eefc9ee302b0498ca65d15b4b7c4127b": {
          "model_module": "@jupyter-widgets/base",
          "model_name": "LayoutModel",
          "state": {
            "_view_name": "LayoutView",
            "grid_template_rows": null,
            "right": null,
            "justify_content": null,
            "_view_module": "@jupyter-widgets/base",
            "overflow": null,
            "_model_module_version": "1.2.0",
            "_view_count": null,
            "flex_flow": null,
            "width": null,
            "min_width": null,
            "border": null,
            "align_items": null,
            "bottom": null,
            "_model_module": "@jupyter-widgets/base",
            "top": null,
            "grid_column": null,
            "overflow_y": null,
            "overflow_x": null,
            "grid_auto_flow": null,
            "grid_area": null,
            "grid_template_columns": null,
            "flex": null,
            "_model_name": "LayoutModel",
            "justify_items": null,
            "grid_row": null,
            "max_height": null,
            "align_content": null,
            "visibility": null,
            "align_self": null,
            "height": null,
            "min_height": null,
            "padding": null,
            "grid_auto_rows": null,
            "grid_gap": null,
            "max_width": null,
            "order": null,
            "_view_module_version": "1.2.0",
            "grid_template_areas": null,
            "object_position": null,
            "object_fit": null,
            "grid_auto_columns": null,
            "margin": null,
            "display": null,
            "left": null
          }
        },
        "a4a0b3fb4bc24e439bc195e061972e80": {
          "model_module": "@jupyter-widgets/controls",
          "model_name": "FloatProgressModel",
          "state": {
            "_view_name": "ProgressView",
            "style": "IPY_MODEL_97497212bf964b6aa8e0d67b7664d16b",
            "_dom_classes": [],
            "description": "Epoch: 100%",
            "_model_name": "FloatProgressModel",
            "bar_style": "success",
            "max": 5,
            "_view_module": "@jupyter-widgets/controls",
            "_model_module_version": "1.5.0",
            "value": 5,
            "_view_count": null,
            "_view_module_version": "1.5.0",
            "orientation": "horizontal",
            "min": 0,
            "description_tooltip": null,
            "_model_module": "@jupyter-widgets/controls",
            "layout": "IPY_MODEL_21e76eddaebb4dffbc8cb02d0de567b5"
          }
        },
        "6dab8fd9c9bd47a7a5cfed547c988fac": {
          "model_module": "@jupyter-widgets/controls",
          "model_name": "HTMLModel",
          "state": {
            "_view_name": "HTMLView",
            "style": "IPY_MODEL_de78f70ebd3146dfae4f0ed42b5ee2c3",
            "_dom_classes": [],
            "description": "",
            "_model_name": "HTMLModel",
            "placeholder": "​",
            "_view_module": "@jupyter-widgets/controls",
            "_model_module_version": "1.5.0",
            "value": " 5/5 [38:54&lt;00:00, 466.82s/it]",
            "_view_count": null,
            "_view_module_version": "1.5.0",
            "description_tooltip": null,
            "_model_module": "@jupyter-widgets/controls",
            "layout": "IPY_MODEL_9636105adf5b40fabc1ae466962c63a8"
          }
        },
        "97497212bf964b6aa8e0d67b7664d16b": {
          "model_module": "@jupyter-widgets/controls",
          "model_name": "ProgressStyleModel",
          "state": {
            "_view_name": "StyleView",
            "_model_name": "ProgressStyleModel",
            "description_width": "initial",
            "_view_module": "@jupyter-widgets/base",
            "_model_module_version": "1.5.0",
            "_view_count": null,
            "_view_module_version": "1.2.0",
            "bar_color": null,
            "_model_module": "@jupyter-widgets/controls"
          }
        },
        "21e76eddaebb4dffbc8cb02d0de567b5": {
          "model_module": "@jupyter-widgets/base",
          "model_name": "LayoutModel",
          "state": {
            "_view_name": "LayoutView",
            "grid_template_rows": null,
            "right": null,
            "justify_content": null,
            "_view_module": "@jupyter-widgets/base",
            "overflow": null,
            "_model_module_version": "1.2.0",
            "_view_count": null,
            "flex_flow": null,
            "width": null,
            "min_width": null,
            "border": null,
            "align_items": null,
            "bottom": null,
            "_model_module": "@jupyter-widgets/base",
            "top": null,
            "grid_column": null,
            "overflow_y": null,
            "overflow_x": null,
            "grid_auto_flow": null,
            "grid_area": null,
            "grid_template_columns": null,
            "flex": null,
            "_model_name": "LayoutModel",
            "justify_items": null,
            "grid_row": null,
            "max_height": null,
            "align_content": null,
            "visibility": null,
            "align_self": null,
            "height": null,
            "min_height": null,
            "padding": null,
            "grid_auto_rows": null,
            "grid_gap": null,
            "max_width": null,
            "order": null,
            "_view_module_version": "1.2.0",
            "grid_template_areas": null,
            "object_position": null,
            "object_fit": null,
            "grid_auto_columns": null,
            "margin": null,
            "display": null,
            "left": null
          }
        },
        "de78f70ebd3146dfae4f0ed42b5ee2c3": {
          "model_module": "@jupyter-widgets/controls",
          "model_name": "DescriptionStyleModel",
          "state": {
            "_view_name": "StyleView",
            "_model_name": "DescriptionStyleModel",
            "description_width": "",
            "_view_module": "@jupyter-widgets/base",
            "_model_module_version": "1.5.0",
            "_view_count": null,
            "_view_module_version": "1.2.0",
            "_model_module": "@jupyter-widgets/controls"
          }
        },
        "9636105adf5b40fabc1ae466962c63a8": {
          "model_module": "@jupyter-widgets/base",
          "model_name": "LayoutModel",
          "state": {
            "_view_name": "LayoutView",
            "grid_template_rows": null,
            "right": null,
            "justify_content": null,
            "_view_module": "@jupyter-widgets/base",
            "overflow": null,
            "_model_module_version": "1.2.0",
            "_view_count": null,
            "flex_flow": null,
            "width": null,
            "min_width": null,
            "border": null,
            "align_items": null,
            "bottom": null,
            "_model_module": "@jupyter-widgets/base",
            "top": null,
            "grid_column": null,
            "overflow_y": null,
            "overflow_x": null,
            "grid_auto_flow": null,
            "grid_area": null,
            "grid_template_columns": null,
            "flex": null,
            "_model_name": "LayoutModel",
            "justify_items": null,
            "grid_row": null,
            "max_height": null,
            "align_content": null,
            "visibility": null,
            "align_self": null,
            "height": null,
            "min_height": null,
            "padding": null,
            "grid_auto_rows": null,
            "grid_gap": null,
            "max_width": null,
            "order": null,
            "_view_module_version": "1.2.0",
            "grid_template_areas": null,
            "object_position": null,
            "object_fit": null,
            "grid_auto_columns": null,
            "margin": null,
            "display": null,
            "left": null
          }
        },
        "0ebeddbe03144198ac58334ee3d77adb": {
          "model_module": "@jupyter-widgets/controls",
          "model_name": "HBoxModel",
          "state": {
            "_view_name": "HBoxView",
            "_dom_classes": [],
            "_model_name": "HBoxModel",
            "_view_module": "@jupyter-widgets/controls",
            "_model_module_version": "1.5.0",
            "_view_count": null,
            "_view_module_version": "1.5.0",
            "box_style": "",
            "layout": "IPY_MODEL_ac386ba279334de3a0ca42b5f9aaa2ea",
            "_model_module": "@jupyter-widgets/controls",
            "children": [
              "IPY_MODEL_415309de81dd414b9ed60aa27ba8224c",
              "IPY_MODEL_fa8385f8b94d404da412e629ae726b48"
            ]
          }
        },
        "ac386ba279334de3a0ca42b5f9aaa2ea": {
          "model_module": "@jupyter-widgets/base",
          "model_name": "LayoutModel",
          "state": {
            "_view_name": "LayoutView",
            "grid_template_rows": null,
            "right": null,
            "justify_content": null,
            "_view_module": "@jupyter-widgets/base",
            "overflow": null,
            "_model_module_version": "1.2.0",
            "_view_count": null,
            "flex_flow": null,
            "width": null,
            "min_width": null,
            "border": null,
            "align_items": null,
            "bottom": null,
            "_model_module": "@jupyter-widgets/base",
            "top": null,
            "grid_column": null,
            "overflow_y": null,
            "overflow_x": null,
            "grid_auto_flow": null,
            "grid_area": null,
            "grid_template_columns": null,
            "flex": null,
            "_model_name": "LayoutModel",
            "justify_items": null,
            "grid_row": null,
            "max_height": null,
            "align_content": null,
            "visibility": null,
            "align_self": null,
            "height": null,
            "min_height": null,
            "padding": null,
            "grid_auto_rows": null,
            "grid_gap": null,
            "max_width": null,
            "order": null,
            "_view_module_version": "1.2.0",
            "grid_template_areas": null,
            "object_position": null,
            "object_fit": null,
            "grid_auto_columns": null,
            "margin": null,
            "display": null,
            "left": null
          }
        },
        "415309de81dd414b9ed60aa27ba8224c": {
          "model_module": "@jupyter-widgets/controls",
          "model_name": "FloatProgressModel",
          "state": {
            "_view_name": "ProgressView",
            "style": "IPY_MODEL_a6a810b0112f44a6bdcbd46978ebca50",
            "_dom_classes": [],
            "description": "Iteration: 100%",
            "_model_name": "FloatProgressModel",
            "bar_style": "success",
            "max": 563,
            "_view_module": "@jupyter-widgets/controls",
            "_model_module_version": "1.5.0",
            "value": 563,
            "_view_count": null,
            "_view_module_version": "1.5.0",
            "orientation": "horizontal",
            "min": 0,
            "description_tooltip": null,
            "_model_module": "@jupyter-widgets/controls",
            "layout": "IPY_MODEL_534818c606674b6cb822be76f3b7aa9d"
          }
        },
        "fa8385f8b94d404da412e629ae726b48": {
          "model_module": "@jupyter-widgets/controls",
          "model_name": "HTMLModel",
          "state": {
            "_view_name": "HTMLView",
            "style": "IPY_MODEL_2e0ec2860c3e4dafbff7833753bffa15",
            "_dom_classes": [],
            "description": "",
            "_model_name": "HTMLModel",
            "placeholder": "​",
            "_view_module": "@jupyter-widgets/controls",
            "_model_module_version": "1.5.0",
            "value": " 563/563 [38:54&lt;00:00,  4.15s/it]",
            "_view_count": null,
            "_view_module_version": "1.5.0",
            "description_tooltip": null,
            "_model_module": "@jupyter-widgets/controls",
            "layout": "IPY_MODEL_25fae195800a4bd59f04bddd916caf35"
          }
        },
        "a6a810b0112f44a6bdcbd46978ebca50": {
          "model_module": "@jupyter-widgets/controls",
          "model_name": "ProgressStyleModel",
          "state": {
            "_view_name": "StyleView",
            "_model_name": "ProgressStyleModel",
            "description_width": "initial",
            "_view_module": "@jupyter-widgets/base",
            "_model_module_version": "1.5.0",
            "_view_count": null,
            "_view_module_version": "1.2.0",
            "bar_color": null,
            "_model_module": "@jupyter-widgets/controls"
          }
        },
        "534818c606674b6cb822be76f3b7aa9d": {
          "model_module": "@jupyter-widgets/base",
          "model_name": "LayoutModel",
          "state": {
            "_view_name": "LayoutView",
            "grid_template_rows": null,
            "right": null,
            "justify_content": null,
            "_view_module": "@jupyter-widgets/base",
            "overflow": null,
            "_model_module_version": "1.2.0",
            "_view_count": null,
            "flex_flow": null,
            "width": null,
            "min_width": null,
            "border": null,
            "align_items": null,
            "bottom": null,
            "_model_module": "@jupyter-widgets/base",
            "top": null,
            "grid_column": null,
            "overflow_y": null,
            "overflow_x": null,
            "grid_auto_flow": null,
            "grid_area": null,
            "grid_template_columns": null,
            "flex": null,
            "_model_name": "LayoutModel",
            "justify_items": null,
            "grid_row": null,
            "max_height": null,
            "align_content": null,
            "visibility": null,
            "align_self": null,
            "height": null,
            "min_height": null,
            "padding": null,
            "grid_auto_rows": null,
            "grid_gap": null,
            "max_width": null,
            "order": null,
            "_view_module_version": "1.2.0",
            "grid_template_areas": null,
            "object_position": null,
            "object_fit": null,
            "grid_auto_columns": null,
            "margin": null,
            "display": null,
            "left": null
          }
        },
        "2e0ec2860c3e4dafbff7833753bffa15": {
          "model_module": "@jupyter-widgets/controls",
          "model_name": "DescriptionStyleModel",
          "state": {
            "_view_name": "StyleView",
            "_model_name": "DescriptionStyleModel",
            "description_width": "",
            "_view_module": "@jupyter-widgets/base",
            "_model_module_version": "1.5.0",
            "_view_count": null,
            "_view_module_version": "1.2.0",
            "_model_module": "@jupyter-widgets/controls"
          }
        },
        "25fae195800a4bd59f04bddd916caf35": {
          "model_module": "@jupyter-widgets/base",
          "model_name": "LayoutModel",
          "state": {
            "_view_name": "LayoutView",
            "grid_template_rows": null,
            "right": null,
            "justify_content": null,
            "_view_module": "@jupyter-widgets/base",
            "overflow": null,
            "_model_module_version": "1.2.0",
            "_view_count": null,
            "flex_flow": null,
            "width": null,
            "min_width": null,
            "border": null,
            "align_items": null,
            "bottom": null,
            "_model_module": "@jupyter-widgets/base",
            "top": null,
            "grid_column": null,
            "overflow_y": null,
            "overflow_x": null,
            "grid_auto_flow": null,
            "grid_area": null,
            "grid_template_columns": null,
            "flex": null,
            "_model_name": "LayoutModel",
            "justify_items": null,
            "grid_row": null,
            "max_height": null,
            "align_content": null,
            "visibility": null,
            "align_self": null,
            "height": null,
            "min_height": null,
            "padding": null,
            "grid_auto_rows": null,
            "grid_gap": null,
            "max_width": null,
            "order": null,
            "_view_module_version": "1.2.0",
            "grid_template_areas": null,
            "object_position": null,
            "object_fit": null,
            "grid_auto_columns": null,
            "margin": null,
            "display": null,
            "left": null
          }
        },
        "aa3986de159444b0813664d3e672b7e0": {
          "model_module": "@jupyter-widgets/controls",
          "model_name": "HBoxModel",
          "state": {
            "_view_name": "HBoxView",
            "_dom_classes": [],
            "_model_name": "HBoxModel",
            "_view_module": "@jupyter-widgets/controls",
            "_model_module_version": "1.5.0",
            "_view_count": null,
            "_view_module_version": "1.5.0",
            "box_style": "",
            "layout": "IPY_MODEL_a133b01bef4648b481eef2ed9645f571",
            "_model_module": "@jupyter-widgets/controls",
            "children": [
              "IPY_MODEL_c89dd75f81154b1bb8cc7266ebf08c5b",
              "IPY_MODEL_bbf5424587014ed38e2f48032a504dc5"
            ]
          }
        },
        "a133b01bef4648b481eef2ed9645f571": {
          "model_module": "@jupyter-widgets/base",
          "model_name": "LayoutModel",
          "state": {
            "_view_name": "LayoutView",
            "grid_template_rows": null,
            "right": null,
            "justify_content": null,
            "_view_module": "@jupyter-widgets/base",
            "overflow": null,
            "_model_module_version": "1.2.0",
            "_view_count": null,
            "flex_flow": null,
            "width": null,
            "min_width": null,
            "border": null,
            "align_items": null,
            "bottom": null,
            "_model_module": "@jupyter-widgets/base",
            "top": null,
            "grid_column": null,
            "overflow_y": null,
            "overflow_x": null,
            "grid_auto_flow": null,
            "grid_area": null,
            "grid_template_columns": null,
            "flex": null,
            "_model_name": "LayoutModel",
            "justify_items": null,
            "grid_row": null,
            "max_height": null,
            "align_content": null,
            "visibility": null,
            "align_self": null,
            "height": null,
            "min_height": null,
            "padding": null,
            "grid_auto_rows": null,
            "grid_gap": null,
            "max_width": null,
            "order": null,
            "_view_module_version": "1.2.0",
            "grid_template_areas": null,
            "object_position": null,
            "object_fit": null,
            "grid_auto_columns": null,
            "margin": null,
            "display": null,
            "left": null
          }
        },
        "c89dd75f81154b1bb8cc7266ebf08c5b": {
          "model_module": "@jupyter-widgets/controls",
          "model_name": "FloatProgressModel",
          "state": {
            "_view_name": "ProgressView",
            "style": "IPY_MODEL_572d53a91e604c919bf3ef367fa6df1e",
            "_dom_classes": [],
            "description": "Iteration: 100%",
            "_model_name": "FloatProgressModel",
            "bar_style": "success",
            "max": 563,
            "_view_module": "@jupyter-widgets/controls",
            "_model_module_version": "1.5.0",
            "value": 563,
            "_view_count": null,
            "_view_module_version": "1.5.0",
            "orientation": "horizontal",
            "min": 0,
            "description_tooltip": null,
            "_model_module": "@jupyter-widgets/controls",
            "layout": "IPY_MODEL_0791658b13d940dc8091eafafdeaead5"
          }
        },
        "bbf5424587014ed38e2f48032a504dc5": {
          "model_module": "@jupyter-widgets/controls",
          "model_name": "HTMLModel",
          "state": {
            "_view_name": "HTMLView",
            "style": "IPY_MODEL_f5512dfa864749e2b47aad76f8d97e81",
            "_dom_classes": [],
            "description": "",
            "_model_name": "HTMLModel",
            "placeholder": "​",
            "_view_module": "@jupyter-widgets/controls",
            "_model_module_version": "1.5.0",
            "value": " 563/563 [35:32&lt;00:00,  3.79s/it]",
            "_view_count": null,
            "_view_module_version": "1.5.0",
            "description_tooltip": null,
            "_model_module": "@jupyter-widgets/controls",
            "layout": "IPY_MODEL_01eeeed944c54635a127c09bd65b95c7"
          }
        },
        "572d53a91e604c919bf3ef367fa6df1e": {
          "model_module": "@jupyter-widgets/controls",
          "model_name": "ProgressStyleModel",
          "state": {
            "_view_name": "StyleView",
            "_model_name": "ProgressStyleModel",
            "description_width": "initial",
            "_view_module": "@jupyter-widgets/base",
            "_model_module_version": "1.5.0",
            "_view_count": null,
            "_view_module_version": "1.2.0",
            "bar_color": null,
            "_model_module": "@jupyter-widgets/controls"
          }
        },
        "0791658b13d940dc8091eafafdeaead5": {
          "model_module": "@jupyter-widgets/base",
          "model_name": "LayoutModel",
          "state": {
            "_view_name": "LayoutView",
            "grid_template_rows": null,
            "right": null,
            "justify_content": null,
            "_view_module": "@jupyter-widgets/base",
            "overflow": null,
            "_model_module_version": "1.2.0",
            "_view_count": null,
            "flex_flow": null,
            "width": null,
            "min_width": null,
            "border": null,
            "align_items": null,
            "bottom": null,
            "_model_module": "@jupyter-widgets/base",
            "top": null,
            "grid_column": null,
            "overflow_y": null,
            "overflow_x": null,
            "grid_auto_flow": null,
            "grid_area": null,
            "grid_template_columns": null,
            "flex": null,
            "_model_name": "LayoutModel",
            "justify_items": null,
            "grid_row": null,
            "max_height": null,
            "align_content": null,
            "visibility": null,
            "align_self": null,
            "height": null,
            "min_height": null,
            "padding": null,
            "grid_auto_rows": null,
            "grid_gap": null,
            "max_width": null,
            "order": null,
            "_view_module_version": "1.2.0",
            "grid_template_areas": null,
            "object_position": null,
            "object_fit": null,
            "grid_auto_columns": null,
            "margin": null,
            "display": null,
            "left": null
          }
        },
        "f5512dfa864749e2b47aad76f8d97e81": {
          "model_module": "@jupyter-widgets/controls",
          "model_name": "DescriptionStyleModel",
          "state": {
            "_view_name": "StyleView",
            "_model_name": "DescriptionStyleModel",
            "description_width": "",
            "_view_module": "@jupyter-widgets/base",
            "_model_module_version": "1.5.0",
            "_view_count": null,
            "_view_module_version": "1.2.0",
            "_model_module": "@jupyter-widgets/controls"
          }
        },
        "01eeeed944c54635a127c09bd65b95c7": {
          "model_module": "@jupyter-widgets/base",
          "model_name": "LayoutModel",
          "state": {
            "_view_name": "LayoutView",
            "grid_template_rows": null,
            "right": null,
            "justify_content": null,
            "_view_module": "@jupyter-widgets/base",
            "overflow": null,
            "_model_module_version": "1.2.0",
            "_view_count": null,
            "flex_flow": null,
            "width": null,
            "min_width": null,
            "border": null,
            "align_items": null,
            "bottom": null,
            "_model_module": "@jupyter-widgets/base",
            "top": null,
            "grid_column": null,
            "overflow_y": null,
            "overflow_x": null,
            "grid_auto_flow": null,
            "grid_area": null,
            "grid_template_columns": null,
            "flex": null,
            "_model_name": "LayoutModel",
            "justify_items": null,
            "grid_row": null,
            "max_height": null,
            "align_content": null,
            "visibility": null,
            "align_self": null,
            "height": null,
            "min_height": null,
            "padding": null,
            "grid_auto_rows": null,
            "grid_gap": null,
            "max_width": null,
            "order": null,
            "_view_module_version": "1.2.0",
            "grid_template_areas": null,
            "object_position": null,
            "object_fit": null,
            "grid_auto_columns": null,
            "margin": null,
            "display": null,
            "left": null
          }
        },
        "a84c9d84234e47d6a825913c05534aa6": {
          "model_module": "@jupyter-widgets/controls",
          "model_name": "HBoxModel",
          "state": {
            "_view_name": "HBoxView",
            "_dom_classes": [],
            "_model_name": "HBoxModel",
            "_view_module": "@jupyter-widgets/controls",
            "_model_module_version": "1.5.0",
            "_view_count": null,
            "_view_module_version": "1.5.0",
            "box_style": "",
            "layout": "IPY_MODEL_aba7966c76a442b88e91ecbf85260950",
            "_model_module": "@jupyter-widgets/controls",
            "children": [
              "IPY_MODEL_781e9930288548e1a9c8b01a8e7d8e05",
              "IPY_MODEL_634864c091f14f13b1f72f963f423d3e"
            ]
          }
        },
        "aba7966c76a442b88e91ecbf85260950": {
          "model_module": "@jupyter-widgets/base",
          "model_name": "LayoutModel",
          "state": {
            "_view_name": "LayoutView",
            "grid_template_rows": null,
            "right": null,
            "justify_content": null,
            "_view_module": "@jupyter-widgets/base",
            "overflow": null,
            "_model_module_version": "1.2.0",
            "_view_count": null,
            "flex_flow": null,
            "width": null,
            "min_width": null,
            "border": null,
            "align_items": null,
            "bottom": null,
            "_model_module": "@jupyter-widgets/base",
            "top": null,
            "grid_column": null,
            "overflow_y": null,
            "overflow_x": null,
            "grid_auto_flow": null,
            "grid_area": null,
            "grid_template_columns": null,
            "flex": null,
            "_model_name": "LayoutModel",
            "justify_items": null,
            "grid_row": null,
            "max_height": null,
            "align_content": null,
            "visibility": null,
            "align_self": null,
            "height": null,
            "min_height": null,
            "padding": null,
            "grid_auto_rows": null,
            "grid_gap": null,
            "max_width": null,
            "order": null,
            "_view_module_version": "1.2.0",
            "grid_template_areas": null,
            "object_position": null,
            "object_fit": null,
            "grid_auto_columns": null,
            "margin": null,
            "display": null,
            "left": null
          }
        },
        "781e9930288548e1a9c8b01a8e7d8e05": {
          "model_module": "@jupyter-widgets/controls",
          "model_name": "FloatProgressModel",
          "state": {
            "_view_name": "ProgressView",
            "style": "IPY_MODEL_1001220fd0aa475a9f8af7e50e49d106",
            "_dom_classes": [],
            "description": "Iteration: 100%",
            "_model_name": "FloatProgressModel",
            "bar_style": "success",
            "max": 563,
            "_view_module": "@jupyter-widgets/controls",
            "_model_module_version": "1.5.0",
            "value": 563,
            "_view_count": null,
            "_view_module_version": "1.5.0",
            "orientation": "horizontal",
            "min": 0,
            "description_tooltip": null,
            "_model_module": "@jupyter-widgets/controls",
            "layout": "IPY_MODEL_8b70d99892c544bcb7c0523c6b75a03f"
          }
        },
        "634864c091f14f13b1f72f963f423d3e": {
          "model_module": "@jupyter-widgets/controls",
          "model_name": "HTMLModel",
          "state": {
            "_view_name": "HTMLView",
            "style": "IPY_MODEL_53bff6e91c71491aa783c0d64972f654",
            "_dom_classes": [],
            "description": "",
            "_model_name": "HTMLModel",
            "placeholder": "​",
            "_view_module": "@jupyter-widgets/controls",
            "_model_module_version": "1.5.0",
            "value": " 563/563 [32:10&lt;00:00,  3.43s/it]",
            "_view_count": null,
            "_view_module_version": "1.5.0",
            "description_tooltip": null,
            "_model_module": "@jupyter-widgets/controls",
            "layout": "IPY_MODEL_aa55a146a626492282204563a2a67b07"
          }
        },
        "1001220fd0aa475a9f8af7e50e49d106": {
          "model_module": "@jupyter-widgets/controls",
          "model_name": "ProgressStyleModel",
          "state": {
            "_view_name": "StyleView",
            "_model_name": "ProgressStyleModel",
            "description_width": "initial",
            "_view_module": "@jupyter-widgets/base",
            "_model_module_version": "1.5.0",
            "_view_count": null,
            "_view_module_version": "1.2.0",
            "bar_color": null,
            "_model_module": "@jupyter-widgets/controls"
          }
        },
        "8b70d99892c544bcb7c0523c6b75a03f": {
          "model_module": "@jupyter-widgets/base",
          "model_name": "LayoutModel",
          "state": {
            "_view_name": "LayoutView",
            "grid_template_rows": null,
            "right": null,
            "justify_content": null,
            "_view_module": "@jupyter-widgets/base",
            "overflow": null,
            "_model_module_version": "1.2.0",
            "_view_count": null,
            "flex_flow": null,
            "width": null,
            "min_width": null,
            "border": null,
            "align_items": null,
            "bottom": null,
            "_model_module": "@jupyter-widgets/base",
            "top": null,
            "grid_column": null,
            "overflow_y": null,
            "overflow_x": null,
            "grid_auto_flow": null,
            "grid_area": null,
            "grid_template_columns": null,
            "flex": null,
            "_model_name": "LayoutModel",
            "justify_items": null,
            "grid_row": null,
            "max_height": null,
            "align_content": null,
            "visibility": null,
            "align_self": null,
            "height": null,
            "min_height": null,
            "padding": null,
            "grid_auto_rows": null,
            "grid_gap": null,
            "max_width": null,
            "order": null,
            "_view_module_version": "1.2.0",
            "grid_template_areas": null,
            "object_position": null,
            "object_fit": null,
            "grid_auto_columns": null,
            "margin": null,
            "display": null,
            "left": null
          }
        },
        "53bff6e91c71491aa783c0d64972f654": {
          "model_module": "@jupyter-widgets/controls",
          "model_name": "DescriptionStyleModel",
          "state": {
            "_view_name": "StyleView",
            "_model_name": "DescriptionStyleModel",
            "description_width": "",
            "_view_module": "@jupyter-widgets/base",
            "_model_module_version": "1.5.0",
            "_view_count": null,
            "_view_module_version": "1.2.0",
            "_model_module": "@jupyter-widgets/controls"
          }
        },
        "aa55a146a626492282204563a2a67b07": {
          "model_module": "@jupyter-widgets/base",
          "model_name": "LayoutModel",
          "state": {
            "_view_name": "LayoutView",
            "grid_template_rows": null,
            "right": null,
            "justify_content": null,
            "_view_module": "@jupyter-widgets/base",
            "overflow": null,
            "_model_module_version": "1.2.0",
            "_view_count": null,
            "flex_flow": null,
            "width": null,
            "min_width": null,
            "border": null,
            "align_items": null,
            "bottom": null,
            "_model_module": "@jupyter-widgets/base",
            "top": null,
            "grid_column": null,
            "overflow_y": null,
            "overflow_x": null,
            "grid_auto_flow": null,
            "grid_area": null,
            "grid_template_columns": null,
            "flex": null,
            "_model_name": "LayoutModel",
            "justify_items": null,
            "grid_row": null,
            "max_height": null,
            "align_content": null,
            "visibility": null,
            "align_self": null,
            "height": null,
            "min_height": null,
            "padding": null,
            "grid_auto_rows": null,
            "grid_gap": null,
            "max_width": null,
            "order": null,
            "_view_module_version": "1.2.0",
            "grid_template_areas": null,
            "object_position": null,
            "object_fit": null,
            "grid_auto_columns": null,
            "margin": null,
            "display": null,
            "left": null
          }
        },
        "c74b920c439648e89f7db50d6e85c28a": {
          "model_module": "@jupyter-widgets/controls",
          "model_name": "HBoxModel",
          "state": {
            "_view_name": "HBoxView",
            "_dom_classes": [],
            "_model_name": "HBoxModel",
            "_view_module": "@jupyter-widgets/controls",
            "_model_module_version": "1.5.0",
            "_view_count": null,
            "_view_module_version": "1.5.0",
            "box_style": "",
            "layout": "IPY_MODEL_49b4d60e37ae42a386b28ccbf3aabe9b",
            "_model_module": "@jupyter-widgets/controls",
            "children": [
              "IPY_MODEL_75fccbcbe6f84d7e8049a206befad5a4",
              "IPY_MODEL_ec766b59ccfa41e18e68439d4cc815a2"
            ]
          }
        },
        "49b4d60e37ae42a386b28ccbf3aabe9b": {
          "model_module": "@jupyter-widgets/base",
          "model_name": "LayoutModel",
          "state": {
            "_view_name": "LayoutView",
            "grid_template_rows": null,
            "right": null,
            "justify_content": null,
            "_view_module": "@jupyter-widgets/base",
            "overflow": null,
            "_model_module_version": "1.2.0",
            "_view_count": null,
            "flex_flow": null,
            "width": null,
            "min_width": null,
            "border": null,
            "align_items": null,
            "bottom": null,
            "_model_module": "@jupyter-widgets/base",
            "top": null,
            "grid_column": null,
            "overflow_y": null,
            "overflow_x": null,
            "grid_auto_flow": null,
            "grid_area": null,
            "grid_template_columns": null,
            "flex": null,
            "_model_name": "LayoutModel",
            "justify_items": null,
            "grid_row": null,
            "max_height": null,
            "align_content": null,
            "visibility": null,
            "align_self": null,
            "height": null,
            "min_height": null,
            "padding": null,
            "grid_auto_rows": null,
            "grid_gap": null,
            "max_width": null,
            "order": null,
            "_view_module_version": "1.2.0",
            "grid_template_areas": null,
            "object_position": null,
            "object_fit": null,
            "grid_auto_columns": null,
            "margin": null,
            "display": null,
            "left": null
          }
        },
        "75fccbcbe6f84d7e8049a206befad5a4": {
          "model_module": "@jupyter-widgets/controls",
          "model_name": "FloatProgressModel",
          "state": {
            "_view_name": "ProgressView",
            "style": "IPY_MODEL_34b62aea1521428d902bd079f9bfab19",
            "_dom_classes": [],
            "description": "Iteration: 100%",
            "_model_name": "FloatProgressModel",
            "bar_style": "success",
            "max": 563,
            "_view_module": "@jupyter-widgets/controls",
            "_model_module_version": "1.5.0",
            "value": 563,
            "_view_count": null,
            "_view_module_version": "1.5.0",
            "orientation": "horizontal",
            "min": 0,
            "description_tooltip": null,
            "_model_module": "@jupyter-widgets/controls",
            "layout": "IPY_MODEL_e7086b2aaf944cf5b9f59dba9adba314"
          }
        },
        "ec766b59ccfa41e18e68439d4cc815a2": {
          "model_module": "@jupyter-widgets/controls",
          "model_name": "HTMLModel",
          "state": {
            "_view_name": "HTMLView",
            "style": "IPY_MODEL_02e309bbe34047349c31044a9a6dfc24",
            "_dom_classes": [],
            "description": "",
            "_model_name": "HTMLModel",
            "placeholder": "​",
            "_view_module": "@jupyter-widgets/controls",
            "_model_module_version": "1.5.0",
            "value": " 563/563 [28:49&lt;00:00,  3.07s/it]",
            "_view_count": null,
            "_view_module_version": "1.5.0",
            "description_tooltip": null,
            "_model_module": "@jupyter-widgets/controls",
            "layout": "IPY_MODEL_ffb86f5f6a8f4dbbbb298308b6e6f111"
          }
        },
        "34b62aea1521428d902bd079f9bfab19": {
          "model_module": "@jupyter-widgets/controls",
          "model_name": "ProgressStyleModel",
          "state": {
            "_view_name": "StyleView",
            "_model_name": "ProgressStyleModel",
            "description_width": "initial",
            "_view_module": "@jupyter-widgets/base",
            "_model_module_version": "1.5.0",
            "_view_count": null,
            "_view_module_version": "1.2.0",
            "bar_color": null,
            "_model_module": "@jupyter-widgets/controls"
          }
        },
        "e7086b2aaf944cf5b9f59dba9adba314": {
          "model_module": "@jupyter-widgets/base",
          "model_name": "LayoutModel",
          "state": {
            "_view_name": "LayoutView",
            "grid_template_rows": null,
            "right": null,
            "justify_content": null,
            "_view_module": "@jupyter-widgets/base",
            "overflow": null,
            "_model_module_version": "1.2.0",
            "_view_count": null,
            "flex_flow": null,
            "width": null,
            "min_width": null,
            "border": null,
            "align_items": null,
            "bottom": null,
            "_model_module": "@jupyter-widgets/base",
            "top": null,
            "grid_column": null,
            "overflow_y": null,
            "overflow_x": null,
            "grid_auto_flow": null,
            "grid_area": null,
            "grid_template_columns": null,
            "flex": null,
            "_model_name": "LayoutModel",
            "justify_items": null,
            "grid_row": null,
            "max_height": null,
            "align_content": null,
            "visibility": null,
            "align_self": null,
            "height": null,
            "min_height": null,
            "padding": null,
            "grid_auto_rows": null,
            "grid_gap": null,
            "max_width": null,
            "order": null,
            "_view_module_version": "1.2.0",
            "grid_template_areas": null,
            "object_position": null,
            "object_fit": null,
            "grid_auto_columns": null,
            "margin": null,
            "display": null,
            "left": null
          }
        },
        "02e309bbe34047349c31044a9a6dfc24": {
          "model_module": "@jupyter-widgets/controls",
          "model_name": "DescriptionStyleModel",
          "state": {
            "_view_name": "StyleView",
            "_model_name": "DescriptionStyleModel",
            "description_width": "",
            "_view_module": "@jupyter-widgets/base",
            "_model_module_version": "1.5.0",
            "_view_count": null,
            "_view_module_version": "1.2.0",
            "_model_module": "@jupyter-widgets/controls"
          }
        },
        "ffb86f5f6a8f4dbbbb298308b6e6f111": {
          "model_module": "@jupyter-widgets/base",
          "model_name": "LayoutModel",
          "state": {
            "_view_name": "LayoutView",
            "grid_template_rows": null,
            "right": null,
            "justify_content": null,
            "_view_module": "@jupyter-widgets/base",
            "overflow": null,
            "_model_module_version": "1.2.0",
            "_view_count": null,
            "flex_flow": null,
            "width": null,
            "min_width": null,
            "border": null,
            "align_items": null,
            "bottom": null,
            "_model_module": "@jupyter-widgets/base",
            "top": null,
            "grid_column": null,
            "overflow_y": null,
            "overflow_x": null,
            "grid_auto_flow": null,
            "grid_area": null,
            "grid_template_columns": null,
            "flex": null,
            "_model_name": "LayoutModel",
            "justify_items": null,
            "grid_row": null,
            "max_height": null,
            "align_content": null,
            "visibility": null,
            "align_self": null,
            "height": null,
            "min_height": null,
            "padding": null,
            "grid_auto_rows": null,
            "grid_gap": null,
            "max_width": null,
            "order": null,
            "_view_module_version": "1.2.0",
            "grid_template_areas": null,
            "object_position": null,
            "object_fit": null,
            "grid_auto_columns": null,
            "margin": null,
            "display": null,
            "left": null
          }
        },
        "ba5adc410cfb42238b3f581c04b8f116": {
          "model_module": "@jupyter-widgets/controls",
          "model_name": "HBoxModel",
          "state": {
            "_view_name": "HBoxView",
            "_dom_classes": [],
            "_model_name": "HBoxModel",
            "_view_module": "@jupyter-widgets/controls",
            "_model_module_version": "1.5.0",
            "_view_count": null,
            "_view_module_version": "1.5.0",
            "box_style": "",
            "layout": "IPY_MODEL_da71d1aa85bb4caaacbd2712f25f22a0",
            "_model_module": "@jupyter-widgets/controls",
            "children": [
              "IPY_MODEL_560ed03e67024e7198e051edd5986496",
              "IPY_MODEL_34d0edc886dc4c68bdfa252a0d0f9964"
            ]
          }
        },
        "da71d1aa85bb4caaacbd2712f25f22a0": {
          "model_module": "@jupyter-widgets/base",
          "model_name": "LayoutModel",
          "state": {
            "_view_name": "LayoutView",
            "grid_template_rows": null,
            "right": null,
            "justify_content": null,
            "_view_module": "@jupyter-widgets/base",
            "overflow": null,
            "_model_module_version": "1.2.0",
            "_view_count": null,
            "flex_flow": null,
            "width": null,
            "min_width": null,
            "border": null,
            "align_items": null,
            "bottom": null,
            "_model_module": "@jupyter-widgets/base",
            "top": null,
            "grid_column": null,
            "overflow_y": null,
            "overflow_x": null,
            "grid_auto_flow": null,
            "grid_area": null,
            "grid_template_columns": null,
            "flex": null,
            "_model_name": "LayoutModel",
            "justify_items": null,
            "grid_row": null,
            "max_height": null,
            "align_content": null,
            "visibility": null,
            "align_self": null,
            "height": null,
            "min_height": null,
            "padding": null,
            "grid_auto_rows": null,
            "grid_gap": null,
            "max_width": null,
            "order": null,
            "_view_module_version": "1.2.0",
            "grid_template_areas": null,
            "object_position": null,
            "object_fit": null,
            "grid_auto_columns": null,
            "margin": null,
            "display": null,
            "left": null
          }
        },
        "560ed03e67024e7198e051edd5986496": {
          "model_module": "@jupyter-widgets/controls",
          "model_name": "FloatProgressModel",
          "state": {
            "_view_name": "ProgressView",
            "style": "IPY_MODEL_f5c71b755c1d4e7e8ac6a728200a86c1",
            "_dom_classes": [],
            "description": "Iteration: 100%",
            "_model_name": "FloatProgressModel",
            "bar_style": "success",
            "max": 563,
            "_view_module": "@jupyter-widgets/controls",
            "_model_module_version": "1.5.0",
            "value": 563,
            "_view_count": null,
            "_view_module_version": "1.5.0",
            "orientation": "horizontal",
            "min": 0,
            "description_tooltip": null,
            "_model_module": "@jupyter-widgets/controls",
            "layout": "IPY_MODEL_cb67d3692cee465db09d49c2b0514fb2"
          }
        },
        "34d0edc886dc4c68bdfa252a0d0f9964": {
          "model_module": "@jupyter-widgets/controls",
          "model_name": "HTMLModel",
          "state": {
            "_view_name": "HTMLView",
            "style": "IPY_MODEL_4ce5beb616144daba867f60dbc9e1a5f",
            "_dom_classes": [],
            "description": "",
            "_model_name": "HTMLModel",
            "placeholder": "​",
            "_view_module": "@jupyter-widgets/controls",
            "_model_module_version": "1.5.0",
            "value": " 563/563 [25:33&lt;00:00,  2.72s/it]",
            "_view_count": null,
            "_view_module_version": "1.5.0",
            "description_tooltip": null,
            "_model_module": "@jupyter-widgets/controls",
            "layout": "IPY_MODEL_30e96efaa03b43bca53cc236cdd322a2"
          }
        },
        "f5c71b755c1d4e7e8ac6a728200a86c1": {
          "model_module": "@jupyter-widgets/controls",
          "model_name": "ProgressStyleModel",
          "state": {
            "_view_name": "StyleView",
            "_model_name": "ProgressStyleModel",
            "description_width": "initial",
            "_view_module": "@jupyter-widgets/base",
            "_model_module_version": "1.5.0",
            "_view_count": null,
            "_view_module_version": "1.2.0",
            "bar_color": null,
            "_model_module": "@jupyter-widgets/controls"
          }
        },
        "cb67d3692cee465db09d49c2b0514fb2": {
          "model_module": "@jupyter-widgets/base",
          "model_name": "LayoutModel",
          "state": {
            "_view_name": "LayoutView",
            "grid_template_rows": null,
            "right": null,
            "justify_content": null,
            "_view_module": "@jupyter-widgets/base",
            "overflow": null,
            "_model_module_version": "1.2.0",
            "_view_count": null,
            "flex_flow": null,
            "width": null,
            "min_width": null,
            "border": null,
            "align_items": null,
            "bottom": null,
            "_model_module": "@jupyter-widgets/base",
            "top": null,
            "grid_column": null,
            "overflow_y": null,
            "overflow_x": null,
            "grid_auto_flow": null,
            "grid_area": null,
            "grid_template_columns": null,
            "flex": null,
            "_model_name": "LayoutModel",
            "justify_items": null,
            "grid_row": null,
            "max_height": null,
            "align_content": null,
            "visibility": null,
            "align_self": null,
            "height": null,
            "min_height": null,
            "padding": null,
            "grid_auto_rows": null,
            "grid_gap": null,
            "max_width": null,
            "order": null,
            "_view_module_version": "1.2.0",
            "grid_template_areas": null,
            "object_position": null,
            "object_fit": null,
            "grid_auto_columns": null,
            "margin": null,
            "display": null,
            "left": null
          }
        },
        "4ce5beb616144daba867f60dbc9e1a5f": {
          "model_module": "@jupyter-widgets/controls",
          "model_name": "DescriptionStyleModel",
          "state": {
            "_view_name": "StyleView",
            "_model_name": "DescriptionStyleModel",
            "description_width": "",
            "_view_module": "@jupyter-widgets/base",
            "_model_module_version": "1.5.0",
            "_view_count": null,
            "_view_module_version": "1.2.0",
            "_model_module": "@jupyter-widgets/controls"
          }
        },
        "30e96efaa03b43bca53cc236cdd322a2": {
          "model_module": "@jupyter-widgets/base",
          "model_name": "LayoutModel",
          "state": {
            "_view_name": "LayoutView",
            "grid_template_rows": null,
            "right": null,
            "justify_content": null,
            "_view_module": "@jupyter-widgets/base",
            "overflow": null,
            "_model_module_version": "1.2.0",
            "_view_count": null,
            "flex_flow": null,
            "width": null,
            "min_width": null,
            "border": null,
            "align_items": null,
            "bottom": null,
            "_model_module": "@jupyter-widgets/base",
            "top": null,
            "grid_column": null,
            "overflow_y": null,
            "overflow_x": null,
            "grid_auto_flow": null,
            "grid_area": null,
            "grid_template_columns": null,
            "flex": null,
            "_model_name": "LayoutModel",
            "justify_items": null,
            "grid_row": null,
            "max_height": null,
            "align_content": null,
            "visibility": null,
            "align_self": null,
            "height": null,
            "min_height": null,
            "padding": null,
            "grid_auto_rows": null,
            "grid_gap": null,
            "max_width": null,
            "order": null,
            "_view_module_version": "1.2.0",
            "grid_template_areas": null,
            "object_position": null,
            "object_fit": null,
            "grid_auto_columns": null,
            "margin": null,
            "display": null,
            "left": null
          }
        },
        "dc60889d71fc440ba67535d3abfcf1f4": {
          "model_module": "@jupyter-widgets/controls",
          "model_name": "HBoxModel",
          "state": {
            "_view_name": "HBoxView",
            "_dom_classes": [],
            "_model_name": "HBoxModel",
            "_view_module": "@jupyter-widgets/controls",
            "_model_module_version": "1.5.0",
            "_view_count": null,
            "_view_module_version": "1.5.0",
            "box_style": "",
            "layout": "IPY_MODEL_d3bf7c1ebd7c4e8a85958243f5aa4f20",
            "_model_module": "@jupyter-widgets/controls",
            "children": [
              "IPY_MODEL_4f4299e3c174433b8f38893cff372081",
              "IPY_MODEL_7903df52ecc14c8d89d23704404cdc23"
            ]
          }
        },
        "d3bf7c1ebd7c4e8a85958243f5aa4f20": {
          "model_module": "@jupyter-widgets/base",
          "model_name": "LayoutModel",
          "state": {
            "_view_name": "LayoutView",
            "grid_template_rows": null,
            "right": null,
            "justify_content": null,
            "_view_module": "@jupyter-widgets/base",
            "overflow": null,
            "_model_module_version": "1.2.0",
            "_view_count": null,
            "flex_flow": null,
            "width": null,
            "min_width": null,
            "border": null,
            "align_items": null,
            "bottom": null,
            "_model_module": "@jupyter-widgets/base",
            "top": null,
            "grid_column": null,
            "overflow_y": null,
            "overflow_x": null,
            "grid_auto_flow": null,
            "grid_area": null,
            "grid_template_columns": null,
            "flex": null,
            "_model_name": "LayoutModel",
            "justify_items": null,
            "grid_row": null,
            "max_height": null,
            "align_content": null,
            "visibility": null,
            "align_self": null,
            "height": null,
            "min_height": null,
            "padding": null,
            "grid_auto_rows": null,
            "grid_gap": null,
            "max_width": null,
            "order": null,
            "_view_module_version": "1.2.0",
            "grid_template_areas": null,
            "object_position": null,
            "object_fit": null,
            "grid_auto_columns": null,
            "margin": null,
            "display": null,
            "left": null
          }
        },
        "4f4299e3c174433b8f38893cff372081": {
          "model_module": "@jupyter-widgets/controls",
          "model_name": "FloatProgressModel",
          "state": {
            "_view_name": "ProgressView",
            "style": "IPY_MODEL_aede68769dd341c789796e0372bfce1e",
            "_dom_classes": [],
            "description": "Epoch: 100%",
            "_model_name": "FloatProgressModel",
            "bar_style": "success",
            "max": 10,
            "_view_module": "@jupyter-widgets/controls",
            "_model_module_version": "1.5.0",
            "value": 10,
            "_view_count": null,
            "_view_module_version": "1.5.0",
            "orientation": "horizontal",
            "min": 0,
            "description_tooltip": null,
            "_model_module": "@jupyter-widgets/controls",
            "layout": "IPY_MODEL_d2198434c31741e29ad6902bb1107a93"
          }
        },
        "7903df52ecc14c8d89d23704404cdc23": {
          "model_module": "@jupyter-widgets/controls",
          "model_name": "HTMLModel",
          "state": {
            "_view_name": "HTMLView",
            "style": "IPY_MODEL_49fe9d5681fd45bab12544a1d41dfa3e",
            "_dom_classes": [],
            "description": "",
            "_model_name": "HTMLModel",
            "placeholder": "​",
            "_view_module": "@jupyter-widgets/controls",
            "_model_module_version": "1.5.0",
            "value": " 10/10 [31:18&lt;00:00, 187.81s/it]",
            "_view_count": null,
            "_view_module_version": "1.5.0",
            "description_tooltip": null,
            "_model_module": "@jupyter-widgets/controls",
            "layout": "IPY_MODEL_2dba921ca7de4750b06388d1de6986f7"
          }
        },
        "aede68769dd341c789796e0372bfce1e": {
          "model_module": "@jupyter-widgets/controls",
          "model_name": "ProgressStyleModel",
          "state": {
            "_view_name": "StyleView",
            "_model_name": "ProgressStyleModel",
            "description_width": "initial",
            "_view_module": "@jupyter-widgets/base",
            "_model_module_version": "1.5.0",
            "_view_count": null,
            "_view_module_version": "1.2.0",
            "bar_color": null,
            "_model_module": "@jupyter-widgets/controls"
          }
        },
        "d2198434c31741e29ad6902bb1107a93": {
          "model_module": "@jupyter-widgets/base",
          "model_name": "LayoutModel",
          "state": {
            "_view_name": "LayoutView",
            "grid_template_rows": null,
            "right": null,
            "justify_content": null,
            "_view_module": "@jupyter-widgets/base",
            "overflow": null,
            "_model_module_version": "1.2.0",
            "_view_count": null,
            "flex_flow": null,
            "width": null,
            "min_width": null,
            "border": null,
            "align_items": null,
            "bottom": null,
            "_model_module": "@jupyter-widgets/base",
            "top": null,
            "grid_column": null,
            "overflow_y": null,
            "overflow_x": null,
            "grid_auto_flow": null,
            "grid_area": null,
            "grid_template_columns": null,
            "flex": null,
            "_model_name": "LayoutModel",
            "justify_items": null,
            "grid_row": null,
            "max_height": null,
            "align_content": null,
            "visibility": null,
            "align_self": null,
            "height": null,
            "min_height": null,
            "padding": null,
            "grid_auto_rows": null,
            "grid_gap": null,
            "max_width": null,
            "order": null,
            "_view_module_version": "1.2.0",
            "grid_template_areas": null,
            "object_position": null,
            "object_fit": null,
            "grid_auto_columns": null,
            "margin": null,
            "display": null,
            "left": null
          }
        },
        "49fe9d5681fd45bab12544a1d41dfa3e": {
          "model_module": "@jupyter-widgets/controls",
          "model_name": "DescriptionStyleModel",
          "state": {
            "_view_name": "StyleView",
            "_model_name": "DescriptionStyleModel",
            "description_width": "",
            "_view_module": "@jupyter-widgets/base",
            "_model_module_version": "1.5.0",
            "_view_count": null,
            "_view_module_version": "1.2.0",
            "_model_module": "@jupyter-widgets/controls"
          }
        },
        "2dba921ca7de4750b06388d1de6986f7": {
          "model_module": "@jupyter-widgets/base",
          "model_name": "LayoutModel",
          "state": {
            "_view_name": "LayoutView",
            "grid_template_rows": null,
            "right": null,
            "justify_content": null,
            "_view_module": "@jupyter-widgets/base",
            "overflow": null,
            "_model_module_version": "1.2.0",
            "_view_count": null,
            "flex_flow": null,
            "width": null,
            "min_width": null,
            "border": null,
            "align_items": null,
            "bottom": null,
            "_model_module": "@jupyter-widgets/base",
            "top": null,
            "grid_column": null,
            "overflow_y": null,
            "overflow_x": null,
            "grid_auto_flow": null,
            "grid_area": null,
            "grid_template_columns": null,
            "flex": null,
            "_model_name": "LayoutModel",
            "justify_items": null,
            "grid_row": null,
            "max_height": null,
            "align_content": null,
            "visibility": null,
            "align_self": null,
            "height": null,
            "min_height": null,
            "padding": null,
            "grid_auto_rows": null,
            "grid_gap": null,
            "max_width": null,
            "order": null,
            "_view_module_version": "1.2.0",
            "grid_template_areas": null,
            "object_position": null,
            "object_fit": null,
            "grid_auto_columns": null,
            "margin": null,
            "display": null,
            "left": null
          }
        },
        "13b0e06883d243d0a704c66956698449": {
          "model_module": "@jupyter-widgets/controls",
          "model_name": "HBoxModel",
          "state": {
            "_view_name": "HBoxView",
            "_dom_classes": [],
            "_model_name": "HBoxModel",
            "_view_module": "@jupyter-widgets/controls",
            "_model_module_version": "1.5.0",
            "_view_count": null,
            "_view_module_version": "1.5.0",
            "box_style": "",
            "layout": "IPY_MODEL_88d46fc4e6aa4c99afa7e4bb6e4ca444",
            "_model_module": "@jupyter-widgets/controls",
            "children": [
              "IPY_MODEL_2afd3f5d2c7e4cc09ef329832278321d",
              "IPY_MODEL_03fa245f61b84314a12ee458ac8508b5"
            ]
          }
        },
        "88d46fc4e6aa4c99afa7e4bb6e4ca444": {
          "model_module": "@jupyter-widgets/base",
          "model_name": "LayoutModel",
          "state": {
            "_view_name": "LayoutView",
            "grid_template_rows": null,
            "right": null,
            "justify_content": null,
            "_view_module": "@jupyter-widgets/base",
            "overflow": null,
            "_model_module_version": "1.2.0",
            "_view_count": null,
            "flex_flow": null,
            "width": null,
            "min_width": null,
            "border": null,
            "align_items": null,
            "bottom": null,
            "_model_module": "@jupyter-widgets/base",
            "top": null,
            "grid_column": null,
            "overflow_y": null,
            "overflow_x": null,
            "grid_auto_flow": null,
            "grid_area": null,
            "grid_template_columns": null,
            "flex": null,
            "_model_name": "LayoutModel",
            "justify_items": null,
            "grid_row": null,
            "max_height": null,
            "align_content": null,
            "visibility": null,
            "align_self": null,
            "height": null,
            "min_height": null,
            "padding": null,
            "grid_auto_rows": null,
            "grid_gap": null,
            "max_width": null,
            "order": null,
            "_view_module_version": "1.2.0",
            "grid_template_areas": null,
            "object_position": null,
            "object_fit": null,
            "grid_auto_columns": null,
            "margin": null,
            "display": null,
            "left": null
          }
        },
        "2afd3f5d2c7e4cc09ef329832278321d": {
          "model_module": "@jupyter-widgets/controls",
          "model_name": "FloatProgressModel",
          "state": {
            "_view_name": "ProgressView",
            "style": "IPY_MODEL_877b1df6487b46f1b7c7c53cfb855d88",
            "_dom_classes": [],
            "description": "Iteration: 100%",
            "_model_name": "FloatProgressModel",
            "bar_style": "success",
            "max": 563,
            "_view_module": "@jupyter-widgets/controls",
            "_model_module_version": "1.5.0",
            "value": 563,
            "_view_count": null,
            "_view_module_version": "1.5.0",
            "orientation": "horizontal",
            "min": 0,
            "description_tooltip": null,
            "_model_module": "@jupyter-widgets/controls",
            "layout": "IPY_MODEL_2672e0d3e1e14b90b5f465118a044fdc"
          }
        },
        "03fa245f61b84314a12ee458ac8508b5": {
          "model_module": "@jupyter-widgets/controls",
          "model_name": "HTMLModel",
          "state": {
            "_view_name": "HTMLView",
            "style": "IPY_MODEL_4de8266a85ea44658c7a20a4d6bbc545",
            "_dom_classes": [],
            "description": "",
            "_model_name": "HTMLModel",
            "placeholder": "​",
            "_view_module": "@jupyter-widgets/controls",
            "_model_module_version": "1.5.0",
            "value": " 563/563 [31:18&lt;00:00,  3.34s/it]",
            "_view_count": null,
            "_view_module_version": "1.5.0",
            "description_tooltip": null,
            "_model_module": "@jupyter-widgets/controls",
            "layout": "IPY_MODEL_ed8962785aef4178a12362475239acff"
          }
        },
        "877b1df6487b46f1b7c7c53cfb855d88": {
          "model_module": "@jupyter-widgets/controls",
          "model_name": "ProgressStyleModel",
          "state": {
            "_view_name": "StyleView",
            "_model_name": "ProgressStyleModel",
            "description_width": "initial",
            "_view_module": "@jupyter-widgets/base",
            "_model_module_version": "1.5.0",
            "_view_count": null,
            "_view_module_version": "1.2.0",
            "bar_color": null,
            "_model_module": "@jupyter-widgets/controls"
          }
        },
        "2672e0d3e1e14b90b5f465118a044fdc": {
          "model_module": "@jupyter-widgets/base",
          "model_name": "LayoutModel",
          "state": {
            "_view_name": "LayoutView",
            "grid_template_rows": null,
            "right": null,
            "justify_content": null,
            "_view_module": "@jupyter-widgets/base",
            "overflow": null,
            "_model_module_version": "1.2.0",
            "_view_count": null,
            "flex_flow": null,
            "width": null,
            "min_width": null,
            "border": null,
            "align_items": null,
            "bottom": null,
            "_model_module": "@jupyter-widgets/base",
            "top": null,
            "grid_column": null,
            "overflow_y": null,
            "overflow_x": null,
            "grid_auto_flow": null,
            "grid_area": null,
            "grid_template_columns": null,
            "flex": null,
            "_model_name": "LayoutModel",
            "justify_items": null,
            "grid_row": null,
            "max_height": null,
            "align_content": null,
            "visibility": null,
            "align_self": null,
            "height": null,
            "min_height": null,
            "padding": null,
            "grid_auto_rows": null,
            "grid_gap": null,
            "max_width": null,
            "order": null,
            "_view_module_version": "1.2.0",
            "grid_template_areas": null,
            "object_position": null,
            "object_fit": null,
            "grid_auto_columns": null,
            "margin": null,
            "display": null,
            "left": null
          }
        },
        "4de8266a85ea44658c7a20a4d6bbc545": {
          "model_module": "@jupyter-widgets/controls",
          "model_name": "DescriptionStyleModel",
          "state": {
            "_view_name": "StyleView",
            "_model_name": "DescriptionStyleModel",
            "description_width": "",
            "_view_module": "@jupyter-widgets/base",
            "_model_module_version": "1.5.0",
            "_view_count": null,
            "_view_module_version": "1.2.0",
            "_model_module": "@jupyter-widgets/controls"
          }
        },
        "ed8962785aef4178a12362475239acff": {
          "model_module": "@jupyter-widgets/base",
          "model_name": "LayoutModel",
          "state": {
            "_view_name": "LayoutView",
            "grid_template_rows": null,
            "right": null,
            "justify_content": null,
            "_view_module": "@jupyter-widgets/base",
            "overflow": null,
            "_model_module_version": "1.2.0",
            "_view_count": null,
            "flex_flow": null,
            "width": null,
            "min_width": null,
            "border": null,
            "align_items": null,
            "bottom": null,
            "_model_module": "@jupyter-widgets/base",
            "top": null,
            "grid_column": null,
            "overflow_y": null,
            "overflow_x": null,
            "grid_auto_flow": null,
            "grid_area": null,
            "grid_template_columns": null,
            "flex": null,
            "_model_name": "LayoutModel",
            "justify_items": null,
            "grid_row": null,
            "max_height": null,
            "align_content": null,
            "visibility": null,
            "align_self": null,
            "height": null,
            "min_height": null,
            "padding": null,
            "grid_auto_rows": null,
            "grid_gap": null,
            "max_width": null,
            "order": null,
            "_view_module_version": "1.2.0",
            "grid_template_areas": null,
            "object_position": null,
            "object_fit": null,
            "grid_auto_columns": null,
            "margin": null,
            "display": null,
            "left": null
          }
        },
        "d51f5c146b644df889068e174f7a1b33": {
          "model_module": "@jupyter-widgets/controls",
          "model_name": "HBoxModel",
          "state": {
            "_view_name": "HBoxView",
            "_dom_classes": [],
            "_model_name": "HBoxModel",
            "_view_module": "@jupyter-widgets/controls",
            "_model_module_version": "1.5.0",
            "_view_count": null,
            "_view_module_version": "1.5.0",
            "box_style": "",
            "layout": "IPY_MODEL_d44712dbdf9f4e30bff128c278acbc15",
            "_model_module": "@jupyter-widgets/controls",
            "children": [
              "IPY_MODEL_0db2242463b4435a94a921ef96763a91",
              "IPY_MODEL_0aaca3c48e9842bfb43ce13594e66f41"
            ]
          }
        },
        "d44712dbdf9f4e30bff128c278acbc15": {
          "model_module": "@jupyter-widgets/base",
          "model_name": "LayoutModel",
          "state": {
            "_view_name": "LayoutView",
            "grid_template_rows": null,
            "right": null,
            "justify_content": null,
            "_view_module": "@jupyter-widgets/base",
            "overflow": null,
            "_model_module_version": "1.2.0",
            "_view_count": null,
            "flex_flow": null,
            "width": null,
            "min_width": null,
            "border": null,
            "align_items": null,
            "bottom": null,
            "_model_module": "@jupyter-widgets/base",
            "top": null,
            "grid_column": null,
            "overflow_y": null,
            "overflow_x": null,
            "grid_auto_flow": null,
            "grid_area": null,
            "grid_template_columns": null,
            "flex": null,
            "_model_name": "LayoutModel",
            "justify_items": null,
            "grid_row": null,
            "max_height": null,
            "align_content": null,
            "visibility": null,
            "align_self": null,
            "height": null,
            "min_height": null,
            "padding": null,
            "grid_auto_rows": null,
            "grid_gap": null,
            "max_width": null,
            "order": null,
            "_view_module_version": "1.2.0",
            "grid_template_areas": null,
            "object_position": null,
            "object_fit": null,
            "grid_auto_columns": null,
            "margin": null,
            "display": null,
            "left": null
          }
        },
        "0db2242463b4435a94a921ef96763a91": {
          "model_module": "@jupyter-widgets/controls",
          "model_name": "FloatProgressModel",
          "state": {
            "_view_name": "ProgressView",
            "style": "IPY_MODEL_340daedade3d43a2a094c7287ce2f295",
            "_dom_classes": [],
            "description": "Iteration: 100%",
            "_model_name": "FloatProgressModel",
            "bar_style": "success",
            "max": 563,
            "_view_module": "@jupyter-widgets/controls",
            "_model_module_version": "1.5.0",
            "value": 563,
            "_view_count": null,
            "_view_module_version": "1.5.0",
            "orientation": "horizontal",
            "min": 0,
            "description_tooltip": null,
            "_model_module": "@jupyter-widgets/controls",
            "layout": "IPY_MODEL_ce57eb2cd18445628e7207f2fffb8c88"
          }
        },
        "0aaca3c48e9842bfb43ce13594e66f41": {
          "model_module": "@jupyter-widgets/controls",
          "model_name": "HTMLModel",
          "state": {
            "_view_name": "HTMLView",
            "style": "IPY_MODEL_d7ea0ec3511140518e6d56af1272322d",
            "_dom_classes": [],
            "description": "",
            "_model_name": "HTMLModel",
            "placeholder": "​",
            "_view_module": "@jupyter-widgets/controls",
            "_model_module_version": "1.5.0",
            "value": " 563/563 [28:28&lt;00:00,  3.03s/it]",
            "_view_count": null,
            "_view_module_version": "1.5.0",
            "description_tooltip": null,
            "_model_module": "@jupyter-widgets/controls",
            "layout": "IPY_MODEL_d5cdb4b97d82446e8c99ff8bd109e467"
          }
        },
        "340daedade3d43a2a094c7287ce2f295": {
          "model_module": "@jupyter-widgets/controls",
          "model_name": "ProgressStyleModel",
          "state": {
            "_view_name": "StyleView",
            "_model_name": "ProgressStyleModel",
            "description_width": "initial",
            "_view_module": "@jupyter-widgets/base",
            "_model_module_version": "1.5.0",
            "_view_count": null,
            "_view_module_version": "1.2.0",
            "bar_color": null,
            "_model_module": "@jupyter-widgets/controls"
          }
        },
        "ce57eb2cd18445628e7207f2fffb8c88": {
          "model_module": "@jupyter-widgets/base",
          "model_name": "LayoutModel",
          "state": {
            "_view_name": "LayoutView",
            "grid_template_rows": null,
            "right": null,
            "justify_content": null,
            "_view_module": "@jupyter-widgets/base",
            "overflow": null,
            "_model_module_version": "1.2.0",
            "_view_count": null,
            "flex_flow": null,
            "width": null,
            "min_width": null,
            "border": null,
            "align_items": null,
            "bottom": null,
            "_model_module": "@jupyter-widgets/base",
            "top": null,
            "grid_column": null,
            "overflow_y": null,
            "overflow_x": null,
            "grid_auto_flow": null,
            "grid_area": null,
            "grid_template_columns": null,
            "flex": null,
            "_model_name": "LayoutModel",
            "justify_items": null,
            "grid_row": null,
            "max_height": null,
            "align_content": null,
            "visibility": null,
            "align_self": null,
            "height": null,
            "min_height": null,
            "padding": null,
            "grid_auto_rows": null,
            "grid_gap": null,
            "max_width": null,
            "order": null,
            "_view_module_version": "1.2.0",
            "grid_template_areas": null,
            "object_position": null,
            "object_fit": null,
            "grid_auto_columns": null,
            "margin": null,
            "display": null,
            "left": null
          }
        },
        "d7ea0ec3511140518e6d56af1272322d": {
          "model_module": "@jupyter-widgets/controls",
          "model_name": "DescriptionStyleModel",
          "state": {
            "_view_name": "StyleView",
            "_model_name": "DescriptionStyleModel",
            "description_width": "",
            "_view_module": "@jupyter-widgets/base",
            "_model_module_version": "1.5.0",
            "_view_count": null,
            "_view_module_version": "1.2.0",
            "_model_module": "@jupyter-widgets/controls"
          }
        },
        "d5cdb4b97d82446e8c99ff8bd109e467": {
          "model_module": "@jupyter-widgets/base",
          "model_name": "LayoutModel",
          "state": {
            "_view_name": "LayoutView",
            "grid_template_rows": null,
            "right": null,
            "justify_content": null,
            "_view_module": "@jupyter-widgets/base",
            "overflow": null,
            "_model_module_version": "1.2.0",
            "_view_count": null,
            "flex_flow": null,
            "width": null,
            "min_width": null,
            "border": null,
            "align_items": null,
            "bottom": null,
            "_model_module": "@jupyter-widgets/base",
            "top": null,
            "grid_column": null,
            "overflow_y": null,
            "overflow_x": null,
            "grid_auto_flow": null,
            "grid_area": null,
            "grid_template_columns": null,
            "flex": null,
            "_model_name": "LayoutModel",
            "justify_items": null,
            "grid_row": null,
            "max_height": null,
            "align_content": null,
            "visibility": null,
            "align_self": null,
            "height": null,
            "min_height": null,
            "padding": null,
            "grid_auto_rows": null,
            "grid_gap": null,
            "max_width": null,
            "order": null,
            "_view_module_version": "1.2.0",
            "grid_template_areas": null,
            "object_position": null,
            "object_fit": null,
            "grid_auto_columns": null,
            "margin": null,
            "display": null,
            "left": null
          }
        },
        "850e82b238924e13aa4bbefcada9f7f4": {
          "model_module": "@jupyter-widgets/controls",
          "model_name": "HBoxModel",
          "state": {
            "_view_name": "HBoxView",
            "_dom_classes": [],
            "_model_name": "HBoxModel",
            "_view_module": "@jupyter-widgets/controls",
            "_model_module_version": "1.5.0",
            "_view_count": null,
            "_view_module_version": "1.5.0",
            "box_style": "",
            "layout": "IPY_MODEL_4242af39295c4d9788f9e681b5223a0c",
            "_model_module": "@jupyter-widgets/controls",
            "children": [
              "IPY_MODEL_3a245f3c67dc49dfaf15b8f85fe2edf0",
              "IPY_MODEL_612aa9165a594756894eb8fcb89f0561"
            ]
          }
        },
        "4242af39295c4d9788f9e681b5223a0c": {
          "model_module": "@jupyter-widgets/base",
          "model_name": "LayoutModel",
          "state": {
            "_view_name": "LayoutView",
            "grid_template_rows": null,
            "right": null,
            "justify_content": null,
            "_view_module": "@jupyter-widgets/base",
            "overflow": null,
            "_model_module_version": "1.2.0",
            "_view_count": null,
            "flex_flow": null,
            "width": null,
            "min_width": null,
            "border": null,
            "align_items": null,
            "bottom": null,
            "_model_module": "@jupyter-widgets/base",
            "top": null,
            "grid_column": null,
            "overflow_y": null,
            "overflow_x": null,
            "grid_auto_flow": null,
            "grid_area": null,
            "grid_template_columns": null,
            "flex": null,
            "_model_name": "LayoutModel",
            "justify_items": null,
            "grid_row": null,
            "max_height": null,
            "align_content": null,
            "visibility": null,
            "align_self": null,
            "height": null,
            "min_height": null,
            "padding": null,
            "grid_auto_rows": null,
            "grid_gap": null,
            "max_width": null,
            "order": null,
            "_view_module_version": "1.2.0",
            "grid_template_areas": null,
            "object_position": null,
            "object_fit": null,
            "grid_auto_columns": null,
            "margin": null,
            "display": null,
            "left": null
          }
        },
        "3a245f3c67dc49dfaf15b8f85fe2edf0": {
          "model_module": "@jupyter-widgets/controls",
          "model_name": "FloatProgressModel",
          "state": {
            "_view_name": "ProgressView",
            "style": "IPY_MODEL_0043efcdbcba430a8cf71840c9deccb4",
            "_dom_classes": [],
            "description": "Iteration: 100%",
            "_model_name": "FloatProgressModel",
            "bar_style": "success",
            "max": 563,
            "_view_module": "@jupyter-widgets/controls",
            "_model_module_version": "1.5.0",
            "value": 563,
            "_view_count": null,
            "_view_module_version": "1.5.0",
            "orientation": "horizontal",
            "min": 0,
            "description_tooltip": null,
            "_model_module": "@jupyter-widgets/controls",
            "layout": "IPY_MODEL_4d0438544bd0418a80ae8aa2f78fc248"
          }
        },
        "612aa9165a594756894eb8fcb89f0561": {
          "model_module": "@jupyter-widgets/controls",
          "model_name": "HTMLModel",
          "state": {
            "_view_name": "HTMLView",
            "style": "IPY_MODEL_476671ee87714bab9de0735baac983ab",
            "_dom_classes": [],
            "description": "",
            "_model_name": "HTMLModel",
            "placeholder": "​",
            "_view_module": "@jupyter-widgets/controls",
            "_model_module_version": "1.5.0",
            "value": " 563/563 [25:34&lt;00:00,  2.72s/it]",
            "_view_count": null,
            "_view_module_version": "1.5.0",
            "description_tooltip": null,
            "_model_module": "@jupyter-widgets/controls",
            "layout": "IPY_MODEL_4384e1eb382243e58d4c50f71edbf570"
          }
        },
        "0043efcdbcba430a8cf71840c9deccb4": {
          "model_module": "@jupyter-widgets/controls",
          "model_name": "ProgressStyleModel",
          "state": {
            "_view_name": "StyleView",
            "_model_name": "ProgressStyleModel",
            "description_width": "initial",
            "_view_module": "@jupyter-widgets/base",
            "_model_module_version": "1.5.0",
            "_view_count": null,
            "_view_module_version": "1.2.0",
            "bar_color": null,
            "_model_module": "@jupyter-widgets/controls"
          }
        },
        "4d0438544bd0418a80ae8aa2f78fc248": {
          "model_module": "@jupyter-widgets/base",
          "model_name": "LayoutModel",
          "state": {
            "_view_name": "LayoutView",
            "grid_template_rows": null,
            "right": null,
            "justify_content": null,
            "_view_module": "@jupyter-widgets/base",
            "overflow": null,
            "_model_module_version": "1.2.0",
            "_view_count": null,
            "flex_flow": null,
            "width": null,
            "min_width": null,
            "border": null,
            "align_items": null,
            "bottom": null,
            "_model_module": "@jupyter-widgets/base",
            "top": null,
            "grid_column": null,
            "overflow_y": null,
            "overflow_x": null,
            "grid_auto_flow": null,
            "grid_area": null,
            "grid_template_columns": null,
            "flex": null,
            "_model_name": "LayoutModel",
            "justify_items": null,
            "grid_row": null,
            "max_height": null,
            "align_content": null,
            "visibility": null,
            "align_self": null,
            "height": null,
            "min_height": null,
            "padding": null,
            "grid_auto_rows": null,
            "grid_gap": null,
            "max_width": null,
            "order": null,
            "_view_module_version": "1.2.0",
            "grid_template_areas": null,
            "object_position": null,
            "object_fit": null,
            "grid_auto_columns": null,
            "margin": null,
            "display": null,
            "left": null
          }
        },
        "476671ee87714bab9de0735baac983ab": {
          "model_module": "@jupyter-widgets/controls",
          "model_name": "DescriptionStyleModel",
          "state": {
            "_view_name": "StyleView",
            "_model_name": "DescriptionStyleModel",
            "description_width": "",
            "_view_module": "@jupyter-widgets/base",
            "_model_module_version": "1.5.0",
            "_view_count": null,
            "_view_module_version": "1.2.0",
            "_model_module": "@jupyter-widgets/controls"
          }
        },
        "4384e1eb382243e58d4c50f71edbf570": {
          "model_module": "@jupyter-widgets/base",
          "model_name": "LayoutModel",
          "state": {
            "_view_name": "LayoutView",
            "grid_template_rows": null,
            "right": null,
            "justify_content": null,
            "_view_module": "@jupyter-widgets/base",
            "overflow": null,
            "_model_module_version": "1.2.0",
            "_view_count": null,
            "flex_flow": null,
            "width": null,
            "min_width": null,
            "border": null,
            "align_items": null,
            "bottom": null,
            "_model_module": "@jupyter-widgets/base",
            "top": null,
            "grid_column": null,
            "overflow_y": null,
            "overflow_x": null,
            "grid_auto_flow": null,
            "grid_area": null,
            "grid_template_columns": null,
            "flex": null,
            "_model_name": "LayoutModel",
            "justify_items": null,
            "grid_row": null,
            "max_height": null,
            "align_content": null,
            "visibility": null,
            "align_self": null,
            "height": null,
            "min_height": null,
            "padding": null,
            "grid_auto_rows": null,
            "grid_gap": null,
            "max_width": null,
            "order": null,
            "_view_module_version": "1.2.0",
            "grid_template_areas": null,
            "object_position": null,
            "object_fit": null,
            "grid_auto_columns": null,
            "margin": null,
            "display": null,
            "left": null
          }
        },
        "61ca188654f14262b48e350cd740071b": {
          "model_module": "@jupyter-widgets/controls",
          "model_name": "HBoxModel",
          "state": {
            "_view_name": "HBoxView",
            "_dom_classes": [],
            "_model_name": "HBoxModel",
            "_view_module": "@jupyter-widgets/controls",
            "_model_module_version": "1.5.0",
            "_view_count": null,
            "_view_module_version": "1.5.0",
            "box_style": "",
            "layout": "IPY_MODEL_9a410c0775154316958823a6f6ada573",
            "_model_module": "@jupyter-widgets/controls",
            "children": [
              "IPY_MODEL_e3d385edb1344ad6ad4e78279235043b",
              "IPY_MODEL_950f765ce2104863bcc1c9de31ea512d"
            ]
          }
        },
        "9a410c0775154316958823a6f6ada573": {
          "model_module": "@jupyter-widgets/base",
          "model_name": "LayoutModel",
          "state": {
            "_view_name": "LayoutView",
            "grid_template_rows": null,
            "right": null,
            "justify_content": null,
            "_view_module": "@jupyter-widgets/base",
            "overflow": null,
            "_model_module_version": "1.2.0",
            "_view_count": null,
            "flex_flow": null,
            "width": null,
            "min_width": null,
            "border": null,
            "align_items": null,
            "bottom": null,
            "_model_module": "@jupyter-widgets/base",
            "top": null,
            "grid_column": null,
            "overflow_y": null,
            "overflow_x": null,
            "grid_auto_flow": null,
            "grid_area": null,
            "grid_template_columns": null,
            "flex": null,
            "_model_name": "LayoutModel",
            "justify_items": null,
            "grid_row": null,
            "max_height": null,
            "align_content": null,
            "visibility": null,
            "align_self": null,
            "height": null,
            "min_height": null,
            "padding": null,
            "grid_auto_rows": null,
            "grid_gap": null,
            "max_width": null,
            "order": null,
            "_view_module_version": "1.2.0",
            "grid_template_areas": null,
            "object_position": null,
            "object_fit": null,
            "grid_auto_columns": null,
            "margin": null,
            "display": null,
            "left": null
          }
        },
        "e3d385edb1344ad6ad4e78279235043b": {
          "model_module": "@jupyter-widgets/controls",
          "model_name": "FloatProgressModel",
          "state": {
            "_view_name": "ProgressView",
            "style": "IPY_MODEL_f166c7bb70804a52a3ac75fdb8217d43",
            "_dom_classes": [],
            "description": "Iteration: 100%",
            "_model_name": "FloatProgressModel",
            "bar_style": "success",
            "max": 563,
            "_view_module": "@jupyter-widgets/controls",
            "_model_module_version": "1.5.0",
            "value": 563,
            "_view_count": null,
            "_view_module_version": "1.5.0",
            "orientation": "horizontal",
            "min": 0,
            "description_tooltip": null,
            "_model_module": "@jupyter-widgets/controls",
            "layout": "IPY_MODEL_dcb9025575a54f13bcec21301f857633"
          }
        },
        "950f765ce2104863bcc1c9de31ea512d": {
          "model_module": "@jupyter-widgets/controls",
          "model_name": "HTMLModel",
          "state": {
            "_view_name": "HTMLView",
            "style": "IPY_MODEL_77fb5baa9d574ed0aeb14310e8aa3804",
            "_dom_classes": [],
            "description": "",
            "_model_name": "HTMLModel",
            "placeholder": "​",
            "_view_module": "@jupyter-widgets/controls",
            "_model_module_version": "1.5.0",
            "value": " 563/563 [22:43&lt;00:00,  2.42s/it]",
            "_view_count": null,
            "_view_module_version": "1.5.0",
            "description_tooltip": null,
            "_model_module": "@jupyter-widgets/controls",
            "layout": "IPY_MODEL_22e605b98219463cb2901368f93f972c"
          }
        },
        "f166c7bb70804a52a3ac75fdb8217d43": {
          "model_module": "@jupyter-widgets/controls",
          "model_name": "ProgressStyleModel",
          "state": {
            "_view_name": "StyleView",
            "_model_name": "ProgressStyleModel",
            "description_width": "initial",
            "_view_module": "@jupyter-widgets/base",
            "_model_module_version": "1.5.0",
            "_view_count": null,
            "_view_module_version": "1.2.0",
            "bar_color": null,
            "_model_module": "@jupyter-widgets/controls"
          }
        },
        "dcb9025575a54f13bcec21301f857633": {
          "model_module": "@jupyter-widgets/base",
          "model_name": "LayoutModel",
          "state": {
            "_view_name": "LayoutView",
            "grid_template_rows": null,
            "right": null,
            "justify_content": null,
            "_view_module": "@jupyter-widgets/base",
            "overflow": null,
            "_model_module_version": "1.2.0",
            "_view_count": null,
            "flex_flow": null,
            "width": null,
            "min_width": null,
            "border": null,
            "align_items": null,
            "bottom": null,
            "_model_module": "@jupyter-widgets/base",
            "top": null,
            "grid_column": null,
            "overflow_y": null,
            "overflow_x": null,
            "grid_auto_flow": null,
            "grid_area": null,
            "grid_template_columns": null,
            "flex": null,
            "_model_name": "LayoutModel",
            "justify_items": null,
            "grid_row": null,
            "max_height": null,
            "align_content": null,
            "visibility": null,
            "align_self": null,
            "height": null,
            "min_height": null,
            "padding": null,
            "grid_auto_rows": null,
            "grid_gap": null,
            "max_width": null,
            "order": null,
            "_view_module_version": "1.2.0",
            "grid_template_areas": null,
            "object_position": null,
            "object_fit": null,
            "grid_auto_columns": null,
            "margin": null,
            "display": null,
            "left": null
          }
        },
        "77fb5baa9d574ed0aeb14310e8aa3804": {
          "model_module": "@jupyter-widgets/controls",
          "model_name": "DescriptionStyleModel",
          "state": {
            "_view_name": "StyleView",
            "_model_name": "DescriptionStyleModel",
            "description_width": "",
            "_view_module": "@jupyter-widgets/base",
            "_model_module_version": "1.5.0",
            "_view_count": null,
            "_view_module_version": "1.2.0",
            "_model_module": "@jupyter-widgets/controls"
          }
        },
        "22e605b98219463cb2901368f93f972c": {
          "model_module": "@jupyter-widgets/base",
          "model_name": "LayoutModel",
          "state": {
            "_view_name": "LayoutView",
            "grid_template_rows": null,
            "right": null,
            "justify_content": null,
            "_view_module": "@jupyter-widgets/base",
            "overflow": null,
            "_model_module_version": "1.2.0",
            "_view_count": null,
            "flex_flow": null,
            "width": null,
            "min_width": null,
            "border": null,
            "align_items": null,
            "bottom": null,
            "_model_module": "@jupyter-widgets/base",
            "top": null,
            "grid_column": null,
            "overflow_y": null,
            "overflow_x": null,
            "grid_auto_flow": null,
            "grid_area": null,
            "grid_template_columns": null,
            "flex": null,
            "_model_name": "LayoutModel",
            "justify_items": null,
            "grid_row": null,
            "max_height": null,
            "align_content": null,
            "visibility": null,
            "align_self": null,
            "height": null,
            "min_height": null,
            "padding": null,
            "grid_auto_rows": null,
            "grid_gap": null,
            "max_width": null,
            "order": null,
            "_view_module_version": "1.2.0",
            "grid_template_areas": null,
            "object_position": null,
            "object_fit": null,
            "grid_auto_columns": null,
            "margin": null,
            "display": null,
            "left": null
          }
        },
        "de1afdb2a0134991a2973cdc72e0092a": {
          "model_module": "@jupyter-widgets/controls",
          "model_name": "HBoxModel",
          "state": {
            "_view_name": "HBoxView",
            "_dom_classes": [],
            "_model_name": "HBoxModel",
            "_view_module": "@jupyter-widgets/controls",
            "_model_module_version": "1.5.0",
            "_view_count": null,
            "_view_module_version": "1.5.0",
            "box_style": "",
            "layout": "IPY_MODEL_78d511ff69c6448c8ebe572f66e72609",
            "_model_module": "@jupyter-widgets/controls",
            "children": [
              "IPY_MODEL_49ea9147fd1545c5ae615f14ad917b25",
              "IPY_MODEL_27980b3afdd54354a63090c6b4ecfa51"
            ]
          }
        },
        "78d511ff69c6448c8ebe572f66e72609": {
          "model_module": "@jupyter-widgets/base",
          "model_name": "LayoutModel",
          "state": {
            "_view_name": "LayoutView",
            "grid_template_rows": null,
            "right": null,
            "justify_content": null,
            "_view_module": "@jupyter-widgets/base",
            "overflow": null,
            "_model_module_version": "1.2.0",
            "_view_count": null,
            "flex_flow": null,
            "width": null,
            "min_width": null,
            "border": null,
            "align_items": null,
            "bottom": null,
            "_model_module": "@jupyter-widgets/base",
            "top": null,
            "grid_column": null,
            "overflow_y": null,
            "overflow_x": null,
            "grid_auto_flow": null,
            "grid_area": null,
            "grid_template_columns": null,
            "flex": null,
            "_model_name": "LayoutModel",
            "justify_items": null,
            "grid_row": null,
            "max_height": null,
            "align_content": null,
            "visibility": null,
            "align_self": null,
            "height": null,
            "min_height": null,
            "padding": null,
            "grid_auto_rows": null,
            "grid_gap": null,
            "max_width": null,
            "order": null,
            "_view_module_version": "1.2.0",
            "grid_template_areas": null,
            "object_position": null,
            "object_fit": null,
            "grid_auto_columns": null,
            "margin": null,
            "display": null,
            "left": null
          }
        },
        "49ea9147fd1545c5ae615f14ad917b25": {
          "model_module": "@jupyter-widgets/controls",
          "model_name": "FloatProgressModel",
          "state": {
            "_view_name": "ProgressView",
            "style": "IPY_MODEL_b1b84b68abe64e1faf97c5098aa8ee6e",
            "_dom_classes": [],
            "description": "Iteration: 100%",
            "_model_name": "FloatProgressModel",
            "bar_style": "success",
            "max": 563,
            "_view_module": "@jupyter-widgets/controls",
            "_model_module_version": "1.5.0",
            "value": 563,
            "_view_count": null,
            "_view_module_version": "1.5.0",
            "orientation": "horizontal",
            "min": 0,
            "description_tooltip": null,
            "_model_module": "@jupyter-widgets/controls",
            "layout": "IPY_MODEL_45ecfccded2b4b5f80fa5acd75c2dfa1"
          }
        },
        "27980b3afdd54354a63090c6b4ecfa51": {
          "model_module": "@jupyter-widgets/controls",
          "model_name": "HTMLModel",
          "state": {
            "_view_name": "HTMLView",
            "style": "IPY_MODEL_5436ebf31319462aa07d59b3b9550b99",
            "_dom_classes": [],
            "description": "",
            "_model_name": "HTMLModel",
            "placeholder": "​",
            "_view_module": "@jupyter-widgets/controls",
            "_model_module_version": "1.5.0",
            "value": " 563/563 [19:50&lt;00:00,  2.11s/it]",
            "_view_count": null,
            "_view_module_version": "1.5.0",
            "description_tooltip": null,
            "_model_module": "@jupyter-widgets/controls",
            "layout": "IPY_MODEL_0cf1b05f47454d87bacb6769229280e3"
          }
        },
        "b1b84b68abe64e1faf97c5098aa8ee6e": {
          "model_module": "@jupyter-widgets/controls",
          "model_name": "ProgressStyleModel",
          "state": {
            "_view_name": "StyleView",
            "_model_name": "ProgressStyleModel",
            "description_width": "initial",
            "_view_module": "@jupyter-widgets/base",
            "_model_module_version": "1.5.0",
            "_view_count": null,
            "_view_module_version": "1.2.0",
            "bar_color": null,
            "_model_module": "@jupyter-widgets/controls"
          }
        },
        "45ecfccded2b4b5f80fa5acd75c2dfa1": {
          "model_module": "@jupyter-widgets/base",
          "model_name": "LayoutModel",
          "state": {
            "_view_name": "LayoutView",
            "grid_template_rows": null,
            "right": null,
            "justify_content": null,
            "_view_module": "@jupyter-widgets/base",
            "overflow": null,
            "_model_module_version": "1.2.0",
            "_view_count": null,
            "flex_flow": null,
            "width": null,
            "min_width": null,
            "border": null,
            "align_items": null,
            "bottom": null,
            "_model_module": "@jupyter-widgets/base",
            "top": null,
            "grid_column": null,
            "overflow_y": null,
            "overflow_x": null,
            "grid_auto_flow": null,
            "grid_area": null,
            "grid_template_columns": null,
            "flex": null,
            "_model_name": "LayoutModel",
            "justify_items": null,
            "grid_row": null,
            "max_height": null,
            "align_content": null,
            "visibility": null,
            "align_self": null,
            "height": null,
            "min_height": null,
            "padding": null,
            "grid_auto_rows": null,
            "grid_gap": null,
            "max_width": null,
            "order": null,
            "_view_module_version": "1.2.0",
            "grid_template_areas": null,
            "object_position": null,
            "object_fit": null,
            "grid_auto_columns": null,
            "margin": null,
            "display": null,
            "left": null
          }
        },
        "5436ebf31319462aa07d59b3b9550b99": {
          "model_module": "@jupyter-widgets/controls",
          "model_name": "DescriptionStyleModel",
          "state": {
            "_view_name": "StyleView",
            "_model_name": "DescriptionStyleModel",
            "description_width": "",
            "_view_module": "@jupyter-widgets/base",
            "_model_module_version": "1.5.0",
            "_view_count": null,
            "_view_module_version": "1.2.0",
            "_model_module": "@jupyter-widgets/controls"
          }
        },
        "0cf1b05f47454d87bacb6769229280e3": {
          "model_module": "@jupyter-widgets/base",
          "model_name": "LayoutModel",
          "state": {
            "_view_name": "LayoutView",
            "grid_template_rows": null,
            "right": null,
            "justify_content": null,
            "_view_module": "@jupyter-widgets/base",
            "overflow": null,
            "_model_module_version": "1.2.0",
            "_view_count": null,
            "flex_flow": null,
            "width": null,
            "min_width": null,
            "border": null,
            "align_items": null,
            "bottom": null,
            "_model_module": "@jupyter-widgets/base",
            "top": null,
            "grid_column": null,
            "overflow_y": null,
            "overflow_x": null,
            "grid_auto_flow": null,
            "grid_area": null,
            "grid_template_columns": null,
            "flex": null,
            "_model_name": "LayoutModel",
            "justify_items": null,
            "grid_row": null,
            "max_height": null,
            "align_content": null,
            "visibility": null,
            "align_self": null,
            "height": null,
            "min_height": null,
            "padding": null,
            "grid_auto_rows": null,
            "grid_gap": null,
            "max_width": null,
            "order": null,
            "_view_module_version": "1.2.0",
            "grid_template_areas": null,
            "object_position": null,
            "object_fit": null,
            "grid_auto_columns": null,
            "margin": null,
            "display": null,
            "left": null
          }
        },
        "78fdb925f1de4ff9947c1c9e351cf233": {
          "model_module": "@jupyter-widgets/controls",
          "model_name": "HBoxModel",
          "state": {
            "_view_name": "HBoxView",
            "_dom_classes": [],
            "_model_name": "HBoxModel",
            "_view_module": "@jupyter-widgets/controls",
            "_model_module_version": "1.5.0",
            "_view_count": null,
            "_view_module_version": "1.5.0",
            "box_style": "",
            "layout": "IPY_MODEL_bbdcc637ee02477081f661d78ff004c0",
            "_model_module": "@jupyter-widgets/controls",
            "children": [
              "IPY_MODEL_c069fc1029a84f65a9363b4a23058b62",
              "IPY_MODEL_bf0bedf088964dc591e0d9eb4ccf1d6b"
            ]
          }
        },
        "bbdcc637ee02477081f661d78ff004c0": {
          "model_module": "@jupyter-widgets/base",
          "model_name": "LayoutModel",
          "state": {
            "_view_name": "LayoutView",
            "grid_template_rows": null,
            "right": null,
            "justify_content": null,
            "_view_module": "@jupyter-widgets/base",
            "overflow": null,
            "_model_module_version": "1.2.0",
            "_view_count": null,
            "flex_flow": null,
            "width": null,
            "min_width": null,
            "border": null,
            "align_items": null,
            "bottom": null,
            "_model_module": "@jupyter-widgets/base",
            "top": null,
            "grid_column": null,
            "overflow_y": null,
            "overflow_x": null,
            "grid_auto_flow": null,
            "grid_area": null,
            "grid_template_columns": null,
            "flex": null,
            "_model_name": "LayoutModel",
            "justify_items": null,
            "grid_row": null,
            "max_height": null,
            "align_content": null,
            "visibility": null,
            "align_self": null,
            "height": null,
            "min_height": null,
            "padding": null,
            "grid_auto_rows": null,
            "grid_gap": null,
            "max_width": null,
            "order": null,
            "_view_module_version": "1.2.0",
            "grid_template_areas": null,
            "object_position": null,
            "object_fit": null,
            "grid_auto_columns": null,
            "margin": null,
            "display": null,
            "left": null
          }
        },
        "c069fc1029a84f65a9363b4a23058b62": {
          "model_module": "@jupyter-widgets/controls",
          "model_name": "FloatProgressModel",
          "state": {
            "_view_name": "ProgressView",
            "style": "IPY_MODEL_9ae72f8ff955420898ccbd6aaa97b94e",
            "_dom_classes": [],
            "description": "Iteration: 100%",
            "_model_name": "FloatProgressModel",
            "bar_style": "success",
            "max": 563,
            "_view_module": "@jupyter-widgets/controls",
            "_model_module_version": "1.5.0",
            "value": 563,
            "_view_count": null,
            "_view_module_version": "1.5.0",
            "orientation": "horizontal",
            "min": 0,
            "description_tooltip": null,
            "_model_module": "@jupyter-widgets/controls",
            "layout": "IPY_MODEL_08dc8da8f925450db5a69030d500fd74"
          }
        },
        "bf0bedf088964dc591e0d9eb4ccf1d6b": {
          "model_module": "@jupyter-widgets/controls",
          "model_name": "HTMLModel",
          "state": {
            "_view_name": "HTMLView",
            "style": "IPY_MODEL_aaccbfa8232f4673a8ffa7092bfc4015",
            "_dom_classes": [],
            "description": "",
            "_model_name": "HTMLModel",
            "placeholder": "​",
            "_view_module": "@jupyter-widgets/controls",
            "_model_module_version": "1.5.0",
            "value": " 563/563 [16:56&lt;00:00,  1.81s/it]",
            "_view_count": null,
            "_view_module_version": "1.5.0",
            "description_tooltip": null,
            "_model_module": "@jupyter-widgets/controls",
            "layout": "IPY_MODEL_a8e65da29447498dbecf3efbef7bf05f"
          }
        },
        "9ae72f8ff955420898ccbd6aaa97b94e": {
          "model_module": "@jupyter-widgets/controls",
          "model_name": "ProgressStyleModel",
          "state": {
            "_view_name": "StyleView",
            "_model_name": "ProgressStyleModel",
            "description_width": "initial",
            "_view_module": "@jupyter-widgets/base",
            "_model_module_version": "1.5.0",
            "_view_count": null,
            "_view_module_version": "1.2.0",
            "bar_color": null,
            "_model_module": "@jupyter-widgets/controls"
          }
        },
        "08dc8da8f925450db5a69030d500fd74": {
          "model_module": "@jupyter-widgets/base",
          "model_name": "LayoutModel",
          "state": {
            "_view_name": "LayoutView",
            "grid_template_rows": null,
            "right": null,
            "justify_content": null,
            "_view_module": "@jupyter-widgets/base",
            "overflow": null,
            "_model_module_version": "1.2.0",
            "_view_count": null,
            "flex_flow": null,
            "width": null,
            "min_width": null,
            "border": null,
            "align_items": null,
            "bottom": null,
            "_model_module": "@jupyter-widgets/base",
            "top": null,
            "grid_column": null,
            "overflow_y": null,
            "overflow_x": null,
            "grid_auto_flow": null,
            "grid_area": null,
            "grid_template_columns": null,
            "flex": null,
            "_model_name": "LayoutModel",
            "justify_items": null,
            "grid_row": null,
            "max_height": null,
            "align_content": null,
            "visibility": null,
            "align_self": null,
            "height": null,
            "min_height": null,
            "padding": null,
            "grid_auto_rows": null,
            "grid_gap": null,
            "max_width": null,
            "order": null,
            "_view_module_version": "1.2.0",
            "grid_template_areas": null,
            "object_position": null,
            "object_fit": null,
            "grid_auto_columns": null,
            "margin": null,
            "display": null,
            "left": null
          }
        },
        "aaccbfa8232f4673a8ffa7092bfc4015": {
          "model_module": "@jupyter-widgets/controls",
          "model_name": "DescriptionStyleModel",
          "state": {
            "_view_name": "StyleView",
            "_model_name": "DescriptionStyleModel",
            "description_width": "",
            "_view_module": "@jupyter-widgets/base",
            "_model_module_version": "1.5.0",
            "_view_count": null,
            "_view_module_version": "1.2.0",
            "_model_module": "@jupyter-widgets/controls"
          }
        },
        "a8e65da29447498dbecf3efbef7bf05f": {
          "model_module": "@jupyter-widgets/base",
          "model_name": "LayoutModel",
          "state": {
            "_view_name": "LayoutView",
            "grid_template_rows": null,
            "right": null,
            "justify_content": null,
            "_view_module": "@jupyter-widgets/base",
            "overflow": null,
            "_model_module_version": "1.2.0",
            "_view_count": null,
            "flex_flow": null,
            "width": null,
            "min_width": null,
            "border": null,
            "align_items": null,
            "bottom": null,
            "_model_module": "@jupyter-widgets/base",
            "top": null,
            "grid_column": null,
            "overflow_y": null,
            "overflow_x": null,
            "grid_auto_flow": null,
            "grid_area": null,
            "grid_template_columns": null,
            "flex": null,
            "_model_name": "LayoutModel",
            "justify_items": null,
            "grid_row": null,
            "max_height": null,
            "align_content": null,
            "visibility": null,
            "align_self": null,
            "height": null,
            "min_height": null,
            "padding": null,
            "grid_auto_rows": null,
            "grid_gap": null,
            "max_width": null,
            "order": null,
            "_view_module_version": "1.2.0",
            "grid_template_areas": null,
            "object_position": null,
            "object_fit": null,
            "grid_auto_columns": null,
            "margin": null,
            "display": null,
            "left": null
          }
        },
        "e92932177db644b1bd54ae8c3b6832c8": {
          "model_module": "@jupyter-widgets/controls",
          "model_name": "HBoxModel",
          "state": {
            "_view_name": "HBoxView",
            "_dom_classes": [],
            "_model_name": "HBoxModel",
            "_view_module": "@jupyter-widgets/controls",
            "_model_module_version": "1.5.0",
            "_view_count": null,
            "_view_module_version": "1.5.0",
            "box_style": "",
            "layout": "IPY_MODEL_487795773feb4c87acfc5dbd917bc15f",
            "_model_module": "@jupyter-widgets/controls",
            "children": [
              "IPY_MODEL_e7d804eeb5954138a78a68a796b2b779",
              "IPY_MODEL_082519fa4b754e078775bba6671333f7"
            ]
          }
        },
        "487795773feb4c87acfc5dbd917bc15f": {
          "model_module": "@jupyter-widgets/base",
          "model_name": "LayoutModel",
          "state": {
            "_view_name": "LayoutView",
            "grid_template_rows": null,
            "right": null,
            "justify_content": null,
            "_view_module": "@jupyter-widgets/base",
            "overflow": null,
            "_model_module_version": "1.2.0",
            "_view_count": null,
            "flex_flow": null,
            "width": null,
            "min_width": null,
            "border": null,
            "align_items": null,
            "bottom": null,
            "_model_module": "@jupyter-widgets/base",
            "top": null,
            "grid_column": null,
            "overflow_y": null,
            "overflow_x": null,
            "grid_auto_flow": null,
            "grid_area": null,
            "grid_template_columns": null,
            "flex": null,
            "_model_name": "LayoutModel",
            "justify_items": null,
            "grid_row": null,
            "max_height": null,
            "align_content": null,
            "visibility": null,
            "align_self": null,
            "height": null,
            "min_height": null,
            "padding": null,
            "grid_auto_rows": null,
            "grid_gap": null,
            "max_width": null,
            "order": null,
            "_view_module_version": "1.2.0",
            "grid_template_areas": null,
            "object_position": null,
            "object_fit": null,
            "grid_auto_columns": null,
            "margin": null,
            "display": null,
            "left": null
          }
        },
        "e7d804eeb5954138a78a68a796b2b779": {
          "model_module": "@jupyter-widgets/controls",
          "model_name": "FloatProgressModel",
          "state": {
            "_view_name": "ProgressView",
            "style": "IPY_MODEL_e411a80e946f4f2e96aa72dccb91a3c9",
            "_dom_classes": [],
            "description": "Iteration: 100%",
            "_model_name": "FloatProgressModel",
            "bar_style": "success",
            "max": 563,
            "_view_module": "@jupyter-widgets/controls",
            "_model_module_version": "1.5.0",
            "value": 563,
            "_view_count": null,
            "_view_module_version": "1.5.0",
            "orientation": "horizontal",
            "min": 0,
            "description_tooltip": null,
            "_model_module": "@jupyter-widgets/controls",
            "layout": "IPY_MODEL_d72e12212e044b5786cdfc2ecd5e0ea9"
          }
        },
        "082519fa4b754e078775bba6671333f7": {
          "model_module": "@jupyter-widgets/controls",
          "model_name": "HTMLModel",
          "state": {
            "_view_name": "HTMLView",
            "style": "IPY_MODEL_d83e348a1ea145f9b7567539f0aaecc6",
            "_dom_classes": [],
            "description": "",
            "_model_name": "HTMLModel",
            "placeholder": "​",
            "_view_module": "@jupyter-widgets/controls",
            "_model_module_version": "1.5.0",
            "value": " 563/563 [14:06&lt;00:00,  1.50s/it]",
            "_view_count": null,
            "_view_module_version": "1.5.0",
            "description_tooltip": null,
            "_model_module": "@jupyter-widgets/controls",
            "layout": "IPY_MODEL_616e7febf17c4432988bcad92c6c6330"
          }
        },
        "e411a80e946f4f2e96aa72dccb91a3c9": {
          "model_module": "@jupyter-widgets/controls",
          "model_name": "ProgressStyleModel",
          "state": {
            "_view_name": "StyleView",
            "_model_name": "ProgressStyleModel",
            "description_width": "initial",
            "_view_module": "@jupyter-widgets/base",
            "_model_module_version": "1.5.0",
            "_view_count": null,
            "_view_module_version": "1.2.0",
            "bar_color": null,
            "_model_module": "@jupyter-widgets/controls"
          }
        },
        "d72e12212e044b5786cdfc2ecd5e0ea9": {
          "model_module": "@jupyter-widgets/base",
          "model_name": "LayoutModel",
          "state": {
            "_view_name": "LayoutView",
            "grid_template_rows": null,
            "right": null,
            "justify_content": null,
            "_view_module": "@jupyter-widgets/base",
            "overflow": null,
            "_model_module_version": "1.2.0",
            "_view_count": null,
            "flex_flow": null,
            "width": null,
            "min_width": null,
            "border": null,
            "align_items": null,
            "bottom": null,
            "_model_module": "@jupyter-widgets/base",
            "top": null,
            "grid_column": null,
            "overflow_y": null,
            "overflow_x": null,
            "grid_auto_flow": null,
            "grid_area": null,
            "grid_template_columns": null,
            "flex": null,
            "_model_name": "LayoutModel",
            "justify_items": null,
            "grid_row": null,
            "max_height": null,
            "align_content": null,
            "visibility": null,
            "align_self": null,
            "height": null,
            "min_height": null,
            "padding": null,
            "grid_auto_rows": null,
            "grid_gap": null,
            "max_width": null,
            "order": null,
            "_view_module_version": "1.2.0",
            "grid_template_areas": null,
            "object_position": null,
            "object_fit": null,
            "grid_auto_columns": null,
            "margin": null,
            "display": null,
            "left": null
          }
        },
        "d83e348a1ea145f9b7567539f0aaecc6": {
          "model_module": "@jupyter-widgets/controls",
          "model_name": "DescriptionStyleModel",
          "state": {
            "_view_name": "StyleView",
            "_model_name": "DescriptionStyleModel",
            "description_width": "",
            "_view_module": "@jupyter-widgets/base",
            "_model_module_version": "1.5.0",
            "_view_count": null,
            "_view_module_version": "1.2.0",
            "_model_module": "@jupyter-widgets/controls"
          }
        },
        "616e7febf17c4432988bcad92c6c6330": {
          "model_module": "@jupyter-widgets/base",
          "model_name": "LayoutModel",
          "state": {
            "_view_name": "LayoutView",
            "grid_template_rows": null,
            "right": null,
            "justify_content": null,
            "_view_module": "@jupyter-widgets/base",
            "overflow": null,
            "_model_module_version": "1.2.0",
            "_view_count": null,
            "flex_flow": null,
            "width": null,
            "min_width": null,
            "border": null,
            "align_items": null,
            "bottom": null,
            "_model_module": "@jupyter-widgets/base",
            "top": null,
            "grid_column": null,
            "overflow_y": null,
            "overflow_x": null,
            "grid_auto_flow": null,
            "grid_area": null,
            "grid_template_columns": null,
            "flex": null,
            "_model_name": "LayoutModel",
            "justify_items": null,
            "grid_row": null,
            "max_height": null,
            "align_content": null,
            "visibility": null,
            "align_self": null,
            "height": null,
            "min_height": null,
            "padding": null,
            "grid_auto_rows": null,
            "grid_gap": null,
            "max_width": null,
            "order": null,
            "_view_module_version": "1.2.0",
            "grid_template_areas": null,
            "object_position": null,
            "object_fit": null,
            "grid_auto_columns": null,
            "margin": null,
            "display": null,
            "left": null
          }
        },
        "45fb866d75984173a63f3a807d78bf23": {
          "model_module": "@jupyter-widgets/controls",
          "model_name": "HBoxModel",
          "state": {
            "_view_name": "HBoxView",
            "_dom_classes": [],
            "_model_name": "HBoxModel",
            "_view_module": "@jupyter-widgets/controls",
            "_model_module_version": "1.5.0",
            "_view_count": null,
            "_view_module_version": "1.5.0",
            "box_style": "",
            "layout": "IPY_MODEL_450b17f5c0144572bb6dae8b56cd31dc",
            "_model_module": "@jupyter-widgets/controls",
            "children": [
              "IPY_MODEL_a9a5ec4e301946679d963fa4726581e1",
              "IPY_MODEL_7678d46350f64c7d97f5b1016485ed4c"
            ]
          }
        },
        "450b17f5c0144572bb6dae8b56cd31dc": {
          "model_module": "@jupyter-widgets/base",
          "model_name": "LayoutModel",
          "state": {
            "_view_name": "LayoutView",
            "grid_template_rows": null,
            "right": null,
            "justify_content": null,
            "_view_module": "@jupyter-widgets/base",
            "overflow": null,
            "_model_module_version": "1.2.0",
            "_view_count": null,
            "flex_flow": null,
            "width": null,
            "min_width": null,
            "border": null,
            "align_items": null,
            "bottom": null,
            "_model_module": "@jupyter-widgets/base",
            "top": null,
            "grid_column": null,
            "overflow_y": null,
            "overflow_x": null,
            "grid_auto_flow": null,
            "grid_area": null,
            "grid_template_columns": null,
            "flex": null,
            "_model_name": "LayoutModel",
            "justify_items": null,
            "grid_row": null,
            "max_height": null,
            "align_content": null,
            "visibility": null,
            "align_self": null,
            "height": null,
            "min_height": null,
            "padding": null,
            "grid_auto_rows": null,
            "grid_gap": null,
            "max_width": null,
            "order": null,
            "_view_module_version": "1.2.0",
            "grid_template_areas": null,
            "object_position": null,
            "object_fit": null,
            "grid_auto_columns": null,
            "margin": null,
            "display": null,
            "left": null
          }
        },
        "a9a5ec4e301946679d963fa4726581e1": {
          "model_module": "@jupyter-widgets/controls",
          "model_name": "FloatProgressModel",
          "state": {
            "_view_name": "ProgressView",
            "style": "IPY_MODEL_5eb04ef24110417481b740326eefd34a",
            "_dom_classes": [],
            "description": "Iteration: 100%",
            "_model_name": "FloatProgressModel",
            "bar_style": "success",
            "max": 563,
            "_view_module": "@jupyter-widgets/controls",
            "_model_module_version": "1.5.0",
            "value": 563,
            "_view_count": null,
            "_view_module_version": "1.5.0",
            "orientation": "horizontal",
            "min": 0,
            "description_tooltip": null,
            "_model_module": "@jupyter-widgets/controls",
            "layout": "IPY_MODEL_bca50124c2514c5c849b0a14b5a9c0f9"
          }
        },
        "7678d46350f64c7d97f5b1016485ed4c": {
          "model_module": "@jupyter-widgets/controls",
          "model_name": "HTMLModel",
          "state": {
            "_view_name": "HTMLView",
            "style": "IPY_MODEL_459218cba64e44f1b307437b91b69224",
            "_dom_classes": [],
            "description": "",
            "_model_name": "HTMLModel",
            "placeholder": "​",
            "_view_module": "@jupyter-widgets/controls",
            "_model_module_version": "1.5.0",
            "value": " 563/563 [11:15&lt;00:00,  1.20s/it]",
            "_view_count": null,
            "_view_module_version": "1.5.0",
            "description_tooltip": null,
            "_model_module": "@jupyter-widgets/controls",
            "layout": "IPY_MODEL_edff82a343454bcd8670cba055183815"
          }
        },
        "5eb04ef24110417481b740326eefd34a": {
          "model_module": "@jupyter-widgets/controls",
          "model_name": "ProgressStyleModel",
          "state": {
            "_view_name": "StyleView",
            "_model_name": "ProgressStyleModel",
            "description_width": "initial",
            "_view_module": "@jupyter-widgets/base",
            "_model_module_version": "1.5.0",
            "_view_count": null,
            "_view_module_version": "1.2.0",
            "bar_color": null,
            "_model_module": "@jupyter-widgets/controls"
          }
        },
        "bca50124c2514c5c849b0a14b5a9c0f9": {
          "model_module": "@jupyter-widgets/base",
          "model_name": "LayoutModel",
          "state": {
            "_view_name": "LayoutView",
            "grid_template_rows": null,
            "right": null,
            "justify_content": null,
            "_view_module": "@jupyter-widgets/base",
            "overflow": null,
            "_model_module_version": "1.2.0",
            "_view_count": null,
            "flex_flow": null,
            "width": null,
            "min_width": null,
            "border": null,
            "align_items": null,
            "bottom": null,
            "_model_module": "@jupyter-widgets/base",
            "top": null,
            "grid_column": null,
            "overflow_y": null,
            "overflow_x": null,
            "grid_auto_flow": null,
            "grid_area": null,
            "grid_template_columns": null,
            "flex": null,
            "_model_name": "LayoutModel",
            "justify_items": null,
            "grid_row": null,
            "max_height": null,
            "align_content": null,
            "visibility": null,
            "align_self": null,
            "height": null,
            "min_height": null,
            "padding": null,
            "grid_auto_rows": null,
            "grid_gap": null,
            "max_width": null,
            "order": null,
            "_view_module_version": "1.2.0",
            "grid_template_areas": null,
            "object_position": null,
            "object_fit": null,
            "grid_auto_columns": null,
            "margin": null,
            "display": null,
            "left": null
          }
        },
        "459218cba64e44f1b307437b91b69224": {
          "model_module": "@jupyter-widgets/controls",
          "model_name": "DescriptionStyleModel",
          "state": {
            "_view_name": "StyleView",
            "_model_name": "DescriptionStyleModel",
            "description_width": "",
            "_view_module": "@jupyter-widgets/base",
            "_model_module_version": "1.5.0",
            "_view_count": null,
            "_view_module_version": "1.2.0",
            "_model_module": "@jupyter-widgets/controls"
          }
        },
        "edff82a343454bcd8670cba055183815": {
          "model_module": "@jupyter-widgets/base",
          "model_name": "LayoutModel",
          "state": {
            "_view_name": "LayoutView",
            "grid_template_rows": null,
            "right": null,
            "justify_content": null,
            "_view_module": "@jupyter-widgets/base",
            "overflow": null,
            "_model_module_version": "1.2.0",
            "_view_count": null,
            "flex_flow": null,
            "width": null,
            "min_width": null,
            "border": null,
            "align_items": null,
            "bottom": null,
            "_model_module": "@jupyter-widgets/base",
            "top": null,
            "grid_column": null,
            "overflow_y": null,
            "overflow_x": null,
            "grid_auto_flow": null,
            "grid_area": null,
            "grid_template_columns": null,
            "flex": null,
            "_model_name": "LayoutModel",
            "justify_items": null,
            "grid_row": null,
            "max_height": null,
            "align_content": null,
            "visibility": null,
            "align_self": null,
            "height": null,
            "min_height": null,
            "padding": null,
            "grid_auto_rows": null,
            "grid_gap": null,
            "max_width": null,
            "order": null,
            "_view_module_version": "1.2.0",
            "grid_template_areas": null,
            "object_position": null,
            "object_fit": null,
            "grid_auto_columns": null,
            "margin": null,
            "display": null,
            "left": null
          }
        },
        "be49116362fb4347848b458ae4b346f0": {
          "model_module": "@jupyter-widgets/controls",
          "model_name": "HBoxModel",
          "state": {
            "_view_name": "HBoxView",
            "_dom_classes": [],
            "_model_name": "HBoxModel",
            "_view_module": "@jupyter-widgets/controls",
            "_model_module_version": "1.5.0",
            "_view_count": null,
            "_view_module_version": "1.5.0",
            "box_style": "",
            "layout": "IPY_MODEL_31421bfa650341cda38959d4dc7118e2",
            "_model_module": "@jupyter-widgets/controls",
            "children": [
              "IPY_MODEL_079caaae3a194706988768132860b8c7",
              "IPY_MODEL_3f9555e6c5564a4a85bb36e334aef8c6"
            ]
          }
        },
        "31421bfa650341cda38959d4dc7118e2": {
          "model_module": "@jupyter-widgets/base",
          "model_name": "LayoutModel",
          "state": {
            "_view_name": "LayoutView",
            "grid_template_rows": null,
            "right": null,
            "justify_content": null,
            "_view_module": "@jupyter-widgets/base",
            "overflow": null,
            "_model_module_version": "1.2.0",
            "_view_count": null,
            "flex_flow": null,
            "width": null,
            "min_width": null,
            "border": null,
            "align_items": null,
            "bottom": null,
            "_model_module": "@jupyter-widgets/base",
            "top": null,
            "grid_column": null,
            "overflow_y": null,
            "overflow_x": null,
            "grid_auto_flow": null,
            "grid_area": null,
            "grid_template_columns": null,
            "flex": null,
            "_model_name": "LayoutModel",
            "justify_items": null,
            "grid_row": null,
            "max_height": null,
            "align_content": null,
            "visibility": null,
            "align_self": null,
            "height": null,
            "min_height": null,
            "padding": null,
            "grid_auto_rows": null,
            "grid_gap": null,
            "max_width": null,
            "order": null,
            "_view_module_version": "1.2.0",
            "grid_template_areas": null,
            "object_position": null,
            "object_fit": null,
            "grid_auto_columns": null,
            "margin": null,
            "display": null,
            "left": null
          }
        },
        "079caaae3a194706988768132860b8c7": {
          "model_module": "@jupyter-widgets/controls",
          "model_name": "FloatProgressModel",
          "state": {
            "_view_name": "ProgressView",
            "style": "IPY_MODEL_e94ed302533248b2b2906f8be32644fc",
            "_dom_classes": [],
            "description": "Iteration: 100%",
            "_model_name": "FloatProgressModel",
            "bar_style": "success",
            "max": 563,
            "_view_module": "@jupyter-widgets/controls",
            "_model_module_version": "1.5.0",
            "value": 563,
            "_view_count": null,
            "_view_module_version": "1.5.0",
            "orientation": "horizontal",
            "min": 0,
            "description_tooltip": null,
            "_model_module": "@jupyter-widgets/controls",
            "layout": "IPY_MODEL_902c83ff037241b19d0d841a1fbc9db7"
          }
        },
        "3f9555e6c5564a4a85bb36e334aef8c6": {
          "model_module": "@jupyter-widgets/controls",
          "model_name": "HTMLModel",
          "state": {
            "_view_name": "HTMLView",
            "style": "IPY_MODEL_d179505b0dd74297a171e35a6b1c2983",
            "_dom_classes": [],
            "description": "",
            "_model_name": "HTMLModel",
            "placeholder": "​",
            "_view_module": "@jupyter-widgets/controls",
            "_model_module_version": "1.5.0",
            "value": " 563/563 [08:25&lt;00:00,  1.11it/s]",
            "_view_count": null,
            "_view_module_version": "1.5.0",
            "description_tooltip": null,
            "_model_module": "@jupyter-widgets/controls",
            "layout": "IPY_MODEL_08c1b4ec69ad4455ba616351fffc8425"
          }
        },
        "e94ed302533248b2b2906f8be32644fc": {
          "model_module": "@jupyter-widgets/controls",
          "model_name": "ProgressStyleModel",
          "state": {
            "_view_name": "StyleView",
            "_model_name": "ProgressStyleModel",
            "description_width": "initial",
            "_view_module": "@jupyter-widgets/base",
            "_model_module_version": "1.5.0",
            "_view_count": null,
            "_view_module_version": "1.2.0",
            "bar_color": null,
            "_model_module": "@jupyter-widgets/controls"
          }
        },
        "902c83ff037241b19d0d841a1fbc9db7": {
          "model_module": "@jupyter-widgets/base",
          "model_name": "LayoutModel",
          "state": {
            "_view_name": "LayoutView",
            "grid_template_rows": null,
            "right": null,
            "justify_content": null,
            "_view_module": "@jupyter-widgets/base",
            "overflow": null,
            "_model_module_version": "1.2.0",
            "_view_count": null,
            "flex_flow": null,
            "width": null,
            "min_width": null,
            "border": null,
            "align_items": null,
            "bottom": null,
            "_model_module": "@jupyter-widgets/base",
            "top": null,
            "grid_column": null,
            "overflow_y": null,
            "overflow_x": null,
            "grid_auto_flow": null,
            "grid_area": null,
            "grid_template_columns": null,
            "flex": null,
            "_model_name": "LayoutModel",
            "justify_items": null,
            "grid_row": null,
            "max_height": null,
            "align_content": null,
            "visibility": null,
            "align_self": null,
            "height": null,
            "min_height": null,
            "padding": null,
            "grid_auto_rows": null,
            "grid_gap": null,
            "max_width": null,
            "order": null,
            "_view_module_version": "1.2.0",
            "grid_template_areas": null,
            "object_position": null,
            "object_fit": null,
            "grid_auto_columns": null,
            "margin": null,
            "display": null,
            "left": null
          }
        },
        "d179505b0dd74297a171e35a6b1c2983": {
          "model_module": "@jupyter-widgets/controls",
          "model_name": "DescriptionStyleModel",
          "state": {
            "_view_name": "StyleView",
            "_model_name": "DescriptionStyleModel",
            "description_width": "",
            "_view_module": "@jupyter-widgets/base",
            "_model_module_version": "1.5.0",
            "_view_count": null,
            "_view_module_version": "1.2.0",
            "_model_module": "@jupyter-widgets/controls"
          }
        },
        "08c1b4ec69ad4455ba616351fffc8425": {
          "model_module": "@jupyter-widgets/base",
          "model_name": "LayoutModel",
          "state": {
            "_view_name": "LayoutView",
            "grid_template_rows": null,
            "right": null,
            "justify_content": null,
            "_view_module": "@jupyter-widgets/base",
            "overflow": null,
            "_model_module_version": "1.2.0",
            "_view_count": null,
            "flex_flow": null,
            "width": null,
            "min_width": null,
            "border": null,
            "align_items": null,
            "bottom": null,
            "_model_module": "@jupyter-widgets/base",
            "top": null,
            "grid_column": null,
            "overflow_y": null,
            "overflow_x": null,
            "grid_auto_flow": null,
            "grid_area": null,
            "grid_template_columns": null,
            "flex": null,
            "_model_name": "LayoutModel",
            "justify_items": null,
            "grid_row": null,
            "max_height": null,
            "align_content": null,
            "visibility": null,
            "align_self": null,
            "height": null,
            "min_height": null,
            "padding": null,
            "grid_auto_rows": null,
            "grid_gap": null,
            "max_width": null,
            "order": null,
            "_view_module_version": "1.2.0",
            "grid_template_areas": null,
            "object_position": null,
            "object_fit": null,
            "grid_auto_columns": null,
            "margin": null,
            "display": null,
            "left": null
          }
        },
        "2de1100f42a14c02b7304c0027becbe8": {
          "model_module": "@jupyter-widgets/controls",
          "model_name": "HBoxModel",
          "state": {
            "_view_name": "HBoxView",
            "_dom_classes": [],
            "_model_name": "HBoxModel",
            "_view_module": "@jupyter-widgets/controls",
            "_model_module_version": "1.5.0",
            "_view_count": null,
            "_view_module_version": "1.5.0",
            "box_style": "",
            "layout": "IPY_MODEL_3bc13ebbf8354f15a27a401472910591",
            "_model_module": "@jupyter-widgets/controls",
            "children": [
              "IPY_MODEL_d020d7cb602c4bb59cb78f435129c197",
              "IPY_MODEL_db12af5e26ec4845a1cc004263b72eb7"
            ]
          }
        },
        "3bc13ebbf8354f15a27a401472910591": {
          "model_module": "@jupyter-widgets/base",
          "model_name": "LayoutModel",
          "state": {
            "_view_name": "LayoutView",
            "grid_template_rows": null,
            "right": null,
            "justify_content": null,
            "_view_module": "@jupyter-widgets/base",
            "overflow": null,
            "_model_module_version": "1.2.0",
            "_view_count": null,
            "flex_flow": null,
            "width": null,
            "min_width": null,
            "border": null,
            "align_items": null,
            "bottom": null,
            "_model_module": "@jupyter-widgets/base",
            "top": null,
            "grid_column": null,
            "overflow_y": null,
            "overflow_x": null,
            "grid_auto_flow": null,
            "grid_area": null,
            "grid_template_columns": null,
            "flex": null,
            "_model_name": "LayoutModel",
            "justify_items": null,
            "grid_row": null,
            "max_height": null,
            "align_content": null,
            "visibility": null,
            "align_self": null,
            "height": null,
            "min_height": null,
            "padding": null,
            "grid_auto_rows": null,
            "grid_gap": null,
            "max_width": null,
            "order": null,
            "_view_module_version": "1.2.0",
            "grid_template_areas": null,
            "object_position": null,
            "object_fit": null,
            "grid_auto_columns": null,
            "margin": null,
            "display": null,
            "left": null
          }
        },
        "d020d7cb602c4bb59cb78f435129c197": {
          "model_module": "@jupyter-widgets/controls",
          "model_name": "FloatProgressModel",
          "state": {
            "_view_name": "ProgressView",
            "style": "IPY_MODEL_0f1d45bd394d43ff8df2db9c2fdf077d",
            "_dom_classes": [],
            "description": "Iteration: 100%",
            "_model_name": "FloatProgressModel",
            "bar_style": "success",
            "max": 563,
            "_view_module": "@jupyter-widgets/controls",
            "_model_module_version": "1.5.0",
            "value": 563,
            "_view_count": null,
            "_view_module_version": "1.5.0",
            "orientation": "horizontal",
            "min": 0,
            "description_tooltip": null,
            "_model_module": "@jupyter-widgets/controls",
            "layout": "IPY_MODEL_57f6df1413134cc4a50fb27e123fafdd"
          }
        },
        "db12af5e26ec4845a1cc004263b72eb7": {
          "model_module": "@jupyter-widgets/controls",
          "model_name": "HTMLModel",
          "state": {
            "_view_name": "HTMLView",
            "style": "IPY_MODEL_73e518b7a678445eb5fed431abf63889",
            "_dom_classes": [],
            "description": "",
            "_model_name": "HTMLModel",
            "placeholder": "​",
            "_view_module": "@jupyter-widgets/controls",
            "_model_module_version": "1.5.0",
            "value": " 563/563 [05:34&lt;00:00,  1.68it/s]",
            "_view_count": null,
            "_view_module_version": "1.5.0",
            "description_tooltip": null,
            "_model_module": "@jupyter-widgets/controls",
            "layout": "IPY_MODEL_4b63e651d1b74fb18929111a3a097641"
          }
        },
        "0f1d45bd394d43ff8df2db9c2fdf077d": {
          "model_module": "@jupyter-widgets/controls",
          "model_name": "ProgressStyleModel",
          "state": {
            "_view_name": "StyleView",
            "_model_name": "ProgressStyleModel",
            "description_width": "initial",
            "_view_module": "@jupyter-widgets/base",
            "_model_module_version": "1.5.0",
            "_view_count": null,
            "_view_module_version": "1.2.0",
            "bar_color": null,
            "_model_module": "@jupyter-widgets/controls"
          }
        },
        "57f6df1413134cc4a50fb27e123fafdd": {
          "model_module": "@jupyter-widgets/base",
          "model_name": "LayoutModel",
          "state": {
            "_view_name": "LayoutView",
            "grid_template_rows": null,
            "right": null,
            "justify_content": null,
            "_view_module": "@jupyter-widgets/base",
            "overflow": null,
            "_model_module_version": "1.2.0",
            "_view_count": null,
            "flex_flow": null,
            "width": null,
            "min_width": null,
            "border": null,
            "align_items": null,
            "bottom": null,
            "_model_module": "@jupyter-widgets/base",
            "top": null,
            "grid_column": null,
            "overflow_y": null,
            "overflow_x": null,
            "grid_auto_flow": null,
            "grid_area": null,
            "grid_template_columns": null,
            "flex": null,
            "_model_name": "LayoutModel",
            "justify_items": null,
            "grid_row": null,
            "max_height": null,
            "align_content": null,
            "visibility": null,
            "align_self": null,
            "height": null,
            "min_height": null,
            "padding": null,
            "grid_auto_rows": null,
            "grid_gap": null,
            "max_width": null,
            "order": null,
            "_view_module_version": "1.2.0",
            "grid_template_areas": null,
            "object_position": null,
            "object_fit": null,
            "grid_auto_columns": null,
            "margin": null,
            "display": null,
            "left": null
          }
        },
        "73e518b7a678445eb5fed431abf63889": {
          "model_module": "@jupyter-widgets/controls",
          "model_name": "DescriptionStyleModel",
          "state": {
            "_view_name": "StyleView",
            "_model_name": "DescriptionStyleModel",
            "description_width": "",
            "_view_module": "@jupyter-widgets/base",
            "_model_module_version": "1.5.0",
            "_view_count": null,
            "_view_module_version": "1.2.0",
            "_model_module": "@jupyter-widgets/controls"
          }
        },
        "4b63e651d1b74fb18929111a3a097641": {
          "model_module": "@jupyter-widgets/base",
          "model_name": "LayoutModel",
          "state": {
            "_view_name": "LayoutView",
            "grid_template_rows": null,
            "right": null,
            "justify_content": null,
            "_view_module": "@jupyter-widgets/base",
            "overflow": null,
            "_model_module_version": "1.2.0",
            "_view_count": null,
            "flex_flow": null,
            "width": null,
            "min_width": null,
            "border": null,
            "align_items": null,
            "bottom": null,
            "_model_module": "@jupyter-widgets/base",
            "top": null,
            "grid_column": null,
            "overflow_y": null,
            "overflow_x": null,
            "grid_auto_flow": null,
            "grid_area": null,
            "grid_template_columns": null,
            "flex": null,
            "_model_name": "LayoutModel",
            "justify_items": null,
            "grid_row": null,
            "max_height": null,
            "align_content": null,
            "visibility": null,
            "align_self": null,
            "height": null,
            "min_height": null,
            "padding": null,
            "grid_auto_rows": null,
            "grid_gap": null,
            "max_width": null,
            "order": null,
            "_view_module_version": "1.2.0",
            "grid_template_areas": null,
            "object_position": null,
            "object_fit": null,
            "grid_auto_columns": null,
            "margin": null,
            "display": null,
            "left": null
          }
        },
        "c80ad0d5e3804222b865268527ffde00": {
          "model_module": "@jupyter-widgets/controls",
          "model_name": "HBoxModel",
          "state": {
            "_view_name": "HBoxView",
            "_dom_classes": [],
            "_model_name": "HBoxModel",
            "_view_module": "@jupyter-widgets/controls",
            "_model_module_version": "1.5.0",
            "_view_count": null,
            "_view_module_version": "1.5.0",
            "box_style": "",
            "layout": "IPY_MODEL_51df877ed3d64f87b29f095e84a68fa8",
            "_model_module": "@jupyter-widgets/controls",
            "children": [
              "IPY_MODEL_14eb5a9dcbdf411885aa3118303cc032",
              "IPY_MODEL_9a4fc99c28bc43e694bd5b1e4a37b1a2"
            ]
          }
        },
        "51df877ed3d64f87b29f095e84a68fa8": {
          "model_module": "@jupyter-widgets/base",
          "model_name": "LayoutModel",
          "state": {
            "_view_name": "LayoutView",
            "grid_template_rows": null,
            "right": null,
            "justify_content": null,
            "_view_module": "@jupyter-widgets/base",
            "overflow": null,
            "_model_module_version": "1.2.0",
            "_view_count": null,
            "flex_flow": null,
            "width": null,
            "min_width": null,
            "border": null,
            "align_items": null,
            "bottom": null,
            "_model_module": "@jupyter-widgets/base",
            "top": null,
            "grid_column": null,
            "overflow_y": null,
            "overflow_x": null,
            "grid_auto_flow": null,
            "grid_area": null,
            "grid_template_columns": null,
            "flex": null,
            "_model_name": "LayoutModel",
            "justify_items": null,
            "grid_row": null,
            "max_height": null,
            "align_content": null,
            "visibility": null,
            "align_self": null,
            "height": null,
            "min_height": null,
            "padding": null,
            "grid_auto_rows": null,
            "grid_gap": null,
            "max_width": null,
            "order": null,
            "_view_module_version": "1.2.0",
            "grid_template_areas": null,
            "object_position": null,
            "object_fit": null,
            "grid_auto_columns": null,
            "margin": null,
            "display": null,
            "left": null
          }
        },
        "14eb5a9dcbdf411885aa3118303cc032": {
          "model_module": "@jupyter-widgets/controls",
          "model_name": "FloatProgressModel",
          "state": {
            "_view_name": "ProgressView",
            "style": "IPY_MODEL_1d90e1bb9acd474d95b02ed1ba1fed16",
            "_dom_classes": [],
            "description": "Batches: 100%",
            "_model_name": "FloatProgressModel",
            "bar_style": "success",
            "max": 151,
            "_view_module": "@jupyter-widgets/controls",
            "_model_module_version": "1.5.0",
            "value": 151,
            "_view_count": null,
            "_view_module_version": "1.5.0",
            "orientation": "horizontal",
            "min": 0,
            "description_tooltip": null,
            "_model_module": "@jupyter-widgets/controls",
            "layout": "IPY_MODEL_c368468db52e435eb5f9eeb576642f04"
          }
        },
        "9a4fc99c28bc43e694bd5b1e4a37b1a2": {
          "model_module": "@jupyter-widgets/controls",
          "model_name": "HTMLModel",
          "state": {
            "_view_name": "HTMLView",
            "style": "IPY_MODEL_2e196a79ae4849c2a1e287ed6fe2507a",
            "_dom_classes": [],
            "description": "",
            "_model_name": "HTMLModel",
            "placeholder": "​",
            "_view_module": "@jupyter-widgets/controls",
            "_model_module_version": "1.5.0",
            "value": " 151/151 [01:31&lt;00:00,  1.65it/s]",
            "_view_count": null,
            "_view_module_version": "1.5.0",
            "description_tooltip": null,
            "_model_module": "@jupyter-widgets/controls",
            "layout": "IPY_MODEL_e2aff25b4c14404cb2bbb8e2ec3fe752"
          }
        },
        "1d90e1bb9acd474d95b02ed1ba1fed16": {
          "model_module": "@jupyter-widgets/controls",
          "model_name": "ProgressStyleModel",
          "state": {
            "_view_name": "StyleView",
            "_model_name": "ProgressStyleModel",
            "description_width": "initial",
            "_view_module": "@jupyter-widgets/base",
            "_model_module_version": "1.5.0",
            "_view_count": null,
            "_view_module_version": "1.2.0",
            "bar_color": null,
            "_model_module": "@jupyter-widgets/controls"
          }
        },
        "c368468db52e435eb5f9eeb576642f04": {
          "model_module": "@jupyter-widgets/base",
          "model_name": "LayoutModel",
          "state": {
            "_view_name": "LayoutView",
            "grid_template_rows": null,
            "right": null,
            "justify_content": null,
            "_view_module": "@jupyter-widgets/base",
            "overflow": null,
            "_model_module_version": "1.2.0",
            "_view_count": null,
            "flex_flow": null,
            "width": null,
            "min_width": null,
            "border": null,
            "align_items": null,
            "bottom": null,
            "_model_module": "@jupyter-widgets/base",
            "top": null,
            "grid_column": null,
            "overflow_y": null,
            "overflow_x": null,
            "grid_auto_flow": null,
            "grid_area": null,
            "grid_template_columns": null,
            "flex": null,
            "_model_name": "LayoutModel",
            "justify_items": null,
            "grid_row": null,
            "max_height": null,
            "align_content": null,
            "visibility": null,
            "align_self": null,
            "height": null,
            "min_height": null,
            "padding": null,
            "grid_auto_rows": null,
            "grid_gap": null,
            "max_width": null,
            "order": null,
            "_view_module_version": "1.2.0",
            "grid_template_areas": null,
            "object_position": null,
            "object_fit": null,
            "grid_auto_columns": null,
            "margin": null,
            "display": null,
            "left": null
          }
        },
        "2e196a79ae4849c2a1e287ed6fe2507a": {
          "model_module": "@jupyter-widgets/controls",
          "model_name": "DescriptionStyleModel",
          "state": {
            "_view_name": "StyleView",
            "_model_name": "DescriptionStyleModel",
            "description_width": "",
            "_view_module": "@jupyter-widgets/base",
            "_model_module_version": "1.5.0",
            "_view_count": null,
            "_view_module_version": "1.2.0",
            "_model_module": "@jupyter-widgets/controls"
          }
        },
        "e2aff25b4c14404cb2bbb8e2ec3fe752": {
          "model_module": "@jupyter-widgets/base",
          "model_name": "LayoutModel",
          "state": {
            "_view_name": "LayoutView",
            "grid_template_rows": null,
            "right": null,
            "justify_content": null,
            "_view_module": "@jupyter-widgets/base",
            "overflow": null,
            "_model_module_version": "1.2.0",
            "_view_count": null,
            "flex_flow": null,
            "width": null,
            "min_width": null,
            "border": null,
            "align_items": null,
            "bottom": null,
            "_model_module": "@jupyter-widgets/base",
            "top": null,
            "grid_column": null,
            "overflow_y": null,
            "overflow_x": null,
            "grid_auto_flow": null,
            "grid_area": null,
            "grid_template_columns": null,
            "flex": null,
            "_model_name": "LayoutModel",
            "justify_items": null,
            "grid_row": null,
            "max_height": null,
            "align_content": null,
            "visibility": null,
            "align_self": null,
            "height": null,
            "min_height": null,
            "padding": null,
            "grid_auto_rows": null,
            "grid_gap": null,
            "max_width": null,
            "order": null,
            "_view_module_version": "1.2.0",
            "grid_template_areas": null,
            "object_position": null,
            "object_fit": null,
            "grid_auto_columns": null,
            "margin": null,
            "display": null,
            "left": null
          }
        },
        "5ad8a681656943b7bbeb0ee9946ef947": {
          "model_module": "@jupyter-widgets/controls",
          "model_name": "HBoxModel",
          "state": {
            "_view_name": "HBoxView",
            "_dom_classes": [],
            "_model_name": "HBoxModel",
            "_view_module": "@jupyter-widgets/controls",
            "_model_module_version": "1.5.0",
            "_view_count": null,
            "_view_module_version": "1.5.0",
            "box_style": "",
            "layout": "IPY_MODEL_3bc1191a08a14a81b7cbdf0f507c436f",
            "_model_module": "@jupyter-widgets/controls",
            "children": [
              "IPY_MODEL_a8691566c4744dc9bb1eda750e648943",
              "IPY_MODEL_b0eac0b0f5f74838b67a9b1d94f26d37"
            ]
          }
        },
        "3bc1191a08a14a81b7cbdf0f507c436f": {
          "model_module": "@jupyter-widgets/base",
          "model_name": "LayoutModel",
          "state": {
            "_view_name": "LayoutView",
            "grid_template_rows": null,
            "right": null,
            "justify_content": null,
            "_view_module": "@jupyter-widgets/base",
            "overflow": null,
            "_model_module_version": "1.2.0",
            "_view_count": null,
            "flex_flow": null,
            "width": null,
            "min_width": null,
            "border": null,
            "align_items": null,
            "bottom": null,
            "_model_module": "@jupyter-widgets/base",
            "top": null,
            "grid_column": null,
            "overflow_y": null,
            "overflow_x": null,
            "grid_auto_flow": null,
            "grid_area": null,
            "grid_template_columns": null,
            "flex": null,
            "_model_name": "LayoutModel",
            "justify_items": null,
            "grid_row": null,
            "max_height": null,
            "align_content": null,
            "visibility": null,
            "align_self": null,
            "height": null,
            "min_height": null,
            "padding": null,
            "grid_auto_rows": null,
            "grid_gap": null,
            "max_width": null,
            "order": null,
            "_view_module_version": "1.2.0",
            "grid_template_areas": null,
            "object_position": null,
            "object_fit": null,
            "grid_auto_columns": null,
            "margin": null,
            "display": null,
            "left": null
          }
        },
        "a8691566c4744dc9bb1eda750e648943": {
          "model_module": "@jupyter-widgets/controls",
          "model_name": "FloatProgressModel",
          "state": {
            "_view_name": "ProgressView",
            "style": "IPY_MODEL_837860125cce4ecb9ec9a3ada36e0f1e",
            "_dom_classes": [],
            "description": "Epoch: 100%",
            "_model_name": "FloatProgressModel",
            "bar_style": "success",
            "max": 5,
            "_view_module": "@jupyter-widgets/controls",
            "_model_module_version": "1.5.0",
            "value": 5,
            "_view_count": null,
            "_view_module_version": "1.5.0",
            "orientation": "horizontal",
            "min": 0,
            "description_tooltip": null,
            "_model_module": "@jupyter-widgets/controls",
            "layout": "IPY_MODEL_5c9236b813a243a4b71b91dd7714f020"
          }
        },
        "b0eac0b0f5f74838b67a9b1d94f26d37": {
          "model_module": "@jupyter-widgets/controls",
          "model_name": "HTMLModel",
          "state": {
            "_view_name": "HTMLView",
            "style": "IPY_MODEL_f5f464571b324f6ea1bab3ce8ab4648f",
            "_dom_classes": [],
            "description": "",
            "_model_name": "HTMLModel",
            "placeholder": "​",
            "_view_module": "@jupyter-widgets/controls",
            "_model_module_version": "1.5.0",
            "value": " 5/5 [34:29&lt;00:00, 413.99s/it]",
            "_view_count": null,
            "_view_module_version": "1.5.0",
            "description_tooltip": null,
            "_model_module": "@jupyter-widgets/controls",
            "layout": "IPY_MODEL_1f30b099eff24c4eaa789695851c85c8"
          }
        },
        "837860125cce4ecb9ec9a3ada36e0f1e": {
          "model_module": "@jupyter-widgets/controls",
          "model_name": "ProgressStyleModel",
          "state": {
            "_view_name": "StyleView",
            "_model_name": "ProgressStyleModel",
            "description_width": "initial",
            "_view_module": "@jupyter-widgets/base",
            "_model_module_version": "1.5.0",
            "_view_count": null,
            "_view_module_version": "1.2.0",
            "bar_color": null,
            "_model_module": "@jupyter-widgets/controls"
          }
        },
        "5c9236b813a243a4b71b91dd7714f020": {
          "model_module": "@jupyter-widgets/base",
          "model_name": "LayoutModel",
          "state": {
            "_view_name": "LayoutView",
            "grid_template_rows": null,
            "right": null,
            "justify_content": null,
            "_view_module": "@jupyter-widgets/base",
            "overflow": null,
            "_model_module_version": "1.2.0",
            "_view_count": null,
            "flex_flow": null,
            "width": null,
            "min_width": null,
            "border": null,
            "align_items": null,
            "bottom": null,
            "_model_module": "@jupyter-widgets/base",
            "top": null,
            "grid_column": null,
            "overflow_y": null,
            "overflow_x": null,
            "grid_auto_flow": null,
            "grid_area": null,
            "grid_template_columns": null,
            "flex": null,
            "_model_name": "LayoutModel",
            "justify_items": null,
            "grid_row": null,
            "max_height": null,
            "align_content": null,
            "visibility": null,
            "align_self": null,
            "height": null,
            "min_height": null,
            "padding": null,
            "grid_auto_rows": null,
            "grid_gap": null,
            "max_width": null,
            "order": null,
            "_view_module_version": "1.2.0",
            "grid_template_areas": null,
            "object_position": null,
            "object_fit": null,
            "grid_auto_columns": null,
            "margin": null,
            "display": null,
            "left": null
          }
        },
        "f5f464571b324f6ea1bab3ce8ab4648f": {
          "model_module": "@jupyter-widgets/controls",
          "model_name": "DescriptionStyleModel",
          "state": {
            "_view_name": "StyleView",
            "_model_name": "DescriptionStyleModel",
            "description_width": "",
            "_view_module": "@jupyter-widgets/base",
            "_model_module_version": "1.5.0",
            "_view_count": null,
            "_view_module_version": "1.2.0",
            "_model_module": "@jupyter-widgets/controls"
          }
        },
        "1f30b099eff24c4eaa789695851c85c8": {
          "model_module": "@jupyter-widgets/base",
          "model_name": "LayoutModel",
          "state": {
            "_view_name": "LayoutView",
            "grid_template_rows": null,
            "right": null,
            "justify_content": null,
            "_view_module": "@jupyter-widgets/base",
            "overflow": null,
            "_model_module_version": "1.2.0",
            "_view_count": null,
            "flex_flow": null,
            "width": null,
            "min_width": null,
            "border": null,
            "align_items": null,
            "bottom": null,
            "_model_module": "@jupyter-widgets/base",
            "top": null,
            "grid_column": null,
            "overflow_y": null,
            "overflow_x": null,
            "grid_auto_flow": null,
            "grid_area": null,
            "grid_template_columns": null,
            "flex": null,
            "_model_name": "LayoutModel",
            "justify_items": null,
            "grid_row": null,
            "max_height": null,
            "align_content": null,
            "visibility": null,
            "align_self": null,
            "height": null,
            "min_height": null,
            "padding": null,
            "grid_auto_rows": null,
            "grid_gap": null,
            "max_width": null,
            "order": null,
            "_view_module_version": "1.2.0",
            "grid_template_areas": null,
            "object_position": null,
            "object_fit": null,
            "grid_auto_columns": null,
            "margin": null,
            "display": null,
            "left": null
          }
        },
        "cf359d3407c54d3880f2a22db8c21fa4": {
          "model_module": "@jupyter-widgets/controls",
          "model_name": "HBoxModel",
          "state": {
            "_view_name": "HBoxView",
            "_dom_classes": [],
            "_model_name": "HBoxModel",
            "_view_module": "@jupyter-widgets/controls",
            "_model_module_version": "1.5.0",
            "_view_count": null,
            "_view_module_version": "1.5.0",
            "box_style": "",
            "layout": "IPY_MODEL_31b1de2f4acf4254ab451c50d9ccc02c",
            "_model_module": "@jupyter-widgets/controls",
            "children": [
              "IPY_MODEL_a7dd4008a5704d53b59d73a58fe57d8d",
              "IPY_MODEL_e102d701740345bd880707ce1cd0c843"
            ]
          }
        },
        "31b1de2f4acf4254ab451c50d9ccc02c": {
          "model_module": "@jupyter-widgets/base",
          "model_name": "LayoutModel",
          "state": {
            "_view_name": "LayoutView",
            "grid_template_rows": null,
            "right": null,
            "justify_content": null,
            "_view_module": "@jupyter-widgets/base",
            "overflow": null,
            "_model_module_version": "1.2.0",
            "_view_count": null,
            "flex_flow": null,
            "width": null,
            "min_width": null,
            "border": null,
            "align_items": null,
            "bottom": null,
            "_model_module": "@jupyter-widgets/base",
            "top": null,
            "grid_column": null,
            "overflow_y": null,
            "overflow_x": null,
            "grid_auto_flow": null,
            "grid_area": null,
            "grid_template_columns": null,
            "flex": null,
            "_model_name": "LayoutModel",
            "justify_items": null,
            "grid_row": null,
            "max_height": null,
            "align_content": null,
            "visibility": null,
            "align_self": null,
            "height": null,
            "min_height": null,
            "padding": null,
            "grid_auto_rows": null,
            "grid_gap": null,
            "max_width": null,
            "order": null,
            "_view_module_version": "1.2.0",
            "grid_template_areas": null,
            "object_position": null,
            "object_fit": null,
            "grid_auto_columns": null,
            "margin": null,
            "display": null,
            "left": null
          }
        },
        "a7dd4008a5704d53b59d73a58fe57d8d": {
          "model_module": "@jupyter-widgets/controls",
          "model_name": "FloatProgressModel",
          "state": {
            "_view_name": "ProgressView",
            "style": "IPY_MODEL_f2db5f53c6814c8e893e2cf75128cdaf",
            "_dom_classes": [],
            "description": "Iteration: 100%",
            "_model_name": "FloatProgressModel",
            "bar_style": "success",
            "max": 864,
            "_view_module": "@jupyter-widgets/controls",
            "_model_module_version": "1.5.0",
            "value": 864,
            "_view_count": null,
            "_view_module_version": "1.5.0",
            "orientation": "horizontal",
            "min": 0,
            "description_tooltip": null,
            "_model_module": "@jupyter-widgets/controls",
            "layout": "IPY_MODEL_ebd63bc38d404584968098a37aa2737c"
          }
        },
        "e102d701740345bd880707ce1cd0c843": {
          "model_module": "@jupyter-widgets/controls",
          "model_name": "HTMLModel",
          "state": {
            "_view_name": "HTMLView",
            "style": "IPY_MODEL_53740e2ca2bc49f3a453f7a60c696c5a",
            "_dom_classes": [],
            "description": "",
            "_model_name": "HTMLModel",
            "placeholder": "​",
            "_view_module": "@jupyter-widgets/controls",
            "_model_module_version": "1.5.0",
            "value": " 864/864 [06:43&lt;00:00,  2.14it/s]",
            "_view_count": null,
            "_view_module_version": "1.5.0",
            "description_tooltip": null,
            "_model_module": "@jupyter-widgets/controls",
            "layout": "IPY_MODEL_3971a45ebdc7475ea7dc81362d2e113c"
          }
        },
        "f2db5f53c6814c8e893e2cf75128cdaf": {
          "model_module": "@jupyter-widgets/controls",
          "model_name": "ProgressStyleModel",
          "state": {
            "_view_name": "StyleView",
            "_model_name": "ProgressStyleModel",
            "description_width": "initial",
            "_view_module": "@jupyter-widgets/base",
            "_model_module_version": "1.5.0",
            "_view_count": null,
            "_view_module_version": "1.2.0",
            "bar_color": null,
            "_model_module": "@jupyter-widgets/controls"
          }
        },
        "ebd63bc38d404584968098a37aa2737c": {
          "model_module": "@jupyter-widgets/base",
          "model_name": "LayoutModel",
          "state": {
            "_view_name": "LayoutView",
            "grid_template_rows": null,
            "right": null,
            "justify_content": null,
            "_view_module": "@jupyter-widgets/base",
            "overflow": null,
            "_model_module_version": "1.2.0",
            "_view_count": null,
            "flex_flow": null,
            "width": null,
            "min_width": null,
            "border": null,
            "align_items": null,
            "bottom": null,
            "_model_module": "@jupyter-widgets/base",
            "top": null,
            "grid_column": null,
            "overflow_y": null,
            "overflow_x": null,
            "grid_auto_flow": null,
            "grid_area": null,
            "grid_template_columns": null,
            "flex": null,
            "_model_name": "LayoutModel",
            "justify_items": null,
            "grid_row": null,
            "max_height": null,
            "align_content": null,
            "visibility": null,
            "align_self": null,
            "height": null,
            "min_height": null,
            "padding": null,
            "grid_auto_rows": null,
            "grid_gap": null,
            "max_width": null,
            "order": null,
            "_view_module_version": "1.2.0",
            "grid_template_areas": null,
            "object_position": null,
            "object_fit": null,
            "grid_auto_columns": null,
            "margin": null,
            "display": null,
            "left": null
          }
        },
        "53740e2ca2bc49f3a453f7a60c696c5a": {
          "model_module": "@jupyter-widgets/controls",
          "model_name": "DescriptionStyleModel",
          "state": {
            "_view_name": "StyleView",
            "_model_name": "DescriptionStyleModel",
            "description_width": "",
            "_view_module": "@jupyter-widgets/base",
            "_model_module_version": "1.5.0",
            "_view_count": null,
            "_view_module_version": "1.2.0",
            "_model_module": "@jupyter-widgets/controls"
          }
        },
        "3971a45ebdc7475ea7dc81362d2e113c": {
          "model_module": "@jupyter-widgets/base",
          "model_name": "LayoutModel",
          "state": {
            "_view_name": "LayoutView",
            "grid_template_rows": null,
            "right": null,
            "justify_content": null,
            "_view_module": "@jupyter-widgets/base",
            "overflow": null,
            "_model_module_version": "1.2.0",
            "_view_count": null,
            "flex_flow": null,
            "width": null,
            "min_width": null,
            "border": null,
            "align_items": null,
            "bottom": null,
            "_model_module": "@jupyter-widgets/base",
            "top": null,
            "grid_column": null,
            "overflow_y": null,
            "overflow_x": null,
            "grid_auto_flow": null,
            "grid_area": null,
            "grid_template_columns": null,
            "flex": null,
            "_model_name": "LayoutModel",
            "justify_items": null,
            "grid_row": null,
            "max_height": null,
            "align_content": null,
            "visibility": null,
            "align_self": null,
            "height": null,
            "min_height": null,
            "padding": null,
            "grid_auto_rows": null,
            "grid_gap": null,
            "max_width": null,
            "order": null,
            "_view_module_version": "1.2.0",
            "grid_template_areas": null,
            "object_position": null,
            "object_fit": null,
            "grid_auto_columns": null,
            "margin": null,
            "display": null,
            "left": null
          }
        },
        "64bd491f677a46a8afa0e956236e1747": {
          "model_module": "@jupyter-widgets/controls",
          "model_name": "HBoxModel",
          "state": {
            "_view_name": "HBoxView",
            "_dom_classes": [],
            "_model_name": "HBoxModel",
            "_view_module": "@jupyter-widgets/controls",
            "_model_module_version": "1.5.0",
            "_view_count": null,
            "_view_module_version": "1.5.0",
            "box_style": "",
            "layout": "IPY_MODEL_5424edd49bc14fbc9224acd57a1b7084",
            "_model_module": "@jupyter-widgets/controls",
            "children": [
              "IPY_MODEL_25fdd0f771df4e51b49b3df14855e107",
              "IPY_MODEL_38777ac9057348e182add2f1bf6b1a1e"
            ]
          }
        },
        "5424edd49bc14fbc9224acd57a1b7084": {
          "model_module": "@jupyter-widgets/base",
          "model_name": "LayoutModel",
          "state": {
            "_view_name": "LayoutView",
            "grid_template_rows": null,
            "right": null,
            "justify_content": null,
            "_view_module": "@jupyter-widgets/base",
            "overflow": null,
            "_model_module_version": "1.2.0",
            "_view_count": null,
            "flex_flow": null,
            "width": null,
            "min_width": null,
            "border": null,
            "align_items": null,
            "bottom": null,
            "_model_module": "@jupyter-widgets/base",
            "top": null,
            "grid_column": null,
            "overflow_y": null,
            "overflow_x": null,
            "grid_auto_flow": null,
            "grid_area": null,
            "grid_template_columns": null,
            "flex": null,
            "_model_name": "LayoutModel",
            "justify_items": null,
            "grid_row": null,
            "max_height": null,
            "align_content": null,
            "visibility": null,
            "align_self": null,
            "height": null,
            "min_height": null,
            "padding": null,
            "grid_auto_rows": null,
            "grid_gap": null,
            "max_width": null,
            "order": null,
            "_view_module_version": "1.2.0",
            "grid_template_areas": null,
            "object_position": null,
            "object_fit": null,
            "grid_auto_columns": null,
            "margin": null,
            "display": null,
            "left": null
          }
        },
        "25fdd0f771df4e51b49b3df14855e107": {
          "model_module": "@jupyter-widgets/controls",
          "model_name": "FloatProgressModel",
          "state": {
            "_view_name": "ProgressView",
            "style": "IPY_MODEL_e737282974d3408db4e82d13a97983b6",
            "_dom_classes": [],
            "description": "Iteration: 100%",
            "_model_name": "FloatProgressModel",
            "bar_style": "success",
            "max": 864,
            "_view_module": "@jupyter-widgets/controls",
            "_model_module_version": "1.5.0",
            "value": 864,
            "_view_count": null,
            "_view_module_version": "1.5.0",
            "orientation": "horizontal",
            "min": 0,
            "description_tooltip": null,
            "_model_module": "@jupyter-widgets/controls",
            "layout": "IPY_MODEL_8ceee538912547d8a744fd19250ff94d"
          }
        },
        "38777ac9057348e182add2f1bf6b1a1e": {
          "model_module": "@jupyter-widgets/controls",
          "model_name": "HTMLModel",
          "state": {
            "_view_name": "HTMLView",
            "style": "IPY_MODEL_895844220e374ff0b66e77a0b9f355d5",
            "_dom_classes": [],
            "description": "",
            "_model_name": "HTMLModel",
            "placeholder": "​",
            "_view_module": "@jupyter-widgets/controls",
            "_model_module_version": "1.5.0",
            "value": " 864/864 [06:44&lt;00:00,  2.13it/s]",
            "_view_count": null,
            "_view_module_version": "1.5.0",
            "description_tooltip": null,
            "_model_module": "@jupyter-widgets/controls",
            "layout": "IPY_MODEL_40b0129536464764be9059e02904bb8b"
          }
        },
        "e737282974d3408db4e82d13a97983b6": {
          "model_module": "@jupyter-widgets/controls",
          "model_name": "ProgressStyleModel",
          "state": {
            "_view_name": "StyleView",
            "_model_name": "ProgressStyleModel",
            "description_width": "initial",
            "_view_module": "@jupyter-widgets/base",
            "_model_module_version": "1.5.0",
            "_view_count": null,
            "_view_module_version": "1.2.0",
            "bar_color": null,
            "_model_module": "@jupyter-widgets/controls"
          }
        },
        "8ceee538912547d8a744fd19250ff94d": {
          "model_module": "@jupyter-widgets/base",
          "model_name": "LayoutModel",
          "state": {
            "_view_name": "LayoutView",
            "grid_template_rows": null,
            "right": null,
            "justify_content": null,
            "_view_module": "@jupyter-widgets/base",
            "overflow": null,
            "_model_module_version": "1.2.0",
            "_view_count": null,
            "flex_flow": null,
            "width": null,
            "min_width": null,
            "border": null,
            "align_items": null,
            "bottom": null,
            "_model_module": "@jupyter-widgets/base",
            "top": null,
            "grid_column": null,
            "overflow_y": null,
            "overflow_x": null,
            "grid_auto_flow": null,
            "grid_area": null,
            "grid_template_columns": null,
            "flex": null,
            "_model_name": "LayoutModel",
            "justify_items": null,
            "grid_row": null,
            "max_height": null,
            "align_content": null,
            "visibility": null,
            "align_self": null,
            "height": null,
            "min_height": null,
            "padding": null,
            "grid_auto_rows": null,
            "grid_gap": null,
            "max_width": null,
            "order": null,
            "_view_module_version": "1.2.0",
            "grid_template_areas": null,
            "object_position": null,
            "object_fit": null,
            "grid_auto_columns": null,
            "margin": null,
            "display": null,
            "left": null
          }
        },
        "895844220e374ff0b66e77a0b9f355d5": {
          "model_module": "@jupyter-widgets/controls",
          "model_name": "DescriptionStyleModel",
          "state": {
            "_view_name": "StyleView",
            "_model_name": "DescriptionStyleModel",
            "description_width": "",
            "_view_module": "@jupyter-widgets/base",
            "_model_module_version": "1.5.0",
            "_view_count": null,
            "_view_module_version": "1.2.0",
            "_model_module": "@jupyter-widgets/controls"
          }
        },
        "40b0129536464764be9059e02904bb8b": {
          "model_module": "@jupyter-widgets/base",
          "model_name": "LayoutModel",
          "state": {
            "_view_name": "LayoutView",
            "grid_template_rows": null,
            "right": null,
            "justify_content": null,
            "_view_module": "@jupyter-widgets/base",
            "overflow": null,
            "_model_module_version": "1.2.0",
            "_view_count": null,
            "flex_flow": null,
            "width": null,
            "min_width": null,
            "border": null,
            "align_items": null,
            "bottom": null,
            "_model_module": "@jupyter-widgets/base",
            "top": null,
            "grid_column": null,
            "overflow_y": null,
            "overflow_x": null,
            "grid_auto_flow": null,
            "grid_area": null,
            "grid_template_columns": null,
            "flex": null,
            "_model_name": "LayoutModel",
            "justify_items": null,
            "grid_row": null,
            "max_height": null,
            "align_content": null,
            "visibility": null,
            "align_self": null,
            "height": null,
            "min_height": null,
            "padding": null,
            "grid_auto_rows": null,
            "grid_gap": null,
            "max_width": null,
            "order": null,
            "_view_module_version": "1.2.0",
            "grid_template_areas": null,
            "object_position": null,
            "object_fit": null,
            "grid_auto_columns": null,
            "margin": null,
            "display": null,
            "left": null
          }
        },
        "7e1011a0d00d4f36a603005f82099929": {
          "model_module": "@jupyter-widgets/controls",
          "model_name": "HBoxModel",
          "state": {
            "_view_name": "HBoxView",
            "_dom_classes": [],
            "_model_name": "HBoxModel",
            "_view_module": "@jupyter-widgets/controls",
            "_model_module_version": "1.5.0",
            "_view_count": null,
            "_view_module_version": "1.5.0",
            "box_style": "",
            "layout": "IPY_MODEL_62cdfce25b5248d1b2736b3785a2c3e2",
            "_model_module": "@jupyter-widgets/controls",
            "children": [
              "IPY_MODEL_56d0f4af87e244d98e5bb60249354d21",
              "IPY_MODEL_b1305b5f7d0f4022ab948667d5e14e9e"
            ]
          }
        },
        "62cdfce25b5248d1b2736b3785a2c3e2": {
          "model_module": "@jupyter-widgets/base",
          "model_name": "LayoutModel",
          "state": {
            "_view_name": "LayoutView",
            "grid_template_rows": null,
            "right": null,
            "justify_content": null,
            "_view_module": "@jupyter-widgets/base",
            "overflow": null,
            "_model_module_version": "1.2.0",
            "_view_count": null,
            "flex_flow": null,
            "width": null,
            "min_width": null,
            "border": null,
            "align_items": null,
            "bottom": null,
            "_model_module": "@jupyter-widgets/base",
            "top": null,
            "grid_column": null,
            "overflow_y": null,
            "overflow_x": null,
            "grid_auto_flow": null,
            "grid_area": null,
            "grid_template_columns": null,
            "flex": null,
            "_model_name": "LayoutModel",
            "justify_items": null,
            "grid_row": null,
            "max_height": null,
            "align_content": null,
            "visibility": null,
            "align_self": null,
            "height": null,
            "min_height": null,
            "padding": null,
            "grid_auto_rows": null,
            "grid_gap": null,
            "max_width": null,
            "order": null,
            "_view_module_version": "1.2.0",
            "grid_template_areas": null,
            "object_position": null,
            "object_fit": null,
            "grid_auto_columns": null,
            "margin": null,
            "display": null,
            "left": null
          }
        },
        "56d0f4af87e244d98e5bb60249354d21": {
          "model_module": "@jupyter-widgets/controls",
          "model_name": "FloatProgressModel",
          "state": {
            "_view_name": "ProgressView",
            "style": "IPY_MODEL_dfc34a62e0fb4fe083b4ca26cfa78e8c",
            "_dom_classes": [],
            "description": "Iteration: 100%",
            "_model_name": "FloatProgressModel",
            "bar_style": "success",
            "max": 864,
            "_view_module": "@jupyter-widgets/controls",
            "_model_module_version": "1.5.0",
            "value": 864,
            "_view_count": null,
            "_view_module_version": "1.5.0",
            "orientation": "horizontal",
            "min": 0,
            "description_tooltip": null,
            "_model_module": "@jupyter-widgets/controls",
            "layout": "IPY_MODEL_049773112c6e4077966b957d82c7df15"
          }
        },
        "b1305b5f7d0f4022ab948667d5e14e9e": {
          "model_module": "@jupyter-widgets/controls",
          "model_name": "HTMLModel",
          "state": {
            "_view_name": "HTMLView",
            "style": "IPY_MODEL_2833824ed5fe43c79938ba65ed5a8edc",
            "_dom_classes": [],
            "description": "",
            "_model_name": "HTMLModel",
            "placeholder": "​",
            "_view_module": "@jupyter-widgets/controls",
            "_model_module_version": "1.5.0",
            "value": " 864/864 [06:44&lt;00:00,  2.14it/s]",
            "_view_count": null,
            "_view_module_version": "1.5.0",
            "description_tooltip": null,
            "_model_module": "@jupyter-widgets/controls",
            "layout": "IPY_MODEL_35d8f8f7dc16492994f5d735f64ba3f3"
          }
        },
        "dfc34a62e0fb4fe083b4ca26cfa78e8c": {
          "model_module": "@jupyter-widgets/controls",
          "model_name": "ProgressStyleModel",
          "state": {
            "_view_name": "StyleView",
            "_model_name": "ProgressStyleModel",
            "description_width": "initial",
            "_view_module": "@jupyter-widgets/base",
            "_model_module_version": "1.5.0",
            "_view_count": null,
            "_view_module_version": "1.2.0",
            "bar_color": null,
            "_model_module": "@jupyter-widgets/controls"
          }
        },
        "049773112c6e4077966b957d82c7df15": {
          "model_module": "@jupyter-widgets/base",
          "model_name": "LayoutModel",
          "state": {
            "_view_name": "LayoutView",
            "grid_template_rows": null,
            "right": null,
            "justify_content": null,
            "_view_module": "@jupyter-widgets/base",
            "overflow": null,
            "_model_module_version": "1.2.0",
            "_view_count": null,
            "flex_flow": null,
            "width": null,
            "min_width": null,
            "border": null,
            "align_items": null,
            "bottom": null,
            "_model_module": "@jupyter-widgets/base",
            "top": null,
            "grid_column": null,
            "overflow_y": null,
            "overflow_x": null,
            "grid_auto_flow": null,
            "grid_area": null,
            "grid_template_columns": null,
            "flex": null,
            "_model_name": "LayoutModel",
            "justify_items": null,
            "grid_row": null,
            "max_height": null,
            "align_content": null,
            "visibility": null,
            "align_self": null,
            "height": null,
            "min_height": null,
            "padding": null,
            "grid_auto_rows": null,
            "grid_gap": null,
            "max_width": null,
            "order": null,
            "_view_module_version": "1.2.0",
            "grid_template_areas": null,
            "object_position": null,
            "object_fit": null,
            "grid_auto_columns": null,
            "margin": null,
            "display": null,
            "left": null
          }
        },
        "2833824ed5fe43c79938ba65ed5a8edc": {
          "model_module": "@jupyter-widgets/controls",
          "model_name": "DescriptionStyleModel",
          "state": {
            "_view_name": "StyleView",
            "_model_name": "DescriptionStyleModel",
            "description_width": "",
            "_view_module": "@jupyter-widgets/base",
            "_model_module_version": "1.5.0",
            "_view_count": null,
            "_view_module_version": "1.2.0",
            "_model_module": "@jupyter-widgets/controls"
          }
        },
        "35d8f8f7dc16492994f5d735f64ba3f3": {
          "model_module": "@jupyter-widgets/base",
          "model_name": "LayoutModel",
          "state": {
            "_view_name": "LayoutView",
            "grid_template_rows": null,
            "right": null,
            "justify_content": null,
            "_view_module": "@jupyter-widgets/base",
            "overflow": null,
            "_model_module_version": "1.2.0",
            "_view_count": null,
            "flex_flow": null,
            "width": null,
            "min_width": null,
            "border": null,
            "align_items": null,
            "bottom": null,
            "_model_module": "@jupyter-widgets/base",
            "top": null,
            "grid_column": null,
            "overflow_y": null,
            "overflow_x": null,
            "grid_auto_flow": null,
            "grid_area": null,
            "grid_template_columns": null,
            "flex": null,
            "_model_name": "LayoutModel",
            "justify_items": null,
            "grid_row": null,
            "max_height": null,
            "align_content": null,
            "visibility": null,
            "align_self": null,
            "height": null,
            "min_height": null,
            "padding": null,
            "grid_auto_rows": null,
            "grid_gap": null,
            "max_width": null,
            "order": null,
            "_view_module_version": "1.2.0",
            "grid_template_areas": null,
            "object_position": null,
            "object_fit": null,
            "grid_auto_columns": null,
            "margin": null,
            "display": null,
            "left": null
          }
        },
        "572cd496fb864d09b5a7003c4878b4ca": {
          "model_module": "@jupyter-widgets/controls",
          "model_name": "HBoxModel",
          "state": {
            "_view_name": "HBoxView",
            "_dom_classes": [],
            "_model_name": "HBoxModel",
            "_view_module": "@jupyter-widgets/controls",
            "_model_module_version": "1.5.0",
            "_view_count": null,
            "_view_module_version": "1.5.0",
            "box_style": "",
            "layout": "IPY_MODEL_ae308e95186d4e3db097410c8a655c2f",
            "_model_module": "@jupyter-widgets/controls",
            "children": [
              "IPY_MODEL_3936c356e52642bfacf2d4f8a20c5b62",
              "IPY_MODEL_0344cf9bc47c4405b3f1be0212bbf689"
            ]
          }
        },
        "ae308e95186d4e3db097410c8a655c2f": {
          "model_module": "@jupyter-widgets/base",
          "model_name": "LayoutModel",
          "state": {
            "_view_name": "LayoutView",
            "grid_template_rows": null,
            "right": null,
            "justify_content": null,
            "_view_module": "@jupyter-widgets/base",
            "overflow": null,
            "_model_module_version": "1.2.0",
            "_view_count": null,
            "flex_flow": null,
            "width": null,
            "min_width": null,
            "border": null,
            "align_items": null,
            "bottom": null,
            "_model_module": "@jupyter-widgets/base",
            "top": null,
            "grid_column": null,
            "overflow_y": null,
            "overflow_x": null,
            "grid_auto_flow": null,
            "grid_area": null,
            "grid_template_columns": null,
            "flex": null,
            "_model_name": "LayoutModel",
            "justify_items": null,
            "grid_row": null,
            "max_height": null,
            "align_content": null,
            "visibility": null,
            "align_self": null,
            "height": null,
            "min_height": null,
            "padding": null,
            "grid_auto_rows": null,
            "grid_gap": null,
            "max_width": null,
            "order": null,
            "_view_module_version": "1.2.0",
            "grid_template_areas": null,
            "object_position": null,
            "object_fit": null,
            "grid_auto_columns": null,
            "margin": null,
            "display": null,
            "left": null
          }
        },
        "3936c356e52642bfacf2d4f8a20c5b62": {
          "model_module": "@jupyter-widgets/controls",
          "model_name": "FloatProgressModel",
          "state": {
            "_view_name": "ProgressView",
            "style": "IPY_MODEL_e7d26c42e3e54ef1a307fdcd477d67a7",
            "_dom_classes": [],
            "description": "Iteration: 100%",
            "_model_name": "FloatProgressModel",
            "bar_style": "success",
            "max": 864,
            "_view_module": "@jupyter-widgets/controls",
            "_model_module_version": "1.5.0",
            "value": 864,
            "_view_count": null,
            "_view_module_version": "1.5.0",
            "orientation": "horizontal",
            "min": 0,
            "description_tooltip": null,
            "_model_module": "@jupyter-widgets/controls",
            "layout": "IPY_MODEL_c9af9ca0b948407583393db89cbb1a65"
          }
        },
        "0344cf9bc47c4405b3f1be0212bbf689": {
          "model_module": "@jupyter-widgets/controls",
          "model_name": "HTMLModel",
          "state": {
            "_view_name": "HTMLView",
            "style": "IPY_MODEL_e0f550ac80a94fcab3814f38174b67b5",
            "_dom_classes": [],
            "description": "",
            "_model_name": "HTMLModel",
            "placeholder": "​",
            "_view_module": "@jupyter-widgets/controls",
            "_model_module_version": "1.5.0",
            "value": " 864/864 [06:43&lt;00:00,  2.14it/s]",
            "_view_count": null,
            "_view_module_version": "1.5.0",
            "description_tooltip": null,
            "_model_module": "@jupyter-widgets/controls",
            "layout": "IPY_MODEL_4d8e82c281904e94908d2f3b3b360f47"
          }
        },
        "e7d26c42e3e54ef1a307fdcd477d67a7": {
          "model_module": "@jupyter-widgets/controls",
          "model_name": "ProgressStyleModel",
          "state": {
            "_view_name": "StyleView",
            "_model_name": "ProgressStyleModel",
            "description_width": "initial",
            "_view_module": "@jupyter-widgets/base",
            "_model_module_version": "1.5.0",
            "_view_count": null,
            "_view_module_version": "1.2.0",
            "bar_color": null,
            "_model_module": "@jupyter-widgets/controls"
          }
        },
        "c9af9ca0b948407583393db89cbb1a65": {
          "model_module": "@jupyter-widgets/base",
          "model_name": "LayoutModel",
          "state": {
            "_view_name": "LayoutView",
            "grid_template_rows": null,
            "right": null,
            "justify_content": null,
            "_view_module": "@jupyter-widgets/base",
            "overflow": null,
            "_model_module_version": "1.2.0",
            "_view_count": null,
            "flex_flow": null,
            "width": null,
            "min_width": null,
            "border": null,
            "align_items": null,
            "bottom": null,
            "_model_module": "@jupyter-widgets/base",
            "top": null,
            "grid_column": null,
            "overflow_y": null,
            "overflow_x": null,
            "grid_auto_flow": null,
            "grid_area": null,
            "grid_template_columns": null,
            "flex": null,
            "_model_name": "LayoutModel",
            "justify_items": null,
            "grid_row": null,
            "max_height": null,
            "align_content": null,
            "visibility": null,
            "align_self": null,
            "height": null,
            "min_height": null,
            "padding": null,
            "grid_auto_rows": null,
            "grid_gap": null,
            "max_width": null,
            "order": null,
            "_view_module_version": "1.2.0",
            "grid_template_areas": null,
            "object_position": null,
            "object_fit": null,
            "grid_auto_columns": null,
            "margin": null,
            "display": null,
            "left": null
          }
        },
        "e0f550ac80a94fcab3814f38174b67b5": {
          "model_module": "@jupyter-widgets/controls",
          "model_name": "DescriptionStyleModel",
          "state": {
            "_view_name": "StyleView",
            "_model_name": "DescriptionStyleModel",
            "description_width": "",
            "_view_module": "@jupyter-widgets/base",
            "_model_module_version": "1.5.0",
            "_view_count": null,
            "_view_module_version": "1.2.0",
            "_model_module": "@jupyter-widgets/controls"
          }
        },
        "4d8e82c281904e94908d2f3b3b360f47": {
          "model_module": "@jupyter-widgets/base",
          "model_name": "LayoutModel",
          "state": {
            "_view_name": "LayoutView",
            "grid_template_rows": null,
            "right": null,
            "justify_content": null,
            "_view_module": "@jupyter-widgets/base",
            "overflow": null,
            "_model_module_version": "1.2.0",
            "_view_count": null,
            "flex_flow": null,
            "width": null,
            "min_width": null,
            "border": null,
            "align_items": null,
            "bottom": null,
            "_model_module": "@jupyter-widgets/base",
            "top": null,
            "grid_column": null,
            "overflow_y": null,
            "overflow_x": null,
            "grid_auto_flow": null,
            "grid_area": null,
            "grid_template_columns": null,
            "flex": null,
            "_model_name": "LayoutModel",
            "justify_items": null,
            "grid_row": null,
            "max_height": null,
            "align_content": null,
            "visibility": null,
            "align_self": null,
            "height": null,
            "min_height": null,
            "padding": null,
            "grid_auto_rows": null,
            "grid_gap": null,
            "max_width": null,
            "order": null,
            "_view_module_version": "1.2.0",
            "grid_template_areas": null,
            "object_position": null,
            "object_fit": null,
            "grid_auto_columns": null,
            "margin": null,
            "display": null,
            "left": null
          }
        },
        "1b86884342564aa5ad8a3f4967137755": {
          "model_module": "@jupyter-widgets/controls",
          "model_name": "HBoxModel",
          "state": {
            "_view_name": "HBoxView",
            "_dom_classes": [],
            "_model_name": "HBoxModel",
            "_view_module": "@jupyter-widgets/controls",
            "_model_module_version": "1.5.0",
            "_view_count": null,
            "_view_module_version": "1.5.0",
            "box_style": "",
            "layout": "IPY_MODEL_79515c4503fe47d38af8882e580b5008",
            "_model_module": "@jupyter-widgets/controls",
            "children": [
              "IPY_MODEL_14fc8efc795c41d9b174b26daea60cae",
              "IPY_MODEL_856522be32fb40e1b3116972c7eacbfc"
            ]
          }
        },
        "79515c4503fe47d38af8882e580b5008": {
          "model_module": "@jupyter-widgets/base",
          "model_name": "LayoutModel",
          "state": {
            "_view_name": "LayoutView",
            "grid_template_rows": null,
            "right": null,
            "justify_content": null,
            "_view_module": "@jupyter-widgets/base",
            "overflow": null,
            "_model_module_version": "1.2.0",
            "_view_count": null,
            "flex_flow": null,
            "width": null,
            "min_width": null,
            "border": null,
            "align_items": null,
            "bottom": null,
            "_model_module": "@jupyter-widgets/base",
            "top": null,
            "grid_column": null,
            "overflow_y": null,
            "overflow_x": null,
            "grid_auto_flow": null,
            "grid_area": null,
            "grid_template_columns": null,
            "flex": null,
            "_model_name": "LayoutModel",
            "justify_items": null,
            "grid_row": null,
            "max_height": null,
            "align_content": null,
            "visibility": null,
            "align_self": null,
            "height": null,
            "min_height": null,
            "padding": null,
            "grid_auto_rows": null,
            "grid_gap": null,
            "max_width": null,
            "order": null,
            "_view_module_version": "1.2.0",
            "grid_template_areas": null,
            "object_position": null,
            "object_fit": null,
            "grid_auto_columns": null,
            "margin": null,
            "display": null,
            "left": null
          }
        },
        "14fc8efc795c41d9b174b26daea60cae": {
          "model_module": "@jupyter-widgets/controls",
          "model_name": "FloatProgressModel",
          "state": {
            "_view_name": "ProgressView",
            "style": "IPY_MODEL_bbdc5c16507a4df39450d5eb76fcc874",
            "_dom_classes": [],
            "description": "Iteration: 100%",
            "_model_name": "FloatProgressModel",
            "bar_style": "success",
            "max": 864,
            "_view_module": "@jupyter-widgets/controls",
            "_model_module_version": "1.5.0",
            "value": 864,
            "_view_count": null,
            "_view_module_version": "1.5.0",
            "orientation": "horizontal",
            "min": 0,
            "description_tooltip": null,
            "_model_module": "@jupyter-widgets/controls",
            "layout": "IPY_MODEL_e96a9987357d47758caf14a3cd0a4fce"
          }
        },
        "856522be32fb40e1b3116972c7eacbfc": {
          "model_module": "@jupyter-widgets/controls",
          "model_name": "HTMLModel",
          "state": {
            "_view_name": "HTMLView",
            "style": "IPY_MODEL_6341471d6dc64ceb99d3031edda20d5d",
            "_dom_classes": [],
            "description": "",
            "_model_name": "HTMLModel",
            "placeholder": "​",
            "_view_module": "@jupyter-widgets/controls",
            "_model_module_version": "1.5.0",
            "value": " 864/864 [06:45&lt;00:00,  2.13it/s]",
            "_view_count": null,
            "_view_module_version": "1.5.0",
            "description_tooltip": null,
            "_model_module": "@jupyter-widgets/controls",
            "layout": "IPY_MODEL_4309ddfcd1a54529921738a673d57428"
          }
        },
        "bbdc5c16507a4df39450d5eb76fcc874": {
          "model_module": "@jupyter-widgets/controls",
          "model_name": "ProgressStyleModel",
          "state": {
            "_view_name": "StyleView",
            "_model_name": "ProgressStyleModel",
            "description_width": "initial",
            "_view_module": "@jupyter-widgets/base",
            "_model_module_version": "1.5.0",
            "_view_count": null,
            "_view_module_version": "1.2.0",
            "bar_color": null,
            "_model_module": "@jupyter-widgets/controls"
          }
        },
        "e96a9987357d47758caf14a3cd0a4fce": {
          "model_module": "@jupyter-widgets/base",
          "model_name": "LayoutModel",
          "state": {
            "_view_name": "LayoutView",
            "grid_template_rows": null,
            "right": null,
            "justify_content": null,
            "_view_module": "@jupyter-widgets/base",
            "overflow": null,
            "_model_module_version": "1.2.0",
            "_view_count": null,
            "flex_flow": null,
            "width": null,
            "min_width": null,
            "border": null,
            "align_items": null,
            "bottom": null,
            "_model_module": "@jupyter-widgets/base",
            "top": null,
            "grid_column": null,
            "overflow_y": null,
            "overflow_x": null,
            "grid_auto_flow": null,
            "grid_area": null,
            "grid_template_columns": null,
            "flex": null,
            "_model_name": "LayoutModel",
            "justify_items": null,
            "grid_row": null,
            "max_height": null,
            "align_content": null,
            "visibility": null,
            "align_self": null,
            "height": null,
            "min_height": null,
            "padding": null,
            "grid_auto_rows": null,
            "grid_gap": null,
            "max_width": null,
            "order": null,
            "_view_module_version": "1.2.0",
            "grid_template_areas": null,
            "object_position": null,
            "object_fit": null,
            "grid_auto_columns": null,
            "margin": null,
            "display": null,
            "left": null
          }
        },
        "6341471d6dc64ceb99d3031edda20d5d": {
          "model_module": "@jupyter-widgets/controls",
          "model_name": "DescriptionStyleModel",
          "state": {
            "_view_name": "StyleView",
            "_model_name": "DescriptionStyleModel",
            "description_width": "",
            "_view_module": "@jupyter-widgets/base",
            "_model_module_version": "1.5.0",
            "_view_count": null,
            "_view_module_version": "1.2.0",
            "_model_module": "@jupyter-widgets/controls"
          }
        },
        "4309ddfcd1a54529921738a673d57428": {
          "model_module": "@jupyter-widgets/base",
          "model_name": "LayoutModel",
          "state": {
            "_view_name": "LayoutView",
            "grid_template_rows": null,
            "right": null,
            "justify_content": null,
            "_view_module": "@jupyter-widgets/base",
            "overflow": null,
            "_model_module_version": "1.2.0",
            "_view_count": null,
            "flex_flow": null,
            "width": null,
            "min_width": null,
            "border": null,
            "align_items": null,
            "bottom": null,
            "_model_module": "@jupyter-widgets/base",
            "top": null,
            "grid_column": null,
            "overflow_y": null,
            "overflow_x": null,
            "grid_auto_flow": null,
            "grid_area": null,
            "grid_template_columns": null,
            "flex": null,
            "_model_name": "LayoutModel",
            "justify_items": null,
            "grid_row": null,
            "max_height": null,
            "align_content": null,
            "visibility": null,
            "align_self": null,
            "height": null,
            "min_height": null,
            "padding": null,
            "grid_auto_rows": null,
            "grid_gap": null,
            "max_width": null,
            "order": null,
            "_view_module_version": "1.2.0",
            "grid_template_areas": null,
            "object_position": null,
            "object_fit": null,
            "grid_auto_columns": null,
            "margin": null,
            "display": null,
            "left": null
          }
        }
      }
    }
  },
  "cells": [
    {
      "cell_type": "code",
      "metadata": {
        "colab": {
          "base_uri": "https://localhost:8080/"
        },
        "id": "q-Um-0Co9p_D",
        "outputId": "6f5ccd40-1d74-4801-8b88-12d6615d0da4"
      },
      "source": [
        "!pip install sentence-transformers"
      ],
      "execution_count": 1,
      "outputs": [
        {
          "output_type": "stream",
          "text": [
            "Collecting sentence-transformers\n",
            "\u001b[?25l  Downloading https://files.pythonhosted.org/packages/6a/e2/84d6acfcee2d83164149778a33b6bdd1a74e1bcb59b2b2cd1b861359b339/sentence-transformers-0.4.1.2.tar.gz (64kB)\n",
            "\u001b[K     |████████████████████████████████| 71kB 4.3MB/s \n",
            "\u001b[?25hCollecting transformers<5.0.0,>=3.1.0\n",
            "\u001b[?25l  Downloading https://files.pythonhosted.org/packages/88/b1/41130a228dd656a1a31ba281598a968320283f48d42782845f6ba567f00b/transformers-4.2.2-py3-none-any.whl (1.8MB)\n",
            "\u001b[K     |████████████████████████████████| 1.8MB 8.1MB/s \n",
            "\u001b[?25hRequirement already satisfied: tqdm in /usr/local/lib/python3.6/dist-packages (from sentence-transformers) (4.41.1)\n",
            "Requirement already satisfied: torch>=1.6.0 in /usr/local/lib/python3.6/dist-packages (from sentence-transformers) (1.7.0+cu101)\n",
            "Requirement already satisfied: numpy in /usr/local/lib/python3.6/dist-packages (from sentence-transformers) (1.19.5)\n",
            "Requirement already satisfied: scikit-learn in /usr/local/lib/python3.6/dist-packages (from sentence-transformers) (0.22.2.post1)\n",
            "Requirement already satisfied: scipy in /usr/local/lib/python3.6/dist-packages (from sentence-transformers) (1.4.1)\n",
            "Requirement already satisfied: nltk in /usr/local/lib/python3.6/dist-packages (from sentence-transformers) (3.2.5)\n",
            "Collecting sentencepiece\n",
            "\u001b[?25l  Downloading https://files.pythonhosted.org/packages/14/67/e42bd1181472c95c8cda79305df848264f2a7f62740995a46945d9797b67/sentencepiece-0.1.95-cp36-cp36m-manylinux2014_x86_64.whl (1.2MB)\n",
            "\u001b[K     |████████████████████████████████| 1.2MB 44.2MB/s \n",
            "\u001b[?25hCollecting sacremoses\n",
            "\u001b[?25l  Downloading https://files.pythonhosted.org/packages/7d/34/09d19aff26edcc8eb2a01bed8e98f13a1537005d31e95233fd48216eed10/sacremoses-0.0.43.tar.gz (883kB)\n",
            "\u001b[K     |████████████████████████████████| 890kB 37.2MB/s \n",
            "\u001b[?25hRequirement already satisfied: regex!=2019.12.17 in /usr/local/lib/python3.6/dist-packages (from transformers<5.0.0,>=3.1.0->sentence-transformers) (2019.12.20)\n",
            "Requirement already satisfied: dataclasses; python_version < \"3.7\" in /usr/local/lib/python3.6/dist-packages (from transformers<5.0.0,>=3.1.0->sentence-transformers) (0.8)\n",
            "Requirement already satisfied: packaging in /usr/local/lib/python3.6/dist-packages (from transformers<5.0.0,>=3.1.0->sentence-transformers) (20.8)\n",
            "Requirement already satisfied: importlib-metadata; python_version < \"3.8\" in /usr/local/lib/python3.6/dist-packages (from transformers<5.0.0,>=3.1.0->sentence-transformers) (3.3.0)\n",
            "Requirement already satisfied: filelock in /usr/local/lib/python3.6/dist-packages (from transformers<5.0.0,>=3.1.0->sentence-transformers) (3.0.12)\n",
            "Requirement already satisfied: requests in /usr/local/lib/python3.6/dist-packages (from transformers<5.0.0,>=3.1.0->sentence-transformers) (2.23.0)\n",
            "Collecting tokenizers==0.9.4\n",
            "\u001b[?25l  Downloading https://files.pythonhosted.org/packages/0f/1c/e789a8b12e28be5bc1ce2156cf87cb522b379be9cadc7ad8091a4cc107c4/tokenizers-0.9.4-cp36-cp36m-manylinux2010_x86_64.whl (2.9MB)\n",
            "\u001b[K     |████████████████████████████████| 2.9MB 45.8MB/s \n",
            "\u001b[?25hRequirement already satisfied: typing-extensions in /usr/local/lib/python3.6/dist-packages (from torch>=1.6.0->sentence-transformers) (3.7.4.3)\n",
            "Requirement already satisfied: future in /usr/local/lib/python3.6/dist-packages (from torch>=1.6.0->sentence-transformers) (0.16.0)\n",
            "Requirement already satisfied: joblib>=0.11 in /usr/local/lib/python3.6/dist-packages (from scikit-learn->sentence-transformers) (1.0.0)\n",
            "Requirement already satisfied: six in /usr/local/lib/python3.6/dist-packages (from nltk->sentence-transformers) (1.15.0)\n",
            "Requirement already satisfied: click in /usr/local/lib/python3.6/dist-packages (from sacremoses->transformers<5.0.0,>=3.1.0->sentence-transformers) (7.1.2)\n",
            "Requirement already satisfied: pyparsing>=2.0.2 in /usr/local/lib/python3.6/dist-packages (from packaging->transformers<5.0.0,>=3.1.0->sentence-transformers) (2.4.7)\n",
            "Requirement already satisfied: zipp>=0.5 in /usr/local/lib/python3.6/dist-packages (from importlib-metadata; python_version < \"3.8\"->transformers<5.0.0,>=3.1.0->sentence-transformers) (3.4.0)\n",
            "Requirement already satisfied: certifi>=2017.4.17 in /usr/local/lib/python3.6/dist-packages (from requests->transformers<5.0.0,>=3.1.0->sentence-transformers) (2020.12.5)\n",
            "Requirement already satisfied: chardet<4,>=3.0.2 in /usr/local/lib/python3.6/dist-packages (from requests->transformers<5.0.0,>=3.1.0->sentence-transformers) (3.0.4)\n",
            "Requirement already satisfied: urllib3!=1.25.0,!=1.25.1,<1.26,>=1.21.1 in /usr/local/lib/python3.6/dist-packages (from requests->transformers<5.0.0,>=3.1.0->sentence-transformers) (1.24.3)\n",
            "Requirement already satisfied: idna<3,>=2.5 in /usr/local/lib/python3.6/dist-packages (from requests->transformers<5.0.0,>=3.1.0->sentence-transformers) (2.10)\n",
            "Building wheels for collected packages: sentence-transformers, sacremoses\n",
            "  Building wheel for sentence-transformers (setup.py) ... \u001b[?25l\u001b[?25hdone\n",
            "  Created wheel for sentence-transformers: filename=sentence_transformers-0.4.1.2-cp36-none-any.whl size=103068 sha256=2b2f6f90322d0a8cefb2b10022fbaf8d7a6c3f953c1c2eaf60c148ecc7ceee25\n",
            "  Stored in directory: /root/.cache/pip/wheels/3d/33/d1/5703dd56199c09d4a1b41e0c07fb4e7765a84d787cbdc48ac3\n",
            "  Building wheel for sacremoses (setup.py) ... \u001b[?25l\u001b[?25hdone\n",
            "  Created wheel for sacremoses: filename=sacremoses-0.0.43-cp36-none-any.whl size=893261 sha256=fdf3c6407a885c99638790c0314eeef8c870e3a0ab7d006fa4217ac07448990f\n",
            "  Stored in directory: /root/.cache/pip/wheels/29/3c/fd/7ce5c3f0666dab31a50123635e6fb5e19ceb42ce38d4e58f45\n",
            "Successfully built sentence-transformers sacremoses\n",
            "Installing collected packages: sacremoses, tokenizers, transformers, sentencepiece, sentence-transformers\n",
            "Successfully installed sacremoses-0.0.43 sentence-transformers-0.4.1.2 sentencepiece-0.1.95 tokenizers-0.9.4 transformers-4.2.2\n"
          ],
          "name": "stdout"
        }
      ]
    },
    {
      "cell_type": "code",
      "metadata": {
        "id": "erxf8WWd9t7F"
      },
      "source": [
        "import pandas as pd\r\n",
        "import numpy as np\r\n",
        "import math\r\n",
        "import pickle\r\n",
        "import logging\r\n",
        "from datetime import datetime\r\n",
        "from sentence_transformers import (SentenceTransformer, LoggingHandler, util, models,\r\n",
        "                                   evaluation, losses, InputExample, SentencesDataset)\r\n",
        "from sentence_transformers.cross_encoder import CrossEncoder\r\n",
        "from sentence_transformers.cross_encoder.evaluation import CECorrelationEvaluator\r\n",
        "from sentence_transformers.evaluation import EmbeddingSimilarityEvaluator, BinaryClassificationEvaluator\r\n",
        "from torch.utils.data import DataLoader, IterableDataset\r\n",
        "import torch"
      ],
      "execution_count": 1,
      "outputs": []
    },
    {
      "cell_type": "code",
      "metadata": {
        "id": "a-e4Zo-sADIq"
      },
      "source": [
        "logging.basicConfig(format='%(asctime)s - %(message)s',\r\n",
        "                    datefmt='%Y-%m-%d %H:%M:%S',\r\n",
        "                    level=logging.INFO,\r\n",
        "                    handlers=[LoggingHandler()])"
      ],
      "execution_count": 2,
      "outputs": []
    },
    {
      "cell_type": "code",
      "metadata": {
        "id": "D7lykur4ab7A"
      },
      "source": [
        "!rm -r /content/output"
      ],
      "execution_count": 3,
      "outputs": []
    },
    {
      "cell_type": "markdown",
      "metadata": {
        "id": "v5TsAZ18ERg3"
      },
      "source": [
        "# Evaluate pre-trained models"
      ]
    },
    {
      "cell_type": "code",
      "metadata": {
        "id": "TRIO-RtCEXCc"
      },
      "source": [
        "names = [\r\n",
        "         'distiluse-base-multilingual-cased-v2',\r\n",
        "         'paraphrase-xlm-r-multilingual-v1',\r\n",
        "         'stsb-xlm-r-multilingual',\r\n",
        "         'quora-distilbert-multilingual'\r\n",
        "]\r\n",
        "\r\n",
        "evaluations = [\r\n",
        "               '/embeddings/similarity_evaluation_cds_results.csv',\r\n",
        "               '/ir/Information-Retrieval_evaluation_czywiesz_results.csv',\r\n",
        "               '/ir_paragraphs/Information-Retrieval_evaluation_czywiesz_par_results.csv'\r\n",
        "]"
      ],
      "execution_count": null,
      "outputs": []
    },
    {
      "cell_type": "code",
      "metadata": {
        "id": "SFV6YohRFRST"
      },
      "source": [
        "base_path = '/content/drive/MyDrive/models/Tests/'\r\n",
        "evaluation = '/embeddings/similarity_evaluation_cds_results.csv'\r\n",
        "results = []\r\n",
        "\r\n",
        "for eval in evaluations:\r\n",
        "  current_results = []\r\n",
        "  for name in names:\r\n",
        "    path = base_path + name + eval\r\n",
        "    temp = pd.read_csv(path).iloc[:1]\r\n",
        "    temp['model'] = name\r\n",
        "    current_results.append(temp)\r\n",
        "\r\n",
        "  current_results = pd.concat(current_results)\r\n",
        "  current_results.drop(columns=['epoch', 'steps'], inplace=True)\r\n",
        "  columns = current_results.columns.tolist()\r\n",
        "  current_results = current_results[[columns[-1]] + columns[:-1]]\r\n",
        "  current_results.reset_index(drop=True, inplace=True)\r\n",
        "\r\n",
        "  results.append(current_results)"
      ],
      "execution_count": null,
      "outputs": []
    },
    {
      "cell_type": "code",
      "metadata": {
        "colab": {
          "base_uri": "https://localhost:8080/",
          "height": 314
        },
        "id": "s6p0wQq7Kz5P",
        "outputId": "532e58d6-1888-42f2-f7e3-e95142ea879c"
      },
      "source": [
        "results[0]"
      ],
      "execution_count": null,
      "outputs": [
        {
          "output_type": "execute_result",
          "data": {
            "text/html": [
              "<div>\n",
              "<style scoped>\n",
              "    .dataframe tbody tr th:only-of-type {\n",
              "        vertical-align: middle;\n",
              "    }\n",
              "\n",
              "    .dataframe tbody tr th {\n",
              "        vertical-align: top;\n",
              "    }\n",
              "\n",
              "    .dataframe thead th {\n",
              "        text-align: right;\n",
              "    }\n",
              "</style>\n",
              "<table border=\"1\" class=\"dataframe\">\n",
              "  <thead>\n",
              "    <tr style=\"text-align: right;\">\n",
              "      <th></th>\n",
              "      <th>model</th>\n",
              "      <th>cosine_pearson</th>\n",
              "      <th>cosine_spearman</th>\n",
              "      <th>euclidean_pearson</th>\n",
              "      <th>euclidean_spearman</th>\n",
              "      <th>manhattan_pearson</th>\n",
              "      <th>manhattan_spearman</th>\n",
              "      <th>dot_pearson</th>\n",
              "      <th>dot_spearman</th>\n",
              "    </tr>\n",
              "  </thead>\n",
              "  <tbody>\n",
              "    <tr>\n",
              "      <th>0</th>\n",
              "      <td>distiluse-base-multilingual-cased-v2</td>\n",
              "      <td>0.878515</td>\n",
              "      <td>0.877008</td>\n",
              "      <td>0.862547</td>\n",
              "      <td>0.876435</td>\n",
              "      <td>0.859509</td>\n",
              "      <td>0.873385</td>\n",
              "      <td>0.826851</td>\n",
              "      <td>0.829585</td>\n",
              "    </tr>\n",
              "    <tr>\n",
              "      <th>1</th>\n",
              "      <td>paraphrase-xlm-r-multilingual-v1</td>\n",
              "      <td>0.915836</td>\n",
              "      <td>0.910637</td>\n",
              "      <td>0.908304</td>\n",
              "      <td>0.907112</td>\n",
              "      <td>0.907047</td>\n",
              "      <td>0.905628</td>\n",
              "      <td>0.877705</td>\n",
              "      <td>0.865510</td>\n",
              "    </tr>\n",
              "    <tr>\n",
              "      <th>2</th>\n",
              "      <td>stsb-xlm-r-multilingual</td>\n",
              "      <td>0.887779</td>\n",
              "      <td>0.885161</td>\n",
              "      <td>0.875350</td>\n",
              "      <td>0.876960</td>\n",
              "      <td>0.874208</td>\n",
              "      <td>0.876437</td>\n",
              "      <td>0.838509</td>\n",
              "      <td>0.829004</td>\n",
              "    </tr>\n",
              "    <tr>\n",
              "      <th>3</th>\n",
              "      <td>quora-distilbert-multilingual</td>\n",
              "      <td>0.821687</td>\n",
              "      <td>0.849722</td>\n",
              "      <td>0.841780</td>\n",
              "      <td>0.842773</td>\n",
              "      <td>0.841113</td>\n",
              "      <td>0.842188</td>\n",
              "      <td>0.786613</td>\n",
              "      <td>0.785287</td>\n",
              "    </tr>\n",
              "  </tbody>\n",
              "</table>\n",
              "</div>"
            ],
            "text/plain": [
              "                                  model  ...  dot_spearman\n",
              "0  distiluse-base-multilingual-cased-v2  ...      0.829585\n",
              "1      paraphrase-xlm-r-multilingual-v1  ...      0.865510\n",
              "2               stsb-xlm-r-multilingual  ...      0.829004\n",
              "3         quora-distilbert-multilingual  ...      0.785287\n",
              "\n",
              "[4 rows x 9 columns]"
            ]
          },
          "metadata": {
            "tags": []
          },
          "execution_count": 66
        }
      ]
    },
    {
      "cell_type": "code",
      "metadata": {
        "colab": {
          "base_uri": "https://localhost:8080/",
          "height": 351
        },
        "id": "ZJnRnwFgMIDB",
        "outputId": "70297e90-5ed9-4416-9380-4dca36a4f3a0"
      },
      "source": [
        "results[1]"
      ],
      "execution_count": null,
      "outputs": [
        {
          "output_type": "execute_result",
          "data": {
            "text/html": [
              "<div>\n",
              "<style scoped>\n",
              "    .dataframe tbody tr th:only-of-type {\n",
              "        vertical-align: middle;\n",
              "    }\n",
              "\n",
              "    .dataframe tbody tr th {\n",
              "        vertical-align: top;\n",
              "    }\n",
              "\n",
              "    .dataframe thead th {\n",
              "        text-align: right;\n",
              "    }\n",
              "</style>\n",
              "<table border=\"1\" class=\"dataframe\">\n",
              "  <thead>\n",
              "    <tr style=\"text-align: right;\">\n",
              "      <th></th>\n",
              "      <th>model</th>\n",
              "      <th>Accuracy@1</th>\n",
              "      <th>Accuracy@3</th>\n",
              "      <th>Accuracy@5</th>\n",
              "      <th>Accuracy@10</th>\n",
              "      <th>Precision@1</th>\n",
              "      <th>Recall@1</th>\n",
              "      <th>Precision@3</th>\n",
              "      <th>Recall@3</th>\n",
              "      <th>Precision@5</th>\n",
              "      <th>Recall@5</th>\n",
              "      <th>Precision@10</th>\n",
              "      <th>Recall@10</th>\n",
              "      <th>MRR@10</th>\n",
              "      <th>NDCG@10</th>\n",
              "      <th>MAP@100</th>\n",
              "    </tr>\n",
              "  </thead>\n",
              "  <tbody>\n",
              "    <tr>\n",
              "      <th>0</th>\n",
              "      <td>distiluse-base-multilingual-cased-v2</td>\n",
              "      <td>0.644800</td>\n",
              "      <td>0.770812</td>\n",
              "      <td>0.811709</td>\n",
              "      <td>0.858626</td>\n",
              "      <td>0.644800</td>\n",
              "      <td>0.644800</td>\n",
              "      <td>0.256937</td>\n",
              "      <td>0.770812</td>\n",
              "      <td>0.162342</td>\n",
              "      <td>0.811709</td>\n",
              "      <td>0.085863</td>\n",
              "      <td>0.858626</td>\n",
              "      <td>0.716071</td>\n",
              "      <td>0.750547</td>\n",
              "      <td>0.720487</td>\n",
              "    </tr>\n",
              "    <tr>\n",
              "      <th>1</th>\n",
              "      <td>paraphrase-xlm-r-multilingual-v1</td>\n",
              "      <td>0.836205</td>\n",
              "      <td>0.917584</td>\n",
              "      <td>0.937305</td>\n",
              "      <td>0.958896</td>\n",
              "      <td>0.836205</td>\n",
              "      <td>0.836205</td>\n",
              "      <td>0.305861</td>\n",
              "      <td>0.917584</td>\n",
              "      <td>0.187461</td>\n",
              "      <td>0.937305</td>\n",
              "      <td>0.095890</td>\n",
              "      <td>0.958896</td>\n",
              "      <td>0.880396</td>\n",
              "      <td>0.899635</td>\n",
              "      <td>0.881870</td>\n",
              "    </tr>\n",
              "    <tr>\n",
              "      <th>2</th>\n",
              "      <td>stsb-xlm-r-multilingual</td>\n",
              "      <td>0.590201</td>\n",
              "      <td>0.714137</td>\n",
              "      <td>0.756487</td>\n",
              "      <td>0.808595</td>\n",
              "      <td>0.590201</td>\n",
              "      <td>0.590201</td>\n",
              "      <td>0.238046</td>\n",
              "      <td>0.714137</td>\n",
              "      <td>0.151297</td>\n",
              "      <td>0.756487</td>\n",
              "      <td>0.080859</td>\n",
              "      <td>0.808595</td>\n",
              "      <td>0.662591</td>\n",
              "      <td>0.697816</td>\n",
              "      <td>0.667771</td>\n",
              "    </tr>\n",
              "    <tr>\n",
              "      <th>3</th>\n",
              "      <td>quora-distilbert-multilingual</td>\n",
              "      <td>0.602034</td>\n",
              "      <td>0.708532</td>\n",
              "      <td>0.747353</td>\n",
              "      <td>0.797177</td>\n",
              "      <td>0.602034</td>\n",
              "      <td>0.602034</td>\n",
              "      <td>0.236177</td>\n",
              "      <td>0.708532</td>\n",
              "      <td>0.149471</td>\n",
              "      <td>0.747353</td>\n",
              "      <td>0.079718</td>\n",
              "      <td>0.797177</td>\n",
              "      <td>0.665448</td>\n",
              "      <td>0.697121</td>\n",
              "      <td>0.670427</td>\n",
              "    </tr>\n",
              "  </tbody>\n",
              "</table>\n",
              "</div>"
            ],
            "text/plain": [
              "                                  model  Accuracy@1  ...   NDCG@10   MAP@100\n",
              "0  distiluse-base-multilingual-cased-v2    0.644800  ...  0.750547  0.720487\n",
              "1      paraphrase-xlm-r-multilingual-v1    0.836205  ...  0.899635  0.881870\n",
              "2               stsb-xlm-r-multilingual    0.590201  ...  0.697816  0.667771\n",
              "3         quora-distilbert-multilingual    0.602034  ...  0.697121  0.670427\n",
              "\n",
              "[4 rows x 16 columns]"
            ]
          },
          "metadata": {
            "tags": []
          },
          "execution_count": 67
        }
      ]
    },
    {
      "cell_type": "code",
      "metadata": {
        "colab": {
          "base_uri": "https://localhost:8080/",
          "height": 351
        },
        "id": "CoXY2UQmMSV3",
        "outputId": "aed89f48-b1da-4f66-ccd8-1898a676fadd"
      },
      "source": [
        "results[2]"
      ],
      "execution_count": null,
      "outputs": [
        {
          "output_type": "execute_result",
          "data": {
            "text/html": [
              "<div>\n",
              "<style scoped>\n",
              "    .dataframe tbody tr th:only-of-type {\n",
              "        vertical-align: middle;\n",
              "    }\n",
              "\n",
              "    .dataframe tbody tr th {\n",
              "        vertical-align: top;\n",
              "    }\n",
              "\n",
              "    .dataframe thead th {\n",
              "        text-align: right;\n",
              "    }\n",
              "</style>\n",
              "<table border=\"1\" class=\"dataframe\">\n",
              "  <thead>\n",
              "    <tr style=\"text-align: right;\">\n",
              "      <th></th>\n",
              "      <th>model</th>\n",
              "      <th>Accuracy@1</th>\n",
              "      <th>Accuracy@3</th>\n",
              "      <th>Accuracy@5</th>\n",
              "      <th>Accuracy@10</th>\n",
              "      <th>Precision@1</th>\n",
              "      <th>Recall@1</th>\n",
              "      <th>Precision@3</th>\n",
              "      <th>Recall@3</th>\n",
              "      <th>Precision@5</th>\n",
              "      <th>Recall@5</th>\n",
              "      <th>Precision@10</th>\n",
              "      <th>Recall@10</th>\n",
              "      <th>MRR@10</th>\n",
              "      <th>NDCG@10</th>\n",
              "      <th>MAP@100</th>\n",
              "    </tr>\n",
              "  </thead>\n",
              "  <tbody>\n",
              "    <tr>\n",
              "      <th>0</th>\n",
              "      <td>distiluse-base-multilingual-cased-v2</td>\n",
              "      <td>0.551381</td>\n",
              "      <td>0.678846</td>\n",
              "      <td>0.723895</td>\n",
              "      <td>0.779946</td>\n",
              "      <td>0.551381</td>\n",
              "      <td>0.551381</td>\n",
              "      <td>0.226282</td>\n",
              "      <td>0.678846</td>\n",
              "      <td>0.144779</td>\n",
              "      <td>0.723895</td>\n",
              "      <td>0.077995</td>\n",
              "      <td>0.779946</td>\n",
              "      <td>0.625284</td>\n",
              "      <td>0.662512</td>\n",
              "      <td>0.630700</td>\n",
              "    </tr>\n",
              "    <tr>\n",
              "      <th>1</th>\n",
              "      <td>paraphrase-xlm-r-multilingual-v1</td>\n",
              "      <td>0.605979</td>\n",
              "      <td>0.724725</td>\n",
              "      <td>0.763546</td>\n",
              "      <td>0.809633</td>\n",
              "      <td>0.605979</td>\n",
              "      <td>0.605979</td>\n",
              "      <td>0.241575</td>\n",
              "      <td>0.724725</td>\n",
              "      <td>0.152709</td>\n",
              "      <td>0.763546</td>\n",
              "      <td>0.080963</td>\n",
              "      <td>0.809633</td>\n",
              "      <td>0.674149</td>\n",
              "      <td>0.706916</td>\n",
              "      <td>0.678707</td>\n",
              "    </tr>\n",
              "    <tr>\n",
              "      <th>2</th>\n",
              "      <td>stsb-xlm-r-multilingual</td>\n",
              "      <td>0.405024</td>\n",
              "      <td>0.524393</td>\n",
              "      <td>0.582935</td>\n",
              "      <td>0.646253</td>\n",
              "      <td>0.405024</td>\n",
              "      <td>0.405024</td>\n",
              "      <td>0.174798</td>\n",
              "      <td>0.524393</td>\n",
              "      <td>0.116587</td>\n",
              "      <td>0.582935</td>\n",
              "      <td>0.064625</td>\n",
              "      <td>0.646253</td>\n",
              "      <td>0.479739</td>\n",
              "      <td>0.519575</td>\n",
              "      <td>0.487758</td>\n",
              "    </tr>\n",
              "    <tr>\n",
              "      <th>3</th>\n",
              "      <td>quora-distilbert-multilingual</td>\n",
              "      <td>0.461491</td>\n",
              "      <td>0.578368</td>\n",
              "      <td>0.628192</td>\n",
              "      <td>0.690471</td>\n",
              "      <td>0.461491</td>\n",
              "      <td>0.461491</td>\n",
              "      <td>0.192789</td>\n",
              "      <td>0.578368</td>\n",
              "      <td>0.125638</td>\n",
              "      <td>0.628192</td>\n",
              "      <td>0.069047</td>\n",
              "      <td>0.690471</td>\n",
              "      <td>0.533318</td>\n",
              "      <td>0.570937</td>\n",
              "      <td>0.540081</td>\n",
              "    </tr>\n",
              "  </tbody>\n",
              "</table>\n",
              "</div>"
            ],
            "text/plain": [
              "                                  model  Accuracy@1  ...   NDCG@10   MAP@100\n",
              "0  distiluse-base-multilingual-cased-v2    0.551381  ...  0.662512  0.630700\n",
              "1      paraphrase-xlm-r-multilingual-v1    0.605979  ...  0.706916  0.678707\n",
              "2               stsb-xlm-r-multilingual    0.405024  ...  0.519575  0.487758\n",
              "3         quora-distilbert-multilingual    0.461491  ...  0.570937  0.540081\n",
              "\n",
              "[4 rows x 16 columns]"
            ]
          },
          "metadata": {
            "tags": []
          },
          "execution_count": 68
        }
      ]
    },
    {
      "cell_type": "markdown",
      "metadata": {
        "id": "UpJtQB7d-jbG"
      },
      "source": [
        "# Bi-encoder - CDS"
      ]
    },
    {
      "cell_type": "markdown",
      "metadata": {
        "id": "9uhmOckUB36t"
      },
      "source": [
        "Parameters"
      ]
    },
    {
      "cell_type": "code",
      "metadata": {
        "id": "7edfy0nG_EHU"
      },
      "source": [
        "#You can specify any huggingface/transformers pre-trained model here, for example, bert-base-uncased, roberta-base, xlm-roberta-base\r\n",
        "model_name = 'paraphrase-xlm-r-multilingual-v1'\r\n",
        "batch_size = 16\r\n",
        "num_epochs = 5\r\n",
        "max_seq_length = 128\r\n",
        "use_cuda = torch.cuda.is_available()\r\n",
        "model_save_path = 'output/cds-bi-encoder-'+model_name.replace(\"/\", \"-\")+'-'+datetime.now().strftime(\"%Y-%m-%d_%H-%M-%S\")"
      ],
      "execution_count": null,
      "outputs": []
    },
    {
      "cell_type": "markdown",
      "metadata": {
        "id": "PeyQuUYOB7K0"
      },
      "source": [
        "Load dataset"
      ]
    },
    {
      "cell_type": "code",
      "metadata": {
        "colab": {
          "base_uri": "https://localhost:8080/",
          "height": 206
        },
        "id": "rzXSQAOe-foI",
        "outputId": "f6658c89-30aa-43cf-a635-e2cf54eaea6c"
      },
      "source": [
        "cds = pd.read_csv('/content/drive/MyDrive/Polish CDSCorpus/dataset.csv', sep='\\t')\r\n",
        "cds.head()"
      ],
      "execution_count": null,
      "outputs": [
        {
          "output_type": "execute_result",
          "data": {
            "text/html": [
              "<div>\n",
              "<style scoped>\n",
              "    .dataframe tbody tr th:only-of-type {\n",
              "        vertical-align: middle;\n",
              "    }\n",
              "\n",
              "    .dataframe tbody tr th {\n",
              "        vertical-align: top;\n",
              "    }\n",
              "\n",
              "    .dataframe thead th {\n",
              "        text-align: right;\n",
              "    }\n",
              "</style>\n",
              "<table border=\"1\" class=\"dataframe\">\n",
              "  <thead>\n",
              "    <tr style=\"text-align: right;\">\n",
              "      <th></th>\n",
              "      <th>ID</th>\n",
              "      <th>A</th>\n",
              "      <th>B</th>\n",
              "      <th>RE</th>\n",
              "      <th>round(RE)</th>\n",
              "      <th>A_wrt_B</th>\n",
              "      <th>B_wrt_A</th>\n",
              "    </tr>\n",
              "  </thead>\n",
              "  <tbody>\n",
              "    <tr>\n",
              "      <th>0</th>\n",
              "      <td>1</td>\n",
              "      <td>Zawodnik na boisku ze skórzaną rękawicą robi w...</td>\n",
              "      <td>Mężczyzna w sportowym stroju stoi na ugiętej n...</td>\n",
              "      <td>2.17</td>\n",
              "      <td>2</td>\n",
              "      <td>neutral</td>\n",
              "      <td>neutral</td>\n",
              "    </tr>\n",
              "    <tr>\n",
              "      <th>1</th>\n",
              "      <td>2</td>\n",
              "      <td>Zawodnik na boisku ze skórzaną rękawicą robi w...</td>\n",
              "      <td>Wykrok w przód jest robiony na piasku na boisk...</td>\n",
              "      <td>5.00</td>\n",
              "      <td>5</td>\n",
              "      <td>entailment</td>\n",
              "      <td>entailment</td>\n",
              "    </tr>\n",
              "    <tr>\n",
              "      <th>2</th>\n",
              "      <td>3</td>\n",
              "      <td>Zawodnik na boisku ze skórzaną rękawicą robi w...</td>\n",
              "      <td>Mężczyzna w sportowym stroju stoi na nodze, kt...</td>\n",
              "      <td>2.50</td>\n",
              "      <td>3</td>\n",
              "      <td>neutral</td>\n",
              "      <td>neutral</td>\n",
              "    </tr>\n",
              "    <tr>\n",
              "      <th>3</th>\n",
              "      <td>4</td>\n",
              "      <td>Zawodnik na boisku ze skórzaną rękawicą robi w...</td>\n",
              "      <td>Chłopak w czerwonych butach stoi na boisku z u...</td>\n",
              "      <td>1.50</td>\n",
              "      <td>2</td>\n",
              "      <td>neutral</td>\n",
              "      <td>neutral</td>\n",
              "    </tr>\n",
              "    <tr>\n",
              "      <th>4</th>\n",
              "      <td>5</td>\n",
              "      <td>Zawodnik na boisku ze skórzaną rękawicą robi w...</td>\n",
              "      <td>Osoba wykonuje skok przez przeszkodę na jasnob...</td>\n",
              "      <td>0.00</td>\n",
              "      <td>0</td>\n",
              "      <td>neutral</td>\n",
              "      <td>neutral</td>\n",
              "    </tr>\n",
              "  </tbody>\n",
              "</table>\n",
              "</div>"
            ],
            "text/plain": [
              "   ID  ...     B_wrt_A\n",
              "0   1  ...     neutral\n",
              "1   2  ...  entailment\n",
              "2   3  ...     neutral\n",
              "3   4  ...     neutral\n",
              "4   5  ...     neutral\n",
              "\n",
              "[5 rows x 7 columns]"
            ]
          },
          "metadata": {
            "tags": []
          },
          "execution_count": 3
        }
      ]
    },
    {
      "cell_type": "markdown",
      "metadata": {
        "id": "4wCB0LQJB-c0"
      },
      "source": [
        "Prepare input examples"
      ]
    },
    {
      "cell_type": "code",
      "metadata": {
        "id": "ce5ENtDf-tQM"
      },
      "source": [
        "cds_samples = []\r\n",
        "for index, row in cds.iterrows():\r\n",
        "  score = float(row['RE']) / 5.0\r\n",
        "  cds_samples.append(InputExample(texts=[row['A'], row['B']], label=score))"
      ],
      "execution_count": null,
      "outputs": []
    },
    {
      "cell_type": "markdown",
      "metadata": {
        "id": "U1bJ5I25CB3s"
      },
      "source": [
        "Divide examples into dev and train sets"
      ]
    },
    {
      "cell_type": "code",
      "metadata": {
        "id": "_VGquazV-_Ms"
      },
      "source": [
        "dev_samples = cds_samples[:1000]\r\n",
        "gold_samples = cds_samples[1000:]\r\n",
        "\r\n",
        "train_dataloader = DataLoader(gold_samples, shuffle=True, batch_size=batch_size)\r\n",
        "emb_evaluator = evaluation.EmbeddingSimilarityEvaluator.from_input_examples(dev_samples, name='cds')"
      ],
      "execution_count": null,
      "outputs": []
    },
    {
      "cell_type": "markdown",
      "metadata": {
        "id": "HYsRaQE5CMuc"
      },
      "source": [
        "Load model"
      ]
    },
    {
      "cell_type": "code",
      "metadata": {
        "colab": {
          "base_uri": "https://localhost:8080/"
        },
        "id": "gxp8xKFP_sBt",
        "outputId": "f41ec71c-b40c-4a00-c759-b68e4e7a1551"
      },
      "source": [
        "model = SentenceTransformer(model_name)"
      ],
      "execution_count": null,
      "outputs": [
        {
          "output_type": "stream",
          "text": [
            "100%|██████████| 1.01G/1.01G [00:56<00:00, 17.9MB/s]\n"
          ],
          "name": "stderr"
        }
      ]
    },
    {
      "cell_type": "markdown",
      "metadata": {
        "id": "yrGFnYFOCTkL"
      },
      "source": [
        "Train"
      ]
    },
    {
      "cell_type": "code",
      "metadata": {
        "colab": {
          "base_uri": "https://localhost:8080/",
          "height": 807,
          "referenced_widgets": [
            "d8f2942f4d6f46e6aa36113ea09a7e89",
            "6a968360141a421e9c748ce5094ba249",
            "df0586784836426cbad949287a4ca214",
            "64870db5a3e1411d8c78f2c6fba2ff68",
            "db665b8b66e84cba9b883fb353d46876",
            "bec9c2a8f871490fbbea771270fda7d5",
            "14a57a6f9f8940849858059769ba7f0b",
            "4911d0c3fb064e44a354a2a129443977",
            "69d7cfd3b87c401d9f8d5e79a0756f34",
            "42df101d29f1404498741fad673e8a52",
            "5f67ced5ca7d44c3bca3c0d967ba6acf",
            "d5b66dd6bc4441cba5b69da16ef6aa01",
            "f722d1bfe0ea4853878f20ca3828dd40",
            "efc9c3d3a44c455f8730f735906f481a",
            "193c820250444f8bbcabb180641c0827",
            "682b02e5bc98452cbff48519b720e605",
            "9f18449221fc4505ad77397b5411b06b",
            "82aae0ab9d664658b59ac288306ff17b",
            "42447bd4fc874cfe92f86575222bfbe2",
            "a9b6ec097d684ed3a86db0a606912f09",
            "235237a4ee7d422089f25a9a8402f1f7",
            "4c51e60f213e41589f33fcd1e23076e1",
            "95652568bf6c4497b53600146411e0a8",
            "d7a35d5f3ee54ba48a22913f76ad56f7",
            "6dccb2ecbbe14851bff7a723b13190df",
            "ce02381635fb47ae8b1613e33d5af589",
            "116c8622884f4e84a1e4e489afc4e97f",
            "467e39e7deb24ec58c0b04b9abd95415",
            "d2403e0252e24686ad6e072d187c86d9",
            "497759e80c0b4cfd8972cb3086afa7ab",
            "4f25d73f258f43f7afdabdbb4a893937",
            "d64d878209b1464984600ee1725f65a2",
            "f7bd83e5c3de4d9b82d47589a8291ad5",
            "18437185631b42fd973f6669943b1663",
            "1c8cbb890eed44179decc0cd2ae7dd40",
            "3f0c6ee3675b4f318e63c2ea87fe6539",
            "4f991042149849f3859e834abc7894ee",
            "a694e676d07b4aa88b2699536717b42a",
            "80b0fd68258c4b8ca249b0ce2da40612",
            "7084b2aaa61345ad9f4e57befacaf9ef",
            "43d3884acec747e3a8e5a3a9eccc0e8a",
            "be76a1209eb84d0fb7353fd5fa6e1b3f",
            "34a05ec559e94c6ea9dfb04337d7ba8c",
            "9500319c106e4150b6721b1c3a2bd456",
            "8e662e1601f7494cb2e2148be8fcd635",
            "d67e40f9848b4b19a01fe60c56ae63f1",
            "9f5713719e5444cb95900de296dae881",
            "cd42f80b4b5a45df9f21d7d9a6824378"
          ]
        },
        "id": "-egEnbDp_phN",
        "outputId": "ba35a09a-9750-4986-9761-a43cc12ea8be"
      },
      "source": [
        "train_loss = losses.CosineSimilarityLoss(model=model)\r\n",
        "warmup_steps = math.ceil(len(train_dataloader) * num_epochs  * 0.1) #10% of train data for warm-up\r\n",
        "\r\n",
        "model.fit(train_objectives=[(train_dataloader, train_loss)],\r\n",
        "          evaluator=emb_evaluator,\r\n",
        "          epochs=num_epochs,\r\n",
        "          evaluation_steps=1000,\r\n",
        "          warmup_steps=warmup_steps,\r\n",
        "          output_path=model_save_path\r\n",
        "          )"
      ],
      "execution_count": null,
      "outputs": [
        {
          "output_type": "display_data",
          "data": {
            "application/vnd.jupyter.widget-view+json": {
              "model_id": "d8f2942f4d6f46e6aa36113ea09a7e89",
              "version_minor": 0,
              "version_major": 2
            },
            "text/plain": [
              "HBox(children=(FloatProgress(value=0.0, description='Epoch', max=5.0, style=ProgressStyle(description_width='i…"
            ]
          },
          "metadata": {
            "tags": []
          }
        },
        {
          "output_type": "display_data",
          "data": {
            "application/vnd.jupyter.widget-view+json": {
              "model_id": "69d7cfd3b87c401d9f8d5e79a0756f34",
              "version_minor": 0,
              "version_major": 2
            },
            "text/plain": [
              "HBox(children=(FloatProgress(value=0.0, description='Iteration', max=563.0, style=ProgressStyle(description_wi…"
            ]
          },
          "metadata": {
            "tags": []
          }
        },
        {
          "output_type": "stream",
          "text": [
            "\n",
            "2021-01-24 20:09:25 - EmbeddingSimilarityEvaluator: Evaluating the model on cds dataset after epoch 0:\n",
            "2021-01-24 20:09:29 - Cosine-Similarity :\tPearson: 0.9453\tSpearman: 0.9436\n",
            "2021-01-24 20:09:29 - Manhattan-Distance:\tPearson: 0.9247\tSpearman: 0.9374\n",
            "2021-01-24 20:09:29 - Euclidean-Distance:\tPearson: 0.9255\tSpearman: 0.9389\n",
            "2021-01-24 20:09:29 - Dot-Product-Similarity:\tPearson: 0.9324\tSpearman: 0.9307\n",
            "2021-01-24 20:09:29 - Save model to output/cds-bi-encoder-paraphrase-xlm-r-multilingual-v1-2021-01-24_20-05-32\n"
          ],
          "name": "stdout"
        },
        {
          "output_type": "display_data",
          "data": {
            "application/vnd.jupyter.widget-view+json": {
              "model_id": "9f18449221fc4505ad77397b5411b06b",
              "version_minor": 0,
              "version_major": 2
            },
            "text/plain": [
              "HBox(children=(FloatProgress(value=0.0, description='Iteration', max=563.0, style=ProgressStyle(description_wi…"
            ]
          },
          "metadata": {
            "tags": []
          }
        },
        {
          "output_type": "stream",
          "text": [
            "\n",
            "2021-01-24 20:12:39 - EmbeddingSimilarityEvaluator: Evaluating the model on cds dataset after epoch 1:\n",
            "2021-01-24 20:12:43 - Cosine-Similarity :\tPearson: 0.9423\tSpearman: 0.9388\n",
            "2021-01-24 20:12:43 - Manhattan-Distance:\tPearson: 0.9135\tSpearman: 0.9304\n",
            "2021-01-24 20:12:43 - Euclidean-Distance:\tPearson: 0.9153\tSpearman: 0.9327\n",
            "2021-01-24 20:12:43 - Dot-Product-Similarity:\tPearson: 0.9262\tSpearman: 0.9257\n"
          ],
          "name": "stdout"
        },
        {
          "output_type": "display_data",
          "data": {
            "application/vnd.jupyter.widget-view+json": {
              "model_id": "6dccb2ecbbe14851bff7a723b13190df",
              "version_minor": 0,
              "version_major": 2
            },
            "text/plain": [
              "HBox(children=(FloatProgress(value=0.0, description='Iteration', max=563.0, style=ProgressStyle(description_wi…"
            ]
          },
          "metadata": {
            "tags": []
          }
        },
        {
          "output_type": "stream",
          "text": [
            "\n",
            "2021-01-24 20:15:47 - EmbeddingSimilarityEvaluator: Evaluating the model on cds dataset after epoch 2:\n",
            "2021-01-24 20:15:50 - Cosine-Similarity :\tPearson: 0.9452\tSpearman: 0.9417\n",
            "2021-01-24 20:15:50 - Manhattan-Distance:\tPearson: 0.9179\tSpearman: 0.9341\n",
            "2021-01-24 20:15:50 - Euclidean-Distance:\tPearson: 0.9194\tSpearman: 0.9361\n",
            "2021-01-24 20:15:50 - Dot-Product-Similarity:\tPearson: 0.9323\tSpearman: 0.9313\n"
          ],
          "name": "stdout"
        },
        {
          "output_type": "display_data",
          "data": {
            "application/vnd.jupyter.widget-view+json": {
              "model_id": "f7bd83e5c3de4d9b82d47589a8291ad5",
              "version_minor": 0,
              "version_major": 2
            },
            "text/plain": [
              "HBox(children=(FloatProgress(value=0.0, description='Iteration', max=563.0, style=ProgressStyle(description_wi…"
            ]
          },
          "metadata": {
            "tags": []
          }
        },
        {
          "output_type": "stream",
          "text": [
            "\n",
            "2021-01-24 20:18:55 - EmbeddingSimilarityEvaluator: Evaluating the model on cds dataset after epoch 3:\n",
            "2021-01-24 20:18:59 - Cosine-Similarity :\tPearson: 0.9450\tSpearman: 0.9411\n",
            "2021-01-24 20:18:59 - Manhattan-Distance:\tPearson: 0.9169\tSpearman: 0.9333\n",
            "2021-01-24 20:18:59 - Euclidean-Distance:\tPearson: 0.9182\tSpearman: 0.9351\n",
            "2021-01-24 20:18:59 - Dot-Product-Similarity:\tPearson: 0.9319\tSpearman: 0.9307\n"
          ],
          "name": "stdout"
        },
        {
          "output_type": "display_data",
          "data": {
            "application/vnd.jupyter.widget-view+json": {
              "model_id": "43d3884acec747e3a8e5a3a9eccc0e8a",
              "version_minor": 0,
              "version_major": 2
            },
            "text/plain": [
              "HBox(children=(FloatProgress(value=0.0, description='Iteration', max=563.0, style=ProgressStyle(description_wi…"
            ]
          },
          "metadata": {
            "tags": []
          }
        },
        {
          "output_type": "stream",
          "text": [
            "\n",
            "2021-01-24 20:22:03 - EmbeddingSimilarityEvaluator: Evaluating the model on cds dataset after epoch 4:\n",
            "2021-01-24 20:22:06 - Cosine-Similarity :\tPearson: 0.9453\tSpearman: 0.9414\n",
            "2021-01-24 20:22:06 - Manhattan-Distance:\tPearson: 0.9175\tSpearman: 0.9333\n",
            "2021-01-24 20:22:06 - Euclidean-Distance:\tPearson: 0.9188\tSpearman: 0.9350\n",
            "2021-01-24 20:22:06 - Dot-Product-Similarity:\tPearson: 0.9324\tSpearman: 0.9313\n",
            "\n"
          ],
          "name": "stdout"
        }
      ]
    },
    {
      "cell_type": "code",
      "metadata": {
        "id": "mJ2q3buGJoeo"
      },
      "source": [
        "!mkdir /content/drive/MyDrive/models/cds-bi-encoder\r\n",
        "!cp -r /content/output/cds-bi-encoder-paraphrase-xlm-r-multilingual-v1-2021-01-24_20-05-32 /content/drive/MyDrive/models/cds-bi-encoder"
      ],
      "execution_count": null,
      "outputs": []
    },
    {
      "cell_type": "code",
      "metadata": {
        "colab": {
          "base_uri": "https://localhost:8080/",
          "height": 226
        },
        "id": "cxab4emMJ9jm",
        "outputId": "7931da50-707c-46f0-d6bc-15a6da2c4f39"
      },
      "source": [
        "results = pd.read_csv('/content/drive/MyDrive/models/cds-bi-encoder/cds-bi-encoder-paraphrase-xlm-r-multilingual-v1-2021-01-24_20-05-32/similarity_evaluation_cds_results.csv')\r\n",
        "results"
      ],
      "execution_count": null,
      "outputs": [
        {
          "output_type": "execute_result",
          "data": {
            "text/html": [
              "<div>\n",
              "<style scoped>\n",
              "    .dataframe tbody tr th:only-of-type {\n",
              "        vertical-align: middle;\n",
              "    }\n",
              "\n",
              "    .dataframe tbody tr th {\n",
              "        vertical-align: top;\n",
              "    }\n",
              "\n",
              "    .dataframe thead th {\n",
              "        text-align: right;\n",
              "    }\n",
              "</style>\n",
              "<table border=\"1\" class=\"dataframe\">\n",
              "  <thead>\n",
              "    <tr style=\"text-align: right;\">\n",
              "      <th></th>\n",
              "      <th>epoch</th>\n",
              "      <th>steps</th>\n",
              "      <th>cosine_pearson</th>\n",
              "      <th>cosine_spearman</th>\n",
              "      <th>euclidean_pearson</th>\n",
              "      <th>euclidean_spearman</th>\n",
              "      <th>manhattan_pearson</th>\n",
              "      <th>manhattan_spearman</th>\n",
              "      <th>dot_pearson</th>\n",
              "      <th>dot_spearman</th>\n",
              "    </tr>\n",
              "  </thead>\n",
              "  <tbody>\n",
              "    <tr>\n",
              "      <th>0</th>\n",
              "      <td>0</td>\n",
              "      <td>-1</td>\n",
              "      <td>0.945262</td>\n",
              "      <td>0.943640</td>\n",
              "      <td>0.925536</td>\n",
              "      <td>0.938948</td>\n",
              "      <td>0.924652</td>\n",
              "      <td>0.937446</td>\n",
              "      <td>0.932375</td>\n",
              "      <td>0.930739</td>\n",
              "    </tr>\n",
              "    <tr>\n",
              "      <th>1</th>\n",
              "      <td>1</td>\n",
              "      <td>-1</td>\n",
              "      <td>0.942300</td>\n",
              "      <td>0.938838</td>\n",
              "      <td>0.915326</td>\n",
              "      <td>0.932702</td>\n",
              "      <td>0.913458</td>\n",
              "      <td>0.930382</td>\n",
              "      <td>0.926201</td>\n",
              "      <td>0.925722</td>\n",
              "    </tr>\n",
              "    <tr>\n",
              "      <th>2</th>\n",
              "      <td>2</td>\n",
              "      <td>-1</td>\n",
              "      <td>0.945187</td>\n",
              "      <td>0.941700</td>\n",
              "      <td>0.919394</td>\n",
              "      <td>0.936077</td>\n",
              "      <td>0.917929</td>\n",
              "      <td>0.934123</td>\n",
              "      <td>0.932308</td>\n",
              "      <td>0.931346</td>\n",
              "    </tr>\n",
              "    <tr>\n",
              "      <th>3</th>\n",
              "      <td>3</td>\n",
              "      <td>-1</td>\n",
              "      <td>0.944985</td>\n",
              "      <td>0.941135</td>\n",
              "      <td>0.918172</td>\n",
              "      <td>0.935126</td>\n",
              "      <td>0.916880</td>\n",
              "      <td>0.933302</td>\n",
              "      <td>0.931915</td>\n",
              "      <td>0.930736</td>\n",
              "    </tr>\n",
              "    <tr>\n",
              "      <th>4</th>\n",
              "      <td>4</td>\n",
              "      <td>-1</td>\n",
              "      <td>0.945293</td>\n",
              "      <td>0.941413</td>\n",
              "      <td>0.918752</td>\n",
              "      <td>0.935038</td>\n",
              "      <td>0.917464</td>\n",
              "      <td>0.933323</td>\n",
              "      <td>0.932372</td>\n",
              "      <td>0.931269</td>\n",
              "    </tr>\n",
              "  </tbody>\n",
              "</table>\n",
              "</div>"
            ],
            "text/plain": [
              "   epoch  steps  cosine_pearson  ...  manhattan_spearman  dot_pearson  dot_spearman\n",
              "0      0     -1        0.945262  ...            0.937446     0.932375      0.930739\n",
              "1      1     -1        0.942300  ...            0.930382     0.926201      0.925722\n",
              "2      2     -1        0.945187  ...            0.934123     0.932308      0.931346\n",
              "3      3     -1        0.944985  ...            0.933302     0.931915      0.930736\n",
              "4      4     -1        0.945293  ...            0.933323     0.932372      0.931269\n",
              "\n",
              "[5 rows x 10 columns]"
            ]
          },
          "metadata": {
            "tags": []
          },
          "execution_count": 52
        }
      ]
    },
    {
      "cell_type": "markdown",
      "metadata": {
        "id": "CiRvv1YtSPg3"
      },
      "source": [
        "Evaluate on InformationRetrieval"
      ]
    },
    {
      "cell_type": "code",
      "metadata": {
        "colab": {
          "base_uri": "https://localhost:8080/",
          "height": 310
        },
        "id": "UWxVKiumSMNL",
        "outputId": "17a03b8d-17c1-4b7a-9050-e18e48152350"
      },
      "source": [
        "full = pd.read_csv('/content/drive/MyDrive/czywieszki/answers.csv')\r\n",
        "full.drop(columns=['Unnamed: 0', 'Unnamed: 0.1'], inplace=True)\r\n",
        "full.head()"
      ],
      "execution_count": null,
      "outputs": [
        {
          "output_type": "execute_result",
          "data": {
            "text/html": [
              "<div>\n",
              "<style scoped>\n",
              "    .dataframe tbody tr th:only-of-type {\n",
              "        vertical-align: middle;\n",
              "    }\n",
              "\n",
              "    .dataframe tbody tr th {\n",
              "        vertical-align: top;\n",
              "    }\n",
              "\n",
              "    .dataframe thead th {\n",
              "        text-align: right;\n",
              "    }\n",
              "</style>\n",
              "<table border=\"1\" class=\"dataframe\">\n",
              "  <thead>\n",
              "    <tr style=\"text-align: right;\">\n",
              "      <th></th>\n",
              "      <th>id</th>\n",
              "      <th>url</th>\n",
              "      <th>title</th>\n",
              "      <th>text</th>\n",
              "      <th>question</th>\n",
              "      <th>sentence</th>\n",
              "      <th>answer</th>\n",
              "    </tr>\n",
              "  </thead>\n",
              "  <tbody>\n",
              "    <tr>\n",
              "      <th>0</th>\n",
              "      <td>2070375</td>\n",
              "      <td>http://pl.wikipedia.org/wiki/?curid=2070375</td>\n",
              "      <td>R136a1</td>\n",
              "      <td>R136a1 – gwiazda Wolfa-Rayeta typu widmowego W...</td>\n",
              "      <td>gdzie zaobserwowano najmasywniejszą znaną gwia...</td>\n",
              "      <td>['R136a1 – gwiazda Wolfa-Rayeta typu widmowego...</td>\n",
              "      <td>Na uzyskanych dzięki niemu zdjęciach można był...</td>\n",
              "    </tr>\n",
              "    <tr>\n",
              "      <th>1</th>\n",
              "      <td>2070656</td>\n",
              "      <td>http://pl.wikipedia.org/wiki/?curid=2070656</td>\n",
              "      <td>Apoteoza wojny</td>\n",
              "      <td>Apoteoza wojny (oryg. ros. Апофеоз войны, \"Apo...</td>\n",
              "      <td>komu Wasilij Wierieszczagin zadedykował swój o...</td>\n",
              "      <td>['Апофеоз войны, \"Apofieoz wojny\") – obraz Was...</td>\n",
              "      <td>Апофеоз войны, \"Apofieoz wojny\") – obraz Wasil...</td>\n",
              "    </tr>\n",
              "    <tr>\n",
              "      <th>2</th>\n",
              "      <td>2070790</td>\n",
              "      <td>http://pl.wikipedia.org/wiki/?curid=2070790</td>\n",
              "      <td>Widzenie chłopca Bartłomieja</td>\n",
              "      <td>Widzenie chłopca Bartłomieja (oryg. ros. \"Виде...</td>\n",
              "      <td>który święty prawosławny został ukazany na obr...</td>\n",
              "      <td>['\"Видение отроку Варфоломею\") – obraz Michaił...</td>\n",
              "      <td>Niestierow pragnął swoimi dziełami oddać hołd ...</td>\n",
              "    </tr>\n",
              "    <tr>\n",
              "      <th>3</th>\n",
              "      <td>2071346</td>\n",
              "      <td>http://pl.wikipedia.org/wiki/?curid=2071346</td>\n",
              "      <td>Cangjang Gjaco</td>\n",
              "      <td>Cangjang Gjaco (tyb. ཚང་དབྱངས་རྒྱ་མཚོ་ Wylie: ...</td>\n",
              "      <td>któremu dalajlamie przypisuje się nieśmierteln...</td>\n",
              "      <td>['ཚང་དབྱངས་རྒྱ་མཚོ་ Wylie: \"tshang-dbyangs-rgy...</td>\n",
              "      <td>Wśród świeckich tybetańskich rozpowszechnione ...</td>\n",
              "    </tr>\n",
              "    <tr>\n",
              "      <th>4</th>\n",
              "      <td>2071390</td>\n",
              "      <td>http://pl.wikipedia.org/wiki/?curid=2071390</td>\n",
              "      <td>Wojna erytrejsko-etiopska</td>\n",
              "      <td>Wojna erytrejsko-etiopska trwała w latach 1998...</td>\n",
              "      <td>jakie były skutki wojny erytrejsko-etiopskiej?</td>\n",
              "      <td>['Wojna erytrejsko-etiopska trwała w latach 19...</td>\n",
              "      <td>W wyniku działań wojsk etiopskich do przesiedl...</td>\n",
              "    </tr>\n",
              "  </tbody>\n",
              "</table>\n",
              "</div>"
            ],
            "text/plain": [
              "        id  ...                                             answer\n",
              "0  2070375  ...  Na uzyskanych dzięki niemu zdjęciach można był...\n",
              "1  2070656  ...  Апофеоз войны, \"Apofieoz wojny\") – obraz Wasil...\n",
              "2  2070790  ...  Niestierow pragnął swoimi dziełami oddać hołd ...\n",
              "3  2071346  ...  Wśród świeckich tybetańskich rozpowszechnione ...\n",
              "4  2071390  ...  W wyniku działań wojsk etiopskich do przesiedl...\n",
              "\n",
              "[5 rows x 7 columns]"
            ]
          },
          "metadata": {
            "tags": []
          },
          "execution_count": 25
        }
      ]
    },
    {
      "cell_type": "markdown",
      "metadata": {
        "id": "qWaSVPQoSMNO"
      },
      "source": [
        "Prepare input examples"
      ]
    },
    {
      "cell_type": "code",
      "metadata": {
        "id": "RKoU89niSMNP"
      },
      "source": [
        "questions = full['question'].tolist()\r\n",
        "answers = full['answer'].tolist()"
      ],
      "execution_count": null,
      "outputs": []
    },
    {
      "cell_type": "markdown",
      "metadata": {
        "id": "msGfz8ZHSMNR"
      },
      "source": [
        "Divide examples into dev and train sets"
      ]
    },
    {
      "cell_type": "code",
      "metadata": {
        "id": "LMgLBVYpSMNR"
      },
      "source": [
        "dev_questions, dev_answers = questions[4000:], answers[4000:]"
      ],
      "execution_count": null,
      "outputs": []
    },
    {
      "cell_type": "code",
      "metadata": {
        "id": "ap2LmgXUSMNS"
      },
      "source": [
        "dev_queries = {}\r\n",
        "dev_corpus = {}\r\n",
        "dev_rel_docs = {}\r\n",
        "\r\n",
        "for i in range(len(dev_questions)):\r\n",
        "  idx = str(i)\r\n",
        "  dev_queries[idx] = dev_questions[i]\r\n",
        "  dev_corpus[idx] = dev_answers[i]\r\n",
        "  dev_rel_docs[idx] = {idx}"
      ],
      "execution_count": null,
      "outputs": []
    },
    {
      "cell_type": "code",
      "metadata": {
        "id": "d-6i2Z5sSMNS"
      },
      "source": [
        "ir_evaluator = evaluation.InformationRetrievalEvaluator(dev_queries, dev_corpus, dev_rel_docs, name='czywiesz')"
      ],
      "execution_count": null,
      "outputs": []
    },
    {
      "cell_type": "code",
      "metadata": {
        "colab": {
          "base_uri": "https://localhost:8080/"
        },
        "id": "a3vykX7jV8p9",
        "outputId": "8c436b14-65ae-40e1-8f6c-342a84173b3b"
      },
      "source": [
        "output_path = '/content/drive/MyDrive/models/cds-bi-encoder/cds-bi-encoder-paraphrase-xlm-r-multilingual-v1-2021-01-24_20-05-32/Information-Retrieval_evaluation_czywiesz_results.csv'\r\n",
        "model.evaluate(ir_evaluator, output_path=output_path)"
      ],
      "execution_count": null,
      "outputs": [
        {
          "output_type": "stream",
          "text": [
            "2021-01-24 21:41:33 - Information Retrieval Evaluation on czywiesz dataset:\n",
            "2021-01-24 21:41:38 - Accuracy@1: 93.51%\n",
            "2021-01-24 21:41:38 - Accuracy@3: 96.45%\n",
            "2021-01-24 21:41:38 - Accuracy@5: 97.80%\n",
            "2021-01-24 21:41:38 - Accuracy@10: 98.65%\n",
            "2021-01-24 21:41:38 - Precision@1: 93.51%\n",
            "2021-01-24 21:41:38 - Precision@3: 32.15%\n",
            "2021-01-24 21:41:38 - Precision@5: 19.56%\n",
            "2021-01-24 21:41:38 - Precision@10: 9.87%\n",
            "2021-01-24 21:41:38 - Recall@1: 93.51%\n",
            "2021-01-24 21:41:38 - Recall@3: 96.45%\n",
            "2021-01-24 21:41:38 - Recall@5: 97.80%\n",
            "2021-01-24 21:41:38 - Recall@10: 98.65%\n",
            "2021-01-24 21:41:38 - MRR@10: 0.9531\n",
            "2021-01-24 21:41:38 - NDCG@10: 0.9613\n",
            "2021-01-24 21:41:38 - MAP@100: 0.9534\n",
            "2021-01-24 21:41:38 - Queries: 817\n",
            "2021-01-24 21:41:38 - Corpus: 817\n",
            "\n"
          ],
          "name": "stdout"
        },
        {
          "output_type": "execute_result",
          "data": {
            "text/plain": [
              "0.9534039603220448"
            ]
          },
          "metadata": {
            "tags": []
          },
          "execution_count": 30
        }
      ]
    },
    {
      "cell_type": "markdown",
      "metadata": {
        "id": "jpSSMlBtWHiM"
      },
      "source": [
        "Final results"
      ]
    },
    {
      "cell_type": "code",
      "metadata": {
        "colab": {
          "base_uri": "https://localhost:8080/",
          "height": 226
        },
        "id": "lw2sFVtbWN7q",
        "outputId": "c64c1bd7-4adb-4fbc-e71f-c6bb0b5dbb11"
      },
      "source": [
        "results = pd.read_csv('/content/drive/MyDrive/models/cds-bi-encoder/cds-bi-encoder-paraphrase-xlm-r-multilingual-v1-2021-01-24_20-05-32/similarity_evaluation_cds_results.csv')\r\n",
        "results"
      ],
      "execution_count": null,
      "outputs": [
        {
          "output_type": "execute_result",
          "data": {
            "text/html": [
              "<div>\n",
              "<style scoped>\n",
              "    .dataframe tbody tr th:only-of-type {\n",
              "        vertical-align: middle;\n",
              "    }\n",
              "\n",
              "    .dataframe tbody tr th {\n",
              "        vertical-align: top;\n",
              "    }\n",
              "\n",
              "    .dataframe thead th {\n",
              "        text-align: right;\n",
              "    }\n",
              "</style>\n",
              "<table border=\"1\" class=\"dataframe\">\n",
              "  <thead>\n",
              "    <tr style=\"text-align: right;\">\n",
              "      <th></th>\n",
              "      <th>epoch</th>\n",
              "      <th>steps</th>\n",
              "      <th>cosine_pearson</th>\n",
              "      <th>cosine_spearman</th>\n",
              "      <th>euclidean_pearson</th>\n",
              "      <th>euclidean_spearman</th>\n",
              "      <th>manhattan_pearson</th>\n",
              "      <th>manhattan_spearman</th>\n",
              "      <th>dot_pearson</th>\n",
              "      <th>dot_spearman</th>\n",
              "    </tr>\n",
              "  </thead>\n",
              "  <tbody>\n",
              "    <tr>\n",
              "      <th>0</th>\n",
              "      <td>0</td>\n",
              "      <td>-1</td>\n",
              "      <td>0.945262</td>\n",
              "      <td>0.943640</td>\n",
              "      <td>0.925536</td>\n",
              "      <td>0.938948</td>\n",
              "      <td>0.924652</td>\n",
              "      <td>0.937446</td>\n",
              "      <td>0.932375</td>\n",
              "      <td>0.930739</td>\n",
              "    </tr>\n",
              "    <tr>\n",
              "      <th>1</th>\n",
              "      <td>1</td>\n",
              "      <td>-1</td>\n",
              "      <td>0.942300</td>\n",
              "      <td>0.938838</td>\n",
              "      <td>0.915326</td>\n",
              "      <td>0.932702</td>\n",
              "      <td>0.913458</td>\n",
              "      <td>0.930382</td>\n",
              "      <td>0.926201</td>\n",
              "      <td>0.925722</td>\n",
              "    </tr>\n",
              "    <tr>\n",
              "      <th>2</th>\n",
              "      <td>2</td>\n",
              "      <td>-1</td>\n",
              "      <td>0.945187</td>\n",
              "      <td>0.941700</td>\n",
              "      <td>0.919394</td>\n",
              "      <td>0.936077</td>\n",
              "      <td>0.917929</td>\n",
              "      <td>0.934123</td>\n",
              "      <td>0.932308</td>\n",
              "      <td>0.931346</td>\n",
              "    </tr>\n",
              "    <tr>\n",
              "      <th>3</th>\n",
              "      <td>3</td>\n",
              "      <td>-1</td>\n",
              "      <td>0.944985</td>\n",
              "      <td>0.941135</td>\n",
              "      <td>0.918172</td>\n",
              "      <td>0.935126</td>\n",
              "      <td>0.916880</td>\n",
              "      <td>0.933302</td>\n",
              "      <td>0.931915</td>\n",
              "      <td>0.930736</td>\n",
              "    </tr>\n",
              "    <tr>\n",
              "      <th>4</th>\n",
              "      <td>4</td>\n",
              "      <td>-1</td>\n",
              "      <td>0.945293</td>\n",
              "      <td>0.941413</td>\n",
              "      <td>0.918752</td>\n",
              "      <td>0.935038</td>\n",
              "      <td>0.917464</td>\n",
              "      <td>0.933323</td>\n",
              "      <td>0.932372</td>\n",
              "      <td>0.931269</td>\n",
              "    </tr>\n",
              "  </tbody>\n",
              "</table>\n",
              "</div>"
            ],
            "text/plain": [
              "   epoch  steps  cosine_pearson  ...  manhattan_spearman  dot_pearson  dot_spearman\n",
              "0      0     -1        0.945262  ...            0.937446     0.932375      0.930739\n",
              "1      1     -1        0.942300  ...            0.930382     0.926201      0.925722\n",
              "2      2     -1        0.945187  ...            0.934123     0.932308      0.931346\n",
              "3      3     -1        0.944985  ...            0.933302     0.931915      0.930736\n",
              "4      4     -1        0.945293  ...            0.933323     0.932372      0.931269\n",
              "\n",
              "[5 rows x 10 columns]"
            ]
          },
          "metadata": {
            "tags": []
          },
          "execution_count": 31
        }
      ]
    },
    {
      "cell_type": "code",
      "metadata": {
        "colab": {
          "base_uri": "https://localhost:8080/",
          "height": 101
        },
        "id": "3nFly_SUWN7r",
        "outputId": "81fce4bd-3f18-4f9c-b547-2668b9009356"
      },
      "source": [
        "results = pd.read_csv('/content/drive/MyDrive/models/cds-bi-encoder/cds-bi-encoder-paraphrase-xlm-r-multilingual-v1-2021-01-24_20-05-32/Information-Retrieval_evaluation_czywiesz_results.csv/Information-Retrieval_evaluation_czywiesz_results.csv')\r\n",
        "results"
      ],
      "execution_count": null,
      "outputs": [
        {
          "output_type": "execute_result",
          "data": {
            "text/html": [
              "<div>\n",
              "<style scoped>\n",
              "    .dataframe tbody tr th:only-of-type {\n",
              "        vertical-align: middle;\n",
              "    }\n",
              "\n",
              "    .dataframe tbody tr th {\n",
              "        vertical-align: top;\n",
              "    }\n",
              "\n",
              "    .dataframe thead th {\n",
              "        text-align: right;\n",
              "    }\n",
              "</style>\n",
              "<table border=\"1\" class=\"dataframe\">\n",
              "  <thead>\n",
              "    <tr style=\"text-align: right;\">\n",
              "      <th></th>\n",
              "      <th>epoch</th>\n",
              "      <th>steps</th>\n",
              "      <th>Accuracy@1</th>\n",
              "      <th>Accuracy@3</th>\n",
              "      <th>Accuracy@5</th>\n",
              "      <th>Accuracy@10</th>\n",
              "      <th>Precision@1</th>\n",
              "      <th>Recall@1</th>\n",
              "      <th>Precision@3</th>\n",
              "      <th>Recall@3</th>\n",
              "      <th>Precision@5</th>\n",
              "      <th>Recall@5</th>\n",
              "      <th>Precision@10</th>\n",
              "      <th>Recall@10</th>\n",
              "      <th>MRR@10</th>\n",
              "      <th>NDCG@10</th>\n",
              "      <th>MAP@100</th>\n",
              "    </tr>\n",
              "  </thead>\n",
              "  <tbody>\n",
              "    <tr>\n",
              "      <th>0</th>\n",
              "      <td>-1</td>\n",
              "      <td>-1</td>\n",
              "      <td>0.935129</td>\n",
              "      <td>0.964504</td>\n",
              "      <td>0.977968</td>\n",
              "      <td>0.986536</td>\n",
              "      <td>0.935129</td>\n",
              "      <td>0.935129</td>\n",
              "      <td>0.321501</td>\n",
              "      <td>0.964504</td>\n",
              "      <td>0.195594</td>\n",
              "      <td>0.977968</td>\n",
              "      <td>0.098654</td>\n",
              "      <td>0.986536</td>\n",
              "      <td>0.95311</td>\n",
              "      <td>0.961268</td>\n",
              "      <td>0.953404</td>\n",
              "    </tr>\n",
              "  </tbody>\n",
              "</table>\n",
              "</div>"
            ],
            "text/plain": [
              "   epoch  steps  Accuracy@1  Accuracy@3  ...  Recall@10   MRR@10   NDCG@10   MAP@100\n",
              "0     -1     -1    0.935129    0.964504  ...   0.986536  0.95311  0.961268  0.953404\n",
              "\n",
              "[1 rows x 17 columns]"
            ]
          },
          "metadata": {
            "tags": []
          },
          "execution_count": 32
        }
      ]
    },
    {
      "cell_type": "markdown",
      "metadata": {
        "id": "iyNOHvG3CVaD"
      },
      "source": [
        "#Bi-encoder - Czy wiesz?"
      ]
    },
    {
      "cell_type": "markdown",
      "metadata": {
        "id": "jxSgDio0Nj6k"
      },
      "source": [
        "Parameters"
      ]
    },
    {
      "cell_type": "code",
      "metadata": {
        "id": "8ybUJl3dCofR"
      },
      "source": [
        "#You can specify any huggingface/transformers pre-trained model here, for example, bert-base-uncased, roberta-base, xlm-roberta-base\r\n",
        "model_name = 'paraphrase-xlm-r-multilingual-v1'\r\n",
        "batch_size = 64\r\n",
        "num_epochs = 5\r\n",
        "max_seq_length = 128\r\n",
        "use_cuda = torch.cuda.is_available()\r\n",
        "model_save_path = 'output/czywiesz-bi-encoder-'+model_name.replace(\"/\", \"-\")+'-'+datetime.now().strftime(\"%Y-%m-%d_%H-%M-%S\")"
      ],
      "execution_count": null,
      "outputs": []
    },
    {
      "cell_type": "markdown",
      "metadata": {
        "id": "pTk0CUJKCofW"
      },
      "source": [
        "Load dataset"
      ]
    },
    {
      "cell_type": "code",
      "metadata": {
        "colab": {
          "base_uri": "https://localhost:8080/",
          "height": 310
        },
        "id": "xZLCjrjwCofZ",
        "outputId": "836113b2-a318-4c67-98b3-431c962eb7a3"
      },
      "source": [
        "full = pd.read_csv('/content/drive/MyDrive/czywieszki/answers.csv')\r\n",
        "full.drop(columns=['Unnamed: 0', 'Unnamed: 0.1'], inplace=True)\r\n",
        "full.head()"
      ],
      "execution_count": null,
      "outputs": [
        {
          "output_type": "execute_result",
          "data": {
            "text/html": [
              "<div>\n",
              "<style scoped>\n",
              "    .dataframe tbody tr th:only-of-type {\n",
              "        vertical-align: middle;\n",
              "    }\n",
              "\n",
              "    .dataframe tbody tr th {\n",
              "        vertical-align: top;\n",
              "    }\n",
              "\n",
              "    .dataframe thead th {\n",
              "        text-align: right;\n",
              "    }\n",
              "</style>\n",
              "<table border=\"1\" class=\"dataframe\">\n",
              "  <thead>\n",
              "    <tr style=\"text-align: right;\">\n",
              "      <th></th>\n",
              "      <th>id</th>\n",
              "      <th>url</th>\n",
              "      <th>title</th>\n",
              "      <th>text</th>\n",
              "      <th>question</th>\n",
              "      <th>sentence</th>\n",
              "      <th>answer</th>\n",
              "    </tr>\n",
              "  </thead>\n",
              "  <tbody>\n",
              "    <tr>\n",
              "      <th>0</th>\n",
              "      <td>2070375</td>\n",
              "      <td>http://pl.wikipedia.org/wiki/?curid=2070375</td>\n",
              "      <td>R136a1</td>\n",
              "      <td>R136a1 – gwiazda Wolfa-Rayeta typu widmowego W...</td>\n",
              "      <td>gdzie zaobserwowano najmasywniejszą znaną gwia...</td>\n",
              "      <td>['R136a1 – gwiazda Wolfa-Rayeta typu widmowego...</td>\n",
              "      <td>Na uzyskanych dzięki niemu zdjęciach można był...</td>\n",
              "    </tr>\n",
              "    <tr>\n",
              "      <th>1</th>\n",
              "      <td>2070656</td>\n",
              "      <td>http://pl.wikipedia.org/wiki/?curid=2070656</td>\n",
              "      <td>Apoteoza wojny</td>\n",
              "      <td>Apoteoza wojny (oryg. ros. Апофеоз войны, \"Apo...</td>\n",
              "      <td>komu Wasilij Wierieszczagin zadedykował swój o...</td>\n",
              "      <td>['Апофеоз войны, \"Apofieoz wojny\") – obraz Was...</td>\n",
              "      <td>Апофеоз войны, \"Apofieoz wojny\") – obraz Wasil...</td>\n",
              "    </tr>\n",
              "    <tr>\n",
              "      <th>2</th>\n",
              "      <td>2070790</td>\n",
              "      <td>http://pl.wikipedia.org/wiki/?curid=2070790</td>\n",
              "      <td>Widzenie chłopca Bartłomieja</td>\n",
              "      <td>Widzenie chłopca Bartłomieja (oryg. ros. \"Виде...</td>\n",
              "      <td>który święty prawosławny został ukazany na obr...</td>\n",
              "      <td>['\"Видение отроку Варфоломею\") – obraz Michaił...</td>\n",
              "      <td>Niestierow pragnął swoimi dziełami oddać hołd ...</td>\n",
              "    </tr>\n",
              "    <tr>\n",
              "      <th>3</th>\n",
              "      <td>2071346</td>\n",
              "      <td>http://pl.wikipedia.org/wiki/?curid=2071346</td>\n",
              "      <td>Cangjang Gjaco</td>\n",
              "      <td>Cangjang Gjaco (tyb. ཚང་དབྱངས་རྒྱ་མཚོ་ Wylie: ...</td>\n",
              "      <td>któremu dalajlamie przypisuje się nieśmierteln...</td>\n",
              "      <td>['ཚང་དབྱངས་རྒྱ་མཚོ་ Wylie: \"tshang-dbyangs-rgy...</td>\n",
              "      <td>Wśród świeckich tybetańskich rozpowszechnione ...</td>\n",
              "    </tr>\n",
              "    <tr>\n",
              "      <th>4</th>\n",
              "      <td>2071390</td>\n",
              "      <td>http://pl.wikipedia.org/wiki/?curid=2071390</td>\n",
              "      <td>Wojna erytrejsko-etiopska</td>\n",
              "      <td>Wojna erytrejsko-etiopska trwała w latach 1998...</td>\n",
              "      <td>jakie były skutki wojny erytrejsko-etiopskiej?</td>\n",
              "      <td>['Wojna erytrejsko-etiopska trwała w latach 19...</td>\n",
              "      <td>W wyniku działań wojsk etiopskich do przesiedl...</td>\n",
              "    </tr>\n",
              "  </tbody>\n",
              "</table>\n",
              "</div>"
            ],
            "text/plain": [
              "        id  ...                                             answer\n",
              "0  2070375  ...  Na uzyskanych dzięki niemu zdjęciach można był...\n",
              "1  2070656  ...  Апофеоз войны, \"Apofieoz wojny\") – obraz Wasil...\n",
              "2  2070790  ...  Niestierow pragnął swoimi dziełami oddać hołd ...\n",
              "3  2071346  ...  Wśród świeckich tybetańskich rozpowszechnione ...\n",
              "4  2071390  ...  W wyniku działań wojsk etiopskich do przesiedl...\n",
              "\n",
              "[5 rows x 7 columns]"
            ]
          },
          "metadata": {
            "tags": []
          },
          "execution_count": 4
        }
      ]
    },
    {
      "cell_type": "markdown",
      "metadata": {
        "id": "IdCJcGMXCofh"
      },
      "source": [
        "Prepare input examples"
      ]
    },
    {
      "cell_type": "code",
      "metadata": {
        "id": "eTiP0AdRCofk"
      },
      "source": [
        "questions = full['question'].tolist()\r\n",
        "answers = full['answer'].tolist()"
      ],
      "execution_count": null,
      "outputs": []
    },
    {
      "cell_type": "markdown",
      "metadata": {
        "id": "b7GR2qVQCofm"
      },
      "source": [
        "Divide examples into dev and train sets"
      ]
    },
    {
      "cell_type": "code",
      "metadata": {
        "id": "wAeeQ6hCDFKi"
      },
      "source": [
        "train_questions, dev_questions = questions[:4000], questions[4000:]\r\n",
        "train_answers, dev_answers = answers[:4000], answers[4000:]"
      ],
      "execution_count": null,
      "outputs": []
    },
    {
      "cell_type": "code",
      "metadata": {
        "id": "9d2zRTbAC8QY"
      },
      "source": [
        "train_samples = []\r\n",
        "for q, a in zip(train_questions, train_answers):\r\n",
        "  sample = InputExample(texts=[q, a])\r\n",
        "  train_samples.append(sample)"
      ],
      "execution_count": null,
      "outputs": []
    },
    {
      "cell_type": "code",
      "metadata": {
        "id": "-LdTfYSxC6dh"
      },
      "source": [
        "dev_queries = {}\r\n",
        "dev_corpus = {}\r\n",
        "dev_rel_docs = {}\r\n",
        "\r\n",
        "for i in range(len(dev_questions)):\r\n",
        "  idx = str(i)\r\n",
        "  dev_queries[idx] = dev_questions[i]\r\n",
        "  dev_corpus[idx] = dev_answers[i]\r\n",
        "  dev_rel_docs[idx] = {idx}"
      ],
      "execution_count": null,
      "outputs": []
    },
    {
      "cell_type": "code",
      "metadata": {
        "id": "i-sjt2tDC8sY"
      },
      "source": [
        "train_dataloader = DataLoader(train_samples, batch_size=batch_size)\r\n",
        "ir_evaluator = evaluation.InformationRetrievalEvaluator(dev_queries, dev_corpus, dev_rel_docs, name='czywiesz')"
      ],
      "execution_count": null,
      "outputs": []
    },
    {
      "cell_type": "markdown",
      "metadata": {
        "id": "V-HtI-5DNmxm"
      },
      "source": [
        "Prepare additional dev set"
      ]
    },
    {
      "cell_type": "code",
      "metadata": {
        "colab": {
          "base_uri": "https://localhost:8080/",
          "height": 206
        },
        "id": "FKqmjwyMCofo",
        "outputId": "7a8619ef-7d5c-4eb8-c786-152d11370f71"
      },
      "source": [
        "cds = pd.read_csv('/content/drive/MyDrive/Polish CDSCorpus/dataset_1000.csv', sep='\\t')\r\n",
        "cds.head()"
      ],
      "execution_count": null,
      "outputs": [
        {
          "output_type": "execute_result",
          "data": {
            "text/html": [
              "<div>\n",
              "<style scoped>\n",
              "    .dataframe tbody tr th:only-of-type {\n",
              "        vertical-align: middle;\n",
              "    }\n",
              "\n",
              "    .dataframe tbody tr th {\n",
              "        vertical-align: top;\n",
              "    }\n",
              "\n",
              "    .dataframe thead th {\n",
              "        text-align: right;\n",
              "    }\n",
              "</style>\n",
              "<table border=\"1\" class=\"dataframe\">\n",
              "  <thead>\n",
              "    <tr style=\"text-align: right;\">\n",
              "      <th></th>\n",
              "      <th>ID</th>\n",
              "      <th>A</th>\n",
              "      <th>B</th>\n",
              "      <th>RE</th>\n",
              "      <th>round(RE)</th>\n",
              "      <th>A_wrt_B</th>\n",
              "      <th>B_wrt_A</th>\n",
              "    </tr>\n",
              "  </thead>\n",
              "  <tbody>\n",
              "    <tr>\n",
              "      <th>0</th>\n",
              "      <td>1</td>\n",
              "      <td>Zawodnik na boisku ze skórzaną rękawicą robi w...</td>\n",
              "      <td>Mężczyzna w sportowym stroju stoi na ugiętej n...</td>\n",
              "      <td>2.17</td>\n",
              "      <td>2</td>\n",
              "      <td>neutral</td>\n",
              "      <td>neutral</td>\n",
              "    </tr>\n",
              "    <tr>\n",
              "      <th>1</th>\n",
              "      <td>2</td>\n",
              "      <td>Zawodnik na boisku ze skórzaną rękawicą robi w...</td>\n",
              "      <td>Wykrok w przód jest robiony na piasku na boisk...</td>\n",
              "      <td>5.00</td>\n",
              "      <td>5</td>\n",
              "      <td>entailment</td>\n",
              "      <td>entailment</td>\n",
              "    </tr>\n",
              "    <tr>\n",
              "      <th>2</th>\n",
              "      <td>3</td>\n",
              "      <td>Zawodnik na boisku ze skórzaną rękawicą robi w...</td>\n",
              "      <td>Mężczyzna w sportowym stroju stoi na nodze, kt...</td>\n",
              "      <td>2.50</td>\n",
              "      <td>3</td>\n",
              "      <td>neutral</td>\n",
              "      <td>neutral</td>\n",
              "    </tr>\n",
              "    <tr>\n",
              "      <th>3</th>\n",
              "      <td>4</td>\n",
              "      <td>Zawodnik na boisku ze skórzaną rękawicą robi w...</td>\n",
              "      <td>Chłopak w czerwonych butach stoi na boisku z u...</td>\n",
              "      <td>1.50</td>\n",
              "      <td>2</td>\n",
              "      <td>neutral</td>\n",
              "      <td>neutral</td>\n",
              "    </tr>\n",
              "    <tr>\n",
              "      <th>4</th>\n",
              "      <td>5</td>\n",
              "      <td>Zawodnik na boisku ze skórzaną rękawicą robi w...</td>\n",
              "      <td>Osoba wykonuje skok przez przeszkodę na jasnob...</td>\n",
              "      <td>0.00</td>\n",
              "      <td>0</td>\n",
              "      <td>neutral</td>\n",
              "      <td>neutral</td>\n",
              "    </tr>\n",
              "  </tbody>\n",
              "</table>\n",
              "</div>"
            ],
            "text/plain": [
              "   ID  ...     B_wrt_A\n",
              "0   1  ...     neutral\n",
              "1   2  ...  entailment\n",
              "2   3  ...     neutral\n",
              "3   4  ...     neutral\n",
              "4   5  ...     neutral\n",
              "\n",
              "[5 rows x 7 columns]"
            ]
          },
          "metadata": {
            "tags": []
          },
          "execution_count": 10
        }
      ]
    },
    {
      "cell_type": "code",
      "metadata": {
        "id": "rrjMfoVjNUU_"
      },
      "source": [
        "cds_samples = []\r\n",
        "for index, row in cds.iterrows():\r\n",
        "  score = float(row['RE']) / 5.0\r\n",
        "  cds_samples.append(InputExample(texts=[row['A'], row['B']], label=score))"
      ],
      "execution_count": null,
      "outputs": []
    },
    {
      "cell_type": "code",
      "metadata": {
        "id": "uWufxFgMNWmF"
      },
      "source": [
        "emb_evaluator = evaluation.EmbeddingSimilarityEvaluator.from_input_examples(cds_samples, name='cds')"
      ],
      "execution_count": null,
      "outputs": []
    },
    {
      "cell_type": "markdown",
      "metadata": {
        "id": "RfrFsCRjCofp"
      },
      "source": [
        "Load model"
      ]
    },
    {
      "cell_type": "code",
      "metadata": {
        "colab": {
          "base_uri": "https://localhost:8080/"
        },
        "id": "7HVJZZI_Cofq",
        "outputId": "5e84cbdb-ad65-4ea6-b114-440adc44025c"
      },
      "source": [
        "model = SentenceTransformer(model_name)"
      ],
      "execution_count": null,
      "outputs": [
        {
          "output_type": "stream",
          "text": [
            "2021-01-24 21:20:29 - Load pretrained SentenceTransformer: paraphrase-xlm-r-multilingual-v1\n",
            "2021-01-24 21:20:29 - Did not find folder paraphrase-xlm-r-multilingual-v1\n",
            "2021-01-24 21:20:29 - Try to download model from server: https://sbert.net/models/paraphrase-xlm-r-multilingual-v1.zip\n",
            "2021-01-24 21:20:29 - Load SentenceTransformer from folder: /root/.cache/torch/sentence_transformers/sbert.net_models_paraphrase-xlm-r-multilingual-v1\n",
            "2021-01-24 21:20:37 - Use pytorch device: cuda\n"
          ],
          "name": "stdout"
        }
      ]
    },
    {
      "cell_type": "markdown",
      "metadata": {
        "id": "jtPwF9cbCofs"
      },
      "source": [
        "Train"
      ]
    },
    {
      "cell_type": "code",
      "metadata": {
        "colab": {
          "base_uri": "https://localhost:8080/",
          "height": 844,
          "referenced_widgets": [
            "d4d57bab92c94622ad64de5a4e2bd1ed",
            "6b88b849f8e248bf85c70add57193242",
            "2bf3e3c7925b4f5b851fcc3f631614aa",
            "507f489b5e0c4defa032a7eec79d90b1",
            "f093f03dccbf49ffa14b3ace8b594a49",
            "9e994de5ceb64d56811c5bb8c297f9d5",
            "0ea216cd009c494d9e4eb57665f8d4aa",
            "ebac30eff16c4c87ad742d71cdc785e9",
            "59b76a524b594885a5ad68fc352e62c4",
            "caa4d58acd0749f488b4a3dc228b8791",
            "797f9a74733649ab8a9f231c4c140951",
            "647ee362bb9a4c98886c4884b4e41767",
            "fec6014b47504dc199511ac7919c8e7a",
            "86c79a9c04434c8cb7af3944dd8c7e74",
            "eaf6e1c9252740dbb0928130f328298d",
            "4d1510805c54448e91d48e29c710d39e",
            "ab91375499d2417083b6994a3da2f747",
            "74817b4be30046308a1a92c4d1a3753b",
            "aae870f891e544728bc50ce3696dfba6",
            "c4dccd16af8f4ab3bf0b5cd422af441e",
            "917a46369fe541a99b7eeaaca9b47043",
            "6d326d661c6f498daa03952f8871ce74",
            "a0fbd166a2234c909b5c7214066acb4a",
            "f1d0aa9bf5054275bdd699c28c9575d8",
            "cf1db86a0d9645feb4d80a6846013f3f",
            "ea06feea388f416aa9f69f7b19c9d172",
            "5b0fb5fd643c4cb1b13c554e49f7d6aa",
            "6cab9a54a3bc4cae8e38ebcd6a776794",
            "895ffd78cc5742ea8756dc7b62103330",
            "a2689b0f002f4bf5a2a1c5a6ae4b6e1b",
            "e9ae48cb582c4549b311c243d12024aa",
            "a6e4a581694f46c7b6eccfce7d8acc68",
            "855d5ee62acc4c0daa2d7a090d1e8928",
            "225fefd4567942baa7c674fdaba48921",
            "b5d1e70672f949468a70cd23a371e72f",
            "10e8486d4e844f85a659097dfc971ce8",
            "7532e4a36d394cf4bd0d31ece0e08bb7",
            "c9d265fb1e76476eb0b438b931e9a893",
            "602a506550c7421cad62b55963ee27b0",
            "a0188e3fdaea4d59b8e8f3c3099e9cfb",
            "0c6262f7bc4f4af0ab4459c7270a8f62",
            "dd76f15d693f4664ada6fa76d2eec4a9",
            "4e52240491e6491e927a0b97dc69611f",
            "593cd9ce6b9542a9a1ec5e9b01203b55",
            "1b5cfdbac8c44ee4b5d1e32ac41c290d",
            "0a0c92078a384dbfa9234ec67109d4f8",
            "5e85eb6521d3459e9cc04a1f07a7f647",
            "33d8301f7dd34f678508e2def62c8e98"
          ]
        },
        "id": "NkOlFhgZCofs",
        "outputId": "9dee88f7-d05d-42a4-ae97-114b8bb67f54"
      },
      "source": [
        "train_loss = losses.MultipleNegativesRankingLoss(model=model)\r\n",
        "warmup_steps = math.ceil(len(train_dataloader) * num_epochs  * 0.1) #10% of train data for warm-up\r\n",
        "\r\n",
        "model.fit(train_objectives=[(train_dataloader, train_loss)],\r\n",
        "          evaluator=emb_evaluator,\r\n",
        "          epochs=num_epochs,\r\n",
        "          evaluation_steps=1000,\r\n",
        "          warmup_steps=warmup_steps,\r\n",
        "          output_path=model_save_path,\r\n",
        "          use_amp=True\r\n",
        "          )"
      ],
      "execution_count": null,
      "outputs": [
        {
          "output_type": "display_data",
          "data": {
            "application/vnd.jupyter.widget-view+json": {
              "model_id": "d4d57bab92c94622ad64de5a4e2bd1ed",
              "version_minor": 0,
              "version_major": 2
            },
            "text/plain": [
              "HBox(children=(FloatProgress(value=0.0, description='Epoch', max=5.0, style=ProgressStyle(description_width='i…"
            ]
          },
          "metadata": {
            "tags": []
          }
        },
        {
          "output_type": "display_data",
          "data": {
            "application/vnd.jupyter.widget-view+json": {
              "model_id": "59b76a524b594885a5ad68fc352e62c4",
              "version_minor": 0,
              "version_major": 2
            },
            "text/plain": [
              "HBox(children=(FloatProgress(value=0.0, description='Iteration', max=63.0, style=ProgressStyle(description_wid…"
            ]
          },
          "metadata": {
            "tags": []
          }
        },
        {
          "output_type": "stream",
          "text": [
            "\n",
            "2021-01-24 21:21:28 - EmbeddingSimilarityEvaluator: Evaluating the model on cds dataset after epoch 0:\n",
            "2021-01-24 21:21:32 - Cosine-Similarity :\tPearson: 0.9146\tSpearman: 0.9210\n",
            "2021-01-24 21:21:32 - Manhattan-Distance:\tPearson: 0.9074\tSpearman: 0.9186\n",
            "2021-01-24 21:21:32 - Euclidean-Distance:\tPearson: 0.9085\tSpearman: 0.9202\n",
            "2021-01-24 21:21:32 - Dot-Product-Similarity:\tPearson: 0.8974\tSpearman: 0.9009\n",
            "2021-01-24 21:21:32 - Save model to output/czywiesz-bi-encoder-paraphrase-xlm-r-multilingual-v1-2021-01-24_21-20-22\n"
          ],
          "name": "stdout"
        },
        {
          "output_type": "display_data",
          "data": {
            "application/vnd.jupyter.widget-view+json": {
              "model_id": "ab91375499d2417083b6994a3da2f747",
              "version_minor": 0,
              "version_major": 2
            },
            "text/plain": [
              "HBox(children=(FloatProgress(value=0.0, description='Iteration', max=63.0, style=ProgressStyle(description_wid…"
            ]
          },
          "metadata": {
            "tags": []
          }
        },
        {
          "output_type": "stream",
          "text": [
            "\n",
            "2021-01-24 21:22:27 - EmbeddingSimilarityEvaluator: Evaluating the model on cds dataset after epoch 1:\n",
            "2021-01-24 21:22:30 - Cosine-Similarity :\tPearson: 0.9180\tSpearman: 0.9242\n",
            "2021-01-24 21:22:30 - Manhattan-Distance:\tPearson: 0.9136\tSpearman: 0.9233\n",
            "2021-01-24 21:22:30 - Euclidean-Distance:\tPearson: 0.9149\tSpearman: 0.9244\n",
            "2021-01-24 21:22:30 - Dot-Product-Similarity:\tPearson: 0.8964\tSpearman: 0.8989\n",
            "2021-01-24 21:22:30 - Save model to output/czywiesz-bi-encoder-paraphrase-xlm-r-multilingual-v1-2021-01-24_21-20-22\n"
          ],
          "name": "stdout"
        },
        {
          "output_type": "display_data",
          "data": {
            "application/vnd.jupyter.widget-view+json": {
              "model_id": "cf1db86a0d9645feb4d80a6846013f3f",
              "version_minor": 0,
              "version_major": 2
            },
            "text/plain": [
              "HBox(children=(FloatProgress(value=0.0, description='Iteration', max=63.0, style=ProgressStyle(description_wid…"
            ]
          },
          "metadata": {
            "tags": []
          }
        },
        {
          "output_type": "stream",
          "text": [
            "\n",
            "2021-01-24 21:23:24 - EmbeddingSimilarityEvaluator: Evaluating the model on cds dataset after epoch 2:\n",
            "2021-01-24 21:23:28 - Cosine-Similarity :\tPearson: 0.9192\tSpearman: 0.9250\n",
            "2021-01-24 21:23:28 - Manhattan-Distance:\tPearson: 0.9141\tSpearman: 0.9241\n",
            "2021-01-24 21:23:28 - Euclidean-Distance:\tPearson: 0.9151\tSpearman: 0.9255\n",
            "2021-01-24 21:23:28 - Dot-Product-Similarity:\tPearson: 0.8977\tSpearman: 0.9004\n",
            "2021-01-24 21:23:28 - Save model to output/czywiesz-bi-encoder-paraphrase-xlm-r-multilingual-v1-2021-01-24_21-20-22\n"
          ],
          "name": "stdout"
        },
        {
          "output_type": "display_data",
          "data": {
            "application/vnd.jupyter.widget-view+json": {
              "model_id": "855d5ee62acc4c0daa2d7a090d1e8928",
              "version_minor": 0,
              "version_major": 2
            },
            "text/plain": [
              "HBox(children=(FloatProgress(value=0.0, description='Iteration', max=63.0, style=ProgressStyle(description_wid…"
            ]
          },
          "metadata": {
            "tags": []
          }
        },
        {
          "output_type": "stream",
          "text": [
            "\n",
            "2021-01-24 21:24:21 - EmbeddingSimilarityEvaluator: Evaluating the model on cds dataset after epoch 3:\n",
            "2021-01-24 21:24:25 - Cosine-Similarity :\tPearson: 0.9183\tSpearman: 0.9243\n",
            "2021-01-24 21:24:25 - Manhattan-Distance:\tPearson: 0.9144\tSpearman: 0.9243\n",
            "2021-01-24 21:24:25 - Euclidean-Distance:\tPearson: 0.9154\tSpearman: 0.9255\n",
            "2021-01-24 21:24:25 - Dot-Product-Similarity:\tPearson: 0.8940\tSpearman: 0.8965\n"
          ],
          "name": "stdout"
        },
        {
          "output_type": "display_data",
          "data": {
            "application/vnd.jupyter.widget-view+json": {
              "model_id": "0c6262f7bc4f4af0ab4459c7270a8f62",
              "version_minor": 0,
              "version_major": 2
            },
            "text/plain": [
              "HBox(children=(FloatProgress(value=0.0, description='Iteration', max=63.0, style=ProgressStyle(description_wid…"
            ]
          },
          "metadata": {
            "tags": []
          }
        },
        {
          "output_type": "stream",
          "text": [
            "\n",
            "2021-01-24 21:25:13 - EmbeddingSimilarityEvaluator: Evaluating the model on cds dataset after epoch 4:\n",
            "2021-01-24 21:25:17 - Cosine-Similarity :\tPearson: 0.9180\tSpearman: 0.9241\n",
            "2021-01-24 21:25:17 - Manhattan-Distance:\tPearson: 0.9144\tSpearman: 0.9244\n",
            "2021-01-24 21:25:17 - Euclidean-Distance:\tPearson: 0.9154\tSpearman: 0.9254\n",
            "2021-01-24 21:25:17 - Dot-Product-Similarity:\tPearson: 0.8934\tSpearman: 0.8958\n",
            "\n"
          ],
          "name": "stdout"
        }
      ]
    },
    {
      "cell_type": "code",
      "metadata": {
        "id": "m_IJXVHkT-0a"
      },
      "source": [
        "!mkdir /content/drive/MyDrive/models/czywiesz-bi-encoder\r\n",
        "!cp -r /content/output/czywiesz-bi-encoder-paraphrase-xlm-r-multilingual-v1-2021-01-24_21-20-22 /content/drive/MyDrive/models/czywiesz-bi-encoder"
      ],
      "execution_count": null,
      "outputs": []
    },
    {
      "cell_type": "markdown",
      "metadata": {
        "id": "65zrcSZLSr4n"
      },
      "source": [
        "Evaluate on Information Retrieval"
      ]
    },
    {
      "cell_type": "code",
      "metadata": {
        "colab": {
          "base_uri": "https://localhost:8080/"
        },
        "id": "7_0r4wz6Smy3",
        "outputId": "e9347ef2-9c6a-45f7-f0f7-c6c0d357d7d2"
      },
      "source": [
        "output_path = '/content/drive/MyDrive/models/czywiesz-bi-encoder/czywiesz-bi-encoder-paraphrase-xlm-r-multilingual-v1-2021-01-24_21-20-22/Information-Retrieval_evaluation_czywiesz_results.csv'\r\n",
        "model.evaluate(ir_evaluator, output_path=output_path)"
      ],
      "execution_count": null,
      "outputs": [
        {
          "output_type": "stream",
          "text": [
            "2021-01-24 21:38:46 - Information Retrieval Evaluation on czywiesz dataset:\n",
            "2021-01-24 21:38:51 - Accuracy@1: 95.10%\n",
            "2021-01-24 21:38:51 - Accuracy@3: 97.43%\n",
            "2021-01-24 21:38:51 - Accuracy@5: 98.16%\n",
            "2021-01-24 21:38:51 - Accuracy@10: 98.53%\n",
            "2021-01-24 21:38:51 - Precision@1: 95.10%\n",
            "2021-01-24 21:38:51 - Precision@3: 32.48%\n",
            "2021-01-24 21:38:51 - Precision@5: 19.63%\n",
            "2021-01-24 21:38:51 - Precision@10: 9.85%\n",
            "2021-01-24 21:38:51 - Recall@1: 95.10%\n",
            "2021-01-24 21:38:51 - Recall@3: 97.43%\n",
            "2021-01-24 21:38:51 - Recall@5: 98.16%\n",
            "2021-01-24 21:38:51 - Recall@10: 98.53%\n",
            "2021-01-24 21:38:51 - MRR@10: 0.9635\n",
            "2021-01-24 21:38:51 - NDCG@10: 0.9689\n",
            "2021-01-24 21:38:51 - MAP@100: 0.9641\n",
            "2021-01-24 21:38:51 - Queries: 817\n",
            "2021-01-24 21:38:51 - Corpus: 817\n",
            "\n"
          ],
          "name": "stdout"
        },
        {
          "output_type": "execute_result",
          "data": {
            "text/plain": [
              "0.9640539894434146"
            ]
          },
          "metadata": {
            "tags": []
          },
          "execution_count": 22
        }
      ]
    },
    {
      "cell_type": "markdown",
      "metadata": {
        "id": "gVncV_WeS7p9"
      },
      "source": [
        "Final results"
      ]
    },
    {
      "cell_type": "code",
      "metadata": {
        "colab": {
          "base_uri": "https://localhost:8080/",
          "height": 226
        },
        "id": "KZ3ZYg61S7OV",
        "outputId": "08399a79-5e3c-443d-8462-67c8773fd057"
      },
      "source": [
        "results = pd.read_csv('/content/drive/MyDrive/models/czywiesz-bi-encoder/czywiesz-bi-encoder-paraphrase-xlm-r-multilingual-v1-2021-01-24_21-20-22/similarity_evaluation_cds_results.csv')\r\n",
        "results"
      ],
      "execution_count": null,
      "outputs": [
        {
          "output_type": "execute_result",
          "data": {
            "text/html": [
              "<div>\n",
              "<style scoped>\n",
              "    .dataframe tbody tr th:only-of-type {\n",
              "        vertical-align: middle;\n",
              "    }\n",
              "\n",
              "    .dataframe tbody tr th {\n",
              "        vertical-align: top;\n",
              "    }\n",
              "\n",
              "    .dataframe thead th {\n",
              "        text-align: right;\n",
              "    }\n",
              "</style>\n",
              "<table border=\"1\" class=\"dataframe\">\n",
              "  <thead>\n",
              "    <tr style=\"text-align: right;\">\n",
              "      <th></th>\n",
              "      <th>epoch</th>\n",
              "      <th>steps</th>\n",
              "      <th>cosine_pearson</th>\n",
              "      <th>cosine_spearman</th>\n",
              "      <th>euclidean_pearson</th>\n",
              "      <th>euclidean_spearman</th>\n",
              "      <th>manhattan_pearson</th>\n",
              "      <th>manhattan_spearman</th>\n",
              "      <th>dot_pearson</th>\n",
              "      <th>dot_spearman</th>\n",
              "    </tr>\n",
              "  </thead>\n",
              "  <tbody>\n",
              "    <tr>\n",
              "      <th>0</th>\n",
              "      <td>0</td>\n",
              "      <td>-1</td>\n",
              "      <td>0.914551</td>\n",
              "      <td>0.920961</td>\n",
              "      <td>0.908521</td>\n",
              "      <td>0.920186</td>\n",
              "      <td>0.907404</td>\n",
              "      <td>0.918576</td>\n",
              "      <td>0.897446</td>\n",
              "      <td>0.900921</td>\n",
              "    </tr>\n",
              "    <tr>\n",
              "      <th>1</th>\n",
              "      <td>1</td>\n",
              "      <td>-1</td>\n",
              "      <td>0.917955</td>\n",
              "      <td>0.924192</td>\n",
              "      <td>0.914883</td>\n",
              "      <td>0.924385</td>\n",
              "      <td>0.913607</td>\n",
              "      <td>0.923270</td>\n",
              "      <td>0.896433</td>\n",
              "      <td>0.898905</td>\n",
              "    </tr>\n",
              "    <tr>\n",
              "      <th>2</th>\n",
              "      <td>2</td>\n",
              "      <td>-1</td>\n",
              "      <td>0.919206</td>\n",
              "      <td>0.925045</td>\n",
              "      <td>0.915071</td>\n",
              "      <td>0.925480</td>\n",
              "      <td>0.914059</td>\n",
              "      <td>0.924131</td>\n",
              "      <td>0.897722</td>\n",
              "      <td>0.900415</td>\n",
              "    </tr>\n",
              "    <tr>\n",
              "      <th>3</th>\n",
              "      <td>3</td>\n",
              "      <td>-1</td>\n",
              "      <td>0.918261</td>\n",
              "      <td>0.924286</td>\n",
              "      <td>0.915376</td>\n",
              "      <td>0.925457</td>\n",
              "      <td>0.914384</td>\n",
              "      <td>0.924303</td>\n",
              "      <td>0.893976</td>\n",
              "      <td>0.896490</td>\n",
              "    </tr>\n",
              "    <tr>\n",
              "      <th>4</th>\n",
              "      <td>4</td>\n",
              "      <td>-1</td>\n",
              "      <td>0.918040</td>\n",
              "      <td>0.924109</td>\n",
              "      <td>0.915388</td>\n",
              "      <td>0.925440</td>\n",
              "      <td>0.914428</td>\n",
              "      <td>0.924409</td>\n",
              "      <td>0.893350</td>\n",
              "      <td>0.895835</td>\n",
              "    </tr>\n",
              "  </tbody>\n",
              "</table>\n",
              "</div>"
            ],
            "text/plain": [
              "   epoch  steps  cosine_pearson  ...  manhattan_spearman  dot_pearson  dot_spearman\n",
              "0      0     -1        0.914551  ...            0.918576     0.897446      0.900921\n",
              "1      1     -1        0.917955  ...            0.923270     0.896433      0.898905\n",
              "2      2     -1        0.919206  ...            0.924131     0.897722      0.900415\n",
              "3      3     -1        0.918261  ...            0.924303     0.893976      0.896490\n",
              "4      4     -1        0.918040  ...            0.924409     0.893350      0.895835\n",
              "\n",
              "[5 rows x 10 columns]"
            ]
          },
          "metadata": {
            "tags": []
          },
          "execution_count": 19
        }
      ]
    },
    {
      "cell_type": "code",
      "metadata": {
        "colab": {
          "base_uri": "https://localhost:8080/",
          "height": 101
        },
        "id": "xEXrCsRhU0M_",
        "outputId": "3f84d3b0-4b86-458a-d774-afd67029ff0c"
      },
      "source": [
        "results = pd.read_csv('/content/drive/MyDrive/models/czywiesz-bi-encoder/czywiesz-bi-encoder-paraphrase-xlm-r-multilingual-v1-2021-01-24_21-20-22/Information-Retrieval_evaluation_czywiesz_results.csv/Information-Retrieval_evaluation_czywiesz_results.csv')\r\n",
        "results"
      ],
      "execution_count": null,
      "outputs": [
        {
          "output_type": "execute_result",
          "data": {
            "text/html": [
              "<div>\n",
              "<style scoped>\n",
              "    .dataframe tbody tr th:only-of-type {\n",
              "        vertical-align: middle;\n",
              "    }\n",
              "\n",
              "    .dataframe tbody tr th {\n",
              "        vertical-align: top;\n",
              "    }\n",
              "\n",
              "    .dataframe thead th {\n",
              "        text-align: right;\n",
              "    }\n",
              "</style>\n",
              "<table border=\"1\" class=\"dataframe\">\n",
              "  <thead>\n",
              "    <tr style=\"text-align: right;\">\n",
              "      <th></th>\n",
              "      <th>epoch</th>\n",
              "      <th>steps</th>\n",
              "      <th>Accuracy@1</th>\n",
              "      <th>Accuracy@3</th>\n",
              "      <th>Accuracy@5</th>\n",
              "      <th>Accuracy@10</th>\n",
              "      <th>Precision@1</th>\n",
              "      <th>Recall@1</th>\n",
              "      <th>Precision@3</th>\n",
              "      <th>Recall@3</th>\n",
              "      <th>Precision@5</th>\n",
              "      <th>Recall@5</th>\n",
              "      <th>Precision@10</th>\n",
              "      <th>Recall@10</th>\n",
              "      <th>MRR@10</th>\n",
              "      <th>NDCG@10</th>\n",
              "      <th>MAP@100</th>\n",
              "    </tr>\n",
              "  </thead>\n",
              "  <tbody>\n",
              "    <tr>\n",
              "      <th>0</th>\n",
              "      <td>-1</td>\n",
              "      <td>-1</td>\n",
              "      <td>0.95104</td>\n",
              "      <td>0.974296</td>\n",
              "      <td>0.98164</td>\n",
              "      <td>0.985312</td>\n",
              "      <td>0.95104</td>\n",
              "      <td>0.95104</td>\n",
              "      <td>0.324765</td>\n",
              "      <td>0.974296</td>\n",
              "      <td>0.196328</td>\n",
              "      <td>0.98164</td>\n",
              "      <td>0.098531</td>\n",
              "      <td>0.985312</td>\n",
              "      <td>0.963547</td>\n",
              "      <td>0.968931</td>\n",
              "      <td>0.964054</td>\n",
              "    </tr>\n",
              "  </tbody>\n",
              "</table>\n",
              "</div>"
            ],
            "text/plain": [
              "   epoch  steps  Accuracy@1  ...    MRR@10   NDCG@10   MAP@100\n",
              "0     -1     -1     0.95104  ...  0.963547  0.968931  0.964054\n",
              "\n",
              "[1 rows x 17 columns]"
            ]
          },
          "metadata": {
            "tags": []
          },
          "execution_count": 23
        }
      ]
    },
    {
      "cell_type": "markdown",
      "metadata": {
        "id": "lqYaD-YYmyBu"
      },
      "source": [
        "#Bi-encoder - Czy wiesz? - Paragraphs"
      ]
    },
    {
      "cell_type": "markdown",
      "metadata": {
        "id": "b9jqEJ3nmyBy"
      },
      "source": [
        "Parameters"
      ]
    },
    {
      "cell_type": "code",
      "metadata": {
        "id": "R4lpKj4rmyB0"
      },
      "source": [
        "#You can specify any huggingface/transformers pre-trained model here, for example, bert-base-uncased, roberta-base, xlm-roberta-base\r\n",
        "model_name = 'paraphrase-xlm-r-multilingual-v1'\r\n",
        "batch_size = 16\r\n",
        "num_epochs = 5\r\n",
        "max_seq_length = 256\r\n",
        "use_cuda = torch.cuda.is_available()\r\n",
        "model_save_path = 'output/czywiesz-paragraphs-bi-encoder-'+model_name.replace(\"/\", \"-\")+'-'+datetime.now().strftime(\"%Y-%m-%d_%H-%M-%S\")"
      ],
      "execution_count": 4,
      "outputs": []
    },
    {
      "cell_type": "markdown",
      "metadata": {
        "id": "HKS7md-xmyB3"
      },
      "source": [
        "Load dataset"
      ]
    },
    {
      "cell_type": "code",
      "metadata": {
        "colab": {
          "base_uri": "https://localhost:8080/",
          "height": 293
        },
        "id": "ZBkKp9CqmyB5",
        "outputId": "7c3de985-4ed9-4110-ef81-85154869703f"
      },
      "source": [
        "full = pd.read_csv('/content/drive/MyDrive/czywieszki/answers_paragraphs.csv')\r\n",
        "full.head()"
      ],
      "execution_count": 5,
      "outputs": [
        {
          "output_type": "execute_result",
          "data": {
            "text/html": [
              "<div>\n",
              "<style scoped>\n",
              "    .dataframe tbody tr th:only-of-type {\n",
              "        vertical-align: middle;\n",
              "    }\n",
              "\n",
              "    .dataframe tbody tr th {\n",
              "        vertical-align: top;\n",
              "    }\n",
              "\n",
              "    .dataframe thead th {\n",
              "        text-align: right;\n",
              "    }\n",
              "</style>\n",
              "<table border=\"1\" class=\"dataframe\">\n",
              "  <thead>\n",
              "    <tr style=\"text-align: right;\">\n",
              "      <th></th>\n",
              "      <th>id</th>\n",
              "      <th>url</th>\n",
              "      <th>title</th>\n",
              "      <th>text</th>\n",
              "      <th>question</th>\n",
              "      <th>answer</th>\n",
              "    </tr>\n",
              "  </thead>\n",
              "  <tbody>\n",
              "    <tr>\n",
              "      <th>0</th>\n",
              "      <td>2070375</td>\n",
              "      <td>http://pl.wikipedia.org/wiki/?curid=2070375</td>\n",
              "      <td>R136a1</td>\n",
              "      <td>R136a1 – gwiazda Wolfa-Rayeta typu widmowego W...</td>\n",
              "      <td>gdzie zaobserwowano najmasywniejszą znaną gwia...</td>\n",
              "      <td>W roku 1960 grupa astronomów pracujących w Obs...</td>\n",
              "    </tr>\n",
              "    <tr>\n",
              "      <th>1</th>\n",
              "      <td>2070656</td>\n",
              "      <td>http://pl.wikipedia.org/wiki/?curid=2070656</td>\n",
              "      <td>Apoteoza wojny</td>\n",
              "      <td>Apoteoza wojny (oryg. ros. Апофеоз войны, \"Apo...</td>\n",
              "      <td>komu Wasilij Wierieszczagin zadedykował swój o...</td>\n",
              "      <td>Apoteoza wojny (oryg. ros. Апофеоз войны, \"Apo...</td>\n",
              "    </tr>\n",
              "    <tr>\n",
              "      <th>2</th>\n",
              "      <td>2070790</td>\n",
              "      <td>http://pl.wikipedia.org/wiki/?curid=2070790</td>\n",
              "      <td>Widzenie chłopca Bartłomieja</td>\n",
              "      <td>Widzenie chłopca Bartłomieja (oryg. ros. \"Виде...</td>\n",
              "      <td>który święty prawosławny został ukazany na obr...</td>\n",
              "      <td>Niestierow ukazał tytułowego chłopca Bartłomie...</td>\n",
              "    </tr>\n",
              "    <tr>\n",
              "      <th>3</th>\n",
              "      <td>2071346</td>\n",
              "      <td>http://pl.wikipedia.org/wiki/?curid=2071346</td>\n",
              "      <td>Cangjang Gjaco</td>\n",
              "      <td>Cangjang Gjaco (tyb. ཚང་དབྱངས་རྒྱ་མཚོ་ Wylie: ...</td>\n",
              "      <td>któremu dalajlamie przypisuje się nieśmierteln...</td>\n",
              "      <td>Podczas podróży orszak z dalajlamą zatrzymał s...</td>\n",
              "    </tr>\n",
              "    <tr>\n",
              "      <th>4</th>\n",
              "      <td>2071390</td>\n",
              "      <td>http://pl.wikipedia.org/wiki/?curid=2071390</td>\n",
              "      <td>Wojna erytrejsko-etiopska</td>\n",
              "      <td>Wojna erytrejsko-etiopska trwała w latach 1998...</td>\n",
              "      <td>jakie były skutki wojny erytrejsko-etiopskiej?</td>\n",
              "      <td>Wojna erytrejsko-etiopska trwała w latach 1998...</td>\n",
              "    </tr>\n",
              "  </tbody>\n",
              "</table>\n",
              "</div>"
            ],
            "text/plain": [
              "        id  ...                                             answer\n",
              "0  2070375  ...  W roku 1960 grupa astronomów pracujących w Obs...\n",
              "1  2070656  ...  Apoteoza wojny (oryg. ros. Апофеоз войны, \"Apo...\n",
              "2  2070790  ...  Niestierow ukazał tytułowego chłopca Bartłomie...\n",
              "3  2071346  ...  Podczas podróży orszak z dalajlamą zatrzymał s...\n",
              "4  2071390  ...  Wojna erytrejsko-etiopska trwała w latach 1998...\n",
              "\n",
              "[5 rows x 6 columns]"
            ]
          },
          "metadata": {
            "tags": []
          },
          "execution_count": 5
        }
      ]
    },
    {
      "cell_type": "markdown",
      "metadata": {
        "id": "xKbygRqUmyB8"
      },
      "source": [
        "Prepare input examples"
      ]
    },
    {
      "cell_type": "code",
      "metadata": {
        "id": "0faiXFjVmyB9"
      },
      "source": [
        "questions = full['question'].tolist()\r\n",
        "answers = full['answer'].tolist()"
      ],
      "execution_count": 6,
      "outputs": []
    },
    {
      "cell_type": "markdown",
      "metadata": {
        "id": "Hi3EupIXmyB-"
      },
      "source": [
        "Divide examples into dev and train sets"
      ]
    },
    {
      "cell_type": "code",
      "metadata": {
        "id": "uuL4SsfmmyB_"
      },
      "source": [
        "train_questions, dev_questions = questions[:4000], questions[4000:]\r\n",
        "train_answers, dev_answers = answers[:4000], answers[4000:]"
      ],
      "execution_count": 7,
      "outputs": []
    },
    {
      "cell_type": "code",
      "metadata": {
        "id": "g99RA-efmyCB"
      },
      "source": [
        "train_samples = []\r\n",
        "for q, a in zip(train_questions, train_answers):\r\n",
        "  sample = InputExample(texts=[q, a])\r\n",
        "  train_samples.append(sample)"
      ],
      "execution_count": 8,
      "outputs": []
    },
    {
      "cell_type": "code",
      "metadata": {
        "id": "vC3uhZJ6myCC"
      },
      "source": [
        "dev_queries = {}\r\n",
        "dev_corpus = {}\r\n",
        "dev_rel_docs = {}\r\n",
        "\r\n",
        "for i in range(len(dev_questions)):\r\n",
        "  idx = str(i)\r\n",
        "  dev_queries[idx] = dev_questions[i]\r\n",
        "  dev_corpus[idx] = dev_answers[i]\r\n",
        "  dev_rel_docs[idx] = {idx}"
      ],
      "execution_count": 9,
      "outputs": []
    },
    {
      "cell_type": "code",
      "metadata": {
        "id": "Qen2McONmyCD"
      },
      "source": [
        "train_dataloader = DataLoader(train_samples, batch_size=batch_size)\r\n",
        "ir_evaluator = evaluation.InformationRetrievalEvaluator(dev_queries, dev_corpus, dev_rel_docs, name='czywiesz')"
      ],
      "execution_count": 10,
      "outputs": []
    },
    {
      "cell_type": "markdown",
      "metadata": {
        "id": "4RuJzCJJmyCE"
      },
      "source": [
        "Prepare additional dev set"
      ]
    },
    {
      "cell_type": "code",
      "metadata": {
        "colab": {
          "base_uri": "https://localhost:8080/",
          "height": 206
        },
        "id": "W37SrGzMmyCG",
        "outputId": "ef63c8e3-8963-46bf-cd17-a13614f520c4"
      },
      "source": [
        "cds = pd.read_csv('/content/drive/MyDrive/Polish CDSCorpus/dataset_1000.csv', sep='\\t')\r\n",
        "cds.head()"
      ],
      "execution_count": 11,
      "outputs": [
        {
          "output_type": "execute_result",
          "data": {
            "text/html": [
              "<div>\n",
              "<style scoped>\n",
              "    .dataframe tbody tr th:only-of-type {\n",
              "        vertical-align: middle;\n",
              "    }\n",
              "\n",
              "    .dataframe tbody tr th {\n",
              "        vertical-align: top;\n",
              "    }\n",
              "\n",
              "    .dataframe thead th {\n",
              "        text-align: right;\n",
              "    }\n",
              "</style>\n",
              "<table border=\"1\" class=\"dataframe\">\n",
              "  <thead>\n",
              "    <tr style=\"text-align: right;\">\n",
              "      <th></th>\n",
              "      <th>ID</th>\n",
              "      <th>A</th>\n",
              "      <th>B</th>\n",
              "      <th>RE</th>\n",
              "      <th>round(RE)</th>\n",
              "      <th>A_wrt_B</th>\n",
              "      <th>B_wrt_A</th>\n",
              "    </tr>\n",
              "  </thead>\n",
              "  <tbody>\n",
              "    <tr>\n",
              "      <th>0</th>\n",
              "      <td>1</td>\n",
              "      <td>Zawodnik na boisku ze skórzaną rękawicą robi w...</td>\n",
              "      <td>Mężczyzna w sportowym stroju stoi na ugiętej n...</td>\n",
              "      <td>2.17</td>\n",
              "      <td>2</td>\n",
              "      <td>neutral</td>\n",
              "      <td>neutral</td>\n",
              "    </tr>\n",
              "    <tr>\n",
              "      <th>1</th>\n",
              "      <td>2</td>\n",
              "      <td>Zawodnik na boisku ze skórzaną rękawicą robi w...</td>\n",
              "      <td>Wykrok w przód jest robiony na piasku na boisk...</td>\n",
              "      <td>5.00</td>\n",
              "      <td>5</td>\n",
              "      <td>entailment</td>\n",
              "      <td>entailment</td>\n",
              "    </tr>\n",
              "    <tr>\n",
              "      <th>2</th>\n",
              "      <td>3</td>\n",
              "      <td>Zawodnik na boisku ze skórzaną rękawicą robi w...</td>\n",
              "      <td>Mężczyzna w sportowym stroju stoi na nodze, kt...</td>\n",
              "      <td>2.50</td>\n",
              "      <td>3</td>\n",
              "      <td>neutral</td>\n",
              "      <td>neutral</td>\n",
              "    </tr>\n",
              "    <tr>\n",
              "      <th>3</th>\n",
              "      <td>4</td>\n",
              "      <td>Zawodnik na boisku ze skórzaną rękawicą robi w...</td>\n",
              "      <td>Chłopak w czerwonych butach stoi na boisku z u...</td>\n",
              "      <td>1.50</td>\n",
              "      <td>2</td>\n",
              "      <td>neutral</td>\n",
              "      <td>neutral</td>\n",
              "    </tr>\n",
              "    <tr>\n",
              "      <th>4</th>\n",
              "      <td>5</td>\n",
              "      <td>Zawodnik na boisku ze skórzaną rękawicą robi w...</td>\n",
              "      <td>Osoba wykonuje skok przez przeszkodę na jasnob...</td>\n",
              "      <td>0.00</td>\n",
              "      <td>0</td>\n",
              "      <td>neutral</td>\n",
              "      <td>neutral</td>\n",
              "    </tr>\n",
              "  </tbody>\n",
              "</table>\n",
              "</div>"
            ],
            "text/plain": [
              "   ID  ...     B_wrt_A\n",
              "0   1  ...     neutral\n",
              "1   2  ...  entailment\n",
              "2   3  ...     neutral\n",
              "3   4  ...     neutral\n",
              "4   5  ...     neutral\n",
              "\n",
              "[5 rows x 7 columns]"
            ]
          },
          "metadata": {
            "tags": []
          },
          "execution_count": 11
        }
      ]
    },
    {
      "cell_type": "code",
      "metadata": {
        "id": "QBI6vl4WmyCJ"
      },
      "source": [
        "cds_samples = []\r\n",
        "for index, row in cds.iterrows():\r\n",
        "  score = float(row['RE']) / 5.0\r\n",
        "  cds_samples.append(InputExample(texts=[row['A'], row['B']], label=score))"
      ],
      "execution_count": 12,
      "outputs": []
    },
    {
      "cell_type": "code",
      "metadata": {
        "id": "tvc07t9BmyCK"
      },
      "source": [
        "emb_evaluator = evaluation.EmbeddingSimilarityEvaluator.from_input_examples(cds_samples, name='cds')"
      ],
      "execution_count": 13,
      "outputs": []
    },
    {
      "cell_type": "markdown",
      "metadata": {
        "id": "uDYSzqHOmyCM"
      },
      "source": [
        "Load model"
      ]
    },
    {
      "cell_type": "code",
      "metadata": {
        "colab": {
          "base_uri": "https://localhost:8080/"
        },
        "id": "6PeJqcqKmyCO",
        "outputId": "e4803936-d620-44b9-8c84-ec08c6ca0fc0"
      },
      "source": [
        "model = SentenceTransformer(model_name)"
      ],
      "execution_count": 14,
      "outputs": [
        {
          "output_type": "stream",
          "text": [
            "2021-01-25 08:28:27 - Load pretrained SentenceTransformer: paraphrase-xlm-r-multilingual-v1\n",
            "2021-01-25 08:28:27 - Did not find folder paraphrase-xlm-r-multilingual-v1\n",
            "2021-01-25 08:28:27 - Try to download model from server: https://sbert.net/models/paraphrase-xlm-r-multilingual-v1.zip\n",
            "2021-01-25 08:28:27 - Load SentenceTransformer from folder: /root/.cache/torch/sentence_transformers/sbert.net_models_paraphrase-xlm-r-multilingual-v1\n",
            "2021-01-25 08:28:36 - Use pytorch device: cuda\n"
          ],
          "name": "stdout"
        }
      ]
    },
    {
      "cell_type": "code",
      "metadata": {
        "id": "3ui8y6WJnJGV"
      },
      "source": [
        "model.max_seq_length = max_seq_length"
      ],
      "execution_count": 15,
      "outputs": []
    },
    {
      "cell_type": "markdown",
      "metadata": {
        "id": "R5PqfzjEmyCP"
      },
      "source": [
        "Train"
      ]
    },
    {
      "cell_type": "code",
      "metadata": {
        "colab": {
          "base_uri": "https://localhost:8080/",
          "height": 81,
          "referenced_widgets": [
            "849798496f134936ae398715a49deb14",
            "8a5723c9ff3047bcb75b5cbe1987f422",
            "e510b0595bbd4a03b3d020678363f7a0",
            "2670812a865f45d387b45af950fd5171",
            "79700f5cd44442cb899c98af4dfe9cf7",
            "40f05421336146249db29e6c696479e1",
            "afa78cedc4db4b55a6b6b9819e0ff947",
            "f701ca82b0f9454b8c926997833b6431",
            "a8b839b25a0b498aa1ac55745592126d",
            "03f770f1c80645dbb39b2e41a01b9c86",
            "bf5f8b8bf35c45f69f188006fa0a56db",
            "c35d42e6277b4a7896ee544c71d9976b",
            "c302486d229e4282ab5be4283be613f5",
            "4e56e5423a4b42f0babc47694f6936ad",
            "5743a7b205be4afaabd5e22f1a27777a",
            "487efbf5985b45328ad84e22236a89cd"
          ]
        },
        "id": "K1IVom5amyCQ",
        "outputId": "3e970c68-e238-4f3f-9605-1cba8d8a7109"
      },
      "source": [
        "train_loss = losses.MultipleNegativesRankingLoss(model=model)\r\n",
        "warmup_steps = math.ceil(len(train_dataloader) * num_epochs  * 0.1) #10% of train data for warm-up\r\n",
        "\r\n",
        "model.fit(train_objectives=[(train_dataloader, train_loss)],\r\n",
        "          evaluator=emb_evaluator,\r\n",
        "          epochs=num_epochs,\r\n",
        "          evaluation_steps=1000,\r\n",
        "          warmup_steps=warmup_steps,\r\n",
        "          output_path=model_save_path,\r\n",
        "          use_amp=True\r\n",
        "          )"
      ],
      "execution_count": null,
      "outputs": [
        {
          "output_type": "display_data",
          "data": {
            "application/vnd.jupyter.widget-view+json": {
              "model_id": "849798496f134936ae398715a49deb14",
              "version_minor": 0,
              "version_major": 2
            },
            "text/plain": [
              "HBox(children=(FloatProgress(value=0.0, description='Epoch', max=5.0, style=ProgressStyle(description_width='i…"
            ]
          },
          "metadata": {
            "tags": []
          }
        },
        {
          "output_type": "display_data",
          "data": {
            "application/vnd.jupyter.widget-view+json": {
              "model_id": "a8b839b25a0b498aa1ac55745592126d",
              "version_minor": 0,
              "version_major": 2
            },
            "text/plain": [
              "HBox(children=(FloatProgress(value=0.0, description='Iteration', max=250.0, style=ProgressStyle(description_wi…"
            ]
          },
          "metadata": {
            "tags": []
          }
        }
      ]
    },
    {
      "cell_type": "code",
      "metadata": {
        "id": "i8bo1GnhmyCT"
      },
      "source": [
        "!mkdir /content/drive/MyDrive/models/czywiesz-bi-encoder\r\n",
        "!cp -r /content/output/czywiesz-bi-encoder-paraphrase-xlm-r-multilingual-v1-2021-01-24_21-20-22 /content/drive/MyDrive/models/czywiesz-bi-encoder"
      ],
      "execution_count": null,
      "outputs": []
    },
    {
      "cell_type": "code",
      "metadata": {
        "id": "Tp1MMnmYmxk5"
      },
      "source": [
        ""
      ],
      "execution_count": null,
      "outputs": []
    },
    {
      "cell_type": "markdown",
      "metadata": {
        "id": "9JHgduUSOUa5"
      },
      "source": [
        "# Bi-encoder - CDS, Czy wiesz?"
      ]
    },
    {
      "cell_type": "markdown",
      "metadata": {
        "id": "4OOkZFJpWrxB"
      },
      "source": [
        "Parameters"
      ]
    },
    {
      "cell_type": "code",
      "metadata": {
        "id": "52Z2OazbWrxD"
      },
      "source": [
        "#You can specify any huggingface/transformers pre-trained model here, for example, bert-base-uncased, roberta-base, xlm-roberta-base\r\n",
        "model_name = '/content/drive/MyDrive/models/cds-bi-encoder/cds-bi-encoder-paraphrase-xlm-r-multilingual-v1-2021-01-24_20-05-32'\r\n",
        "batch_size = 64\r\n",
        "num_epochs = 5\r\n",
        "max_seq_length = 128\r\n",
        "use_cuda = torch.cuda.is_available()\r\n",
        "model_save_path = 'output/cds-czywiesz-bi-encoder-'+model_name.replace(\"/\", \"-\")+'-'+datetime.now().strftime(\"%Y-%m-%d_%H-%M-%S\")"
      ],
      "execution_count": null,
      "outputs": []
    },
    {
      "cell_type": "markdown",
      "metadata": {
        "id": "9p_JrxjlWrxE"
      },
      "source": [
        "Load dataset"
      ]
    },
    {
      "cell_type": "code",
      "metadata": {
        "colab": {
          "base_uri": "https://localhost:8080/",
          "height": 310
        },
        "id": "hrQ85K6bWrxE",
        "outputId": "cf03a57f-20e2-4347-bec5-283cef2821b5"
      },
      "source": [
        "full = pd.read_csv('/content/drive/MyDrive/czywieszki/answers.csv')\r\n",
        "full.drop(columns=['Unnamed: 0', 'Unnamed: 0.1'], inplace=True)\r\n",
        "full.head()"
      ],
      "execution_count": null,
      "outputs": [
        {
          "output_type": "execute_result",
          "data": {
            "text/html": [
              "<div>\n",
              "<style scoped>\n",
              "    .dataframe tbody tr th:only-of-type {\n",
              "        vertical-align: middle;\n",
              "    }\n",
              "\n",
              "    .dataframe tbody tr th {\n",
              "        vertical-align: top;\n",
              "    }\n",
              "\n",
              "    .dataframe thead th {\n",
              "        text-align: right;\n",
              "    }\n",
              "</style>\n",
              "<table border=\"1\" class=\"dataframe\">\n",
              "  <thead>\n",
              "    <tr style=\"text-align: right;\">\n",
              "      <th></th>\n",
              "      <th>id</th>\n",
              "      <th>url</th>\n",
              "      <th>title</th>\n",
              "      <th>text</th>\n",
              "      <th>question</th>\n",
              "      <th>sentence</th>\n",
              "      <th>answer</th>\n",
              "    </tr>\n",
              "  </thead>\n",
              "  <tbody>\n",
              "    <tr>\n",
              "      <th>0</th>\n",
              "      <td>2070375</td>\n",
              "      <td>http://pl.wikipedia.org/wiki/?curid=2070375</td>\n",
              "      <td>R136a1</td>\n",
              "      <td>R136a1 – gwiazda Wolfa-Rayeta typu widmowego W...</td>\n",
              "      <td>gdzie zaobserwowano najmasywniejszą znaną gwia...</td>\n",
              "      <td>['R136a1 – gwiazda Wolfa-Rayeta typu widmowego...</td>\n",
              "      <td>Na uzyskanych dzięki niemu zdjęciach można był...</td>\n",
              "    </tr>\n",
              "    <tr>\n",
              "      <th>1</th>\n",
              "      <td>2070656</td>\n",
              "      <td>http://pl.wikipedia.org/wiki/?curid=2070656</td>\n",
              "      <td>Apoteoza wojny</td>\n",
              "      <td>Apoteoza wojny (oryg. ros. Апофеоз войны, \"Apo...</td>\n",
              "      <td>komu Wasilij Wierieszczagin zadedykował swój o...</td>\n",
              "      <td>['Апофеоз войны, \"Apofieoz wojny\") – obraz Was...</td>\n",
              "      <td>Апофеоз войны, \"Apofieoz wojny\") – obraz Wasil...</td>\n",
              "    </tr>\n",
              "    <tr>\n",
              "      <th>2</th>\n",
              "      <td>2070790</td>\n",
              "      <td>http://pl.wikipedia.org/wiki/?curid=2070790</td>\n",
              "      <td>Widzenie chłopca Bartłomieja</td>\n",
              "      <td>Widzenie chłopca Bartłomieja (oryg. ros. \"Виде...</td>\n",
              "      <td>który święty prawosławny został ukazany na obr...</td>\n",
              "      <td>['\"Видение отроку Варфоломею\") – obraz Michaił...</td>\n",
              "      <td>Niestierow pragnął swoimi dziełami oddać hołd ...</td>\n",
              "    </tr>\n",
              "    <tr>\n",
              "      <th>3</th>\n",
              "      <td>2071346</td>\n",
              "      <td>http://pl.wikipedia.org/wiki/?curid=2071346</td>\n",
              "      <td>Cangjang Gjaco</td>\n",
              "      <td>Cangjang Gjaco (tyb. ཚང་དབྱངས་རྒྱ་མཚོ་ Wylie: ...</td>\n",
              "      <td>któremu dalajlamie przypisuje się nieśmierteln...</td>\n",
              "      <td>['ཚང་དབྱངས་རྒྱ་མཚོ་ Wylie: \"tshang-dbyangs-rgy...</td>\n",
              "      <td>Wśród świeckich tybetańskich rozpowszechnione ...</td>\n",
              "    </tr>\n",
              "    <tr>\n",
              "      <th>4</th>\n",
              "      <td>2071390</td>\n",
              "      <td>http://pl.wikipedia.org/wiki/?curid=2071390</td>\n",
              "      <td>Wojna erytrejsko-etiopska</td>\n",
              "      <td>Wojna erytrejsko-etiopska trwała w latach 1998...</td>\n",
              "      <td>jakie były skutki wojny erytrejsko-etiopskiej?</td>\n",
              "      <td>['Wojna erytrejsko-etiopska trwała w latach 19...</td>\n",
              "      <td>W wyniku działań wojsk etiopskich do przesiedl...</td>\n",
              "    </tr>\n",
              "  </tbody>\n",
              "</table>\n",
              "</div>"
            ],
            "text/plain": [
              "        id  ...                                             answer\n",
              "0  2070375  ...  Na uzyskanych dzięki niemu zdjęciach można był...\n",
              "1  2070656  ...  Апофеоз войны, \"Apofieoz wojny\") – obraz Wasil...\n",
              "2  2070790  ...  Niestierow pragnął swoimi dziełami oddać hołd ...\n",
              "3  2071346  ...  Wśród świeckich tybetańskich rozpowszechnione ...\n",
              "4  2071390  ...  W wyniku działań wojsk etiopskich do przesiedl...\n",
              "\n",
              "[5 rows x 7 columns]"
            ]
          },
          "metadata": {
            "tags": []
          },
          "execution_count": 5
        }
      ]
    },
    {
      "cell_type": "markdown",
      "metadata": {
        "id": "2k8QO3dAWrxF"
      },
      "source": [
        "Prepare input examples"
      ]
    },
    {
      "cell_type": "code",
      "metadata": {
        "id": "4vbHSQ_DWrxG"
      },
      "source": [
        "questions = full['question'].tolist()\r\n",
        "answers = full['answer'].tolist()"
      ],
      "execution_count": null,
      "outputs": []
    },
    {
      "cell_type": "markdown",
      "metadata": {
        "id": "jwNzd0VhWrxH"
      },
      "source": [
        "Divide examples into dev and train sets"
      ]
    },
    {
      "cell_type": "code",
      "metadata": {
        "id": "64PnzWmVWrxH"
      },
      "source": [
        "train_questions, dev_questions = questions[:4000], questions[4000:]\r\n",
        "train_answers, dev_answers = answers[:4000], answers[4000:]"
      ],
      "execution_count": null,
      "outputs": []
    },
    {
      "cell_type": "code",
      "metadata": {
        "id": "xKU2lgP2WrxH"
      },
      "source": [
        "train_samples = []\r\n",
        "for q, a in zip(train_questions, train_answers):\r\n",
        "  sample = InputExample(texts=[q, a])\r\n",
        "  train_samples.append(sample)"
      ],
      "execution_count": null,
      "outputs": []
    },
    {
      "cell_type": "code",
      "metadata": {
        "id": "hp4OcvHvWrxI"
      },
      "source": [
        "dev_queries = {}\r\n",
        "dev_corpus = {}\r\n",
        "dev_rel_docs = {}\r\n",
        "\r\n",
        "for i in range(len(dev_questions)):\r\n",
        "  idx = str(i)\r\n",
        "  dev_queries[idx] = dev_questions[i]\r\n",
        "  dev_corpus[idx] = dev_answers[i]\r\n",
        "  dev_rel_docs[idx] = {idx}"
      ],
      "execution_count": null,
      "outputs": []
    },
    {
      "cell_type": "code",
      "metadata": {
        "id": "EooCzfgDWrxI"
      },
      "source": [
        "train_dataloader = DataLoader(train_samples, batch_size=batch_size)\r\n",
        "ir_evaluator = evaluation.InformationRetrievalEvaluator(dev_queries, dev_corpus, dev_rel_docs, name='czywiesz')"
      ],
      "execution_count": null,
      "outputs": []
    },
    {
      "cell_type": "markdown",
      "metadata": {
        "id": "QXaNJmyWWrxI"
      },
      "source": [
        "Prepare additional dev set"
      ]
    },
    {
      "cell_type": "code",
      "metadata": {
        "colab": {
          "base_uri": "https://localhost:8080/",
          "height": 206
        },
        "id": "MTmvYSsoWrxJ",
        "outputId": "3637535a-c118-402a-88a0-ba2e34f62c6a"
      },
      "source": [
        "cds = pd.read_csv('/content/drive/MyDrive/Polish CDSCorpus/dataset_1000.csv', sep='\\t')\r\n",
        "cds.head()"
      ],
      "execution_count": null,
      "outputs": [
        {
          "output_type": "execute_result",
          "data": {
            "text/html": [
              "<div>\n",
              "<style scoped>\n",
              "    .dataframe tbody tr th:only-of-type {\n",
              "        vertical-align: middle;\n",
              "    }\n",
              "\n",
              "    .dataframe tbody tr th {\n",
              "        vertical-align: top;\n",
              "    }\n",
              "\n",
              "    .dataframe thead th {\n",
              "        text-align: right;\n",
              "    }\n",
              "</style>\n",
              "<table border=\"1\" class=\"dataframe\">\n",
              "  <thead>\n",
              "    <tr style=\"text-align: right;\">\n",
              "      <th></th>\n",
              "      <th>ID</th>\n",
              "      <th>A</th>\n",
              "      <th>B</th>\n",
              "      <th>RE</th>\n",
              "      <th>round(RE)</th>\n",
              "      <th>A_wrt_B</th>\n",
              "      <th>B_wrt_A</th>\n",
              "    </tr>\n",
              "  </thead>\n",
              "  <tbody>\n",
              "    <tr>\n",
              "      <th>0</th>\n",
              "      <td>1</td>\n",
              "      <td>Zawodnik na boisku ze skórzaną rękawicą robi w...</td>\n",
              "      <td>Mężczyzna w sportowym stroju stoi na ugiętej n...</td>\n",
              "      <td>2.17</td>\n",
              "      <td>2</td>\n",
              "      <td>neutral</td>\n",
              "      <td>neutral</td>\n",
              "    </tr>\n",
              "    <tr>\n",
              "      <th>1</th>\n",
              "      <td>2</td>\n",
              "      <td>Zawodnik na boisku ze skórzaną rękawicą robi w...</td>\n",
              "      <td>Wykrok w przód jest robiony na piasku na boisk...</td>\n",
              "      <td>5.00</td>\n",
              "      <td>5</td>\n",
              "      <td>entailment</td>\n",
              "      <td>entailment</td>\n",
              "    </tr>\n",
              "    <tr>\n",
              "      <th>2</th>\n",
              "      <td>3</td>\n",
              "      <td>Zawodnik na boisku ze skórzaną rękawicą robi w...</td>\n",
              "      <td>Mężczyzna w sportowym stroju stoi na nodze, kt...</td>\n",
              "      <td>2.50</td>\n",
              "      <td>3</td>\n",
              "      <td>neutral</td>\n",
              "      <td>neutral</td>\n",
              "    </tr>\n",
              "    <tr>\n",
              "      <th>3</th>\n",
              "      <td>4</td>\n",
              "      <td>Zawodnik na boisku ze skórzaną rękawicą robi w...</td>\n",
              "      <td>Chłopak w czerwonych butach stoi na boisku z u...</td>\n",
              "      <td>1.50</td>\n",
              "      <td>2</td>\n",
              "      <td>neutral</td>\n",
              "      <td>neutral</td>\n",
              "    </tr>\n",
              "    <tr>\n",
              "      <th>4</th>\n",
              "      <td>5</td>\n",
              "      <td>Zawodnik na boisku ze skórzaną rękawicą robi w...</td>\n",
              "      <td>Osoba wykonuje skok przez przeszkodę na jasnob...</td>\n",
              "      <td>0.00</td>\n",
              "      <td>0</td>\n",
              "      <td>neutral</td>\n",
              "      <td>neutral</td>\n",
              "    </tr>\n",
              "  </tbody>\n",
              "</table>\n",
              "</div>"
            ],
            "text/plain": [
              "   ID  ...     B_wrt_A\n",
              "0   1  ...     neutral\n",
              "1   2  ...  entailment\n",
              "2   3  ...     neutral\n",
              "3   4  ...     neutral\n",
              "4   5  ...     neutral\n",
              "\n",
              "[5 rows x 7 columns]"
            ]
          },
          "metadata": {
            "tags": []
          },
          "execution_count": 11
        }
      ]
    },
    {
      "cell_type": "code",
      "metadata": {
        "id": "qej3ceMFWrxK"
      },
      "source": [
        "cds_samples = []\r\n",
        "for index, row in cds.iterrows():\r\n",
        "  score = float(row['RE']) / 5.0\r\n",
        "  cds_samples.append(InputExample(texts=[row['A'], row['B']], label=score))"
      ],
      "execution_count": null,
      "outputs": []
    },
    {
      "cell_type": "code",
      "metadata": {
        "id": "_d7eh1LzWrxK"
      },
      "source": [
        "emb_evaluator = evaluation.EmbeddingSimilarityEvaluator.from_input_examples(cds_samples, name='cds')"
      ],
      "execution_count": null,
      "outputs": []
    },
    {
      "cell_type": "markdown",
      "metadata": {
        "id": "FlTJOzMkWrxK"
      },
      "source": [
        "Load model"
      ]
    },
    {
      "cell_type": "code",
      "metadata": {
        "colab": {
          "base_uri": "https://localhost:8080/"
        },
        "id": "Qc21fKghWrxL",
        "outputId": "796b29ac-ab04-4412-bcc9-d9486e6a7c13"
      },
      "source": [
        "model = SentenceTransformer(model_name)"
      ],
      "execution_count": null,
      "outputs": [
        {
          "output_type": "stream",
          "text": [
            "2021-01-24 22:01:42 - Load pretrained SentenceTransformer: /content/drive/MyDrive/models/cds-bi-encoder/cds-bi-encoder-paraphrase-xlm-r-multilingual-v1-2021-01-24_20-05-32\n",
            "2021-01-24 22:01:42 - Load SentenceTransformer from folder: /content/drive/MyDrive/models/cds-bi-encoder/cds-bi-encoder-paraphrase-xlm-r-multilingual-v1-2021-01-24_20-05-32\n",
            "2021-01-24 22:01:51 - Use pytorch device: cuda\n"
          ],
          "name": "stdout"
        }
      ]
    },
    {
      "cell_type": "markdown",
      "metadata": {
        "id": "y-wxtqKSWrxL"
      },
      "source": [
        "Train"
      ]
    },
    {
      "cell_type": "code",
      "metadata": {
        "colab": {
          "base_uri": "https://localhost:8080/",
          "height": 864,
          "referenced_widgets": [
            "4da427023e744b34bcd279ca8bddf43e",
            "c2002b1f2a354941a87bac308ce4cc80",
            "65c684404ec84014a72b7d8a0a739d4d",
            "7fb47bf97bf24dcfad6bdfd8ab3da9e1",
            "153ae06080f1446393cb777163cf7546",
            "1fbbb2b47c094651b3846c5ff5e94d6e",
            "1eaae17c71784f56979ab96c58f84aaf",
            "67926704ac3e425f865f693d23956f58",
            "f1e534fae8724b69b87e002b21006444",
            "6051d54c965a40aea1f81cd9b651b11b",
            "eebfd44ddc8645c5ba796e78daef83db",
            "eb8b0ca3f6f34feca775cbf4e8f8f796",
            "81f6fc8264644cc385bed19024d528d9",
            "ade6bf392a924f05906a9e2174db0c73",
            "aec48c1f79f0473aad15f92aed598ec5",
            "dfa3f470f50142a7aa2f28cd78228188",
            "a7ebdc4e40ee4fafa3db9a1b8c3cc829",
            "2ffdc7ded798421e8accba5042aea26f",
            "880087eeeb684bfcab55db4ca6c6b6b6",
            "7f846bedf56e466ea49cbacbc387de80",
            "a238e5e4cbe345a98515e52d0effdfcc",
            "82824de9cce1406eb638e9c8f611b225",
            "5fb7a98846e049d5b9eb05ff3747745a",
            "f3de4a51597c44758c5a709786ff7051",
            "e0204fd6caeb4087b5ea2b97eb15996f",
            "76a5a196d10347e1ab182aa5d934464a",
            "4eea2ca897e54aa5953df2cad265ea70",
            "e660a360484a4038b616c0f0e325b56a",
            "21e44e378e34402696b545c0e11d3b50",
            "a68ebf3e157b4af19c995286f0b51352",
            "d41a597a0d094086948e354c994142d3",
            "b375ec961a824f199348ba7f718eca64",
            "78c75cd059c9452c86fa06e443cabd12",
            "65ae54e22f734c8eae6cbaca8fa4a5c2",
            "7a59d1b87ebe4ab39588134156f738b2",
            "808238c9d61446d3b415f07b0eac01e3",
            "dd20ba9eaa3f4da08b50bcf68c6fc724",
            "e257453575cf4d0fb0c030d02e0a04bd",
            "6653d0a696b44c0185c7b4c1b920c564",
            "c5908df60cc7437a8da800f042a37811",
            "dad16b2c273640d2bcf4c3f484466126",
            "60b538bac43740aa8fd4d276769556e4",
            "a6e9123818664757bc84eff04e53370f",
            "05ea603ceaca415eb1ad81cc3dc5ab42",
            "ad6c0c962de84ce49f35728534c97eb0",
            "2d467684ac624bdfbb99eb6a64317ae5",
            "0aafbcb4b58e4bf081a8997b435b829c",
            "11880efd707d4657b1c0d1d7e90551f1"
          ]
        },
        "id": "IS8QzoLtWrxL",
        "outputId": "9debd586-c13f-4ee0-cd3f-2033bcfb6bc6"
      },
      "source": [
        "train_loss = losses.MultipleNegativesRankingLoss(model=model)\r\n",
        "warmup_steps = math.ceil(len(train_dataloader) * num_epochs  * 0.1) #10% of train data for warm-up\r\n",
        "\r\n",
        "model.fit(train_objectives=[(train_dataloader, train_loss)],\r\n",
        "          evaluator=emb_evaluator,\r\n",
        "          epochs=num_epochs,\r\n",
        "          evaluation_steps=1000,\r\n",
        "          warmup_steps=warmup_steps,\r\n",
        "          output_path=model_save_path,\r\n",
        "          use_amp=True\r\n",
        "          )"
      ],
      "execution_count": null,
      "outputs": [
        {
          "output_type": "display_data",
          "data": {
            "application/vnd.jupyter.widget-view+json": {
              "model_id": "4da427023e744b34bcd279ca8bddf43e",
              "version_minor": 0,
              "version_major": 2
            },
            "text/plain": [
              "HBox(children=(FloatProgress(value=0.0, description='Epoch', max=5.0, style=ProgressStyle(description_width='i…"
            ]
          },
          "metadata": {
            "tags": []
          }
        },
        {
          "output_type": "display_data",
          "data": {
            "application/vnd.jupyter.widget-view+json": {
              "model_id": "f1e534fae8724b69b87e002b21006444",
              "version_minor": 0,
              "version_major": 2
            },
            "text/plain": [
              "HBox(children=(FloatProgress(value=0.0, description='Iteration', max=63.0, style=ProgressStyle(description_wid…"
            ]
          },
          "metadata": {
            "tags": []
          }
        },
        {
          "output_type": "stream",
          "text": [
            "\n",
            "2021-01-24 22:02:44 - EmbeddingSimilarityEvaluator: Evaluating the model on cds dataset after epoch 0:\n",
            "2021-01-24 22:02:48 - Cosine-Similarity :\tPearson: 0.9346\tSpearman: 0.9343\n",
            "2021-01-24 22:02:48 - Manhattan-Distance:\tPearson: 0.9246\tSpearman: 0.9349\n",
            "2021-01-24 22:02:48 - Euclidean-Distance:\tPearson: 0.9246\tSpearman: 0.9356\n",
            "2021-01-24 22:02:48 - Dot-Product-Similarity:\tPearson: 0.9199\tSpearman: 0.9186\n",
            "2021-01-24 22:02:48 - Save model to output/cds-czywiesz-bi-encoder--content-drive-MyDrive-models-cds-bi-encoder-cds-bi-encoder-paraphrase-xlm-r-multilingual-v1-2021-01-24_20-05-32-2021-01-24_22-00-53\n"
          ],
          "name": "stdout"
        },
        {
          "output_type": "display_data",
          "data": {
            "application/vnd.jupyter.widget-view+json": {
              "model_id": "a7ebdc4e40ee4fafa3db9a1b8c3cc829",
              "version_minor": 0,
              "version_major": 2
            },
            "text/plain": [
              "HBox(children=(FloatProgress(value=0.0, description='Iteration', max=63.0, style=ProgressStyle(description_wid…"
            ]
          },
          "metadata": {
            "tags": []
          }
        },
        {
          "output_type": "stream",
          "text": [
            "\n",
            "2021-01-24 22:03:42 - EmbeddingSimilarityEvaluator: Evaluating the model on cds dataset after epoch 1:\n",
            "2021-01-24 22:03:46 - Cosine-Similarity :\tPearson: 0.9349\tSpearman: 0.9360\n",
            "2021-01-24 22:03:46 - Manhattan-Distance:\tPearson: 0.9271\tSpearman: 0.9363\n",
            "2021-01-24 22:03:46 - Euclidean-Distance:\tPearson: 0.9268\tSpearman: 0.9362\n",
            "2021-01-24 22:03:46 - Dot-Product-Similarity:\tPearson: 0.9197\tSpearman: 0.9186\n",
            "2021-01-24 22:03:46 - Save model to output/cds-czywiesz-bi-encoder--content-drive-MyDrive-models-cds-bi-encoder-cds-bi-encoder-paraphrase-xlm-r-multilingual-v1-2021-01-24_20-05-32-2021-01-24_22-00-53\n"
          ],
          "name": "stdout"
        },
        {
          "output_type": "display_data",
          "data": {
            "application/vnd.jupyter.widget-view+json": {
              "model_id": "e0204fd6caeb4087b5ea2b97eb15996f",
              "version_minor": 0,
              "version_major": 2
            },
            "text/plain": [
              "HBox(children=(FloatProgress(value=0.0, description='Iteration', max=63.0, style=ProgressStyle(description_wid…"
            ]
          },
          "metadata": {
            "tags": []
          }
        },
        {
          "output_type": "stream",
          "text": [
            "\n",
            "2021-01-24 22:04:40 - EmbeddingSimilarityEvaluator: Evaluating the model on cds dataset after epoch 2:\n",
            "2021-01-24 22:04:44 - Cosine-Similarity :\tPearson: 0.9359\tSpearman: 0.9366\n",
            "2021-01-24 22:04:44 - Manhattan-Distance:\tPearson: 0.9283\tSpearman: 0.9368\n",
            "2021-01-24 22:04:44 - Euclidean-Distance:\tPearson: 0.9280\tSpearman: 0.9371\n",
            "2021-01-24 22:04:44 - Dot-Product-Similarity:\tPearson: 0.9214\tSpearman: 0.9199\n",
            "2021-01-24 22:04:44 - Save model to output/cds-czywiesz-bi-encoder--content-drive-MyDrive-models-cds-bi-encoder-cds-bi-encoder-paraphrase-xlm-r-multilingual-v1-2021-01-24_20-05-32-2021-01-24_22-00-53\n"
          ],
          "name": "stdout"
        },
        {
          "output_type": "display_data",
          "data": {
            "application/vnd.jupyter.widget-view+json": {
              "model_id": "78c75cd059c9452c86fa06e443cabd12",
              "version_minor": 0,
              "version_major": 2
            },
            "text/plain": [
              "HBox(children=(FloatProgress(value=0.0, description='Iteration', max=63.0, style=ProgressStyle(description_wid…"
            ]
          },
          "metadata": {
            "tags": []
          }
        },
        {
          "output_type": "stream",
          "text": [
            "\n",
            "2021-01-24 22:05:37 - EmbeddingSimilarityEvaluator: Evaluating the model on cds dataset after epoch 3:\n",
            "2021-01-24 22:05:41 - Cosine-Similarity :\tPearson: 0.9351\tSpearman: 0.9358\n",
            "2021-01-24 22:05:41 - Manhattan-Distance:\tPearson: 0.9278\tSpearman: 0.9361\n",
            "2021-01-24 22:05:41 - Euclidean-Distance:\tPearson: 0.9273\tSpearman: 0.9363\n",
            "2021-01-24 22:05:41 - Dot-Product-Similarity:\tPearson: 0.9203\tSpearman: 0.9187\n"
          ],
          "name": "stdout"
        },
        {
          "output_type": "display_data",
          "data": {
            "application/vnd.jupyter.widget-view+json": {
              "model_id": "dad16b2c273640d2bcf4c3f484466126",
              "version_minor": 0,
              "version_major": 2
            },
            "text/plain": [
              "HBox(children=(FloatProgress(value=0.0, description='Iteration', max=63.0, style=ProgressStyle(description_wid…"
            ]
          },
          "metadata": {
            "tags": []
          }
        },
        {
          "output_type": "stream",
          "text": [
            "\n",
            "2021-01-24 22:06:29 - EmbeddingSimilarityEvaluator: Evaluating the model on cds dataset after epoch 4:\n",
            "2021-01-24 22:06:33 - Cosine-Similarity :\tPearson: 0.9350\tSpearman: 0.9357\n",
            "2021-01-24 22:06:33 - Manhattan-Distance:\tPearson: 0.9278\tSpearman: 0.9361\n",
            "2021-01-24 22:06:33 - Euclidean-Distance:\tPearson: 0.9273\tSpearman: 0.9363\n",
            "2021-01-24 22:06:33 - Dot-Product-Similarity:\tPearson: 0.9202\tSpearman: 0.9186\n",
            "\n"
          ],
          "name": "stdout"
        }
      ]
    },
    {
      "cell_type": "code",
      "metadata": {
        "id": "j2WlLHP-Y161"
      },
      "source": [
        "!mkdir /content/drive/MyDrive/models/cds-czywiesz-bi-encoder\r\n",
        "!cp -r /content/output/cds-czywiesz-bi-encoder--content-drive-MyDrive-models-cds-bi-encoder-cds-bi-encoder-paraphrase-xlm-r-multilingual-v1-2021-01-24_20-05-32-2021-01-24_22-00-53 /content/drive/MyDrive/models/cds-czywiesz-bi-encoder"
      ],
      "execution_count": null,
      "outputs": []
    },
    {
      "cell_type": "markdown",
      "metadata": {
        "id": "NqHYjvZnXvEQ"
      },
      "source": [
        "Evaluate on Information Retrieval"
      ]
    },
    {
      "cell_type": "code",
      "metadata": {
        "colab": {
          "base_uri": "https://localhost:8080/"
        },
        "id": "oBLDNZ7UXTZO",
        "outputId": "d26feb60-d708-4f7e-8ad5-a659238f5785"
      },
      "source": [
        "output_path = '/content/drive/MyDrive/models/cds-czywiesz-bi-encoder/cds-czywiesz-bi-encoder--content-drive-MyDrive-models-cds-bi-encoder-cds-bi-encoder-paraphrase-xlm-r-multilingual-v1-2021-01-24_20-05-32-2021-01-24_22-00-53/Information-Retrieval_evaluation_czywiesz_results.csv'\r\n",
        "model.evaluate(ir_evaluator, output_path=output_path)"
      ],
      "execution_count": null,
      "outputs": [
        {
          "output_type": "stream",
          "text": [
            "2021-01-24 22:07:34 - Information Retrieval Evaluation on czywiesz dataset:\n",
            "2021-01-24 22:07:39 - Accuracy@1: 94.61%\n",
            "2021-01-24 22:07:39 - Accuracy@3: 97.43%\n",
            "2021-01-24 22:07:39 - Accuracy@5: 98.04%\n",
            "2021-01-24 22:07:39 - Accuracy@10: 98.53%\n",
            "2021-01-24 22:07:39 - Precision@1: 94.61%\n",
            "2021-01-24 22:07:39 - Precision@3: 32.48%\n",
            "2021-01-24 22:07:39 - Precision@5: 19.61%\n",
            "2021-01-24 22:07:39 - Precision@10: 9.85%\n",
            "2021-01-24 22:07:39 - Recall@1: 94.61%\n",
            "2021-01-24 22:07:39 - Recall@3: 97.43%\n",
            "2021-01-24 22:07:39 - Recall@5: 98.04%\n",
            "2021-01-24 22:07:39 - Recall@10: 98.53%\n",
            "2021-01-24 22:07:39 - MRR@10: 0.9612\n",
            "2021-01-24 22:07:39 - NDCG@10: 0.9672\n",
            "2021-01-24 22:07:39 - MAP@100: 0.9616\n",
            "2021-01-24 22:07:39 - Queries: 817\n",
            "2021-01-24 22:07:39 - Corpus: 817\n",
            "\n"
          ],
          "name": "stdout"
        },
        {
          "output_type": "execute_result",
          "data": {
            "text/plain": [
              "0.9615763811473294"
            ]
          },
          "metadata": {
            "tags": []
          },
          "execution_count": 17
        }
      ]
    },
    {
      "cell_type": "markdown",
      "metadata": {
        "id": "tOc_xQOFXTZO"
      },
      "source": [
        "Final results"
      ]
    },
    {
      "cell_type": "code",
      "metadata": {
        "colab": {
          "base_uri": "https://localhost:8080/",
          "height": 226
        },
        "id": "ihY7OAgWXTZO",
        "outputId": "032b8d22-67e1-418e-addb-e3081a4c58e8"
      },
      "source": [
        "results = pd.read_csv('/content/drive/MyDrive/models/cds-czywiesz-bi-encoder/cds-czywiesz-bi-encoder--content-drive-MyDrive-models-cds-bi-encoder-cds-bi-encoder-paraphrase-xlm-r-multilingual-v1-2021-01-24_20-05-32-2021-01-24_22-00-53/similarity_evaluation_cds_results.csv')\r\n",
        "results"
      ],
      "execution_count": null,
      "outputs": [
        {
          "output_type": "execute_result",
          "data": {
            "text/html": [
              "<div>\n",
              "<style scoped>\n",
              "    .dataframe tbody tr th:only-of-type {\n",
              "        vertical-align: middle;\n",
              "    }\n",
              "\n",
              "    .dataframe tbody tr th {\n",
              "        vertical-align: top;\n",
              "    }\n",
              "\n",
              "    .dataframe thead th {\n",
              "        text-align: right;\n",
              "    }\n",
              "</style>\n",
              "<table border=\"1\" class=\"dataframe\">\n",
              "  <thead>\n",
              "    <tr style=\"text-align: right;\">\n",
              "      <th></th>\n",
              "      <th>epoch</th>\n",
              "      <th>steps</th>\n",
              "      <th>cosine_pearson</th>\n",
              "      <th>cosine_spearman</th>\n",
              "      <th>euclidean_pearson</th>\n",
              "      <th>euclidean_spearman</th>\n",
              "      <th>manhattan_pearson</th>\n",
              "      <th>manhattan_spearman</th>\n",
              "      <th>dot_pearson</th>\n",
              "      <th>dot_spearman</th>\n",
              "    </tr>\n",
              "  </thead>\n",
              "  <tbody>\n",
              "    <tr>\n",
              "      <th>0</th>\n",
              "      <td>0</td>\n",
              "      <td>-1</td>\n",
              "      <td>0.934637</td>\n",
              "      <td>0.934291</td>\n",
              "      <td>0.924644</td>\n",
              "      <td>0.935605</td>\n",
              "      <td>0.924642</td>\n",
              "      <td>0.934946</td>\n",
              "      <td>0.919902</td>\n",
              "      <td>0.918580</td>\n",
              "    </tr>\n",
              "    <tr>\n",
              "      <th>1</th>\n",
              "      <td>1</td>\n",
              "      <td>-1</td>\n",
              "      <td>0.934929</td>\n",
              "      <td>0.935999</td>\n",
              "      <td>0.926821</td>\n",
              "      <td>0.936227</td>\n",
              "      <td>0.927074</td>\n",
              "      <td>0.936264</td>\n",
              "      <td>0.919666</td>\n",
              "      <td>0.918646</td>\n",
              "    </tr>\n",
              "    <tr>\n",
              "      <th>2</th>\n",
              "      <td>2</td>\n",
              "      <td>-1</td>\n",
              "      <td>0.935879</td>\n",
              "      <td>0.936594</td>\n",
              "      <td>0.927955</td>\n",
              "      <td>0.937089</td>\n",
              "      <td>0.928309</td>\n",
              "      <td>0.936805</td>\n",
              "      <td>0.921432</td>\n",
              "      <td>0.919928</td>\n",
              "    </tr>\n",
              "    <tr>\n",
              "      <th>3</th>\n",
              "      <td>3</td>\n",
              "      <td>-1</td>\n",
              "      <td>0.935097</td>\n",
              "      <td>0.935786</td>\n",
              "      <td>0.927322</td>\n",
              "      <td>0.936316</td>\n",
              "      <td>0.927753</td>\n",
              "      <td>0.936106</td>\n",
              "      <td>0.920311</td>\n",
              "      <td>0.918692</td>\n",
              "    </tr>\n",
              "    <tr>\n",
              "      <th>4</th>\n",
              "      <td>4</td>\n",
              "      <td>-1</td>\n",
              "      <td>0.935031</td>\n",
              "      <td>0.935710</td>\n",
              "      <td>0.927321</td>\n",
              "      <td>0.936266</td>\n",
              "      <td>0.927759</td>\n",
              "      <td>0.936097</td>\n",
              "      <td>0.920194</td>\n",
              "      <td>0.918558</td>\n",
              "    </tr>\n",
              "  </tbody>\n",
              "</table>\n",
              "</div>"
            ],
            "text/plain": [
              "   epoch  steps  cosine_pearson  ...  manhattan_spearman  dot_pearson  dot_spearman\n",
              "0      0     -1        0.934637  ...            0.934946     0.919902      0.918580\n",
              "1      1     -1        0.934929  ...            0.936264     0.919666      0.918646\n",
              "2      2     -1        0.935879  ...            0.936805     0.921432      0.919928\n",
              "3      3     -1        0.935097  ...            0.936106     0.920311      0.918692\n",
              "4      4     -1        0.935031  ...            0.936097     0.920194      0.918558\n",
              "\n",
              "[5 rows x 10 columns]"
            ]
          },
          "metadata": {
            "tags": []
          },
          "execution_count": 18
        }
      ]
    },
    {
      "cell_type": "code",
      "metadata": {
        "colab": {
          "base_uri": "https://localhost:8080/",
          "height": 101
        },
        "id": "tCopDBg8XTZP",
        "outputId": "9cc882df-4f9d-4353-b066-446bc586fc37"
      },
      "source": [
        "results = pd.read_csv('/content/drive/MyDrive/models/cds-czywiesz-bi-encoder/cds-czywiesz-bi-encoder--content-drive-MyDrive-models-cds-bi-encoder-cds-bi-encoder-paraphrase-xlm-r-multilingual-v1-2021-01-24_20-05-32-2021-01-24_22-00-53/Information-Retrieval_evaluation_czywiesz_results.csv/Information-Retrieval_evaluation_czywiesz_results.csv')\r\n",
        "results"
      ],
      "execution_count": null,
      "outputs": [
        {
          "output_type": "execute_result",
          "data": {
            "text/html": [
              "<div>\n",
              "<style scoped>\n",
              "    .dataframe tbody tr th:only-of-type {\n",
              "        vertical-align: middle;\n",
              "    }\n",
              "\n",
              "    .dataframe tbody tr th {\n",
              "        vertical-align: top;\n",
              "    }\n",
              "\n",
              "    .dataframe thead th {\n",
              "        text-align: right;\n",
              "    }\n",
              "</style>\n",
              "<table border=\"1\" class=\"dataframe\">\n",
              "  <thead>\n",
              "    <tr style=\"text-align: right;\">\n",
              "      <th></th>\n",
              "      <th>epoch</th>\n",
              "      <th>steps</th>\n",
              "      <th>Accuracy@1</th>\n",
              "      <th>Accuracy@3</th>\n",
              "      <th>Accuracy@5</th>\n",
              "      <th>Accuracy@10</th>\n",
              "      <th>Precision@1</th>\n",
              "      <th>Recall@1</th>\n",
              "      <th>Precision@3</th>\n",
              "      <th>Recall@3</th>\n",
              "      <th>Precision@5</th>\n",
              "      <th>Recall@5</th>\n",
              "      <th>Precision@10</th>\n",
              "      <th>Recall@10</th>\n",
              "      <th>MRR@10</th>\n",
              "      <th>NDCG@10</th>\n",
              "      <th>MAP@100</th>\n",
              "    </tr>\n",
              "  </thead>\n",
              "  <tbody>\n",
              "    <tr>\n",
              "      <th>0</th>\n",
              "      <td>-1</td>\n",
              "      <td>-1</td>\n",
              "      <td>0.946144</td>\n",
              "      <td>0.974296</td>\n",
              "      <td>0.980416</td>\n",
              "      <td>0.985312</td>\n",
              "      <td>0.946144</td>\n",
              "      <td>0.946144</td>\n",
              "      <td>0.324765</td>\n",
              "      <td>0.974296</td>\n",
              "      <td>0.196083</td>\n",
              "      <td>0.980416</td>\n",
              "      <td>0.098531</td>\n",
              "      <td>0.985312</td>\n",
              "      <td>0.961201</td>\n",
              "      <td>0.967164</td>\n",
              "      <td>0.961576</td>\n",
              "    </tr>\n",
              "  </tbody>\n",
              "</table>\n",
              "</div>"
            ],
            "text/plain": [
              "   epoch  steps  Accuracy@1  ...    MRR@10   NDCG@10   MAP@100\n",
              "0     -1     -1    0.946144  ...  0.961201  0.967164  0.961576\n",
              "\n",
              "[1 rows x 17 columns]"
            ]
          },
          "metadata": {
            "tags": []
          },
          "execution_count": 19
        }
      ]
    },
    {
      "cell_type": "markdown",
      "metadata": {
        "id": "eMC0qC-7cRee"
      },
      "source": [
        "# Bi-encoder - Czy wiesz? CDS"
      ]
    },
    {
      "cell_type": "markdown",
      "metadata": {
        "id": "d2UjPCG5cfb7"
      },
      "source": [
        "Parameters"
      ]
    },
    {
      "cell_type": "code",
      "metadata": {
        "id": "7r-cBqR4cfb8"
      },
      "source": [
        "#You can specify any huggingface/transformers pre-trained model here, for example, bert-base-uncased, roberta-base, xlm-roberta-base\r\n",
        "model_name = '/content/drive/MyDrive/models/czywiesz-bi-encoder/czywiesz-bi-encoder-paraphrase-xlm-r-multilingual-v1-2021-01-24_21-20-22'\r\n",
        "batch_size = 16\r\n",
        "num_epochs = 5\r\n",
        "max_seq_length = 128\r\n",
        "use_cuda = torch.cuda.is_available()\r\n",
        "model_save_path = 'output/czywiesz-cds-bi-encoder-'+model_name.replace(\"/\", \"-\")+'-'+datetime.now().strftime(\"%Y-%m-%d_%H-%M-%S\")"
      ],
      "execution_count": null,
      "outputs": []
    },
    {
      "cell_type": "markdown",
      "metadata": {
        "id": "aA0LHzvHcfb8"
      },
      "source": [
        "Load dataset"
      ]
    },
    {
      "cell_type": "code",
      "metadata": {
        "colab": {
          "base_uri": "https://localhost:8080/",
          "height": 206
        },
        "id": "QqThsNLncfb-",
        "outputId": "bd9f45b6-8f17-4e43-f4a2-68d352f46c53"
      },
      "source": [
        "cds = pd.read_csv('/content/drive/MyDrive/Polish CDSCorpus/dataset.csv', sep='\\t')\r\n",
        "cds.head()"
      ],
      "execution_count": null,
      "outputs": [
        {
          "output_type": "execute_result",
          "data": {
            "text/html": [
              "<div>\n",
              "<style scoped>\n",
              "    .dataframe tbody tr th:only-of-type {\n",
              "        vertical-align: middle;\n",
              "    }\n",
              "\n",
              "    .dataframe tbody tr th {\n",
              "        vertical-align: top;\n",
              "    }\n",
              "\n",
              "    .dataframe thead th {\n",
              "        text-align: right;\n",
              "    }\n",
              "</style>\n",
              "<table border=\"1\" class=\"dataframe\">\n",
              "  <thead>\n",
              "    <tr style=\"text-align: right;\">\n",
              "      <th></th>\n",
              "      <th>ID</th>\n",
              "      <th>A</th>\n",
              "      <th>B</th>\n",
              "      <th>RE</th>\n",
              "      <th>round(RE)</th>\n",
              "      <th>A_wrt_B</th>\n",
              "      <th>B_wrt_A</th>\n",
              "    </tr>\n",
              "  </thead>\n",
              "  <tbody>\n",
              "    <tr>\n",
              "      <th>0</th>\n",
              "      <td>1</td>\n",
              "      <td>Zawodnik na boisku ze skórzaną rękawicą robi w...</td>\n",
              "      <td>Mężczyzna w sportowym stroju stoi na ugiętej n...</td>\n",
              "      <td>2.17</td>\n",
              "      <td>2</td>\n",
              "      <td>neutral</td>\n",
              "      <td>neutral</td>\n",
              "    </tr>\n",
              "    <tr>\n",
              "      <th>1</th>\n",
              "      <td>2</td>\n",
              "      <td>Zawodnik na boisku ze skórzaną rękawicą robi w...</td>\n",
              "      <td>Wykrok w przód jest robiony na piasku na boisk...</td>\n",
              "      <td>5.00</td>\n",
              "      <td>5</td>\n",
              "      <td>entailment</td>\n",
              "      <td>entailment</td>\n",
              "    </tr>\n",
              "    <tr>\n",
              "      <th>2</th>\n",
              "      <td>3</td>\n",
              "      <td>Zawodnik na boisku ze skórzaną rękawicą robi w...</td>\n",
              "      <td>Mężczyzna w sportowym stroju stoi na nodze, kt...</td>\n",
              "      <td>2.50</td>\n",
              "      <td>3</td>\n",
              "      <td>neutral</td>\n",
              "      <td>neutral</td>\n",
              "    </tr>\n",
              "    <tr>\n",
              "      <th>3</th>\n",
              "      <td>4</td>\n",
              "      <td>Zawodnik na boisku ze skórzaną rękawicą robi w...</td>\n",
              "      <td>Chłopak w czerwonych butach stoi na boisku z u...</td>\n",
              "      <td>1.50</td>\n",
              "      <td>2</td>\n",
              "      <td>neutral</td>\n",
              "      <td>neutral</td>\n",
              "    </tr>\n",
              "    <tr>\n",
              "      <th>4</th>\n",
              "      <td>5</td>\n",
              "      <td>Zawodnik na boisku ze skórzaną rękawicą robi w...</td>\n",
              "      <td>Osoba wykonuje skok przez przeszkodę na jasnob...</td>\n",
              "      <td>0.00</td>\n",
              "      <td>0</td>\n",
              "      <td>neutral</td>\n",
              "      <td>neutral</td>\n",
              "    </tr>\n",
              "  </tbody>\n",
              "</table>\n",
              "</div>"
            ],
            "text/plain": [
              "   ID  ...     B_wrt_A\n",
              "0   1  ...     neutral\n",
              "1   2  ...  entailment\n",
              "2   3  ...     neutral\n",
              "3   4  ...     neutral\n",
              "4   5  ...     neutral\n",
              "\n",
              "[5 rows x 7 columns]"
            ]
          },
          "metadata": {
            "tags": []
          },
          "execution_count": 21
        }
      ]
    },
    {
      "cell_type": "markdown",
      "metadata": {
        "id": "I96rE8jscfb_"
      },
      "source": [
        "Prepare input examples"
      ]
    },
    {
      "cell_type": "code",
      "metadata": {
        "id": "Y-EPU9EJcfb_"
      },
      "source": [
        "cds_samples = []\r\n",
        "for index, row in cds.iterrows():\r\n",
        "  score = float(row['RE']) / 5.0\r\n",
        "  cds_samples.append(InputExample(texts=[row['A'], row['B']], label=score))"
      ],
      "execution_count": null,
      "outputs": []
    },
    {
      "cell_type": "markdown",
      "metadata": {
        "id": "X8U3J00ucfcA"
      },
      "source": [
        "Divide examples into dev and train sets"
      ]
    },
    {
      "cell_type": "code",
      "metadata": {
        "id": "7M0yq1KrcfcA"
      },
      "source": [
        "dev_samples = cds_samples[:1000]\r\n",
        "gold_samples = cds_samples[1000:]\r\n",
        "\r\n",
        "train_dataloader = DataLoader(gold_samples, shuffle=True, batch_size=batch_size)\r\n",
        "emb_evaluator = evaluation.EmbeddingSimilarityEvaluator.from_input_examples(dev_samples, name='cds')"
      ],
      "execution_count": null,
      "outputs": []
    },
    {
      "cell_type": "markdown",
      "metadata": {
        "id": "ahb-3PJCcfcA"
      },
      "source": [
        "Load model"
      ]
    },
    {
      "cell_type": "code",
      "metadata": {
        "colab": {
          "base_uri": "https://localhost:8080/"
        },
        "id": "zPii5KThcfcA",
        "outputId": "c2487c98-2ee2-41f6-e0c8-d63d8b712178"
      },
      "source": [
        "model = SentenceTransformer(model_name)"
      ],
      "execution_count": null,
      "outputs": [
        {
          "output_type": "stream",
          "text": [
            "2021-01-24 22:10:22 - Load pretrained SentenceTransformer: /content/drive/MyDrive/models/czywiesz-bi-encoder/czywiesz-bi-encoder-paraphrase-xlm-r-multilingual-v1-2021-01-24_21-20-22\n",
            "2021-01-24 22:10:22 - Load SentenceTransformer from folder: /content/drive/MyDrive/models/czywiesz-bi-encoder/czywiesz-bi-encoder-paraphrase-xlm-r-multilingual-v1-2021-01-24_21-20-22\n",
            "2021-01-24 22:11:00 - Use pytorch device: cuda\n"
          ],
          "name": "stdout"
        }
      ]
    },
    {
      "cell_type": "markdown",
      "metadata": {
        "id": "r9GMG7v9cfcA"
      },
      "source": [
        "Train"
      ]
    },
    {
      "cell_type": "code",
      "metadata": {
        "colab": {
          "base_uri": "https://localhost:8080/",
          "height": 864,
          "referenced_widgets": [
            "5ae8ab80d891421da794ea8aade7d488",
            "eefc9ee302b0498ca65d15b4b7c4127b",
            "a4a0b3fb4bc24e439bc195e061972e80",
            "6dab8fd9c9bd47a7a5cfed547c988fac",
            "97497212bf964b6aa8e0d67b7664d16b",
            "21e76eddaebb4dffbc8cb02d0de567b5",
            "de78f70ebd3146dfae4f0ed42b5ee2c3",
            "9636105adf5b40fabc1ae466962c63a8",
            "0ebeddbe03144198ac58334ee3d77adb",
            "ac386ba279334de3a0ca42b5f9aaa2ea",
            "415309de81dd414b9ed60aa27ba8224c",
            "fa8385f8b94d404da412e629ae726b48",
            "a6a810b0112f44a6bdcbd46978ebca50",
            "534818c606674b6cb822be76f3b7aa9d",
            "2e0ec2860c3e4dafbff7833753bffa15",
            "25fae195800a4bd59f04bddd916caf35",
            "aa3986de159444b0813664d3e672b7e0",
            "a133b01bef4648b481eef2ed9645f571",
            "c89dd75f81154b1bb8cc7266ebf08c5b",
            "bbf5424587014ed38e2f48032a504dc5",
            "572d53a91e604c919bf3ef367fa6df1e",
            "0791658b13d940dc8091eafafdeaead5",
            "f5512dfa864749e2b47aad76f8d97e81",
            "01eeeed944c54635a127c09bd65b95c7",
            "a84c9d84234e47d6a825913c05534aa6",
            "aba7966c76a442b88e91ecbf85260950",
            "781e9930288548e1a9c8b01a8e7d8e05",
            "634864c091f14f13b1f72f963f423d3e",
            "1001220fd0aa475a9f8af7e50e49d106",
            "8b70d99892c544bcb7c0523c6b75a03f",
            "53bff6e91c71491aa783c0d64972f654",
            "aa55a146a626492282204563a2a67b07",
            "c74b920c439648e89f7db50d6e85c28a",
            "49b4d60e37ae42a386b28ccbf3aabe9b",
            "75fccbcbe6f84d7e8049a206befad5a4",
            "ec766b59ccfa41e18e68439d4cc815a2",
            "34b62aea1521428d902bd079f9bfab19",
            "e7086b2aaf944cf5b9f59dba9adba314",
            "02e309bbe34047349c31044a9a6dfc24",
            "ffb86f5f6a8f4dbbbb298308b6e6f111",
            "ba5adc410cfb42238b3f581c04b8f116",
            "da71d1aa85bb4caaacbd2712f25f22a0",
            "560ed03e67024e7198e051edd5986496",
            "34d0edc886dc4c68bdfa252a0d0f9964",
            "f5c71b755c1d4e7e8ac6a728200a86c1",
            "cb67d3692cee465db09d49c2b0514fb2",
            "4ce5beb616144daba867f60dbc9e1a5f",
            "30e96efaa03b43bca53cc236cdd322a2"
          ]
        },
        "id": "kts_gcGGcfcB",
        "outputId": "474778b1-ab78-4567-8925-8dc47dd761dd"
      },
      "source": [
        "train_loss = losses.CosineSimilarityLoss(model=model)\r\n",
        "warmup_steps = math.ceil(len(train_dataloader) * num_epochs  * 0.1) #10% of train data for warm-up\r\n",
        "\r\n",
        "model.fit(train_objectives=[(train_dataloader, train_loss)],\r\n",
        "          evaluator=emb_evaluator,\r\n",
        "          epochs=num_epochs,\r\n",
        "          evaluation_steps=1000,\r\n",
        "          warmup_steps=warmup_steps,\r\n",
        "          output_path=model_save_path\r\n",
        "          )"
      ],
      "execution_count": null,
      "outputs": [
        {
          "output_type": "display_data",
          "data": {
            "application/vnd.jupyter.widget-view+json": {
              "model_id": "5ae8ab80d891421da794ea8aade7d488",
              "version_minor": 0,
              "version_major": 2
            },
            "text/plain": [
              "HBox(children=(FloatProgress(value=0.0, description='Epoch', max=5.0, style=ProgressStyle(description_width='i…"
            ]
          },
          "metadata": {
            "tags": []
          }
        },
        {
          "output_type": "display_data",
          "data": {
            "application/vnd.jupyter.widget-view+json": {
              "model_id": "0ebeddbe03144198ac58334ee3d77adb",
              "version_minor": 0,
              "version_major": 2
            },
            "text/plain": [
              "HBox(children=(FloatProgress(value=0.0, description='Iteration', max=563.0, style=ProgressStyle(description_wi…"
            ]
          },
          "metadata": {
            "tags": []
          }
        },
        {
          "output_type": "stream",
          "text": [
            "\n",
            "2021-01-24 22:14:16 - EmbeddingSimilarityEvaluator: Evaluating the model on cds dataset after epoch 0:\n",
            "2021-01-24 22:14:20 - Cosine-Similarity :\tPearson: 0.9410\tSpearman: 0.9388\n",
            "2021-01-24 22:14:20 - Manhattan-Distance:\tPearson: 0.9188\tSpearman: 0.9330\n",
            "2021-01-24 22:14:20 - Euclidean-Distance:\tPearson: 0.9199\tSpearman: 0.9348\n",
            "2021-01-24 22:14:20 - Dot-Product-Similarity:\tPearson: 0.9249\tSpearman: 0.9233\n",
            "2021-01-24 22:14:20 - Save model to output/czywiesz-cds-bi-encoder--content-drive-MyDrive-models-czywiesz-bi-encoder-czywiesz-bi-encoder-paraphrase-xlm-r-multilingual-v1-2021-01-24_21-20-22-2021-01-24_22-10-03\n"
          ],
          "name": "stdout"
        },
        {
          "output_type": "display_data",
          "data": {
            "application/vnd.jupyter.widget-view+json": {
              "model_id": "aa3986de159444b0813664d3e672b7e0",
              "version_minor": 0,
              "version_major": 2
            },
            "text/plain": [
              "HBox(children=(FloatProgress(value=0.0, description='Iteration', max=563.0, style=ProgressStyle(description_wi…"
            ]
          },
          "metadata": {
            "tags": []
          }
        },
        {
          "output_type": "stream",
          "text": [
            "\n",
            "2021-01-24 22:17:37 - EmbeddingSimilarityEvaluator: Evaluating the model on cds dataset after epoch 1:\n",
            "2021-01-24 22:17:41 - Cosine-Similarity :\tPearson: 0.9430\tSpearman: 0.9408\n",
            "2021-01-24 22:17:41 - Manhattan-Distance:\tPearson: 0.9204\tSpearman: 0.9366\n",
            "2021-01-24 22:17:41 - Euclidean-Distance:\tPearson: 0.9206\tSpearman: 0.9375\n",
            "2021-01-24 22:17:41 - Dot-Product-Similarity:\tPearson: 0.9289\tSpearman: 0.9273\n",
            "2021-01-24 22:17:41 - Save model to output/czywiesz-cds-bi-encoder--content-drive-MyDrive-models-czywiesz-bi-encoder-czywiesz-bi-encoder-paraphrase-xlm-r-multilingual-v1-2021-01-24_21-20-22-2021-01-24_22-10-03\n"
          ],
          "name": "stdout"
        },
        {
          "output_type": "display_data",
          "data": {
            "application/vnd.jupyter.widget-view+json": {
              "model_id": "a84c9d84234e47d6a825913c05534aa6",
              "version_minor": 0,
              "version_major": 2
            },
            "text/plain": [
              "HBox(children=(FloatProgress(value=0.0, description='Iteration', max=563.0, style=ProgressStyle(description_wi…"
            ]
          },
          "metadata": {
            "tags": []
          }
        },
        {
          "output_type": "stream",
          "text": [
            "\n",
            "2021-01-24 22:20:59 - EmbeddingSimilarityEvaluator: Evaluating the model on cds dataset after epoch 2:\n",
            "2021-01-24 22:21:02 - Cosine-Similarity :\tPearson: 0.9437\tSpearman: 0.9412\n",
            "2021-01-24 22:21:02 - Manhattan-Distance:\tPearson: 0.9189\tSpearman: 0.9350\n",
            "2021-01-24 22:21:02 - Euclidean-Distance:\tPearson: 0.9198\tSpearman: 0.9369\n",
            "2021-01-24 22:21:02 - Dot-Product-Similarity:\tPearson: 0.9301\tSpearman: 0.9288\n",
            "2021-01-24 22:21:03 - Save model to output/czywiesz-cds-bi-encoder--content-drive-MyDrive-models-czywiesz-bi-encoder-czywiesz-bi-encoder-paraphrase-xlm-r-multilingual-v1-2021-01-24_21-20-22-2021-01-24_22-10-03\n"
          ],
          "name": "stdout"
        },
        {
          "output_type": "display_data",
          "data": {
            "application/vnd.jupyter.widget-view+json": {
              "model_id": "c74b920c439648e89f7db50d6e85c28a",
              "version_minor": 0,
              "version_major": 2
            },
            "text/plain": [
              "HBox(children=(FloatProgress(value=0.0, description='Iteration', max=563.0, style=ProgressStyle(description_wi…"
            ]
          },
          "metadata": {
            "tags": []
          }
        },
        {
          "output_type": "stream",
          "text": [
            "\n",
            "2021-01-24 22:24:21 - EmbeddingSimilarityEvaluator: Evaluating the model on cds dataset after epoch 3:\n",
            "2021-01-24 22:24:24 - Cosine-Similarity :\tPearson: 0.9431\tSpearman: 0.9407\n",
            "2021-01-24 22:24:24 - Manhattan-Distance:\tPearson: 0.9190\tSpearman: 0.9352\n",
            "2021-01-24 22:24:24 - Euclidean-Distance:\tPearson: 0.9194\tSpearman: 0.9364\n",
            "2021-01-24 22:24:24 - Dot-Product-Similarity:\tPearson: 0.9276\tSpearman: 0.9267\n"
          ],
          "name": "stdout"
        },
        {
          "output_type": "display_data",
          "data": {
            "application/vnd.jupyter.widget-view+json": {
              "model_id": "ba5adc410cfb42238b3f581c04b8f116",
              "version_minor": 0,
              "version_major": 2
            },
            "text/plain": [
              "HBox(children=(FloatProgress(value=0.0, description='Iteration', max=563.0, style=ProgressStyle(description_wi…"
            ]
          },
          "metadata": {
            "tags": []
          }
        },
        {
          "output_type": "stream",
          "text": [
            "\n",
            "2021-01-24 22:27:36 - EmbeddingSimilarityEvaluator: Evaluating the model on cds dataset after epoch 4:\n",
            "2021-01-24 22:27:40 - Cosine-Similarity :\tPearson: 0.9435\tSpearman: 0.9408\n",
            "2021-01-24 22:27:40 - Manhattan-Distance:\tPearson: 0.9195\tSpearman: 0.9351\n",
            "2021-01-24 22:27:40 - Euclidean-Distance:\tPearson: 0.9200\tSpearman: 0.9366\n",
            "2021-01-24 22:27:40 - Dot-Product-Similarity:\tPearson: 0.9286\tSpearman: 0.9272\n",
            "\n"
          ],
          "name": "stdout"
        }
      ]
    },
    {
      "cell_type": "code",
      "metadata": {
        "id": "xgCRS2ZXcfcC"
      },
      "source": [
        "!mkdir /content/drive/MyDrive/models/czywiesz-cds-bi-encoder\r\n",
        "!cp -r /content/output/czywiesz-cds-bi-encoder--content-drive-MyDrive-models-czywiesz-bi-encoder-czywiesz-bi-encoder-paraphrase-xlm-r-multilingual-v1-2021-01-24_21-20-22-2021-01-24_22-10-03 /content/drive/MyDrive/models/czywiesz-cds-bi-encoder"
      ],
      "execution_count": null,
      "outputs": []
    },
    {
      "cell_type": "markdown",
      "metadata": {
        "id": "AlxAZi05erTG"
      },
      "source": [
        "Evaluate on InformationRetrieval"
      ]
    },
    {
      "cell_type": "code",
      "metadata": {
        "colab": {
          "base_uri": "https://localhost:8080/",
          "height": 310
        },
        "id": "EYIfeeENerTJ",
        "outputId": "3205c3b4-6032-4095-bfa2-3b40de78a859"
      },
      "source": [
        "full = pd.read_csv('/content/drive/MyDrive/czywieszki/answers.csv')\r\n",
        "full.drop(columns=['Unnamed: 0', 'Unnamed: 0.1'], inplace=True)\r\n",
        "full.head()"
      ],
      "execution_count": null,
      "outputs": [
        {
          "output_type": "execute_result",
          "data": {
            "text/html": [
              "<div>\n",
              "<style scoped>\n",
              "    .dataframe tbody tr th:only-of-type {\n",
              "        vertical-align: middle;\n",
              "    }\n",
              "\n",
              "    .dataframe tbody tr th {\n",
              "        vertical-align: top;\n",
              "    }\n",
              "\n",
              "    .dataframe thead th {\n",
              "        text-align: right;\n",
              "    }\n",
              "</style>\n",
              "<table border=\"1\" class=\"dataframe\">\n",
              "  <thead>\n",
              "    <tr style=\"text-align: right;\">\n",
              "      <th></th>\n",
              "      <th>id</th>\n",
              "      <th>url</th>\n",
              "      <th>title</th>\n",
              "      <th>text</th>\n",
              "      <th>question</th>\n",
              "      <th>sentence</th>\n",
              "      <th>answer</th>\n",
              "    </tr>\n",
              "  </thead>\n",
              "  <tbody>\n",
              "    <tr>\n",
              "      <th>0</th>\n",
              "      <td>2070375</td>\n",
              "      <td>http://pl.wikipedia.org/wiki/?curid=2070375</td>\n",
              "      <td>R136a1</td>\n",
              "      <td>R136a1 – gwiazda Wolfa-Rayeta typu widmowego W...</td>\n",
              "      <td>gdzie zaobserwowano najmasywniejszą znaną gwia...</td>\n",
              "      <td>['R136a1 – gwiazda Wolfa-Rayeta typu widmowego...</td>\n",
              "      <td>Na uzyskanych dzięki niemu zdjęciach można był...</td>\n",
              "    </tr>\n",
              "    <tr>\n",
              "      <th>1</th>\n",
              "      <td>2070656</td>\n",
              "      <td>http://pl.wikipedia.org/wiki/?curid=2070656</td>\n",
              "      <td>Apoteoza wojny</td>\n",
              "      <td>Apoteoza wojny (oryg. ros. Апофеоз войны, \"Apo...</td>\n",
              "      <td>komu Wasilij Wierieszczagin zadedykował swój o...</td>\n",
              "      <td>['Апофеоз войны, \"Apofieoz wojny\") – obraz Was...</td>\n",
              "      <td>Апофеоз войны, \"Apofieoz wojny\") – obraz Wasil...</td>\n",
              "    </tr>\n",
              "    <tr>\n",
              "      <th>2</th>\n",
              "      <td>2070790</td>\n",
              "      <td>http://pl.wikipedia.org/wiki/?curid=2070790</td>\n",
              "      <td>Widzenie chłopca Bartłomieja</td>\n",
              "      <td>Widzenie chłopca Bartłomieja (oryg. ros. \"Виде...</td>\n",
              "      <td>który święty prawosławny został ukazany na obr...</td>\n",
              "      <td>['\"Видение отроку Варфоломею\") – obraz Michaił...</td>\n",
              "      <td>Niestierow pragnął swoimi dziełami oddać hołd ...</td>\n",
              "    </tr>\n",
              "    <tr>\n",
              "      <th>3</th>\n",
              "      <td>2071346</td>\n",
              "      <td>http://pl.wikipedia.org/wiki/?curid=2071346</td>\n",
              "      <td>Cangjang Gjaco</td>\n",
              "      <td>Cangjang Gjaco (tyb. ཚང་དབྱངས་རྒྱ་མཚོ་ Wylie: ...</td>\n",
              "      <td>któremu dalajlamie przypisuje się nieśmierteln...</td>\n",
              "      <td>['ཚང་དབྱངས་རྒྱ་མཚོ་ Wylie: \"tshang-dbyangs-rgy...</td>\n",
              "      <td>Wśród świeckich tybetańskich rozpowszechnione ...</td>\n",
              "    </tr>\n",
              "    <tr>\n",
              "      <th>4</th>\n",
              "      <td>2071390</td>\n",
              "      <td>http://pl.wikipedia.org/wiki/?curid=2071390</td>\n",
              "      <td>Wojna erytrejsko-etiopska</td>\n",
              "      <td>Wojna erytrejsko-etiopska trwała w latach 1998...</td>\n",
              "      <td>jakie były skutki wojny erytrejsko-etiopskiej?</td>\n",
              "      <td>['Wojna erytrejsko-etiopska trwała w latach 19...</td>\n",
              "      <td>W wyniku działań wojsk etiopskich do przesiedl...</td>\n",
              "    </tr>\n",
              "  </tbody>\n",
              "</table>\n",
              "</div>"
            ],
            "text/plain": [
              "        id  ...                                             answer\n",
              "0  2070375  ...  Na uzyskanych dzięki niemu zdjęciach można był...\n",
              "1  2070656  ...  Апофеоз войны, \"Apofieoz wojny\") – obraz Wasil...\n",
              "2  2070790  ...  Niestierow pragnął swoimi dziełami oddać hołd ...\n",
              "3  2071346  ...  Wśród świeckich tybetańskich rozpowszechnione ...\n",
              "4  2071390  ...  W wyniku działań wojsk etiopskich do przesiedl...\n",
              "\n",
              "[5 rows x 7 columns]"
            ]
          },
          "metadata": {
            "tags": []
          },
          "execution_count": 27
        }
      ]
    },
    {
      "cell_type": "markdown",
      "metadata": {
        "id": "QT-AH9k8erTK"
      },
      "source": [
        "Prepare input examples"
      ]
    },
    {
      "cell_type": "code",
      "metadata": {
        "id": "XNgBS4J4erTL"
      },
      "source": [
        "questions = full['question'].tolist()\r\n",
        "answers = full['answer'].tolist()"
      ],
      "execution_count": null,
      "outputs": []
    },
    {
      "cell_type": "markdown",
      "metadata": {
        "id": "YbnX3lslerTM"
      },
      "source": [
        "Divide examples into dev and train sets"
      ]
    },
    {
      "cell_type": "code",
      "metadata": {
        "id": "QWvt9ESmerTM"
      },
      "source": [
        "dev_questions, dev_answers = questions[4000:], answers[4000:]"
      ],
      "execution_count": null,
      "outputs": []
    },
    {
      "cell_type": "code",
      "metadata": {
        "id": "e_v3_eXwerTN"
      },
      "source": [
        "dev_queries = {}\r\n",
        "dev_corpus = {}\r\n",
        "dev_rel_docs = {}\r\n",
        "\r\n",
        "for i in range(len(dev_questions)):\r\n",
        "  idx = str(i)\r\n",
        "  dev_queries[idx] = dev_questions[i]\r\n",
        "  dev_corpus[idx] = dev_answers[i]\r\n",
        "  dev_rel_docs[idx] = {idx}"
      ],
      "execution_count": null,
      "outputs": []
    },
    {
      "cell_type": "code",
      "metadata": {
        "id": "WLvLVL2verTN"
      },
      "source": [
        "ir_evaluator = evaluation.InformationRetrievalEvaluator(dev_queries, dev_corpus, dev_rel_docs, name='czywiesz')"
      ],
      "execution_count": null,
      "outputs": []
    },
    {
      "cell_type": "code",
      "metadata": {
        "colab": {
          "base_uri": "https://localhost:8080/"
        },
        "id": "1uxTmXqOerTN",
        "outputId": "c59a5452-d297-4374-8c49-c724916f930b"
      },
      "source": [
        "output_path = '/content/drive/MyDrive/models/czywiesz-cds-bi-encoder/czywiesz-cds-bi-encoder--content-drive-MyDrive-models-czywiesz-bi-encoder-czywiesz-bi-encoder-paraphrase-xlm-r-multilingual-v1-2021-01-24_21-20-22-2021-01-24_22-10-03/Information-Retrieval_evaluation_czywiesz_results.csv'\r\n",
        "model.evaluate(ir_evaluator, output_path=output_path)"
      ],
      "execution_count": null,
      "outputs": [
        {
          "output_type": "stream",
          "text": [
            "2021-01-24 22:30:01 - Information Retrieval Evaluation on czywiesz dataset:\n",
            "2021-01-24 22:30:06 - Accuracy@1: 93.27%\n",
            "2021-01-24 22:30:06 - Accuracy@3: 96.82%\n",
            "2021-01-24 22:30:06 - Accuracy@5: 97.67%\n",
            "2021-01-24 22:30:06 - Accuracy@10: 98.41%\n",
            "2021-01-24 22:30:06 - Precision@1: 93.27%\n",
            "2021-01-24 22:30:06 - Precision@3: 32.27%\n",
            "2021-01-24 22:30:06 - Precision@5: 19.53%\n",
            "2021-01-24 22:30:06 - Precision@10: 9.84%\n",
            "2021-01-24 22:30:06 - Recall@1: 93.27%\n",
            "2021-01-24 22:30:06 - Recall@3: 96.82%\n",
            "2021-01-24 22:30:06 - Recall@5: 97.67%\n",
            "2021-01-24 22:30:06 - Recall@10: 98.41%\n",
            "2021-01-24 22:30:06 - MRR@10: 0.9524\n",
            "2021-01-24 22:30:06 - NDCG@10: 0.9602\n",
            "2021-01-24 22:30:06 - MAP@100: 0.9529\n",
            "2021-01-24 22:30:06 - Queries: 817\n",
            "2021-01-24 22:30:06 - Corpus: 817\n",
            "\n"
          ],
          "name": "stdout"
        },
        {
          "output_type": "execute_result",
          "data": {
            "text/plain": [
              "0.9529166881193865"
            ]
          },
          "metadata": {
            "tags": []
          },
          "execution_count": 32
        }
      ]
    },
    {
      "cell_type": "markdown",
      "metadata": {
        "id": "ODbQPe-DerTP"
      },
      "source": [
        "Final results"
      ]
    },
    {
      "cell_type": "code",
      "metadata": {
        "colab": {
          "base_uri": "https://localhost:8080/",
          "height": 226
        },
        "id": "K_PBwIXOerTP",
        "outputId": "796818e6-63b3-49e7-84c4-eb8b6a56ab07"
      },
      "source": [
        "results = pd.read_csv('/content/drive/MyDrive/models/czywiesz-cds-bi-encoder/czywiesz-cds-bi-encoder--content-drive-MyDrive-models-czywiesz-bi-encoder-czywiesz-bi-encoder-paraphrase-xlm-r-multilingual-v1-2021-01-24_21-20-22-2021-01-24_22-10-03/similarity_evaluation_cds_results.csv')\r\n",
        "results"
      ],
      "execution_count": null,
      "outputs": [
        {
          "output_type": "execute_result",
          "data": {
            "text/html": [
              "<div>\n",
              "<style scoped>\n",
              "    .dataframe tbody tr th:only-of-type {\n",
              "        vertical-align: middle;\n",
              "    }\n",
              "\n",
              "    .dataframe tbody tr th {\n",
              "        vertical-align: top;\n",
              "    }\n",
              "\n",
              "    .dataframe thead th {\n",
              "        text-align: right;\n",
              "    }\n",
              "</style>\n",
              "<table border=\"1\" class=\"dataframe\">\n",
              "  <thead>\n",
              "    <tr style=\"text-align: right;\">\n",
              "      <th></th>\n",
              "      <th>epoch</th>\n",
              "      <th>steps</th>\n",
              "      <th>cosine_pearson</th>\n",
              "      <th>cosine_spearman</th>\n",
              "      <th>euclidean_pearson</th>\n",
              "      <th>euclidean_spearman</th>\n",
              "      <th>manhattan_pearson</th>\n",
              "      <th>manhattan_spearman</th>\n",
              "      <th>dot_pearson</th>\n",
              "      <th>dot_spearman</th>\n",
              "    </tr>\n",
              "  </thead>\n",
              "  <tbody>\n",
              "    <tr>\n",
              "      <th>0</th>\n",
              "      <td>0</td>\n",
              "      <td>-1</td>\n",
              "      <td>0.941008</td>\n",
              "      <td>0.938770</td>\n",
              "      <td>0.919862</td>\n",
              "      <td>0.934821</td>\n",
              "      <td>0.918780</td>\n",
              "      <td>0.933031</td>\n",
              "      <td>0.924929</td>\n",
              "      <td>0.923331</td>\n",
              "    </tr>\n",
              "    <tr>\n",
              "      <th>1</th>\n",
              "      <td>1</td>\n",
              "      <td>-1</td>\n",
              "      <td>0.943041</td>\n",
              "      <td>0.940784</td>\n",
              "      <td>0.920623</td>\n",
              "      <td>0.937492</td>\n",
              "      <td>0.920431</td>\n",
              "      <td>0.936622</td>\n",
              "      <td>0.928853</td>\n",
              "      <td>0.927283</td>\n",
              "    </tr>\n",
              "    <tr>\n",
              "      <th>2</th>\n",
              "      <td>2</td>\n",
              "      <td>-1</td>\n",
              "      <td>0.943659</td>\n",
              "      <td>0.941161</td>\n",
              "      <td>0.919767</td>\n",
              "      <td>0.936890</td>\n",
              "      <td>0.918871</td>\n",
              "      <td>0.935027</td>\n",
              "      <td>0.930108</td>\n",
              "      <td>0.928762</td>\n",
              "    </tr>\n",
              "    <tr>\n",
              "      <th>3</th>\n",
              "      <td>3</td>\n",
              "      <td>-1</td>\n",
              "      <td>0.943084</td>\n",
              "      <td>0.940720</td>\n",
              "      <td>0.919439</td>\n",
              "      <td>0.936351</td>\n",
              "      <td>0.919036</td>\n",
              "      <td>0.935154</td>\n",
              "      <td>0.927629</td>\n",
              "      <td>0.926702</td>\n",
              "    </tr>\n",
              "    <tr>\n",
              "      <th>4</th>\n",
              "      <td>4</td>\n",
              "      <td>-1</td>\n",
              "      <td>0.943493</td>\n",
              "      <td>0.940801</td>\n",
              "      <td>0.920020</td>\n",
              "      <td>0.936554</td>\n",
              "      <td>0.919503</td>\n",
              "      <td>0.935140</td>\n",
              "      <td>0.928619</td>\n",
              "      <td>0.927225</td>\n",
              "    </tr>\n",
              "  </tbody>\n",
              "</table>\n",
              "</div>"
            ],
            "text/plain": [
              "   epoch  steps  cosine_pearson  ...  manhattan_spearman  dot_pearson  dot_spearman\n",
              "0      0     -1        0.941008  ...            0.933031     0.924929      0.923331\n",
              "1      1     -1        0.943041  ...            0.936622     0.928853      0.927283\n",
              "2      2     -1        0.943659  ...            0.935027     0.930108      0.928762\n",
              "3      3     -1        0.943084  ...            0.935154     0.927629      0.926702\n",
              "4      4     -1        0.943493  ...            0.935140     0.928619      0.927225\n",
              "\n",
              "[5 rows x 10 columns]"
            ]
          },
          "metadata": {
            "tags": []
          },
          "execution_count": 33
        }
      ]
    },
    {
      "cell_type": "code",
      "metadata": {
        "colab": {
          "base_uri": "https://localhost:8080/",
          "height": 101
        },
        "id": "UN-E5uOberTR",
        "outputId": "983723a5-43dd-4907-89dc-d30e42650c60"
      },
      "source": [
        "results = pd.read_csv('/content/drive/MyDrive/models/czywiesz-cds-bi-encoder/czywiesz-cds-bi-encoder--content-drive-MyDrive-models-czywiesz-bi-encoder-czywiesz-bi-encoder-paraphrase-xlm-r-multilingual-v1-2021-01-24_21-20-22-2021-01-24_22-10-03/Information-Retrieval_evaluation_czywiesz_results.csv/Information-Retrieval_evaluation_czywiesz_results.csv')\r\n",
        "results"
      ],
      "execution_count": null,
      "outputs": [
        {
          "output_type": "execute_result",
          "data": {
            "text/html": [
              "<div>\n",
              "<style scoped>\n",
              "    .dataframe tbody tr th:only-of-type {\n",
              "        vertical-align: middle;\n",
              "    }\n",
              "\n",
              "    .dataframe tbody tr th {\n",
              "        vertical-align: top;\n",
              "    }\n",
              "\n",
              "    .dataframe thead th {\n",
              "        text-align: right;\n",
              "    }\n",
              "</style>\n",
              "<table border=\"1\" class=\"dataframe\">\n",
              "  <thead>\n",
              "    <tr style=\"text-align: right;\">\n",
              "      <th></th>\n",
              "      <th>epoch</th>\n",
              "      <th>steps</th>\n",
              "      <th>Accuracy@1</th>\n",
              "      <th>Accuracy@3</th>\n",
              "      <th>Accuracy@5</th>\n",
              "      <th>Accuracy@10</th>\n",
              "      <th>Precision@1</th>\n",
              "      <th>Recall@1</th>\n",
              "      <th>Precision@3</th>\n",
              "      <th>Recall@3</th>\n",
              "      <th>Precision@5</th>\n",
              "      <th>Recall@5</th>\n",
              "      <th>Precision@10</th>\n",
              "      <th>Recall@10</th>\n",
              "      <th>MRR@10</th>\n",
              "      <th>NDCG@10</th>\n",
              "      <th>MAP@100</th>\n",
              "    </tr>\n",
              "  </thead>\n",
              "  <tbody>\n",
              "    <tr>\n",
              "      <th>0</th>\n",
              "      <td>-1</td>\n",
              "      <td>-1</td>\n",
              "      <td>0.932681</td>\n",
              "      <td>0.968176</td>\n",
              "      <td>0.976744</td>\n",
              "      <td>0.984088</td>\n",
              "      <td>0.932681</td>\n",
              "      <td>0.932681</td>\n",
              "      <td>0.322725</td>\n",
              "      <td>0.968176</td>\n",
              "      <td>0.195349</td>\n",
              "      <td>0.976744</td>\n",
              "      <td>0.098409</td>\n",
              "      <td>0.984088</td>\n",
              "      <td>0.952407</td>\n",
              "      <td>0.960227</td>\n",
              "      <td>0.952917</td>\n",
              "    </tr>\n",
              "  </tbody>\n",
              "</table>\n",
              "</div>"
            ],
            "text/plain": [
              "   epoch  steps  Accuracy@1  ...    MRR@10   NDCG@10   MAP@100\n",
              "0     -1     -1    0.932681  ...  0.952407  0.960227  0.952917\n",
              "\n",
              "[1 rows x 17 columns]"
            ]
          },
          "metadata": {
            "tags": []
          },
          "execution_count": 34
        }
      ]
    },
    {
      "cell_type": "markdown",
      "metadata": {
        "id": "w88LTNg_e67O"
      },
      "source": [
        "# Cross-encoder + Bi-encoder"
      ]
    },
    {
      "cell_type": "markdown",
      "metadata": {
        "id": "UHXJeV4YnCUO"
      },
      "source": [
        "## Cross-encoder"
      ]
    },
    {
      "cell_type": "code",
      "metadata": {
        "id": "RV2N6IyhfPD4"
      },
      "source": [
        "#You can specify any huggingface/transformers pre-trained model here, for example, bert-base-uncased, roberta-base, xlm-roberta-base\r\n",
        "model_name = 'bert-base-multilingual-cased'\r\n",
        "batch_size = 16\r\n",
        "num_epochs = 10\r\n",
        "max_seq_length = 128\r\n",
        "use_cuda = torch.cuda.is_available()"
      ],
      "execution_count": null,
      "outputs": []
    },
    {
      "cell_type": "code",
      "metadata": {
        "id": "pdn4xJlMfPvr"
      },
      "source": [
        "cross_encoder_path = 'output/cross-encoder/cds-cross-encoder-'+model_name.replace(\"/\", \"-\")+'-'+datetime.now().strftime(\"%Y-%m-%d_%H-%M-%S\")\r\n",
        "bi_encoder_path = 'output/bi-encoder/cds_czywiesz_labels-bi-encoder-'+model_name.replace(\"/\", \"-\")+'-'+datetime.now().strftime(\"%Y-%m-%d_%H-%M-%S\")"
      ],
      "execution_count": null,
      "outputs": []
    },
    {
      "cell_type": "code",
      "metadata": {
        "colab": {
          "base_uri": "https://localhost:8080/"
        },
        "id": "IS_C4y8bfqEs",
        "outputId": "d7bd2bad-8980-474b-a07c-b3444851ab35"
      },
      "source": [
        "# Use Huggingface/transformers model (like BERT, RoBERTa, XLNet, XLM-R) for cross-encoder model\r\n",
        "cross_encoder = CrossEncoder(model_name, num_labels=1)"
      ],
      "execution_count": null,
      "outputs": [
        {
          "output_type": "stream",
          "text": [
            "Some weights of the model checkpoint at bert-base-multilingual-cased were not used when initializing BertForSequenceClassification: ['cls.predictions.bias', 'cls.predictions.transform.dense.weight', 'cls.predictions.transform.dense.bias', 'cls.predictions.decoder.weight', 'cls.seq_relationship.weight', 'cls.seq_relationship.bias', 'cls.predictions.transform.LayerNorm.weight', 'cls.predictions.transform.LayerNorm.bias']\n",
            "- This IS expected if you are initializing BertForSequenceClassification from the checkpoint of a model trained on another task or with another architecture (e.g. initializing a BertForSequenceClassification model from a BertForPreTraining model).\n",
            "- This IS NOT expected if you are initializing BertForSequenceClassification from the checkpoint of a model that you expect to be exactly identical (initializing a BertForSequenceClassification model from a BertForSequenceClassification model).\n",
            "Some weights of BertForSequenceClassification were not initialized from the model checkpoint at bert-base-multilingual-cased and are newly initialized: ['classifier.weight', 'classifier.bias']\n",
            "You should probably TRAIN this model on a down-stream task to be able to use it for predictions and inference.\n"
          ],
          "name": "stderr"
        },
        {
          "output_type": "stream",
          "text": [
            "2021-01-24 22:52:39 - Use pytorch device: cuda\n"
          ],
          "name": "stdout"
        }
      ]
    },
    {
      "cell_type": "code",
      "metadata": {
        "colab": {
          "base_uri": "https://localhost:8080/",
          "height": 206
        },
        "id": "0w7vXd-OftFM",
        "outputId": "7dffc7e0-1720-458d-d4f4-a6a008c9fe4c"
      },
      "source": [
        "cds = pd.read_csv('/content/drive/MyDrive/Polish CDSCorpus/dataset.csv', sep='\\t')\r\n",
        "cds.head()"
      ],
      "execution_count": null,
      "outputs": [
        {
          "output_type": "execute_result",
          "data": {
            "text/html": [
              "<div>\n",
              "<style scoped>\n",
              "    .dataframe tbody tr th:only-of-type {\n",
              "        vertical-align: middle;\n",
              "    }\n",
              "\n",
              "    .dataframe tbody tr th {\n",
              "        vertical-align: top;\n",
              "    }\n",
              "\n",
              "    .dataframe thead th {\n",
              "        text-align: right;\n",
              "    }\n",
              "</style>\n",
              "<table border=\"1\" class=\"dataframe\">\n",
              "  <thead>\n",
              "    <tr style=\"text-align: right;\">\n",
              "      <th></th>\n",
              "      <th>ID</th>\n",
              "      <th>A</th>\n",
              "      <th>B</th>\n",
              "      <th>RE</th>\n",
              "      <th>round(RE)</th>\n",
              "      <th>A_wrt_B</th>\n",
              "      <th>B_wrt_A</th>\n",
              "    </tr>\n",
              "  </thead>\n",
              "  <tbody>\n",
              "    <tr>\n",
              "      <th>0</th>\n",
              "      <td>1</td>\n",
              "      <td>Zawodnik na boisku ze skórzaną rękawicą robi w...</td>\n",
              "      <td>Mężczyzna w sportowym stroju stoi na ugiętej n...</td>\n",
              "      <td>2.17</td>\n",
              "      <td>2</td>\n",
              "      <td>neutral</td>\n",
              "      <td>neutral</td>\n",
              "    </tr>\n",
              "    <tr>\n",
              "      <th>1</th>\n",
              "      <td>2</td>\n",
              "      <td>Zawodnik na boisku ze skórzaną rękawicą robi w...</td>\n",
              "      <td>Wykrok w przód jest robiony na piasku na boisk...</td>\n",
              "      <td>5.00</td>\n",
              "      <td>5</td>\n",
              "      <td>entailment</td>\n",
              "      <td>entailment</td>\n",
              "    </tr>\n",
              "    <tr>\n",
              "      <th>2</th>\n",
              "      <td>3</td>\n",
              "      <td>Zawodnik na boisku ze skórzaną rękawicą robi w...</td>\n",
              "      <td>Mężczyzna w sportowym stroju stoi na nodze, kt...</td>\n",
              "      <td>2.50</td>\n",
              "      <td>3</td>\n",
              "      <td>neutral</td>\n",
              "      <td>neutral</td>\n",
              "    </tr>\n",
              "    <tr>\n",
              "      <th>3</th>\n",
              "      <td>4</td>\n",
              "      <td>Zawodnik na boisku ze skórzaną rękawicą robi w...</td>\n",
              "      <td>Chłopak w czerwonych butach stoi na boisku z u...</td>\n",
              "      <td>1.50</td>\n",
              "      <td>2</td>\n",
              "      <td>neutral</td>\n",
              "      <td>neutral</td>\n",
              "    </tr>\n",
              "    <tr>\n",
              "      <th>4</th>\n",
              "      <td>5</td>\n",
              "      <td>Zawodnik na boisku ze skórzaną rękawicą robi w...</td>\n",
              "      <td>Osoba wykonuje skok przez przeszkodę na jasnob...</td>\n",
              "      <td>0.00</td>\n",
              "      <td>0</td>\n",
              "      <td>neutral</td>\n",
              "      <td>neutral</td>\n",
              "    </tr>\n",
              "  </tbody>\n",
              "</table>\n",
              "</div>"
            ],
            "text/plain": [
              "   ID  ...     B_wrt_A\n",
              "0   1  ...     neutral\n",
              "1   2  ...  entailment\n",
              "2   3  ...     neutral\n",
              "3   4  ...     neutral\n",
              "4   5  ...     neutral\n",
              "\n",
              "[5 rows x 7 columns]"
            ]
          },
          "metadata": {
            "tags": []
          },
          "execution_count": 8
        }
      ]
    },
    {
      "cell_type": "code",
      "metadata": {
        "id": "Kswq6Gfd8cmu"
      },
      "source": [
        "cds_samples = []\r\n",
        "for index, row in cds.iterrows():\r\n",
        "  score = float(row['RE']) / 5.0\r\n",
        "  cds_samples.append(InputExample(texts=[row['A'], row['B']], label=score))"
      ],
      "execution_count": null,
      "outputs": []
    },
    {
      "cell_type": "code",
      "metadata": {
        "id": "IKx0kIha8ft9"
      },
      "source": [
        "dev_samples = cds_samples[:1000]\r\n",
        "gold_samples = cds_samples[1000:]"
      ],
      "execution_count": null,
      "outputs": []
    },
    {
      "cell_type": "code",
      "metadata": {
        "id": "XwPRRG0R8j94"
      },
      "source": [
        "# We wrap gold_samples (which is a List[InputExample]) into a pytorch DataLoader\r\n",
        "train_dataloader = DataLoader(gold_samples, shuffle=True, batch_size=batch_size)"
      ],
      "execution_count": null,
      "outputs": []
    },
    {
      "cell_type": "code",
      "metadata": {
        "id": "xgDPw_Jj8qxd"
      },
      "source": [
        "# We add an evaluator, which evaluates the performance during training\r\n",
        "cross_evaluator = CECorrelationEvaluator.from_input_examples(dev_samples, name='cds')"
      ],
      "execution_count": null,
      "outputs": []
    },
    {
      "cell_type": "code",
      "metadata": {
        "colab": {
          "base_uri": "https://localhost:8080/",
          "height": 1000,
          "referenced_widgets": [
            "dc60889d71fc440ba67535d3abfcf1f4",
            "d3bf7c1ebd7c4e8a85958243f5aa4f20",
            "4f4299e3c174433b8f38893cff372081",
            "7903df52ecc14c8d89d23704404cdc23",
            "aede68769dd341c789796e0372bfce1e",
            "d2198434c31741e29ad6902bb1107a93",
            "49fe9d5681fd45bab12544a1d41dfa3e",
            "2dba921ca7de4750b06388d1de6986f7",
            "13b0e06883d243d0a704c66956698449",
            "88d46fc4e6aa4c99afa7e4bb6e4ca444",
            "2afd3f5d2c7e4cc09ef329832278321d",
            "03fa245f61b84314a12ee458ac8508b5",
            "877b1df6487b46f1b7c7c53cfb855d88",
            "2672e0d3e1e14b90b5f465118a044fdc",
            "4de8266a85ea44658c7a20a4d6bbc545",
            "ed8962785aef4178a12362475239acff",
            "d51f5c146b644df889068e174f7a1b33",
            "d44712dbdf9f4e30bff128c278acbc15",
            "0db2242463b4435a94a921ef96763a91",
            "0aaca3c48e9842bfb43ce13594e66f41",
            "340daedade3d43a2a094c7287ce2f295",
            "ce57eb2cd18445628e7207f2fffb8c88",
            "d7ea0ec3511140518e6d56af1272322d",
            "d5cdb4b97d82446e8c99ff8bd109e467",
            "850e82b238924e13aa4bbefcada9f7f4",
            "4242af39295c4d9788f9e681b5223a0c",
            "3a245f3c67dc49dfaf15b8f85fe2edf0",
            "612aa9165a594756894eb8fcb89f0561",
            "0043efcdbcba430a8cf71840c9deccb4",
            "4d0438544bd0418a80ae8aa2f78fc248",
            "476671ee87714bab9de0735baac983ab",
            "4384e1eb382243e58d4c50f71edbf570",
            "61ca188654f14262b48e350cd740071b",
            "9a410c0775154316958823a6f6ada573",
            "e3d385edb1344ad6ad4e78279235043b",
            "950f765ce2104863bcc1c9de31ea512d",
            "f166c7bb70804a52a3ac75fdb8217d43",
            "dcb9025575a54f13bcec21301f857633",
            "77fb5baa9d574ed0aeb14310e8aa3804",
            "22e605b98219463cb2901368f93f972c",
            "de1afdb2a0134991a2973cdc72e0092a",
            "78d511ff69c6448c8ebe572f66e72609",
            "49ea9147fd1545c5ae615f14ad917b25",
            "27980b3afdd54354a63090c6b4ecfa51",
            "b1b84b68abe64e1faf97c5098aa8ee6e",
            "45ecfccded2b4b5f80fa5acd75c2dfa1",
            "5436ebf31319462aa07d59b3b9550b99",
            "0cf1b05f47454d87bacb6769229280e3",
            "78fdb925f1de4ff9947c1c9e351cf233",
            "bbdcc637ee02477081f661d78ff004c0",
            "c069fc1029a84f65a9363b4a23058b62",
            "bf0bedf088964dc591e0d9eb4ccf1d6b",
            "9ae72f8ff955420898ccbd6aaa97b94e",
            "08dc8da8f925450db5a69030d500fd74",
            "aaccbfa8232f4673a8ffa7092bfc4015",
            "a8e65da29447498dbecf3efbef7bf05f",
            "e92932177db644b1bd54ae8c3b6832c8",
            "487795773feb4c87acfc5dbd917bc15f",
            "e7d804eeb5954138a78a68a796b2b779",
            "082519fa4b754e078775bba6671333f7",
            "e411a80e946f4f2e96aa72dccb91a3c9",
            "d72e12212e044b5786cdfc2ecd5e0ea9",
            "d83e348a1ea145f9b7567539f0aaecc6",
            "616e7febf17c4432988bcad92c6c6330",
            "45fb866d75984173a63f3a807d78bf23",
            "450b17f5c0144572bb6dae8b56cd31dc",
            "a9a5ec4e301946679d963fa4726581e1",
            "7678d46350f64c7d97f5b1016485ed4c",
            "5eb04ef24110417481b740326eefd34a",
            "bca50124c2514c5c849b0a14b5a9c0f9",
            "459218cba64e44f1b307437b91b69224",
            "edff82a343454bcd8670cba055183815",
            "be49116362fb4347848b458ae4b346f0",
            "31421bfa650341cda38959d4dc7118e2",
            "079caaae3a194706988768132860b8c7",
            "3f9555e6c5564a4a85bb36e334aef8c6",
            "e94ed302533248b2b2906f8be32644fc",
            "902c83ff037241b19d0d841a1fbc9db7",
            "d179505b0dd74297a171e35a6b1c2983",
            "08c1b4ec69ad4455ba616351fffc8425",
            "2de1100f42a14c02b7304c0027becbe8",
            "3bc13ebbf8354f15a27a401472910591",
            "d020d7cb602c4bb59cb78f435129c197",
            "db12af5e26ec4845a1cc004263b72eb7",
            "0f1d45bd394d43ff8df2db9c2fdf077d",
            "57f6df1413134cc4a50fb27e123fafdd",
            "73e518b7a678445eb5fed431abf63889",
            "4b63e651d1b74fb18929111a3a097641"
          ]
        },
        "id": "7G_4ud2h8teV",
        "outputId": "8cd8c201-bce2-444b-c567-05e12929d153"
      },
      "source": [
        "# Configure the training\r\n",
        "warmup_steps = math.ceil(len(train_dataloader) * num_epochs * 0.1) #10% of train data for warm-up\r\n",
        "logging.info(\"Warmup-steps: {}\".format(warmup_steps))\r\n",
        "\r\n",
        "# Train the cross-encoder model\r\n",
        "cross_encoder.fit(train_dataloader=train_dataloader,\r\n",
        "          evaluator=cross_evaluator,\r\n",
        "          epochs=num_epochs,\r\n",
        "          evaluation_steps=1000,\r\n",
        "          warmup_steps=warmup_steps,\r\n",
        "          output_path=cross_encoder_path)"
      ],
      "execution_count": null,
      "outputs": [
        {
          "output_type": "stream",
          "text": [
            "2021-01-24 22:54:33 - Warmup-steps: 563\n"
          ],
          "name": "stdout"
        },
        {
          "output_type": "display_data",
          "data": {
            "application/vnd.jupyter.widget-view+json": {
              "model_id": "dc60889d71fc440ba67535d3abfcf1f4",
              "version_minor": 0,
              "version_major": 2
            },
            "text/plain": [
              "HBox(children=(FloatProgress(value=0.0, description='Epoch', max=10.0, style=ProgressStyle(description_width='…"
            ]
          },
          "metadata": {
            "tags": []
          }
        },
        {
          "output_type": "display_data",
          "data": {
            "application/vnd.jupyter.widget-view+json": {
              "model_id": "13b0e06883d243d0a704c66956698449",
              "version_minor": 0,
              "version_major": 2
            },
            "text/plain": [
              "HBox(children=(FloatProgress(value=0.0, description='Iteration', max=563.0, style=ProgressStyle(description_wi…"
            ]
          },
          "metadata": {
            "tags": []
          }
        },
        {
          "output_type": "stream",
          "text": [
            "\n",
            "2021-01-24 22:57:18 - CECorrelationEvaluator: Evaluating the model on cds dataset after epoch 0:\n",
            "2021-01-24 22:57:24 - Correlation:\tPearson: 0.9515\tSpearman: 0.9469\n",
            "2021-01-24 22:57:24 - Save model to output/cross-encoder/cds-cross-encoder-bert-base-multilingual-cased-2021-01-24_22-52-29\n"
          ],
          "name": "stdout"
        },
        {
          "output_type": "display_data",
          "data": {
            "application/vnd.jupyter.widget-view+json": {
              "model_id": "d51f5c146b644df889068e174f7a1b33",
              "version_minor": 0,
              "version_major": 2
            },
            "text/plain": [
              "HBox(children=(FloatProgress(value=0.0, description='Iteration', max=563.0, style=ProgressStyle(description_wi…"
            ]
          },
          "metadata": {
            "tags": []
          }
        },
        {
          "output_type": "stream",
          "text": [
            "\n",
            "2021-01-24 23:00:13 - CECorrelationEvaluator: Evaluating the model on cds dataset after epoch 1:\n",
            "2021-01-24 23:00:19 - Correlation:\tPearson: 0.9558\tSpearman: 0.9488\n",
            "2021-01-24 23:00:19 - Save model to output/cross-encoder/cds-cross-encoder-bert-base-multilingual-cased-2021-01-24_22-52-29\n"
          ],
          "name": "stdout"
        },
        {
          "output_type": "display_data",
          "data": {
            "application/vnd.jupyter.widget-view+json": {
              "model_id": "850e82b238924e13aa4bbefcada9f7f4",
              "version_minor": 0,
              "version_major": 2
            },
            "text/plain": [
              "HBox(children=(FloatProgress(value=0.0, description='Iteration', max=563.0, style=ProgressStyle(description_wi…"
            ]
          },
          "metadata": {
            "tags": []
          }
        },
        {
          "output_type": "stream",
          "text": [
            "\n",
            "2021-01-24 23:03:06 - CECorrelationEvaluator: Evaluating the model on cds dataset after epoch 2:\n",
            "2021-01-24 23:03:12 - Correlation:\tPearson: 0.9554\tSpearman: 0.9480\n"
          ],
          "name": "stdout"
        },
        {
          "output_type": "display_data",
          "data": {
            "application/vnd.jupyter.widget-view+json": {
              "model_id": "61ca188654f14262b48e350cd740071b",
              "version_minor": 0,
              "version_major": 2
            },
            "text/plain": [
              "HBox(children=(FloatProgress(value=0.0, description='Iteration', max=563.0, style=ProgressStyle(description_wi…"
            ]
          },
          "metadata": {
            "tags": []
          }
        },
        {
          "output_type": "stream",
          "text": [
            "\n",
            "2021-01-24 23:05:57 - CECorrelationEvaluator: Evaluating the model on cds dataset after epoch 3:\n",
            "2021-01-24 23:06:02 - Correlation:\tPearson: 0.9571\tSpearman: 0.9504\n",
            "2021-01-24 23:06:02 - Save model to output/cross-encoder/cds-cross-encoder-bert-base-multilingual-cased-2021-01-24_22-52-29\n"
          ],
          "name": "stdout"
        },
        {
          "output_type": "display_data",
          "data": {
            "application/vnd.jupyter.widget-view+json": {
              "model_id": "de1afdb2a0134991a2973cdc72e0092a",
              "version_minor": 0,
              "version_major": 2
            },
            "text/plain": [
              "HBox(children=(FloatProgress(value=0.0, description='Iteration', max=563.0, style=ProgressStyle(description_wi…"
            ]
          },
          "metadata": {
            "tags": []
          }
        },
        {
          "output_type": "stream",
          "text": [
            "\n",
            "2021-01-24 23:08:50 - CECorrelationEvaluator: Evaluating the model on cds dataset after epoch 4:\n",
            "2021-01-24 23:08:56 - Correlation:\tPearson: 0.9598\tSpearman: 0.9516\n",
            "2021-01-24 23:08:56 - Save model to output/cross-encoder/cds-cross-encoder-bert-base-multilingual-cased-2021-01-24_22-52-29\n"
          ],
          "name": "stdout"
        },
        {
          "output_type": "display_data",
          "data": {
            "application/vnd.jupyter.widget-view+json": {
              "model_id": "78fdb925f1de4ff9947c1c9e351cf233",
              "version_minor": 0,
              "version_major": 2
            },
            "text/plain": [
              "HBox(children=(FloatProgress(value=0.0, description='Iteration', max=563.0, style=ProgressStyle(description_wi…"
            ]
          },
          "metadata": {
            "tags": []
          }
        },
        {
          "output_type": "stream",
          "text": [
            "\n",
            "2021-01-24 23:11:44 - CECorrelationEvaluator: Evaluating the model on cds dataset after epoch 5:\n",
            "2021-01-24 23:11:49 - Correlation:\tPearson: 0.9581\tSpearman: 0.9491\n"
          ],
          "name": "stdout"
        },
        {
          "output_type": "display_data",
          "data": {
            "application/vnd.jupyter.widget-view+json": {
              "model_id": "e92932177db644b1bd54ae8c3b6832c8",
              "version_minor": 0,
              "version_major": 2
            },
            "text/plain": [
              "HBox(children=(FloatProgress(value=0.0, description='Iteration', max=563.0, style=ProgressStyle(description_wi…"
            ]
          },
          "metadata": {
            "tags": []
          }
        },
        {
          "output_type": "stream",
          "text": [
            "\n",
            "2021-01-24 23:14:34 - CECorrelationEvaluator: Evaluating the model on cds dataset after epoch 6:\n",
            "2021-01-24 23:14:40 - Correlation:\tPearson: 0.9578\tSpearman: 0.9486\n"
          ],
          "name": "stdout"
        },
        {
          "output_type": "display_data",
          "data": {
            "application/vnd.jupyter.widget-view+json": {
              "model_id": "45fb866d75984173a63f3a807d78bf23",
              "version_minor": 0,
              "version_major": 2
            },
            "text/plain": [
              "HBox(children=(FloatProgress(value=0.0, description='Iteration', max=563.0, style=ProgressStyle(description_wi…"
            ]
          },
          "metadata": {
            "tags": []
          }
        },
        {
          "output_type": "stream",
          "text": [
            "\n",
            "2021-01-24 23:17:25 - CECorrelationEvaluator: Evaluating the model on cds dataset after epoch 7:\n",
            "2021-01-24 23:17:30 - Correlation:\tPearson: 0.9573\tSpearman: 0.9483\n"
          ],
          "name": "stdout"
        },
        {
          "output_type": "display_data",
          "data": {
            "application/vnd.jupyter.widget-view+json": {
              "model_id": "be49116362fb4347848b458ae4b346f0",
              "version_minor": 0,
              "version_major": 2
            },
            "text/plain": [
              "HBox(children=(FloatProgress(value=0.0, description='Iteration', max=563.0, style=ProgressStyle(description_wi…"
            ]
          },
          "metadata": {
            "tags": []
          }
        },
        {
          "output_type": "stream",
          "text": [
            "\n",
            "2021-01-24 23:20:15 - CECorrelationEvaluator: Evaluating the model on cds dataset after epoch 8:\n",
            "2021-01-24 23:20:21 - Correlation:\tPearson: 0.9576\tSpearman: 0.9482\n"
          ],
          "name": "stdout"
        },
        {
          "output_type": "display_data",
          "data": {
            "application/vnd.jupyter.widget-view+json": {
              "model_id": "2de1100f42a14c02b7304c0027becbe8",
              "version_minor": 0,
              "version_major": 2
            },
            "text/plain": [
              "HBox(children=(FloatProgress(value=0.0, description='Iteration', max=563.0, style=ProgressStyle(description_wi…"
            ]
          },
          "metadata": {
            "tags": []
          }
        },
        {
          "output_type": "stream",
          "text": [
            "\n",
            "2021-01-24 23:23:05 - CECorrelationEvaluator: Evaluating the model on cds dataset after epoch 9:\n",
            "2021-01-24 23:23:11 - Correlation:\tPearson: 0.9576\tSpearman: 0.9482\n",
            "\n"
          ],
          "name": "stdout"
        }
      ]
    },
    {
      "cell_type": "code",
      "metadata": {
        "colab": {
          "base_uri": "https://localhost:8080/"
        },
        "id": "AyGGHggofvQ9",
        "outputId": "e78b9987-dc21-4844-dcaf-1b3de6c0474b"
      },
      "source": [
        "!mkdir /content/drive/MyDrive/models/cds-cross-encoder\r\n",
        "!cp -r /content/output/cross-encoder/cds-cross-encoder-bert-base-multilingual-cased-2021-01-24_22-52-29 /content/drive/MyDrive/models/cds-cross-encoder"
      ],
      "execution_count": null,
      "outputs": [
        {
          "output_type": "stream",
          "text": [
            "mkdir: cannot create directory ‘/content/drive/MyDrive/models/cds-cross-encoder’: File exists\n"
          ],
          "name": "stdout"
        }
      ]
    },
    {
      "cell_type": "markdown",
      "metadata": {
        "id": "uTuuXPTLfELU"
      },
      "source": [
        "Final results"
      ]
    },
    {
      "cell_type": "code",
      "metadata": {
        "colab": {
          "base_uri": "https://localhost:8080/",
          "height": 363
        },
        "id": "pm4bEkk2fhGp",
        "outputId": "653b9ba6-56de-4521-a0d7-2c3670579314"
      },
      "source": [
        "results = pd.read_csv('/content/drive/MyDrive/models/cds-cross-encoder/cds-cross-encoder-bert-base-multilingual-cased-2021-01-24_22-52-29/CECorrelationEvaluator_cds_results.csv')\r\n",
        "results"
      ],
      "execution_count": 10,
      "outputs": [
        {
          "output_type": "execute_result",
          "data": {
            "text/html": [
              "<div>\n",
              "<style scoped>\n",
              "    .dataframe tbody tr th:only-of-type {\n",
              "        vertical-align: middle;\n",
              "    }\n",
              "\n",
              "    .dataframe tbody tr th {\n",
              "        vertical-align: top;\n",
              "    }\n",
              "\n",
              "    .dataframe thead th {\n",
              "        text-align: right;\n",
              "    }\n",
              "</style>\n",
              "<table border=\"1\" class=\"dataframe\">\n",
              "  <thead>\n",
              "    <tr style=\"text-align: right;\">\n",
              "      <th></th>\n",
              "      <th>epoch</th>\n",
              "      <th>steps</th>\n",
              "      <th>Pearson_Correlation</th>\n",
              "      <th>Spearman_Correlation</th>\n",
              "    </tr>\n",
              "  </thead>\n",
              "  <tbody>\n",
              "    <tr>\n",
              "      <th>0</th>\n",
              "      <td>0</td>\n",
              "      <td>-1</td>\n",
              "      <td>0.951461</td>\n",
              "      <td>0.946899</td>\n",
              "    </tr>\n",
              "    <tr>\n",
              "      <th>1</th>\n",
              "      <td>1</td>\n",
              "      <td>-1</td>\n",
              "      <td>0.955849</td>\n",
              "      <td>0.948760</td>\n",
              "    </tr>\n",
              "    <tr>\n",
              "      <th>2</th>\n",
              "      <td>2</td>\n",
              "      <td>-1</td>\n",
              "      <td>0.955449</td>\n",
              "      <td>0.948027</td>\n",
              "    </tr>\n",
              "    <tr>\n",
              "      <th>3</th>\n",
              "      <td>3</td>\n",
              "      <td>-1</td>\n",
              "      <td>0.957139</td>\n",
              "      <td>0.950373</td>\n",
              "    </tr>\n",
              "    <tr>\n",
              "      <th>4</th>\n",
              "      <td>4</td>\n",
              "      <td>-1</td>\n",
              "      <td>0.959788</td>\n",
              "      <td>0.951573</td>\n",
              "    </tr>\n",
              "    <tr>\n",
              "      <th>5</th>\n",
              "      <td>5</td>\n",
              "      <td>-1</td>\n",
              "      <td>0.958071</td>\n",
              "      <td>0.949099</td>\n",
              "    </tr>\n",
              "    <tr>\n",
              "      <th>6</th>\n",
              "      <td>6</td>\n",
              "      <td>-1</td>\n",
              "      <td>0.957797</td>\n",
              "      <td>0.948580</td>\n",
              "    </tr>\n",
              "    <tr>\n",
              "      <th>7</th>\n",
              "      <td>7</td>\n",
              "      <td>-1</td>\n",
              "      <td>0.957270</td>\n",
              "      <td>0.948293</td>\n",
              "    </tr>\n",
              "    <tr>\n",
              "      <th>8</th>\n",
              "      <td>8</td>\n",
              "      <td>-1</td>\n",
              "      <td>0.957591</td>\n",
              "      <td>0.948188</td>\n",
              "    </tr>\n",
              "    <tr>\n",
              "      <th>9</th>\n",
              "      <td>9</td>\n",
              "      <td>-1</td>\n",
              "      <td>0.957573</td>\n",
              "      <td>0.948150</td>\n",
              "    </tr>\n",
              "  </tbody>\n",
              "</table>\n",
              "</div>"
            ],
            "text/plain": [
              "   epoch  steps  Pearson_Correlation  Spearman_Correlation\n",
              "0      0     -1             0.951461              0.946899\n",
              "1      1     -1             0.955849              0.948760\n",
              "2      2     -1             0.955449              0.948027\n",
              "3      3     -1             0.957139              0.950373\n",
              "4      4     -1             0.959788              0.951573\n",
              "5      5     -1             0.958071              0.949099\n",
              "6      6     -1             0.957797              0.948580\n",
              "7      7     -1             0.957270              0.948293\n",
              "8      8     -1             0.957591              0.948188\n",
              "9      9     -1             0.957573              0.948150"
            ]
          },
          "metadata": {
            "tags": []
          },
          "execution_count": 10
        }
      ]
    },
    {
      "cell_type": "markdown",
      "metadata": {
        "id": "QwwzHmTfARjF"
      },
      "source": [
        "## Label data"
      ]
    },
    {
      "cell_type": "code",
      "metadata": {
        "colab": {
          "base_uri": "https://localhost:8080/"
        },
        "id": "3eA8svKPBClU",
        "outputId": "96cd8053-9905-4249-8f47-4ca63af841d4"
      },
      "source": [
        "cross_encoder = CrossEncoder('/content/drive/MyDrive/models/cds-cross-encoder/cds-cross-encoder-bert-base-multilingual-cased-2021-01-24_22-52-29')"
      ],
      "execution_count": null,
      "outputs": [
        {
          "output_type": "stream",
          "text": [
            "2021-01-24 23:24:13 - Use pytorch device: cuda\n"
          ],
          "name": "stdout"
        }
      ]
    },
    {
      "cell_type": "code",
      "metadata": {
        "colab": {
          "base_uri": "https://localhost:8080/",
          "height": 310
        },
        "id": "1KcGCr0jAS7j",
        "outputId": "6a8acbf3-e4d5-4d09-b7f5-68c558304a5f"
      },
      "source": [
        "full = pd.read_csv('/content/drive/MyDrive/czywieszki/answers.csv')\r\n",
        "full.drop(columns=['Unnamed: 0', 'Unnamed: 0.1'], inplace=True)\r\n",
        "full.head()"
      ],
      "execution_count": null,
      "outputs": [
        {
          "output_type": "execute_result",
          "data": {
            "text/html": [
              "<div>\n",
              "<style scoped>\n",
              "    .dataframe tbody tr th:only-of-type {\n",
              "        vertical-align: middle;\n",
              "    }\n",
              "\n",
              "    .dataframe tbody tr th {\n",
              "        vertical-align: top;\n",
              "    }\n",
              "\n",
              "    .dataframe thead th {\n",
              "        text-align: right;\n",
              "    }\n",
              "</style>\n",
              "<table border=\"1\" class=\"dataframe\">\n",
              "  <thead>\n",
              "    <tr style=\"text-align: right;\">\n",
              "      <th></th>\n",
              "      <th>id</th>\n",
              "      <th>url</th>\n",
              "      <th>title</th>\n",
              "      <th>text</th>\n",
              "      <th>question</th>\n",
              "      <th>sentence</th>\n",
              "      <th>answer</th>\n",
              "    </tr>\n",
              "  </thead>\n",
              "  <tbody>\n",
              "    <tr>\n",
              "      <th>0</th>\n",
              "      <td>2070375</td>\n",
              "      <td>http://pl.wikipedia.org/wiki/?curid=2070375</td>\n",
              "      <td>R136a1</td>\n",
              "      <td>R136a1 – gwiazda Wolfa-Rayeta typu widmowego W...</td>\n",
              "      <td>gdzie zaobserwowano najmasywniejszą znaną gwia...</td>\n",
              "      <td>['R136a1 – gwiazda Wolfa-Rayeta typu widmowego...</td>\n",
              "      <td>Na uzyskanych dzięki niemu zdjęciach można był...</td>\n",
              "    </tr>\n",
              "    <tr>\n",
              "      <th>1</th>\n",
              "      <td>2070656</td>\n",
              "      <td>http://pl.wikipedia.org/wiki/?curid=2070656</td>\n",
              "      <td>Apoteoza wojny</td>\n",
              "      <td>Apoteoza wojny (oryg. ros. Апофеоз войны, \"Apo...</td>\n",
              "      <td>komu Wasilij Wierieszczagin zadedykował swój o...</td>\n",
              "      <td>['Апофеоз войны, \"Apofieoz wojny\") – obraz Was...</td>\n",
              "      <td>Апофеоз войны, \"Apofieoz wojny\") – obraz Wasil...</td>\n",
              "    </tr>\n",
              "    <tr>\n",
              "      <th>2</th>\n",
              "      <td>2070790</td>\n",
              "      <td>http://pl.wikipedia.org/wiki/?curid=2070790</td>\n",
              "      <td>Widzenie chłopca Bartłomieja</td>\n",
              "      <td>Widzenie chłopca Bartłomieja (oryg. ros. \"Виде...</td>\n",
              "      <td>który święty prawosławny został ukazany na obr...</td>\n",
              "      <td>['\"Видение отроку Варфоломею\") – obraz Michaił...</td>\n",
              "      <td>Niestierow pragnął swoimi dziełami oddać hołd ...</td>\n",
              "    </tr>\n",
              "    <tr>\n",
              "      <th>3</th>\n",
              "      <td>2071346</td>\n",
              "      <td>http://pl.wikipedia.org/wiki/?curid=2071346</td>\n",
              "      <td>Cangjang Gjaco</td>\n",
              "      <td>Cangjang Gjaco (tyb. ཚང་དབྱངས་རྒྱ་མཚོ་ Wylie: ...</td>\n",
              "      <td>któremu dalajlamie przypisuje się nieśmierteln...</td>\n",
              "      <td>['ཚང་དབྱངས་རྒྱ་མཚོ་ Wylie: \"tshang-dbyangs-rgy...</td>\n",
              "      <td>Wśród świeckich tybetańskich rozpowszechnione ...</td>\n",
              "    </tr>\n",
              "    <tr>\n",
              "      <th>4</th>\n",
              "      <td>2071390</td>\n",
              "      <td>http://pl.wikipedia.org/wiki/?curid=2071390</td>\n",
              "      <td>Wojna erytrejsko-etiopska</td>\n",
              "      <td>Wojna erytrejsko-etiopska trwała w latach 1998...</td>\n",
              "      <td>jakie były skutki wojny erytrejsko-etiopskiej?</td>\n",
              "      <td>['Wojna erytrejsko-etiopska trwała w latach 19...</td>\n",
              "      <td>W wyniku działań wojsk etiopskich do przesiedl...</td>\n",
              "    </tr>\n",
              "  </tbody>\n",
              "</table>\n",
              "</div>"
            ],
            "text/plain": [
              "        id  ...                                             answer\n",
              "0  2070375  ...  Na uzyskanych dzięki niemu zdjęciach można był...\n",
              "1  2070656  ...  Апофеоз войны, \"Apofieoz wojny\") – obraz Wasil...\n",
              "2  2070790  ...  Niestierow pragnął swoimi dziełami oddać hołd ...\n",
              "3  2071346  ...  Wśród świeckich tybetańskich rozpowszechnione ...\n",
              "4  2071390  ...  W wyniku działań wojsk etiopskich do przesiedl...\n",
              "\n",
              "[5 rows x 7 columns]"
            ]
          },
          "metadata": {
            "tags": []
          },
          "execution_count": 18
        }
      ]
    },
    {
      "cell_type": "code",
      "metadata": {
        "id": "5SFs1Cs9As4S"
      },
      "source": [
        "questions = full['question'].tolist()\r\n",
        "answers = full['answer'].tolist()"
      ],
      "execution_count": null,
      "outputs": []
    },
    {
      "cell_type": "code",
      "metadata": {
        "id": "FOtyy_SVAvJ7"
      },
      "source": [
        "silver_data = []\r\n",
        "for q, a in zip(questions, answers):\r\n",
        "  silver_data.append([q, a])"
      ],
      "execution_count": null,
      "outputs": []
    },
    {
      "cell_type": "code",
      "metadata": {
        "colab": {
          "base_uri": "https://localhost:8080/",
          "height": 68,
          "referenced_widgets": [
            "c80ad0d5e3804222b865268527ffde00",
            "51df877ed3d64f87b29f095e84a68fa8",
            "14eb5a9dcbdf411885aa3118303cc032",
            "9a4fc99c28bc43e694bd5b1e4a37b1a2",
            "1d90e1bb9acd474d95b02ed1ba1fed16",
            "c368468db52e435eb5f9eeb576642f04",
            "2e196a79ae4849c2a1e287ed6fe2507a",
            "e2aff25b4c14404cb2bbb8e2ec3fe752"
          ]
        },
        "id": "8r7hFJkfA_WM",
        "outputId": "dd79f113-13d4-4129-92e7-a3630d8e6c20"
      },
      "source": [
        "silver_scores = cross_encoder.predict(silver_data, show_progress_bar=True)"
      ],
      "execution_count": null,
      "outputs": [
        {
          "output_type": "display_data",
          "data": {
            "application/vnd.jupyter.widget-view+json": {
              "model_id": "c80ad0d5e3804222b865268527ffde00",
              "version_minor": 0,
              "version_major": 2
            },
            "text/plain": [
              "HBox(children=(FloatProgress(value=0.0, description='Batches', max=151.0, style=ProgressStyle(description_widt…"
            ]
          },
          "metadata": {
            "tags": []
          }
        },
        {
          "output_type": "stream",
          "text": [
            "\n"
          ],
          "name": "stdout"
        }
      ]
    },
    {
      "cell_type": "code",
      "metadata": {
        "colab": {
          "base_uri": "https://localhost:8080/",
          "height": 377
        },
        "id": "-jC_00S4BVD7",
        "outputId": "700c8680-6a7b-4e1d-b3ae-f1f6911469e1"
      },
      "source": [
        "import matplotlib.pyplot as plt\r\n",
        "plt.hist(silver_scores)"
      ],
      "execution_count": null,
      "outputs": [
        {
          "output_type": "execute_result",
          "data": {
            "text/plain": [
              "(array([  20.,   67.,  145.,  336.,  628., 1168., 1428.,  824.,  171.,\n",
              "          30.]),\n",
              " array([0.02283981, 0.11921385, 0.2155879 , 0.31196195, 0.40833598,\n",
              "        0.50471   , 0.60108405, 0.69745815, 0.7938322 , 0.8902062 ,\n",
              "        0.98658025], dtype=float32),\n",
              " <a list of 10 Patch objects>)"
            ]
          },
          "metadata": {
            "tags": []
          },
          "execution_count": 22
        },
        {
          "output_type": "display_data",
          "data": {
            "image/png": "[encoded data removed]",
            "text/plain": [
              "<Figure size 432x288 with 1 Axes>"
            ]
          },
          "metadata": {
            "tags": [],
            "needs_background": "light"
          }
        }
      ]
    },
    {
      "cell_type": "code",
      "metadata": {
        "colab": {
          "base_uri": "https://localhost:8080/",
          "height": 206
        },
        "id": "NpckHXNgBi-q",
        "outputId": "b724d6eb-e14c-4213-aea0-1d39f5324e79"
      },
      "source": [
        "cw = pd.DataFrame(columns=['A', 'B', 'score'])\r\n",
        "cw['A'] = questions\r\n",
        "cw['B'] = answers\r\n",
        "cw['score'] = silver_scores\r\n",
        "cw.head() "
      ],
      "execution_count": null,
      "outputs": [
        {
          "output_type": "execute_result",
          "data": {
            "text/html": [
              "<div>\n",
              "<style scoped>\n",
              "    .dataframe tbody tr th:only-of-type {\n",
              "        vertical-align: middle;\n",
              "    }\n",
              "\n",
              "    .dataframe tbody tr th {\n",
              "        vertical-align: top;\n",
              "    }\n",
              "\n",
              "    .dataframe thead th {\n",
              "        text-align: right;\n",
              "    }\n",
              "</style>\n",
              "<table border=\"1\" class=\"dataframe\">\n",
              "  <thead>\n",
              "    <tr style=\"text-align: right;\">\n",
              "      <th></th>\n",
              "      <th>A</th>\n",
              "      <th>B</th>\n",
              "      <th>score</th>\n",
              "    </tr>\n",
              "  </thead>\n",
              "  <tbody>\n",
              "    <tr>\n",
              "      <th>0</th>\n",
              "      <td>gdzie zaobserwowano najmasywniejszą znaną gwia...</td>\n",
              "      <td>Na uzyskanych dzięki niemu zdjęciach można był...</td>\n",
              "      <td>0.499587</td>\n",
              "    </tr>\n",
              "    <tr>\n",
              "      <th>1</th>\n",
              "      <td>komu Wasilij Wierieszczagin zadedykował swój o...</td>\n",
              "      <td>Апофеоз войны, \"Apofieoz wojny\") – obraz Wasil...</td>\n",
              "      <td>0.723198</td>\n",
              "    </tr>\n",
              "    <tr>\n",
              "      <th>2</th>\n",
              "      <td>który święty prawosławny został ukazany na obr...</td>\n",
              "      <td>Niestierow pragnął swoimi dziełami oddać hołd ...</td>\n",
              "      <td>0.656832</td>\n",
              "    </tr>\n",
              "    <tr>\n",
              "      <th>3</th>\n",
              "      <td>któremu dalajlamie przypisuje się nieśmierteln...</td>\n",
              "      <td>Wśród świeckich tybetańskich rozpowszechnione ...</td>\n",
              "      <td>0.491685</td>\n",
              "    </tr>\n",
              "    <tr>\n",
              "      <th>4</th>\n",
              "      <td>jakie były skutki wojny erytrejsko-etiopskiej?</td>\n",
              "      <td>W wyniku działań wojsk etiopskich do przesiedl...</td>\n",
              "      <td>0.432388</td>\n",
              "    </tr>\n",
              "  </tbody>\n",
              "</table>\n",
              "</div>"
            ],
            "text/plain": [
              "                                                   A  ...     score\n",
              "0  gdzie zaobserwowano najmasywniejszą znaną gwia...  ...  0.499587\n",
              "1  komu Wasilij Wierieszczagin zadedykował swój o...  ...  0.723198\n",
              "2  który święty prawosławny został ukazany na obr...  ...  0.656832\n",
              "3  któremu dalajlamie przypisuje się nieśmierteln...  ...  0.491685\n",
              "4     jakie były skutki wojny erytrejsko-etiopskiej?  ...  0.432388\n",
              "\n",
              "[5 rows x 3 columns]"
            ]
          },
          "metadata": {
            "tags": []
          },
          "execution_count": 23
        }
      ]
    },
    {
      "cell_type": "code",
      "metadata": {
        "id": "S5_SYMu-B52_"
      },
      "source": [
        "cw.to_csv('/content/drive/MyDrive/czywieszki/czywiesz_sts.csv', index=False)"
      ],
      "execution_count": null,
      "outputs": []
    },
    {
      "cell_type": "markdown",
      "metadata": {
        "id": "NVMyHVUMAPD6"
      },
      "source": [
        "## Bi-Encoder"
      ]
    },
    {
      "cell_type": "code",
      "metadata": {
        "id": "NYIndGd7nkyx"
      },
      "source": [
        "#You can specify any huggingface/transformers pre-trained model here, for example, bert-base-uncased, roberta-base, xlm-roberta-base\r\n",
        "model_name = 'paraphrase-xlm-r-multilingual-v1'\r\n",
        "batch_size = 16\r\n",
        "num_epochs = 5\r\n",
        "max_seq_length = 128\r\n",
        "use_cuda = torch.cuda.is_available()"
      ],
      "execution_count": null,
      "outputs": []
    },
    {
      "cell_type": "code",
      "metadata": {
        "colab": {
          "base_uri": "https://localhost:8080/",
          "height": 206
        },
        "id": "EHRHY-vJAJJW",
        "outputId": "68ffa90e-3279-461d-fccf-3ae9be9f1b75"
      },
      "source": [
        "cw = pd.read_csv('/content/drive/MyDrive/czywieszki/czywiesz_sts.csv')\r\n",
        "cw.head()"
      ],
      "execution_count": null,
      "outputs": [
        {
          "output_type": "execute_result",
          "data": {
            "text/html": [
              "<div>\n",
              "<style scoped>\n",
              "    .dataframe tbody tr th:only-of-type {\n",
              "        vertical-align: middle;\n",
              "    }\n",
              "\n",
              "    .dataframe tbody tr th {\n",
              "        vertical-align: top;\n",
              "    }\n",
              "\n",
              "    .dataframe thead th {\n",
              "        text-align: right;\n",
              "    }\n",
              "</style>\n",
              "<table border=\"1\" class=\"dataframe\">\n",
              "  <thead>\n",
              "    <tr style=\"text-align: right;\">\n",
              "      <th></th>\n",
              "      <th>A</th>\n",
              "      <th>B</th>\n",
              "      <th>score</th>\n",
              "    </tr>\n",
              "  </thead>\n",
              "  <tbody>\n",
              "    <tr>\n",
              "      <th>0</th>\n",
              "      <td>gdzie zaobserwowano najmasywniejszą znaną gwia...</td>\n",
              "      <td>Na uzyskanych dzięki niemu zdjęciach można był...</td>\n",
              "      <td>0.499587</td>\n",
              "    </tr>\n",
              "    <tr>\n",
              "      <th>1</th>\n",
              "      <td>komu Wasilij Wierieszczagin zadedykował swój o...</td>\n",
              "      <td>Апофеоз войны, \"Apofieoz wojny\") – obraz Wasil...</td>\n",
              "      <td>0.723198</td>\n",
              "    </tr>\n",
              "    <tr>\n",
              "      <th>2</th>\n",
              "      <td>który święty prawosławny został ukazany na obr...</td>\n",
              "      <td>Niestierow pragnął swoimi dziełami oddać hołd ...</td>\n",
              "      <td>0.656832</td>\n",
              "    </tr>\n",
              "    <tr>\n",
              "      <th>3</th>\n",
              "      <td>któremu dalajlamie przypisuje się nieśmierteln...</td>\n",
              "      <td>Wśród świeckich tybetańskich rozpowszechnione ...</td>\n",
              "      <td>0.491685</td>\n",
              "    </tr>\n",
              "    <tr>\n",
              "      <th>4</th>\n",
              "      <td>jakie były skutki wojny erytrejsko-etiopskiej?</td>\n",
              "      <td>W wyniku działań wojsk etiopskich do przesiedl...</td>\n",
              "      <td>0.432388</td>\n",
              "    </tr>\n",
              "  </tbody>\n",
              "</table>\n",
              "</div>"
            ],
            "text/plain": [
              "                                                   A  ...     score\n",
              "0  gdzie zaobserwowano najmasywniejszą znaną gwia...  ...  0.499587\n",
              "1  komu Wasilij Wierieszczagin zadedykował swój o...  ...  0.723198\n",
              "2  który święty prawosławny został ukazany na obr...  ...  0.656832\n",
              "3  któremu dalajlamie przypisuje się nieśmierteln...  ...  0.491685\n",
              "4     jakie były skutki wojny erytrejsko-etiopskiej?  ...  0.432388\n",
              "\n",
              "[5 rows x 3 columns]"
            ]
          },
          "metadata": {
            "tags": []
          },
          "execution_count": 26
        }
      ]
    },
    {
      "cell_type": "code",
      "metadata": {
        "colab": {
          "base_uri": "https://localhost:8080/",
          "height": 206
        },
        "id": "Kpsz8omNCPhj",
        "outputId": "95754120-ea45-48cf-a8c0-2b6ebc4c67ba"
      },
      "source": [
        "cds = pd.read_csv('/content/drive/MyDrive/Polish CDSCorpus/dataset.csv', sep='\\t')\r\n",
        "cds.head()"
      ],
      "execution_count": null,
      "outputs": [
        {
          "output_type": "execute_result",
          "data": {
            "text/html": [
              "<div>\n",
              "<style scoped>\n",
              "    .dataframe tbody tr th:only-of-type {\n",
              "        vertical-align: middle;\n",
              "    }\n",
              "\n",
              "    .dataframe tbody tr th {\n",
              "        vertical-align: top;\n",
              "    }\n",
              "\n",
              "    .dataframe thead th {\n",
              "        text-align: right;\n",
              "    }\n",
              "</style>\n",
              "<table border=\"1\" class=\"dataframe\">\n",
              "  <thead>\n",
              "    <tr style=\"text-align: right;\">\n",
              "      <th></th>\n",
              "      <th>ID</th>\n",
              "      <th>A</th>\n",
              "      <th>B</th>\n",
              "      <th>RE</th>\n",
              "      <th>round(RE)</th>\n",
              "      <th>A_wrt_B</th>\n",
              "      <th>B_wrt_A</th>\n",
              "    </tr>\n",
              "  </thead>\n",
              "  <tbody>\n",
              "    <tr>\n",
              "      <th>0</th>\n",
              "      <td>1</td>\n",
              "      <td>Zawodnik na boisku ze skórzaną rękawicą robi w...</td>\n",
              "      <td>Mężczyzna w sportowym stroju stoi na ugiętej n...</td>\n",
              "      <td>2.17</td>\n",
              "      <td>2</td>\n",
              "      <td>neutral</td>\n",
              "      <td>neutral</td>\n",
              "    </tr>\n",
              "    <tr>\n",
              "      <th>1</th>\n",
              "      <td>2</td>\n",
              "      <td>Zawodnik na boisku ze skórzaną rękawicą robi w...</td>\n",
              "      <td>Wykrok w przód jest robiony na piasku na boisk...</td>\n",
              "      <td>5.00</td>\n",
              "      <td>5</td>\n",
              "      <td>entailment</td>\n",
              "      <td>entailment</td>\n",
              "    </tr>\n",
              "    <tr>\n",
              "      <th>2</th>\n",
              "      <td>3</td>\n",
              "      <td>Zawodnik na boisku ze skórzaną rękawicą robi w...</td>\n",
              "      <td>Mężczyzna w sportowym stroju stoi na nodze, kt...</td>\n",
              "      <td>2.50</td>\n",
              "      <td>3</td>\n",
              "      <td>neutral</td>\n",
              "      <td>neutral</td>\n",
              "    </tr>\n",
              "    <tr>\n",
              "      <th>3</th>\n",
              "      <td>4</td>\n",
              "      <td>Zawodnik na boisku ze skórzaną rękawicą robi w...</td>\n",
              "      <td>Chłopak w czerwonych butach stoi na boisku z u...</td>\n",
              "      <td>1.50</td>\n",
              "      <td>2</td>\n",
              "      <td>neutral</td>\n",
              "      <td>neutral</td>\n",
              "    </tr>\n",
              "    <tr>\n",
              "      <th>4</th>\n",
              "      <td>5</td>\n",
              "      <td>Zawodnik na boisku ze skórzaną rękawicą robi w...</td>\n",
              "      <td>Osoba wykonuje skok przez przeszkodę na jasnob...</td>\n",
              "      <td>0.00</td>\n",
              "      <td>0</td>\n",
              "      <td>neutral</td>\n",
              "      <td>neutral</td>\n",
              "    </tr>\n",
              "  </tbody>\n",
              "</table>\n",
              "</div>"
            ],
            "text/plain": [
              "   ID  ...     B_wrt_A\n",
              "0   1  ...     neutral\n",
              "1   2  ...  entailment\n",
              "2   3  ...     neutral\n",
              "3   4  ...     neutral\n",
              "4   5  ...     neutral\n",
              "\n",
              "[5 rows x 7 columns]"
            ]
          },
          "metadata": {
            "tags": []
          },
          "execution_count": 27
        }
      ]
    },
    {
      "cell_type": "code",
      "metadata": {
        "id": "tAltyzRvCQbj"
      },
      "source": [
        "gold_samples = []\r\n",
        "for index, row in cds.iterrows():\r\n",
        "  score = float(row['RE']) / 5.0\r\n",
        "  gold_samples.append(InputExample(texts=[row['A'], row['B']], label=score))"
      ],
      "execution_count": null,
      "outputs": []
    },
    {
      "cell_type": "code",
      "metadata": {
        "id": "cNQ3rog9CLBQ"
      },
      "source": [
        "dev_samples = gold_samples[:1000]\r\n",
        "gold_samples = gold_samples[1000:]"
      ],
      "execution_count": null,
      "outputs": []
    },
    {
      "cell_type": "code",
      "metadata": {
        "id": "dHFdNbuoCk4P"
      },
      "source": [
        "silver_samples = []\r\n",
        "for index, row in cw.iterrows():\r\n",
        "  score = row['score']\r\n",
        "  silver_samples.append(InputExample(texts=[row['A'], row['B']], label=score))"
      ],
      "execution_count": null,
      "outputs": []
    },
    {
      "cell_type": "code",
      "metadata": {
        "id": "wXXWQNUuC37U"
      },
      "source": [
        "train_dataloader = DataLoader(gold_samples+silver_samples, shuffle=True, batch_size=batch_size)"
      ],
      "execution_count": null,
      "outputs": []
    },
    {
      "cell_type": "code",
      "metadata": {
        "id": "YA_fmuLRDEfQ"
      },
      "source": [
        "emb_evaluator = evaluation.EmbeddingSimilarityEvaluator.from_input_examples(dev_samples, name='cds')"
      ],
      "execution_count": null,
      "outputs": []
    },
    {
      "cell_type": "code",
      "metadata": {
        "colab": {
          "base_uri": "https://localhost:8080/"
        },
        "id": "frVGh-nMDTTB",
        "outputId": "29efb984-5010-4b89-b153-a5606ae5648b"
      },
      "source": [
        "model = SentenceTransformer(model_name)"
      ],
      "execution_count": null,
      "outputs": [
        {
          "output_type": "stream",
          "text": [
            "2021-01-24 23:26:14 - Load pretrained SentenceTransformer: paraphrase-xlm-r-multilingual-v1\n",
            "2021-01-24 23:26:14 - Did not find folder paraphrase-xlm-r-multilingual-v1\n",
            "2021-01-24 23:26:14 - Try to download model from server: https://sbert.net/models/paraphrase-xlm-r-multilingual-v1.zip\n",
            "2021-01-24 23:26:14 - Load SentenceTransformer from folder: /root/.cache/torch/sentence_transformers/sbert.net_models_paraphrase-xlm-r-multilingual-v1\n",
            "2021-01-24 23:26:52 - Use pytorch device: cuda\n"
          ],
          "name": "stdout"
        }
      ]
    },
    {
      "cell_type": "code",
      "metadata": {
        "colab": {
          "base_uri": "https://localhost:8080/",
          "height": 882,
          "referenced_widgets": [
            "5ad8a681656943b7bbeb0ee9946ef947",
            "3bc1191a08a14a81b7cbdf0f507c436f",
            "a8691566c4744dc9bb1eda750e648943",
            "b0eac0b0f5f74838b67a9b1d94f26d37",
            "837860125cce4ecb9ec9a3ada36e0f1e",
            "5c9236b813a243a4b71b91dd7714f020",
            "f5f464571b324f6ea1bab3ce8ab4648f",
            "1f30b099eff24c4eaa789695851c85c8",
            "cf359d3407c54d3880f2a22db8c21fa4",
            "31b1de2f4acf4254ab451c50d9ccc02c",
            "a7dd4008a5704d53b59d73a58fe57d8d",
            "e102d701740345bd880707ce1cd0c843",
            "f2db5f53c6814c8e893e2cf75128cdaf",
            "ebd63bc38d404584968098a37aa2737c",
            "53740e2ca2bc49f3a453f7a60c696c5a",
            "3971a45ebdc7475ea7dc81362d2e113c",
            "64bd491f677a46a8afa0e956236e1747",
            "5424edd49bc14fbc9224acd57a1b7084",
            "25fdd0f771df4e51b49b3df14855e107",
            "38777ac9057348e182add2f1bf6b1a1e",
            "e737282974d3408db4e82d13a97983b6",
            "8ceee538912547d8a744fd19250ff94d",
            "895844220e374ff0b66e77a0b9f355d5",
            "40b0129536464764be9059e02904bb8b",
            "7e1011a0d00d4f36a603005f82099929",
            "62cdfce25b5248d1b2736b3785a2c3e2",
            "56d0f4af87e244d98e5bb60249354d21",
            "b1305b5f7d0f4022ab948667d5e14e9e",
            "dfc34a62e0fb4fe083b4ca26cfa78e8c",
            "049773112c6e4077966b957d82c7df15",
            "2833824ed5fe43c79938ba65ed5a8edc",
            "35d8f8f7dc16492994f5d735f64ba3f3",
            "572cd496fb864d09b5a7003c4878b4ca",
            "ae308e95186d4e3db097410c8a655c2f",
            "3936c356e52642bfacf2d4f8a20c5b62",
            "0344cf9bc47c4405b3f1be0212bbf689",
            "e7d26c42e3e54ef1a307fdcd477d67a7",
            "c9af9ca0b948407583393db89cbb1a65",
            "e0f550ac80a94fcab3814f38174b67b5",
            "4d8e82c281904e94908d2f3b3b360f47",
            "1b86884342564aa5ad8a3f4967137755",
            "79515c4503fe47d38af8882e580b5008",
            "14fc8efc795c41d9b174b26daea60cae",
            "856522be32fb40e1b3116972c7eacbfc",
            "bbdc5c16507a4df39450d5eb76fcc874",
            "e96a9987357d47758caf14a3cd0a4fce",
            "6341471d6dc64ceb99d3031edda20d5d",
            "4309ddfcd1a54529921738a673d57428"
          ]
        },
        "id": "a1cl1NZtDN0H",
        "outputId": "d5d415f0-a60a-42a4-d2dc-b0a70d6fbcec"
      },
      "source": [
        "train_loss = losses.CosineSimilarityLoss(model=model)\r\n",
        "warmup_steps = math.ceil(len(train_dataloader) * num_epochs  * 0.1) #10% of train data for warm-up\r\n",
        "model.fit(train_objectives=[(train_dataloader, train_loss)],\r\n",
        "          evaluator=emb_evaluator,\r\n",
        "          epochs=num_epochs,\r\n",
        "          evaluation_steps=1000,\r\n",
        "          warmup_steps=warmup_steps,\r\n",
        "          output_path=bi_encoder_path\r\n",
        "          )"
      ],
      "execution_count": null,
      "outputs": [
        {
          "output_type": "display_data",
          "data": {
            "application/vnd.jupyter.widget-view+json": {
              "model_id": "5ad8a681656943b7bbeb0ee9946ef947",
              "version_minor": 0,
              "version_major": 2
            },
            "text/plain": [
              "HBox(children=(FloatProgress(value=0.0, description='Epoch', max=5.0, style=ProgressStyle(description_width='i…"
            ]
          },
          "metadata": {
            "tags": []
          }
        },
        {
          "output_type": "display_data",
          "data": {
            "application/vnd.jupyter.widget-view+json": {
              "model_id": "cf359d3407c54d3880f2a22db8c21fa4",
              "version_minor": 0,
              "version_major": 2
            },
            "text/plain": [
              "HBox(children=(FloatProgress(value=0.0, description='Iteration', max=864.0, style=ProgressStyle(description_wi…"
            ]
          },
          "metadata": {
            "tags": []
          }
        },
        {
          "output_type": "stream",
          "text": [
            "\n",
            "2021-01-24 23:33:41 - EmbeddingSimilarityEvaluator: Evaluating the model on cds dataset after epoch 0:\n",
            "2021-01-24 23:33:44 - Cosine-Similarity :\tPearson: 0.9395\tSpearman: 0.9385\n",
            "2021-01-24 23:33:44 - Manhattan-Distance:\tPearson: 0.9215\tSpearman: 0.9316\n",
            "2021-01-24 23:33:44 - Euclidean-Distance:\tPearson: 0.9220\tSpearman: 0.9327\n",
            "2021-01-24 23:33:44 - Dot-Product-Similarity:\tPearson: 0.9252\tSpearman: 0.9246\n",
            "2021-01-24 23:33:44 - Save model to output/bi-encoder/cds_czywiesz_labels-bi-encoder-bert-base-multilingual-cased-2021-01-24_22-52-29\n"
          ],
          "name": "stdout"
        },
        {
          "output_type": "display_data",
          "data": {
            "application/vnd.jupyter.widget-view+json": {
              "model_id": "64bd491f677a46a8afa0e956236e1747",
              "version_minor": 0,
              "version_major": 2
            },
            "text/plain": [
              "HBox(children=(FloatProgress(value=0.0, description='Iteration', max=864.0, style=ProgressStyle(description_wi…"
            ]
          },
          "metadata": {
            "tags": []
          }
        },
        {
          "output_type": "stream",
          "text": [
            "\n",
            "2021-01-24 23:40:35 - EmbeddingSimilarityEvaluator: Evaluating the model on cds dataset after epoch 1:\n",
            "2021-01-24 23:40:39 - Cosine-Similarity :\tPearson: 0.9435\tSpearman: 0.9407\n",
            "2021-01-24 23:40:39 - Manhattan-Distance:\tPearson: 0.9219\tSpearman: 0.9342\n",
            "2021-01-24 23:40:39 - Euclidean-Distance:\tPearson: 0.9228\tSpearman: 0.9354\n",
            "2021-01-24 23:40:39 - Dot-Product-Similarity:\tPearson: 0.9255\tSpearman: 0.9243\n",
            "2021-01-24 23:40:39 - Save model to output/bi-encoder/cds_czywiesz_labels-bi-encoder-bert-base-multilingual-cased-2021-01-24_22-52-29\n"
          ],
          "name": "stdout"
        },
        {
          "output_type": "display_data",
          "data": {
            "application/vnd.jupyter.widget-view+json": {
              "model_id": "7e1011a0d00d4f36a603005f82099929",
              "version_minor": 0,
              "version_major": 2
            },
            "text/plain": [
              "HBox(children=(FloatProgress(value=0.0, description='Iteration', max=864.0, style=ProgressStyle(description_wi…"
            ]
          },
          "metadata": {
            "tags": []
          }
        },
        {
          "output_type": "stream",
          "text": [
            "\n",
            "2021-01-24 23:47:29 - EmbeddingSimilarityEvaluator: Evaluating the model on cds dataset after epoch 2:\n",
            "2021-01-24 23:47:33 - Cosine-Similarity :\tPearson: 0.9434\tSpearman: 0.9409\n",
            "2021-01-24 23:47:33 - Manhattan-Distance:\tPearson: 0.9180\tSpearman: 0.9316\n",
            "2021-01-24 23:47:33 - Euclidean-Distance:\tPearson: 0.9191\tSpearman: 0.9332\n",
            "2021-01-24 23:47:33 - Dot-Product-Similarity:\tPearson: 0.9299\tSpearman: 0.9288\n",
            "2021-01-24 23:47:33 - Save model to output/bi-encoder/cds_czywiesz_labels-bi-encoder-bert-base-multilingual-cased-2021-01-24_22-52-29\n"
          ],
          "name": "stdout"
        },
        {
          "output_type": "display_data",
          "data": {
            "application/vnd.jupyter.widget-view+json": {
              "model_id": "572cd496fb864d09b5a7003c4878b4ca",
              "version_minor": 0,
              "version_major": 2
            },
            "text/plain": [
              "HBox(children=(FloatProgress(value=0.0, description='Iteration', max=864.0, style=ProgressStyle(description_wi…"
            ]
          },
          "metadata": {
            "tags": []
          }
        },
        {
          "output_type": "stream",
          "text": [
            "\n",
            "2021-01-24 23:54:22 - EmbeddingSimilarityEvaluator: Evaluating the model on cds dataset after epoch 3:\n",
            "2021-01-24 23:54:26 - Cosine-Similarity :\tPearson: 0.9442\tSpearman: 0.9417\n",
            "2021-01-24 23:54:26 - Manhattan-Distance:\tPearson: 0.9185\tSpearman: 0.9332\n",
            "2021-01-24 23:54:26 - Euclidean-Distance:\tPearson: 0.9193\tSpearman: 0.9347\n",
            "2021-01-24 23:54:26 - Dot-Product-Similarity:\tPearson: 0.9295\tSpearman: 0.9288\n",
            "2021-01-24 23:54:26 - Save model to output/bi-encoder/cds_czywiesz_labels-bi-encoder-bert-base-multilingual-cased-2021-01-24_22-52-29\n"
          ],
          "name": "stdout"
        },
        {
          "output_type": "display_data",
          "data": {
            "application/vnd.jupyter.widget-view+json": {
              "model_id": "1b86884342564aa5ad8a3f4967137755",
              "version_minor": 0,
              "version_major": 2
            },
            "text/plain": [
              "HBox(children=(FloatProgress(value=0.0, description='Iteration', max=864.0, style=ProgressStyle(description_wi…"
            ]
          },
          "metadata": {
            "tags": []
          }
        },
        {
          "output_type": "stream",
          "text": [
            "\n",
            "2021-01-25 00:01:17 - EmbeddingSimilarityEvaluator: Evaluating the model on cds dataset after epoch 4:\n",
            "2021-01-25 00:01:21 - Cosine-Similarity :\tPearson: 0.9447\tSpearman: 0.9421\n",
            "2021-01-25 00:01:21 - Manhattan-Distance:\tPearson: 0.9183\tSpearman: 0.9332\n",
            "2021-01-25 00:01:21 - Euclidean-Distance:\tPearson: 0.9193\tSpearman: 0.9348\n",
            "2021-01-25 00:01:21 - Dot-Product-Similarity:\tPearson: 0.9299\tSpearman: 0.9294\n",
            "2021-01-25 00:01:21 - Save model to output/bi-encoder/cds_czywiesz_labels-bi-encoder-bert-base-multilingual-cased-2021-01-24_22-52-29\n",
            "\n"
          ],
          "name": "stdout"
        }
      ]
    },
    {
      "cell_type": "code",
      "metadata": {
        "id": "njEdgH22QG7k"
      },
      "source": [
        "!mkdir /content/drive/MyDrive/models/cds-czywiesz-labels-bi-encoder\r\n",
        "!cp -r /content/output/bi-encoder/cds_czywiesz_labels-bi-encoder-bert-base-multilingual-cased-2021-01-24_22-52-29 /content/drive/MyDrive/models/cds-czywiesz-labels-bi-encoder"
      ],
      "execution_count": null,
      "outputs": []
    },
    {
      "cell_type": "markdown",
      "metadata": {
        "id": "SKIoEUHZgtma"
      },
      "source": [
        "Evaluate on Information Retrieval"
      ]
    },
    {
      "cell_type": "code",
      "metadata": {
        "colab": {
          "base_uri": "https://localhost:8080/",
          "height": 310
        },
        "id": "DGY0VaEGhINS",
        "outputId": "fc57a49a-b78f-41b9-be85-90789268fd6f"
      },
      "source": [
        "full = pd.read_csv('/content/drive/MyDrive/czywieszki/answers.csv')\r\n",
        "full.drop(columns=['Unnamed: 0', 'Unnamed: 0.1'], inplace=True)\r\n",
        "full.head()"
      ],
      "execution_count": 12,
      "outputs": [
        {
          "output_type": "execute_result",
          "data": {
            "text/html": [
              "<div>\n",
              "<style scoped>\n",
              "    .dataframe tbody tr th:only-of-type {\n",
              "        vertical-align: middle;\n",
              "    }\n",
              "\n",
              "    .dataframe tbody tr th {\n",
              "        vertical-align: top;\n",
              "    }\n",
              "\n",
              "    .dataframe thead th {\n",
              "        text-align: right;\n",
              "    }\n",
              "</style>\n",
              "<table border=\"1\" class=\"dataframe\">\n",
              "  <thead>\n",
              "    <tr style=\"text-align: right;\">\n",
              "      <th></th>\n",
              "      <th>id</th>\n",
              "      <th>url</th>\n",
              "      <th>title</th>\n",
              "      <th>text</th>\n",
              "      <th>question</th>\n",
              "      <th>sentence</th>\n",
              "      <th>answer</th>\n",
              "    </tr>\n",
              "  </thead>\n",
              "  <tbody>\n",
              "    <tr>\n",
              "      <th>0</th>\n",
              "      <td>2070375</td>\n",
              "      <td>http://pl.wikipedia.org/wiki/?curid=2070375</td>\n",
              "      <td>R136a1</td>\n",
              "      <td>R136a1 – gwiazda Wolfa-Rayeta typu widmowego W...</td>\n",
              "      <td>gdzie zaobserwowano najmasywniejszą znaną gwia...</td>\n",
              "      <td>['R136a1 – gwiazda Wolfa-Rayeta typu widmowego...</td>\n",
              "      <td>Na uzyskanych dzięki niemu zdjęciach można był...</td>\n",
              "    </tr>\n",
              "    <tr>\n",
              "      <th>1</th>\n",
              "      <td>2070656</td>\n",
              "      <td>http://pl.wikipedia.org/wiki/?curid=2070656</td>\n",
              "      <td>Apoteoza wojny</td>\n",
              "      <td>Apoteoza wojny (oryg. ros. Апофеоз войны, \"Apo...</td>\n",
              "      <td>komu Wasilij Wierieszczagin zadedykował swój o...</td>\n",
              "      <td>['Апофеоз войны, \"Apofieoz wojny\") – obraz Was...</td>\n",
              "      <td>Апофеоз войны, \"Apofieoz wojny\") – obraz Wasil...</td>\n",
              "    </tr>\n",
              "    <tr>\n",
              "      <th>2</th>\n",
              "      <td>2070790</td>\n",
              "      <td>http://pl.wikipedia.org/wiki/?curid=2070790</td>\n",
              "      <td>Widzenie chłopca Bartłomieja</td>\n",
              "      <td>Widzenie chłopca Bartłomieja (oryg. ros. \"Виде...</td>\n",
              "      <td>który święty prawosławny został ukazany na obr...</td>\n",
              "      <td>['\"Видение отроку Варфоломею\") – obraz Michaił...</td>\n",
              "      <td>Niestierow pragnął swoimi dziełami oddać hołd ...</td>\n",
              "    </tr>\n",
              "    <tr>\n",
              "      <th>3</th>\n",
              "      <td>2071346</td>\n",
              "      <td>http://pl.wikipedia.org/wiki/?curid=2071346</td>\n",
              "      <td>Cangjang Gjaco</td>\n",
              "      <td>Cangjang Gjaco (tyb. ཚང་དབྱངས་རྒྱ་མཚོ་ Wylie: ...</td>\n",
              "      <td>któremu dalajlamie przypisuje się nieśmierteln...</td>\n",
              "      <td>['ཚང་དབྱངས་རྒྱ་མཚོ་ Wylie: \"tshang-dbyangs-rgy...</td>\n",
              "      <td>Wśród świeckich tybetańskich rozpowszechnione ...</td>\n",
              "    </tr>\n",
              "    <tr>\n",
              "      <th>4</th>\n",
              "      <td>2071390</td>\n",
              "      <td>http://pl.wikipedia.org/wiki/?curid=2071390</td>\n",
              "      <td>Wojna erytrejsko-etiopska</td>\n",
              "      <td>Wojna erytrejsko-etiopska trwała w latach 1998...</td>\n",
              "      <td>jakie były skutki wojny erytrejsko-etiopskiej?</td>\n",
              "      <td>['Wojna erytrejsko-etiopska trwała w latach 19...</td>\n",
              "      <td>W wyniku działań wojsk etiopskich do przesiedl...</td>\n",
              "    </tr>\n",
              "  </tbody>\n",
              "</table>\n",
              "</div>"
            ],
            "text/plain": [
              "        id  ...                                             answer\n",
              "0  2070375  ...  Na uzyskanych dzięki niemu zdjęciach można był...\n",
              "1  2070656  ...  Апофеоз войны, \"Apofieoz wojny\") – obraz Wasil...\n",
              "2  2070790  ...  Niestierow pragnął swoimi dziełami oddać hołd ...\n",
              "3  2071346  ...  Wśród świeckich tybetańskich rozpowszechnione ...\n",
              "4  2071390  ...  W wyniku działań wojsk etiopskich do przesiedl...\n",
              "\n",
              "[5 rows x 7 columns]"
            ]
          },
          "metadata": {
            "tags": []
          },
          "execution_count": 12
        }
      ]
    },
    {
      "cell_type": "markdown",
      "metadata": {
        "id": "ShTF29qMhINX"
      },
      "source": [
        "Prepare input examples"
      ]
    },
    {
      "cell_type": "code",
      "metadata": {
        "id": "qzGd9tOThINa"
      },
      "source": [
        "questions = full['question'].tolist()\r\n",
        "answers = full['answer'].tolist()"
      ],
      "execution_count": 13,
      "outputs": []
    },
    {
      "cell_type": "markdown",
      "metadata": {
        "id": "9Tu4yLO0hINc"
      },
      "source": [
        "Divide examples into dev and train sets"
      ]
    },
    {
      "cell_type": "code",
      "metadata": {
        "colab": {
          "base_uri": "https://localhost:8080/"
        },
        "id": "4gnXfKa_hwuY",
        "outputId": "dd37888d-a67d-4a86-9fc4-0a9c9444c54b"
      },
      "source": [
        "model = SentenceTransformer('/content/drive/MyDrive/models/cds-czywiesz-labels-bi-encoder/cds_czywiesz_labels-bi-encoder-bert-base-multilingual-cased-2021-01-24_22-52-29')"
      ],
      "execution_count": 20,
      "outputs": [
        {
          "output_type": "stream",
          "text": [
            "2021-01-25 07:52:05 - Load pretrained SentenceTransformer: /content/drive/MyDrive/models/cds-czywiesz-labels-bi-encoder/cds_czywiesz_labels-bi-encoder-bert-base-multilingual-cased-2021-01-24_22-52-29\n",
            "2021-01-25 07:52:05 - Load SentenceTransformer from folder: /content/drive/MyDrive/models/cds-czywiesz-labels-bi-encoder/cds_czywiesz_labels-bi-encoder-bert-base-multilingual-cased-2021-01-24_22-52-29\n",
            "2021-01-25 07:52:13 - Use pytorch device: cuda\n"
          ],
          "name": "stdout"
        }
      ]
    },
    {
      "cell_type": "code",
      "metadata": {
        "id": "xfkw3WZxhINe"
      },
      "source": [
        "train_questions, dev_questions = questions[:4000], questions[4000:]\r\n",
        "train_answers, dev_answers = answers[:4000], answers[4000:]"
      ],
      "execution_count": 14,
      "outputs": []
    },
    {
      "cell_type": "code",
      "metadata": {
        "id": "aZ9hw8dOhINk"
      },
      "source": [
        "dev_queries = {}\r\n",
        "dev_corpus = {}\r\n",
        "dev_rel_docs = {}\r\n",
        "\r\n",
        "for i in range(len(dev_questions)):\r\n",
        "  idx = str(i)\r\n",
        "  dev_queries[idx] = dev_questions[i]\r\n",
        "  dev_corpus[idx] = dev_answers[i]\r\n",
        "  dev_rel_docs[idx] = {idx}"
      ],
      "execution_count": 15,
      "outputs": []
    },
    {
      "cell_type": "code",
      "metadata": {
        "id": "5m-Ak7kUhINl"
      },
      "source": [
        "ir_evaluator = evaluation.InformationRetrievalEvaluator(dev_queries, dev_corpus, dev_rel_docs, name='czywiesz')"
      ],
      "execution_count": 16,
      "outputs": []
    },
    {
      "cell_type": "code",
      "metadata": {
        "colab": {
          "base_uri": "https://localhost:8080/"
        },
        "id": "uXrImWmKgtmh",
        "outputId": "736edf5d-3420-4a32-f9e5-b0c4de361bc6"
      },
      "source": [
        "output_path = '/content/drive/MyDrive/models/cds-czywiesz-labels-bi-encoder/cds_czywiesz_labels-bi-encoder-bert-base-multilingual-cased-2021-01-24_22-52-29/Information-Retrieval_evaluation_czywiesz_results.csv'\r\n",
        "model.evaluate(ir_evaluator, output_path=output_path)"
      ],
      "execution_count": 21,
      "outputs": [
        {
          "output_type": "stream",
          "text": [
            "2021-01-25 07:52:17 - Information Retrieval Evaluation on czywiesz dataset:\n",
            "2021-01-25 07:52:21 - Accuracy@1: 82.01%\n",
            "2021-01-25 07:52:21 - Accuracy@3: 87.76%\n",
            "2021-01-25 07:52:21 - Accuracy@5: 89.35%\n",
            "2021-01-25 07:52:21 - Accuracy@10: 91.68%\n",
            "2021-01-25 07:52:21 - Precision@1: 82.01%\n",
            "2021-01-25 07:52:21 - Precision@3: 29.25%\n",
            "2021-01-25 07:52:21 - Precision@5: 17.87%\n",
            "2021-01-25 07:52:21 - Precision@10: 9.17%\n",
            "2021-01-25 07:52:21 - Recall@1: 82.01%\n",
            "2021-01-25 07:52:21 - Recall@3: 87.76%\n",
            "2021-01-25 07:52:21 - Recall@5: 89.35%\n",
            "2021-01-25 07:52:21 - Recall@10: 91.68%\n",
            "2021-01-25 07:52:21 - MRR@10: 0.8526\n",
            "2021-01-25 07:52:21 - NDCG@10: 0.8681\n",
            "2021-01-25 07:52:21 - MAP@100: 0.8543\n",
            "2021-01-25 07:52:21 - Queries: 817\n",
            "2021-01-25 07:52:21 - Corpus: 817\n",
            "\n"
          ],
          "name": "stdout"
        },
        {
          "output_type": "execute_result",
          "data": {
            "text/plain": [
              "0.8542713814021549"
            ]
          },
          "metadata": {
            "tags": []
          },
          "execution_count": 21
        }
      ]
    },
    {
      "cell_type": "code",
      "metadata": {
        "id": "hE1b1Biu2dWV",
        "colab": {
          "base_uri": "https://localhost:8080/",
          "height": 226
        },
        "outputId": "bf9fe669-4f98-43e9-92de-c9b85d641399"
      },
      "source": [
        "results = pd.read_csv('/content/drive/MyDrive/models/cds-czywiesz-labels-bi-encoder/cds_czywiesz_labels-bi-encoder-bert-base-multilingual-cased-2021-01-24_22-52-29/similarity_evaluation_cds_results.csv')\r\n",
        "results"
      ],
      "execution_count": 22,
      "outputs": [
        {
          "output_type": "execute_result",
          "data": {
            "text/html": [
              "<div>\n",
              "<style scoped>\n",
              "    .dataframe tbody tr th:only-of-type {\n",
              "        vertical-align: middle;\n",
              "    }\n",
              "\n",
              "    .dataframe tbody tr th {\n",
              "        vertical-align: top;\n",
              "    }\n",
              "\n",
              "    .dataframe thead th {\n",
              "        text-align: right;\n",
              "    }\n",
              "</style>\n",
              "<table border=\"1\" class=\"dataframe\">\n",
              "  <thead>\n",
              "    <tr style=\"text-align: right;\">\n",
              "      <th></th>\n",
              "      <th>epoch</th>\n",
              "      <th>steps</th>\n",
              "      <th>cosine_pearson</th>\n",
              "      <th>cosine_spearman</th>\n",
              "      <th>euclidean_pearson</th>\n",
              "      <th>euclidean_spearman</th>\n",
              "      <th>manhattan_pearson</th>\n",
              "      <th>manhattan_spearman</th>\n",
              "      <th>dot_pearson</th>\n",
              "      <th>dot_spearman</th>\n",
              "    </tr>\n",
              "  </thead>\n",
              "  <tbody>\n",
              "    <tr>\n",
              "      <th>0</th>\n",
              "      <td>0</td>\n",
              "      <td>-1</td>\n",
              "      <td>0.939529</td>\n",
              "      <td>0.938488</td>\n",
              "      <td>0.922024</td>\n",
              "      <td>0.932723</td>\n",
              "      <td>0.921453</td>\n",
              "      <td>0.931622</td>\n",
              "      <td>0.925220</td>\n",
              "      <td>0.924558</td>\n",
              "    </tr>\n",
              "    <tr>\n",
              "      <th>1</th>\n",
              "      <td>1</td>\n",
              "      <td>-1</td>\n",
              "      <td>0.943479</td>\n",
              "      <td>0.940721</td>\n",
              "      <td>0.922770</td>\n",
              "      <td>0.935424</td>\n",
              "      <td>0.921906</td>\n",
              "      <td>0.934204</td>\n",
              "      <td>0.925533</td>\n",
              "      <td>0.924305</td>\n",
              "    </tr>\n",
              "    <tr>\n",
              "      <th>2</th>\n",
              "      <td>2</td>\n",
              "      <td>-1</td>\n",
              "      <td>0.943445</td>\n",
              "      <td>0.940915</td>\n",
              "      <td>0.919063</td>\n",
              "      <td>0.933215</td>\n",
              "      <td>0.918023</td>\n",
              "      <td>0.931593</td>\n",
              "      <td>0.929880</td>\n",
              "      <td>0.928767</td>\n",
              "    </tr>\n",
              "    <tr>\n",
              "      <th>3</th>\n",
              "      <td>3</td>\n",
              "      <td>-1</td>\n",
              "      <td>0.944208</td>\n",
              "      <td>0.941721</td>\n",
              "      <td>0.919334</td>\n",
              "      <td>0.934654</td>\n",
              "      <td>0.918480</td>\n",
              "      <td>0.933238</td>\n",
              "      <td>0.929471</td>\n",
              "      <td>0.928849</td>\n",
              "    </tr>\n",
              "    <tr>\n",
              "      <th>4</th>\n",
              "      <td>4</td>\n",
              "      <td>-1</td>\n",
              "      <td>0.944674</td>\n",
              "      <td>0.942114</td>\n",
              "      <td>0.919317</td>\n",
              "      <td>0.934806</td>\n",
              "      <td>0.918335</td>\n",
              "      <td>0.933238</td>\n",
              "      <td>0.929866</td>\n",
              "      <td>0.929383</td>\n",
              "    </tr>\n",
              "  </tbody>\n",
              "</table>\n",
              "</div>"
            ],
            "text/plain": [
              "   epoch  steps  cosine_pearson  ...  manhattan_spearman  dot_pearson  dot_spearman\n",
              "0      0     -1        0.939529  ...            0.931622     0.925220      0.924558\n",
              "1      1     -1        0.943479  ...            0.934204     0.925533      0.924305\n",
              "2      2     -1        0.943445  ...            0.931593     0.929880      0.928767\n",
              "3      3     -1        0.944208  ...            0.933238     0.929471      0.928849\n",
              "4      4     -1        0.944674  ...            0.933238     0.929866      0.929383\n",
              "\n",
              "[5 rows x 10 columns]"
            ]
          },
          "metadata": {
            "tags": []
          },
          "execution_count": 22
        }
      ]
    },
    {
      "cell_type": "markdown",
      "metadata": {
        "id": "hOQNACY1gtmo"
      },
      "source": [
        "Final results"
      ]
    },
    {
      "cell_type": "code",
      "metadata": {
        "colab": {
          "base_uri": "https://localhost:8080/",
          "height": 226
        },
        "id": "Wxruhw_Lgtms",
        "outputId": "a19009c8-537c-4199-f520-4a9ab47597c4"
      },
      "source": [
        "results = pd.read_csv('/content/drive/MyDrive/models/cds-czywiesz-labels-bi-encoder/cds_czywiesz_labels-bi-encoder-bert-base-multilingual-cased-2021-01-24_22-52-29/similarity_evaluation_cds_results.csv')\r\n",
        "results"
      ],
      "execution_count": 23,
      "outputs": [
        {
          "output_type": "execute_result",
          "data": {
            "text/html": [
              "<div>\n",
              "<style scoped>\n",
              "    .dataframe tbody tr th:only-of-type {\n",
              "        vertical-align: middle;\n",
              "    }\n",
              "\n",
              "    .dataframe tbody tr th {\n",
              "        vertical-align: top;\n",
              "    }\n",
              "\n",
              "    .dataframe thead th {\n",
              "        text-align: right;\n",
              "    }\n",
              "</style>\n",
              "<table border=\"1\" class=\"dataframe\">\n",
              "  <thead>\n",
              "    <tr style=\"text-align: right;\">\n",
              "      <th></th>\n",
              "      <th>epoch</th>\n",
              "      <th>steps</th>\n",
              "      <th>cosine_pearson</th>\n",
              "      <th>cosine_spearman</th>\n",
              "      <th>euclidean_pearson</th>\n",
              "      <th>euclidean_spearman</th>\n",
              "      <th>manhattan_pearson</th>\n",
              "      <th>manhattan_spearman</th>\n",
              "      <th>dot_pearson</th>\n",
              "      <th>dot_spearman</th>\n",
              "    </tr>\n",
              "  </thead>\n",
              "  <tbody>\n",
              "    <tr>\n",
              "      <th>0</th>\n",
              "      <td>0</td>\n",
              "      <td>-1</td>\n",
              "      <td>0.939529</td>\n",
              "      <td>0.938488</td>\n",
              "      <td>0.922024</td>\n",
              "      <td>0.932723</td>\n",
              "      <td>0.921453</td>\n",
              "      <td>0.931622</td>\n",
              "      <td>0.925220</td>\n",
              "      <td>0.924558</td>\n",
              "    </tr>\n",
              "    <tr>\n",
              "      <th>1</th>\n",
              "      <td>1</td>\n",
              "      <td>-1</td>\n",
              "      <td>0.943479</td>\n",
              "      <td>0.940721</td>\n",
              "      <td>0.922770</td>\n",
              "      <td>0.935424</td>\n",
              "      <td>0.921906</td>\n",
              "      <td>0.934204</td>\n",
              "      <td>0.925533</td>\n",
              "      <td>0.924305</td>\n",
              "    </tr>\n",
              "    <tr>\n",
              "      <th>2</th>\n",
              "      <td>2</td>\n",
              "      <td>-1</td>\n",
              "      <td>0.943445</td>\n",
              "      <td>0.940915</td>\n",
              "      <td>0.919063</td>\n",
              "      <td>0.933215</td>\n",
              "      <td>0.918023</td>\n",
              "      <td>0.931593</td>\n",
              "      <td>0.929880</td>\n",
              "      <td>0.928767</td>\n",
              "    </tr>\n",
              "    <tr>\n",
              "      <th>3</th>\n",
              "      <td>3</td>\n",
              "      <td>-1</td>\n",
              "      <td>0.944208</td>\n",
              "      <td>0.941721</td>\n",
              "      <td>0.919334</td>\n",
              "      <td>0.934654</td>\n",
              "      <td>0.918480</td>\n",
              "      <td>0.933238</td>\n",
              "      <td>0.929471</td>\n",
              "      <td>0.928849</td>\n",
              "    </tr>\n",
              "    <tr>\n",
              "      <th>4</th>\n",
              "      <td>4</td>\n",
              "      <td>-1</td>\n",
              "      <td>0.944674</td>\n",
              "      <td>0.942114</td>\n",
              "      <td>0.919317</td>\n",
              "      <td>0.934806</td>\n",
              "      <td>0.918335</td>\n",
              "      <td>0.933238</td>\n",
              "      <td>0.929866</td>\n",
              "      <td>0.929383</td>\n",
              "    </tr>\n",
              "  </tbody>\n",
              "</table>\n",
              "</div>"
            ],
            "text/plain": [
              "   epoch  steps  cosine_pearson  ...  manhattan_spearman  dot_pearson  dot_spearman\n",
              "0      0     -1        0.939529  ...            0.931622     0.925220      0.924558\n",
              "1      1     -1        0.943479  ...            0.934204     0.925533      0.924305\n",
              "2      2     -1        0.943445  ...            0.931593     0.929880      0.928767\n",
              "3      3     -1        0.944208  ...            0.933238     0.929471      0.928849\n",
              "4      4     -1        0.944674  ...            0.933238     0.929866      0.929383\n",
              "\n",
              "[5 rows x 10 columns]"
            ]
          },
          "metadata": {
            "tags": []
          },
          "execution_count": 23
        }
      ]
    },
    {
      "cell_type": "code",
      "metadata": {
        "colab": {
          "base_uri": "https://localhost:8080/",
          "height": 132
        },
        "id": "5yl--QSqgtmv",
        "outputId": "15595221-7633-4354-8c1b-8d2ef21c0169"
      },
      "source": [
        "results = pd.read_csv('/content/drive/MyDrive/models/cds-czywiesz-labels-bi-encoder/cds_czywiesz_labels-bi-encoder-bert-base-multilingual-cased-2021-01-24_22-52-29/Information-Retrieval_evaluation_czywiesz_results.csv/Information-Retrieval_evaluation_czywiesz_results.csv')\r\n",
        "results"
      ],
      "execution_count": 25,
      "outputs": [
        {
          "output_type": "execute_result",
          "data": {
            "text/html": [
              "<div>\n",
              "<style scoped>\n",
              "    .dataframe tbody tr th:only-of-type {\n",
              "        vertical-align: middle;\n",
              "    }\n",
              "\n",
              "    .dataframe tbody tr th {\n",
              "        vertical-align: top;\n",
              "    }\n",
              "\n",
              "    .dataframe thead th {\n",
              "        text-align: right;\n",
              "    }\n",
              "</style>\n",
              "<table border=\"1\" class=\"dataframe\">\n",
              "  <thead>\n",
              "    <tr style=\"text-align: right;\">\n",
              "      <th></th>\n",
              "      <th>epoch</th>\n",
              "      <th>steps</th>\n",
              "      <th>Accuracy@1</th>\n",
              "      <th>Accuracy@3</th>\n",
              "      <th>Accuracy@5</th>\n",
              "      <th>Accuracy@10</th>\n",
              "      <th>Precision@1</th>\n",
              "      <th>Recall@1</th>\n",
              "      <th>Precision@3</th>\n",
              "      <th>Recall@3</th>\n",
              "      <th>Precision@5</th>\n",
              "      <th>Recall@5</th>\n",
              "      <th>Precision@10</th>\n",
              "      <th>Recall@10</th>\n",
              "      <th>MRR@10</th>\n",
              "      <th>NDCG@10</th>\n",
              "      <th>MAP@100</th>\n",
              "    </tr>\n",
              "  </thead>\n",
              "  <tbody>\n",
              "    <tr>\n",
              "      <th>0</th>\n",
              "      <td>-1</td>\n",
              "      <td>-1</td>\n",
              "      <td>0.820073</td>\n",
              "      <td>0.877601</td>\n",
              "      <td>0.893513</td>\n",
              "      <td>0.916769</td>\n",
              "      <td>0.820073</td>\n",
              "      <td>0.820073</td>\n",
              "      <td>0.292534</td>\n",
              "      <td>0.877601</td>\n",
              "      <td>0.178703</td>\n",
              "      <td>0.893513</td>\n",
              "      <td>0.091677</td>\n",
              "      <td>0.916769</td>\n",
              "      <td>0.852552</td>\n",
              "      <td>0.86812</td>\n",
              "      <td>0.854271</td>\n",
              "    </tr>\n",
              "    <tr>\n",
              "      <th>1</th>\n",
              "      <td>-1</td>\n",
              "      <td>-1</td>\n",
              "      <td>0.820073</td>\n",
              "      <td>0.877601</td>\n",
              "      <td>0.893513</td>\n",
              "      <td>0.916769</td>\n",
              "      <td>0.820073</td>\n",
              "      <td>0.820073</td>\n",
              "      <td>0.292534</td>\n",
              "      <td>0.877601</td>\n",
              "      <td>0.178703</td>\n",
              "      <td>0.893513</td>\n",
              "      <td>0.091677</td>\n",
              "      <td>0.916769</td>\n",
              "      <td>0.852552</td>\n",
              "      <td>0.86812</td>\n",
              "      <td>0.854271</td>\n",
              "    </tr>\n",
              "  </tbody>\n",
              "</table>\n",
              "</div>"
            ],
            "text/plain": [
              "   epoch  steps  Accuracy@1  Accuracy@3  ...  Recall@10    MRR@10  NDCG@10   MAP@100\n",
              "0     -1     -1    0.820073    0.877601  ...   0.916769  0.852552  0.86812  0.854271\n",
              "1     -1     -1    0.820073    0.877601  ...   0.916769  0.852552  0.86812  0.854271\n",
              "\n",
              "[2 rows x 17 columns]"
            ]
          },
          "metadata": {
            "tags": []
          },
          "execution_count": 25
        }
      ]
    }
  ]
}