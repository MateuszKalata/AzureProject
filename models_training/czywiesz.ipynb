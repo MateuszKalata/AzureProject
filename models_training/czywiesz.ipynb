{
  "nbformat": 4,
  "nbformat_minor": 0,
  "metadata": {
    "colab": {
      "name": "czywiesz.ipynb",
      "provenance": [],
      "collapsed_sections": [],
      "toc_visible": true
    },
    "kernelspec": {
      "name": "python3",
      "display_name": "Python 3"
    },
    "accelerator": "GPU",
    "widgets": {
      "application/vnd.jupyter.widget-state+json": {
        "fcb7faaa940f4032a956c6a72e7fb56d": {
          "model_module": "@jupyter-widgets/controls",
          "model_name": "HBoxModel",
          "state": {
            "_view_name": "HBoxView",
            "_dom_classes": [],
            "_model_name": "HBoxModel",
            "_view_module": "@jupyter-widgets/controls",
            "_model_module_version": "1.5.0",
            "_view_count": null,
            "_view_module_version": "1.5.0",
            "box_style": "",
            "layout": "IPY_MODEL_4b67c8284db640e2842a05e2784852ba",
            "_model_module": "@jupyter-widgets/controls",
            "children": [
              "IPY_MODEL_f8b459b8d3b54d6f9b3c5cc308276385",
              "IPY_MODEL_fdc48b58ea534b339fbcdf338b97a25d"
            ]
          }
        },
        "4b67c8284db640e2842a05e2784852ba": {
          "model_module": "@jupyter-widgets/base",
          "model_name": "LayoutModel",
          "state": {
            "_view_name": "LayoutView",
            "grid_template_rows": null,
            "right": null,
            "justify_content": null,
            "_view_module": "@jupyter-widgets/base",
            "overflow": null,
            "_model_module_version": "1.2.0",
            "_view_count": null,
            "flex_flow": null,
            "width": null,
            "min_width": null,
            "border": null,
            "align_items": null,
            "bottom": null,
            "_model_module": "@jupyter-widgets/base",
            "top": null,
            "grid_column": null,
            "overflow_y": null,
            "overflow_x": null,
            "grid_auto_flow": null,
            "grid_area": null,
            "grid_template_columns": null,
            "flex": null,
            "_model_name": "LayoutModel",
            "justify_items": null,
            "grid_row": null,
            "max_height": null,
            "align_content": null,
            "visibility": null,
            "align_self": null,
            "height": null,
            "min_height": null,
            "padding": null,
            "grid_auto_rows": null,
            "grid_gap": null,
            "max_width": null,
            "order": null,
            "_view_module_version": "1.2.0",
            "grid_template_areas": null,
            "object_position": null,
            "object_fit": null,
            "grid_auto_columns": null,
            "margin": null,
            "display": null,
            "left": null
          }
        },
        "f8b459b8d3b54d6f9b3c5cc308276385": {
          "model_module": "@jupyter-widgets/controls",
          "model_name": "FloatProgressModel",
          "state": {
            "_view_name": "ProgressView",
            "style": "IPY_MODEL_b56ca128acac4dd59f4f6721e657c008",
            "_dom_classes": [],
            "description": "Batches: 100%",
            "_model_name": "FloatProgressModel",
            "bar_style": "success",
            "max": 1,
            "_view_module": "@jupyter-widgets/controls",
            "_model_module_version": "1.5.0",
            "value": 1,
            "_view_count": null,
            "_view_module_version": "1.5.0",
            "orientation": "horizontal",
            "min": 0,
            "description_tooltip": null,
            "_model_module": "@jupyter-widgets/controls",
            "layout": "IPY_MODEL_c2209e2b24954ad68c9505c73b9f44ff"
          }
        },
        "fdc48b58ea534b339fbcdf338b97a25d": {
          "model_module": "@jupyter-widgets/controls",
          "model_name": "HTMLModel",
          "state": {
            "_view_name": "HTMLView",
            "style": "IPY_MODEL_31cd7f13ef294004b3f30012ed20e370",
            "_dom_classes": [],
            "description": "",
            "_model_name": "HTMLModel",
            "placeholder": "​",
            "_view_module": "@jupyter-widgets/controls",
            "_model_module_version": "1.5.0",
            "value": " 1/1 [00:25&lt;00:00, 25.33s/it]",
            "_view_count": null,
            "_view_module_version": "1.5.0",
            "description_tooltip": null,
            "_model_module": "@jupyter-widgets/controls",
            "layout": "IPY_MODEL_6750a768c70e4903a8d070773c5d8c7e"
          }
        },
        "b56ca128acac4dd59f4f6721e657c008": {
          "model_module": "@jupyter-widgets/controls",
          "model_name": "ProgressStyleModel",
          "state": {
            "_view_name": "StyleView",
            "_model_name": "ProgressStyleModel",
            "description_width": "initial",
            "_view_module": "@jupyter-widgets/base",
            "_model_module_version": "1.5.0",
            "_view_count": null,
            "_view_module_version": "1.2.0",
            "bar_color": null,
            "_model_module": "@jupyter-widgets/controls"
          }
        },
        "c2209e2b24954ad68c9505c73b9f44ff": {
          "model_module": "@jupyter-widgets/base",
          "model_name": "LayoutModel",
          "state": {
            "_view_name": "LayoutView",
            "grid_template_rows": null,
            "right": null,
            "justify_content": null,
            "_view_module": "@jupyter-widgets/base",
            "overflow": null,
            "_model_module_version": "1.2.0",
            "_view_count": null,
            "flex_flow": null,
            "width": null,
            "min_width": null,
            "border": null,
            "align_items": null,
            "bottom": null,
            "_model_module": "@jupyter-widgets/base",
            "top": null,
            "grid_column": null,
            "overflow_y": null,
            "overflow_x": null,
            "grid_auto_flow": null,
            "grid_area": null,
            "grid_template_columns": null,
            "flex": null,
            "_model_name": "LayoutModel",
            "justify_items": null,
            "grid_row": null,
            "max_height": null,
            "align_content": null,
            "visibility": null,
            "align_self": null,
            "height": null,
            "min_height": null,
            "padding": null,
            "grid_auto_rows": null,
            "grid_gap": null,
            "max_width": null,
            "order": null,
            "_view_module_version": "1.2.0",
            "grid_template_areas": null,
            "object_position": null,
            "object_fit": null,
            "grid_auto_columns": null,
            "margin": null,
            "display": null,
            "left": null
          }
        },
        "31cd7f13ef294004b3f30012ed20e370": {
          "model_module": "@jupyter-widgets/controls",
          "model_name": "DescriptionStyleModel",
          "state": {
            "_view_name": "StyleView",
            "_model_name": "DescriptionStyleModel",
            "description_width": "",
            "_view_module": "@jupyter-widgets/base",
            "_model_module_version": "1.5.0",
            "_view_count": null,
            "_view_module_version": "1.2.0",
            "_model_module": "@jupyter-widgets/controls"
          }
        },
        "6750a768c70e4903a8d070773c5d8c7e": {
          "model_module": "@jupyter-widgets/base",
          "model_name": "LayoutModel",
          "state": {
            "_view_name": "LayoutView",
            "grid_template_rows": null,
            "right": null,
            "justify_content": null,
            "_view_module": "@jupyter-widgets/base",
            "overflow": null,
            "_model_module_version": "1.2.0",
            "_view_count": null,
            "flex_flow": null,
            "width": null,
            "min_width": null,
            "border": null,
            "align_items": null,
            "bottom": null,
            "_model_module": "@jupyter-widgets/base",
            "top": null,
            "grid_column": null,
            "overflow_y": null,
            "overflow_x": null,
            "grid_auto_flow": null,
            "grid_area": null,
            "grid_template_columns": null,
            "flex": null,
            "_model_name": "LayoutModel",
            "justify_items": null,
            "grid_row": null,
            "max_height": null,
            "align_content": null,
            "visibility": null,
            "align_self": null,
            "height": null,
            "min_height": null,
            "padding": null,
            "grid_auto_rows": null,
            "grid_gap": null,
            "max_width": null,
            "order": null,
            "_view_module_version": "1.2.0",
            "grid_template_areas": null,
            "object_position": null,
            "object_fit": null,
            "grid_auto_columns": null,
            "margin": null,
            "display": null,
            "left": null
          }
        },
        "d4678957e9a1447483ad06fd418f2167": {
          "model_module": "@jupyter-widgets/controls",
          "model_name": "HBoxModel",
          "state": {
            "_view_name": "HBoxView",
            "_dom_classes": [],
            "_model_name": "HBoxModel",
            "_view_module": "@jupyter-widgets/controls",
            "_model_module_version": "1.5.0",
            "_view_count": null,
            "_view_module_version": "1.5.0",
            "box_style": "",
            "layout": "IPY_MODEL_41ede0c932ce4110b5b6a4ec231534d0",
            "_model_module": "@jupyter-widgets/controls",
            "children": [
              "IPY_MODEL_0a398688b04a4bf49f7b5d7041e00485",
              "IPY_MODEL_03e152203243499b974672f87cc110ce"
            ]
          }
        },
        "41ede0c932ce4110b5b6a4ec231534d0": {
          "model_module": "@jupyter-widgets/base",
          "model_name": "LayoutModel",
          "state": {
            "_view_name": "LayoutView",
            "grid_template_rows": null,
            "right": null,
            "justify_content": null,
            "_view_module": "@jupyter-widgets/base",
            "overflow": null,
            "_model_module_version": "1.2.0",
            "_view_count": null,
            "flex_flow": null,
            "width": null,
            "min_width": null,
            "border": null,
            "align_items": null,
            "bottom": null,
            "_model_module": "@jupyter-widgets/base",
            "top": null,
            "grid_column": null,
            "overflow_y": null,
            "overflow_x": null,
            "grid_auto_flow": null,
            "grid_area": null,
            "grid_template_columns": null,
            "flex": null,
            "_model_name": "LayoutModel",
            "justify_items": null,
            "grid_row": null,
            "max_height": null,
            "align_content": null,
            "visibility": null,
            "align_self": null,
            "height": null,
            "min_height": null,
            "padding": null,
            "grid_auto_rows": null,
            "grid_gap": null,
            "max_width": null,
            "order": null,
            "_view_module_version": "1.2.0",
            "grid_template_areas": null,
            "object_position": null,
            "object_fit": null,
            "grid_auto_columns": null,
            "margin": null,
            "display": null,
            "left": null
          }
        },
        "0a398688b04a4bf49f7b5d7041e00485": {
          "model_module": "@jupyter-widgets/controls",
          "model_name": "FloatProgressModel",
          "state": {
            "_view_name": "ProgressView",
            "style": "IPY_MODEL_507d119361ef4d51a4bc049b5b743836",
            "_dom_classes": [],
            "description": "Batches: 100%",
            "_model_name": "FloatProgressModel",
            "bar_style": "success",
            "max": 1,
            "_view_module": "@jupyter-widgets/controls",
            "_model_module_version": "1.5.0",
            "value": 1,
            "_view_count": null,
            "_view_module_version": "1.5.0",
            "orientation": "horizontal",
            "min": 0,
            "description_tooltip": null,
            "_model_module": "@jupyter-widgets/controls",
            "layout": "IPY_MODEL_4312d14e23a349c48b592a086c6aee9b"
          }
        },
        "03e152203243499b974672f87cc110ce": {
          "model_module": "@jupyter-widgets/controls",
          "model_name": "HTMLModel",
          "state": {
            "_view_name": "HTMLView",
            "style": "IPY_MODEL_637b7e3c366b41ad8cd095dba9c1028d",
            "_dom_classes": [],
            "description": "",
            "_model_name": "HTMLModel",
            "placeholder": "​",
            "_view_module": "@jupyter-widgets/controls",
            "_model_module_version": "1.5.0",
            "value": " 1/1 [00:24&lt;00:00, 24.95s/it]",
            "_view_count": null,
            "_view_module_version": "1.5.0",
            "description_tooltip": null,
            "_model_module": "@jupyter-widgets/controls",
            "layout": "IPY_MODEL_11982802286f4f88878e86edad7364dd"
          }
        },
        "507d119361ef4d51a4bc049b5b743836": {
          "model_module": "@jupyter-widgets/controls",
          "model_name": "ProgressStyleModel",
          "state": {
            "_view_name": "StyleView",
            "_model_name": "ProgressStyleModel",
            "description_width": "initial",
            "_view_module": "@jupyter-widgets/base",
            "_model_module_version": "1.5.0",
            "_view_count": null,
            "_view_module_version": "1.2.0",
            "bar_color": null,
            "_model_module": "@jupyter-widgets/controls"
          }
        },
        "4312d14e23a349c48b592a086c6aee9b": {
          "model_module": "@jupyter-widgets/base",
          "model_name": "LayoutModel",
          "state": {
            "_view_name": "LayoutView",
            "grid_template_rows": null,
            "right": null,
            "justify_content": null,
            "_view_module": "@jupyter-widgets/base",
            "overflow": null,
            "_model_module_version": "1.2.0",
            "_view_count": null,
            "flex_flow": null,
            "width": null,
            "min_width": null,
            "border": null,
            "align_items": null,
            "bottom": null,
            "_model_module": "@jupyter-widgets/base",
            "top": null,
            "grid_column": null,
            "overflow_y": null,
            "overflow_x": null,
            "grid_auto_flow": null,
            "grid_area": null,
            "grid_template_columns": null,
            "flex": null,
            "_model_name": "LayoutModel",
            "justify_items": null,
            "grid_row": null,
            "max_height": null,
            "align_content": null,
            "visibility": null,
            "align_self": null,
            "height": null,
            "min_height": null,
            "padding": null,
            "grid_auto_rows": null,
            "grid_gap": null,
            "max_width": null,
            "order": null,
            "_view_module_version": "1.2.0",
            "grid_template_areas": null,
            "object_position": null,
            "object_fit": null,
            "grid_auto_columns": null,
            "margin": null,
            "display": null,
            "left": null
          }
        },
        "637b7e3c366b41ad8cd095dba9c1028d": {
          "model_module": "@jupyter-widgets/controls",
          "model_name": "DescriptionStyleModel",
          "state": {
            "_view_name": "StyleView",
            "_model_name": "DescriptionStyleModel",
            "description_width": "",
            "_view_module": "@jupyter-widgets/base",
            "_model_module_version": "1.5.0",
            "_view_count": null,
            "_view_module_version": "1.2.0",
            "_model_module": "@jupyter-widgets/controls"
          }
        },
        "11982802286f4f88878e86edad7364dd": {
          "model_module": "@jupyter-widgets/base",
          "model_name": "LayoutModel",
          "state": {
            "_view_name": "LayoutView",
            "grid_template_rows": null,
            "right": null,
            "justify_content": null,
            "_view_module": "@jupyter-widgets/base",
            "overflow": null,
            "_model_module_version": "1.2.0",
            "_view_count": null,
            "flex_flow": null,
            "width": null,
            "min_width": null,
            "border": null,
            "align_items": null,
            "bottom": null,
            "_model_module": "@jupyter-widgets/base",
            "top": null,
            "grid_column": null,
            "overflow_y": null,
            "overflow_x": null,
            "grid_auto_flow": null,
            "grid_area": null,
            "grid_template_columns": null,
            "flex": null,
            "_model_name": "LayoutModel",
            "justify_items": null,
            "grid_row": null,
            "max_height": null,
            "align_content": null,
            "visibility": null,
            "align_self": null,
            "height": null,
            "min_height": null,
            "padding": null,
            "grid_auto_rows": null,
            "grid_gap": null,
            "max_width": null,
            "order": null,
            "_view_module_version": "1.2.0",
            "grid_template_areas": null,
            "object_position": null,
            "object_fit": null,
            "grid_auto_columns": null,
            "margin": null,
            "display": null,
            "left": null
          }
        },
        "0bfe2908e50a4fc28e011e820aa3787d": {
          "model_module": "@jupyter-widgets/controls",
          "model_name": "HBoxModel",
          "state": {
            "_view_name": "HBoxView",
            "_dom_classes": [],
            "_model_name": "HBoxModel",
            "_view_module": "@jupyter-widgets/controls",
            "_model_module_version": "1.5.0",
            "_view_count": null,
            "_view_module_version": "1.5.0",
            "box_style": "",
            "layout": "IPY_MODEL_01d96434536747219fc1d8b30ff8a47b",
            "_model_module": "@jupyter-widgets/controls",
            "children": [
              "IPY_MODEL_b4afc00e951e44fcbf458ece75040fce",
              "IPY_MODEL_eecf0498449849089d98155fd28b073a"
            ]
          }
        },
        "01d96434536747219fc1d8b30ff8a47b": {
          "model_module": "@jupyter-widgets/base",
          "model_name": "LayoutModel",
          "state": {
            "_view_name": "LayoutView",
            "grid_template_rows": null,
            "right": null,
            "justify_content": null,
            "_view_module": "@jupyter-widgets/base",
            "overflow": null,
            "_model_module_version": "1.2.0",
            "_view_count": null,
            "flex_flow": null,
            "width": null,
            "min_width": null,
            "border": null,
            "align_items": null,
            "bottom": null,
            "_model_module": "@jupyter-widgets/base",
            "top": null,
            "grid_column": null,
            "overflow_y": null,
            "overflow_x": null,
            "grid_auto_flow": null,
            "grid_area": null,
            "grid_template_columns": null,
            "flex": null,
            "_model_name": "LayoutModel",
            "justify_items": null,
            "grid_row": null,
            "max_height": null,
            "align_content": null,
            "visibility": null,
            "align_self": null,
            "height": null,
            "min_height": null,
            "padding": null,
            "grid_auto_rows": null,
            "grid_gap": null,
            "max_width": null,
            "order": null,
            "_view_module_version": "1.2.0",
            "grid_template_areas": null,
            "object_position": null,
            "object_fit": null,
            "grid_auto_columns": null,
            "margin": null,
            "display": null,
            "left": null
          }
        },
        "b4afc00e951e44fcbf458ece75040fce": {
          "model_module": "@jupyter-widgets/controls",
          "model_name": "FloatProgressModel",
          "state": {
            "_view_name": "ProgressView",
            "style": "IPY_MODEL_f70b327b123347faa5971298ab944148",
            "_dom_classes": [],
            "description": "Epoch: 100%",
            "_model_name": "FloatProgressModel",
            "bar_style": "success",
            "max": 5,
            "_view_module": "@jupyter-widgets/controls",
            "_model_module_version": "1.5.0",
            "value": 5,
            "_view_count": null,
            "_view_module_version": "1.5.0",
            "orientation": "horizontal",
            "min": 0,
            "description_tooltip": null,
            "_model_module": "@jupyter-widgets/controls",
            "layout": "IPY_MODEL_10149d4ece90439ca8ac020d69af3776"
          }
        },
        "eecf0498449849089d98155fd28b073a": {
          "model_module": "@jupyter-widgets/controls",
          "model_name": "HTMLModel",
          "state": {
            "_view_name": "HTMLView",
            "style": "IPY_MODEL_ebb9ac1d9487483bae7132ac7b11bbf6",
            "_dom_classes": [],
            "description": "",
            "_model_name": "HTMLModel",
            "placeholder": "​",
            "_view_module": "@jupyter-widgets/controls",
            "_model_module_version": "1.5.0",
            "value": " 5/5 [04:26&lt;00:00, 53.26s/it]",
            "_view_count": null,
            "_view_module_version": "1.5.0",
            "description_tooltip": null,
            "_model_module": "@jupyter-widgets/controls",
            "layout": "IPY_MODEL_f3eee20dbc234c4fa0617a4542c9c2b7"
          }
        },
        "f70b327b123347faa5971298ab944148": {
          "model_module": "@jupyter-widgets/controls",
          "model_name": "ProgressStyleModel",
          "state": {
            "_view_name": "StyleView",
            "_model_name": "ProgressStyleModel",
            "description_width": "initial",
            "_view_module": "@jupyter-widgets/base",
            "_model_module_version": "1.5.0",
            "_view_count": null,
            "_view_module_version": "1.2.0",
            "bar_color": null,
            "_model_module": "@jupyter-widgets/controls"
          }
        },
        "10149d4ece90439ca8ac020d69af3776": {
          "model_module": "@jupyter-widgets/base",
          "model_name": "LayoutModel",
          "state": {
            "_view_name": "LayoutView",
            "grid_template_rows": null,
            "right": null,
            "justify_content": null,
            "_view_module": "@jupyter-widgets/base",
            "overflow": null,
            "_model_module_version": "1.2.0",
            "_view_count": null,
            "flex_flow": null,
            "width": null,
            "min_width": null,
            "border": null,
            "align_items": null,
            "bottom": null,
            "_model_module": "@jupyter-widgets/base",
            "top": null,
            "grid_column": null,
            "overflow_y": null,
            "overflow_x": null,
            "grid_auto_flow": null,
            "grid_area": null,
            "grid_template_columns": null,
            "flex": null,
            "_model_name": "LayoutModel",
            "justify_items": null,
            "grid_row": null,
            "max_height": null,
            "align_content": null,
            "visibility": null,
            "align_self": null,
            "height": null,
            "min_height": null,
            "padding": null,
            "grid_auto_rows": null,
            "grid_gap": null,
            "max_width": null,
            "order": null,
            "_view_module_version": "1.2.0",
            "grid_template_areas": null,
            "object_position": null,
            "object_fit": null,
            "grid_auto_columns": null,
            "margin": null,
            "display": null,
            "left": null
          }
        },
        "ebb9ac1d9487483bae7132ac7b11bbf6": {
          "model_module": "@jupyter-widgets/controls",
          "model_name": "DescriptionStyleModel",
          "state": {
            "_view_name": "StyleView",
            "_model_name": "DescriptionStyleModel",
            "description_width": "",
            "_view_module": "@jupyter-widgets/base",
            "_model_module_version": "1.5.0",
            "_view_count": null,
            "_view_module_version": "1.2.0",
            "_model_module": "@jupyter-widgets/controls"
          }
        },
        "f3eee20dbc234c4fa0617a4542c9c2b7": {
          "model_module": "@jupyter-widgets/base",
          "model_name": "LayoutModel",
          "state": {
            "_view_name": "LayoutView",
            "grid_template_rows": null,
            "right": null,
            "justify_content": null,
            "_view_module": "@jupyter-widgets/base",
            "overflow": null,
            "_model_module_version": "1.2.0",
            "_view_count": null,
            "flex_flow": null,
            "width": null,
            "min_width": null,
            "border": null,
            "align_items": null,
            "bottom": null,
            "_model_module": "@jupyter-widgets/base",
            "top": null,
            "grid_column": null,
            "overflow_y": null,
            "overflow_x": null,
            "grid_auto_flow": null,
            "grid_area": null,
            "grid_template_columns": null,
            "flex": null,
            "_model_name": "LayoutModel",
            "justify_items": null,
            "grid_row": null,
            "max_height": null,
            "align_content": null,
            "visibility": null,
            "align_self": null,
            "height": null,
            "min_height": null,
            "padding": null,
            "grid_auto_rows": null,
            "grid_gap": null,
            "max_width": null,
            "order": null,
            "_view_module_version": "1.2.0",
            "grid_template_areas": null,
            "object_position": null,
            "object_fit": null,
            "grid_auto_columns": null,
            "margin": null,
            "display": null,
            "left": null
          }
        },
        "cff940273c2b4609bd6e37f8bb483895": {
          "model_module": "@jupyter-widgets/controls",
          "model_name": "HBoxModel",
          "state": {
            "_view_name": "HBoxView",
            "_dom_classes": [],
            "_model_name": "HBoxModel",
            "_view_module": "@jupyter-widgets/controls",
            "_model_module_version": "1.5.0",
            "_view_count": null,
            "_view_module_version": "1.5.0",
            "box_style": "",
            "layout": "IPY_MODEL_44d6369fbdd947a29cea84399ca27e1f",
            "_model_module": "@jupyter-widgets/controls",
            "children": [
              "IPY_MODEL_4bd5bcdbd3154c66b1b86d0afcba5a9a",
              "IPY_MODEL_bf7cf9c5e03540688a24a55245d1745a"
            ]
          }
        },
        "44d6369fbdd947a29cea84399ca27e1f": {
          "model_module": "@jupyter-widgets/base",
          "model_name": "LayoutModel",
          "state": {
            "_view_name": "LayoutView",
            "grid_template_rows": null,
            "right": null,
            "justify_content": null,
            "_view_module": "@jupyter-widgets/base",
            "overflow": null,
            "_model_module_version": "1.2.0",
            "_view_count": null,
            "flex_flow": null,
            "width": null,
            "min_width": null,
            "border": null,
            "align_items": null,
            "bottom": null,
            "_model_module": "@jupyter-widgets/base",
            "top": null,
            "grid_column": null,
            "overflow_y": null,
            "overflow_x": null,
            "grid_auto_flow": null,
            "grid_area": null,
            "grid_template_columns": null,
            "flex": null,
            "_model_name": "LayoutModel",
            "justify_items": null,
            "grid_row": null,
            "max_height": null,
            "align_content": null,
            "visibility": null,
            "align_self": null,
            "height": null,
            "min_height": null,
            "padding": null,
            "grid_auto_rows": null,
            "grid_gap": null,
            "max_width": null,
            "order": null,
            "_view_module_version": "1.2.0",
            "grid_template_areas": null,
            "object_position": null,
            "object_fit": null,
            "grid_auto_columns": null,
            "margin": null,
            "display": null,
            "left": null
          }
        },
        "4bd5bcdbd3154c66b1b86d0afcba5a9a": {
          "model_module": "@jupyter-widgets/controls",
          "model_name": "FloatProgressModel",
          "state": {
            "_view_name": "ProgressView",
            "style": "IPY_MODEL_57194b2372684ec280f49d37c0d09387",
            "_dom_classes": [],
            "description": "Iteration: 100%",
            "_model_name": "FloatProgressModel",
            "bar_style": "success",
            "max": 63,
            "_view_module": "@jupyter-widgets/controls",
            "_model_module_version": "1.5.0",
            "value": 63,
            "_view_count": null,
            "_view_module_version": "1.5.0",
            "orientation": "horizontal",
            "min": 0,
            "description_tooltip": null,
            "_model_module": "@jupyter-widgets/controls",
            "layout": "IPY_MODEL_9955433c38ca4d50a1707fd42a2e0522"
          }
        },
        "bf7cf9c5e03540688a24a55245d1745a": {
          "model_module": "@jupyter-widgets/controls",
          "model_name": "HTMLModel",
          "state": {
            "_view_name": "HTMLView",
            "style": "IPY_MODEL_547ceb152825418db1bac97807cc68a9",
            "_dom_classes": [],
            "description": "",
            "_model_name": "HTMLModel",
            "placeholder": "​",
            "_view_module": "@jupyter-widgets/controls",
            "_model_module_version": "1.5.0",
            "value": " 63/63 [00:43&lt;00:00,  1.43it/s]",
            "_view_count": null,
            "_view_module_version": "1.5.0",
            "description_tooltip": null,
            "_model_module": "@jupyter-widgets/controls",
            "layout": "IPY_MODEL_0a6639985212423693c9142f8ad13019"
          }
        },
        "57194b2372684ec280f49d37c0d09387": {
          "model_module": "@jupyter-widgets/controls",
          "model_name": "ProgressStyleModel",
          "state": {
            "_view_name": "StyleView",
            "_model_name": "ProgressStyleModel",
            "description_width": "initial",
            "_view_module": "@jupyter-widgets/base",
            "_model_module_version": "1.5.0",
            "_view_count": null,
            "_view_module_version": "1.2.0",
            "bar_color": null,
            "_model_module": "@jupyter-widgets/controls"
          }
        },
        "9955433c38ca4d50a1707fd42a2e0522": {
          "model_module": "@jupyter-widgets/base",
          "model_name": "LayoutModel",
          "state": {
            "_view_name": "LayoutView",
            "grid_template_rows": null,
            "right": null,
            "justify_content": null,
            "_view_module": "@jupyter-widgets/base",
            "overflow": null,
            "_model_module_version": "1.2.0",
            "_view_count": null,
            "flex_flow": null,
            "width": null,
            "min_width": null,
            "border": null,
            "align_items": null,
            "bottom": null,
            "_model_module": "@jupyter-widgets/base",
            "top": null,
            "grid_column": null,
            "overflow_y": null,
            "overflow_x": null,
            "grid_auto_flow": null,
            "grid_area": null,
            "grid_template_columns": null,
            "flex": null,
            "_model_name": "LayoutModel",
            "justify_items": null,
            "grid_row": null,
            "max_height": null,
            "align_content": null,
            "visibility": null,
            "align_self": null,
            "height": null,
            "min_height": null,
            "padding": null,
            "grid_auto_rows": null,
            "grid_gap": null,
            "max_width": null,
            "order": null,
            "_view_module_version": "1.2.0",
            "grid_template_areas": null,
            "object_position": null,
            "object_fit": null,
            "grid_auto_columns": null,
            "margin": null,
            "display": null,
            "left": null
          }
        },
        "547ceb152825418db1bac97807cc68a9": {
          "model_module": "@jupyter-widgets/controls",
          "model_name": "DescriptionStyleModel",
          "state": {
            "_view_name": "StyleView",
            "_model_name": "DescriptionStyleModel",
            "description_width": "",
            "_view_module": "@jupyter-widgets/base",
            "_model_module_version": "1.5.0",
            "_view_count": null,
            "_view_module_version": "1.2.0",
            "_model_module": "@jupyter-widgets/controls"
          }
        },
        "0a6639985212423693c9142f8ad13019": {
          "model_module": "@jupyter-widgets/base",
          "model_name": "LayoutModel",
          "state": {
            "_view_name": "LayoutView",
            "grid_template_rows": null,
            "right": null,
            "justify_content": null,
            "_view_module": "@jupyter-widgets/base",
            "overflow": null,
            "_model_module_version": "1.2.0",
            "_view_count": null,
            "flex_flow": null,
            "width": null,
            "min_width": null,
            "border": null,
            "align_items": null,
            "bottom": null,
            "_model_module": "@jupyter-widgets/base",
            "top": null,
            "grid_column": null,
            "overflow_y": null,
            "overflow_x": null,
            "grid_auto_flow": null,
            "grid_area": null,
            "grid_template_columns": null,
            "flex": null,
            "_model_name": "LayoutModel",
            "justify_items": null,
            "grid_row": null,
            "max_height": null,
            "align_content": null,
            "visibility": null,
            "align_self": null,
            "height": null,
            "min_height": null,
            "padding": null,
            "grid_auto_rows": null,
            "grid_gap": null,
            "max_width": null,
            "order": null,
            "_view_module_version": "1.2.0",
            "grid_template_areas": null,
            "object_position": null,
            "object_fit": null,
            "grid_auto_columns": null,
            "margin": null,
            "display": null,
            "left": null
          }
        },
        "5d66c99c7e794a5d874c18b5eac747ae": {
          "model_module": "@jupyter-widgets/controls",
          "model_name": "HBoxModel",
          "state": {
            "_view_name": "HBoxView",
            "_dom_classes": [],
            "_model_name": "HBoxModel",
            "_view_module": "@jupyter-widgets/controls",
            "_model_module_version": "1.5.0",
            "_view_count": null,
            "_view_module_version": "1.5.0",
            "box_style": "",
            "layout": "IPY_MODEL_98ade0ff68a54d1095849bd22e80aad6",
            "_model_module": "@jupyter-widgets/controls",
            "children": [
              "IPY_MODEL_103e292d400c4dee9ef42db092e26c70",
              "IPY_MODEL_008c0761790b4394850b678db7856e0c"
            ]
          }
        },
        "98ade0ff68a54d1095849bd22e80aad6": {
          "model_module": "@jupyter-widgets/base",
          "model_name": "LayoutModel",
          "state": {
            "_view_name": "LayoutView",
            "grid_template_rows": null,
            "right": null,
            "justify_content": null,
            "_view_module": "@jupyter-widgets/base",
            "overflow": null,
            "_model_module_version": "1.2.0",
            "_view_count": null,
            "flex_flow": null,
            "width": null,
            "min_width": null,
            "border": null,
            "align_items": null,
            "bottom": null,
            "_model_module": "@jupyter-widgets/base",
            "top": null,
            "grid_column": null,
            "overflow_y": null,
            "overflow_x": null,
            "grid_auto_flow": null,
            "grid_area": null,
            "grid_template_columns": null,
            "flex": null,
            "_model_name": "LayoutModel",
            "justify_items": null,
            "grid_row": null,
            "max_height": null,
            "align_content": null,
            "visibility": null,
            "align_self": null,
            "height": null,
            "min_height": null,
            "padding": null,
            "grid_auto_rows": null,
            "grid_gap": null,
            "max_width": null,
            "order": null,
            "_view_module_version": "1.2.0",
            "grid_template_areas": null,
            "object_position": null,
            "object_fit": null,
            "grid_auto_columns": null,
            "margin": null,
            "display": null,
            "left": null
          }
        },
        "103e292d400c4dee9ef42db092e26c70": {
          "model_module": "@jupyter-widgets/controls",
          "model_name": "FloatProgressModel",
          "state": {
            "_view_name": "ProgressView",
            "style": "IPY_MODEL_600e854f470c441283895d5abdb85e8d",
            "_dom_classes": [],
            "description": "Iteration: 100%",
            "_model_name": "FloatProgressModel",
            "bar_style": "success",
            "max": 63,
            "_view_module": "@jupyter-widgets/controls",
            "_model_module_version": "1.5.0",
            "value": 63,
            "_view_count": null,
            "_view_module_version": "1.5.0",
            "orientation": "horizontal",
            "min": 0,
            "description_tooltip": null,
            "_model_module": "@jupyter-widgets/controls",
            "layout": "IPY_MODEL_b07312da8e3a493b882a404b582c2129"
          }
        },
        "008c0761790b4394850b678db7856e0c": {
          "model_module": "@jupyter-widgets/controls",
          "model_name": "HTMLModel",
          "state": {
            "_view_name": "HTMLView",
            "style": "IPY_MODEL_5ef9471336d14c20a43fc4b536eecf87",
            "_dom_classes": [],
            "description": "",
            "_model_name": "HTMLModel",
            "placeholder": "​",
            "_view_module": "@jupyter-widgets/controls",
            "_model_module_version": "1.5.0",
            "value": " 63/63 [00:49&lt;00:00,  1.26it/s]",
            "_view_count": null,
            "_view_module_version": "1.5.0",
            "description_tooltip": null,
            "_model_module": "@jupyter-widgets/controls",
            "layout": "IPY_MODEL_76ee2a1460874b438fb16e88a0446010"
          }
        },
        "600e854f470c441283895d5abdb85e8d": {
          "model_module": "@jupyter-widgets/controls",
          "model_name": "ProgressStyleModel",
          "state": {
            "_view_name": "StyleView",
            "_model_name": "ProgressStyleModel",
            "description_width": "initial",
            "_view_module": "@jupyter-widgets/base",
            "_model_module_version": "1.5.0",
            "_view_count": null,
            "_view_module_version": "1.2.0",
            "bar_color": null,
            "_model_module": "@jupyter-widgets/controls"
          }
        },
        "b07312da8e3a493b882a404b582c2129": {
          "model_module": "@jupyter-widgets/base",
          "model_name": "LayoutModel",
          "state": {
            "_view_name": "LayoutView",
            "grid_template_rows": null,
            "right": null,
            "justify_content": null,
            "_view_module": "@jupyter-widgets/base",
            "overflow": null,
            "_model_module_version": "1.2.0",
            "_view_count": null,
            "flex_flow": null,
            "width": null,
            "min_width": null,
            "border": null,
            "align_items": null,
            "bottom": null,
            "_model_module": "@jupyter-widgets/base",
            "top": null,
            "grid_column": null,
            "overflow_y": null,
            "overflow_x": null,
            "grid_auto_flow": null,
            "grid_area": null,
            "grid_template_columns": null,
            "flex": null,
            "_model_name": "LayoutModel",
            "justify_items": null,
            "grid_row": null,
            "max_height": null,
            "align_content": null,
            "visibility": null,
            "align_self": null,
            "height": null,
            "min_height": null,
            "padding": null,
            "grid_auto_rows": null,
            "grid_gap": null,
            "max_width": null,
            "order": null,
            "_view_module_version": "1.2.0",
            "grid_template_areas": null,
            "object_position": null,
            "object_fit": null,
            "grid_auto_columns": null,
            "margin": null,
            "display": null,
            "left": null
          }
        },
        "5ef9471336d14c20a43fc4b536eecf87": {
          "model_module": "@jupyter-widgets/controls",
          "model_name": "DescriptionStyleModel",
          "state": {
            "_view_name": "StyleView",
            "_model_name": "DescriptionStyleModel",
            "description_width": "",
            "_view_module": "@jupyter-widgets/base",
            "_model_module_version": "1.5.0",
            "_view_count": null,
            "_view_module_version": "1.2.0",
            "_model_module": "@jupyter-widgets/controls"
          }
        },
        "76ee2a1460874b438fb16e88a0446010": {
          "model_module": "@jupyter-widgets/base",
          "model_name": "LayoutModel",
          "state": {
            "_view_name": "LayoutView",
            "grid_template_rows": null,
            "right": null,
            "justify_content": null,
            "_view_module": "@jupyter-widgets/base",
            "overflow": null,
            "_model_module_version": "1.2.0",
            "_view_count": null,
            "flex_flow": null,
            "width": null,
            "min_width": null,
            "border": null,
            "align_items": null,
            "bottom": null,
            "_model_module": "@jupyter-widgets/base",
            "top": null,
            "grid_column": null,
            "overflow_y": null,
            "overflow_x": null,
            "grid_auto_flow": null,
            "grid_area": null,
            "grid_template_columns": null,
            "flex": null,
            "_model_name": "LayoutModel",
            "justify_items": null,
            "grid_row": null,
            "max_height": null,
            "align_content": null,
            "visibility": null,
            "align_self": null,
            "height": null,
            "min_height": null,
            "padding": null,
            "grid_auto_rows": null,
            "grid_gap": null,
            "max_width": null,
            "order": null,
            "_view_module_version": "1.2.0",
            "grid_template_areas": null,
            "object_position": null,
            "object_fit": null,
            "grid_auto_columns": null,
            "margin": null,
            "display": null,
            "left": null
          }
        },
        "045cedfdaa804ef68c44b325ecc910be": {
          "model_module": "@jupyter-widgets/controls",
          "model_name": "HBoxModel",
          "state": {
            "_view_name": "HBoxView",
            "_dom_classes": [],
            "_model_name": "HBoxModel",
            "_view_module": "@jupyter-widgets/controls",
            "_model_module_version": "1.5.0",
            "_view_count": null,
            "_view_module_version": "1.5.0",
            "box_style": "",
            "layout": "IPY_MODEL_fb18c0dff1fe4d68ad0987d5aee287db",
            "_model_module": "@jupyter-widgets/controls",
            "children": [
              "IPY_MODEL_cd49f5822881410b903c0230b4f02cec",
              "IPY_MODEL_b0e85d40c4604ed58cf58ba5780083a2"
            ]
          }
        },
        "fb18c0dff1fe4d68ad0987d5aee287db": {
          "model_module": "@jupyter-widgets/base",
          "model_name": "LayoutModel",
          "state": {
            "_view_name": "LayoutView",
            "grid_template_rows": null,
            "right": null,
            "justify_content": null,
            "_view_module": "@jupyter-widgets/base",
            "overflow": null,
            "_model_module_version": "1.2.0",
            "_view_count": null,
            "flex_flow": null,
            "width": null,
            "min_width": null,
            "border": null,
            "align_items": null,
            "bottom": null,
            "_model_module": "@jupyter-widgets/base",
            "top": null,
            "grid_column": null,
            "overflow_y": null,
            "overflow_x": null,
            "grid_auto_flow": null,
            "grid_area": null,
            "grid_template_columns": null,
            "flex": null,
            "_model_name": "LayoutModel",
            "justify_items": null,
            "grid_row": null,
            "max_height": null,
            "align_content": null,
            "visibility": null,
            "align_self": null,
            "height": null,
            "min_height": null,
            "padding": null,
            "grid_auto_rows": null,
            "grid_gap": null,
            "max_width": null,
            "order": null,
            "_view_module_version": "1.2.0",
            "grid_template_areas": null,
            "object_position": null,
            "object_fit": null,
            "grid_auto_columns": null,
            "margin": null,
            "display": null,
            "left": null
          }
        },
        "cd49f5822881410b903c0230b4f02cec": {
          "model_module": "@jupyter-widgets/controls",
          "model_name": "FloatProgressModel",
          "state": {
            "_view_name": "ProgressView",
            "style": "IPY_MODEL_60f323735e5648fa98756eb8914ca33b",
            "_dom_classes": [],
            "description": "Iteration:  14%",
            "_model_name": "FloatProgressModel",
            "bar_style": "",
            "max": 63,
            "_view_module": "@jupyter-widgets/controls",
            "_model_module_version": "1.5.0",
            "value": 9,
            "_view_count": null,
            "_view_module_version": "1.5.0",
            "orientation": "horizontal",
            "min": 0,
            "description_tooltip": null,
            "_model_module": "@jupyter-widgets/controls",
            "layout": "IPY_MODEL_d332a667791349c2a483a9941f73ed3b"
          }
        },
        "b0e85d40c4604ed58cf58ba5780083a2": {
          "model_module": "@jupyter-widgets/controls",
          "model_name": "HTMLModel",
          "state": {
            "_view_name": "HTMLView",
            "style": "IPY_MODEL_3db04d72b83a44b5bceb3aeea4d50e0a",
            "_dom_classes": [],
            "description": "",
            "_model_name": "HTMLModel",
            "placeholder": "​",
            "_view_module": "@jupyter-widgets/controls",
            "_model_module_version": "1.5.0",
            "value": " 9/63 [00:06&lt;00:40,  1.35it/s]",
            "_view_count": null,
            "_view_module_version": "1.5.0",
            "description_tooltip": null,
            "_model_module": "@jupyter-widgets/controls",
            "layout": "IPY_MODEL_ff5fdb87da654dd899e6df35c1113c17"
          }
        },
        "60f323735e5648fa98756eb8914ca33b": {
          "model_module": "@jupyter-widgets/controls",
          "model_name": "ProgressStyleModel",
          "state": {
            "_view_name": "StyleView",
            "_model_name": "ProgressStyleModel",
            "description_width": "initial",
            "_view_module": "@jupyter-widgets/base",
            "_model_module_version": "1.5.0",
            "_view_count": null,
            "_view_module_version": "1.2.0",
            "bar_color": null,
            "_model_module": "@jupyter-widgets/controls"
          }
        },
        "d332a667791349c2a483a9941f73ed3b": {
          "model_module": "@jupyter-widgets/base",
          "model_name": "LayoutModel",
          "state": {
            "_view_name": "LayoutView",
            "grid_template_rows": null,
            "right": null,
            "justify_content": null,
            "_view_module": "@jupyter-widgets/base",
            "overflow": null,
            "_model_module_version": "1.2.0",
            "_view_count": null,
            "flex_flow": null,
            "width": null,
            "min_width": null,
            "border": null,
            "align_items": null,
            "bottom": null,
            "_model_module": "@jupyter-widgets/base",
            "top": null,
            "grid_column": null,
            "overflow_y": null,
            "overflow_x": null,
            "grid_auto_flow": null,
            "grid_area": null,
            "grid_template_columns": null,
            "flex": null,
            "_model_name": "LayoutModel",
            "justify_items": null,
            "grid_row": null,
            "max_height": null,
            "align_content": null,
            "visibility": null,
            "align_self": null,
            "height": null,
            "min_height": null,
            "padding": null,
            "grid_auto_rows": null,
            "grid_gap": null,
            "max_width": null,
            "order": null,
            "_view_module_version": "1.2.0",
            "grid_template_areas": null,
            "object_position": null,
            "object_fit": null,
            "grid_auto_columns": null,
            "margin": null,
            "display": null,
            "left": null
          }
        },
        "3db04d72b83a44b5bceb3aeea4d50e0a": {
          "model_module": "@jupyter-widgets/controls",
          "model_name": "DescriptionStyleModel",
          "state": {
            "_view_name": "StyleView",
            "_model_name": "DescriptionStyleModel",
            "description_width": "",
            "_view_module": "@jupyter-widgets/base",
            "_model_module_version": "1.5.0",
            "_view_count": null,
            "_view_module_version": "1.2.0",
            "_model_module": "@jupyter-widgets/controls"
          }
        },
        "ff5fdb87da654dd899e6df35c1113c17": {
          "model_module": "@jupyter-widgets/base",
          "model_name": "LayoutModel",
          "state": {
            "_view_name": "LayoutView",
            "grid_template_rows": null,
            "right": null,
            "justify_content": null,
            "_view_module": "@jupyter-widgets/base",
            "overflow": null,
            "_model_module_version": "1.2.0",
            "_view_count": null,
            "flex_flow": null,
            "width": null,
            "min_width": null,
            "border": null,
            "align_items": null,
            "bottom": null,
            "_model_module": "@jupyter-widgets/base",
            "top": null,
            "grid_column": null,
            "overflow_y": null,
            "overflow_x": null,
            "grid_auto_flow": null,
            "grid_area": null,
            "grid_template_columns": null,
            "flex": null,
            "_model_name": "LayoutModel",
            "justify_items": null,
            "grid_row": null,
            "max_height": null,
            "align_content": null,
            "visibility": null,
            "align_self": null,
            "height": null,
            "min_height": null,
            "padding": null,
            "grid_auto_rows": null,
            "grid_gap": null,
            "max_width": null,
            "order": null,
            "_view_module_version": "1.2.0",
            "grid_template_areas": null,
            "object_position": null,
            "object_fit": null,
            "grid_auto_columns": null,
            "margin": null,
            "display": null,
            "left": null
          }
        },
        "5397a50b5bdf414e9e0c9f35408ca68a": {
          "model_module": "@jupyter-widgets/controls",
          "model_name": "HBoxModel",
          "state": {
            "_view_name": "HBoxView",
            "_dom_classes": [],
            "_model_name": "HBoxModel",
            "_view_module": "@jupyter-widgets/controls",
            "_model_module_version": "1.5.0",
            "_view_count": null,
            "_view_module_version": "1.5.0",
            "box_style": "",
            "layout": "IPY_MODEL_18d8046eedcc4328b746dde9c5341f7b",
            "_model_module": "@jupyter-widgets/controls",
            "children": [
              "IPY_MODEL_adf715161bed446a99acf20c37a5fe11",
              "IPY_MODEL_1fefe6e8c62d4f7f9e93061b5bf3fcaf"
            ]
          }
        },
        "18d8046eedcc4328b746dde9c5341f7b": {
          "model_module": "@jupyter-widgets/base",
          "model_name": "LayoutModel",
          "state": {
            "_view_name": "LayoutView",
            "grid_template_rows": null,
            "right": null,
            "justify_content": null,
            "_view_module": "@jupyter-widgets/base",
            "overflow": null,
            "_model_module_version": "1.2.0",
            "_view_count": null,
            "flex_flow": null,
            "width": null,
            "min_width": null,
            "border": null,
            "align_items": null,
            "bottom": null,
            "_model_module": "@jupyter-widgets/base",
            "top": null,
            "grid_column": null,
            "overflow_y": null,
            "overflow_x": null,
            "grid_auto_flow": null,
            "grid_area": null,
            "grid_template_columns": null,
            "flex": null,
            "_model_name": "LayoutModel",
            "justify_items": null,
            "grid_row": null,
            "max_height": null,
            "align_content": null,
            "visibility": null,
            "align_self": null,
            "height": null,
            "min_height": null,
            "padding": null,
            "grid_auto_rows": null,
            "grid_gap": null,
            "max_width": null,
            "order": null,
            "_view_module_version": "1.2.0",
            "grid_template_areas": null,
            "object_position": null,
            "object_fit": null,
            "grid_auto_columns": null,
            "margin": null,
            "display": null,
            "left": null
          }
        },
        "adf715161bed446a99acf20c37a5fe11": {
          "model_module": "@jupyter-widgets/controls",
          "model_name": "FloatProgressModel",
          "state": {
            "_view_name": "ProgressView",
            "style": "IPY_MODEL_62071c9aa6e74770ab21fc99c465ac99",
            "_dom_classes": [],
            "description": "Iteration: 100%",
            "_model_name": "FloatProgressModel",
            "bar_style": "success",
            "max": 63,
            "_view_module": "@jupyter-widgets/controls",
            "_model_module_version": "1.5.0",
            "value": 63,
            "_view_count": null,
            "_view_module_version": "1.5.0",
            "orientation": "horizontal",
            "min": 0,
            "description_tooltip": null,
            "_model_module": "@jupyter-widgets/controls",
            "layout": "IPY_MODEL_9d79342829144502910f3770e34674b9"
          }
        },
        "1fefe6e8c62d4f7f9e93061b5bf3fcaf": {
          "model_module": "@jupyter-widgets/controls",
          "model_name": "HTMLModel",
          "state": {
            "_view_name": "HTMLView",
            "style": "IPY_MODEL_1ab83f53f1bf402da5b5d106da8d8fc4",
            "_dom_classes": [],
            "description": "",
            "_model_name": "HTMLModel",
            "placeholder": "​",
            "_view_module": "@jupyter-widgets/controls",
            "_model_module_version": "1.5.0",
            "value": " 63/63 [00:48&lt;00:00,  1.30it/s]",
            "_view_count": null,
            "_view_module_version": "1.5.0",
            "description_tooltip": null,
            "_model_module": "@jupyter-widgets/controls",
            "layout": "IPY_MODEL_28c64f27fdcc49d39c9155e789382831"
          }
        },
        "62071c9aa6e74770ab21fc99c465ac99": {
          "model_module": "@jupyter-widgets/controls",
          "model_name": "ProgressStyleModel",
          "state": {
            "_view_name": "StyleView",
            "_model_name": "ProgressStyleModel",
            "description_width": "initial",
            "_view_module": "@jupyter-widgets/base",
            "_model_module_version": "1.5.0",
            "_view_count": null,
            "_view_module_version": "1.2.0",
            "bar_color": null,
            "_model_module": "@jupyter-widgets/controls"
          }
        },
        "9d79342829144502910f3770e34674b9": {
          "model_module": "@jupyter-widgets/base",
          "model_name": "LayoutModel",
          "state": {
            "_view_name": "LayoutView",
            "grid_template_rows": null,
            "right": null,
            "justify_content": null,
            "_view_module": "@jupyter-widgets/base",
            "overflow": null,
            "_model_module_version": "1.2.0",
            "_view_count": null,
            "flex_flow": null,
            "width": null,
            "min_width": null,
            "border": null,
            "align_items": null,
            "bottom": null,
            "_model_module": "@jupyter-widgets/base",
            "top": null,
            "grid_column": null,
            "overflow_y": null,
            "overflow_x": null,
            "grid_auto_flow": null,
            "grid_area": null,
            "grid_template_columns": null,
            "flex": null,
            "_model_name": "LayoutModel",
            "justify_items": null,
            "grid_row": null,
            "max_height": null,
            "align_content": null,
            "visibility": null,
            "align_self": null,
            "height": null,
            "min_height": null,
            "padding": null,
            "grid_auto_rows": null,
            "grid_gap": null,
            "max_width": null,
            "order": null,
            "_view_module_version": "1.2.0",
            "grid_template_areas": null,
            "object_position": null,
            "object_fit": null,
            "grid_auto_columns": null,
            "margin": null,
            "display": null,
            "left": null
          }
        },
        "1ab83f53f1bf402da5b5d106da8d8fc4": {
          "model_module": "@jupyter-widgets/controls",
          "model_name": "DescriptionStyleModel",
          "state": {
            "_view_name": "StyleView",
            "_model_name": "DescriptionStyleModel",
            "description_width": "",
            "_view_module": "@jupyter-widgets/base",
            "_model_module_version": "1.5.0",
            "_view_count": null,
            "_view_module_version": "1.2.0",
            "_model_module": "@jupyter-widgets/controls"
          }
        },
        "28c64f27fdcc49d39c9155e789382831": {
          "model_module": "@jupyter-widgets/base",
          "model_name": "LayoutModel",
          "state": {
            "_view_name": "LayoutView",
            "grid_template_rows": null,
            "right": null,
            "justify_content": null,
            "_view_module": "@jupyter-widgets/base",
            "overflow": null,
            "_model_module_version": "1.2.0",
            "_view_count": null,
            "flex_flow": null,
            "width": null,
            "min_width": null,
            "border": null,
            "align_items": null,
            "bottom": null,
            "_model_module": "@jupyter-widgets/base",
            "top": null,
            "grid_column": null,
            "overflow_y": null,
            "overflow_x": null,
            "grid_auto_flow": null,
            "grid_area": null,
            "grid_template_columns": null,
            "flex": null,
            "_model_name": "LayoutModel",
            "justify_items": null,
            "grid_row": null,
            "max_height": null,
            "align_content": null,
            "visibility": null,
            "align_self": null,
            "height": null,
            "min_height": null,
            "padding": null,
            "grid_auto_rows": null,
            "grid_gap": null,
            "max_width": null,
            "order": null,
            "_view_module_version": "1.2.0",
            "grid_template_areas": null,
            "object_position": null,
            "object_fit": null,
            "grid_auto_columns": null,
            "margin": null,
            "display": null,
            "left": null
          }
        },
        "427555adc578418889b39b11e9c20311": {
          "model_module": "@jupyter-widgets/controls",
          "model_name": "HBoxModel",
          "state": {
            "_view_name": "HBoxView",
            "_dom_classes": [],
            "_model_name": "HBoxModel",
            "_view_module": "@jupyter-widgets/controls",
            "_model_module_version": "1.5.0",
            "_view_count": null,
            "_view_module_version": "1.5.0",
            "box_style": "",
            "layout": "IPY_MODEL_7cb863abc4a54bc2a66b3c448f883697",
            "_model_module": "@jupyter-widgets/controls",
            "children": [
              "IPY_MODEL_6524d849b32b47c281e488afcaf94a3c",
              "IPY_MODEL_21468697da0d4526b50e364d6e1ac251"
            ]
          }
        },
        "7cb863abc4a54bc2a66b3c448f883697": {
          "model_module": "@jupyter-widgets/base",
          "model_name": "LayoutModel",
          "state": {
            "_view_name": "LayoutView",
            "grid_template_rows": null,
            "right": null,
            "justify_content": null,
            "_view_module": "@jupyter-widgets/base",
            "overflow": null,
            "_model_module_version": "1.2.0",
            "_view_count": null,
            "flex_flow": null,
            "width": null,
            "min_width": null,
            "border": null,
            "align_items": null,
            "bottom": null,
            "_model_module": "@jupyter-widgets/base",
            "top": null,
            "grid_column": null,
            "overflow_y": null,
            "overflow_x": null,
            "grid_auto_flow": null,
            "grid_area": null,
            "grid_template_columns": null,
            "flex": null,
            "_model_name": "LayoutModel",
            "justify_items": null,
            "grid_row": null,
            "max_height": null,
            "align_content": null,
            "visibility": null,
            "align_self": null,
            "height": null,
            "min_height": null,
            "padding": null,
            "grid_auto_rows": null,
            "grid_gap": null,
            "max_width": null,
            "order": null,
            "_view_module_version": "1.2.0",
            "grid_template_areas": null,
            "object_position": null,
            "object_fit": null,
            "grid_auto_columns": null,
            "margin": null,
            "display": null,
            "left": null
          }
        },
        "6524d849b32b47c281e488afcaf94a3c": {
          "model_module": "@jupyter-widgets/controls",
          "model_name": "FloatProgressModel",
          "state": {
            "_view_name": "ProgressView",
            "style": "IPY_MODEL_88c4726c33824fd9b3b461e6c3bf547a",
            "_dom_classes": [],
            "description": "Epoch: 100%",
            "_model_name": "FloatProgressModel",
            "bar_style": "success",
            "max": 5,
            "_view_module": "@jupyter-widgets/controls",
            "_model_module_version": "1.5.0",
            "value": 5,
            "_view_count": null,
            "_view_module_version": "1.5.0",
            "orientation": "horizontal",
            "min": 0,
            "description_tooltip": null,
            "_model_module": "@jupyter-widgets/controls",
            "layout": "IPY_MODEL_59b4eb8deffd40bbb6e43bcb570bc517"
          }
        },
        "21468697da0d4526b50e364d6e1ac251": {
          "model_module": "@jupyter-widgets/controls",
          "model_name": "HTMLModel",
          "state": {
            "_view_name": "HTMLView",
            "style": "IPY_MODEL_7c08a62101994b3db9da6b8cdac10468",
            "_dom_classes": [],
            "description": "",
            "_model_name": "HTMLModel",
            "placeholder": "​",
            "_view_module": "@jupyter-widgets/controls",
            "_model_module_version": "1.5.0",
            "value": " 5/5 [1:35:34&lt;00:00, 1146.83s/it]",
            "_view_count": null,
            "_view_module_version": "1.5.0",
            "description_tooltip": null,
            "_model_module": "@jupyter-widgets/controls",
            "layout": "IPY_MODEL_07c758e066474387b10ef8b4a17864d9"
          }
        },
        "88c4726c33824fd9b3b461e6c3bf547a": {
          "model_module": "@jupyter-widgets/controls",
          "model_name": "ProgressStyleModel",
          "state": {
            "_view_name": "StyleView",
            "_model_name": "ProgressStyleModel",
            "description_width": "initial",
            "_view_module": "@jupyter-widgets/base",
            "_model_module_version": "1.5.0",
            "_view_count": null,
            "_view_module_version": "1.2.0",
            "bar_color": null,
            "_model_module": "@jupyter-widgets/controls"
          }
        },
        "59b4eb8deffd40bbb6e43bcb570bc517": {
          "model_module": "@jupyter-widgets/base",
          "model_name": "LayoutModel",
          "state": {
            "_view_name": "LayoutView",
            "grid_template_rows": null,
            "right": null,
            "justify_content": null,
            "_view_module": "@jupyter-widgets/base",
            "overflow": null,
            "_model_module_version": "1.2.0",
            "_view_count": null,
            "flex_flow": null,
            "width": null,
            "min_width": null,
            "border": null,
            "align_items": null,
            "bottom": null,
            "_model_module": "@jupyter-widgets/base",
            "top": null,
            "grid_column": null,
            "overflow_y": null,
            "overflow_x": null,
            "grid_auto_flow": null,
            "grid_area": null,
            "grid_template_columns": null,
            "flex": null,
            "_model_name": "LayoutModel",
            "justify_items": null,
            "grid_row": null,
            "max_height": null,
            "align_content": null,
            "visibility": null,
            "align_self": null,
            "height": null,
            "min_height": null,
            "padding": null,
            "grid_auto_rows": null,
            "grid_gap": null,
            "max_width": null,
            "order": null,
            "_view_module_version": "1.2.0",
            "grid_template_areas": null,
            "object_position": null,
            "object_fit": null,
            "grid_auto_columns": null,
            "margin": null,
            "display": null,
            "left": null
          }
        },
        "7c08a62101994b3db9da6b8cdac10468": {
          "model_module": "@jupyter-widgets/controls",
          "model_name": "DescriptionStyleModel",
          "state": {
            "_view_name": "StyleView",
            "_model_name": "DescriptionStyleModel",
            "description_width": "",
            "_view_module": "@jupyter-widgets/base",
            "_model_module_version": "1.5.0",
            "_view_count": null,
            "_view_module_version": "1.2.0",
            "_model_module": "@jupyter-widgets/controls"
          }
        },
        "07c758e066474387b10ef8b4a17864d9": {
          "model_module": "@jupyter-widgets/base",
          "model_name": "LayoutModel",
          "state": {
            "_view_name": "LayoutView",
            "grid_template_rows": null,
            "right": null,
            "justify_content": null,
            "_view_module": "@jupyter-widgets/base",
            "overflow": null,
            "_model_module_version": "1.2.0",
            "_view_count": null,
            "flex_flow": null,
            "width": null,
            "min_width": null,
            "border": null,
            "align_items": null,
            "bottom": null,
            "_model_module": "@jupyter-widgets/base",
            "top": null,
            "grid_column": null,
            "overflow_y": null,
            "overflow_x": null,
            "grid_auto_flow": null,
            "grid_area": null,
            "grid_template_columns": null,
            "flex": null,
            "_model_name": "LayoutModel",
            "justify_items": null,
            "grid_row": null,
            "max_height": null,
            "align_content": null,
            "visibility": null,
            "align_self": null,
            "height": null,
            "min_height": null,
            "padding": null,
            "grid_auto_rows": null,
            "grid_gap": null,
            "max_width": null,
            "order": null,
            "_view_module_version": "1.2.0",
            "grid_template_areas": null,
            "object_position": null,
            "object_fit": null,
            "grid_auto_columns": null,
            "margin": null,
            "display": null,
            "left": null
          }
        },
        "b206d798d46c4897b88d7c1bc7cda7a4": {
          "model_module": "@jupyter-widgets/controls",
          "model_name": "HBoxModel",
          "state": {
            "_view_name": "HBoxView",
            "_dom_classes": [],
            "_model_name": "HBoxModel",
            "_view_module": "@jupyter-widgets/controls",
            "_model_module_version": "1.5.0",
            "_view_count": null,
            "_view_module_version": "1.5.0",
            "box_style": "",
            "layout": "IPY_MODEL_6f0dd7d732a74a97b0092971acce62dc",
            "_model_module": "@jupyter-widgets/controls",
            "children": [
              "IPY_MODEL_aa9651549b7b4580904dc287ae7066b4",
              "IPY_MODEL_39e9cb8926a644aab0dcf92706b576bf"
            ]
          }
        },
        "6f0dd7d732a74a97b0092971acce62dc": {
          "model_module": "@jupyter-widgets/base",
          "model_name": "LayoutModel",
          "state": {
            "_view_name": "LayoutView",
            "grid_template_rows": null,
            "right": null,
            "justify_content": null,
            "_view_module": "@jupyter-widgets/base",
            "overflow": null,
            "_model_module_version": "1.2.0",
            "_view_count": null,
            "flex_flow": null,
            "width": null,
            "min_width": null,
            "border": null,
            "align_items": null,
            "bottom": null,
            "_model_module": "@jupyter-widgets/base",
            "top": null,
            "grid_column": null,
            "overflow_y": null,
            "overflow_x": null,
            "grid_auto_flow": null,
            "grid_area": null,
            "grid_template_columns": null,
            "flex": null,
            "_model_name": "LayoutModel",
            "justify_items": null,
            "grid_row": null,
            "max_height": null,
            "align_content": null,
            "visibility": null,
            "align_self": null,
            "height": null,
            "min_height": null,
            "padding": null,
            "grid_auto_rows": null,
            "grid_gap": null,
            "max_width": null,
            "order": null,
            "_view_module_version": "1.2.0",
            "grid_template_areas": null,
            "object_position": null,
            "object_fit": null,
            "grid_auto_columns": null,
            "margin": null,
            "display": null,
            "left": null
          }
        },
        "aa9651549b7b4580904dc287ae7066b4": {
          "model_module": "@jupyter-widgets/controls",
          "model_name": "FloatProgressModel",
          "state": {
            "_view_name": "ProgressView",
            "style": "IPY_MODEL_653fdcc383db47b8bc078625e45247d2",
            "_dom_classes": [],
            "description": "Iteration: 100%",
            "_model_name": "FloatProgressModel",
            "bar_style": "success",
            "max": 563,
            "_view_module": "@jupyter-widgets/controls",
            "_model_module_version": "1.5.0",
            "value": 563,
            "_view_count": null,
            "_view_module_version": "1.5.0",
            "orientation": "horizontal",
            "min": 0,
            "description_tooltip": null,
            "_model_module": "@jupyter-widgets/controls",
            "layout": "IPY_MODEL_ad6d78b4d55d45fcac23889b93fa7d48"
          }
        },
        "39e9cb8926a644aab0dcf92706b576bf": {
          "model_module": "@jupyter-widgets/controls",
          "model_name": "HTMLModel",
          "state": {
            "_view_name": "HTMLView",
            "style": "IPY_MODEL_909f9e6279c040a689577a0b71931c66",
            "_dom_classes": [],
            "description": "",
            "_model_name": "HTMLModel",
            "placeholder": "​",
            "_view_module": "@jupyter-widgets/controls",
            "_model_module_version": "1.5.0",
            "value": " 563/563 [1:35:34&lt;00:00, 10.18s/it]",
            "_view_count": null,
            "_view_module_version": "1.5.0",
            "description_tooltip": null,
            "_model_module": "@jupyter-widgets/controls",
            "layout": "IPY_MODEL_674c9e5b6808496fa672d2bd22f9e48d"
          }
        },
        "653fdcc383db47b8bc078625e45247d2": {
          "model_module": "@jupyter-widgets/controls",
          "model_name": "ProgressStyleModel",
          "state": {
            "_view_name": "StyleView",
            "_model_name": "ProgressStyleModel",
            "description_width": "initial",
            "_view_module": "@jupyter-widgets/base",
            "_model_module_version": "1.5.0",
            "_view_count": null,
            "_view_module_version": "1.2.0",
            "bar_color": null,
            "_model_module": "@jupyter-widgets/controls"
          }
        },
        "ad6d78b4d55d45fcac23889b93fa7d48": {
          "model_module": "@jupyter-widgets/base",
          "model_name": "LayoutModel",
          "state": {
            "_view_name": "LayoutView",
            "grid_template_rows": null,
            "right": null,
            "justify_content": null,
            "_view_module": "@jupyter-widgets/base",
            "overflow": null,
            "_model_module_version": "1.2.0",
            "_view_count": null,
            "flex_flow": null,
            "width": null,
            "min_width": null,
            "border": null,
            "align_items": null,
            "bottom": null,
            "_model_module": "@jupyter-widgets/base",
            "top": null,
            "grid_column": null,
            "overflow_y": null,
            "overflow_x": null,
            "grid_auto_flow": null,
            "grid_area": null,
            "grid_template_columns": null,
            "flex": null,
            "_model_name": "LayoutModel",
            "justify_items": null,
            "grid_row": null,
            "max_height": null,
            "align_content": null,
            "visibility": null,
            "align_self": null,
            "height": null,
            "min_height": null,
            "padding": null,
            "grid_auto_rows": null,
            "grid_gap": null,
            "max_width": null,
            "order": null,
            "_view_module_version": "1.2.0",
            "grid_template_areas": null,
            "object_position": null,
            "object_fit": null,
            "grid_auto_columns": null,
            "margin": null,
            "display": null,
            "left": null
          }
        },
        "909f9e6279c040a689577a0b71931c66": {
          "model_module": "@jupyter-widgets/controls",
          "model_name": "DescriptionStyleModel",
          "state": {
            "_view_name": "StyleView",
            "_model_name": "DescriptionStyleModel",
            "description_width": "",
            "_view_module": "@jupyter-widgets/base",
            "_model_module_version": "1.5.0",
            "_view_count": null,
            "_view_module_version": "1.2.0",
            "_model_module": "@jupyter-widgets/controls"
          }
        },
        "674c9e5b6808496fa672d2bd22f9e48d": {
          "model_module": "@jupyter-widgets/base",
          "model_name": "LayoutModel",
          "state": {
            "_view_name": "LayoutView",
            "grid_template_rows": null,
            "right": null,
            "justify_content": null,
            "_view_module": "@jupyter-widgets/base",
            "overflow": null,
            "_model_module_version": "1.2.0",
            "_view_count": null,
            "flex_flow": null,
            "width": null,
            "min_width": null,
            "border": null,
            "align_items": null,
            "bottom": null,
            "_model_module": "@jupyter-widgets/base",
            "top": null,
            "grid_column": null,
            "overflow_y": null,
            "overflow_x": null,
            "grid_auto_flow": null,
            "grid_area": null,
            "grid_template_columns": null,
            "flex": null,
            "_model_name": "LayoutModel",
            "justify_items": null,
            "grid_row": null,
            "max_height": null,
            "align_content": null,
            "visibility": null,
            "align_self": null,
            "height": null,
            "min_height": null,
            "padding": null,
            "grid_auto_rows": null,
            "grid_gap": null,
            "max_width": null,
            "order": null,
            "_view_module_version": "1.2.0",
            "grid_template_areas": null,
            "object_position": null,
            "object_fit": null,
            "grid_auto_columns": null,
            "margin": null,
            "display": null,
            "left": null
          }
        },
        "aac505b81e1a4ccb909ab747a538fc98": {
          "model_module": "@jupyter-widgets/controls",
          "model_name": "HBoxModel",
          "state": {
            "_view_name": "HBoxView",
            "_dom_classes": [],
            "_model_name": "HBoxModel",
            "_view_module": "@jupyter-widgets/controls",
            "_model_module_version": "1.5.0",
            "_view_count": null,
            "_view_module_version": "1.5.0",
            "box_style": "",
            "layout": "IPY_MODEL_11aee89c9b814d4a8c1876afdfa3d4c8",
            "_model_module": "@jupyter-widgets/controls",
            "children": [
              "IPY_MODEL_074b283ccd004e1dad58925d4b437641",
              "IPY_MODEL_84f98bfaad6d4d9ca66f7455c4cf519a"
            ]
          }
        },
        "11aee89c9b814d4a8c1876afdfa3d4c8": {
          "model_module": "@jupyter-widgets/base",
          "model_name": "LayoutModel",
          "state": {
            "_view_name": "LayoutView",
            "grid_template_rows": null,
            "right": null,
            "justify_content": null,
            "_view_module": "@jupyter-widgets/base",
            "overflow": null,
            "_model_module_version": "1.2.0",
            "_view_count": null,
            "flex_flow": null,
            "width": null,
            "min_width": null,
            "border": null,
            "align_items": null,
            "bottom": null,
            "_model_module": "@jupyter-widgets/base",
            "top": null,
            "grid_column": null,
            "overflow_y": null,
            "overflow_x": null,
            "grid_auto_flow": null,
            "grid_area": null,
            "grid_template_columns": null,
            "flex": null,
            "_model_name": "LayoutModel",
            "justify_items": null,
            "grid_row": null,
            "max_height": null,
            "align_content": null,
            "visibility": null,
            "align_self": null,
            "height": null,
            "min_height": null,
            "padding": null,
            "grid_auto_rows": null,
            "grid_gap": null,
            "max_width": null,
            "order": null,
            "_view_module_version": "1.2.0",
            "grid_template_areas": null,
            "object_position": null,
            "object_fit": null,
            "grid_auto_columns": null,
            "margin": null,
            "display": null,
            "left": null
          }
        },
        "074b283ccd004e1dad58925d4b437641": {
          "model_module": "@jupyter-widgets/controls",
          "model_name": "FloatProgressModel",
          "state": {
            "_view_name": "ProgressView",
            "style": "IPY_MODEL_86131fe75ffb449b882dd9128e8987c2",
            "_dom_classes": [],
            "description": "Iteration: 100%",
            "_model_name": "FloatProgressModel",
            "bar_style": "success",
            "max": 563,
            "_view_module": "@jupyter-widgets/controls",
            "_model_module_version": "1.5.0",
            "value": 563,
            "_view_count": null,
            "_view_module_version": "1.5.0",
            "orientation": "horizontal",
            "min": 0,
            "description_tooltip": null,
            "_model_module": "@jupyter-widgets/controls",
            "layout": "IPY_MODEL_4e9e8428ca034951b433e0e2599d5110"
          }
        },
        "84f98bfaad6d4d9ca66f7455c4cf519a": {
          "model_module": "@jupyter-widgets/controls",
          "model_name": "HTMLModel",
          "state": {
            "_view_name": "HTMLView",
            "style": "IPY_MODEL_b153b155f6a14a9580120afcde4c31e8",
            "_dom_classes": [],
            "description": "",
            "_model_name": "HTMLModel",
            "placeholder": "​",
            "_view_module": "@jupyter-widgets/controls",
            "_model_module_version": "1.5.0",
            "value": " 563/563 [1:32:01&lt;00:00,  9.81s/it]",
            "_view_count": null,
            "_view_module_version": "1.5.0",
            "description_tooltip": null,
            "_model_module": "@jupyter-widgets/controls",
            "layout": "IPY_MODEL_0d7e1d96e10e4624adef7659a09632b3"
          }
        },
        "86131fe75ffb449b882dd9128e8987c2": {
          "model_module": "@jupyter-widgets/controls",
          "model_name": "ProgressStyleModel",
          "state": {
            "_view_name": "StyleView",
            "_model_name": "ProgressStyleModel",
            "description_width": "initial",
            "_view_module": "@jupyter-widgets/base",
            "_model_module_version": "1.5.0",
            "_view_count": null,
            "_view_module_version": "1.2.0",
            "bar_color": null,
            "_model_module": "@jupyter-widgets/controls"
          }
        },
        "4e9e8428ca034951b433e0e2599d5110": {
          "model_module": "@jupyter-widgets/base",
          "model_name": "LayoutModel",
          "state": {
            "_view_name": "LayoutView",
            "grid_template_rows": null,
            "right": null,
            "justify_content": null,
            "_view_module": "@jupyter-widgets/base",
            "overflow": null,
            "_model_module_version": "1.2.0",
            "_view_count": null,
            "flex_flow": null,
            "width": null,
            "min_width": null,
            "border": null,
            "align_items": null,
            "bottom": null,
            "_model_module": "@jupyter-widgets/base",
            "top": null,
            "grid_column": null,
            "overflow_y": null,
            "overflow_x": null,
            "grid_auto_flow": null,
            "grid_area": null,
            "grid_template_columns": null,
            "flex": null,
            "_model_name": "LayoutModel",
            "justify_items": null,
            "grid_row": null,
            "max_height": null,
            "align_content": null,
            "visibility": null,
            "align_self": null,
            "height": null,
            "min_height": null,
            "padding": null,
            "grid_auto_rows": null,
            "grid_gap": null,
            "max_width": null,
            "order": null,
            "_view_module_version": "1.2.0",
            "grid_template_areas": null,
            "object_position": null,
            "object_fit": null,
            "grid_auto_columns": null,
            "margin": null,
            "display": null,
            "left": null
          }
        },
        "b153b155f6a14a9580120afcde4c31e8": {
          "model_module": "@jupyter-widgets/controls",
          "model_name": "DescriptionStyleModel",
          "state": {
            "_view_name": "StyleView",
            "_model_name": "DescriptionStyleModel",
            "description_width": "",
            "_view_module": "@jupyter-widgets/base",
            "_model_module_version": "1.5.0",
            "_view_count": null,
            "_view_module_version": "1.2.0",
            "_model_module": "@jupyter-widgets/controls"
          }
        },
        "0d7e1d96e10e4624adef7659a09632b3": {
          "model_module": "@jupyter-widgets/base",
          "model_name": "LayoutModel",
          "state": {
            "_view_name": "LayoutView",
            "grid_template_rows": null,
            "right": null,
            "justify_content": null,
            "_view_module": "@jupyter-widgets/base",
            "overflow": null,
            "_model_module_version": "1.2.0",
            "_view_count": null,
            "flex_flow": null,
            "width": null,
            "min_width": null,
            "border": null,
            "align_items": null,
            "bottom": null,
            "_model_module": "@jupyter-widgets/base",
            "top": null,
            "grid_column": null,
            "overflow_y": null,
            "overflow_x": null,
            "grid_auto_flow": null,
            "grid_area": null,
            "grid_template_columns": null,
            "flex": null,
            "_model_name": "LayoutModel",
            "justify_items": null,
            "grid_row": null,
            "max_height": null,
            "align_content": null,
            "visibility": null,
            "align_self": null,
            "height": null,
            "min_height": null,
            "padding": null,
            "grid_auto_rows": null,
            "grid_gap": null,
            "max_width": null,
            "order": null,
            "_view_module_version": "1.2.0",
            "grid_template_areas": null,
            "object_position": null,
            "object_fit": null,
            "grid_auto_columns": null,
            "margin": null,
            "display": null,
            "left": null
          }
        },
        "5d531419c5c34f6e8255945800c3b718": {
          "model_module": "@jupyter-widgets/controls",
          "model_name": "HBoxModel",
          "state": {
            "_view_name": "HBoxView",
            "_dom_classes": [],
            "_model_name": "HBoxModel",
            "_view_module": "@jupyter-widgets/controls",
            "_model_module_version": "1.5.0",
            "_view_count": null,
            "_view_module_version": "1.5.0",
            "box_style": "",
            "layout": "IPY_MODEL_7a144287051346899f7474c2dd32be3f",
            "_model_module": "@jupyter-widgets/controls",
            "children": [
              "IPY_MODEL_bd19fbf42def469bad422697c4ef7dd8",
              "IPY_MODEL_23948523dde344ef95038c3be93e8d28"
            ]
          }
        },
        "7a144287051346899f7474c2dd32be3f": {
          "model_module": "@jupyter-widgets/base",
          "model_name": "LayoutModel",
          "state": {
            "_view_name": "LayoutView",
            "grid_template_rows": null,
            "right": null,
            "justify_content": null,
            "_view_module": "@jupyter-widgets/base",
            "overflow": null,
            "_model_module_version": "1.2.0",
            "_view_count": null,
            "flex_flow": null,
            "width": null,
            "min_width": null,
            "border": null,
            "align_items": null,
            "bottom": null,
            "_model_module": "@jupyter-widgets/base",
            "top": null,
            "grid_column": null,
            "overflow_y": null,
            "overflow_x": null,
            "grid_auto_flow": null,
            "grid_area": null,
            "grid_template_columns": null,
            "flex": null,
            "_model_name": "LayoutModel",
            "justify_items": null,
            "grid_row": null,
            "max_height": null,
            "align_content": null,
            "visibility": null,
            "align_self": null,
            "height": null,
            "min_height": null,
            "padding": null,
            "grid_auto_rows": null,
            "grid_gap": null,
            "max_width": null,
            "order": null,
            "_view_module_version": "1.2.0",
            "grid_template_areas": null,
            "object_position": null,
            "object_fit": null,
            "grid_auto_columns": null,
            "margin": null,
            "display": null,
            "left": null
          }
        },
        "bd19fbf42def469bad422697c4ef7dd8": {
          "model_module": "@jupyter-widgets/controls",
          "model_name": "FloatProgressModel",
          "state": {
            "_view_name": "ProgressView",
            "style": "IPY_MODEL_927779a622704a83b20ad25d5381eaf5",
            "_dom_classes": [],
            "description": "Iteration: 100%",
            "_model_name": "FloatProgressModel",
            "bar_style": "success",
            "max": 563,
            "_view_module": "@jupyter-widgets/controls",
            "_model_module_version": "1.5.0",
            "value": 563,
            "_view_count": null,
            "_view_module_version": "1.5.0",
            "orientation": "horizontal",
            "min": 0,
            "description_tooltip": null,
            "_model_module": "@jupyter-widgets/controls",
            "layout": "IPY_MODEL_085fe9b3fb51471fb8fc84fc2a13fe13"
          }
        },
        "23948523dde344ef95038c3be93e8d28": {
          "model_module": "@jupyter-widgets/controls",
          "model_name": "HTMLModel",
          "state": {
            "_view_name": "HTMLView",
            "style": "IPY_MODEL_a18a8e02021643108b2aa7cbd7577d29",
            "_dom_classes": [],
            "description": "",
            "_model_name": "HTMLModel",
            "placeholder": "​",
            "_view_module": "@jupyter-widgets/controls",
            "_model_module_version": "1.5.0",
            "value": " 563/563 [1:28:34&lt;00:00,  9.44s/it]",
            "_view_count": null,
            "_view_module_version": "1.5.0",
            "description_tooltip": null,
            "_model_module": "@jupyter-widgets/controls",
            "layout": "IPY_MODEL_22e18a34b9044848b2819de8d938b95e"
          }
        },
        "927779a622704a83b20ad25d5381eaf5": {
          "model_module": "@jupyter-widgets/controls",
          "model_name": "ProgressStyleModel",
          "state": {
            "_view_name": "StyleView",
            "_model_name": "ProgressStyleModel",
            "description_width": "initial",
            "_view_module": "@jupyter-widgets/base",
            "_model_module_version": "1.5.0",
            "_view_count": null,
            "_view_module_version": "1.2.0",
            "bar_color": null,
            "_model_module": "@jupyter-widgets/controls"
          }
        },
        "085fe9b3fb51471fb8fc84fc2a13fe13": {
          "model_module": "@jupyter-widgets/base",
          "model_name": "LayoutModel",
          "state": {
            "_view_name": "LayoutView",
            "grid_template_rows": null,
            "right": null,
            "justify_content": null,
            "_view_module": "@jupyter-widgets/base",
            "overflow": null,
            "_model_module_version": "1.2.0",
            "_view_count": null,
            "flex_flow": null,
            "width": null,
            "min_width": null,
            "border": null,
            "align_items": null,
            "bottom": null,
            "_model_module": "@jupyter-widgets/base",
            "top": null,
            "grid_column": null,
            "overflow_y": null,
            "overflow_x": null,
            "grid_auto_flow": null,
            "grid_area": null,
            "grid_template_columns": null,
            "flex": null,
            "_model_name": "LayoutModel",
            "justify_items": null,
            "grid_row": null,
            "max_height": null,
            "align_content": null,
            "visibility": null,
            "align_self": null,
            "height": null,
            "min_height": null,
            "padding": null,
            "grid_auto_rows": null,
            "grid_gap": null,
            "max_width": null,
            "order": null,
            "_view_module_version": "1.2.0",
            "grid_template_areas": null,
            "object_position": null,
            "object_fit": null,
            "grid_auto_columns": null,
            "margin": null,
            "display": null,
            "left": null
          }
        },
        "a18a8e02021643108b2aa7cbd7577d29": {
          "model_module": "@jupyter-widgets/controls",
          "model_name": "DescriptionStyleModel",
          "state": {
            "_view_name": "StyleView",
            "_model_name": "DescriptionStyleModel",
            "description_width": "",
            "_view_module": "@jupyter-widgets/base",
            "_model_module_version": "1.5.0",
            "_view_count": null,
            "_view_module_version": "1.2.0",
            "_model_module": "@jupyter-widgets/controls"
          }
        },
        "22e18a34b9044848b2819de8d938b95e": {
          "model_module": "@jupyter-widgets/base",
          "model_name": "LayoutModel",
          "state": {
            "_view_name": "LayoutView",
            "grid_template_rows": null,
            "right": null,
            "justify_content": null,
            "_view_module": "@jupyter-widgets/base",
            "overflow": null,
            "_model_module_version": "1.2.0",
            "_view_count": null,
            "flex_flow": null,
            "width": null,
            "min_width": null,
            "border": null,
            "align_items": null,
            "bottom": null,
            "_model_module": "@jupyter-widgets/base",
            "top": null,
            "grid_column": null,
            "overflow_y": null,
            "overflow_x": null,
            "grid_auto_flow": null,
            "grid_area": null,
            "grid_template_columns": null,
            "flex": null,
            "_model_name": "LayoutModel",
            "justify_items": null,
            "grid_row": null,
            "max_height": null,
            "align_content": null,
            "visibility": null,
            "align_self": null,
            "height": null,
            "min_height": null,
            "padding": null,
            "grid_auto_rows": null,
            "grid_gap": null,
            "max_width": null,
            "order": null,
            "_view_module_version": "1.2.0",
            "grid_template_areas": null,
            "object_position": null,
            "object_fit": null,
            "grid_auto_columns": null,
            "margin": null,
            "display": null,
            "left": null
          }
        },
        "1e1e91c1219f47e283bed34496dd996f": {
          "model_module": "@jupyter-widgets/controls",
          "model_name": "HBoxModel",
          "state": {
            "_view_name": "HBoxView",
            "_dom_classes": [],
            "_model_name": "HBoxModel",
            "_view_module": "@jupyter-widgets/controls",
            "_model_module_version": "1.5.0",
            "_view_count": null,
            "_view_module_version": "1.5.0",
            "box_style": "",
            "layout": "IPY_MODEL_713a8bf536d64a9986f131ed7c641f67",
            "_model_module": "@jupyter-widgets/controls",
            "children": [
              "IPY_MODEL_57b37afd6fd549d5be967bd14f60a822",
              "IPY_MODEL_5d5c045556b349a6bf7e8913ff144e91"
            ]
          }
        },
        "713a8bf536d64a9986f131ed7c641f67": {
          "model_module": "@jupyter-widgets/base",
          "model_name": "LayoutModel",
          "state": {
            "_view_name": "LayoutView",
            "grid_template_rows": null,
            "right": null,
            "justify_content": null,
            "_view_module": "@jupyter-widgets/base",
            "overflow": null,
            "_model_module_version": "1.2.0",
            "_view_count": null,
            "flex_flow": null,
            "width": null,
            "min_width": null,
            "border": null,
            "align_items": null,
            "bottom": null,
            "_model_module": "@jupyter-widgets/base",
            "top": null,
            "grid_column": null,
            "overflow_y": null,
            "overflow_x": null,
            "grid_auto_flow": null,
            "grid_area": null,
            "grid_template_columns": null,
            "flex": null,
            "_model_name": "LayoutModel",
            "justify_items": null,
            "grid_row": null,
            "max_height": null,
            "align_content": null,
            "visibility": null,
            "align_self": null,
            "height": null,
            "min_height": null,
            "padding": null,
            "grid_auto_rows": null,
            "grid_gap": null,
            "max_width": null,
            "order": null,
            "_view_module_version": "1.2.0",
            "grid_template_areas": null,
            "object_position": null,
            "object_fit": null,
            "grid_auto_columns": null,
            "margin": null,
            "display": null,
            "left": null
          }
        },
        "57b37afd6fd549d5be967bd14f60a822": {
          "model_module": "@jupyter-widgets/controls",
          "model_name": "FloatProgressModel",
          "state": {
            "_view_name": "ProgressView",
            "style": "IPY_MODEL_06b8dc9c1f8d42b5baa0231e70bc7d80",
            "_dom_classes": [],
            "description": "Iteration: 100%",
            "_model_name": "FloatProgressModel",
            "bar_style": "success",
            "max": 563,
            "_view_module": "@jupyter-widgets/controls",
            "_model_module_version": "1.5.0",
            "value": 563,
            "_view_count": null,
            "_view_module_version": "1.5.0",
            "orientation": "horizontal",
            "min": 0,
            "description_tooltip": null,
            "_model_module": "@jupyter-widgets/controls",
            "layout": "IPY_MODEL_232b38487b6d4015bdc226584e6110c8"
          }
        },
        "5d5c045556b349a6bf7e8913ff144e91": {
          "model_module": "@jupyter-widgets/controls",
          "model_name": "HTMLModel",
          "state": {
            "_view_name": "HTMLView",
            "style": "IPY_MODEL_d771a2b953ce4ea58603ec838107a0a8",
            "_dom_classes": [],
            "description": "",
            "_model_name": "HTMLModel",
            "placeholder": "​",
            "_view_module": "@jupyter-widgets/controls",
            "_model_module_version": "1.5.0",
            "value": " 563/563 [1:25:06&lt;00:00,  9.07s/it]",
            "_view_count": null,
            "_view_module_version": "1.5.0",
            "description_tooltip": null,
            "_model_module": "@jupyter-widgets/controls",
            "layout": "IPY_MODEL_94228518c8ee4d4da43d075e327f41a1"
          }
        },
        "06b8dc9c1f8d42b5baa0231e70bc7d80": {
          "model_module": "@jupyter-widgets/controls",
          "model_name": "ProgressStyleModel",
          "state": {
            "_view_name": "StyleView",
            "_model_name": "ProgressStyleModel",
            "description_width": "initial",
            "_view_module": "@jupyter-widgets/base",
            "_model_module_version": "1.5.0",
            "_view_count": null,
            "_view_module_version": "1.2.0",
            "bar_color": null,
            "_model_module": "@jupyter-widgets/controls"
          }
        },
        "232b38487b6d4015bdc226584e6110c8": {
          "model_module": "@jupyter-widgets/base",
          "model_name": "LayoutModel",
          "state": {
            "_view_name": "LayoutView",
            "grid_template_rows": null,
            "right": null,
            "justify_content": null,
            "_view_module": "@jupyter-widgets/base",
            "overflow": null,
            "_model_module_version": "1.2.0",
            "_view_count": null,
            "flex_flow": null,
            "width": null,
            "min_width": null,
            "border": null,
            "align_items": null,
            "bottom": null,
            "_model_module": "@jupyter-widgets/base",
            "top": null,
            "grid_column": null,
            "overflow_y": null,
            "overflow_x": null,
            "grid_auto_flow": null,
            "grid_area": null,
            "grid_template_columns": null,
            "flex": null,
            "_model_name": "LayoutModel",
            "justify_items": null,
            "grid_row": null,
            "max_height": null,
            "align_content": null,
            "visibility": null,
            "align_self": null,
            "height": null,
            "min_height": null,
            "padding": null,
            "grid_auto_rows": null,
            "grid_gap": null,
            "max_width": null,
            "order": null,
            "_view_module_version": "1.2.0",
            "grid_template_areas": null,
            "object_position": null,
            "object_fit": null,
            "grid_auto_columns": null,
            "margin": null,
            "display": null,
            "left": null
          }
        },
        "d771a2b953ce4ea58603ec838107a0a8": {
          "model_module": "@jupyter-widgets/controls",
          "model_name": "DescriptionStyleModel",
          "state": {
            "_view_name": "StyleView",
            "_model_name": "DescriptionStyleModel",
            "description_width": "",
            "_view_module": "@jupyter-widgets/base",
            "_model_module_version": "1.5.0",
            "_view_count": null,
            "_view_module_version": "1.2.0",
            "_model_module": "@jupyter-widgets/controls"
          }
        },
        "94228518c8ee4d4da43d075e327f41a1": {
          "model_module": "@jupyter-widgets/base",
          "model_name": "LayoutModel",
          "state": {
            "_view_name": "LayoutView",
            "grid_template_rows": null,
            "right": null,
            "justify_content": null,
            "_view_module": "@jupyter-widgets/base",
            "overflow": null,
            "_model_module_version": "1.2.0",
            "_view_count": null,
            "flex_flow": null,
            "width": null,
            "min_width": null,
            "border": null,
            "align_items": null,
            "bottom": null,
            "_model_module": "@jupyter-widgets/base",
            "top": null,
            "grid_column": null,
            "overflow_y": null,
            "overflow_x": null,
            "grid_auto_flow": null,
            "grid_area": null,
            "grid_template_columns": null,
            "flex": null,
            "_model_name": "LayoutModel",
            "justify_items": null,
            "grid_row": null,
            "max_height": null,
            "align_content": null,
            "visibility": null,
            "align_self": null,
            "height": null,
            "min_height": null,
            "padding": null,
            "grid_auto_rows": null,
            "grid_gap": null,
            "max_width": null,
            "order": null,
            "_view_module_version": "1.2.0",
            "grid_template_areas": null,
            "object_position": null,
            "object_fit": null,
            "grid_auto_columns": null,
            "margin": null,
            "display": null,
            "left": null
          }
        },
        "91a263e0c98c4b4a922c76458ccb3e94": {
          "model_module": "@jupyter-widgets/controls",
          "model_name": "HBoxModel",
          "state": {
            "_view_name": "HBoxView",
            "_dom_classes": [],
            "_model_name": "HBoxModel",
            "_view_module": "@jupyter-widgets/controls",
            "_model_module_version": "1.5.0",
            "_view_count": null,
            "_view_module_version": "1.5.0",
            "box_style": "",
            "layout": "IPY_MODEL_2cb5729fa9fb487799ce35856da7de6b",
            "_model_module": "@jupyter-widgets/controls",
            "children": [
              "IPY_MODEL_4ccf25cb83b145b0b6e72ac1178edeb8",
              "IPY_MODEL_15da8d3ad0df424f917ca2ecfeebd4df"
            ]
          }
        },
        "2cb5729fa9fb487799ce35856da7de6b": {
          "model_module": "@jupyter-widgets/base",
          "model_name": "LayoutModel",
          "state": {
            "_view_name": "LayoutView",
            "grid_template_rows": null,
            "right": null,
            "justify_content": null,
            "_view_module": "@jupyter-widgets/base",
            "overflow": null,
            "_model_module_version": "1.2.0",
            "_view_count": null,
            "flex_flow": null,
            "width": null,
            "min_width": null,
            "border": null,
            "align_items": null,
            "bottom": null,
            "_model_module": "@jupyter-widgets/base",
            "top": null,
            "grid_column": null,
            "overflow_y": null,
            "overflow_x": null,
            "grid_auto_flow": null,
            "grid_area": null,
            "grid_template_columns": null,
            "flex": null,
            "_model_name": "LayoutModel",
            "justify_items": null,
            "grid_row": null,
            "max_height": null,
            "align_content": null,
            "visibility": null,
            "align_self": null,
            "height": null,
            "min_height": null,
            "padding": null,
            "grid_auto_rows": null,
            "grid_gap": null,
            "max_width": null,
            "order": null,
            "_view_module_version": "1.2.0",
            "grid_template_areas": null,
            "object_position": null,
            "object_fit": null,
            "grid_auto_columns": null,
            "margin": null,
            "display": null,
            "left": null
          }
        },
        "4ccf25cb83b145b0b6e72ac1178edeb8": {
          "model_module": "@jupyter-widgets/controls",
          "model_name": "FloatProgressModel",
          "state": {
            "_view_name": "ProgressView",
            "style": "IPY_MODEL_5b205287e106450c9afd0ba08e2de3e4",
            "_dom_classes": [],
            "description": "Iteration: 100%",
            "_model_name": "FloatProgressModel",
            "bar_style": "success",
            "max": 563,
            "_view_module": "@jupyter-widgets/controls",
            "_model_module_version": "1.5.0",
            "value": 563,
            "_view_count": null,
            "_view_module_version": "1.5.0",
            "orientation": "horizontal",
            "min": 0,
            "description_tooltip": null,
            "_model_module": "@jupyter-widgets/controls",
            "layout": "IPY_MODEL_1568ff215fe74c33958c43c4586fb179"
          }
        },
        "15da8d3ad0df424f917ca2ecfeebd4df": {
          "model_module": "@jupyter-widgets/controls",
          "model_name": "HTMLModel",
          "state": {
            "_view_name": "HTMLView",
            "style": "IPY_MODEL_15fc4b51646d4809bf5c635647ae89c0",
            "_dom_classes": [],
            "description": "",
            "_model_name": "HTMLModel",
            "placeholder": "​",
            "_view_module": "@jupyter-widgets/controls",
            "_model_module_version": "1.5.0",
            "value": " 563/563 [1:21:39&lt;00:00,  8.70s/it]",
            "_view_count": null,
            "_view_module_version": "1.5.0",
            "description_tooltip": null,
            "_model_module": "@jupyter-widgets/controls",
            "layout": "IPY_MODEL_37238c9733ae4dfd9a12876623328307"
          }
        },
        "5b205287e106450c9afd0ba08e2de3e4": {
          "model_module": "@jupyter-widgets/controls",
          "model_name": "ProgressStyleModel",
          "state": {
            "_view_name": "StyleView",
            "_model_name": "ProgressStyleModel",
            "description_width": "initial",
            "_view_module": "@jupyter-widgets/base",
            "_model_module_version": "1.5.0",
            "_view_count": null,
            "_view_module_version": "1.2.0",
            "bar_color": null,
            "_model_module": "@jupyter-widgets/controls"
          }
        },
        "1568ff215fe74c33958c43c4586fb179": {
          "model_module": "@jupyter-widgets/base",
          "model_name": "LayoutModel",
          "state": {
            "_view_name": "LayoutView",
            "grid_template_rows": null,
            "right": null,
            "justify_content": null,
            "_view_module": "@jupyter-widgets/base",
            "overflow": null,
            "_model_module_version": "1.2.0",
            "_view_count": null,
            "flex_flow": null,
            "width": null,
            "min_width": null,
            "border": null,
            "align_items": null,
            "bottom": null,
            "_model_module": "@jupyter-widgets/base",
            "top": null,
            "grid_column": null,
            "overflow_y": null,
            "overflow_x": null,
            "grid_auto_flow": null,
            "grid_area": null,
            "grid_template_columns": null,
            "flex": null,
            "_model_name": "LayoutModel",
            "justify_items": null,
            "grid_row": null,
            "max_height": null,
            "align_content": null,
            "visibility": null,
            "align_self": null,
            "height": null,
            "min_height": null,
            "padding": null,
            "grid_auto_rows": null,
            "grid_gap": null,
            "max_width": null,
            "order": null,
            "_view_module_version": "1.2.0",
            "grid_template_areas": null,
            "object_position": null,
            "object_fit": null,
            "grid_auto_columns": null,
            "margin": null,
            "display": null,
            "left": null
          }
        },
        "15fc4b51646d4809bf5c635647ae89c0": {
          "model_module": "@jupyter-widgets/controls",
          "model_name": "DescriptionStyleModel",
          "state": {
            "_view_name": "StyleView",
            "_model_name": "DescriptionStyleModel",
            "description_width": "",
            "_view_module": "@jupyter-widgets/base",
            "_model_module_version": "1.5.0",
            "_view_count": null,
            "_view_module_version": "1.2.0",
            "_model_module": "@jupyter-widgets/controls"
          }
        },
        "37238c9733ae4dfd9a12876623328307": {
          "model_module": "@jupyter-widgets/base",
          "model_name": "LayoutModel",
          "state": {
            "_view_name": "LayoutView",
            "grid_template_rows": null,
            "right": null,
            "justify_content": null,
            "_view_module": "@jupyter-widgets/base",
            "overflow": null,
            "_model_module_version": "1.2.0",
            "_view_count": null,
            "flex_flow": null,
            "width": null,
            "min_width": null,
            "border": null,
            "align_items": null,
            "bottom": null,
            "_model_module": "@jupyter-widgets/base",
            "top": null,
            "grid_column": null,
            "overflow_y": null,
            "overflow_x": null,
            "grid_auto_flow": null,
            "grid_area": null,
            "grid_template_columns": null,
            "flex": null,
            "_model_name": "LayoutModel",
            "justify_items": null,
            "grid_row": null,
            "max_height": null,
            "align_content": null,
            "visibility": null,
            "align_self": null,
            "height": null,
            "min_height": null,
            "padding": null,
            "grid_auto_rows": null,
            "grid_gap": null,
            "max_width": null,
            "order": null,
            "_view_module_version": "1.2.0",
            "grid_template_areas": null,
            "object_position": null,
            "object_fit": null,
            "grid_auto_columns": null,
            "margin": null,
            "display": null,
            "left": null
          }
        },
        "d043bd8ae0da4bf68c601882d93b6edb": {
          "model_module": "@jupyter-widgets/controls",
          "model_name": "HBoxModel",
          "state": {
            "_view_name": "HBoxView",
            "_dom_classes": [],
            "_model_name": "HBoxModel",
            "_view_module": "@jupyter-widgets/controls",
            "_model_module_version": "1.5.0",
            "_view_count": null,
            "_view_module_version": "1.5.0",
            "box_style": "",
            "layout": "IPY_MODEL_eca64680b01340a9bac04fd1d5df77fd",
            "_model_module": "@jupyter-widgets/controls",
            "children": [
              "IPY_MODEL_4f200da2e49c4109991c2b3f18f2f59b",
              "IPY_MODEL_9a14077243dc4503874a81afc2fc63cd"
            ]
          }
        },
        "eca64680b01340a9bac04fd1d5df77fd": {
          "model_module": "@jupyter-widgets/base",
          "model_name": "LayoutModel",
          "state": {
            "_view_name": "LayoutView",
            "grid_template_rows": null,
            "right": null,
            "justify_content": null,
            "_view_module": "@jupyter-widgets/base",
            "overflow": null,
            "_model_module_version": "1.2.0",
            "_view_count": null,
            "flex_flow": null,
            "width": null,
            "min_width": null,
            "border": null,
            "align_items": null,
            "bottom": null,
            "_model_module": "@jupyter-widgets/base",
            "top": null,
            "grid_column": null,
            "overflow_y": null,
            "overflow_x": null,
            "grid_auto_flow": null,
            "grid_area": null,
            "grid_template_columns": null,
            "flex": null,
            "_model_name": "LayoutModel",
            "justify_items": null,
            "grid_row": null,
            "max_height": null,
            "align_content": null,
            "visibility": null,
            "align_self": null,
            "height": null,
            "min_height": null,
            "padding": null,
            "grid_auto_rows": null,
            "grid_gap": null,
            "max_width": null,
            "order": null,
            "_view_module_version": "1.2.0",
            "grid_template_areas": null,
            "object_position": null,
            "object_fit": null,
            "grid_auto_columns": null,
            "margin": null,
            "display": null,
            "left": null
          }
        },
        "4f200da2e49c4109991c2b3f18f2f59b": {
          "model_module": "@jupyter-widgets/controls",
          "model_name": "FloatProgressModel",
          "state": {
            "_view_name": "ProgressView",
            "style": "IPY_MODEL_339bea8c0a0645eb955be4fe1918ad36",
            "_dom_classes": [],
            "description": "Epoch: 100%",
            "_model_name": "FloatProgressModel",
            "bar_style": "success",
            "max": 5,
            "_view_module": "@jupyter-widgets/controls",
            "_model_module_version": "1.5.0",
            "value": 5,
            "_view_count": null,
            "_view_module_version": "1.5.0",
            "orientation": "horizontal",
            "min": 0,
            "description_tooltip": null,
            "_model_module": "@jupyter-widgets/controls",
            "layout": "IPY_MODEL_c20ba568b5ac4c4f872ddef572f65c22"
          }
        },
        "9a14077243dc4503874a81afc2fc63cd": {
          "model_module": "@jupyter-widgets/controls",
          "model_name": "HTMLModel",
          "state": {
            "_view_name": "HTMLView",
            "style": "IPY_MODEL_ee3c7424c9324c0494ae5729b98808df",
            "_dom_classes": [],
            "description": "",
            "_model_name": "HTMLModel",
            "placeholder": "​",
            "_view_module": "@jupyter-widgets/controls",
            "_model_module_version": "1.5.0",
            "value": " 5/5 [1:01:50&lt;00:00, 742.14s/it]",
            "_view_count": null,
            "_view_module_version": "1.5.0",
            "description_tooltip": null,
            "_model_module": "@jupyter-widgets/controls",
            "layout": "IPY_MODEL_226233c9902a4a78b3fc34d30543a904"
          }
        },
        "339bea8c0a0645eb955be4fe1918ad36": {
          "model_module": "@jupyter-widgets/controls",
          "model_name": "ProgressStyleModel",
          "state": {
            "_view_name": "StyleView",
            "_model_name": "ProgressStyleModel",
            "description_width": "initial",
            "_view_module": "@jupyter-widgets/base",
            "_model_module_version": "1.5.0",
            "_view_count": null,
            "_view_module_version": "1.2.0",
            "bar_color": null,
            "_model_module": "@jupyter-widgets/controls"
          }
        },
        "c20ba568b5ac4c4f872ddef572f65c22": {
          "model_module": "@jupyter-widgets/base",
          "model_name": "LayoutModel",
          "state": {
            "_view_name": "LayoutView",
            "grid_template_rows": null,
            "right": null,
            "justify_content": null,
            "_view_module": "@jupyter-widgets/base",
            "overflow": null,
            "_model_module_version": "1.2.0",
            "_view_count": null,
            "flex_flow": null,
            "width": null,
            "min_width": null,
            "border": null,
            "align_items": null,
            "bottom": null,
            "_model_module": "@jupyter-widgets/base",
            "top": null,
            "grid_column": null,
            "overflow_y": null,
            "overflow_x": null,
            "grid_auto_flow": null,
            "grid_area": null,
            "grid_template_columns": null,
            "flex": null,
            "_model_name": "LayoutModel",
            "justify_items": null,
            "grid_row": null,
            "max_height": null,
            "align_content": null,
            "visibility": null,
            "align_self": null,
            "height": null,
            "min_height": null,
            "padding": null,
            "grid_auto_rows": null,
            "grid_gap": null,
            "max_width": null,
            "order": null,
            "_view_module_version": "1.2.0",
            "grid_template_areas": null,
            "object_position": null,
            "object_fit": null,
            "grid_auto_columns": null,
            "margin": null,
            "display": null,
            "left": null
          }
        },
        "ee3c7424c9324c0494ae5729b98808df": {
          "model_module": "@jupyter-widgets/controls",
          "model_name": "DescriptionStyleModel",
          "state": {
            "_view_name": "StyleView",
            "_model_name": "DescriptionStyleModel",
            "description_width": "",
            "_view_module": "@jupyter-widgets/base",
            "_model_module_version": "1.5.0",
            "_view_count": null,
            "_view_module_version": "1.2.0",
            "_model_module": "@jupyter-widgets/controls"
          }
        },
        "226233c9902a4a78b3fc34d30543a904": {
          "model_module": "@jupyter-widgets/base",
          "model_name": "LayoutModel",
          "state": {
            "_view_name": "LayoutView",
            "grid_template_rows": null,
            "right": null,
            "justify_content": null,
            "_view_module": "@jupyter-widgets/base",
            "overflow": null,
            "_model_module_version": "1.2.0",
            "_view_count": null,
            "flex_flow": null,
            "width": null,
            "min_width": null,
            "border": null,
            "align_items": null,
            "bottom": null,
            "_model_module": "@jupyter-widgets/base",
            "top": null,
            "grid_column": null,
            "overflow_y": null,
            "overflow_x": null,
            "grid_auto_flow": null,
            "grid_area": null,
            "grid_template_columns": null,
            "flex": null,
            "_model_name": "LayoutModel",
            "justify_items": null,
            "grid_row": null,
            "max_height": null,
            "align_content": null,
            "visibility": null,
            "align_self": null,
            "height": null,
            "min_height": null,
            "padding": null,
            "grid_auto_rows": null,
            "grid_gap": null,
            "max_width": null,
            "order": null,
            "_view_module_version": "1.2.0",
            "grid_template_areas": null,
            "object_position": null,
            "object_fit": null,
            "grid_auto_columns": null,
            "margin": null,
            "display": null,
            "left": null
          }
        },
        "fa9f41ef031242b1aeaa83ab3fa566ff": {
          "model_module": "@jupyter-widgets/controls",
          "model_name": "HBoxModel",
          "state": {
            "_view_name": "HBoxView",
            "_dom_classes": [],
            "_model_name": "HBoxModel",
            "_view_module": "@jupyter-widgets/controls",
            "_model_module_version": "1.5.0",
            "_view_count": null,
            "_view_module_version": "1.5.0",
            "box_style": "",
            "layout": "IPY_MODEL_afbbd00e79ac4e0e9e85145f79df6d6a",
            "_model_module": "@jupyter-widgets/controls",
            "children": [
              "IPY_MODEL_af8dc64f3ac944e98baefeedbdc92bfc",
              "IPY_MODEL_655f502fa1c04d818bce3d3981957d25"
            ]
          }
        },
        "afbbd00e79ac4e0e9e85145f79df6d6a": {
          "model_module": "@jupyter-widgets/base",
          "model_name": "LayoutModel",
          "state": {
            "_view_name": "LayoutView",
            "grid_template_rows": null,
            "right": null,
            "justify_content": null,
            "_view_module": "@jupyter-widgets/base",
            "overflow": null,
            "_model_module_version": "1.2.0",
            "_view_count": null,
            "flex_flow": null,
            "width": null,
            "min_width": null,
            "border": null,
            "align_items": null,
            "bottom": null,
            "_model_module": "@jupyter-widgets/base",
            "top": null,
            "grid_column": null,
            "overflow_y": null,
            "overflow_x": null,
            "grid_auto_flow": null,
            "grid_area": null,
            "grid_template_columns": null,
            "flex": null,
            "_model_name": "LayoutModel",
            "justify_items": null,
            "grid_row": null,
            "max_height": null,
            "align_content": null,
            "visibility": null,
            "align_self": null,
            "height": null,
            "min_height": null,
            "padding": null,
            "grid_auto_rows": null,
            "grid_gap": null,
            "max_width": null,
            "order": null,
            "_view_module_version": "1.2.0",
            "grid_template_areas": null,
            "object_position": null,
            "object_fit": null,
            "grid_auto_columns": null,
            "margin": null,
            "display": null,
            "left": null
          }
        },
        "af8dc64f3ac944e98baefeedbdc92bfc": {
          "model_module": "@jupyter-widgets/controls",
          "model_name": "FloatProgressModel",
          "state": {
            "_view_name": "ProgressView",
            "style": "IPY_MODEL_ea6cf82f28b242c2aa5c564a47c4d065",
            "_dom_classes": [],
            "description": "Iteration: 100%",
            "_model_name": "FloatProgressModel",
            "bar_style": "success",
            "max": 563,
            "_view_module": "@jupyter-widgets/controls",
            "_model_module_version": "1.5.0",
            "value": 563,
            "_view_count": null,
            "_view_module_version": "1.5.0",
            "orientation": "horizontal",
            "min": 0,
            "description_tooltip": null,
            "_model_module": "@jupyter-widgets/controls",
            "layout": "IPY_MODEL_0b8ffddf20a3430bb3b8943700631bda"
          }
        },
        "655f502fa1c04d818bce3d3981957d25": {
          "model_module": "@jupyter-widgets/controls",
          "model_name": "HTMLModel",
          "state": {
            "_view_name": "HTMLView",
            "style": "IPY_MODEL_b0bf401733544894a51d79fd009fa6de",
            "_dom_classes": [],
            "description": "",
            "_model_name": "HTMLModel",
            "placeholder": "​",
            "_view_module": "@jupyter-widgets/controls",
            "_model_module_version": "1.5.0",
            "value": " 563/563 [1:01:50&lt;00:00,  6.59s/it]",
            "_view_count": null,
            "_view_module_version": "1.5.0",
            "description_tooltip": null,
            "_model_module": "@jupyter-widgets/controls",
            "layout": "IPY_MODEL_eddcd65dd2ce4c84acb104deb51e9f33"
          }
        },
        "ea6cf82f28b242c2aa5c564a47c4d065": {
          "model_module": "@jupyter-widgets/controls",
          "model_name": "ProgressStyleModel",
          "state": {
            "_view_name": "StyleView",
            "_model_name": "ProgressStyleModel",
            "description_width": "initial",
            "_view_module": "@jupyter-widgets/base",
            "_model_module_version": "1.5.0",
            "_view_count": null,
            "_view_module_version": "1.2.0",
            "bar_color": null,
            "_model_module": "@jupyter-widgets/controls"
          }
        },
        "0b8ffddf20a3430bb3b8943700631bda": {
          "model_module": "@jupyter-widgets/base",
          "model_name": "LayoutModel",
          "state": {
            "_view_name": "LayoutView",
            "grid_template_rows": null,
            "right": null,
            "justify_content": null,
            "_view_module": "@jupyter-widgets/base",
            "overflow": null,
            "_model_module_version": "1.2.0",
            "_view_count": null,
            "flex_flow": null,
            "width": null,
            "min_width": null,
            "border": null,
            "align_items": null,
            "bottom": null,
            "_model_module": "@jupyter-widgets/base",
            "top": null,
            "grid_column": null,
            "overflow_y": null,
            "overflow_x": null,
            "grid_auto_flow": null,
            "grid_area": null,
            "grid_template_columns": null,
            "flex": null,
            "_model_name": "LayoutModel",
            "justify_items": null,
            "grid_row": null,
            "max_height": null,
            "align_content": null,
            "visibility": null,
            "align_self": null,
            "height": null,
            "min_height": null,
            "padding": null,
            "grid_auto_rows": null,
            "grid_gap": null,
            "max_width": null,
            "order": null,
            "_view_module_version": "1.2.0",
            "grid_template_areas": null,
            "object_position": null,
            "object_fit": null,
            "grid_auto_columns": null,
            "margin": null,
            "display": null,
            "left": null
          }
        },
        "b0bf401733544894a51d79fd009fa6de": {
          "model_module": "@jupyter-widgets/controls",
          "model_name": "DescriptionStyleModel",
          "state": {
            "_view_name": "StyleView",
            "_model_name": "DescriptionStyleModel",
            "description_width": "",
            "_view_module": "@jupyter-widgets/base",
            "_model_module_version": "1.5.0",
            "_view_count": null,
            "_view_module_version": "1.2.0",
            "_model_module": "@jupyter-widgets/controls"
          }
        },
        "eddcd65dd2ce4c84acb104deb51e9f33": {
          "model_module": "@jupyter-widgets/base",
          "model_name": "LayoutModel",
          "state": {
            "_view_name": "LayoutView",
            "grid_template_rows": null,
            "right": null,
            "justify_content": null,
            "_view_module": "@jupyter-widgets/base",
            "overflow": null,
            "_model_module_version": "1.2.0",
            "_view_count": null,
            "flex_flow": null,
            "width": null,
            "min_width": null,
            "border": null,
            "align_items": null,
            "bottom": null,
            "_model_module": "@jupyter-widgets/base",
            "top": null,
            "grid_column": null,
            "overflow_y": null,
            "overflow_x": null,
            "grid_auto_flow": null,
            "grid_area": null,
            "grid_template_columns": null,
            "flex": null,
            "_model_name": "LayoutModel",
            "justify_items": null,
            "grid_row": null,
            "max_height": null,
            "align_content": null,
            "visibility": null,
            "align_self": null,
            "height": null,
            "min_height": null,
            "padding": null,
            "grid_auto_rows": null,
            "grid_gap": null,
            "max_width": null,
            "order": null,
            "_view_module_version": "1.2.0",
            "grid_template_areas": null,
            "object_position": null,
            "object_fit": null,
            "grid_auto_columns": null,
            "margin": null,
            "display": null,
            "left": null
          }
        },
        "02ef33b9d3f447838915fafaf0a30e19": {
          "model_module": "@jupyter-widgets/controls",
          "model_name": "HBoxModel",
          "state": {
            "_view_name": "HBoxView",
            "_dom_classes": [],
            "_model_name": "HBoxModel",
            "_view_module": "@jupyter-widgets/controls",
            "_model_module_version": "1.5.0",
            "_view_count": null,
            "_view_module_version": "1.5.0",
            "box_style": "",
            "layout": "IPY_MODEL_77ac64ce1a0b483cb34133a33ef23f27",
            "_model_module": "@jupyter-widgets/controls",
            "children": [
              "IPY_MODEL_9edc7996bef9415fb7bbd6eaa37aa49d",
              "IPY_MODEL_52448ad11a584a52a7b0926449533bac"
            ]
          }
        },
        "77ac64ce1a0b483cb34133a33ef23f27": {
          "model_module": "@jupyter-widgets/base",
          "model_name": "LayoutModel",
          "state": {
            "_view_name": "LayoutView",
            "grid_template_rows": null,
            "right": null,
            "justify_content": null,
            "_view_module": "@jupyter-widgets/base",
            "overflow": null,
            "_model_module_version": "1.2.0",
            "_view_count": null,
            "flex_flow": null,
            "width": null,
            "min_width": null,
            "border": null,
            "align_items": null,
            "bottom": null,
            "_model_module": "@jupyter-widgets/base",
            "top": null,
            "grid_column": null,
            "overflow_y": null,
            "overflow_x": null,
            "grid_auto_flow": null,
            "grid_area": null,
            "grid_template_columns": null,
            "flex": null,
            "_model_name": "LayoutModel",
            "justify_items": null,
            "grid_row": null,
            "max_height": null,
            "align_content": null,
            "visibility": null,
            "align_self": null,
            "height": null,
            "min_height": null,
            "padding": null,
            "grid_auto_rows": null,
            "grid_gap": null,
            "max_width": null,
            "order": null,
            "_view_module_version": "1.2.0",
            "grid_template_areas": null,
            "object_position": null,
            "object_fit": null,
            "grid_auto_columns": null,
            "margin": null,
            "display": null,
            "left": null
          }
        },
        "9edc7996bef9415fb7bbd6eaa37aa49d": {
          "model_module": "@jupyter-widgets/controls",
          "model_name": "FloatProgressModel",
          "state": {
            "_view_name": "ProgressView",
            "style": "IPY_MODEL_07c1642e225f4d25ba9b724848a41063",
            "_dom_classes": [],
            "description": "Iteration: 100%",
            "_model_name": "FloatProgressModel",
            "bar_style": "success",
            "max": 563,
            "_view_module": "@jupyter-widgets/controls",
            "_model_module_version": "1.5.0",
            "value": 563,
            "_view_count": null,
            "_view_module_version": "1.5.0",
            "orientation": "horizontal",
            "min": 0,
            "description_tooltip": null,
            "_model_module": "@jupyter-widgets/controls",
            "layout": "IPY_MODEL_ced4a43a8cde4bf0bb4f1d11339785a9"
          }
        },
        "52448ad11a584a52a7b0926449533bac": {
          "model_module": "@jupyter-widgets/controls",
          "model_name": "HTMLModel",
          "state": {
            "_view_name": "HTMLView",
            "style": "IPY_MODEL_d2eee4bedf2a4ce48012f9114bd2fc49",
            "_dom_classes": [],
            "description": "",
            "_model_name": "HTMLModel",
            "placeholder": "​",
            "_view_module": "@jupyter-widgets/controls",
            "_model_module_version": "1.5.0",
            "value": " 563/563 [58:39&lt;00:00,  6.25s/it]",
            "_view_count": null,
            "_view_module_version": "1.5.0",
            "description_tooltip": null,
            "_model_module": "@jupyter-widgets/controls",
            "layout": "IPY_MODEL_a8dd860785a04de1b03f026920e002f9"
          }
        },
        "07c1642e225f4d25ba9b724848a41063": {
          "model_module": "@jupyter-widgets/controls",
          "model_name": "ProgressStyleModel",
          "state": {
            "_view_name": "StyleView",
            "_model_name": "ProgressStyleModel",
            "description_width": "initial",
            "_view_module": "@jupyter-widgets/base",
            "_model_module_version": "1.5.0",
            "_view_count": null,
            "_view_module_version": "1.2.0",
            "bar_color": null,
            "_model_module": "@jupyter-widgets/controls"
          }
        },
        "ced4a43a8cde4bf0bb4f1d11339785a9": {
          "model_module": "@jupyter-widgets/base",
          "model_name": "LayoutModel",
          "state": {
            "_view_name": "LayoutView",
            "grid_template_rows": null,
            "right": null,
            "justify_content": null,
            "_view_module": "@jupyter-widgets/base",
            "overflow": null,
            "_model_module_version": "1.2.0",
            "_view_count": null,
            "flex_flow": null,
            "width": null,
            "min_width": null,
            "border": null,
            "align_items": null,
            "bottom": null,
            "_model_module": "@jupyter-widgets/base",
            "top": null,
            "grid_column": null,
            "overflow_y": null,
            "overflow_x": null,
            "grid_auto_flow": null,
            "grid_area": null,
            "grid_template_columns": null,
            "flex": null,
            "_model_name": "LayoutModel",
            "justify_items": null,
            "grid_row": null,
            "max_height": null,
            "align_content": null,
            "visibility": null,
            "align_self": null,
            "height": null,
            "min_height": null,
            "padding": null,
            "grid_auto_rows": null,
            "grid_gap": null,
            "max_width": null,
            "order": null,
            "_view_module_version": "1.2.0",
            "grid_template_areas": null,
            "object_position": null,
            "object_fit": null,
            "grid_auto_columns": null,
            "margin": null,
            "display": null,
            "left": null
          }
        },
        "d2eee4bedf2a4ce48012f9114bd2fc49": {
          "model_module": "@jupyter-widgets/controls",
          "model_name": "DescriptionStyleModel",
          "state": {
            "_view_name": "StyleView",
            "_model_name": "DescriptionStyleModel",
            "description_width": "",
            "_view_module": "@jupyter-widgets/base",
            "_model_module_version": "1.5.0",
            "_view_count": null,
            "_view_module_version": "1.2.0",
            "_model_module": "@jupyter-widgets/controls"
          }
        },
        "a8dd860785a04de1b03f026920e002f9": {
          "model_module": "@jupyter-widgets/base",
          "model_name": "LayoutModel",
          "state": {
            "_view_name": "LayoutView",
            "grid_template_rows": null,
            "right": null,
            "justify_content": null,
            "_view_module": "@jupyter-widgets/base",
            "overflow": null,
            "_model_module_version": "1.2.0",
            "_view_count": null,
            "flex_flow": null,
            "width": null,
            "min_width": null,
            "border": null,
            "align_items": null,
            "bottom": null,
            "_model_module": "@jupyter-widgets/base",
            "top": null,
            "grid_column": null,
            "overflow_y": null,
            "overflow_x": null,
            "grid_auto_flow": null,
            "grid_area": null,
            "grid_template_columns": null,
            "flex": null,
            "_model_name": "LayoutModel",
            "justify_items": null,
            "grid_row": null,
            "max_height": null,
            "align_content": null,
            "visibility": null,
            "align_self": null,
            "height": null,
            "min_height": null,
            "padding": null,
            "grid_auto_rows": null,
            "grid_gap": null,
            "max_width": null,
            "order": null,
            "_view_module_version": "1.2.0",
            "grid_template_areas": null,
            "object_position": null,
            "object_fit": null,
            "grid_auto_columns": null,
            "margin": null,
            "display": null,
            "left": null
          }
        },
        "e641a96c450f407c859035be721cf072": {
          "model_module": "@jupyter-widgets/controls",
          "model_name": "HBoxModel",
          "state": {
            "_view_name": "HBoxView",
            "_dom_classes": [],
            "_model_name": "HBoxModel",
            "_view_module": "@jupyter-widgets/controls",
            "_model_module_version": "1.5.0",
            "_view_count": null,
            "_view_module_version": "1.5.0",
            "box_style": "",
            "layout": "IPY_MODEL_8531136155444704bb280dfa36643a6a",
            "_model_module": "@jupyter-widgets/controls",
            "children": [
              "IPY_MODEL_a2ffa6c28285407b92e1c7a51608b50b",
              "IPY_MODEL_2bb4d1e4d57d4503a7866e1eee3bdf3d"
            ]
          }
        },
        "8531136155444704bb280dfa36643a6a": {
          "model_module": "@jupyter-widgets/base",
          "model_name": "LayoutModel",
          "state": {
            "_view_name": "LayoutView",
            "grid_template_rows": null,
            "right": null,
            "justify_content": null,
            "_view_module": "@jupyter-widgets/base",
            "overflow": null,
            "_model_module_version": "1.2.0",
            "_view_count": null,
            "flex_flow": null,
            "width": null,
            "min_width": null,
            "border": null,
            "align_items": null,
            "bottom": null,
            "_model_module": "@jupyter-widgets/base",
            "top": null,
            "grid_column": null,
            "overflow_y": null,
            "overflow_x": null,
            "grid_auto_flow": null,
            "grid_area": null,
            "grid_template_columns": null,
            "flex": null,
            "_model_name": "LayoutModel",
            "justify_items": null,
            "grid_row": null,
            "max_height": null,
            "align_content": null,
            "visibility": null,
            "align_self": null,
            "height": null,
            "min_height": null,
            "padding": null,
            "grid_auto_rows": null,
            "grid_gap": null,
            "max_width": null,
            "order": null,
            "_view_module_version": "1.2.0",
            "grid_template_areas": null,
            "object_position": null,
            "object_fit": null,
            "grid_auto_columns": null,
            "margin": null,
            "display": null,
            "left": null
          }
        },
        "a2ffa6c28285407b92e1c7a51608b50b": {
          "model_module": "@jupyter-widgets/controls",
          "model_name": "FloatProgressModel",
          "state": {
            "_view_name": "ProgressView",
            "style": "IPY_MODEL_37be2c52437d44108f1f999ddfb3c669",
            "_dom_classes": [],
            "description": "Iteration: 100%",
            "_model_name": "FloatProgressModel",
            "bar_style": "success",
            "max": 563,
            "_view_module": "@jupyter-widgets/controls",
            "_model_module_version": "1.5.0",
            "value": 563,
            "_view_count": null,
            "_view_module_version": "1.5.0",
            "orientation": "horizontal",
            "min": 0,
            "description_tooltip": null,
            "_model_module": "@jupyter-widgets/controls",
            "layout": "IPY_MODEL_a256e6107ba149a1b5806dca24b31e37"
          }
        },
        "2bb4d1e4d57d4503a7866e1eee3bdf3d": {
          "model_module": "@jupyter-widgets/controls",
          "model_name": "HTMLModel",
          "state": {
            "_view_name": "HTMLView",
            "style": "IPY_MODEL_427972d056044739b84f54c76098b427",
            "_dom_classes": [],
            "description": "",
            "_model_name": "HTMLModel",
            "placeholder": "​",
            "_view_module": "@jupyter-widgets/controls",
            "_model_module_version": "1.5.0",
            "value": " 563/563 [55:28&lt;00:00,  5.91s/it]",
            "_view_count": null,
            "_view_module_version": "1.5.0",
            "description_tooltip": null,
            "_model_module": "@jupyter-widgets/controls",
            "layout": "IPY_MODEL_cb8e35cbb8eb4d8f9f6a9fbc4726042c"
          }
        },
        "37be2c52437d44108f1f999ddfb3c669": {
          "model_module": "@jupyter-widgets/controls",
          "model_name": "ProgressStyleModel",
          "state": {
            "_view_name": "StyleView",
            "_model_name": "ProgressStyleModel",
            "description_width": "initial",
            "_view_module": "@jupyter-widgets/base",
            "_model_module_version": "1.5.0",
            "_view_count": null,
            "_view_module_version": "1.2.0",
            "bar_color": null,
            "_model_module": "@jupyter-widgets/controls"
          }
        },
        "a256e6107ba149a1b5806dca24b31e37": {
          "model_module": "@jupyter-widgets/base",
          "model_name": "LayoutModel",
          "state": {
            "_view_name": "LayoutView",
            "grid_template_rows": null,
            "right": null,
            "justify_content": null,
            "_view_module": "@jupyter-widgets/base",
            "overflow": null,
            "_model_module_version": "1.2.0",
            "_view_count": null,
            "flex_flow": null,
            "width": null,
            "min_width": null,
            "border": null,
            "align_items": null,
            "bottom": null,
            "_model_module": "@jupyter-widgets/base",
            "top": null,
            "grid_column": null,
            "overflow_y": null,
            "overflow_x": null,
            "grid_auto_flow": null,
            "grid_area": null,
            "grid_template_columns": null,
            "flex": null,
            "_model_name": "LayoutModel",
            "justify_items": null,
            "grid_row": null,
            "max_height": null,
            "align_content": null,
            "visibility": null,
            "align_self": null,
            "height": null,
            "min_height": null,
            "padding": null,
            "grid_auto_rows": null,
            "grid_gap": null,
            "max_width": null,
            "order": null,
            "_view_module_version": "1.2.0",
            "grid_template_areas": null,
            "object_position": null,
            "object_fit": null,
            "grid_auto_columns": null,
            "margin": null,
            "display": null,
            "left": null
          }
        },
        "427972d056044739b84f54c76098b427": {
          "model_module": "@jupyter-widgets/controls",
          "model_name": "DescriptionStyleModel",
          "state": {
            "_view_name": "StyleView",
            "_model_name": "DescriptionStyleModel",
            "description_width": "",
            "_view_module": "@jupyter-widgets/base",
            "_model_module_version": "1.5.0",
            "_view_count": null,
            "_view_module_version": "1.2.0",
            "_model_module": "@jupyter-widgets/controls"
          }
        },
        "cb8e35cbb8eb4d8f9f6a9fbc4726042c": {
          "model_module": "@jupyter-widgets/base",
          "model_name": "LayoutModel",
          "state": {
            "_view_name": "LayoutView",
            "grid_template_rows": null,
            "right": null,
            "justify_content": null,
            "_view_module": "@jupyter-widgets/base",
            "overflow": null,
            "_model_module_version": "1.2.0",
            "_view_count": null,
            "flex_flow": null,
            "width": null,
            "min_width": null,
            "border": null,
            "align_items": null,
            "bottom": null,
            "_model_module": "@jupyter-widgets/base",
            "top": null,
            "grid_column": null,
            "overflow_y": null,
            "overflow_x": null,
            "grid_auto_flow": null,
            "grid_area": null,
            "grid_template_columns": null,
            "flex": null,
            "_model_name": "LayoutModel",
            "justify_items": null,
            "grid_row": null,
            "max_height": null,
            "align_content": null,
            "visibility": null,
            "align_self": null,
            "height": null,
            "min_height": null,
            "padding": null,
            "grid_auto_rows": null,
            "grid_gap": null,
            "max_width": null,
            "order": null,
            "_view_module_version": "1.2.0",
            "grid_template_areas": null,
            "object_position": null,
            "object_fit": null,
            "grid_auto_columns": null,
            "margin": null,
            "display": null,
            "left": null
          }
        },
        "8e5686a5b02448cfa0880c0fea2cba2c": {
          "model_module": "@jupyter-widgets/controls",
          "model_name": "HBoxModel",
          "state": {
            "_view_name": "HBoxView",
            "_dom_classes": [],
            "_model_name": "HBoxModel",
            "_view_module": "@jupyter-widgets/controls",
            "_model_module_version": "1.5.0",
            "_view_count": null,
            "_view_module_version": "1.5.0",
            "box_style": "",
            "layout": "IPY_MODEL_fba33549a9e141e79dba53b2081ace7f",
            "_model_module": "@jupyter-widgets/controls",
            "children": [
              "IPY_MODEL_dfbde1d926574b22a4e782faa0d93458",
              "IPY_MODEL_f70f00c559be418a94b8482c9eadb926"
            ]
          }
        },
        "fba33549a9e141e79dba53b2081ace7f": {
          "model_module": "@jupyter-widgets/base",
          "model_name": "LayoutModel",
          "state": {
            "_view_name": "LayoutView",
            "grid_template_rows": null,
            "right": null,
            "justify_content": null,
            "_view_module": "@jupyter-widgets/base",
            "overflow": null,
            "_model_module_version": "1.2.0",
            "_view_count": null,
            "flex_flow": null,
            "width": null,
            "min_width": null,
            "border": null,
            "align_items": null,
            "bottom": null,
            "_model_module": "@jupyter-widgets/base",
            "top": null,
            "grid_column": null,
            "overflow_y": null,
            "overflow_x": null,
            "grid_auto_flow": null,
            "grid_area": null,
            "grid_template_columns": null,
            "flex": null,
            "_model_name": "LayoutModel",
            "justify_items": null,
            "grid_row": null,
            "max_height": null,
            "align_content": null,
            "visibility": null,
            "align_self": null,
            "height": null,
            "min_height": null,
            "padding": null,
            "grid_auto_rows": null,
            "grid_gap": null,
            "max_width": null,
            "order": null,
            "_view_module_version": "1.2.0",
            "grid_template_areas": null,
            "object_position": null,
            "object_fit": null,
            "grid_auto_columns": null,
            "margin": null,
            "display": null,
            "left": null
          }
        },
        "dfbde1d926574b22a4e782faa0d93458": {
          "model_module": "@jupyter-widgets/controls",
          "model_name": "FloatProgressModel",
          "state": {
            "_view_name": "ProgressView",
            "style": "IPY_MODEL_b95e3a42eb6a4e8089cbfc7ca9731ab6",
            "_dom_classes": [],
            "description": "Iteration: 100%",
            "_model_name": "FloatProgressModel",
            "bar_style": "success",
            "max": 563,
            "_view_module": "@jupyter-widgets/controls",
            "_model_module_version": "1.5.0",
            "value": 563,
            "_view_count": null,
            "_view_module_version": "1.5.0",
            "orientation": "horizontal",
            "min": 0,
            "description_tooltip": null,
            "_model_module": "@jupyter-widgets/controls",
            "layout": "IPY_MODEL_fef35b80da9c428f816cad37537c69d5"
          }
        },
        "f70f00c559be418a94b8482c9eadb926": {
          "model_module": "@jupyter-widgets/controls",
          "model_name": "HTMLModel",
          "state": {
            "_view_name": "HTMLView",
            "style": "IPY_MODEL_b59d01e154e047e38984d5e7b0eb24fb",
            "_dom_classes": [],
            "description": "",
            "_model_name": "HTMLModel",
            "placeholder": "​",
            "_view_module": "@jupyter-widgets/controls",
            "_model_module_version": "1.5.0",
            "value": " 563/563 [52:17&lt;00:00,  5.57s/it]",
            "_view_count": null,
            "_view_module_version": "1.5.0",
            "description_tooltip": null,
            "_model_module": "@jupyter-widgets/controls",
            "layout": "IPY_MODEL_1d0b5a07e836441b91afa249a3b14725"
          }
        },
        "b95e3a42eb6a4e8089cbfc7ca9731ab6": {
          "model_module": "@jupyter-widgets/controls",
          "model_name": "ProgressStyleModel",
          "state": {
            "_view_name": "StyleView",
            "_model_name": "ProgressStyleModel",
            "description_width": "initial",
            "_view_module": "@jupyter-widgets/base",
            "_model_module_version": "1.5.0",
            "_view_count": null,
            "_view_module_version": "1.2.0",
            "bar_color": null,
            "_model_module": "@jupyter-widgets/controls"
          }
        },
        "fef35b80da9c428f816cad37537c69d5": {
          "model_module": "@jupyter-widgets/base",
          "model_name": "LayoutModel",
          "state": {
            "_view_name": "LayoutView",
            "grid_template_rows": null,
            "right": null,
            "justify_content": null,
            "_view_module": "@jupyter-widgets/base",
            "overflow": null,
            "_model_module_version": "1.2.0",
            "_view_count": null,
            "flex_flow": null,
            "width": null,
            "min_width": null,
            "border": null,
            "align_items": null,
            "bottom": null,
            "_model_module": "@jupyter-widgets/base",
            "top": null,
            "grid_column": null,
            "overflow_y": null,
            "overflow_x": null,
            "grid_auto_flow": null,
            "grid_area": null,
            "grid_template_columns": null,
            "flex": null,
            "_model_name": "LayoutModel",
            "justify_items": null,
            "grid_row": null,
            "max_height": null,
            "align_content": null,
            "visibility": null,
            "align_self": null,
            "height": null,
            "min_height": null,
            "padding": null,
            "grid_auto_rows": null,
            "grid_gap": null,
            "max_width": null,
            "order": null,
            "_view_module_version": "1.2.0",
            "grid_template_areas": null,
            "object_position": null,
            "object_fit": null,
            "grid_auto_columns": null,
            "margin": null,
            "display": null,
            "left": null
          }
        },
        "b59d01e154e047e38984d5e7b0eb24fb": {
          "model_module": "@jupyter-widgets/controls",
          "model_name": "DescriptionStyleModel",
          "state": {
            "_view_name": "StyleView",
            "_model_name": "DescriptionStyleModel",
            "description_width": "",
            "_view_module": "@jupyter-widgets/base",
            "_model_module_version": "1.5.0",
            "_view_count": null,
            "_view_module_version": "1.2.0",
            "_model_module": "@jupyter-widgets/controls"
          }
        },
        "1d0b5a07e836441b91afa249a3b14725": {
          "model_module": "@jupyter-widgets/base",
          "model_name": "LayoutModel",
          "state": {
            "_view_name": "LayoutView",
            "grid_template_rows": null,
            "right": null,
            "justify_content": null,
            "_view_module": "@jupyter-widgets/base",
            "overflow": null,
            "_model_module_version": "1.2.0",
            "_view_count": null,
            "flex_flow": null,
            "width": null,
            "min_width": null,
            "border": null,
            "align_items": null,
            "bottom": null,
            "_model_module": "@jupyter-widgets/base",
            "top": null,
            "grid_column": null,
            "overflow_y": null,
            "overflow_x": null,
            "grid_auto_flow": null,
            "grid_area": null,
            "grid_template_columns": null,
            "flex": null,
            "_model_name": "LayoutModel",
            "justify_items": null,
            "grid_row": null,
            "max_height": null,
            "align_content": null,
            "visibility": null,
            "align_self": null,
            "height": null,
            "min_height": null,
            "padding": null,
            "grid_auto_rows": null,
            "grid_gap": null,
            "max_width": null,
            "order": null,
            "_view_module_version": "1.2.0",
            "grid_template_areas": null,
            "object_position": null,
            "object_fit": null,
            "grid_auto_columns": null,
            "margin": null,
            "display": null,
            "left": null
          }
        },
        "6c05ccf360544829a42ae8b3f1511cff": {
          "model_module": "@jupyter-widgets/controls",
          "model_name": "HBoxModel",
          "state": {
            "_view_name": "HBoxView",
            "_dom_classes": [],
            "_model_name": "HBoxModel",
            "_view_module": "@jupyter-widgets/controls",
            "_model_module_version": "1.5.0",
            "_view_count": null,
            "_view_module_version": "1.5.0",
            "box_style": "",
            "layout": "IPY_MODEL_4f98067dc2c849f390a09e8bd18aa1dc",
            "_model_module": "@jupyter-widgets/controls",
            "children": [
              "IPY_MODEL_f1a656aaeb5c43a69fbc2cf89049e55f",
              "IPY_MODEL_3f2a29348a144f8998c41a410d2c8721"
            ]
          }
        },
        "4f98067dc2c849f390a09e8bd18aa1dc": {
          "model_module": "@jupyter-widgets/base",
          "model_name": "LayoutModel",
          "state": {
            "_view_name": "LayoutView",
            "grid_template_rows": null,
            "right": null,
            "justify_content": null,
            "_view_module": "@jupyter-widgets/base",
            "overflow": null,
            "_model_module_version": "1.2.0",
            "_view_count": null,
            "flex_flow": null,
            "width": null,
            "min_width": null,
            "border": null,
            "align_items": null,
            "bottom": null,
            "_model_module": "@jupyter-widgets/base",
            "top": null,
            "grid_column": null,
            "overflow_y": null,
            "overflow_x": null,
            "grid_auto_flow": null,
            "grid_area": null,
            "grid_template_columns": null,
            "flex": null,
            "_model_name": "LayoutModel",
            "justify_items": null,
            "grid_row": null,
            "max_height": null,
            "align_content": null,
            "visibility": null,
            "align_self": null,
            "height": null,
            "min_height": null,
            "padding": null,
            "grid_auto_rows": null,
            "grid_gap": null,
            "max_width": null,
            "order": null,
            "_view_module_version": "1.2.0",
            "grid_template_areas": null,
            "object_position": null,
            "object_fit": null,
            "grid_auto_columns": null,
            "margin": null,
            "display": null,
            "left": null
          }
        },
        "f1a656aaeb5c43a69fbc2cf89049e55f": {
          "model_module": "@jupyter-widgets/controls",
          "model_name": "FloatProgressModel",
          "state": {
            "_view_name": "ProgressView",
            "style": "IPY_MODEL_a9cbdbe545c64d8891569f8f52b18dbd",
            "_dom_classes": [],
            "description": "Iteration: 100%",
            "_model_name": "FloatProgressModel",
            "bar_style": "success",
            "max": 563,
            "_view_module": "@jupyter-widgets/controls",
            "_model_module_version": "1.5.0",
            "value": 563,
            "_view_count": null,
            "_view_module_version": "1.5.0",
            "orientation": "horizontal",
            "min": 0,
            "description_tooltip": null,
            "_model_module": "@jupyter-widgets/controls",
            "layout": "IPY_MODEL_38a94dc2a8e04e76bbb19a7f131f523a"
          }
        },
        "3f2a29348a144f8998c41a410d2c8721": {
          "model_module": "@jupyter-widgets/controls",
          "model_name": "HTMLModel",
          "state": {
            "_view_name": "HTMLView",
            "style": "IPY_MODEL_efd4207c8807498484b81a32196d911d",
            "_dom_classes": [],
            "description": "",
            "_model_name": "HTMLModel",
            "placeholder": "​",
            "_view_module": "@jupyter-widgets/controls",
            "_model_module_version": "1.5.0",
            "value": " 563/563 [49:11&lt;00:00,  5.24s/it]",
            "_view_count": null,
            "_view_module_version": "1.5.0",
            "description_tooltip": null,
            "_model_module": "@jupyter-widgets/controls",
            "layout": "IPY_MODEL_8bc160a784114b898476d78a2627abd7"
          }
        },
        "a9cbdbe545c64d8891569f8f52b18dbd": {
          "model_module": "@jupyter-widgets/controls",
          "model_name": "ProgressStyleModel",
          "state": {
            "_view_name": "StyleView",
            "_model_name": "ProgressStyleModel",
            "description_width": "initial",
            "_view_module": "@jupyter-widgets/base",
            "_model_module_version": "1.5.0",
            "_view_count": null,
            "_view_module_version": "1.2.0",
            "bar_color": null,
            "_model_module": "@jupyter-widgets/controls"
          }
        },
        "38a94dc2a8e04e76bbb19a7f131f523a": {
          "model_module": "@jupyter-widgets/base",
          "model_name": "LayoutModel",
          "state": {
            "_view_name": "LayoutView",
            "grid_template_rows": null,
            "right": null,
            "justify_content": null,
            "_view_module": "@jupyter-widgets/base",
            "overflow": null,
            "_model_module_version": "1.2.0",
            "_view_count": null,
            "flex_flow": null,
            "width": null,
            "min_width": null,
            "border": null,
            "align_items": null,
            "bottom": null,
            "_model_module": "@jupyter-widgets/base",
            "top": null,
            "grid_column": null,
            "overflow_y": null,
            "overflow_x": null,
            "grid_auto_flow": null,
            "grid_area": null,
            "grid_template_columns": null,
            "flex": null,
            "_model_name": "LayoutModel",
            "justify_items": null,
            "grid_row": null,
            "max_height": null,
            "align_content": null,
            "visibility": null,
            "align_self": null,
            "height": null,
            "min_height": null,
            "padding": null,
            "grid_auto_rows": null,
            "grid_gap": null,
            "max_width": null,
            "order": null,
            "_view_module_version": "1.2.0",
            "grid_template_areas": null,
            "object_position": null,
            "object_fit": null,
            "grid_auto_columns": null,
            "margin": null,
            "display": null,
            "left": null
          }
        },
        "efd4207c8807498484b81a32196d911d": {
          "model_module": "@jupyter-widgets/controls",
          "model_name": "DescriptionStyleModel",
          "state": {
            "_view_name": "StyleView",
            "_model_name": "DescriptionStyleModel",
            "description_width": "",
            "_view_module": "@jupyter-widgets/base",
            "_model_module_version": "1.5.0",
            "_view_count": null,
            "_view_module_version": "1.2.0",
            "_model_module": "@jupyter-widgets/controls"
          }
        },
        "8bc160a784114b898476d78a2627abd7": {
          "model_module": "@jupyter-widgets/base",
          "model_name": "LayoutModel",
          "state": {
            "_view_name": "LayoutView",
            "grid_template_rows": null,
            "right": null,
            "justify_content": null,
            "_view_module": "@jupyter-widgets/base",
            "overflow": null,
            "_model_module_version": "1.2.0",
            "_view_count": null,
            "flex_flow": null,
            "width": null,
            "min_width": null,
            "border": null,
            "align_items": null,
            "bottom": null,
            "_model_module": "@jupyter-widgets/base",
            "top": null,
            "grid_column": null,
            "overflow_y": null,
            "overflow_x": null,
            "grid_auto_flow": null,
            "grid_area": null,
            "grid_template_columns": null,
            "flex": null,
            "_model_name": "LayoutModel",
            "justify_items": null,
            "grid_row": null,
            "max_height": null,
            "align_content": null,
            "visibility": null,
            "align_self": null,
            "height": null,
            "min_height": null,
            "padding": null,
            "grid_auto_rows": null,
            "grid_gap": null,
            "max_width": null,
            "order": null,
            "_view_module_version": "1.2.0",
            "grid_template_areas": null,
            "object_position": null,
            "object_fit": null,
            "grid_auto_columns": null,
            "margin": null,
            "display": null,
            "left": null
          }
        },
        "d8bca04b403745b4ab12970af78f4523": {
          "model_module": "@jupyter-widgets/controls",
          "model_name": "HBoxModel",
          "state": {
            "_view_name": "HBoxView",
            "_dom_classes": [],
            "_model_name": "HBoxModel",
            "_view_module": "@jupyter-widgets/controls",
            "_model_module_version": "1.5.0",
            "_view_count": null,
            "_view_module_version": "1.5.0",
            "box_style": "",
            "layout": "IPY_MODEL_b22da11235054309930b1aa76005321f",
            "_model_module": "@jupyter-widgets/controls",
            "children": [
              "IPY_MODEL_372426f3a41a4fcd835eeb419d8605b9",
              "IPY_MODEL_be9f03ad84684ee0b302159bbbe5172f"
            ]
          }
        },
        "b22da11235054309930b1aa76005321f": {
          "model_module": "@jupyter-widgets/base",
          "model_name": "LayoutModel",
          "state": {
            "_view_name": "LayoutView",
            "grid_template_rows": null,
            "right": null,
            "justify_content": null,
            "_view_module": "@jupyter-widgets/base",
            "overflow": null,
            "_model_module_version": "1.2.0",
            "_view_count": null,
            "flex_flow": null,
            "width": null,
            "min_width": null,
            "border": null,
            "align_items": null,
            "bottom": null,
            "_model_module": "@jupyter-widgets/base",
            "top": null,
            "grid_column": null,
            "overflow_y": null,
            "overflow_x": null,
            "grid_auto_flow": null,
            "grid_area": null,
            "grid_template_columns": null,
            "flex": null,
            "_model_name": "LayoutModel",
            "justify_items": null,
            "grid_row": null,
            "max_height": null,
            "align_content": null,
            "visibility": null,
            "align_self": null,
            "height": null,
            "min_height": null,
            "padding": null,
            "grid_auto_rows": null,
            "grid_gap": null,
            "max_width": null,
            "order": null,
            "_view_module_version": "1.2.0",
            "grid_template_areas": null,
            "object_position": null,
            "object_fit": null,
            "grid_auto_columns": null,
            "margin": null,
            "display": null,
            "left": null
          }
        },
        "372426f3a41a4fcd835eeb419d8605b9": {
          "model_module": "@jupyter-widgets/controls",
          "model_name": "FloatProgressModel",
          "state": {
            "_view_name": "ProgressView",
            "style": "IPY_MODEL_74afc0226cd8439593ceb057dca42774",
            "_dom_classes": [],
            "description": "Epoch: 100%",
            "_model_name": "FloatProgressModel",
            "bar_style": "success",
            "max": 5,
            "_view_module": "@jupyter-widgets/controls",
            "_model_module_version": "1.5.0",
            "value": 5,
            "_view_count": null,
            "_view_module_version": "1.5.0",
            "orientation": "horizontal",
            "min": 0,
            "description_tooltip": null,
            "_model_module": "@jupyter-widgets/controls",
            "layout": "IPY_MODEL_851a3dc500c64b438ac8267081675740"
          }
        },
        "be9f03ad84684ee0b302159bbbe5172f": {
          "model_module": "@jupyter-widgets/controls",
          "model_name": "HTMLModel",
          "state": {
            "_view_name": "HTMLView",
            "style": "IPY_MODEL_4563e0f31b5c48cf8d03f5a48d1a994a",
            "_dom_classes": [],
            "description": "",
            "_model_name": "HTMLModel",
            "placeholder": "​",
            "_view_module": "@jupyter-widgets/controls",
            "_model_module_version": "1.5.0",
            "value": " 5/5 [14:22&lt;00:00, 172.53s/it]",
            "_view_count": null,
            "_view_module_version": "1.5.0",
            "description_tooltip": null,
            "_model_module": "@jupyter-widgets/controls",
            "layout": "IPY_MODEL_9d925bb7ca9344fc8628480233482447"
          }
        },
        "74afc0226cd8439593ceb057dca42774": {
          "model_module": "@jupyter-widgets/controls",
          "model_name": "ProgressStyleModel",
          "state": {
            "_view_name": "StyleView",
            "_model_name": "ProgressStyleModel",
            "description_width": "initial",
            "_view_module": "@jupyter-widgets/base",
            "_model_module_version": "1.5.0",
            "_view_count": null,
            "_view_module_version": "1.2.0",
            "bar_color": null,
            "_model_module": "@jupyter-widgets/controls"
          }
        },
        "851a3dc500c64b438ac8267081675740": {
          "model_module": "@jupyter-widgets/base",
          "model_name": "LayoutModel",
          "state": {
            "_view_name": "LayoutView",
            "grid_template_rows": null,
            "right": null,
            "justify_content": null,
            "_view_module": "@jupyter-widgets/base",
            "overflow": null,
            "_model_module_version": "1.2.0",
            "_view_count": null,
            "flex_flow": null,
            "width": null,
            "min_width": null,
            "border": null,
            "align_items": null,
            "bottom": null,
            "_model_module": "@jupyter-widgets/base",
            "top": null,
            "grid_column": null,
            "overflow_y": null,
            "overflow_x": null,
            "grid_auto_flow": null,
            "grid_area": null,
            "grid_template_columns": null,
            "flex": null,
            "_model_name": "LayoutModel",
            "justify_items": null,
            "grid_row": null,
            "max_height": null,
            "align_content": null,
            "visibility": null,
            "align_self": null,
            "height": null,
            "min_height": null,
            "padding": null,
            "grid_auto_rows": null,
            "grid_gap": null,
            "max_width": null,
            "order": null,
            "_view_module_version": "1.2.0",
            "grid_template_areas": null,
            "object_position": null,
            "object_fit": null,
            "grid_auto_columns": null,
            "margin": null,
            "display": null,
            "left": null
          }
        },
        "4563e0f31b5c48cf8d03f5a48d1a994a": {
          "model_module": "@jupyter-widgets/controls",
          "model_name": "DescriptionStyleModel",
          "state": {
            "_view_name": "StyleView",
            "_model_name": "DescriptionStyleModel",
            "description_width": "",
            "_view_module": "@jupyter-widgets/base",
            "_model_module_version": "1.5.0",
            "_view_count": null,
            "_view_module_version": "1.2.0",
            "_model_module": "@jupyter-widgets/controls"
          }
        },
        "9d925bb7ca9344fc8628480233482447": {
          "model_module": "@jupyter-widgets/base",
          "model_name": "LayoutModel",
          "state": {
            "_view_name": "LayoutView",
            "grid_template_rows": null,
            "right": null,
            "justify_content": null,
            "_view_module": "@jupyter-widgets/base",
            "overflow": null,
            "_model_module_version": "1.2.0",
            "_view_count": null,
            "flex_flow": null,
            "width": null,
            "min_width": null,
            "border": null,
            "align_items": null,
            "bottom": null,
            "_model_module": "@jupyter-widgets/base",
            "top": null,
            "grid_column": null,
            "overflow_y": null,
            "overflow_x": null,
            "grid_auto_flow": null,
            "grid_area": null,
            "grid_template_columns": null,
            "flex": null,
            "_model_name": "LayoutModel",
            "justify_items": null,
            "grid_row": null,
            "max_height": null,
            "align_content": null,
            "visibility": null,
            "align_self": null,
            "height": null,
            "min_height": null,
            "padding": null,
            "grid_auto_rows": null,
            "grid_gap": null,
            "max_width": null,
            "order": null,
            "_view_module_version": "1.2.0",
            "grid_template_areas": null,
            "object_position": null,
            "object_fit": null,
            "grid_auto_columns": null,
            "margin": null,
            "display": null,
            "left": null
          }
        },
        "e7aca085ce5c4d3b9bac92c5d332039f": {
          "model_module": "@jupyter-widgets/controls",
          "model_name": "HBoxModel",
          "state": {
            "_view_name": "HBoxView",
            "_dom_classes": [],
            "_model_name": "HBoxModel",
            "_view_module": "@jupyter-widgets/controls",
            "_model_module_version": "1.5.0",
            "_view_count": null,
            "_view_module_version": "1.5.0",
            "box_style": "",
            "layout": "IPY_MODEL_fb6a4dc76d964e779856d1582115399d",
            "_model_module": "@jupyter-widgets/controls",
            "children": [
              "IPY_MODEL_83b17f5658d14736a8e434a6ef1e3600",
              "IPY_MODEL_04023d55eab14085b7c7c7409fd2dd4e"
            ]
          }
        },
        "fb6a4dc76d964e779856d1582115399d": {
          "model_module": "@jupyter-widgets/base",
          "model_name": "LayoutModel",
          "state": {
            "_view_name": "LayoutView",
            "grid_template_rows": null,
            "right": null,
            "justify_content": null,
            "_view_module": "@jupyter-widgets/base",
            "overflow": null,
            "_model_module_version": "1.2.0",
            "_view_count": null,
            "flex_flow": null,
            "width": null,
            "min_width": null,
            "border": null,
            "align_items": null,
            "bottom": null,
            "_model_module": "@jupyter-widgets/base",
            "top": null,
            "grid_column": null,
            "overflow_y": null,
            "overflow_x": null,
            "grid_auto_flow": null,
            "grid_area": null,
            "grid_template_columns": null,
            "flex": null,
            "_model_name": "LayoutModel",
            "justify_items": null,
            "grid_row": null,
            "max_height": null,
            "align_content": null,
            "visibility": null,
            "align_self": null,
            "height": null,
            "min_height": null,
            "padding": null,
            "grid_auto_rows": null,
            "grid_gap": null,
            "max_width": null,
            "order": null,
            "_view_module_version": "1.2.0",
            "grid_template_areas": null,
            "object_position": null,
            "object_fit": null,
            "grid_auto_columns": null,
            "margin": null,
            "display": null,
            "left": null
          }
        },
        "83b17f5658d14736a8e434a6ef1e3600": {
          "model_module": "@jupyter-widgets/controls",
          "model_name": "FloatProgressModel",
          "state": {
            "_view_name": "ProgressView",
            "style": "IPY_MODEL_9569435a9b774b60a4786c13305a592b",
            "_dom_classes": [],
            "description": "Iteration: 100%",
            "_model_name": "FloatProgressModel",
            "bar_style": "success",
            "max": 63,
            "_view_module": "@jupyter-widgets/controls",
            "_model_module_version": "1.5.0",
            "value": 63,
            "_view_count": null,
            "_view_module_version": "1.5.0",
            "orientation": "horizontal",
            "min": 0,
            "description_tooltip": null,
            "_model_module": "@jupyter-widgets/controls",
            "layout": "IPY_MODEL_f5f9e9c2cb2f40bcae4ecdafaa0b8661"
          }
        },
        "04023d55eab14085b7c7c7409fd2dd4e": {
          "model_module": "@jupyter-widgets/controls",
          "model_name": "HTMLModel",
          "state": {
            "_view_name": "HTMLView",
            "style": "IPY_MODEL_3f4e87b063a74b048629b5e40358eebd",
            "_dom_classes": [],
            "description": "",
            "_model_name": "HTMLModel",
            "placeholder": "​",
            "_view_module": "@jupyter-widgets/controls",
            "_model_module_version": "1.5.0",
            "value": " 63/63 [14:22&lt;00:00, 13.69s/it]",
            "_view_count": null,
            "_view_module_version": "1.5.0",
            "description_tooltip": null,
            "_model_module": "@jupyter-widgets/controls",
            "layout": "IPY_MODEL_be65c8f2459b4581b80c34de72bee5b5"
          }
        },
        "9569435a9b774b60a4786c13305a592b": {
          "model_module": "@jupyter-widgets/controls",
          "model_name": "ProgressStyleModel",
          "state": {
            "_view_name": "StyleView",
            "_model_name": "ProgressStyleModel",
            "description_width": "initial",
            "_view_module": "@jupyter-widgets/base",
            "_model_module_version": "1.5.0",
            "_view_count": null,
            "_view_module_version": "1.2.0",
            "bar_color": null,
            "_model_module": "@jupyter-widgets/controls"
          }
        },
        "f5f9e9c2cb2f40bcae4ecdafaa0b8661": {
          "model_module": "@jupyter-widgets/base",
          "model_name": "LayoutModel",
          "state": {
            "_view_name": "LayoutView",
            "grid_template_rows": null,
            "right": null,
            "justify_content": null,
            "_view_module": "@jupyter-widgets/base",
            "overflow": null,
            "_model_module_version": "1.2.0",
            "_view_count": null,
            "flex_flow": null,
            "width": null,
            "min_width": null,
            "border": null,
            "align_items": null,
            "bottom": null,
            "_model_module": "@jupyter-widgets/base",
            "top": null,
            "grid_column": null,
            "overflow_y": null,
            "overflow_x": null,
            "grid_auto_flow": null,
            "grid_area": null,
            "grid_template_columns": null,
            "flex": null,
            "_model_name": "LayoutModel",
            "justify_items": null,
            "grid_row": null,
            "max_height": null,
            "align_content": null,
            "visibility": null,
            "align_self": null,
            "height": null,
            "min_height": null,
            "padding": null,
            "grid_auto_rows": null,
            "grid_gap": null,
            "max_width": null,
            "order": null,
            "_view_module_version": "1.2.0",
            "grid_template_areas": null,
            "object_position": null,
            "object_fit": null,
            "grid_auto_columns": null,
            "margin": null,
            "display": null,
            "left": null
          }
        },
        "3f4e87b063a74b048629b5e40358eebd": {
          "model_module": "@jupyter-widgets/controls",
          "model_name": "DescriptionStyleModel",
          "state": {
            "_view_name": "StyleView",
            "_model_name": "DescriptionStyleModel",
            "description_width": "",
            "_view_module": "@jupyter-widgets/base",
            "_model_module_version": "1.5.0",
            "_view_count": null,
            "_view_module_version": "1.2.0",
            "_model_module": "@jupyter-widgets/controls"
          }
        },
        "be65c8f2459b4581b80c34de72bee5b5": {
          "model_module": "@jupyter-widgets/base",
          "model_name": "LayoutModel",
          "state": {
            "_view_name": "LayoutView",
            "grid_template_rows": null,
            "right": null,
            "justify_content": null,
            "_view_module": "@jupyter-widgets/base",
            "overflow": null,
            "_model_module_version": "1.2.0",
            "_view_count": null,
            "flex_flow": null,
            "width": null,
            "min_width": null,
            "border": null,
            "align_items": null,
            "bottom": null,
            "_model_module": "@jupyter-widgets/base",
            "top": null,
            "grid_column": null,
            "overflow_y": null,
            "overflow_x": null,
            "grid_auto_flow": null,
            "grid_area": null,
            "grid_template_columns": null,
            "flex": null,
            "_model_name": "LayoutModel",
            "justify_items": null,
            "grid_row": null,
            "max_height": null,
            "align_content": null,
            "visibility": null,
            "align_self": null,
            "height": null,
            "min_height": null,
            "padding": null,
            "grid_auto_rows": null,
            "grid_gap": null,
            "max_width": null,
            "order": null,
            "_view_module_version": "1.2.0",
            "grid_template_areas": null,
            "object_position": null,
            "object_fit": null,
            "grid_auto_columns": null,
            "margin": null,
            "display": null,
            "left": null
          }
        },
        "d63bbba4130f47578bb7831a448ad613": {
          "model_module": "@jupyter-widgets/controls",
          "model_name": "HBoxModel",
          "state": {
            "_view_name": "HBoxView",
            "_dom_classes": [],
            "_model_name": "HBoxModel",
            "_view_module": "@jupyter-widgets/controls",
            "_model_module_version": "1.5.0",
            "_view_count": null,
            "_view_module_version": "1.5.0",
            "box_style": "",
            "layout": "IPY_MODEL_7db3e2c55246440680ac55eceea39e88",
            "_model_module": "@jupyter-widgets/controls",
            "children": [
              "IPY_MODEL_594bddaa653f41d9b66c4dbfd6f4f540",
              "IPY_MODEL_c48523e098fc4c268b93e747412d6159"
            ]
          }
        },
        "7db3e2c55246440680ac55eceea39e88": {
          "model_module": "@jupyter-widgets/base",
          "model_name": "LayoutModel",
          "state": {
            "_view_name": "LayoutView",
            "grid_template_rows": null,
            "right": null,
            "justify_content": null,
            "_view_module": "@jupyter-widgets/base",
            "overflow": null,
            "_model_module_version": "1.2.0",
            "_view_count": null,
            "flex_flow": null,
            "width": null,
            "min_width": null,
            "border": null,
            "align_items": null,
            "bottom": null,
            "_model_module": "@jupyter-widgets/base",
            "top": null,
            "grid_column": null,
            "overflow_y": null,
            "overflow_x": null,
            "grid_auto_flow": null,
            "grid_area": null,
            "grid_template_columns": null,
            "flex": null,
            "_model_name": "LayoutModel",
            "justify_items": null,
            "grid_row": null,
            "max_height": null,
            "align_content": null,
            "visibility": null,
            "align_self": null,
            "height": null,
            "min_height": null,
            "padding": null,
            "grid_auto_rows": null,
            "grid_gap": null,
            "max_width": null,
            "order": null,
            "_view_module_version": "1.2.0",
            "grid_template_areas": null,
            "object_position": null,
            "object_fit": null,
            "grid_auto_columns": null,
            "margin": null,
            "display": null,
            "left": null
          }
        },
        "594bddaa653f41d9b66c4dbfd6f4f540": {
          "model_module": "@jupyter-widgets/controls",
          "model_name": "FloatProgressModel",
          "state": {
            "_view_name": "ProgressView",
            "style": "IPY_MODEL_8b47d3466a694e24b83d39bc82aa7a24",
            "_dom_classes": [],
            "description": "Iteration: 100%",
            "_model_name": "FloatProgressModel",
            "bar_style": "success",
            "max": 63,
            "_view_module": "@jupyter-widgets/controls",
            "_model_module_version": "1.5.0",
            "value": 63,
            "_view_count": null,
            "_view_module_version": "1.5.0",
            "orientation": "horizontal",
            "min": 0,
            "description_tooltip": null,
            "_model_module": "@jupyter-widgets/controls",
            "layout": "IPY_MODEL_1bd33b30bb51459fa642427e0d1bc9fa"
          }
        },
        "c48523e098fc4c268b93e747412d6159": {
          "model_module": "@jupyter-widgets/controls",
          "model_name": "HTMLModel",
          "state": {
            "_view_name": "HTMLView",
            "style": "IPY_MODEL_e497cfe8b8624cd7aa2aa3865f7cf9cb",
            "_dom_classes": [],
            "description": "",
            "_model_name": "HTMLModel",
            "placeholder": "​",
            "_view_module": "@jupyter-widgets/controls",
            "_model_module_version": "1.5.0",
            "value": " 63/63 [00:55&lt;00:00,  1.14it/s]",
            "_view_count": null,
            "_view_module_version": "1.5.0",
            "description_tooltip": null,
            "_model_module": "@jupyter-widgets/controls",
            "layout": "IPY_MODEL_ea0c21093b2843309f6a802add5df2b2"
          }
        },
        "8b47d3466a694e24b83d39bc82aa7a24": {
          "model_module": "@jupyter-widgets/controls",
          "model_name": "ProgressStyleModel",
          "state": {
            "_view_name": "StyleView",
            "_model_name": "ProgressStyleModel",
            "description_width": "initial",
            "_view_module": "@jupyter-widgets/base",
            "_model_module_version": "1.5.0",
            "_view_count": null,
            "_view_module_version": "1.2.0",
            "bar_color": null,
            "_model_module": "@jupyter-widgets/controls"
          }
        },
        "1bd33b30bb51459fa642427e0d1bc9fa": {
          "model_module": "@jupyter-widgets/base",
          "model_name": "LayoutModel",
          "state": {
            "_view_name": "LayoutView",
            "grid_template_rows": null,
            "right": null,
            "justify_content": null,
            "_view_module": "@jupyter-widgets/base",
            "overflow": null,
            "_model_module_version": "1.2.0",
            "_view_count": null,
            "flex_flow": null,
            "width": null,
            "min_width": null,
            "border": null,
            "align_items": null,
            "bottom": null,
            "_model_module": "@jupyter-widgets/base",
            "top": null,
            "grid_column": null,
            "overflow_y": null,
            "overflow_x": null,
            "grid_auto_flow": null,
            "grid_area": null,
            "grid_template_columns": null,
            "flex": null,
            "_model_name": "LayoutModel",
            "justify_items": null,
            "grid_row": null,
            "max_height": null,
            "align_content": null,
            "visibility": null,
            "align_self": null,
            "height": null,
            "min_height": null,
            "padding": null,
            "grid_auto_rows": null,
            "grid_gap": null,
            "max_width": null,
            "order": null,
            "_view_module_version": "1.2.0",
            "grid_template_areas": null,
            "object_position": null,
            "object_fit": null,
            "grid_auto_columns": null,
            "margin": null,
            "display": null,
            "left": null
          }
        },
        "e497cfe8b8624cd7aa2aa3865f7cf9cb": {
          "model_module": "@jupyter-widgets/controls",
          "model_name": "DescriptionStyleModel",
          "state": {
            "_view_name": "StyleView",
            "_model_name": "DescriptionStyleModel",
            "description_width": "",
            "_view_module": "@jupyter-widgets/base",
            "_model_module_version": "1.5.0",
            "_view_count": null,
            "_view_module_version": "1.2.0",
            "_model_module": "@jupyter-widgets/controls"
          }
        },
        "ea0c21093b2843309f6a802add5df2b2": {
          "model_module": "@jupyter-widgets/base",
          "model_name": "LayoutModel",
          "state": {
            "_view_name": "LayoutView",
            "grid_template_rows": null,
            "right": null,
            "justify_content": null,
            "_view_module": "@jupyter-widgets/base",
            "overflow": null,
            "_model_module_version": "1.2.0",
            "_view_count": null,
            "flex_flow": null,
            "width": null,
            "min_width": null,
            "border": null,
            "align_items": null,
            "bottom": null,
            "_model_module": "@jupyter-widgets/base",
            "top": null,
            "grid_column": null,
            "overflow_y": null,
            "overflow_x": null,
            "grid_auto_flow": null,
            "grid_area": null,
            "grid_template_columns": null,
            "flex": null,
            "_model_name": "LayoutModel",
            "justify_items": null,
            "grid_row": null,
            "max_height": null,
            "align_content": null,
            "visibility": null,
            "align_self": null,
            "height": null,
            "min_height": null,
            "padding": null,
            "grid_auto_rows": null,
            "grid_gap": null,
            "max_width": null,
            "order": null,
            "_view_module_version": "1.2.0",
            "grid_template_areas": null,
            "object_position": null,
            "object_fit": null,
            "grid_auto_columns": null,
            "margin": null,
            "display": null,
            "left": null
          }
        },
        "66779ff90145442a980d0459c565b249": {
          "model_module": "@jupyter-widgets/controls",
          "model_name": "HBoxModel",
          "state": {
            "_view_name": "HBoxView",
            "_dom_classes": [],
            "_model_name": "HBoxModel",
            "_view_module": "@jupyter-widgets/controls",
            "_model_module_version": "1.5.0",
            "_view_count": null,
            "_view_module_version": "1.5.0",
            "box_style": "",
            "layout": "IPY_MODEL_78917dbc6c694b6b977d465f71eb858d",
            "_model_module": "@jupyter-widgets/controls",
            "children": [
              "IPY_MODEL_4f4ca7a4ee234b12862a52287268b550",
              "IPY_MODEL_a9fc0bacc6954d398f31bd02372eb228"
            ]
          }
        },
        "78917dbc6c694b6b977d465f71eb858d": {
          "model_module": "@jupyter-widgets/base",
          "model_name": "LayoutModel",
          "state": {
            "_view_name": "LayoutView",
            "grid_template_rows": null,
            "right": null,
            "justify_content": null,
            "_view_module": "@jupyter-widgets/base",
            "overflow": null,
            "_model_module_version": "1.2.0",
            "_view_count": null,
            "flex_flow": null,
            "width": null,
            "min_width": null,
            "border": null,
            "align_items": null,
            "bottom": null,
            "_model_module": "@jupyter-widgets/base",
            "top": null,
            "grid_column": null,
            "overflow_y": null,
            "overflow_x": null,
            "grid_auto_flow": null,
            "grid_area": null,
            "grid_template_columns": null,
            "flex": null,
            "_model_name": "LayoutModel",
            "justify_items": null,
            "grid_row": null,
            "max_height": null,
            "align_content": null,
            "visibility": null,
            "align_self": null,
            "height": null,
            "min_height": null,
            "padding": null,
            "grid_auto_rows": null,
            "grid_gap": null,
            "max_width": null,
            "order": null,
            "_view_module_version": "1.2.0",
            "grid_template_areas": null,
            "object_position": null,
            "object_fit": null,
            "grid_auto_columns": null,
            "margin": null,
            "display": null,
            "left": null
          }
        },
        "4f4ca7a4ee234b12862a52287268b550": {
          "model_module": "@jupyter-widgets/controls",
          "model_name": "FloatProgressModel",
          "state": {
            "_view_name": "ProgressView",
            "style": "IPY_MODEL_567582cc174844f2a2a10cc518060ff9",
            "_dom_classes": [],
            "description": "Iteration: 100%",
            "_model_name": "FloatProgressModel",
            "bar_style": "success",
            "max": 63,
            "_view_module": "@jupyter-widgets/controls",
            "_model_module_version": "1.5.0",
            "value": 63,
            "_view_count": null,
            "_view_module_version": "1.5.0",
            "orientation": "horizontal",
            "min": 0,
            "description_tooltip": null,
            "_model_module": "@jupyter-widgets/controls",
            "layout": "IPY_MODEL_3cd6caf75c4146e0b3260e46111596f5"
          }
        },
        "a9fc0bacc6954d398f31bd02372eb228": {
          "model_module": "@jupyter-widgets/controls",
          "model_name": "HTMLModel",
          "state": {
            "_view_name": "HTMLView",
            "style": "IPY_MODEL_f9302a9a134a4d1ba50d24c461ce7284",
            "_dom_classes": [],
            "description": "",
            "_model_name": "HTMLModel",
            "placeholder": "​",
            "_view_module": "@jupyter-widgets/controls",
            "_model_module_version": "1.5.0",
            "value": " 63/63 [12:20&lt;00:00, 11.76s/it]",
            "_view_count": null,
            "_view_module_version": "1.5.0",
            "description_tooltip": null,
            "_model_module": "@jupyter-widgets/controls",
            "layout": "IPY_MODEL_d77dd71216f4473d960c50e266dbfcda"
          }
        },
        "567582cc174844f2a2a10cc518060ff9": {
          "model_module": "@jupyter-widgets/controls",
          "model_name": "ProgressStyleModel",
          "state": {
            "_view_name": "StyleView",
            "_model_name": "ProgressStyleModel",
            "description_width": "initial",
            "_view_module": "@jupyter-widgets/base",
            "_model_module_version": "1.5.0",
            "_view_count": null,
            "_view_module_version": "1.2.0",
            "bar_color": null,
            "_model_module": "@jupyter-widgets/controls"
          }
        },
        "3cd6caf75c4146e0b3260e46111596f5": {
          "model_module": "@jupyter-widgets/base",
          "model_name": "LayoutModel",
          "state": {
            "_view_name": "LayoutView",
            "grid_template_rows": null,
            "right": null,
            "justify_content": null,
            "_view_module": "@jupyter-widgets/base",
            "overflow": null,
            "_model_module_version": "1.2.0",
            "_view_count": null,
            "flex_flow": null,
            "width": null,
            "min_width": null,
            "border": null,
            "align_items": null,
            "bottom": null,
            "_model_module": "@jupyter-widgets/base",
            "top": null,
            "grid_column": null,
            "overflow_y": null,
            "overflow_x": null,
            "grid_auto_flow": null,
            "grid_area": null,
            "grid_template_columns": null,
            "flex": null,
            "_model_name": "LayoutModel",
            "justify_items": null,
            "grid_row": null,
            "max_height": null,
            "align_content": null,
            "visibility": null,
            "align_self": null,
            "height": null,
            "min_height": null,
            "padding": null,
            "grid_auto_rows": null,
            "grid_gap": null,
            "max_width": null,
            "order": null,
            "_view_module_version": "1.2.0",
            "grid_template_areas": null,
            "object_position": null,
            "object_fit": null,
            "grid_auto_columns": null,
            "margin": null,
            "display": null,
            "left": null
          }
        },
        "f9302a9a134a4d1ba50d24c461ce7284": {
          "model_module": "@jupyter-widgets/controls",
          "model_name": "DescriptionStyleModel",
          "state": {
            "_view_name": "StyleView",
            "_model_name": "DescriptionStyleModel",
            "description_width": "",
            "_view_module": "@jupyter-widgets/base",
            "_model_module_version": "1.5.0",
            "_view_count": null,
            "_view_module_version": "1.2.0",
            "_model_module": "@jupyter-widgets/controls"
          }
        },
        "d77dd71216f4473d960c50e266dbfcda": {
          "model_module": "@jupyter-widgets/base",
          "model_name": "LayoutModel",
          "state": {
            "_view_name": "LayoutView",
            "grid_template_rows": null,
            "right": null,
            "justify_content": null,
            "_view_module": "@jupyter-widgets/base",
            "overflow": null,
            "_model_module_version": "1.2.0",
            "_view_count": null,
            "flex_flow": null,
            "width": null,
            "min_width": null,
            "border": null,
            "align_items": null,
            "bottom": null,
            "_model_module": "@jupyter-widgets/base",
            "top": null,
            "grid_column": null,
            "overflow_y": null,
            "overflow_x": null,
            "grid_auto_flow": null,
            "grid_area": null,
            "grid_template_columns": null,
            "flex": null,
            "_model_name": "LayoutModel",
            "justify_items": null,
            "grid_row": null,
            "max_height": null,
            "align_content": null,
            "visibility": null,
            "align_self": null,
            "height": null,
            "min_height": null,
            "padding": null,
            "grid_auto_rows": null,
            "grid_gap": null,
            "max_width": null,
            "order": null,
            "_view_module_version": "1.2.0",
            "grid_template_areas": null,
            "object_position": null,
            "object_fit": null,
            "grid_auto_columns": null,
            "margin": null,
            "display": null,
            "left": null
          }
        },
        "8c882e0674ab42da9f9be6526efd504c": {
          "model_module": "@jupyter-widgets/controls",
          "model_name": "HBoxModel",
          "state": {
            "_view_name": "HBoxView",
            "_dom_classes": [],
            "_model_name": "HBoxModel",
            "_view_module": "@jupyter-widgets/controls",
            "_model_module_version": "1.5.0",
            "_view_count": null,
            "_view_module_version": "1.5.0",
            "box_style": "",
            "layout": "IPY_MODEL_3ab2f7a2d60c4e9fb27a1d50adb6f037",
            "_model_module": "@jupyter-widgets/controls",
            "children": [
              "IPY_MODEL_ffb828c712894621971af2caf912341c",
              "IPY_MODEL_919975d8d5c947daa351a476c77b0325"
            ]
          }
        },
        "3ab2f7a2d60c4e9fb27a1d50adb6f037": {
          "model_module": "@jupyter-widgets/base",
          "model_name": "LayoutModel",
          "state": {
            "_view_name": "LayoutView",
            "grid_template_rows": null,
            "right": null,
            "justify_content": null,
            "_view_module": "@jupyter-widgets/base",
            "overflow": null,
            "_model_module_version": "1.2.0",
            "_view_count": null,
            "flex_flow": null,
            "width": null,
            "min_width": null,
            "border": null,
            "align_items": null,
            "bottom": null,
            "_model_module": "@jupyter-widgets/base",
            "top": null,
            "grid_column": null,
            "overflow_y": null,
            "overflow_x": null,
            "grid_auto_flow": null,
            "grid_area": null,
            "grid_template_columns": null,
            "flex": null,
            "_model_name": "LayoutModel",
            "justify_items": null,
            "grid_row": null,
            "max_height": null,
            "align_content": null,
            "visibility": null,
            "align_self": null,
            "height": null,
            "min_height": null,
            "padding": null,
            "grid_auto_rows": null,
            "grid_gap": null,
            "max_width": null,
            "order": null,
            "_view_module_version": "1.2.0",
            "grid_template_areas": null,
            "object_position": null,
            "object_fit": null,
            "grid_auto_columns": null,
            "margin": null,
            "display": null,
            "left": null
          }
        },
        "ffb828c712894621971af2caf912341c": {
          "model_module": "@jupyter-widgets/controls",
          "model_name": "FloatProgressModel",
          "state": {
            "_view_name": "ProgressView",
            "style": "IPY_MODEL_a24414f6d8db4cd3919acb6e1279c8e3",
            "_dom_classes": [],
            "description": "Iteration: 100%",
            "_model_name": "FloatProgressModel",
            "bar_style": "success",
            "max": 63,
            "_view_module": "@jupyter-widgets/controls",
            "_model_module_version": "1.5.0",
            "value": 63,
            "_view_count": null,
            "_view_module_version": "1.5.0",
            "orientation": "horizontal",
            "min": 0,
            "description_tooltip": null,
            "_model_module": "@jupyter-widgets/controls",
            "layout": "IPY_MODEL_ad1f925f5f2f49248baf6df049c4efaa"
          }
        },
        "919975d8d5c947daa351a476c77b0325": {
          "model_module": "@jupyter-widgets/controls",
          "model_name": "HTMLModel",
          "state": {
            "_view_name": "HTMLView",
            "style": "IPY_MODEL_57c61b98e2484ef9bb3e47ab21e4e007",
            "_dom_classes": [],
            "description": "",
            "_model_name": "HTMLModel",
            "placeholder": "​",
            "_view_module": "@jupyter-widgets/controls",
            "_model_module_version": "1.5.0",
            "value": " 63/63 [11:19&lt;00:00, 10.79s/it]",
            "_view_count": null,
            "_view_module_version": "1.5.0",
            "description_tooltip": null,
            "_model_module": "@jupyter-widgets/controls",
            "layout": "IPY_MODEL_506e6d6438614757a85181c495f543ff"
          }
        },
        "a24414f6d8db4cd3919acb6e1279c8e3": {
          "model_module": "@jupyter-widgets/controls",
          "model_name": "ProgressStyleModel",
          "state": {
            "_view_name": "StyleView",
            "_model_name": "ProgressStyleModel",
            "description_width": "initial",
            "_view_module": "@jupyter-widgets/base",
            "_model_module_version": "1.5.0",
            "_view_count": null,
            "_view_module_version": "1.2.0",
            "bar_color": null,
            "_model_module": "@jupyter-widgets/controls"
          }
        },
        "ad1f925f5f2f49248baf6df049c4efaa": {
          "model_module": "@jupyter-widgets/base",
          "model_name": "LayoutModel",
          "state": {
            "_view_name": "LayoutView",
            "grid_template_rows": null,
            "right": null,
            "justify_content": null,
            "_view_module": "@jupyter-widgets/base",
            "overflow": null,
            "_model_module_version": "1.2.0",
            "_view_count": null,
            "flex_flow": null,
            "width": null,
            "min_width": null,
            "border": null,
            "align_items": null,
            "bottom": null,
            "_model_module": "@jupyter-widgets/base",
            "top": null,
            "grid_column": null,
            "overflow_y": null,
            "overflow_x": null,
            "grid_auto_flow": null,
            "grid_area": null,
            "grid_template_columns": null,
            "flex": null,
            "_model_name": "LayoutModel",
            "justify_items": null,
            "grid_row": null,
            "max_height": null,
            "align_content": null,
            "visibility": null,
            "align_self": null,
            "height": null,
            "min_height": null,
            "padding": null,
            "grid_auto_rows": null,
            "grid_gap": null,
            "max_width": null,
            "order": null,
            "_view_module_version": "1.2.0",
            "grid_template_areas": null,
            "object_position": null,
            "object_fit": null,
            "grid_auto_columns": null,
            "margin": null,
            "display": null,
            "left": null
          }
        },
        "57c61b98e2484ef9bb3e47ab21e4e007": {
          "model_module": "@jupyter-widgets/controls",
          "model_name": "DescriptionStyleModel",
          "state": {
            "_view_name": "StyleView",
            "_model_name": "DescriptionStyleModel",
            "description_width": "",
            "_view_module": "@jupyter-widgets/base",
            "_model_module_version": "1.5.0",
            "_view_count": null,
            "_view_module_version": "1.2.0",
            "_model_module": "@jupyter-widgets/controls"
          }
        },
        "506e6d6438614757a85181c495f543ff": {
          "model_module": "@jupyter-widgets/base",
          "model_name": "LayoutModel",
          "state": {
            "_view_name": "LayoutView",
            "grid_template_rows": null,
            "right": null,
            "justify_content": null,
            "_view_module": "@jupyter-widgets/base",
            "overflow": null,
            "_model_module_version": "1.2.0",
            "_view_count": null,
            "flex_flow": null,
            "width": null,
            "min_width": null,
            "border": null,
            "align_items": null,
            "bottom": null,
            "_model_module": "@jupyter-widgets/base",
            "top": null,
            "grid_column": null,
            "overflow_y": null,
            "overflow_x": null,
            "grid_auto_flow": null,
            "grid_area": null,
            "grid_template_columns": null,
            "flex": null,
            "_model_name": "LayoutModel",
            "justify_items": null,
            "grid_row": null,
            "max_height": null,
            "align_content": null,
            "visibility": null,
            "align_self": null,
            "height": null,
            "min_height": null,
            "padding": null,
            "grid_auto_rows": null,
            "grid_gap": null,
            "max_width": null,
            "order": null,
            "_view_module_version": "1.2.0",
            "grid_template_areas": null,
            "object_position": null,
            "object_fit": null,
            "grid_auto_columns": null,
            "margin": null,
            "display": null,
            "left": null
          }
        },
        "9a63468139764bc88181e2225854f429": {
          "model_module": "@jupyter-widgets/controls",
          "model_name": "HBoxModel",
          "state": {
            "_view_name": "HBoxView",
            "_dom_classes": [],
            "_model_name": "HBoxModel",
            "_view_module": "@jupyter-widgets/controls",
            "_model_module_version": "1.5.0",
            "_view_count": null,
            "_view_module_version": "1.5.0",
            "box_style": "",
            "layout": "IPY_MODEL_e23067a20020472ba7983178c8beffef",
            "_model_module": "@jupyter-widgets/controls",
            "children": [
              "IPY_MODEL_494744d5d7ef41e7bd1d63679d9edd70",
              "IPY_MODEL_b8af88a90b4d490c86228a56ed841ad7"
            ]
          }
        },
        "e23067a20020472ba7983178c8beffef": {
          "model_module": "@jupyter-widgets/base",
          "model_name": "LayoutModel",
          "state": {
            "_view_name": "LayoutView",
            "grid_template_rows": null,
            "right": null,
            "justify_content": null,
            "_view_module": "@jupyter-widgets/base",
            "overflow": null,
            "_model_module_version": "1.2.0",
            "_view_count": null,
            "flex_flow": null,
            "width": null,
            "min_width": null,
            "border": null,
            "align_items": null,
            "bottom": null,
            "_model_module": "@jupyter-widgets/base",
            "top": null,
            "grid_column": null,
            "overflow_y": null,
            "overflow_x": null,
            "grid_auto_flow": null,
            "grid_area": null,
            "grid_template_columns": null,
            "flex": null,
            "_model_name": "LayoutModel",
            "justify_items": null,
            "grid_row": null,
            "max_height": null,
            "align_content": null,
            "visibility": null,
            "align_self": null,
            "height": null,
            "min_height": null,
            "padding": null,
            "grid_auto_rows": null,
            "grid_gap": null,
            "max_width": null,
            "order": null,
            "_view_module_version": "1.2.0",
            "grid_template_areas": null,
            "object_position": null,
            "object_fit": null,
            "grid_auto_columns": null,
            "margin": null,
            "display": null,
            "left": null
          }
        },
        "494744d5d7ef41e7bd1d63679d9edd70": {
          "model_module": "@jupyter-widgets/controls",
          "model_name": "FloatProgressModel",
          "state": {
            "_view_name": "ProgressView",
            "style": "IPY_MODEL_aadd80f03b594737b2f084f664494cb4",
            "_dom_classes": [],
            "description": "Iteration: 100%",
            "_model_name": "FloatProgressModel",
            "bar_style": "success",
            "max": 63,
            "_view_module": "@jupyter-widgets/controls",
            "_model_module_version": "1.5.0",
            "value": 63,
            "_view_count": null,
            "_view_module_version": "1.5.0",
            "orientation": "horizontal",
            "min": 0,
            "description_tooltip": null,
            "_model_module": "@jupyter-widgets/controls",
            "layout": "IPY_MODEL_bf311147608c4e83b3f6ad94b330d189"
          }
        },
        "b8af88a90b4d490c86228a56ed841ad7": {
          "model_module": "@jupyter-widgets/controls",
          "model_name": "HTMLModel",
          "state": {
            "_view_name": "HTMLView",
            "style": "IPY_MODEL_ca79836f480140d79e90aa720bde5374",
            "_dom_classes": [],
            "description": "",
            "_model_name": "HTMLModel",
            "placeholder": "​",
            "_view_module": "@jupyter-widgets/controls",
            "_model_module_version": "1.5.0",
            "value": " 63/63 [00:56&lt;00:00,  1.11it/s]",
            "_view_count": null,
            "_view_module_version": "1.5.0",
            "description_tooltip": null,
            "_model_module": "@jupyter-widgets/controls",
            "layout": "IPY_MODEL_e5deb9786eab4eb9954ab9e3601a4615"
          }
        },
        "aadd80f03b594737b2f084f664494cb4": {
          "model_module": "@jupyter-widgets/controls",
          "model_name": "ProgressStyleModel",
          "state": {
            "_view_name": "StyleView",
            "_model_name": "ProgressStyleModel",
            "description_width": "initial",
            "_view_module": "@jupyter-widgets/base",
            "_model_module_version": "1.5.0",
            "_view_count": null,
            "_view_module_version": "1.2.0",
            "bar_color": null,
            "_model_module": "@jupyter-widgets/controls"
          }
        },
        "bf311147608c4e83b3f6ad94b330d189": {
          "model_module": "@jupyter-widgets/base",
          "model_name": "LayoutModel",
          "state": {
            "_view_name": "LayoutView",
            "grid_template_rows": null,
            "right": null,
            "justify_content": null,
            "_view_module": "@jupyter-widgets/base",
            "overflow": null,
            "_model_module_version": "1.2.0",
            "_view_count": null,
            "flex_flow": null,
            "width": null,
            "min_width": null,
            "border": null,
            "align_items": null,
            "bottom": null,
            "_model_module": "@jupyter-widgets/base",
            "top": null,
            "grid_column": null,
            "overflow_y": null,
            "overflow_x": null,
            "grid_auto_flow": null,
            "grid_area": null,
            "grid_template_columns": null,
            "flex": null,
            "_model_name": "LayoutModel",
            "justify_items": null,
            "grid_row": null,
            "max_height": null,
            "align_content": null,
            "visibility": null,
            "align_self": null,
            "height": null,
            "min_height": null,
            "padding": null,
            "grid_auto_rows": null,
            "grid_gap": null,
            "max_width": null,
            "order": null,
            "_view_module_version": "1.2.0",
            "grid_template_areas": null,
            "object_position": null,
            "object_fit": null,
            "grid_auto_columns": null,
            "margin": null,
            "display": null,
            "left": null
          }
        },
        "ca79836f480140d79e90aa720bde5374": {
          "model_module": "@jupyter-widgets/controls",
          "model_name": "DescriptionStyleModel",
          "state": {
            "_view_name": "StyleView",
            "_model_name": "DescriptionStyleModel",
            "description_width": "",
            "_view_module": "@jupyter-widgets/base",
            "_model_module_version": "1.5.0",
            "_view_count": null,
            "_view_module_version": "1.2.0",
            "_model_module": "@jupyter-widgets/controls"
          }
        },
        "e5deb9786eab4eb9954ab9e3601a4615": {
          "model_module": "@jupyter-widgets/base",
          "model_name": "LayoutModel",
          "state": {
            "_view_name": "LayoutView",
            "grid_template_rows": null,
            "right": null,
            "justify_content": null,
            "_view_module": "@jupyter-widgets/base",
            "overflow": null,
            "_model_module_version": "1.2.0",
            "_view_count": null,
            "flex_flow": null,
            "width": null,
            "min_width": null,
            "border": null,
            "align_items": null,
            "bottom": null,
            "_model_module": "@jupyter-widgets/base",
            "top": null,
            "grid_column": null,
            "overflow_y": null,
            "overflow_x": null,
            "grid_auto_flow": null,
            "grid_area": null,
            "grid_template_columns": null,
            "flex": null,
            "_model_name": "LayoutModel",
            "justify_items": null,
            "grid_row": null,
            "max_height": null,
            "align_content": null,
            "visibility": null,
            "align_self": null,
            "height": null,
            "min_height": null,
            "padding": null,
            "grid_auto_rows": null,
            "grid_gap": null,
            "max_width": null,
            "order": null,
            "_view_module_version": "1.2.0",
            "grid_template_areas": null,
            "object_position": null,
            "object_fit": null,
            "grid_auto_columns": null,
            "margin": null,
            "display": null,
            "left": null
          }
        },
        "1e2da23b219b4cc5b47360e1d064b5af": {
          "model_module": "@jupyter-widgets/controls",
          "model_name": "HBoxModel",
          "state": {
            "_view_name": "HBoxView",
            "_dom_classes": [],
            "_model_name": "HBoxModel",
            "_view_module": "@jupyter-widgets/controls",
            "_model_module_version": "1.5.0",
            "_view_count": null,
            "_view_module_version": "1.5.0",
            "box_style": "",
            "layout": "IPY_MODEL_2541e23766a945d0a56641a420fb7b46",
            "_model_module": "@jupyter-widgets/controls",
            "children": [
              "IPY_MODEL_e2b994d0646546acbaf63c767fb3eeb4",
              "IPY_MODEL_fb99280a7faf4e9f9bbad84cdce29972"
            ]
          }
        },
        "2541e23766a945d0a56641a420fb7b46": {
          "model_module": "@jupyter-widgets/base",
          "model_name": "LayoutModel",
          "state": {
            "_view_name": "LayoutView",
            "grid_template_rows": null,
            "right": null,
            "justify_content": null,
            "_view_module": "@jupyter-widgets/base",
            "overflow": null,
            "_model_module_version": "1.2.0",
            "_view_count": null,
            "flex_flow": null,
            "width": null,
            "min_width": null,
            "border": null,
            "align_items": null,
            "bottom": null,
            "_model_module": "@jupyter-widgets/base",
            "top": null,
            "grid_column": null,
            "overflow_y": null,
            "overflow_x": null,
            "grid_auto_flow": null,
            "grid_area": null,
            "grid_template_columns": null,
            "flex": null,
            "_model_name": "LayoutModel",
            "justify_items": null,
            "grid_row": null,
            "max_height": null,
            "align_content": null,
            "visibility": null,
            "align_self": null,
            "height": null,
            "min_height": null,
            "padding": null,
            "grid_auto_rows": null,
            "grid_gap": null,
            "max_width": null,
            "order": null,
            "_view_module_version": "1.2.0",
            "grid_template_areas": null,
            "object_position": null,
            "object_fit": null,
            "grid_auto_columns": null,
            "margin": null,
            "display": null,
            "left": null
          }
        },
        "e2b994d0646546acbaf63c767fb3eeb4": {
          "model_module": "@jupyter-widgets/controls",
          "model_name": "FloatProgressModel",
          "state": {
            "_view_name": "ProgressView",
            "style": "IPY_MODEL_6f17993f454b4f64861629fcd7cb9776",
            "_dom_classes": [],
            "description": "Downloading: 100%",
            "_model_name": "FloatProgressModel",
            "bar_style": "success",
            "max": 625,
            "_view_module": "@jupyter-widgets/controls",
            "_model_module_version": "1.5.0",
            "value": 625,
            "_view_count": null,
            "_view_module_version": "1.5.0",
            "orientation": "horizontal",
            "min": 0,
            "description_tooltip": null,
            "_model_module": "@jupyter-widgets/controls",
            "layout": "IPY_MODEL_5fcf1f9ca0ce4f96b33b0b5227aee72c"
          }
        },
        "fb99280a7faf4e9f9bbad84cdce29972": {
          "model_module": "@jupyter-widgets/controls",
          "model_name": "HTMLModel",
          "state": {
            "_view_name": "HTMLView",
            "style": "IPY_MODEL_76e5b309b85041ba9111e3ca1739fbce",
            "_dom_classes": [],
            "description": "",
            "_model_name": "HTMLModel",
            "placeholder": "​",
            "_view_module": "@jupyter-widgets/controls",
            "_model_module_version": "1.5.0",
            "value": " 625/625 [00:00&lt;00:00, 1.99kB/s]",
            "_view_count": null,
            "_view_module_version": "1.5.0",
            "description_tooltip": null,
            "_model_module": "@jupyter-widgets/controls",
            "layout": "IPY_MODEL_492665ac7eac490f82b787267c6916c1"
          }
        },
        "6f17993f454b4f64861629fcd7cb9776": {
          "model_module": "@jupyter-widgets/controls",
          "model_name": "ProgressStyleModel",
          "state": {
            "_view_name": "StyleView",
            "_model_name": "ProgressStyleModel",
            "description_width": "initial",
            "_view_module": "@jupyter-widgets/base",
            "_model_module_version": "1.5.0",
            "_view_count": null,
            "_view_module_version": "1.2.0",
            "bar_color": null,
            "_model_module": "@jupyter-widgets/controls"
          }
        },
        "5fcf1f9ca0ce4f96b33b0b5227aee72c": {
          "model_module": "@jupyter-widgets/base",
          "model_name": "LayoutModel",
          "state": {
            "_view_name": "LayoutView",
            "grid_template_rows": null,
            "right": null,
            "justify_content": null,
            "_view_module": "@jupyter-widgets/base",
            "overflow": null,
            "_model_module_version": "1.2.0",
            "_view_count": null,
            "flex_flow": null,
            "width": null,
            "min_width": null,
            "border": null,
            "align_items": null,
            "bottom": null,
            "_model_module": "@jupyter-widgets/base",
            "top": null,
            "grid_column": null,
            "overflow_y": null,
            "overflow_x": null,
            "grid_auto_flow": null,
            "grid_area": null,
            "grid_template_columns": null,
            "flex": null,
            "_model_name": "LayoutModel",
            "justify_items": null,
            "grid_row": null,
            "max_height": null,
            "align_content": null,
            "visibility": null,
            "align_self": null,
            "height": null,
            "min_height": null,
            "padding": null,
            "grid_auto_rows": null,
            "grid_gap": null,
            "max_width": null,
            "order": null,
            "_view_module_version": "1.2.0",
            "grid_template_areas": null,
            "object_position": null,
            "object_fit": null,
            "grid_auto_columns": null,
            "margin": null,
            "display": null,
            "left": null
          }
        },
        "76e5b309b85041ba9111e3ca1739fbce": {
          "model_module": "@jupyter-widgets/controls",
          "model_name": "DescriptionStyleModel",
          "state": {
            "_view_name": "StyleView",
            "_model_name": "DescriptionStyleModel",
            "description_width": "",
            "_view_module": "@jupyter-widgets/base",
            "_model_module_version": "1.5.0",
            "_view_count": null,
            "_view_module_version": "1.2.0",
            "_model_module": "@jupyter-widgets/controls"
          }
        },
        "492665ac7eac490f82b787267c6916c1": {
          "model_module": "@jupyter-widgets/base",
          "model_name": "LayoutModel",
          "state": {
            "_view_name": "LayoutView",
            "grid_template_rows": null,
            "right": null,
            "justify_content": null,
            "_view_module": "@jupyter-widgets/base",
            "overflow": null,
            "_model_module_version": "1.2.0",
            "_view_count": null,
            "flex_flow": null,
            "width": null,
            "min_width": null,
            "border": null,
            "align_items": null,
            "bottom": null,
            "_model_module": "@jupyter-widgets/base",
            "top": null,
            "grid_column": null,
            "overflow_y": null,
            "overflow_x": null,
            "grid_auto_flow": null,
            "grid_area": null,
            "grid_template_columns": null,
            "flex": null,
            "_model_name": "LayoutModel",
            "justify_items": null,
            "grid_row": null,
            "max_height": null,
            "align_content": null,
            "visibility": null,
            "align_self": null,
            "height": null,
            "min_height": null,
            "padding": null,
            "grid_auto_rows": null,
            "grid_gap": null,
            "max_width": null,
            "order": null,
            "_view_module_version": "1.2.0",
            "grid_template_areas": null,
            "object_position": null,
            "object_fit": null,
            "grid_auto_columns": null,
            "margin": null,
            "display": null,
            "left": null
          }
        },
        "6d62d73ef4b5495dacb15d0e6cec5d7b": {
          "model_module": "@jupyter-widgets/controls",
          "model_name": "HBoxModel",
          "state": {
            "_view_name": "HBoxView",
            "_dom_classes": [],
            "_model_name": "HBoxModel",
            "_view_module": "@jupyter-widgets/controls",
            "_model_module_version": "1.5.0",
            "_view_count": null,
            "_view_module_version": "1.5.0",
            "box_style": "",
            "layout": "IPY_MODEL_74b6b65924ad4afaa2902c7986a3a474",
            "_model_module": "@jupyter-widgets/controls",
            "children": [
              "IPY_MODEL_6d50cfd3601246269783be80f42f5fdf",
              "IPY_MODEL_822337058ba64831ae2b449d331e0256"
            ]
          }
        },
        "74b6b65924ad4afaa2902c7986a3a474": {
          "model_module": "@jupyter-widgets/base",
          "model_name": "LayoutModel",
          "state": {
            "_view_name": "LayoutView",
            "grid_template_rows": null,
            "right": null,
            "justify_content": null,
            "_view_module": "@jupyter-widgets/base",
            "overflow": null,
            "_model_module_version": "1.2.0",
            "_view_count": null,
            "flex_flow": null,
            "width": null,
            "min_width": null,
            "border": null,
            "align_items": null,
            "bottom": null,
            "_model_module": "@jupyter-widgets/base",
            "top": null,
            "grid_column": null,
            "overflow_y": null,
            "overflow_x": null,
            "grid_auto_flow": null,
            "grid_area": null,
            "grid_template_columns": null,
            "flex": null,
            "_model_name": "LayoutModel",
            "justify_items": null,
            "grid_row": null,
            "max_height": null,
            "align_content": null,
            "visibility": null,
            "align_self": null,
            "height": null,
            "min_height": null,
            "padding": null,
            "grid_auto_rows": null,
            "grid_gap": null,
            "max_width": null,
            "order": null,
            "_view_module_version": "1.2.0",
            "grid_template_areas": null,
            "object_position": null,
            "object_fit": null,
            "grid_auto_columns": null,
            "margin": null,
            "display": null,
            "left": null
          }
        },
        "6d50cfd3601246269783be80f42f5fdf": {
          "model_module": "@jupyter-widgets/controls",
          "model_name": "FloatProgressModel",
          "state": {
            "_view_name": "ProgressView",
            "style": "IPY_MODEL_267bf189cd964b88813014c6b3e90730",
            "_dom_classes": [],
            "description": "Downloading: 100%",
            "_model_name": "FloatProgressModel",
            "bar_style": "success",
            "max": 714314041,
            "_view_module": "@jupyter-widgets/controls",
            "_model_module_version": "1.5.0",
            "value": 714314041,
            "_view_count": null,
            "_view_module_version": "1.5.0",
            "orientation": "horizontal",
            "min": 0,
            "description_tooltip": null,
            "_model_module": "@jupyter-widgets/controls",
            "layout": "IPY_MODEL_4abe5b5e5e4b4bde9c53899cfb354d98"
          }
        },
        "822337058ba64831ae2b449d331e0256": {
          "model_module": "@jupyter-widgets/controls",
          "model_name": "HTMLModel",
          "state": {
            "_view_name": "HTMLView",
            "style": "IPY_MODEL_f6faee878595498cad6e491647f4b937",
            "_dom_classes": [],
            "description": "",
            "_model_name": "HTMLModel",
            "placeholder": "​",
            "_view_module": "@jupyter-widgets/controls",
            "_model_module_version": "1.5.0",
            "value": " 714M/714M [00:17&lt;00:00, 40.7MB/s]",
            "_view_count": null,
            "_view_module_version": "1.5.0",
            "description_tooltip": null,
            "_model_module": "@jupyter-widgets/controls",
            "layout": "IPY_MODEL_2c19b1d71e4647beac216794d51a0bb2"
          }
        },
        "267bf189cd964b88813014c6b3e90730": {
          "model_module": "@jupyter-widgets/controls",
          "model_name": "ProgressStyleModel",
          "state": {
            "_view_name": "StyleView",
            "_model_name": "ProgressStyleModel",
            "description_width": "initial",
            "_view_module": "@jupyter-widgets/base",
            "_model_module_version": "1.5.0",
            "_view_count": null,
            "_view_module_version": "1.2.0",
            "bar_color": null,
            "_model_module": "@jupyter-widgets/controls"
          }
        },
        "4abe5b5e5e4b4bde9c53899cfb354d98": {
          "model_module": "@jupyter-widgets/base",
          "model_name": "LayoutModel",
          "state": {
            "_view_name": "LayoutView",
            "grid_template_rows": null,
            "right": null,
            "justify_content": null,
            "_view_module": "@jupyter-widgets/base",
            "overflow": null,
            "_model_module_version": "1.2.0",
            "_view_count": null,
            "flex_flow": null,
            "width": null,
            "min_width": null,
            "border": null,
            "align_items": null,
            "bottom": null,
            "_model_module": "@jupyter-widgets/base",
            "top": null,
            "grid_column": null,
            "overflow_y": null,
            "overflow_x": null,
            "grid_auto_flow": null,
            "grid_area": null,
            "grid_template_columns": null,
            "flex": null,
            "_model_name": "LayoutModel",
            "justify_items": null,
            "grid_row": null,
            "max_height": null,
            "align_content": null,
            "visibility": null,
            "align_self": null,
            "height": null,
            "min_height": null,
            "padding": null,
            "grid_auto_rows": null,
            "grid_gap": null,
            "max_width": null,
            "order": null,
            "_view_module_version": "1.2.0",
            "grid_template_areas": null,
            "object_position": null,
            "object_fit": null,
            "grid_auto_columns": null,
            "margin": null,
            "display": null,
            "left": null
          }
        },
        "f6faee878595498cad6e491647f4b937": {
          "model_module": "@jupyter-widgets/controls",
          "model_name": "DescriptionStyleModel",
          "state": {
            "_view_name": "StyleView",
            "_model_name": "DescriptionStyleModel",
            "description_width": "",
            "_view_module": "@jupyter-widgets/base",
            "_model_module_version": "1.5.0",
            "_view_count": null,
            "_view_module_version": "1.2.0",
            "_model_module": "@jupyter-widgets/controls"
          }
        },
        "2c19b1d71e4647beac216794d51a0bb2": {
          "model_module": "@jupyter-widgets/base",
          "model_name": "LayoutModel",
          "state": {
            "_view_name": "LayoutView",
            "grid_template_rows": null,
            "right": null,
            "justify_content": null,
            "_view_module": "@jupyter-widgets/base",
            "overflow": null,
            "_model_module_version": "1.2.0",
            "_view_count": null,
            "flex_flow": null,
            "width": null,
            "min_width": null,
            "border": null,
            "align_items": null,
            "bottom": null,
            "_model_module": "@jupyter-widgets/base",
            "top": null,
            "grid_column": null,
            "overflow_y": null,
            "overflow_x": null,
            "grid_auto_flow": null,
            "grid_area": null,
            "grid_template_columns": null,
            "flex": null,
            "_model_name": "LayoutModel",
            "justify_items": null,
            "grid_row": null,
            "max_height": null,
            "align_content": null,
            "visibility": null,
            "align_self": null,
            "height": null,
            "min_height": null,
            "padding": null,
            "grid_auto_rows": null,
            "grid_gap": null,
            "max_width": null,
            "order": null,
            "_view_module_version": "1.2.0",
            "grid_template_areas": null,
            "object_position": null,
            "object_fit": null,
            "grid_auto_columns": null,
            "margin": null,
            "display": null,
            "left": null
          }
        },
        "ec1d3894c45242ab946fb375a0bc50c9": {
          "model_module": "@jupyter-widgets/controls",
          "model_name": "HBoxModel",
          "state": {
            "_view_name": "HBoxView",
            "_dom_classes": [],
            "_model_name": "HBoxModel",
            "_view_module": "@jupyter-widgets/controls",
            "_model_module_version": "1.5.0",
            "_view_count": null,
            "_view_module_version": "1.5.0",
            "box_style": "",
            "layout": "IPY_MODEL_bbf4a471484d4a2fa111907c3e29c839",
            "_model_module": "@jupyter-widgets/controls",
            "children": [
              "IPY_MODEL_2e2b77d5fd614b1fb7019ce68916d0a2",
              "IPY_MODEL_244fca75dc13473f911b0b29ff5f7ff5"
            ]
          }
        },
        "bbf4a471484d4a2fa111907c3e29c839": {
          "model_module": "@jupyter-widgets/base",
          "model_name": "LayoutModel",
          "state": {
            "_view_name": "LayoutView",
            "grid_template_rows": null,
            "right": null,
            "justify_content": null,
            "_view_module": "@jupyter-widgets/base",
            "overflow": null,
            "_model_module_version": "1.2.0",
            "_view_count": null,
            "flex_flow": null,
            "width": null,
            "min_width": null,
            "border": null,
            "align_items": null,
            "bottom": null,
            "_model_module": "@jupyter-widgets/base",
            "top": null,
            "grid_column": null,
            "overflow_y": null,
            "overflow_x": null,
            "grid_auto_flow": null,
            "grid_area": null,
            "grid_template_columns": null,
            "flex": null,
            "_model_name": "LayoutModel",
            "justify_items": null,
            "grid_row": null,
            "max_height": null,
            "align_content": null,
            "visibility": null,
            "align_self": null,
            "height": null,
            "min_height": null,
            "padding": null,
            "grid_auto_rows": null,
            "grid_gap": null,
            "max_width": null,
            "order": null,
            "_view_module_version": "1.2.0",
            "grid_template_areas": null,
            "object_position": null,
            "object_fit": null,
            "grid_auto_columns": null,
            "margin": null,
            "display": null,
            "left": null
          }
        },
        "2e2b77d5fd614b1fb7019ce68916d0a2": {
          "model_module": "@jupyter-widgets/controls",
          "model_name": "FloatProgressModel",
          "state": {
            "_view_name": "ProgressView",
            "style": "IPY_MODEL_d16231d0e52a4a96a2cb8c89b7ff2bf5",
            "_dom_classes": [],
            "description": "Downloading: 100%",
            "_model_name": "FloatProgressModel",
            "bar_style": "success",
            "max": 995526,
            "_view_module": "@jupyter-widgets/controls",
            "_model_module_version": "1.5.0",
            "value": 995526,
            "_view_count": null,
            "_view_module_version": "1.5.0",
            "orientation": "horizontal",
            "min": 0,
            "description_tooltip": null,
            "_model_module": "@jupyter-widgets/controls",
            "layout": "IPY_MODEL_ba33ed747f954843b2bb68aed37a2f03"
          }
        },
        "244fca75dc13473f911b0b29ff5f7ff5": {
          "model_module": "@jupyter-widgets/controls",
          "model_name": "HTMLModel",
          "state": {
            "_view_name": "HTMLView",
            "style": "IPY_MODEL_8bc82936711548178c6bb74e65017036",
            "_dom_classes": [],
            "description": "",
            "_model_name": "HTMLModel",
            "placeholder": "​",
            "_view_module": "@jupyter-widgets/controls",
            "_model_module_version": "1.5.0",
            "value": " 996k/996k [00:01&lt;00:00, 689kB/s]",
            "_view_count": null,
            "_view_module_version": "1.5.0",
            "description_tooltip": null,
            "_model_module": "@jupyter-widgets/controls",
            "layout": "IPY_MODEL_ef120b302cc642559941262febebe4fc"
          }
        },
        "d16231d0e52a4a96a2cb8c89b7ff2bf5": {
          "model_module": "@jupyter-widgets/controls",
          "model_name": "ProgressStyleModel",
          "state": {
            "_view_name": "StyleView",
            "_model_name": "ProgressStyleModel",
            "description_width": "initial",
            "_view_module": "@jupyter-widgets/base",
            "_model_module_version": "1.5.0",
            "_view_count": null,
            "_view_module_version": "1.2.0",
            "bar_color": null,
            "_model_module": "@jupyter-widgets/controls"
          }
        },
        "ba33ed747f954843b2bb68aed37a2f03": {
          "model_module": "@jupyter-widgets/base",
          "model_name": "LayoutModel",
          "state": {
            "_view_name": "LayoutView",
            "grid_template_rows": null,
            "right": null,
            "justify_content": null,
            "_view_module": "@jupyter-widgets/base",
            "overflow": null,
            "_model_module_version": "1.2.0",
            "_view_count": null,
            "flex_flow": null,
            "width": null,
            "min_width": null,
            "border": null,
            "align_items": null,
            "bottom": null,
            "_model_module": "@jupyter-widgets/base",
            "top": null,
            "grid_column": null,
            "overflow_y": null,
            "overflow_x": null,
            "grid_auto_flow": null,
            "grid_area": null,
            "grid_template_columns": null,
            "flex": null,
            "_model_name": "LayoutModel",
            "justify_items": null,
            "grid_row": null,
            "max_height": null,
            "align_content": null,
            "visibility": null,
            "align_self": null,
            "height": null,
            "min_height": null,
            "padding": null,
            "grid_auto_rows": null,
            "grid_gap": null,
            "max_width": null,
            "order": null,
            "_view_module_version": "1.2.0",
            "grid_template_areas": null,
            "object_position": null,
            "object_fit": null,
            "grid_auto_columns": null,
            "margin": null,
            "display": null,
            "left": null
          }
        },
        "8bc82936711548178c6bb74e65017036": {
          "model_module": "@jupyter-widgets/controls",
          "model_name": "DescriptionStyleModel",
          "state": {
            "_view_name": "StyleView",
            "_model_name": "DescriptionStyleModel",
            "description_width": "",
            "_view_module": "@jupyter-widgets/base",
            "_model_module_version": "1.5.0",
            "_view_count": null,
            "_view_module_version": "1.2.0",
            "_model_module": "@jupyter-widgets/controls"
          }
        },
        "ef120b302cc642559941262febebe4fc": {
          "model_module": "@jupyter-widgets/base",
          "model_name": "LayoutModel",
          "state": {
            "_view_name": "LayoutView",
            "grid_template_rows": null,
            "right": null,
            "justify_content": null,
            "_view_module": "@jupyter-widgets/base",
            "overflow": null,
            "_model_module_version": "1.2.0",
            "_view_count": null,
            "flex_flow": null,
            "width": null,
            "min_width": null,
            "border": null,
            "align_items": null,
            "bottom": null,
            "_model_module": "@jupyter-widgets/base",
            "top": null,
            "grid_column": null,
            "overflow_y": null,
            "overflow_x": null,
            "grid_auto_flow": null,
            "grid_area": null,
            "grid_template_columns": null,
            "flex": null,
            "_model_name": "LayoutModel",
            "justify_items": null,
            "grid_row": null,
            "max_height": null,
            "align_content": null,
            "visibility": null,
            "align_self": null,
            "height": null,
            "min_height": null,
            "padding": null,
            "grid_auto_rows": null,
            "grid_gap": null,
            "max_width": null,
            "order": null,
            "_view_module_version": "1.2.0",
            "grid_template_areas": null,
            "object_position": null,
            "object_fit": null,
            "grid_auto_columns": null,
            "margin": null,
            "display": null,
            "left": null
          }
        },
        "a5fc3ad80ae24b86a29f43477006fb69": {
          "model_module": "@jupyter-widgets/controls",
          "model_name": "HBoxModel",
          "state": {
            "_view_name": "HBoxView",
            "_dom_classes": [],
            "_model_name": "HBoxModel",
            "_view_module": "@jupyter-widgets/controls",
            "_model_module_version": "1.5.0",
            "_view_count": null,
            "_view_module_version": "1.5.0",
            "box_style": "",
            "layout": "IPY_MODEL_2fc72bee998746d280269340200a1351",
            "_model_module": "@jupyter-widgets/controls",
            "children": [
              "IPY_MODEL_e8e594e729bb4382acaa98967f78fce0",
              "IPY_MODEL_ce151c360e7546ed896d2bdab04b8aca"
            ]
          }
        },
        "2fc72bee998746d280269340200a1351": {
          "model_module": "@jupyter-widgets/base",
          "model_name": "LayoutModel",
          "state": {
            "_view_name": "LayoutView",
            "grid_template_rows": null,
            "right": null,
            "justify_content": null,
            "_view_module": "@jupyter-widgets/base",
            "overflow": null,
            "_model_module_version": "1.2.0",
            "_view_count": null,
            "flex_flow": null,
            "width": null,
            "min_width": null,
            "border": null,
            "align_items": null,
            "bottom": null,
            "_model_module": "@jupyter-widgets/base",
            "top": null,
            "grid_column": null,
            "overflow_y": null,
            "overflow_x": null,
            "grid_auto_flow": null,
            "grid_area": null,
            "grid_template_columns": null,
            "flex": null,
            "_model_name": "LayoutModel",
            "justify_items": null,
            "grid_row": null,
            "max_height": null,
            "align_content": null,
            "visibility": null,
            "align_self": null,
            "height": null,
            "min_height": null,
            "padding": null,
            "grid_auto_rows": null,
            "grid_gap": null,
            "max_width": null,
            "order": null,
            "_view_module_version": "1.2.0",
            "grid_template_areas": null,
            "object_position": null,
            "object_fit": null,
            "grid_auto_columns": null,
            "margin": null,
            "display": null,
            "left": null
          }
        },
        "e8e594e729bb4382acaa98967f78fce0": {
          "model_module": "@jupyter-widgets/controls",
          "model_name": "FloatProgressModel",
          "state": {
            "_view_name": "ProgressView",
            "style": "IPY_MODEL_b44bde52a56f4469bdd92d221d006724",
            "_dom_classes": [],
            "description": "Downloading: 100%",
            "_model_name": "FloatProgressModel",
            "bar_style": "success",
            "max": 1961828,
            "_view_module": "@jupyter-widgets/controls",
            "_model_module_version": "1.5.0",
            "value": 1961828,
            "_view_count": null,
            "_view_module_version": "1.5.0",
            "orientation": "horizontal",
            "min": 0,
            "description_tooltip": null,
            "_model_module": "@jupyter-widgets/controls",
            "layout": "IPY_MODEL_5a45c3e6cebe4a25b8a29f0921512ecd"
          }
        },
        "ce151c360e7546ed896d2bdab04b8aca": {
          "model_module": "@jupyter-widgets/controls",
          "model_name": "HTMLModel",
          "state": {
            "_view_name": "HTMLView",
            "style": "IPY_MODEL_5ab4322eda6e4a61aba5bb311a2a6c57",
            "_dom_classes": [],
            "description": "",
            "_model_name": "HTMLModel",
            "placeholder": "​",
            "_view_module": "@jupyter-widgets/controls",
            "_model_module_version": "1.5.0",
            "value": " 1.96M/1.96M [00:00&lt;00:00, 3.39MB/s]",
            "_view_count": null,
            "_view_module_version": "1.5.0",
            "description_tooltip": null,
            "_model_module": "@jupyter-widgets/controls",
            "layout": "IPY_MODEL_71908fa0059441e49e96e6c6aa27b983"
          }
        },
        "b44bde52a56f4469bdd92d221d006724": {
          "model_module": "@jupyter-widgets/controls",
          "model_name": "ProgressStyleModel",
          "state": {
            "_view_name": "StyleView",
            "_model_name": "ProgressStyleModel",
            "description_width": "initial",
            "_view_module": "@jupyter-widgets/base",
            "_model_module_version": "1.5.0",
            "_view_count": null,
            "_view_module_version": "1.2.0",
            "bar_color": null,
            "_model_module": "@jupyter-widgets/controls"
          }
        },
        "5a45c3e6cebe4a25b8a29f0921512ecd": {
          "model_module": "@jupyter-widgets/base",
          "model_name": "LayoutModel",
          "state": {
            "_view_name": "LayoutView",
            "grid_template_rows": null,
            "right": null,
            "justify_content": null,
            "_view_module": "@jupyter-widgets/base",
            "overflow": null,
            "_model_module_version": "1.2.0",
            "_view_count": null,
            "flex_flow": null,
            "width": null,
            "min_width": null,
            "border": null,
            "align_items": null,
            "bottom": null,
            "_model_module": "@jupyter-widgets/base",
            "top": null,
            "grid_column": null,
            "overflow_y": null,
            "overflow_x": null,
            "grid_auto_flow": null,
            "grid_area": null,
            "grid_template_columns": null,
            "flex": null,
            "_model_name": "LayoutModel",
            "justify_items": null,
            "grid_row": null,
            "max_height": null,
            "align_content": null,
            "visibility": null,
            "align_self": null,
            "height": null,
            "min_height": null,
            "padding": null,
            "grid_auto_rows": null,
            "grid_gap": null,
            "max_width": null,
            "order": null,
            "_view_module_version": "1.2.0",
            "grid_template_areas": null,
            "object_position": null,
            "object_fit": null,
            "grid_auto_columns": null,
            "margin": null,
            "display": null,
            "left": null
          }
        },
        "5ab4322eda6e4a61aba5bb311a2a6c57": {
          "model_module": "@jupyter-widgets/controls",
          "model_name": "DescriptionStyleModel",
          "state": {
            "_view_name": "StyleView",
            "_model_name": "DescriptionStyleModel",
            "description_width": "",
            "_view_module": "@jupyter-widgets/base",
            "_model_module_version": "1.5.0",
            "_view_count": null,
            "_view_module_version": "1.2.0",
            "_model_module": "@jupyter-widgets/controls"
          }
        },
        "71908fa0059441e49e96e6c6aa27b983": {
          "model_module": "@jupyter-widgets/base",
          "model_name": "LayoutModel",
          "state": {
            "_view_name": "LayoutView",
            "grid_template_rows": null,
            "right": null,
            "justify_content": null,
            "_view_module": "@jupyter-widgets/base",
            "overflow": null,
            "_model_module_version": "1.2.0",
            "_view_count": null,
            "flex_flow": null,
            "width": null,
            "min_width": null,
            "border": null,
            "align_items": null,
            "bottom": null,
            "_model_module": "@jupyter-widgets/base",
            "top": null,
            "grid_column": null,
            "overflow_y": null,
            "overflow_x": null,
            "grid_auto_flow": null,
            "grid_area": null,
            "grid_template_columns": null,
            "flex": null,
            "_model_name": "LayoutModel",
            "justify_items": null,
            "grid_row": null,
            "max_height": null,
            "align_content": null,
            "visibility": null,
            "align_self": null,
            "height": null,
            "min_height": null,
            "padding": null,
            "grid_auto_rows": null,
            "grid_gap": null,
            "max_width": null,
            "order": null,
            "_view_module_version": "1.2.0",
            "grid_template_areas": null,
            "object_position": null,
            "object_fit": null,
            "grid_auto_columns": null,
            "margin": null,
            "display": null,
            "left": null
          }
        },
        "b806d009691c43439cf689b8f86edf62": {
          "model_module": "@jupyter-widgets/controls",
          "model_name": "HBoxModel",
          "state": {
            "_view_name": "HBoxView",
            "_dom_classes": [],
            "_model_name": "HBoxModel",
            "_view_module": "@jupyter-widgets/controls",
            "_model_module_version": "1.5.0",
            "_view_count": null,
            "_view_module_version": "1.5.0",
            "box_style": "",
            "layout": "IPY_MODEL_a5ed2887625842c6ac94d177dba2516f",
            "_model_module": "@jupyter-widgets/controls",
            "children": [
              "IPY_MODEL_bec84d5fcd0a4ab6924660aad41d027d",
              "IPY_MODEL_1aa5500056264a6c9845948f5a2da9b4"
            ]
          }
        },
        "a5ed2887625842c6ac94d177dba2516f": {
          "model_module": "@jupyter-widgets/base",
          "model_name": "LayoutModel",
          "state": {
            "_view_name": "LayoutView",
            "grid_template_rows": null,
            "right": null,
            "justify_content": null,
            "_view_module": "@jupyter-widgets/base",
            "overflow": null,
            "_model_module_version": "1.2.0",
            "_view_count": null,
            "flex_flow": null,
            "width": null,
            "min_width": null,
            "border": null,
            "align_items": null,
            "bottom": null,
            "_model_module": "@jupyter-widgets/base",
            "top": null,
            "grid_column": null,
            "overflow_y": null,
            "overflow_x": null,
            "grid_auto_flow": null,
            "grid_area": null,
            "grid_template_columns": null,
            "flex": null,
            "_model_name": "LayoutModel",
            "justify_items": null,
            "grid_row": null,
            "max_height": null,
            "align_content": null,
            "visibility": null,
            "align_self": null,
            "height": null,
            "min_height": null,
            "padding": null,
            "grid_auto_rows": null,
            "grid_gap": null,
            "max_width": null,
            "order": null,
            "_view_module_version": "1.2.0",
            "grid_template_areas": null,
            "object_position": null,
            "object_fit": null,
            "grid_auto_columns": null,
            "margin": null,
            "display": null,
            "left": null
          }
        },
        "bec84d5fcd0a4ab6924660aad41d027d": {
          "model_module": "@jupyter-widgets/controls",
          "model_name": "FloatProgressModel",
          "state": {
            "_view_name": "ProgressView",
            "style": "IPY_MODEL_38c6c26233744c2e95a1b5a0728fe49d",
            "_dom_classes": [],
            "description": "Epoch: 100%",
            "_model_name": "FloatProgressModel",
            "bar_style": "success",
            "max": 5,
            "_view_module": "@jupyter-widgets/controls",
            "_model_module_version": "1.5.0",
            "value": 5,
            "_view_count": null,
            "_view_module_version": "1.5.0",
            "orientation": "horizontal",
            "min": 0,
            "description_tooltip": null,
            "_model_module": "@jupyter-widgets/controls",
            "layout": "IPY_MODEL_4880c0b0111a480fb0cfb1a02d79b1f4"
          }
        },
        "1aa5500056264a6c9845948f5a2da9b4": {
          "model_module": "@jupyter-widgets/controls",
          "model_name": "HTMLModel",
          "state": {
            "_view_name": "HTMLView",
            "style": "IPY_MODEL_28b436a4fae74be3a48ff86595df51d1",
            "_dom_classes": [],
            "description": "",
            "_model_name": "HTMLModel",
            "placeholder": "​",
            "_view_module": "@jupyter-widgets/controls",
            "_model_module_version": "1.5.0",
            "value": " 5/5 [20:05&lt;00:00, 241.03s/it]",
            "_view_count": null,
            "_view_module_version": "1.5.0",
            "description_tooltip": null,
            "_model_module": "@jupyter-widgets/controls",
            "layout": "IPY_MODEL_9bd6d0e9afde433ea63c97c273655137"
          }
        },
        "38c6c26233744c2e95a1b5a0728fe49d": {
          "model_module": "@jupyter-widgets/controls",
          "model_name": "ProgressStyleModel",
          "state": {
            "_view_name": "StyleView",
            "_model_name": "ProgressStyleModel",
            "description_width": "initial",
            "_view_module": "@jupyter-widgets/base",
            "_model_module_version": "1.5.0",
            "_view_count": null,
            "_view_module_version": "1.2.0",
            "bar_color": null,
            "_model_module": "@jupyter-widgets/controls"
          }
        },
        "4880c0b0111a480fb0cfb1a02d79b1f4": {
          "model_module": "@jupyter-widgets/base",
          "model_name": "LayoutModel",
          "state": {
            "_view_name": "LayoutView",
            "grid_template_rows": null,
            "right": null,
            "justify_content": null,
            "_view_module": "@jupyter-widgets/base",
            "overflow": null,
            "_model_module_version": "1.2.0",
            "_view_count": null,
            "flex_flow": null,
            "width": null,
            "min_width": null,
            "border": null,
            "align_items": null,
            "bottom": null,
            "_model_module": "@jupyter-widgets/base",
            "top": null,
            "grid_column": null,
            "overflow_y": null,
            "overflow_x": null,
            "grid_auto_flow": null,
            "grid_area": null,
            "grid_template_columns": null,
            "flex": null,
            "_model_name": "LayoutModel",
            "justify_items": null,
            "grid_row": null,
            "max_height": null,
            "align_content": null,
            "visibility": null,
            "align_self": null,
            "height": null,
            "min_height": null,
            "padding": null,
            "grid_auto_rows": null,
            "grid_gap": null,
            "max_width": null,
            "order": null,
            "_view_module_version": "1.2.0",
            "grid_template_areas": null,
            "object_position": null,
            "object_fit": null,
            "grid_auto_columns": null,
            "margin": null,
            "display": null,
            "left": null
          }
        },
        "28b436a4fae74be3a48ff86595df51d1": {
          "model_module": "@jupyter-widgets/controls",
          "model_name": "DescriptionStyleModel",
          "state": {
            "_view_name": "StyleView",
            "_model_name": "DescriptionStyleModel",
            "description_width": "",
            "_view_module": "@jupyter-widgets/base",
            "_model_module_version": "1.5.0",
            "_view_count": null,
            "_view_module_version": "1.2.0",
            "_model_module": "@jupyter-widgets/controls"
          }
        },
        "9bd6d0e9afde433ea63c97c273655137": {
          "model_module": "@jupyter-widgets/base",
          "model_name": "LayoutModel",
          "state": {
            "_view_name": "LayoutView",
            "grid_template_rows": null,
            "right": null,
            "justify_content": null,
            "_view_module": "@jupyter-widgets/base",
            "overflow": null,
            "_model_module_version": "1.2.0",
            "_view_count": null,
            "flex_flow": null,
            "width": null,
            "min_width": null,
            "border": null,
            "align_items": null,
            "bottom": null,
            "_model_module": "@jupyter-widgets/base",
            "top": null,
            "grid_column": null,
            "overflow_y": null,
            "overflow_x": null,
            "grid_auto_flow": null,
            "grid_area": null,
            "grid_template_columns": null,
            "flex": null,
            "_model_name": "LayoutModel",
            "justify_items": null,
            "grid_row": null,
            "max_height": null,
            "align_content": null,
            "visibility": null,
            "align_self": null,
            "height": null,
            "min_height": null,
            "padding": null,
            "grid_auto_rows": null,
            "grid_gap": null,
            "max_width": null,
            "order": null,
            "_view_module_version": "1.2.0",
            "grid_template_areas": null,
            "object_position": null,
            "object_fit": null,
            "grid_auto_columns": null,
            "margin": null,
            "display": null,
            "left": null
          }
        },
        "7268a3c017894034b0e66e58af139fda": {
          "model_module": "@jupyter-widgets/controls",
          "model_name": "HBoxModel",
          "state": {
            "_view_name": "HBoxView",
            "_dom_classes": [],
            "_model_name": "HBoxModel",
            "_view_module": "@jupyter-widgets/controls",
            "_model_module_version": "1.5.0",
            "_view_count": null,
            "_view_module_version": "1.5.0",
            "box_style": "",
            "layout": "IPY_MODEL_ffdf2bc0f17547989feb8738771500fa",
            "_model_module": "@jupyter-widgets/controls",
            "children": [
              "IPY_MODEL_86aaa44e381640f38aba3c175f069104",
              "IPY_MODEL_5e48b16f48cb481fa08a2badbc9c1314"
            ]
          }
        },
        "ffdf2bc0f17547989feb8738771500fa": {
          "model_module": "@jupyter-widgets/base",
          "model_name": "LayoutModel",
          "state": {
            "_view_name": "LayoutView",
            "grid_template_rows": null,
            "right": null,
            "justify_content": null,
            "_view_module": "@jupyter-widgets/base",
            "overflow": null,
            "_model_module_version": "1.2.0",
            "_view_count": null,
            "flex_flow": null,
            "width": null,
            "min_width": null,
            "border": null,
            "align_items": null,
            "bottom": null,
            "_model_module": "@jupyter-widgets/base",
            "top": null,
            "grid_column": null,
            "overflow_y": null,
            "overflow_x": null,
            "grid_auto_flow": null,
            "grid_area": null,
            "grid_template_columns": null,
            "flex": null,
            "_model_name": "LayoutModel",
            "justify_items": null,
            "grid_row": null,
            "max_height": null,
            "align_content": null,
            "visibility": null,
            "align_self": null,
            "height": null,
            "min_height": null,
            "padding": null,
            "grid_auto_rows": null,
            "grid_gap": null,
            "max_width": null,
            "order": null,
            "_view_module_version": "1.2.0",
            "grid_template_areas": null,
            "object_position": null,
            "object_fit": null,
            "grid_auto_columns": null,
            "margin": null,
            "display": null,
            "left": null
          }
        },
        "86aaa44e381640f38aba3c175f069104": {
          "model_module": "@jupyter-widgets/controls",
          "model_name": "FloatProgressModel",
          "state": {
            "_view_name": "ProgressView",
            "style": "IPY_MODEL_4cbbf518cf0f41328ac46247a3c44cae",
            "_dom_classes": [],
            "description": "Iteration: 100%",
            "_model_name": "FloatProgressModel",
            "bar_style": "success",
            "max": 563,
            "_view_module": "@jupyter-widgets/controls",
            "_model_module_version": "1.5.0",
            "value": 563,
            "_view_count": null,
            "_view_module_version": "1.5.0",
            "orientation": "horizontal",
            "min": 0,
            "description_tooltip": null,
            "_model_module": "@jupyter-widgets/controls",
            "layout": "IPY_MODEL_85dd0b87f91346d3831197fabf8d64f6"
          }
        },
        "5e48b16f48cb481fa08a2badbc9c1314": {
          "model_module": "@jupyter-widgets/controls",
          "model_name": "HTMLModel",
          "state": {
            "_view_name": "HTMLView",
            "style": "IPY_MODEL_b8606d277f03442894bcaaa4548d1834",
            "_dom_classes": [],
            "description": "",
            "_model_name": "HTMLModel",
            "placeholder": "​",
            "_view_module": "@jupyter-widgets/controls",
            "_model_module_version": "1.5.0",
            "value": " 563/563 [20:05&lt;00:00,  2.14s/it]",
            "_view_count": null,
            "_view_module_version": "1.5.0",
            "description_tooltip": null,
            "_model_module": "@jupyter-widgets/controls",
            "layout": "IPY_MODEL_2d448d4082124778ab8169279c39f649"
          }
        },
        "4cbbf518cf0f41328ac46247a3c44cae": {
          "model_module": "@jupyter-widgets/controls",
          "model_name": "ProgressStyleModel",
          "state": {
            "_view_name": "StyleView",
            "_model_name": "ProgressStyleModel",
            "description_width": "initial",
            "_view_module": "@jupyter-widgets/base",
            "_model_module_version": "1.5.0",
            "_view_count": null,
            "_view_module_version": "1.2.0",
            "bar_color": null,
            "_model_module": "@jupyter-widgets/controls"
          }
        },
        "85dd0b87f91346d3831197fabf8d64f6": {
          "model_module": "@jupyter-widgets/base",
          "model_name": "LayoutModel",
          "state": {
            "_view_name": "LayoutView",
            "grid_template_rows": null,
            "right": null,
            "justify_content": null,
            "_view_module": "@jupyter-widgets/base",
            "overflow": null,
            "_model_module_version": "1.2.0",
            "_view_count": null,
            "flex_flow": null,
            "width": null,
            "min_width": null,
            "border": null,
            "align_items": null,
            "bottom": null,
            "_model_module": "@jupyter-widgets/base",
            "top": null,
            "grid_column": null,
            "overflow_y": null,
            "overflow_x": null,
            "grid_auto_flow": null,
            "grid_area": null,
            "grid_template_columns": null,
            "flex": null,
            "_model_name": "LayoutModel",
            "justify_items": null,
            "grid_row": null,
            "max_height": null,
            "align_content": null,
            "visibility": null,
            "align_self": null,
            "height": null,
            "min_height": null,
            "padding": null,
            "grid_auto_rows": null,
            "grid_gap": null,
            "max_width": null,
            "order": null,
            "_view_module_version": "1.2.0",
            "grid_template_areas": null,
            "object_position": null,
            "object_fit": null,
            "grid_auto_columns": null,
            "margin": null,
            "display": null,
            "left": null
          }
        },
        "b8606d277f03442894bcaaa4548d1834": {
          "model_module": "@jupyter-widgets/controls",
          "model_name": "DescriptionStyleModel",
          "state": {
            "_view_name": "StyleView",
            "_model_name": "DescriptionStyleModel",
            "description_width": "",
            "_view_module": "@jupyter-widgets/base",
            "_model_module_version": "1.5.0",
            "_view_count": null,
            "_view_module_version": "1.2.0",
            "_model_module": "@jupyter-widgets/controls"
          }
        },
        "2d448d4082124778ab8169279c39f649": {
          "model_module": "@jupyter-widgets/base",
          "model_name": "LayoutModel",
          "state": {
            "_view_name": "LayoutView",
            "grid_template_rows": null,
            "right": null,
            "justify_content": null,
            "_view_module": "@jupyter-widgets/base",
            "overflow": null,
            "_model_module_version": "1.2.0",
            "_view_count": null,
            "flex_flow": null,
            "width": null,
            "min_width": null,
            "border": null,
            "align_items": null,
            "bottom": null,
            "_model_module": "@jupyter-widgets/base",
            "top": null,
            "grid_column": null,
            "overflow_y": null,
            "overflow_x": null,
            "grid_auto_flow": null,
            "grid_area": null,
            "grid_template_columns": null,
            "flex": null,
            "_model_name": "LayoutModel",
            "justify_items": null,
            "grid_row": null,
            "max_height": null,
            "align_content": null,
            "visibility": null,
            "align_self": null,
            "height": null,
            "min_height": null,
            "padding": null,
            "grid_auto_rows": null,
            "grid_gap": null,
            "max_width": null,
            "order": null,
            "_view_module_version": "1.2.0",
            "grid_template_areas": null,
            "object_position": null,
            "object_fit": null,
            "grid_auto_columns": null,
            "margin": null,
            "display": null,
            "left": null
          }
        },
        "1390b0f8656f43e38481a72d443adf09": {
          "model_module": "@jupyter-widgets/controls",
          "model_name": "HBoxModel",
          "state": {
            "_view_name": "HBoxView",
            "_dom_classes": [],
            "_model_name": "HBoxModel",
            "_view_module": "@jupyter-widgets/controls",
            "_model_module_version": "1.5.0",
            "_view_count": null,
            "_view_module_version": "1.5.0",
            "box_style": "",
            "layout": "IPY_MODEL_1519d302a1f742a7b0aa374b77e5d287",
            "_model_module": "@jupyter-widgets/controls",
            "children": [
              "IPY_MODEL_02ab508b31594cfd93013a60707af37d",
              "IPY_MODEL_1c160c8a8b46452c851639cbfb2fb233"
            ]
          }
        },
        "1519d302a1f742a7b0aa374b77e5d287": {
          "model_module": "@jupyter-widgets/base",
          "model_name": "LayoutModel",
          "state": {
            "_view_name": "LayoutView",
            "grid_template_rows": null,
            "right": null,
            "justify_content": null,
            "_view_module": "@jupyter-widgets/base",
            "overflow": null,
            "_model_module_version": "1.2.0",
            "_view_count": null,
            "flex_flow": null,
            "width": null,
            "min_width": null,
            "border": null,
            "align_items": null,
            "bottom": null,
            "_model_module": "@jupyter-widgets/base",
            "top": null,
            "grid_column": null,
            "overflow_y": null,
            "overflow_x": null,
            "grid_auto_flow": null,
            "grid_area": null,
            "grid_template_columns": null,
            "flex": null,
            "_model_name": "LayoutModel",
            "justify_items": null,
            "grid_row": null,
            "max_height": null,
            "align_content": null,
            "visibility": null,
            "align_self": null,
            "height": null,
            "min_height": null,
            "padding": null,
            "grid_auto_rows": null,
            "grid_gap": null,
            "max_width": null,
            "order": null,
            "_view_module_version": "1.2.0",
            "grid_template_areas": null,
            "object_position": null,
            "object_fit": null,
            "grid_auto_columns": null,
            "margin": null,
            "display": null,
            "left": null
          }
        },
        "02ab508b31594cfd93013a60707af37d": {
          "model_module": "@jupyter-widgets/controls",
          "model_name": "FloatProgressModel",
          "state": {
            "_view_name": "ProgressView",
            "style": "IPY_MODEL_7c547b3dac544261899ecc9b2660ff18",
            "_dom_classes": [],
            "description": "Iteration: 100%",
            "_model_name": "FloatProgressModel",
            "bar_style": "success",
            "max": 563,
            "_view_module": "@jupyter-widgets/controls",
            "_model_module_version": "1.5.0",
            "value": 563,
            "_view_count": null,
            "_view_module_version": "1.5.0",
            "orientation": "horizontal",
            "min": 0,
            "description_tooltip": null,
            "_model_module": "@jupyter-widgets/controls",
            "layout": "IPY_MODEL_62709012f27f4d8891d3d46381bd414a"
          }
        },
        "1c160c8a8b46452c851639cbfb2fb233": {
          "model_module": "@jupyter-widgets/controls",
          "model_name": "HTMLModel",
          "state": {
            "_view_name": "HTMLView",
            "style": "IPY_MODEL_1d31aa626bf541cd94fdbd3bd3b49f08",
            "_dom_classes": [],
            "description": "",
            "_model_name": "HTMLModel",
            "placeholder": "​",
            "_view_module": "@jupyter-widgets/controls",
            "_model_module_version": "1.5.0",
            "value": " 563/563 [17:17&lt;00:00,  1.84s/it]",
            "_view_count": null,
            "_view_module_version": "1.5.0",
            "description_tooltip": null,
            "_model_module": "@jupyter-widgets/controls",
            "layout": "IPY_MODEL_bd93a5df1e0340e985a0e2e478226bdc"
          }
        },
        "7c547b3dac544261899ecc9b2660ff18": {
          "model_module": "@jupyter-widgets/controls",
          "model_name": "ProgressStyleModel",
          "state": {
            "_view_name": "StyleView",
            "_model_name": "ProgressStyleModel",
            "description_width": "initial",
            "_view_module": "@jupyter-widgets/base",
            "_model_module_version": "1.5.0",
            "_view_count": null,
            "_view_module_version": "1.2.0",
            "bar_color": null,
            "_model_module": "@jupyter-widgets/controls"
          }
        },
        "62709012f27f4d8891d3d46381bd414a": {
          "model_module": "@jupyter-widgets/base",
          "model_name": "LayoutModel",
          "state": {
            "_view_name": "LayoutView",
            "grid_template_rows": null,
            "right": null,
            "justify_content": null,
            "_view_module": "@jupyter-widgets/base",
            "overflow": null,
            "_model_module_version": "1.2.0",
            "_view_count": null,
            "flex_flow": null,
            "width": null,
            "min_width": null,
            "border": null,
            "align_items": null,
            "bottom": null,
            "_model_module": "@jupyter-widgets/base",
            "top": null,
            "grid_column": null,
            "overflow_y": null,
            "overflow_x": null,
            "grid_auto_flow": null,
            "grid_area": null,
            "grid_template_columns": null,
            "flex": null,
            "_model_name": "LayoutModel",
            "justify_items": null,
            "grid_row": null,
            "max_height": null,
            "align_content": null,
            "visibility": null,
            "align_self": null,
            "height": null,
            "min_height": null,
            "padding": null,
            "grid_auto_rows": null,
            "grid_gap": null,
            "max_width": null,
            "order": null,
            "_view_module_version": "1.2.0",
            "grid_template_areas": null,
            "object_position": null,
            "object_fit": null,
            "grid_auto_columns": null,
            "margin": null,
            "display": null,
            "left": null
          }
        },
        "1d31aa626bf541cd94fdbd3bd3b49f08": {
          "model_module": "@jupyter-widgets/controls",
          "model_name": "DescriptionStyleModel",
          "state": {
            "_view_name": "StyleView",
            "_model_name": "DescriptionStyleModel",
            "description_width": "",
            "_view_module": "@jupyter-widgets/base",
            "_model_module_version": "1.5.0",
            "_view_count": null,
            "_view_module_version": "1.2.0",
            "_model_module": "@jupyter-widgets/controls"
          }
        },
        "bd93a5df1e0340e985a0e2e478226bdc": {
          "model_module": "@jupyter-widgets/base",
          "model_name": "LayoutModel",
          "state": {
            "_view_name": "LayoutView",
            "grid_template_rows": null,
            "right": null,
            "justify_content": null,
            "_view_module": "@jupyter-widgets/base",
            "overflow": null,
            "_model_module_version": "1.2.0",
            "_view_count": null,
            "flex_flow": null,
            "width": null,
            "min_width": null,
            "border": null,
            "align_items": null,
            "bottom": null,
            "_model_module": "@jupyter-widgets/base",
            "top": null,
            "grid_column": null,
            "overflow_y": null,
            "overflow_x": null,
            "grid_auto_flow": null,
            "grid_area": null,
            "grid_template_columns": null,
            "flex": null,
            "_model_name": "LayoutModel",
            "justify_items": null,
            "grid_row": null,
            "max_height": null,
            "align_content": null,
            "visibility": null,
            "align_self": null,
            "height": null,
            "min_height": null,
            "padding": null,
            "grid_auto_rows": null,
            "grid_gap": null,
            "max_width": null,
            "order": null,
            "_view_module_version": "1.2.0",
            "grid_template_areas": null,
            "object_position": null,
            "object_fit": null,
            "grid_auto_columns": null,
            "margin": null,
            "display": null,
            "left": null
          }
        },
        "7f1c6cced7cb4feb81faa641cd2be146": {
          "model_module": "@jupyter-widgets/controls",
          "model_name": "HBoxModel",
          "state": {
            "_view_name": "HBoxView",
            "_dom_classes": [],
            "_model_name": "HBoxModel",
            "_view_module": "@jupyter-widgets/controls",
            "_model_module_version": "1.5.0",
            "_view_count": null,
            "_view_module_version": "1.5.0",
            "box_style": "",
            "layout": "IPY_MODEL_f473e1488e2e4e9abdfed9cccd2ca8dc",
            "_model_module": "@jupyter-widgets/controls",
            "children": [
              "IPY_MODEL_99feb15fbf374be7bb34c440574fc85e",
              "IPY_MODEL_8d50d5cd57b54202bcdd9cc063107a1a"
            ]
          }
        },
        "f473e1488e2e4e9abdfed9cccd2ca8dc": {
          "model_module": "@jupyter-widgets/base",
          "model_name": "LayoutModel",
          "state": {
            "_view_name": "LayoutView",
            "grid_template_rows": null,
            "right": null,
            "justify_content": null,
            "_view_module": "@jupyter-widgets/base",
            "overflow": null,
            "_model_module_version": "1.2.0",
            "_view_count": null,
            "flex_flow": null,
            "width": null,
            "min_width": null,
            "border": null,
            "align_items": null,
            "bottom": null,
            "_model_module": "@jupyter-widgets/base",
            "top": null,
            "grid_column": null,
            "overflow_y": null,
            "overflow_x": null,
            "grid_auto_flow": null,
            "grid_area": null,
            "grid_template_columns": null,
            "flex": null,
            "_model_name": "LayoutModel",
            "justify_items": null,
            "grid_row": null,
            "max_height": null,
            "align_content": null,
            "visibility": null,
            "align_self": null,
            "height": null,
            "min_height": null,
            "padding": null,
            "grid_auto_rows": null,
            "grid_gap": null,
            "max_width": null,
            "order": null,
            "_view_module_version": "1.2.0",
            "grid_template_areas": null,
            "object_position": null,
            "object_fit": null,
            "grid_auto_columns": null,
            "margin": null,
            "display": null,
            "left": null
          }
        },
        "99feb15fbf374be7bb34c440574fc85e": {
          "model_module": "@jupyter-widgets/controls",
          "model_name": "FloatProgressModel",
          "state": {
            "_view_name": "ProgressView",
            "style": "IPY_MODEL_6da1d74ba4d249cc838a922b5e451af8",
            "_dom_classes": [],
            "description": "Iteration: 100%",
            "_model_name": "FloatProgressModel",
            "bar_style": "success",
            "max": 563,
            "_view_module": "@jupyter-widgets/controls",
            "_model_module_version": "1.5.0",
            "value": 563,
            "_view_count": null,
            "_view_module_version": "1.5.0",
            "orientation": "horizontal",
            "min": 0,
            "description_tooltip": null,
            "_model_module": "@jupyter-widgets/controls",
            "layout": "IPY_MODEL_17008476612447a0881d57b6bf75703f"
          }
        },
        "8d50d5cd57b54202bcdd9cc063107a1a": {
          "model_module": "@jupyter-widgets/controls",
          "model_name": "HTMLModel",
          "state": {
            "_view_name": "HTMLView",
            "style": "IPY_MODEL_b1e1812e7059458d83efe922d5b150c1",
            "_dom_classes": [],
            "description": "",
            "_model_name": "HTMLModel",
            "placeholder": "​",
            "_view_module": "@jupyter-widgets/controls",
            "_model_module_version": "1.5.0",
            "value": " 563/563 [14:32&lt;00:00,  1.55s/it]",
            "_view_count": null,
            "_view_module_version": "1.5.0",
            "description_tooltip": null,
            "_model_module": "@jupyter-widgets/controls",
            "layout": "IPY_MODEL_a705aea9a57d4a1a8b7d5eb28ff5307a"
          }
        },
        "6da1d74ba4d249cc838a922b5e451af8": {
          "model_module": "@jupyter-widgets/controls",
          "model_name": "ProgressStyleModel",
          "state": {
            "_view_name": "StyleView",
            "_model_name": "ProgressStyleModel",
            "description_width": "initial",
            "_view_module": "@jupyter-widgets/base",
            "_model_module_version": "1.5.0",
            "_view_count": null,
            "_view_module_version": "1.2.0",
            "bar_color": null,
            "_model_module": "@jupyter-widgets/controls"
          }
        },
        "17008476612447a0881d57b6bf75703f": {
          "model_module": "@jupyter-widgets/base",
          "model_name": "LayoutModel",
          "state": {
            "_view_name": "LayoutView",
            "grid_template_rows": null,
            "right": null,
            "justify_content": null,
            "_view_module": "@jupyter-widgets/base",
            "overflow": null,
            "_model_module_version": "1.2.0",
            "_view_count": null,
            "flex_flow": null,
            "width": null,
            "min_width": null,
            "border": null,
            "align_items": null,
            "bottom": null,
            "_model_module": "@jupyter-widgets/base",
            "top": null,
            "grid_column": null,
            "overflow_y": null,
            "overflow_x": null,
            "grid_auto_flow": null,
            "grid_area": null,
            "grid_template_columns": null,
            "flex": null,
            "_model_name": "LayoutModel",
            "justify_items": null,
            "grid_row": null,
            "max_height": null,
            "align_content": null,
            "visibility": null,
            "align_self": null,
            "height": null,
            "min_height": null,
            "padding": null,
            "grid_auto_rows": null,
            "grid_gap": null,
            "max_width": null,
            "order": null,
            "_view_module_version": "1.2.0",
            "grid_template_areas": null,
            "object_position": null,
            "object_fit": null,
            "grid_auto_columns": null,
            "margin": null,
            "display": null,
            "left": null
          }
        },
        "b1e1812e7059458d83efe922d5b150c1": {
          "model_module": "@jupyter-widgets/controls",
          "model_name": "DescriptionStyleModel",
          "state": {
            "_view_name": "StyleView",
            "_model_name": "DescriptionStyleModel",
            "description_width": "",
            "_view_module": "@jupyter-widgets/base",
            "_model_module_version": "1.5.0",
            "_view_count": null,
            "_view_module_version": "1.2.0",
            "_model_module": "@jupyter-widgets/controls"
          }
        },
        "a705aea9a57d4a1a8b7d5eb28ff5307a": {
          "model_module": "@jupyter-widgets/base",
          "model_name": "LayoutModel",
          "state": {
            "_view_name": "LayoutView",
            "grid_template_rows": null,
            "right": null,
            "justify_content": null,
            "_view_module": "@jupyter-widgets/base",
            "overflow": null,
            "_model_module_version": "1.2.0",
            "_view_count": null,
            "flex_flow": null,
            "width": null,
            "min_width": null,
            "border": null,
            "align_items": null,
            "bottom": null,
            "_model_module": "@jupyter-widgets/base",
            "top": null,
            "grid_column": null,
            "overflow_y": null,
            "overflow_x": null,
            "grid_auto_flow": null,
            "grid_area": null,
            "grid_template_columns": null,
            "flex": null,
            "_model_name": "LayoutModel",
            "justify_items": null,
            "grid_row": null,
            "max_height": null,
            "align_content": null,
            "visibility": null,
            "align_self": null,
            "height": null,
            "min_height": null,
            "padding": null,
            "grid_auto_rows": null,
            "grid_gap": null,
            "max_width": null,
            "order": null,
            "_view_module_version": "1.2.0",
            "grid_template_areas": null,
            "object_position": null,
            "object_fit": null,
            "grid_auto_columns": null,
            "margin": null,
            "display": null,
            "left": null
          }
        },
        "85460c589b0f4ef880bd7294b69162e7": {
          "model_module": "@jupyter-widgets/controls",
          "model_name": "HBoxModel",
          "state": {
            "_view_name": "HBoxView",
            "_dom_classes": [],
            "_model_name": "HBoxModel",
            "_view_module": "@jupyter-widgets/controls",
            "_model_module_version": "1.5.0",
            "_view_count": null,
            "_view_module_version": "1.5.0",
            "box_style": "",
            "layout": "IPY_MODEL_84ca2c74f7c64e6c8a47d4a767f9c4d8",
            "_model_module": "@jupyter-widgets/controls",
            "children": [
              "IPY_MODEL_2719ccdc58104ea888351eabc2471f88",
              "IPY_MODEL_da3eadd3012a4dfe9e0b4bfdf3bb5b95"
            ]
          }
        },
        "84ca2c74f7c64e6c8a47d4a767f9c4d8": {
          "model_module": "@jupyter-widgets/base",
          "model_name": "LayoutModel",
          "state": {
            "_view_name": "LayoutView",
            "grid_template_rows": null,
            "right": null,
            "justify_content": null,
            "_view_module": "@jupyter-widgets/base",
            "overflow": null,
            "_model_module_version": "1.2.0",
            "_view_count": null,
            "flex_flow": null,
            "width": null,
            "min_width": null,
            "border": null,
            "align_items": null,
            "bottom": null,
            "_model_module": "@jupyter-widgets/base",
            "top": null,
            "grid_column": null,
            "overflow_y": null,
            "overflow_x": null,
            "grid_auto_flow": null,
            "grid_area": null,
            "grid_template_columns": null,
            "flex": null,
            "_model_name": "LayoutModel",
            "justify_items": null,
            "grid_row": null,
            "max_height": null,
            "align_content": null,
            "visibility": null,
            "align_self": null,
            "height": null,
            "min_height": null,
            "padding": null,
            "grid_auto_rows": null,
            "grid_gap": null,
            "max_width": null,
            "order": null,
            "_view_module_version": "1.2.0",
            "grid_template_areas": null,
            "object_position": null,
            "object_fit": null,
            "grid_auto_columns": null,
            "margin": null,
            "display": null,
            "left": null
          }
        },
        "2719ccdc58104ea888351eabc2471f88": {
          "model_module": "@jupyter-widgets/controls",
          "model_name": "FloatProgressModel",
          "state": {
            "_view_name": "ProgressView",
            "style": "IPY_MODEL_b026f955ecce4eb38021b7e4fbfd4df1",
            "_dom_classes": [],
            "description": "Iteration: 100%",
            "_model_name": "FloatProgressModel",
            "bar_style": "success",
            "max": 563,
            "_view_module": "@jupyter-widgets/controls",
            "_model_module_version": "1.5.0",
            "value": 563,
            "_view_count": null,
            "_view_module_version": "1.5.0",
            "orientation": "horizontal",
            "min": 0,
            "description_tooltip": null,
            "_model_module": "@jupyter-widgets/controls",
            "layout": "IPY_MODEL_0f6af941a1e64a7da18016e6f63eb1da"
          }
        },
        "da3eadd3012a4dfe9e0b4bfdf3bb5b95": {
          "model_module": "@jupyter-widgets/controls",
          "model_name": "HTMLModel",
          "state": {
            "_view_name": "HTMLView",
            "style": "IPY_MODEL_a75779f86ea54f33b8b08928fefa0890",
            "_dom_classes": [],
            "description": "",
            "_model_name": "HTMLModel",
            "placeholder": "​",
            "_view_module": "@jupyter-widgets/controls",
            "_model_module_version": "1.5.0",
            "value": " 563/563 [11:51&lt;00:00,  1.26s/it]",
            "_view_count": null,
            "_view_module_version": "1.5.0",
            "description_tooltip": null,
            "_model_module": "@jupyter-widgets/controls",
            "layout": "IPY_MODEL_75f110873cc14392a075909169d666e8"
          }
        },
        "b026f955ecce4eb38021b7e4fbfd4df1": {
          "model_module": "@jupyter-widgets/controls",
          "model_name": "ProgressStyleModel",
          "state": {
            "_view_name": "StyleView",
            "_model_name": "ProgressStyleModel",
            "description_width": "initial",
            "_view_module": "@jupyter-widgets/base",
            "_model_module_version": "1.5.0",
            "_view_count": null,
            "_view_module_version": "1.2.0",
            "bar_color": null,
            "_model_module": "@jupyter-widgets/controls"
          }
        },
        "0f6af941a1e64a7da18016e6f63eb1da": {
          "model_module": "@jupyter-widgets/base",
          "model_name": "LayoutModel",
          "state": {
            "_view_name": "LayoutView",
            "grid_template_rows": null,
            "right": null,
            "justify_content": null,
            "_view_module": "@jupyter-widgets/base",
            "overflow": null,
            "_model_module_version": "1.2.0",
            "_view_count": null,
            "flex_flow": null,
            "width": null,
            "min_width": null,
            "border": null,
            "align_items": null,
            "bottom": null,
            "_model_module": "@jupyter-widgets/base",
            "top": null,
            "grid_column": null,
            "overflow_y": null,
            "overflow_x": null,
            "grid_auto_flow": null,
            "grid_area": null,
            "grid_template_columns": null,
            "flex": null,
            "_model_name": "LayoutModel",
            "justify_items": null,
            "grid_row": null,
            "max_height": null,
            "align_content": null,
            "visibility": null,
            "align_self": null,
            "height": null,
            "min_height": null,
            "padding": null,
            "grid_auto_rows": null,
            "grid_gap": null,
            "max_width": null,
            "order": null,
            "_view_module_version": "1.2.0",
            "grid_template_areas": null,
            "object_position": null,
            "object_fit": null,
            "grid_auto_columns": null,
            "margin": null,
            "display": null,
            "left": null
          }
        },
        "a75779f86ea54f33b8b08928fefa0890": {
          "model_module": "@jupyter-widgets/controls",
          "model_name": "DescriptionStyleModel",
          "state": {
            "_view_name": "StyleView",
            "_model_name": "DescriptionStyleModel",
            "description_width": "",
            "_view_module": "@jupyter-widgets/base",
            "_model_module_version": "1.5.0",
            "_view_count": null,
            "_view_module_version": "1.2.0",
            "_model_module": "@jupyter-widgets/controls"
          }
        },
        "75f110873cc14392a075909169d666e8": {
          "model_module": "@jupyter-widgets/base",
          "model_name": "LayoutModel",
          "state": {
            "_view_name": "LayoutView",
            "grid_template_rows": null,
            "right": null,
            "justify_content": null,
            "_view_module": "@jupyter-widgets/base",
            "overflow": null,
            "_model_module_version": "1.2.0",
            "_view_count": null,
            "flex_flow": null,
            "width": null,
            "min_width": null,
            "border": null,
            "align_items": null,
            "bottom": null,
            "_model_module": "@jupyter-widgets/base",
            "top": null,
            "grid_column": null,
            "overflow_y": null,
            "overflow_x": null,
            "grid_auto_flow": null,
            "grid_area": null,
            "grid_template_columns": null,
            "flex": null,
            "_model_name": "LayoutModel",
            "justify_items": null,
            "grid_row": null,
            "max_height": null,
            "align_content": null,
            "visibility": null,
            "align_self": null,
            "height": null,
            "min_height": null,
            "padding": null,
            "grid_auto_rows": null,
            "grid_gap": null,
            "max_width": null,
            "order": null,
            "_view_module_version": "1.2.0",
            "grid_template_areas": null,
            "object_position": null,
            "object_fit": null,
            "grid_auto_columns": null,
            "margin": null,
            "display": null,
            "left": null
          }
        },
        "754cf61c8a8649d8ab40e4445aee354a": {
          "model_module": "@jupyter-widgets/controls",
          "model_name": "HBoxModel",
          "state": {
            "_view_name": "HBoxView",
            "_dom_classes": [],
            "_model_name": "HBoxModel",
            "_view_module": "@jupyter-widgets/controls",
            "_model_module_version": "1.5.0",
            "_view_count": null,
            "_view_module_version": "1.5.0",
            "box_style": "",
            "layout": "IPY_MODEL_51665e59bfda43df822644961d2cd39e",
            "_model_module": "@jupyter-widgets/controls",
            "children": [
              "IPY_MODEL_fb85a7f25dee4ee0bf8f5e02e3bb3076",
              "IPY_MODEL_df17f13204124671b87e0003a123f20c"
            ]
          }
        },
        "51665e59bfda43df822644961d2cd39e": {
          "model_module": "@jupyter-widgets/base",
          "model_name": "LayoutModel",
          "state": {
            "_view_name": "LayoutView",
            "grid_template_rows": null,
            "right": null,
            "justify_content": null,
            "_view_module": "@jupyter-widgets/base",
            "overflow": null,
            "_model_module_version": "1.2.0",
            "_view_count": null,
            "flex_flow": null,
            "width": null,
            "min_width": null,
            "border": null,
            "align_items": null,
            "bottom": null,
            "_model_module": "@jupyter-widgets/base",
            "top": null,
            "grid_column": null,
            "overflow_y": null,
            "overflow_x": null,
            "grid_auto_flow": null,
            "grid_area": null,
            "grid_template_columns": null,
            "flex": null,
            "_model_name": "LayoutModel",
            "justify_items": null,
            "grid_row": null,
            "max_height": null,
            "align_content": null,
            "visibility": null,
            "align_self": null,
            "height": null,
            "min_height": null,
            "padding": null,
            "grid_auto_rows": null,
            "grid_gap": null,
            "max_width": null,
            "order": null,
            "_view_module_version": "1.2.0",
            "grid_template_areas": null,
            "object_position": null,
            "object_fit": null,
            "grid_auto_columns": null,
            "margin": null,
            "display": null,
            "left": null
          }
        },
        "fb85a7f25dee4ee0bf8f5e02e3bb3076": {
          "model_module": "@jupyter-widgets/controls",
          "model_name": "FloatProgressModel",
          "state": {
            "_view_name": "ProgressView",
            "style": "IPY_MODEL_5702082ed041485abef2597b7b4f606e",
            "_dom_classes": [],
            "description": "Iteration: 100%",
            "_model_name": "FloatProgressModel",
            "bar_style": "success",
            "max": 563,
            "_view_module": "@jupyter-widgets/controls",
            "_model_module_version": "1.5.0",
            "value": 563,
            "_view_count": null,
            "_view_module_version": "1.5.0",
            "orientation": "horizontal",
            "min": 0,
            "description_tooltip": null,
            "_model_module": "@jupyter-widgets/controls",
            "layout": "IPY_MODEL_6d102e7a51524983ac8e22d17357b14b"
          }
        },
        "df17f13204124671b87e0003a123f20c": {
          "model_module": "@jupyter-widgets/controls",
          "model_name": "HTMLModel",
          "state": {
            "_view_name": "HTMLView",
            "style": "IPY_MODEL_5e424bc688214a2da8e9f1b8faa0963a",
            "_dom_classes": [],
            "description": "",
            "_model_name": "HTMLModel",
            "placeholder": "​",
            "_view_module": "@jupyter-widgets/controls",
            "_model_module_version": "1.5.0",
            "value": " 563/563 [09:09&lt;00:00,  1.02it/s]",
            "_view_count": null,
            "_view_module_version": "1.5.0",
            "description_tooltip": null,
            "_model_module": "@jupyter-widgets/controls",
            "layout": "IPY_MODEL_da9d4412e2974ae48d8ce820e4601207"
          }
        },
        "5702082ed041485abef2597b7b4f606e": {
          "model_module": "@jupyter-widgets/controls",
          "model_name": "ProgressStyleModel",
          "state": {
            "_view_name": "StyleView",
            "_model_name": "ProgressStyleModel",
            "description_width": "initial",
            "_view_module": "@jupyter-widgets/base",
            "_model_module_version": "1.5.0",
            "_view_count": null,
            "_view_module_version": "1.2.0",
            "bar_color": null,
            "_model_module": "@jupyter-widgets/controls"
          }
        },
        "6d102e7a51524983ac8e22d17357b14b": {
          "model_module": "@jupyter-widgets/base",
          "model_name": "LayoutModel",
          "state": {
            "_view_name": "LayoutView",
            "grid_template_rows": null,
            "right": null,
            "justify_content": null,
            "_view_module": "@jupyter-widgets/base",
            "overflow": null,
            "_model_module_version": "1.2.0",
            "_view_count": null,
            "flex_flow": null,
            "width": null,
            "min_width": null,
            "border": null,
            "align_items": null,
            "bottom": null,
            "_model_module": "@jupyter-widgets/base",
            "top": null,
            "grid_column": null,
            "overflow_y": null,
            "overflow_x": null,
            "grid_auto_flow": null,
            "grid_area": null,
            "grid_template_columns": null,
            "flex": null,
            "_model_name": "LayoutModel",
            "justify_items": null,
            "grid_row": null,
            "max_height": null,
            "align_content": null,
            "visibility": null,
            "align_self": null,
            "height": null,
            "min_height": null,
            "padding": null,
            "grid_auto_rows": null,
            "grid_gap": null,
            "max_width": null,
            "order": null,
            "_view_module_version": "1.2.0",
            "grid_template_areas": null,
            "object_position": null,
            "object_fit": null,
            "grid_auto_columns": null,
            "margin": null,
            "display": null,
            "left": null
          }
        },
        "5e424bc688214a2da8e9f1b8faa0963a": {
          "model_module": "@jupyter-widgets/controls",
          "model_name": "DescriptionStyleModel",
          "state": {
            "_view_name": "StyleView",
            "_model_name": "DescriptionStyleModel",
            "description_width": "",
            "_view_module": "@jupyter-widgets/base",
            "_model_module_version": "1.5.0",
            "_view_count": null,
            "_view_module_version": "1.2.0",
            "_model_module": "@jupyter-widgets/controls"
          }
        },
        "da9d4412e2974ae48d8ce820e4601207": {
          "model_module": "@jupyter-widgets/base",
          "model_name": "LayoutModel",
          "state": {
            "_view_name": "LayoutView",
            "grid_template_rows": null,
            "right": null,
            "justify_content": null,
            "_view_module": "@jupyter-widgets/base",
            "overflow": null,
            "_model_module_version": "1.2.0",
            "_view_count": null,
            "flex_flow": null,
            "width": null,
            "min_width": null,
            "border": null,
            "align_items": null,
            "bottom": null,
            "_model_module": "@jupyter-widgets/base",
            "top": null,
            "grid_column": null,
            "overflow_y": null,
            "overflow_x": null,
            "grid_auto_flow": null,
            "grid_area": null,
            "grid_template_columns": null,
            "flex": null,
            "_model_name": "LayoutModel",
            "justify_items": null,
            "grid_row": null,
            "max_height": null,
            "align_content": null,
            "visibility": null,
            "align_self": null,
            "height": null,
            "min_height": null,
            "padding": null,
            "grid_auto_rows": null,
            "grid_gap": null,
            "max_width": null,
            "order": null,
            "_view_module_version": "1.2.0",
            "grid_template_areas": null,
            "object_position": null,
            "object_fit": null,
            "grid_auto_columns": null,
            "margin": null,
            "display": null,
            "left": null
          }
        },
        "4577f1e25a5045fb93db51ac914c389f": {
          "model_module": "@jupyter-widgets/controls",
          "model_name": "HBoxModel",
          "state": {
            "_view_name": "HBoxView",
            "_dom_classes": [],
            "_model_name": "HBoxModel",
            "_view_module": "@jupyter-widgets/controls",
            "_model_module_version": "1.5.0",
            "_view_count": null,
            "_view_module_version": "1.5.0",
            "box_style": "",
            "layout": "IPY_MODEL_fc3d8d534d9a4279bc38e05525bec610",
            "_model_module": "@jupyter-widgets/controls",
            "children": [
              "IPY_MODEL_7dc3dd6067ab4ffa9d94075d5d898b2c",
              "IPY_MODEL_c9a35ebff4814906b564366acc41b3f8"
            ]
          }
        },
        "fc3d8d534d9a4279bc38e05525bec610": {
          "model_module": "@jupyter-widgets/base",
          "model_name": "LayoutModel",
          "state": {
            "_view_name": "LayoutView",
            "grid_template_rows": null,
            "right": null,
            "justify_content": null,
            "_view_module": "@jupyter-widgets/base",
            "overflow": null,
            "_model_module_version": "1.2.0",
            "_view_count": null,
            "flex_flow": null,
            "width": null,
            "min_width": null,
            "border": null,
            "align_items": null,
            "bottom": null,
            "_model_module": "@jupyter-widgets/base",
            "top": null,
            "grid_column": null,
            "overflow_y": null,
            "overflow_x": null,
            "grid_auto_flow": null,
            "grid_area": null,
            "grid_template_columns": null,
            "flex": null,
            "_model_name": "LayoutModel",
            "justify_items": null,
            "grid_row": null,
            "max_height": null,
            "align_content": null,
            "visibility": null,
            "align_self": null,
            "height": null,
            "min_height": null,
            "padding": null,
            "grid_auto_rows": null,
            "grid_gap": null,
            "max_width": null,
            "order": null,
            "_view_module_version": "1.2.0",
            "grid_template_areas": null,
            "object_position": null,
            "object_fit": null,
            "grid_auto_columns": null,
            "margin": null,
            "display": null,
            "left": null
          }
        },
        "7dc3dd6067ab4ffa9d94075d5d898b2c": {
          "model_module": "@jupyter-widgets/controls",
          "model_name": "FloatProgressModel",
          "state": {
            "_view_name": "ProgressView",
            "style": "IPY_MODEL_08b76c60c33648fbbc51d3bb6ee43270",
            "_dom_classes": [],
            "description": "Batches: 100%",
            "_model_name": "FloatProgressModel",
            "bar_style": "success",
            "max": 151,
            "_view_module": "@jupyter-widgets/controls",
            "_model_module_version": "1.5.0",
            "value": 151,
            "_view_count": null,
            "_view_module_version": "1.5.0",
            "orientation": "horizontal",
            "min": 0,
            "description_tooltip": null,
            "_model_module": "@jupyter-widgets/controls",
            "layout": "IPY_MODEL_d49a3d6e5e8d42239840750ec204a758"
          }
        },
        "c9a35ebff4814906b564366acc41b3f8": {
          "model_module": "@jupyter-widgets/controls",
          "model_name": "HTMLModel",
          "state": {
            "_view_name": "HTMLView",
            "style": "IPY_MODEL_cbc148d4250a492faeba5d0ac4fadc61",
            "_dom_classes": [],
            "description": "",
            "_model_name": "HTMLModel",
            "placeholder": "​",
            "_view_module": "@jupyter-widgets/controls",
            "_model_module_version": "1.5.0",
            "value": " 151/151 [00:53&lt;00:00,  2.84it/s]",
            "_view_count": null,
            "_view_module_version": "1.5.0",
            "description_tooltip": null,
            "_model_module": "@jupyter-widgets/controls",
            "layout": "IPY_MODEL_15f1f7e6a93d4f53b610adc569070b05"
          }
        },
        "08b76c60c33648fbbc51d3bb6ee43270": {
          "model_module": "@jupyter-widgets/controls",
          "model_name": "ProgressStyleModel",
          "state": {
            "_view_name": "StyleView",
            "_model_name": "ProgressStyleModel",
            "description_width": "initial",
            "_view_module": "@jupyter-widgets/base",
            "_model_module_version": "1.5.0",
            "_view_count": null,
            "_view_module_version": "1.2.0",
            "bar_color": null,
            "_model_module": "@jupyter-widgets/controls"
          }
        },
        "d49a3d6e5e8d42239840750ec204a758": {
          "model_module": "@jupyter-widgets/base",
          "model_name": "LayoutModel",
          "state": {
            "_view_name": "LayoutView",
            "grid_template_rows": null,
            "right": null,
            "justify_content": null,
            "_view_module": "@jupyter-widgets/base",
            "overflow": null,
            "_model_module_version": "1.2.0",
            "_view_count": null,
            "flex_flow": null,
            "width": null,
            "min_width": null,
            "border": null,
            "align_items": null,
            "bottom": null,
            "_model_module": "@jupyter-widgets/base",
            "top": null,
            "grid_column": null,
            "overflow_y": null,
            "overflow_x": null,
            "grid_auto_flow": null,
            "grid_area": null,
            "grid_template_columns": null,
            "flex": null,
            "_model_name": "LayoutModel",
            "justify_items": null,
            "grid_row": null,
            "max_height": null,
            "align_content": null,
            "visibility": null,
            "align_self": null,
            "height": null,
            "min_height": null,
            "padding": null,
            "grid_auto_rows": null,
            "grid_gap": null,
            "max_width": null,
            "order": null,
            "_view_module_version": "1.2.0",
            "grid_template_areas": null,
            "object_position": null,
            "object_fit": null,
            "grid_auto_columns": null,
            "margin": null,
            "display": null,
            "left": null
          }
        },
        "cbc148d4250a492faeba5d0ac4fadc61": {
          "model_module": "@jupyter-widgets/controls",
          "model_name": "DescriptionStyleModel",
          "state": {
            "_view_name": "StyleView",
            "_model_name": "DescriptionStyleModel",
            "description_width": "",
            "_view_module": "@jupyter-widgets/base",
            "_model_module_version": "1.5.0",
            "_view_count": null,
            "_view_module_version": "1.2.0",
            "_model_module": "@jupyter-widgets/controls"
          }
        },
        "15f1f7e6a93d4f53b610adc569070b05": {
          "model_module": "@jupyter-widgets/base",
          "model_name": "LayoutModel",
          "state": {
            "_view_name": "LayoutView",
            "grid_template_rows": null,
            "right": null,
            "justify_content": null,
            "_view_module": "@jupyter-widgets/base",
            "overflow": null,
            "_model_module_version": "1.2.0",
            "_view_count": null,
            "flex_flow": null,
            "width": null,
            "min_width": null,
            "border": null,
            "align_items": null,
            "bottom": null,
            "_model_module": "@jupyter-widgets/base",
            "top": null,
            "grid_column": null,
            "overflow_y": null,
            "overflow_x": null,
            "grid_auto_flow": null,
            "grid_area": null,
            "grid_template_columns": null,
            "flex": null,
            "_model_name": "LayoutModel",
            "justify_items": null,
            "grid_row": null,
            "max_height": null,
            "align_content": null,
            "visibility": null,
            "align_self": null,
            "height": null,
            "min_height": null,
            "padding": null,
            "grid_auto_rows": null,
            "grid_gap": null,
            "max_width": null,
            "order": null,
            "_view_module_version": "1.2.0",
            "grid_template_areas": null,
            "object_position": null,
            "object_fit": null,
            "grid_auto_columns": null,
            "margin": null,
            "display": null,
            "left": null
          }
        },
        "e5176606c067487f9c57da53fbac44e9": {
          "model_module": "@jupyter-widgets/controls",
          "model_name": "HBoxModel",
          "state": {
            "_view_name": "HBoxView",
            "_dom_classes": [],
            "_model_name": "HBoxModel",
            "_view_module": "@jupyter-widgets/controls",
            "_model_module_version": "1.5.0",
            "_view_count": null,
            "_view_module_version": "1.5.0",
            "box_style": "",
            "layout": "IPY_MODEL_f0e518660ae641d6b7f573c35b8d463a",
            "_model_module": "@jupyter-widgets/controls",
            "children": [
              "IPY_MODEL_b0683e60651549a0be2357184de0a715",
              "IPY_MODEL_6eea6ff773b64202a91fd9149197247c"
            ]
          }
        },
        "f0e518660ae641d6b7f573c35b8d463a": {
          "model_module": "@jupyter-widgets/base",
          "model_name": "LayoutModel",
          "state": {
            "_view_name": "LayoutView",
            "grid_template_rows": null,
            "right": null,
            "justify_content": null,
            "_view_module": "@jupyter-widgets/base",
            "overflow": null,
            "_model_module_version": "1.2.0",
            "_view_count": null,
            "flex_flow": null,
            "width": null,
            "min_width": null,
            "border": null,
            "align_items": null,
            "bottom": null,
            "_model_module": "@jupyter-widgets/base",
            "top": null,
            "grid_column": null,
            "overflow_y": null,
            "overflow_x": null,
            "grid_auto_flow": null,
            "grid_area": null,
            "grid_template_columns": null,
            "flex": null,
            "_model_name": "LayoutModel",
            "justify_items": null,
            "grid_row": null,
            "max_height": null,
            "align_content": null,
            "visibility": null,
            "align_self": null,
            "height": null,
            "min_height": null,
            "padding": null,
            "grid_auto_rows": null,
            "grid_gap": null,
            "max_width": null,
            "order": null,
            "_view_module_version": "1.2.0",
            "grid_template_areas": null,
            "object_position": null,
            "object_fit": null,
            "grid_auto_columns": null,
            "margin": null,
            "display": null,
            "left": null
          }
        },
        "b0683e60651549a0be2357184de0a715": {
          "model_module": "@jupyter-widgets/controls",
          "model_name": "FloatProgressModel",
          "state": {
            "_view_name": "ProgressView",
            "style": "IPY_MODEL_01eca0e21f6344de95f94acfee709fcf",
            "_dom_classes": [],
            "description": "Epoch: 100%",
            "_model_name": "FloatProgressModel",
            "bar_style": "success",
            "max": 5,
            "_view_module": "@jupyter-widgets/controls",
            "_model_module_version": "1.5.0",
            "value": 5,
            "_view_count": null,
            "_view_module_version": "1.5.0",
            "orientation": "horizontal",
            "min": 0,
            "description_tooltip": null,
            "_model_module": "@jupyter-widgets/controls",
            "layout": "IPY_MODEL_a9c19e046c2a432694738d3a2ee34845"
          }
        },
        "6eea6ff773b64202a91fd9149197247c": {
          "model_module": "@jupyter-widgets/controls",
          "model_name": "HTMLModel",
          "state": {
            "_view_name": "HTMLView",
            "style": "IPY_MODEL_50445f3a6f034b8eaf5b8c1d8c51de81",
            "_dom_classes": [],
            "description": "",
            "_model_name": "HTMLModel",
            "placeholder": "​",
            "_view_module": "@jupyter-widgets/controls",
            "_model_module_version": "1.5.0",
            "value": " 5/5 [32:49&lt;00:00, 393.90s/it]",
            "_view_count": null,
            "_view_module_version": "1.5.0",
            "description_tooltip": null,
            "_model_module": "@jupyter-widgets/controls",
            "layout": "IPY_MODEL_ca57d4f862494abd975e05a9416168ba"
          }
        },
        "01eca0e21f6344de95f94acfee709fcf": {
          "model_module": "@jupyter-widgets/controls",
          "model_name": "ProgressStyleModel",
          "state": {
            "_view_name": "StyleView",
            "_model_name": "ProgressStyleModel",
            "description_width": "initial",
            "_view_module": "@jupyter-widgets/base",
            "_model_module_version": "1.5.0",
            "_view_count": null,
            "_view_module_version": "1.2.0",
            "bar_color": null,
            "_model_module": "@jupyter-widgets/controls"
          }
        },
        "a9c19e046c2a432694738d3a2ee34845": {
          "model_module": "@jupyter-widgets/base",
          "model_name": "LayoutModel",
          "state": {
            "_view_name": "LayoutView",
            "grid_template_rows": null,
            "right": null,
            "justify_content": null,
            "_view_module": "@jupyter-widgets/base",
            "overflow": null,
            "_model_module_version": "1.2.0",
            "_view_count": null,
            "flex_flow": null,
            "width": null,
            "min_width": null,
            "border": null,
            "align_items": null,
            "bottom": null,
            "_model_module": "@jupyter-widgets/base",
            "top": null,
            "grid_column": null,
            "overflow_y": null,
            "overflow_x": null,
            "grid_auto_flow": null,
            "grid_area": null,
            "grid_template_columns": null,
            "flex": null,
            "_model_name": "LayoutModel",
            "justify_items": null,
            "grid_row": null,
            "max_height": null,
            "align_content": null,
            "visibility": null,
            "align_self": null,
            "height": null,
            "min_height": null,
            "padding": null,
            "grid_auto_rows": null,
            "grid_gap": null,
            "max_width": null,
            "order": null,
            "_view_module_version": "1.2.0",
            "grid_template_areas": null,
            "object_position": null,
            "object_fit": null,
            "grid_auto_columns": null,
            "margin": null,
            "display": null,
            "left": null
          }
        },
        "50445f3a6f034b8eaf5b8c1d8c51de81": {
          "model_module": "@jupyter-widgets/controls",
          "model_name": "DescriptionStyleModel",
          "state": {
            "_view_name": "StyleView",
            "_model_name": "DescriptionStyleModel",
            "description_width": "",
            "_view_module": "@jupyter-widgets/base",
            "_model_module_version": "1.5.0",
            "_view_count": null,
            "_view_module_version": "1.2.0",
            "_model_module": "@jupyter-widgets/controls"
          }
        },
        "ca57d4f862494abd975e05a9416168ba": {
          "model_module": "@jupyter-widgets/base",
          "model_name": "LayoutModel",
          "state": {
            "_view_name": "LayoutView",
            "grid_template_rows": null,
            "right": null,
            "justify_content": null,
            "_view_module": "@jupyter-widgets/base",
            "overflow": null,
            "_model_module_version": "1.2.0",
            "_view_count": null,
            "flex_flow": null,
            "width": null,
            "min_width": null,
            "border": null,
            "align_items": null,
            "bottom": null,
            "_model_module": "@jupyter-widgets/base",
            "top": null,
            "grid_column": null,
            "overflow_y": null,
            "overflow_x": null,
            "grid_auto_flow": null,
            "grid_area": null,
            "grid_template_columns": null,
            "flex": null,
            "_model_name": "LayoutModel",
            "justify_items": null,
            "grid_row": null,
            "max_height": null,
            "align_content": null,
            "visibility": null,
            "align_self": null,
            "height": null,
            "min_height": null,
            "padding": null,
            "grid_auto_rows": null,
            "grid_gap": null,
            "max_width": null,
            "order": null,
            "_view_module_version": "1.2.0",
            "grid_template_areas": null,
            "object_position": null,
            "object_fit": null,
            "grid_auto_columns": null,
            "margin": null,
            "display": null,
            "left": null
          }
        },
        "13317c92994d4670accb1f2bcd54c3ae": {
          "model_module": "@jupyter-widgets/controls",
          "model_name": "HBoxModel",
          "state": {
            "_view_name": "HBoxView",
            "_dom_classes": [],
            "_model_name": "HBoxModel",
            "_view_module": "@jupyter-widgets/controls",
            "_model_module_version": "1.5.0",
            "_view_count": null,
            "_view_module_version": "1.5.0",
            "box_style": "",
            "layout": "IPY_MODEL_8d831711b2e7402b83aa20ee6be73cef",
            "_model_module": "@jupyter-widgets/controls",
            "children": [
              "IPY_MODEL_6d86dd3c150b4cf5b29da29f018b8c32",
              "IPY_MODEL_3efa8d3c06b84155bc47a0dfd40a5e64"
            ]
          }
        },
        "8d831711b2e7402b83aa20ee6be73cef": {
          "model_module": "@jupyter-widgets/base",
          "model_name": "LayoutModel",
          "state": {
            "_view_name": "LayoutView",
            "grid_template_rows": null,
            "right": null,
            "justify_content": null,
            "_view_module": "@jupyter-widgets/base",
            "overflow": null,
            "_model_module_version": "1.2.0",
            "_view_count": null,
            "flex_flow": null,
            "width": null,
            "min_width": null,
            "border": null,
            "align_items": null,
            "bottom": null,
            "_model_module": "@jupyter-widgets/base",
            "top": null,
            "grid_column": null,
            "overflow_y": null,
            "overflow_x": null,
            "grid_auto_flow": null,
            "grid_area": null,
            "grid_template_columns": null,
            "flex": null,
            "_model_name": "LayoutModel",
            "justify_items": null,
            "grid_row": null,
            "max_height": null,
            "align_content": null,
            "visibility": null,
            "align_self": null,
            "height": null,
            "min_height": null,
            "padding": null,
            "grid_auto_rows": null,
            "grid_gap": null,
            "max_width": null,
            "order": null,
            "_view_module_version": "1.2.0",
            "grid_template_areas": null,
            "object_position": null,
            "object_fit": null,
            "grid_auto_columns": null,
            "margin": null,
            "display": null,
            "left": null
          }
        },
        "6d86dd3c150b4cf5b29da29f018b8c32": {
          "model_module": "@jupyter-widgets/controls",
          "model_name": "FloatProgressModel",
          "state": {
            "_view_name": "ProgressView",
            "style": "IPY_MODEL_1780304c225042cd8471c2d2852a479f",
            "_dom_classes": [],
            "description": "Iteration: 100%",
            "_model_name": "FloatProgressModel",
            "bar_style": "success",
            "max": 864,
            "_view_module": "@jupyter-widgets/controls",
            "_model_module_version": "1.5.0",
            "value": 864,
            "_view_count": null,
            "_view_module_version": "1.5.0",
            "orientation": "horizontal",
            "min": 0,
            "description_tooltip": null,
            "_model_module": "@jupyter-widgets/controls",
            "layout": "IPY_MODEL_b7b5b7d2a74e4b5daf09ba1e33603643"
          }
        },
        "3efa8d3c06b84155bc47a0dfd40a5e64": {
          "model_module": "@jupyter-widgets/controls",
          "model_name": "HTMLModel",
          "state": {
            "_view_name": "HTMLView",
            "style": "IPY_MODEL_0faa3d664e064e0993126c4571bc7a18",
            "_dom_classes": [],
            "description": "",
            "_model_name": "HTMLModel",
            "placeholder": "​",
            "_view_module": "@jupyter-widgets/controls",
            "_model_module_version": "1.5.0",
            "value": " 864/864 [06:24&lt;00:00,  2.24it/s]",
            "_view_count": null,
            "_view_module_version": "1.5.0",
            "description_tooltip": null,
            "_model_module": "@jupyter-widgets/controls",
            "layout": "IPY_MODEL_7db69e46e43443fca85a54683b315b5c"
          }
        },
        "1780304c225042cd8471c2d2852a479f": {
          "model_module": "@jupyter-widgets/controls",
          "model_name": "ProgressStyleModel",
          "state": {
            "_view_name": "StyleView",
            "_model_name": "ProgressStyleModel",
            "description_width": "initial",
            "_view_module": "@jupyter-widgets/base",
            "_model_module_version": "1.5.0",
            "_view_count": null,
            "_view_module_version": "1.2.0",
            "bar_color": null,
            "_model_module": "@jupyter-widgets/controls"
          }
        },
        "b7b5b7d2a74e4b5daf09ba1e33603643": {
          "model_module": "@jupyter-widgets/base",
          "model_name": "LayoutModel",
          "state": {
            "_view_name": "LayoutView",
            "grid_template_rows": null,
            "right": null,
            "justify_content": null,
            "_view_module": "@jupyter-widgets/base",
            "overflow": null,
            "_model_module_version": "1.2.0",
            "_view_count": null,
            "flex_flow": null,
            "width": null,
            "min_width": null,
            "border": null,
            "align_items": null,
            "bottom": null,
            "_model_module": "@jupyter-widgets/base",
            "top": null,
            "grid_column": null,
            "overflow_y": null,
            "overflow_x": null,
            "grid_auto_flow": null,
            "grid_area": null,
            "grid_template_columns": null,
            "flex": null,
            "_model_name": "LayoutModel",
            "justify_items": null,
            "grid_row": null,
            "max_height": null,
            "align_content": null,
            "visibility": null,
            "align_self": null,
            "height": null,
            "min_height": null,
            "padding": null,
            "grid_auto_rows": null,
            "grid_gap": null,
            "max_width": null,
            "order": null,
            "_view_module_version": "1.2.0",
            "grid_template_areas": null,
            "object_position": null,
            "object_fit": null,
            "grid_auto_columns": null,
            "margin": null,
            "display": null,
            "left": null
          }
        },
        "0faa3d664e064e0993126c4571bc7a18": {
          "model_module": "@jupyter-widgets/controls",
          "model_name": "DescriptionStyleModel",
          "state": {
            "_view_name": "StyleView",
            "_model_name": "DescriptionStyleModel",
            "description_width": "",
            "_view_module": "@jupyter-widgets/base",
            "_model_module_version": "1.5.0",
            "_view_count": null,
            "_view_module_version": "1.2.0",
            "_model_module": "@jupyter-widgets/controls"
          }
        },
        "7db69e46e43443fca85a54683b315b5c": {
          "model_module": "@jupyter-widgets/base",
          "model_name": "LayoutModel",
          "state": {
            "_view_name": "LayoutView",
            "grid_template_rows": null,
            "right": null,
            "justify_content": null,
            "_view_module": "@jupyter-widgets/base",
            "overflow": null,
            "_model_module_version": "1.2.0",
            "_view_count": null,
            "flex_flow": null,
            "width": null,
            "min_width": null,
            "border": null,
            "align_items": null,
            "bottom": null,
            "_model_module": "@jupyter-widgets/base",
            "top": null,
            "grid_column": null,
            "overflow_y": null,
            "overflow_x": null,
            "grid_auto_flow": null,
            "grid_area": null,
            "grid_template_columns": null,
            "flex": null,
            "_model_name": "LayoutModel",
            "justify_items": null,
            "grid_row": null,
            "max_height": null,
            "align_content": null,
            "visibility": null,
            "align_self": null,
            "height": null,
            "min_height": null,
            "padding": null,
            "grid_auto_rows": null,
            "grid_gap": null,
            "max_width": null,
            "order": null,
            "_view_module_version": "1.2.0",
            "grid_template_areas": null,
            "object_position": null,
            "object_fit": null,
            "grid_auto_columns": null,
            "margin": null,
            "display": null,
            "left": null
          }
        },
        "b0f9f542d1af44fea444776c3aaea375": {
          "model_module": "@jupyter-widgets/controls",
          "model_name": "HBoxModel",
          "state": {
            "_view_name": "HBoxView",
            "_dom_classes": [],
            "_model_name": "HBoxModel",
            "_view_module": "@jupyter-widgets/controls",
            "_model_module_version": "1.5.0",
            "_view_count": null,
            "_view_module_version": "1.5.0",
            "box_style": "",
            "layout": "IPY_MODEL_756f2a6c9c47462d85f4e78b2ce16a23",
            "_model_module": "@jupyter-widgets/controls",
            "children": [
              "IPY_MODEL_6af30a9d25134b99b2aea7134b8691ac",
              "IPY_MODEL_31f5eadfa31a47119b66858b31bd3acc"
            ]
          }
        },
        "756f2a6c9c47462d85f4e78b2ce16a23": {
          "model_module": "@jupyter-widgets/base",
          "model_name": "LayoutModel",
          "state": {
            "_view_name": "LayoutView",
            "grid_template_rows": null,
            "right": null,
            "justify_content": null,
            "_view_module": "@jupyter-widgets/base",
            "overflow": null,
            "_model_module_version": "1.2.0",
            "_view_count": null,
            "flex_flow": null,
            "width": null,
            "min_width": null,
            "border": null,
            "align_items": null,
            "bottom": null,
            "_model_module": "@jupyter-widgets/base",
            "top": null,
            "grid_column": null,
            "overflow_y": null,
            "overflow_x": null,
            "grid_auto_flow": null,
            "grid_area": null,
            "grid_template_columns": null,
            "flex": null,
            "_model_name": "LayoutModel",
            "justify_items": null,
            "grid_row": null,
            "max_height": null,
            "align_content": null,
            "visibility": null,
            "align_self": null,
            "height": null,
            "min_height": null,
            "padding": null,
            "grid_auto_rows": null,
            "grid_gap": null,
            "max_width": null,
            "order": null,
            "_view_module_version": "1.2.0",
            "grid_template_areas": null,
            "object_position": null,
            "object_fit": null,
            "grid_auto_columns": null,
            "margin": null,
            "display": null,
            "left": null
          }
        },
        "6af30a9d25134b99b2aea7134b8691ac": {
          "model_module": "@jupyter-widgets/controls",
          "model_name": "FloatProgressModel",
          "state": {
            "_view_name": "ProgressView",
            "style": "IPY_MODEL_bb4c0e33759743cd82c41c77b7885858",
            "_dom_classes": [],
            "description": "Iteration: 100%",
            "_model_name": "FloatProgressModel",
            "bar_style": "success",
            "max": 864,
            "_view_module": "@jupyter-widgets/controls",
            "_model_module_version": "1.5.0",
            "value": 864,
            "_view_count": null,
            "_view_module_version": "1.5.0",
            "orientation": "horizontal",
            "min": 0,
            "description_tooltip": null,
            "_model_module": "@jupyter-widgets/controls",
            "layout": "IPY_MODEL_c58eb5cfb2884fa190981ff9adf0133c"
          }
        },
        "31f5eadfa31a47119b66858b31bd3acc": {
          "model_module": "@jupyter-widgets/controls",
          "model_name": "HTMLModel",
          "state": {
            "_view_name": "HTMLView",
            "style": "IPY_MODEL_3da9379aab09467eba434d512b090b66",
            "_dom_classes": [],
            "description": "",
            "_model_name": "HTMLModel",
            "placeholder": "​",
            "_view_module": "@jupyter-widgets/controls",
            "_model_module_version": "1.5.0",
            "value": " 864/864 [06:25&lt;00:00,  2.24it/s]",
            "_view_count": null,
            "_view_module_version": "1.5.0",
            "description_tooltip": null,
            "_model_module": "@jupyter-widgets/controls",
            "layout": "IPY_MODEL_f80792fe095b48299a20c8094e632b5f"
          }
        },
        "bb4c0e33759743cd82c41c77b7885858": {
          "model_module": "@jupyter-widgets/controls",
          "model_name": "ProgressStyleModel",
          "state": {
            "_view_name": "StyleView",
            "_model_name": "ProgressStyleModel",
            "description_width": "initial",
            "_view_module": "@jupyter-widgets/base",
            "_model_module_version": "1.5.0",
            "_view_count": null,
            "_view_module_version": "1.2.0",
            "bar_color": null,
            "_model_module": "@jupyter-widgets/controls"
          }
        },
        "c58eb5cfb2884fa190981ff9adf0133c": {
          "model_module": "@jupyter-widgets/base",
          "model_name": "LayoutModel",
          "state": {
            "_view_name": "LayoutView",
            "grid_template_rows": null,
            "right": null,
            "justify_content": null,
            "_view_module": "@jupyter-widgets/base",
            "overflow": null,
            "_model_module_version": "1.2.0",
            "_view_count": null,
            "flex_flow": null,
            "width": null,
            "min_width": null,
            "border": null,
            "align_items": null,
            "bottom": null,
            "_model_module": "@jupyter-widgets/base",
            "top": null,
            "grid_column": null,
            "overflow_y": null,
            "overflow_x": null,
            "grid_auto_flow": null,
            "grid_area": null,
            "grid_template_columns": null,
            "flex": null,
            "_model_name": "LayoutModel",
            "justify_items": null,
            "grid_row": null,
            "max_height": null,
            "align_content": null,
            "visibility": null,
            "align_self": null,
            "height": null,
            "min_height": null,
            "padding": null,
            "grid_auto_rows": null,
            "grid_gap": null,
            "max_width": null,
            "order": null,
            "_view_module_version": "1.2.0",
            "grid_template_areas": null,
            "object_position": null,
            "object_fit": null,
            "grid_auto_columns": null,
            "margin": null,
            "display": null,
            "left": null
          }
        },
        "3da9379aab09467eba434d512b090b66": {
          "model_module": "@jupyter-widgets/controls",
          "model_name": "DescriptionStyleModel",
          "state": {
            "_view_name": "StyleView",
            "_model_name": "DescriptionStyleModel",
            "description_width": "",
            "_view_module": "@jupyter-widgets/base",
            "_model_module_version": "1.5.0",
            "_view_count": null,
            "_view_module_version": "1.2.0",
            "_model_module": "@jupyter-widgets/controls"
          }
        },
        "f80792fe095b48299a20c8094e632b5f": {
          "model_module": "@jupyter-widgets/base",
          "model_name": "LayoutModel",
          "state": {
            "_view_name": "LayoutView",
            "grid_template_rows": null,
            "right": null,
            "justify_content": null,
            "_view_module": "@jupyter-widgets/base",
            "overflow": null,
            "_model_module_version": "1.2.0",
            "_view_count": null,
            "flex_flow": null,
            "width": null,
            "min_width": null,
            "border": null,
            "align_items": null,
            "bottom": null,
            "_model_module": "@jupyter-widgets/base",
            "top": null,
            "grid_column": null,
            "overflow_y": null,
            "overflow_x": null,
            "grid_auto_flow": null,
            "grid_area": null,
            "grid_template_columns": null,
            "flex": null,
            "_model_name": "LayoutModel",
            "justify_items": null,
            "grid_row": null,
            "max_height": null,
            "align_content": null,
            "visibility": null,
            "align_self": null,
            "height": null,
            "min_height": null,
            "padding": null,
            "grid_auto_rows": null,
            "grid_gap": null,
            "max_width": null,
            "order": null,
            "_view_module_version": "1.2.0",
            "grid_template_areas": null,
            "object_position": null,
            "object_fit": null,
            "grid_auto_columns": null,
            "margin": null,
            "display": null,
            "left": null
          }
        },
        "4928a404a25748c8bb25bb9441ded7e2": {
          "model_module": "@jupyter-widgets/controls",
          "model_name": "HBoxModel",
          "state": {
            "_view_name": "HBoxView",
            "_dom_classes": [],
            "_model_name": "HBoxModel",
            "_view_module": "@jupyter-widgets/controls",
            "_model_module_version": "1.5.0",
            "_view_count": null,
            "_view_module_version": "1.5.0",
            "box_style": "",
            "layout": "IPY_MODEL_f715bbdafa144ddc98b12be949866e8a",
            "_model_module": "@jupyter-widgets/controls",
            "children": [
              "IPY_MODEL_5da9e9bdca04431aba4262ee4639485b",
              "IPY_MODEL_554b7faa864d4c8d9aba7cdbe4a5255b"
            ]
          }
        },
        "f715bbdafa144ddc98b12be949866e8a": {
          "model_module": "@jupyter-widgets/base",
          "model_name": "LayoutModel",
          "state": {
            "_view_name": "LayoutView",
            "grid_template_rows": null,
            "right": null,
            "justify_content": null,
            "_view_module": "@jupyter-widgets/base",
            "overflow": null,
            "_model_module_version": "1.2.0",
            "_view_count": null,
            "flex_flow": null,
            "width": null,
            "min_width": null,
            "border": null,
            "align_items": null,
            "bottom": null,
            "_model_module": "@jupyter-widgets/base",
            "top": null,
            "grid_column": null,
            "overflow_y": null,
            "overflow_x": null,
            "grid_auto_flow": null,
            "grid_area": null,
            "grid_template_columns": null,
            "flex": null,
            "_model_name": "LayoutModel",
            "justify_items": null,
            "grid_row": null,
            "max_height": null,
            "align_content": null,
            "visibility": null,
            "align_self": null,
            "height": null,
            "min_height": null,
            "padding": null,
            "grid_auto_rows": null,
            "grid_gap": null,
            "max_width": null,
            "order": null,
            "_view_module_version": "1.2.0",
            "grid_template_areas": null,
            "object_position": null,
            "object_fit": null,
            "grid_auto_columns": null,
            "margin": null,
            "display": null,
            "left": null
          }
        },
        "5da9e9bdca04431aba4262ee4639485b": {
          "model_module": "@jupyter-widgets/controls",
          "model_name": "FloatProgressModel",
          "state": {
            "_view_name": "ProgressView",
            "style": "IPY_MODEL_e2be934df8274748af908b5eb8858eb4",
            "_dom_classes": [],
            "description": "Iteration: 100%",
            "_model_name": "FloatProgressModel",
            "bar_style": "success",
            "max": 864,
            "_view_module": "@jupyter-widgets/controls",
            "_model_module_version": "1.5.0",
            "value": 864,
            "_view_count": null,
            "_view_module_version": "1.5.0",
            "orientation": "horizontal",
            "min": 0,
            "description_tooltip": null,
            "_model_module": "@jupyter-widgets/controls",
            "layout": "IPY_MODEL_8a7fe67100a1404aaa51a1fa86a72174"
          }
        },
        "554b7faa864d4c8d9aba7cdbe4a5255b": {
          "model_module": "@jupyter-widgets/controls",
          "model_name": "HTMLModel",
          "state": {
            "_view_name": "HTMLView",
            "style": "IPY_MODEL_dd85edecb43c4d72901cad6f69c0b60f",
            "_dom_classes": [],
            "description": "",
            "_model_name": "HTMLModel",
            "placeholder": "​",
            "_view_module": "@jupyter-widgets/controls",
            "_model_module_version": "1.5.0",
            "value": " 864/864 [06:25&lt;00:00,  2.24it/s]",
            "_view_count": null,
            "_view_module_version": "1.5.0",
            "description_tooltip": null,
            "_model_module": "@jupyter-widgets/controls",
            "layout": "IPY_MODEL_99cae964d4754bdba075c8006b4b92a6"
          }
        },
        "e2be934df8274748af908b5eb8858eb4": {
          "model_module": "@jupyter-widgets/controls",
          "model_name": "ProgressStyleModel",
          "state": {
            "_view_name": "StyleView",
            "_model_name": "ProgressStyleModel",
            "description_width": "initial",
            "_view_module": "@jupyter-widgets/base",
            "_model_module_version": "1.5.0",
            "_view_count": null,
            "_view_module_version": "1.2.0",
            "bar_color": null,
            "_model_module": "@jupyter-widgets/controls"
          }
        },
        "8a7fe67100a1404aaa51a1fa86a72174": {
          "model_module": "@jupyter-widgets/base",
          "model_name": "LayoutModel",
          "state": {
            "_view_name": "LayoutView",
            "grid_template_rows": null,
            "right": null,
            "justify_content": null,
            "_view_module": "@jupyter-widgets/base",
            "overflow": null,
            "_model_module_version": "1.2.0",
            "_view_count": null,
            "flex_flow": null,
            "width": null,
            "min_width": null,
            "border": null,
            "align_items": null,
            "bottom": null,
            "_model_module": "@jupyter-widgets/base",
            "top": null,
            "grid_column": null,
            "overflow_y": null,
            "overflow_x": null,
            "grid_auto_flow": null,
            "grid_area": null,
            "grid_template_columns": null,
            "flex": null,
            "_model_name": "LayoutModel",
            "justify_items": null,
            "grid_row": null,
            "max_height": null,
            "align_content": null,
            "visibility": null,
            "align_self": null,
            "height": null,
            "min_height": null,
            "padding": null,
            "grid_auto_rows": null,
            "grid_gap": null,
            "max_width": null,
            "order": null,
            "_view_module_version": "1.2.0",
            "grid_template_areas": null,
            "object_position": null,
            "object_fit": null,
            "grid_auto_columns": null,
            "margin": null,
            "display": null,
            "left": null
          }
        },
        "dd85edecb43c4d72901cad6f69c0b60f": {
          "model_module": "@jupyter-widgets/controls",
          "model_name": "DescriptionStyleModel",
          "state": {
            "_view_name": "StyleView",
            "_model_name": "DescriptionStyleModel",
            "description_width": "",
            "_view_module": "@jupyter-widgets/base",
            "_model_module_version": "1.5.0",
            "_view_count": null,
            "_view_module_version": "1.2.0",
            "_model_module": "@jupyter-widgets/controls"
          }
        },
        "99cae964d4754bdba075c8006b4b92a6": {
          "model_module": "@jupyter-widgets/base",
          "model_name": "LayoutModel",
          "state": {
            "_view_name": "LayoutView",
            "grid_template_rows": null,
            "right": null,
            "justify_content": null,
            "_view_module": "@jupyter-widgets/base",
            "overflow": null,
            "_model_module_version": "1.2.0",
            "_view_count": null,
            "flex_flow": null,
            "width": null,
            "min_width": null,
            "border": null,
            "align_items": null,
            "bottom": null,
            "_model_module": "@jupyter-widgets/base",
            "top": null,
            "grid_column": null,
            "overflow_y": null,
            "overflow_x": null,
            "grid_auto_flow": null,
            "grid_area": null,
            "grid_template_columns": null,
            "flex": null,
            "_model_name": "LayoutModel",
            "justify_items": null,
            "grid_row": null,
            "max_height": null,
            "align_content": null,
            "visibility": null,
            "align_self": null,
            "height": null,
            "min_height": null,
            "padding": null,
            "grid_auto_rows": null,
            "grid_gap": null,
            "max_width": null,
            "order": null,
            "_view_module_version": "1.2.0",
            "grid_template_areas": null,
            "object_position": null,
            "object_fit": null,
            "grid_auto_columns": null,
            "margin": null,
            "display": null,
            "left": null
          }
        },
        "5329aa02634d4fcd8bdc89bcd7363510": {
          "model_module": "@jupyter-widgets/controls",
          "model_name": "HBoxModel",
          "state": {
            "_view_name": "HBoxView",
            "_dom_classes": [],
            "_model_name": "HBoxModel",
            "_view_module": "@jupyter-widgets/controls",
            "_model_module_version": "1.5.0",
            "_view_count": null,
            "_view_module_version": "1.5.0",
            "box_style": "",
            "layout": "IPY_MODEL_65ab0f30a836483c94482306be26ccd0",
            "_model_module": "@jupyter-widgets/controls",
            "children": [
              "IPY_MODEL_c1f50194168c414597ac162e7f39f0a2",
              "IPY_MODEL_1196a46c276b43ba83dad772a27003e4"
            ]
          }
        },
        "65ab0f30a836483c94482306be26ccd0": {
          "model_module": "@jupyter-widgets/base",
          "model_name": "LayoutModel",
          "state": {
            "_view_name": "LayoutView",
            "grid_template_rows": null,
            "right": null,
            "justify_content": null,
            "_view_module": "@jupyter-widgets/base",
            "overflow": null,
            "_model_module_version": "1.2.0",
            "_view_count": null,
            "flex_flow": null,
            "width": null,
            "min_width": null,
            "border": null,
            "align_items": null,
            "bottom": null,
            "_model_module": "@jupyter-widgets/base",
            "top": null,
            "grid_column": null,
            "overflow_y": null,
            "overflow_x": null,
            "grid_auto_flow": null,
            "grid_area": null,
            "grid_template_columns": null,
            "flex": null,
            "_model_name": "LayoutModel",
            "justify_items": null,
            "grid_row": null,
            "max_height": null,
            "align_content": null,
            "visibility": null,
            "align_self": null,
            "height": null,
            "min_height": null,
            "padding": null,
            "grid_auto_rows": null,
            "grid_gap": null,
            "max_width": null,
            "order": null,
            "_view_module_version": "1.2.0",
            "grid_template_areas": null,
            "object_position": null,
            "object_fit": null,
            "grid_auto_columns": null,
            "margin": null,
            "display": null,
            "left": null
          }
        },
        "c1f50194168c414597ac162e7f39f0a2": {
          "model_module": "@jupyter-widgets/controls",
          "model_name": "FloatProgressModel",
          "state": {
            "_view_name": "ProgressView",
            "style": "IPY_MODEL_64ae8c9b92b449dc937d0bf1edd393e5",
            "_dom_classes": [],
            "description": "Iteration: 100%",
            "_model_name": "FloatProgressModel",
            "bar_style": "success",
            "max": 864,
            "_view_module": "@jupyter-widgets/controls",
            "_model_module_version": "1.5.0",
            "value": 864,
            "_view_count": null,
            "_view_module_version": "1.5.0",
            "orientation": "horizontal",
            "min": 0,
            "description_tooltip": null,
            "_model_module": "@jupyter-widgets/controls",
            "layout": "IPY_MODEL_0c9d7180711f42ddb8a3f14e8358c8f3"
          }
        },
        "1196a46c276b43ba83dad772a27003e4": {
          "model_module": "@jupyter-widgets/controls",
          "model_name": "HTMLModel",
          "state": {
            "_view_name": "HTMLView",
            "style": "IPY_MODEL_90ac4403ca224e62b1f959e463578539",
            "_dom_classes": [],
            "description": "",
            "_model_name": "HTMLModel",
            "placeholder": "​",
            "_view_module": "@jupyter-widgets/controls",
            "_model_module_version": "1.5.0",
            "value": " 864/864 [06:24&lt;00:00,  2.24it/s]",
            "_view_count": null,
            "_view_module_version": "1.5.0",
            "description_tooltip": null,
            "_model_module": "@jupyter-widgets/controls",
            "layout": "IPY_MODEL_ac515baddd4442f3b85fb49eab794258"
          }
        },
        "64ae8c9b92b449dc937d0bf1edd393e5": {
          "model_module": "@jupyter-widgets/controls",
          "model_name": "ProgressStyleModel",
          "state": {
            "_view_name": "StyleView",
            "_model_name": "ProgressStyleModel",
            "description_width": "initial",
            "_view_module": "@jupyter-widgets/base",
            "_model_module_version": "1.5.0",
            "_view_count": null,
            "_view_module_version": "1.2.0",
            "bar_color": null,
            "_model_module": "@jupyter-widgets/controls"
          }
        },
        "0c9d7180711f42ddb8a3f14e8358c8f3": {
          "model_module": "@jupyter-widgets/base",
          "model_name": "LayoutModel",
          "state": {
            "_view_name": "LayoutView",
            "grid_template_rows": null,
            "right": null,
            "justify_content": null,
            "_view_module": "@jupyter-widgets/base",
            "overflow": null,
            "_model_module_version": "1.2.0",
            "_view_count": null,
            "flex_flow": null,
            "width": null,
            "min_width": null,
            "border": null,
            "align_items": null,
            "bottom": null,
            "_model_module": "@jupyter-widgets/base",
            "top": null,
            "grid_column": null,
            "overflow_y": null,
            "overflow_x": null,
            "grid_auto_flow": null,
            "grid_area": null,
            "grid_template_columns": null,
            "flex": null,
            "_model_name": "LayoutModel",
            "justify_items": null,
            "grid_row": null,
            "max_height": null,
            "align_content": null,
            "visibility": null,
            "align_self": null,
            "height": null,
            "min_height": null,
            "padding": null,
            "grid_auto_rows": null,
            "grid_gap": null,
            "max_width": null,
            "order": null,
            "_view_module_version": "1.2.0",
            "grid_template_areas": null,
            "object_position": null,
            "object_fit": null,
            "grid_auto_columns": null,
            "margin": null,
            "display": null,
            "left": null
          }
        },
        "90ac4403ca224e62b1f959e463578539": {
          "model_module": "@jupyter-widgets/controls",
          "model_name": "DescriptionStyleModel",
          "state": {
            "_view_name": "StyleView",
            "_model_name": "DescriptionStyleModel",
            "description_width": "",
            "_view_module": "@jupyter-widgets/base",
            "_model_module_version": "1.5.0",
            "_view_count": null,
            "_view_module_version": "1.2.0",
            "_model_module": "@jupyter-widgets/controls"
          }
        },
        "ac515baddd4442f3b85fb49eab794258": {
          "model_module": "@jupyter-widgets/base",
          "model_name": "LayoutModel",
          "state": {
            "_view_name": "LayoutView",
            "grid_template_rows": null,
            "right": null,
            "justify_content": null,
            "_view_module": "@jupyter-widgets/base",
            "overflow": null,
            "_model_module_version": "1.2.0",
            "_view_count": null,
            "flex_flow": null,
            "width": null,
            "min_width": null,
            "border": null,
            "align_items": null,
            "bottom": null,
            "_model_module": "@jupyter-widgets/base",
            "top": null,
            "grid_column": null,
            "overflow_y": null,
            "overflow_x": null,
            "grid_auto_flow": null,
            "grid_area": null,
            "grid_template_columns": null,
            "flex": null,
            "_model_name": "LayoutModel",
            "justify_items": null,
            "grid_row": null,
            "max_height": null,
            "align_content": null,
            "visibility": null,
            "align_self": null,
            "height": null,
            "min_height": null,
            "padding": null,
            "grid_auto_rows": null,
            "grid_gap": null,
            "max_width": null,
            "order": null,
            "_view_module_version": "1.2.0",
            "grid_template_areas": null,
            "object_position": null,
            "object_fit": null,
            "grid_auto_columns": null,
            "margin": null,
            "display": null,
            "left": null
          }
        },
        "9b0760be1e794c2cbc710f4a62f2fb18": {
          "model_module": "@jupyter-widgets/controls",
          "model_name": "HBoxModel",
          "state": {
            "_view_name": "HBoxView",
            "_dom_classes": [],
            "_model_name": "HBoxModel",
            "_view_module": "@jupyter-widgets/controls",
            "_model_module_version": "1.5.0",
            "_view_count": null,
            "_view_module_version": "1.5.0",
            "box_style": "",
            "layout": "IPY_MODEL_ea8460e325fd47998769e6f3ce3cc0a7",
            "_model_module": "@jupyter-widgets/controls",
            "children": [
              "IPY_MODEL_a07af44fad554a91a79990faa7c1e2ee",
              "IPY_MODEL_d4379cd40dd64515bc53434c96f4a6c1"
            ]
          }
        },
        "ea8460e325fd47998769e6f3ce3cc0a7": {
          "model_module": "@jupyter-widgets/base",
          "model_name": "LayoutModel",
          "state": {
            "_view_name": "LayoutView",
            "grid_template_rows": null,
            "right": null,
            "justify_content": null,
            "_view_module": "@jupyter-widgets/base",
            "overflow": null,
            "_model_module_version": "1.2.0",
            "_view_count": null,
            "flex_flow": null,
            "width": null,
            "min_width": null,
            "border": null,
            "align_items": null,
            "bottom": null,
            "_model_module": "@jupyter-widgets/base",
            "top": null,
            "grid_column": null,
            "overflow_y": null,
            "overflow_x": null,
            "grid_auto_flow": null,
            "grid_area": null,
            "grid_template_columns": null,
            "flex": null,
            "_model_name": "LayoutModel",
            "justify_items": null,
            "grid_row": null,
            "max_height": null,
            "align_content": null,
            "visibility": null,
            "align_self": null,
            "height": null,
            "min_height": null,
            "padding": null,
            "grid_auto_rows": null,
            "grid_gap": null,
            "max_width": null,
            "order": null,
            "_view_module_version": "1.2.0",
            "grid_template_areas": null,
            "object_position": null,
            "object_fit": null,
            "grid_auto_columns": null,
            "margin": null,
            "display": null,
            "left": null
          }
        },
        "a07af44fad554a91a79990faa7c1e2ee": {
          "model_module": "@jupyter-widgets/controls",
          "model_name": "FloatProgressModel",
          "state": {
            "_view_name": "ProgressView",
            "style": "IPY_MODEL_517e2c3eed8b44beb921e12a9d88f438",
            "_dom_classes": [],
            "description": "Iteration: 100%",
            "_model_name": "FloatProgressModel",
            "bar_style": "success",
            "max": 864,
            "_view_module": "@jupyter-widgets/controls",
            "_model_module_version": "1.5.0",
            "value": 864,
            "_view_count": null,
            "_view_module_version": "1.5.0",
            "orientation": "horizontal",
            "min": 0,
            "description_tooltip": null,
            "_model_module": "@jupyter-widgets/controls",
            "layout": "IPY_MODEL_da84413c45e0466a9af4e512bcd36c0a"
          }
        },
        "d4379cd40dd64515bc53434c96f4a6c1": {
          "model_module": "@jupyter-widgets/controls",
          "model_name": "HTMLModel",
          "state": {
            "_view_name": "HTMLView",
            "style": "IPY_MODEL_57d4034445114eb3bbef28612afe266d",
            "_dom_classes": [],
            "description": "",
            "_model_name": "HTMLModel",
            "placeholder": "​",
            "_view_module": "@jupyter-widgets/controls",
            "_model_module_version": "1.5.0",
            "value": " 864/864 [06:24&lt;00:00,  2.25it/s]",
            "_view_count": null,
            "_view_module_version": "1.5.0",
            "description_tooltip": null,
            "_model_module": "@jupyter-widgets/controls",
            "layout": "IPY_MODEL_41699ffbe9514791b765cea52ba33cbf"
          }
        },
        "517e2c3eed8b44beb921e12a9d88f438": {
          "model_module": "@jupyter-widgets/controls",
          "model_name": "ProgressStyleModel",
          "state": {
            "_view_name": "StyleView",
            "_model_name": "ProgressStyleModel",
            "description_width": "initial",
            "_view_module": "@jupyter-widgets/base",
            "_model_module_version": "1.5.0",
            "_view_count": null,
            "_view_module_version": "1.2.0",
            "bar_color": null,
            "_model_module": "@jupyter-widgets/controls"
          }
        },
        "da84413c45e0466a9af4e512bcd36c0a": {
          "model_module": "@jupyter-widgets/base",
          "model_name": "LayoutModel",
          "state": {
            "_view_name": "LayoutView",
            "grid_template_rows": null,
            "right": null,
            "justify_content": null,
            "_view_module": "@jupyter-widgets/base",
            "overflow": null,
            "_model_module_version": "1.2.0",
            "_view_count": null,
            "flex_flow": null,
            "width": null,
            "min_width": null,
            "border": null,
            "align_items": null,
            "bottom": null,
            "_model_module": "@jupyter-widgets/base",
            "top": null,
            "grid_column": null,
            "overflow_y": null,
            "overflow_x": null,
            "grid_auto_flow": null,
            "grid_area": null,
            "grid_template_columns": null,
            "flex": null,
            "_model_name": "LayoutModel",
            "justify_items": null,
            "grid_row": null,
            "max_height": null,
            "align_content": null,
            "visibility": null,
            "align_self": null,
            "height": null,
            "min_height": null,
            "padding": null,
            "grid_auto_rows": null,
            "grid_gap": null,
            "max_width": null,
            "order": null,
            "_view_module_version": "1.2.0",
            "grid_template_areas": null,
            "object_position": null,
            "object_fit": null,
            "grid_auto_columns": null,
            "margin": null,
            "display": null,
            "left": null
          }
        },
        "57d4034445114eb3bbef28612afe266d": {
          "model_module": "@jupyter-widgets/controls",
          "model_name": "DescriptionStyleModel",
          "state": {
            "_view_name": "StyleView",
            "_model_name": "DescriptionStyleModel",
            "description_width": "",
            "_view_module": "@jupyter-widgets/base",
            "_model_module_version": "1.5.0",
            "_view_count": null,
            "_view_module_version": "1.2.0",
            "_model_module": "@jupyter-widgets/controls"
          }
        },
        "41699ffbe9514791b765cea52ba33cbf": {
          "model_module": "@jupyter-widgets/base",
          "model_name": "LayoutModel",
          "state": {
            "_view_name": "LayoutView",
            "grid_template_rows": null,
            "right": null,
            "justify_content": null,
            "_view_module": "@jupyter-widgets/base",
            "overflow": null,
            "_model_module_version": "1.2.0",
            "_view_count": null,
            "flex_flow": null,
            "width": null,
            "min_width": null,
            "border": null,
            "align_items": null,
            "bottom": null,
            "_model_module": "@jupyter-widgets/base",
            "top": null,
            "grid_column": null,
            "overflow_y": null,
            "overflow_x": null,
            "grid_auto_flow": null,
            "grid_area": null,
            "grid_template_columns": null,
            "flex": null,
            "_model_name": "LayoutModel",
            "justify_items": null,
            "grid_row": null,
            "max_height": null,
            "align_content": null,
            "visibility": null,
            "align_self": null,
            "height": null,
            "min_height": null,
            "padding": null,
            "grid_auto_rows": null,
            "grid_gap": null,
            "max_width": null,
            "order": null,
            "_view_module_version": "1.2.0",
            "grid_template_areas": null,
            "object_position": null,
            "object_fit": null,
            "grid_auto_columns": null,
            "margin": null,
            "display": null,
            "left": null
          }
        },
        "b463b11be0f0452c91569ad4f65b397f": {
          "model_module": "@jupyter-widgets/controls",
          "model_name": "HBoxModel",
          "state": {
            "_view_name": "HBoxView",
            "_dom_classes": [],
            "_model_name": "HBoxModel",
            "_view_module": "@jupyter-widgets/controls",
            "_model_module_version": "1.5.0",
            "_view_count": null,
            "_view_module_version": "1.5.0",
            "box_style": "",
            "layout": "IPY_MODEL_264e7c7929ab4fb5b716f2ad91e94371",
            "_model_module": "@jupyter-widgets/controls",
            "children": [
              "IPY_MODEL_95e93ab13cd746299b40f4b53f5d1655",
              "IPY_MODEL_158af628dc62452395ae9c7afd3195d8"
            ]
          }
        },
        "264e7c7929ab4fb5b716f2ad91e94371": {
          "model_module": "@jupyter-widgets/base",
          "model_name": "LayoutModel",
          "state": {
            "_view_name": "LayoutView",
            "grid_template_rows": null,
            "right": null,
            "justify_content": null,
            "_view_module": "@jupyter-widgets/base",
            "overflow": null,
            "_model_module_version": "1.2.0",
            "_view_count": null,
            "flex_flow": null,
            "width": null,
            "min_width": null,
            "border": null,
            "align_items": null,
            "bottom": null,
            "_model_module": "@jupyter-widgets/base",
            "top": null,
            "grid_column": null,
            "overflow_y": null,
            "overflow_x": null,
            "grid_auto_flow": null,
            "grid_area": null,
            "grid_template_columns": null,
            "flex": null,
            "_model_name": "LayoutModel",
            "justify_items": null,
            "grid_row": null,
            "max_height": null,
            "align_content": null,
            "visibility": null,
            "align_self": null,
            "height": null,
            "min_height": null,
            "padding": null,
            "grid_auto_rows": null,
            "grid_gap": null,
            "max_width": null,
            "order": null,
            "_view_module_version": "1.2.0",
            "grid_template_areas": null,
            "object_position": null,
            "object_fit": null,
            "grid_auto_columns": null,
            "margin": null,
            "display": null,
            "left": null
          }
        },
        "95e93ab13cd746299b40f4b53f5d1655": {
          "model_module": "@jupyter-widgets/controls",
          "model_name": "FloatProgressModel",
          "state": {
            "_view_name": "ProgressView",
            "style": "IPY_MODEL_13e743fd7d2846f8b39fe0ad22b22976",
            "_dom_classes": [],
            "description": "Batches: 100%",
            "_model_name": "FloatProgressModel",
            "bar_style": "success",
            "max": 3125,
            "_view_module": "@jupyter-widgets/controls",
            "_model_module_version": "1.5.0",
            "value": 3125,
            "_view_count": null,
            "_view_module_version": "1.5.0",
            "orientation": "horizontal",
            "min": 0,
            "description_tooltip": null,
            "_model_module": "@jupyter-widgets/controls",
            "layout": "IPY_MODEL_7c00e079a48c4699bf910f52e50a26b8"
          }
        },
        "158af628dc62452395ae9c7afd3195d8": {
          "model_module": "@jupyter-widgets/controls",
          "model_name": "HTMLModel",
          "state": {
            "_view_name": "HTMLView",
            "style": "IPY_MODEL_6733810ef30b41ca8885552c72cc2357",
            "_dom_classes": [],
            "description": "",
            "_model_name": "HTMLModel",
            "placeholder": "​",
            "_view_module": "@jupyter-widgets/controls",
            "_model_module_version": "1.5.0",
            "value": " 3125/3125 [09:46&lt;00:00,  5.33it/s]",
            "_view_count": null,
            "_view_module_version": "1.5.0",
            "description_tooltip": null,
            "_model_module": "@jupyter-widgets/controls",
            "layout": "IPY_MODEL_37e130b07e2c46daa3f9faa2f0a64e8b"
          }
        },
        "13e743fd7d2846f8b39fe0ad22b22976": {
          "model_module": "@jupyter-widgets/controls",
          "model_name": "ProgressStyleModel",
          "state": {
            "_view_name": "StyleView",
            "_model_name": "ProgressStyleModel",
            "description_width": "initial",
            "_view_module": "@jupyter-widgets/base",
            "_model_module_version": "1.5.0",
            "_view_count": null,
            "_view_module_version": "1.2.0",
            "bar_color": null,
            "_model_module": "@jupyter-widgets/controls"
          }
        },
        "7c00e079a48c4699bf910f52e50a26b8": {
          "model_module": "@jupyter-widgets/base",
          "model_name": "LayoutModel",
          "state": {
            "_view_name": "LayoutView",
            "grid_template_rows": null,
            "right": null,
            "justify_content": null,
            "_view_module": "@jupyter-widgets/base",
            "overflow": null,
            "_model_module_version": "1.2.0",
            "_view_count": null,
            "flex_flow": null,
            "width": null,
            "min_width": null,
            "border": null,
            "align_items": null,
            "bottom": null,
            "_model_module": "@jupyter-widgets/base",
            "top": null,
            "grid_column": null,
            "overflow_y": null,
            "overflow_x": null,
            "grid_auto_flow": null,
            "grid_area": null,
            "grid_template_columns": null,
            "flex": null,
            "_model_name": "LayoutModel",
            "justify_items": null,
            "grid_row": null,
            "max_height": null,
            "align_content": null,
            "visibility": null,
            "align_self": null,
            "height": null,
            "min_height": null,
            "padding": null,
            "grid_auto_rows": null,
            "grid_gap": null,
            "max_width": null,
            "order": null,
            "_view_module_version": "1.2.0",
            "grid_template_areas": null,
            "object_position": null,
            "object_fit": null,
            "grid_auto_columns": null,
            "margin": null,
            "display": null,
            "left": null
          }
        },
        "6733810ef30b41ca8885552c72cc2357": {
          "model_module": "@jupyter-widgets/controls",
          "model_name": "DescriptionStyleModel",
          "state": {
            "_view_name": "StyleView",
            "_model_name": "DescriptionStyleModel",
            "description_width": "",
            "_view_module": "@jupyter-widgets/base",
            "_model_module_version": "1.5.0",
            "_view_count": null,
            "_view_module_version": "1.2.0",
            "_model_module": "@jupyter-widgets/controls"
          }
        },
        "37e130b07e2c46daa3f9faa2f0a64e8b": {
          "model_module": "@jupyter-widgets/base",
          "model_name": "LayoutModel",
          "state": {
            "_view_name": "LayoutView",
            "grid_template_rows": null,
            "right": null,
            "justify_content": null,
            "_view_module": "@jupyter-widgets/base",
            "overflow": null,
            "_model_module_version": "1.2.0",
            "_view_count": null,
            "flex_flow": null,
            "width": null,
            "min_width": null,
            "border": null,
            "align_items": null,
            "bottom": null,
            "_model_module": "@jupyter-widgets/base",
            "top": null,
            "grid_column": null,
            "overflow_y": null,
            "overflow_x": null,
            "grid_auto_flow": null,
            "grid_area": null,
            "grid_template_columns": null,
            "flex": null,
            "_model_name": "LayoutModel",
            "justify_items": null,
            "grid_row": null,
            "max_height": null,
            "align_content": null,
            "visibility": null,
            "align_self": null,
            "height": null,
            "min_height": null,
            "padding": null,
            "grid_auto_rows": null,
            "grid_gap": null,
            "max_width": null,
            "order": null,
            "_view_module_version": "1.2.0",
            "grid_template_areas": null,
            "object_position": null,
            "object_fit": null,
            "grid_auto_columns": null,
            "margin": null,
            "display": null,
            "left": null
          }
        }
      }
    }
  },
  "cells": [
    {
      "cell_type": "code",
      "metadata": {
        "colab": {
          "base_uri": "https://localhost:8080/"
        },
        "id": "-DeZ_y38gmpp",
        "outputId": "ed7bcaa0-808d-4516-c5ab-2b6cb1d092e5"
      },
      "source": [
        "!pip install sentence-transformers"
      ],
      "execution_count": 3,
      "outputs": [
        {
          "output_type": "stream",
          "text": [
            "Collecting sentence-transformers\n",
            "\u001b[?25l  Downloading https://files.pythonhosted.org/packages/6a/e2/84d6acfcee2d83164149778a33b6bdd1a74e1bcb59b2b2cd1b861359b339/sentence-transformers-0.4.1.2.tar.gz (64kB)\n",
            "\u001b[K     |████████████████████████████████| 71kB 6.9MB/s \n",
            "\u001b[?25hCollecting transformers<5.0.0,>=3.1.0\n",
            "\u001b[?25l  Downloading https://files.pythonhosted.org/packages/88/b1/41130a228dd656a1a31ba281598a968320283f48d42782845f6ba567f00b/transformers-4.2.2-py3-none-any.whl (1.8MB)\n",
            "\u001b[K     |████████████████████████████████| 1.8MB 21.2MB/s \n",
            "\u001b[?25hRequirement already satisfied: tqdm in /usr/local/lib/python3.6/dist-packages (from sentence-transformers) (4.41.1)\n",
            "Requirement already satisfied: torch>=1.6.0 in /usr/local/lib/python3.6/dist-packages (from sentence-transformers) (1.7.0+cu101)\n",
            "Requirement already satisfied: numpy in /usr/local/lib/python3.6/dist-packages (from sentence-transformers) (1.19.5)\n",
            "Requirement already satisfied: scikit-learn in /usr/local/lib/python3.6/dist-packages (from sentence-transformers) (0.22.2.post1)\n",
            "Requirement already satisfied: scipy in /usr/local/lib/python3.6/dist-packages (from sentence-transformers) (1.4.1)\n",
            "Requirement already satisfied: nltk in /usr/local/lib/python3.6/dist-packages (from sentence-transformers) (3.2.5)\n",
            "Collecting sentencepiece\n",
            "\u001b[?25l  Downloading https://files.pythonhosted.org/packages/14/67/e42bd1181472c95c8cda79305df848264f2a7f62740995a46945d9797b67/sentencepiece-0.1.95-cp36-cp36m-manylinux2014_x86_64.whl (1.2MB)\n",
            "\u001b[K     |████████████████████████████████| 1.2MB 56.2MB/s \n",
            "\u001b[?25hCollecting sacremoses\n",
            "\u001b[?25l  Downloading https://files.pythonhosted.org/packages/7d/34/09d19aff26edcc8eb2a01bed8e98f13a1537005d31e95233fd48216eed10/sacremoses-0.0.43.tar.gz (883kB)\n",
            "\u001b[K     |████████████████████████████████| 890kB 53.1MB/s \n",
            "\u001b[?25hCollecting tokenizers==0.9.4\n",
            "\u001b[?25l  Downloading https://files.pythonhosted.org/packages/0f/1c/e789a8b12e28be5bc1ce2156cf87cb522b379be9cadc7ad8091a4cc107c4/tokenizers-0.9.4-cp36-cp36m-manylinux2010_x86_64.whl (2.9MB)\n",
            "\u001b[K     |████████████████████████████████| 2.9MB 46.6MB/s \n",
            "\u001b[?25hRequirement already satisfied: regex!=2019.12.17 in /usr/local/lib/python3.6/dist-packages (from transformers<5.0.0,>=3.1.0->sentence-transformers) (2019.12.20)\n",
            "Requirement already satisfied: filelock in /usr/local/lib/python3.6/dist-packages (from transformers<5.0.0,>=3.1.0->sentence-transformers) (3.0.12)\n",
            "Requirement already satisfied: packaging in /usr/local/lib/python3.6/dist-packages (from transformers<5.0.0,>=3.1.0->sentence-transformers) (20.8)\n",
            "Requirement already satisfied: importlib-metadata; python_version < \"3.8\" in /usr/local/lib/python3.6/dist-packages (from transformers<5.0.0,>=3.1.0->sentence-transformers) (3.3.0)\n",
            "Requirement already satisfied: requests in /usr/local/lib/python3.6/dist-packages (from transformers<5.0.0,>=3.1.0->sentence-transformers) (2.23.0)\n",
            "Requirement already satisfied: dataclasses; python_version < \"3.7\" in /usr/local/lib/python3.6/dist-packages (from transformers<5.0.0,>=3.1.0->sentence-transformers) (0.8)\n",
            "Requirement already satisfied: future in /usr/local/lib/python3.6/dist-packages (from torch>=1.6.0->sentence-transformers) (0.16.0)\n",
            "Requirement already satisfied: typing-extensions in /usr/local/lib/python3.6/dist-packages (from torch>=1.6.0->sentence-transformers) (3.7.4.3)\n",
            "Requirement already satisfied: joblib>=0.11 in /usr/local/lib/python3.6/dist-packages (from scikit-learn->sentence-transformers) (1.0.0)\n",
            "Requirement already satisfied: six in /usr/local/lib/python3.6/dist-packages (from nltk->sentence-transformers) (1.15.0)\n",
            "Requirement already satisfied: click in /usr/local/lib/python3.6/dist-packages (from sacremoses->transformers<5.0.0,>=3.1.0->sentence-transformers) (7.1.2)\n",
            "Requirement already satisfied: pyparsing>=2.0.2 in /usr/local/lib/python3.6/dist-packages (from packaging->transformers<5.0.0,>=3.1.0->sentence-transformers) (2.4.7)\n",
            "Requirement already satisfied: zipp>=0.5 in /usr/local/lib/python3.6/dist-packages (from importlib-metadata; python_version < \"3.8\"->transformers<5.0.0,>=3.1.0->sentence-transformers) (3.4.0)\n",
            "Requirement already satisfied: certifi>=2017.4.17 in /usr/local/lib/python3.6/dist-packages (from requests->transformers<5.0.0,>=3.1.0->sentence-transformers) (2020.12.5)\n",
            "Requirement already satisfied: urllib3!=1.25.0,!=1.25.1,<1.26,>=1.21.1 in /usr/local/lib/python3.6/dist-packages (from requests->transformers<5.0.0,>=3.1.0->sentence-transformers) (1.24.3)\n",
            "Requirement already satisfied: idna<3,>=2.5 in /usr/local/lib/python3.6/dist-packages (from requests->transformers<5.0.0,>=3.1.0->sentence-transformers) (2.10)\n",
            "Requirement already satisfied: chardet<4,>=3.0.2 in /usr/local/lib/python3.6/dist-packages (from requests->transformers<5.0.0,>=3.1.0->sentence-transformers) (3.0.4)\n",
            "Building wheels for collected packages: sentence-transformers, sacremoses\n",
            "  Building wheel for sentence-transformers (setup.py) ... \u001b[?25l\u001b[?25hdone\n",
            "  Created wheel for sentence-transformers: filename=sentence_transformers-0.4.1.2-cp36-none-any.whl size=103068 sha256=2c34b15bca6b838b44c4d8dd699ef6f88e3c8c4cbe67eab64a88a8634d0734b7\n",
            "  Stored in directory: /root/.cache/pip/wheels/3d/33/d1/5703dd56199c09d4a1b41e0c07fb4e7765a84d787cbdc48ac3\n",
            "  Building wheel for sacremoses (setup.py) ... \u001b[?25l\u001b[?25hdone\n",
            "  Created wheel for sacremoses: filename=sacremoses-0.0.43-cp36-none-any.whl size=893261 sha256=b72f2848520a75f075efd2474480b947bc8885ed6973a79a50e17bac26be5a27\n",
            "  Stored in directory: /root/.cache/pip/wheels/29/3c/fd/7ce5c3f0666dab31a50123635e6fb5e19ceb42ce38d4e58f45\n",
            "Successfully built sentence-transformers sacremoses\n",
            "Installing collected packages: sacremoses, tokenizers, transformers, sentencepiece, sentence-transformers\n",
            "Successfully installed sacremoses-0.0.43 sentence-transformers-0.4.1.2 sentencepiece-0.1.95 tokenizers-0.9.4 transformers-4.2.2\n"
          ],
          "name": "stdout"
        }
      ]
    },
    {
      "cell_type": "code",
      "metadata": {
        "id": "PM6mM4ySLteo",
        "colab": {
          "base_uri": "https://localhost:8080/"
        },
        "outputId": "000973c0-a0bd-4ac1-daa9-3930b55d3433"
      },
      "source": [
        "import pandas as pd\r\n",
        "from urllib.parse import unquote\r\n",
        "import pickle\r\n",
        "import re\r\n",
        "import numpy as np\r\n",
        "from sentence_transformers import SentenceTransformer\r\n",
        "from sentence_transformers.util import semantic_search\r\n",
        "from nltk import tokenize\r\n",
        "import nltk.data\r\n",
        "nltk.download('punkt')\r\n",
        "import math\r\n",
        "from torch.utils.data import DataLoader\r\n",
        "from sentence_transformers import SentenceTransformer, LoggingHandler, util, models, evaluation, losses, InputExample\r\n",
        "import logging\r\n",
        "from datetime import datetime\r\n",
        "import gzip\r\n",
        "import os\r\n",
        "import tarfile\r\n",
        "from collections import defaultdict\r\n",
        "from torch.utils.data import IterableDataset\r\n",
        "from torch.utils.data import DataLoader\r\n",
        "from sentence_transformers import models, losses, util\r\n",
        "from sentence_transformers.cross_encoder import CrossEncoder\r\n",
        "from sentence_transformers.cross_encoder.evaluation import CECorrelationEvaluator\r\n",
        "from sentence_transformers.evaluation import EmbeddingSimilarityEvaluator, BinaryClassificationEvaluator\r\n",
        "from sentence_transformers.readers import InputExample\r\n",
        "from datetime import datetime\r\n",
        "from zipfile import ZipFile\r\n",
        "import logging\r\n",
        "import csv\r\n",
        "import sys\r\n",
        "import torch\r\n",
        "import math\r\n",
        "import gzip\r\n",
        "import os\r\n",
        "from sentence_transformers import SentenceTransformer, LoggingHandler"
      ],
      "execution_count": 4,
      "outputs": [
        {
          "output_type": "stream",
          "text": [
            "[nltk_data] Downloading package punkt to /root/nltk_data...\n",
            "[nltk_data]   Unzipping tokenizers/punkt.zip.\n"
          ],
          "name": "stdout"
        }
      ]
    },
    {
      "cell_type": "code",
      "metadata": {
        "id": "zovHNlBPHTeL"
      },
      "source": [
        "!rm -r /content/output"
      ],
      "execution_count": 2,
      "outputs": []
    },
    {
      "cell_type": "markdown",
      "metadata": {
        "id": "TNGexvNxpXSI"
      },
      "source": [
        "# Czywiesz data preprocessing"
      ]
    },
    {
      "cell_type": "code",
      "metadata": {
        "id": "Zxx_MElHLwG-"
      },
      "source": [
        "with open('/content/drive/MyDrive/czywieszki/questions_links.txt', 'r') as f:\r\n",
        "  questions = f.read() "
      ],
      "execution_count": null,
      "outputs": []
    },
    {
      "cell_type": "code",
      "metadata": {
        "colab": {
          "base_uri": "https://localhost:8080/"
        },
        "id": "oO1VZo7sML4l",
        "outputId": "ac173cd0-1ef4-4173-ef46-e8a8ce60b83b"
      },
      "source": [
        "questions = questions.split('\\n')\r\n",
        "questions = [q.split(';') for q in questions]\r\n",
        "questions[:10]"
      ],
      "execution_count": null,
      "outputs": [
        {
          "output_type": "execute_result",
          "data": {
            "text/plain": [
              "[['kto używał noża bojowego M3?',\n",
              "  'http://pl.wikipedia.org/wiki/N%C3%B3%C5%BC_bojowy_M3'],\n",
              " ['jaki los spotkał sosnę Sosienkę z Brzezia, dzielnicy Raciborza?',\n",
              "  'http://pl.wikipedia.org/wiki/Sosienka'],\n",
              " ['ile kontenerów w ciągu roku przeładowuje się w porcie Keelung na Tajwanie?',\n",
              "  'http://pl.wikipedia.org/wiki/Port_Keelung'],\n",
              " ['jak zakończyła się pierwsza bitwa morska wojny koreańskiej?',\n",
              "  'http://pl.wikipedia.org/wiki/Bitwa_pod_Pusanem'],\n",
              " ['w jaki sposób zasilane są łaziki służące do badania planet i ich księżyców?',\n",
              "  'http://pl.wikipedia.org/wiki/%C5%81azik_(badania_kosmosu)'],\n",
              " ['czy Cyryl Lukaris sympatyzował z kalwinizmem?',\n",
              "  'http://pl.wikipedia.org/wiki/Cyryl_Lukaris'],\n",
              " ['kto stworzył pierwsze graficzne przedstawienie centrum dzisiejszych Katowic?',\n",
              "  'http://pl.wikipedia.org/wiki/Ernest_Knippel'],\n",
              " ['jakie implikacje dla potencjalnego życia pozaziemskiego ma bakteria GFAJ-1?',\n",
              "  'http://pl.wikipedia.org/wiki/GFAJ-1'],\n",
              " ['co stało się przyczyną zamieszek w Grodzisku Dolnym w 1933?',\n",
              "  'http://pl.wikipedia.org/wiki/Zamieszki_w_Grodzisku_Dolnym'],\n",
              " ['żołnierze z ilu krajów są pochowani na cmentarzu wojennym nr 304?',\n",
              "  'http://pl.wikipedia.org/wiki/Cmentarz_wojenny_nr_304_-_%C5%81%C4%85kta_G%C3%B3rna']]"
            ]
          },
          "metadata": {
            "tags": []
          },
          "execution_count": 3
        }
      ]
    },
    {
      "cell_type": "code",
      "metadata": {
        "id": "yRXhuLHXQam0"
      },
      "source": [
        "titles = [unquote(q[1]).split('/')[-1] for q in questions if len(q) == 2]"
      ],
      "execution_count": null,
      "outputs": []
    },
    {
      "cell_type": "code",
      "metadata": {
        "id": "JsBf2t2YRSMS"
      },
      "source": [
        "df = pickle.load( open( '/content/drive/MyDrive/Wikipedia/wikipedia.pickle', 'rb' ))"
      ],
      "execution_count": null,
      "outputs": []
    },
    {
      "cell_type": "code",
      "metadata": {
        "colab": {
          "base_uri": "https://localhost:8080/",
          "height": 206
        },
        "id": "spsLWV9hR9tC",
        "outputId": "50d2734c-dd35-4cba-dd63-e423a25f54f7"
      },
      "source": [
        "df.head()"
      ],
      "execution_count": null,
      "outputs": [
        {
          "output_type": "execute_result",
          "data": {
            "text/html": [
              "<div>\n",
              "<style scoped>\n",
              "    .dataframe tbody tr th:only-of-type {\n",
              "        vertical-align: middle;\n",
              "    }\n",
              "\n",
              "    .dataframe tbody tr th {\n",
              "        vertical-align: top;\n",
              "    }\n",
              "\n",
              "    .dataframe thead th {\n",
              "        text-align: right;\n",
              "    }\n",
              "</style>\n",
              "<table border=\"1\" class=\"dataframe\">\n",
              "  <thead>\n",
              "    <tr style=\"text-align: right;\">\n",
              "      <th></th>\n",
              "      <th>id</th>\n",
              "      <th>url</th>\n",
              "      <th>title</th>\n",
              "      <th>text</th>\n",
              "    </tr>\n",
              "  </thead>\n",
              "  <tbody>\n",
              "    <tr>\n",
              "      <th>0</th>\n",
              "      <td>2069101</td>\n",
              "      <td>http://pl.wikipedia.org/wiki/?curid=2069101</td>\n",
              "      <td>Parafia Matki Bożej Miłosierdzia Ostrobamskiej...</td>\n",
              "      <td>Parafia Matki Bożej Miłosierdzia - Matki Bożej...</td>\n",
              "    </tr>\n",
              "    <tr>\n",
              "      <th>1</th>\n",
              "      <td>2069102</td>\n",
              "      <td>http://pl.wikipedia.org/wiki/?curid=2069102</td>\n",
              "      <td>Parafia Wniebowzięcia Najświętszej Maryi Panny...</td>\n",
              "      <td>Parafia pw. Wniebowzięcia Najświętszej Maryi P...</td>\n",
              "    </tr>\n",
              "    <tr>\n",
              "      <th>2</th>\n",
              "      <td>2069104</td>\n",
              "      <td>http://pl.wikipedia.org/wiki/?curid=2069104</td>\n",
              "      <td>Parafia Matki Bożej Częstochowskiej w Wilamowie</td>\n",
              "      <td>Parafia Matki Bożej Częstochowskiej w Wilamowi...</td>\n",
              "    </tr>\n",
              "    <tr>\n",
              "      <th>3</th>\n",
              "      <td>2069107</td>\n",
              "      <td>http://pl.wikipedia.org/wiki/?curid=2069107</td>\n",
              "      <td>Parafia św. Tomasza Apostoła w Rybotyczach</td>\n",
              "      <td>Parafia pw. Świętego Tomasza Apostoła w Ryboty...</td>\n",
              "    </tr>\n",
              "    <tr>\n",
              "      <th>4</th>\n",
              "      <td>2069108</td>\n",
              "      <td>http://pl.wikipedia.org/wiki/?curid=2069108</td>\n",
              "      <td>Ił-78</td>\n",
              "      <td>Ił-78 – rosyjski powietrzny tankowiec (ros. \"И...</td>\n",
              "    </tr>\n",
              "  </tbody>\n",
              "</table>\n",
              "</div>"
            ],
            "text/plain": [
              "        id  ...                                               text\n",
              "0  2069101  ...  Parafia Matki Bożej Miłosierdzia - Matki Bożej...\n",
              "1  2069102  ...  Parafia pw. Wniebowzięcia Najświętszej Maryi P...\n",
              "2  2069104  ...  Parafia Matki Bożej Częstochowskiej w Wilamowi...\n",
              "3  2069107  ...  Parafia pw. Świętego Tomasza Apostoła w Ryboty...\n",
              "4  2069108  ...  Ił-78 – rosyjski powietrzny tankowiec (ros. \"И...\n",
              "\n",
              "[5 rows x 4 columns]"
            ]
          },
          "metadata": {
            "tags": []
          },
          "execution_count": 6
        }
      ]
    },
    {
      "cell_type": "code",
      "metadata": {
        "id": "5P0l6e04SOzZ"
      },
      "source": [
        "titles = [re.sub('_', ' ', title) for title in titles]"
      ],
      "execution_count": null,
      "outputs": []
    },
    {
      "cell_type": "code",
      "metadata": {
        "id": "H9np9vfiTGyk"
      },
      "source": [
        "questions = [q[0] for q in questions if len(q) == 2]"
      ],
      "execution_count": null,
      "outputs": []
    },
    {
      "cell_type": "code",
      "metadata": {
        "colab": {
          "base_uri": "https://localhost:8080/"
        },
        "id": "mGxbsJKSScs6",
        "outputId": "e62b725b-0cdd-493d-a5b9-91196601e261"
      },
      "source": [
        "df_titles = df['title'].tolist()\r\n",
        "count = 0\r\n",
        "for i in range(len(titles)):\r\n",
        "  title = titles[i]\r\n",
        "  if i % 100 == 0:\r\n",
        "    print(i, 'from', len(titles), 'count', count)\r\n",
        "  mask = df['title'] == title\r\n",
        "  if mask.sum() > 0:\r\n",
        "    idx = df.index[mask][0]\r\n",
        "    question = questions[i]\r\n",
        "    df.loc[mask, 'question'] = question\r\n",
        "    count += 1"
      ],
      "execution_count": null,
      "outputs": [
        {
          "output_type": "stream",
          "text": [
            "0 from 4996 count 0\n",
            "100 from 4996 count 97\n",
            "200 from 4996 count 188\n",
            "300 from 4996 count 285\n",
            "400 from 4996 count 380\n",
            "500 from 4996 count 477\n",
            "600 from 4996 count 574\n",
            "700 from 4996 count 672\n",
            "800 from 4996 count 772\n",
            "900 from 4996 count 867\n",
            "1000 from 4996 count 964\n",
            "1100 from 4996 count 1059\n",
            "1200 from 4996 count 1158\n",
            "1300 from 4996 count 1253\n",
            "1400 from 4996 count 1350\n",
            "1500 from 4996 count 1450\n",
            "1600 from 4996 count 1550\n",
            "1700 from 4996 count 1646\n",
            "1800 from 4996 count 1746\n",
            "1900 from 4996 count 1842\n",
            "2000 from 4996 count 1940\n",
            "2100 from 4996 count 2037\n",
            "2200 from 4996 count 2132\n",
            "2300 from 4996 count 2232\n",
            "2400 from 4996 count 2331\n",
            "2500 from 4996 count 2431\n",
            "2600 from 4996 count 2529\n",
            "2700 from 4996 count 2629\n",
            "2800 from 4996 count 2723\n",
            "2900 from 4996 count 2820\n",
            "3000 from 4996 count 2918\n",
            "3100 from 4996 count 3018\n",
            "3200 from 4996 count 3117\n",
            "3300 from 4996 count 3216\n",
            "3400 from 4996 count 3315\n",
            "3500 from 4996 count 3414\n",
            "3600 from 4996 count 3514\n",
            "3700 from 4996 count 3583\n",
            "3800 from 4996 count 3679\n",
            "3900 from 4996 count 3777\n",
            "4000 from 4996 count 3871\n",
            "4100 from 4996 count 3967\n",
            "4200 from 4996 count 4064\n",
            "4300 from 4996 count 4160\n",
            "4400 from 4996 count 4250\n",
            "4500 from 4996 count 4345\n",
            "4600 from 4996 count 4440\n",
            "4700 from 4996 count 4535\n",
            "4800 from 4996 count 4630\n",
            "4900 from 4996 count 4728\n"
          ],
          "name": "stdout"
        }
      ]
    },
    {
      "cell_type": "code",
      "metadata": {
        "colab": {
          "base_uri": "https://localhost:8080/"
        },
        "id": "EnsT2fWKZhtx",
        "outputId": "cc697713-b39e-4f06-c3ed-1a255827e435"
      },
      "source": [
        "count"
      ],
      "execution_count": null,
      "outputs": [
        {
          "output_type": "execute_result",
          "data": {
            "text/plain": [
              "4821"
            ]
          },
          "metadata": {
            "tags": []
          },
          "execution_count": 10
        }
      ]
    },
    {
      "cell_type": "code",
      "metadata": {
        "id": "HHjfimMLYWZ1"
      },
      "source": [
        "mask = df['question'].isna()"
      ],
      "execution_count": null,
      "outputs": []
    },
    {
      "cell_type": "code",
      "metadata": {
        "colab": {
          "base_uri": "https://localhost:8080/"
        },
        "id": "8Pxk2fG3YYMw",
        "outputId": "971fe89d-c671-4ba1-e0d2-21381bba56e5"
      },
      "source": [
        "mask.sum()"
      ],
      "execution_count": null,
      "outputs": [
        {
          "output_type": "execute_result",
          "data": {
            "text/plain": [
              "890669"
            ]
          },
          "metadata": {
            "tags": []
          },
          "execution_count": 92
        }
      ]
    },
    {
      "cell_type": "code",
      "metadata": {
        "colab": {
          "base_uri": "https://localhost:8080/"
        },
        "id": "mrR3Jo0PYird",
        "outputId": "d2edc4aa-3126-4218-8868-abbf2a10ea4c"
      },
      "source": [
        "pd.set_option('display.max_colwidth', -1)"
      ],
      "execution_count": null,
      "outputs": [
        {
          "output_type": "stream",
          "text": [
            "/usr/local/lib/python3.6/dist-packages/ipykernel_launcher.py:1: FutureWarning: Passing a negative integer is deprecated in version 1.0 and will not be supported in future version. Instead, use None to not limit the column width.\n",
            "  \"\"\"Entry point for launching an IPython kernel.\n"
          ],
          "name": "stderr"
        }
      ]
    },
    {
      "cell_type": "code",
      "metadata": {
        "colab": {
          "base_uri": "https://localhost:8080/",
          "height": 206
        },
        "id": "a97jx9EvVrb5",
        "outputId": "f368b5b2-db22-45dd-ae48-74bc8e738976"
      },
      "source": [
        "df.loc[~mask].head()"
      ],
      "execution_count": null,
      "outputs": [
        {
          "output_type": "execute_result",
          "data": {
            "text/html": [
              "<div>\n",
              "<style scoped>\n",
              "    .dataframe tbody tr th:only-of-type {\n",
              "        vertical-align: middle;\n",
              "    }\n",
              "\n",
              "    .dataframe tbody tr th {\n",
              "        vertical-align: top;\n",
              "    }\n",
              "\n",
              "    .dataframe thead th {\n",
              "        text-align: right;\n",
              "    }\n",
              "</style>\n",
              "<table border=\"1\" class=\"dataframe\">\n",
              "  <thead>\n",
              "    <tr style=\"text-align: right;\">\n",
              "      <th></th>\n",
              "      <th>id</th>\n",
              "      <th>url</th>\n",
              "      <th>title</th>\n",
              "      <th>text</th>\n",
              "      <th>question</th>\n",
              "    </tr>\n",
              "  </thead>\n",
              "  <tbody>\n",
              "    <tr>\n",
              "      <th>0</th>\n",
              "      <td>2069101</td>\n",
              "      <td>http://pl.wikipedia.org/wiki/?curid=2069101</td>\n",
              "      <td>Parafia Matki Bożej Miłosierdzia Ostrobamskiej...</td>\n",
              "      <td>Parafia Matki Bożej Miłosierdzia - Matki Bożej...</td>\n",
              "      <td>NaN</td>\n",
              "    </tr>\n",
              "    <tr>\n",
              "      <th>1</th>\n",
              "      <td>2069102</td>\n",
              "      <td>http://pl.wikipedia.org/wiki/?curid=2069102</td>\n",
              "      <td>Parafia Wniebowzięcia Najświętszej Maryi Panny...</td>\n",
              "      <td>Parafia pw. Wniebowzięcia Najświętszej Maryi P...</td>\n",
              "      <td>NaN</td>\n",
              "    </tr>\n",
              "    <tr>\n",
              "      <th>2</th>\n",
              "      <td>2069104</td>\n",
              "      <td>http://pl.wikipedia.org/wiki/?curid=2069104</td>\n",
              "      <td>Parafia Matki Bożej Częstochowskiej w Wilamowie</td>\n",
              "      <td>Parafia Matki Bożej Częstochowskiej w Wilamowi...</td>\n",
              "      <td>NaN</td>\n",
              "    </tr>\n",
              "    <tr>\n",
              "      <th>3</th>\n",
              "      <td>2069107</td>\n",
              "      <td>http://pl.wikipedia.org/wiki/?curid=2069107</td>\n",
              "      <td>Parafia św. Tomasza Apostoła w Rybotyczach</td>\n",
              "      <td>Parafia pw. Świętego Tomasza Apostoła w Ryboty...</td>\n",
              "      <td>NaN</td>\n",
              "    </tr>\n",
              "    <tr>\n",
              "      <th>4</th>\n",
              "      <td>2069108</td>\n",
              "      <td>http://pl.wikipedia.org/wiki/?curid=2069108</td>\n",
              "      <td>Ił-78</td>\n",
              "      <td>Ił-78 – rosyjski powietrzny tankowiec (ros. \"И...</td>\n",
              "      <td>NaN</td>\n",
              "    </tr>\n",
              "  </tbody>\n",
              "</table>\n",
              "</div>"
            ],
            "text/plain": [
              "        id  ... question\n",
              "0  2069101  ...      NaN\n",
              "1  2069102  ...      NaN\n",
              "2  2069104  ...      NaN\n",
              "3  2069107  ...      NaN\n",
              "4  2069108  ...      NaN\n",
              "\n",
              "[5 rows x 5 columns]"
            ]
          },
          "metadata": {
            "tags": []
          },
          "execution_count": 11
        }
      ]
    },
    {
      "cell_type": "markdown",
      "metadata": {
        "id": "QYxY09rmhzzW"
      },
      "source": [
        "# Searching for answers"
      ]
    },
    {
      "cell_type": "code",
      "metadata": {
        "id": "W8GPq4zB3DOz"
      },
      "source": [
        "full = pd.read_csv('/content/drive/MyDrive/czywieszki/answers.csv')\r\n",
        "full.drop(columns=['Unnamed: 0', 'Unnamed: 0.1', 'sentence'], inplace=True)\r\n",
        "full.head()"
      ],
      "execution_count": null,
      "outputs": []
    },
    {
      "cell_type": "code",
      "metadata": {
        "colab": {
          "base_uri": "https://localhost:8080/",
          "height": 293
        },
        "id": "RKEcgE17IKnJ",
        "outputId": "6424b857-7229-4b19-e45c-fc9168cce42d"
      },
      "source": [
        "full.head()"
      ],
      "execution_count": null,
      "outputs": [
        {
          "output_type": "execute_result",
          "data": {
            "text/html": [
              "<div>\n",
              "<style scoped>\n",
              "    .dataframe tbody tr th:only-of-type {\n",
              "        vertical-align: middle;\n",
              "    }\n",
              "\n",
              "    .dataframe tbody tr th {\n",
              "        vertical-align: top;\n",
              "    }\n",
              "\n",
              "    .dataframe thead th {\n",
              "        text-align: right;\n",
              "    }\n",
              "</style>\n",
              "<table border=\"1\" class=\"dataframe\">\n",
              "  <thead>\n",
              "    <tr style=\"text-align: right;\">\n",
              "      <th></th>\n",
              "      <th>id</th>\n",
              "      <th>url</th>\n",
              "      <th>title</th>\n",
              "      <th>text</th>\n",
              "      <th>question</th>\n",
              "      <th>answer</th>\n",
              "    </tr>\n",
              "  </thead>\n",
              "  <tbody>\n",
              "    <tr>\n",
              "      <th>0</th>\n",
              "      <td>2070375</td>\n",
              "      <td>http://pl.wikipedia.org/wiki/?curid=2070375</td>\n",
              "      <td>R136a1</td>\n",
              "      <td>R136a1 – gwiazda Wolfa-Rayeta typu widmowego W...</td>\n",
              "      <td>gdzie zaobserwowano najmasywniejszą znaną gwia...</td>\n",
              "      <td>Na uzyskanych dzięki niemu zdjęciach można był...</td>\n",
              "    </tr>\n",
              "    <tr>\n",
              "      <th>1</th>\n",
              "      <td>2070656</td>\n",
              "      <td>http://pl.wikipedia.org/wiki/?curid=2070656</td>\n",
              "      <td>Apoteoza wojny</td>\n",
              "      <td>Apoteoza wojny (oryg. ros. Апофеоз войны, \"Apo...</td>\n",
              "      <td>komu Wasilij Wierieszczagin zadedykował swój o...</td>\n",
              "      <td>Апофеоз войны, \"Apofieoz wojny\") – obraz Wasil...</td>\n",
              "    </tr>\n",
              "    <tr>\n",
              "      <th>2</th>\n",
              "      <td>2070790</td>\n",
              "      <td>http://pl.wikipedia.org/wiki/?curid=2070790</td>\n",
              "      <td>Widzenie chłopca Bartłomieja</td>\n",
              "      <td>Widzenie chłopca Bartłomieja (oryg. ros. \"Виде...</td>\n",
              "      <td>który święty prawosławny został ukazany na obr...</td>\n",
              "      <td>Niestierow pragnął swoimi dziełami oddać hołd ...</td>\n",
              "    </tr>\n",
              "    <tr>\n",
              "      <th>3</th>\n",
              "      <td>2071346</td>\n",
              "      <td>http://pl.wikipedia.org/wiki/?curid=2071346</td>\n",
              "      <td>Cangjang Gjaco</td>\n",
              "      <td>Cangjang Gjaco (tyb. ཚང་དབྱངས་རྒྱ་མཚོ་ Wylie: ...</td>\n",
              "      <td>któremu dalajlamie przypisuje się nieśmierteln...</td>\n",
              "      <td>Wśród świeckich tybetańskich rozpowszechnione ...</td>\n",
              "    </tr>\n",
              "    <tr>\n",
              "      <th>4</th>\n",
              "      <td>2071390</td>\n",
              "      <td>http://pl.wikipedia.org/wiki/?curid=2071390</td>\n",
              "      <td>Wojna erytrejsko-etiopska</td>\n",
              "      <td>Wojna erytrejsko-etiopska trwała w latach 1998...</td>\n",
              "      <td>jakie były skutki wojny erytrejsko-etiopskiej?</td>\n",
              "      <td>W wyniku działań wojsk etiopskich do przesiedl...</td>\n",
              "    </tr>\n",
              "  </tbody>\n",
              "</table>\n",
              "</div>"
            ],
            "text/plain": [
              "        id  ...                                             answer\n",
              "0  2070375  ...  Na uzyskanych dzięki niemu zdjęciach można był...\n",
              "1  2070656  ...  Апофеоз войны, \"Apofieoz wojny\") – obraz Wasil...\n",
              "2  2070790  ...  Niestierow pragnął swoimi dziełami oddać hołd ...\n",
              "3  2071346  ...  Wśród świeckich tybetańskich rozpowszechnione ...\n",
              "4  2071390  ...  W wyniku działań wojsk etiopskich do przesiedl...\n",
              "\n",
              "[5 rows x 6 columns]"
            ]
          },
          "metadata": {
            "tags": []
          },
          "execution_count": 10
        }
      ]
    },
    {
      "cell_type": "code",
      "metadata": {
        "id": "HIhaKiDNOG1S",
        "colab": {
          "base_uri": "https://localhost:8080/"
        },
        "outputId": "28e2cfbf-e053-42ed-b7ee-5795dd75f980"
      },
      "source": [
        "model = SentenceTransformer('paraphrase-xlm-r-multilingual-v1')"
      ],
      "execution_count": null,
      "outputs": [
        {
          "output_type": "stream",
          "text": [
            "2021-01-22 17:23:30 - Load pretrained SentenceTransformer: paraphrase-xlm-r-multilingual-v1\n",
            "2021-01-22 17:23:30 - Did not find folder paraphrase-xlm-r-multilingual-v1\n",
            "2021-01-22 17:23:30 - Try to download model from server: https://sbert.net/models/paraphrase-xlm-r-multilingual-v1.zip\n",
            "2021-01-22 17:23:30 - Downloading sentence transformer model from https://sbert.net/models/paraphrase-xlm-r-multilingual-v1.zip and saving it at /root/.cache/torch/sentence_transformers/sbert.net_models_paraphrase-xlm-r-multilingual-v1\n"
          ],
          "name": "stdout"
        },
        {
          "output_type": "stream",
          "text": [
            "100%|██████████| 1.01G/1.01G [00:49<00:00, 20.3MB/s]\n"
          ],
          "name": "stderr"
        },
        {
          "output_type": "stream",
          "text": [
            "2021-01-22 17:24:31 - Load SentenceTransformer from folder: /root/.cache/torch/sentence_transformers/sbert.net_models_paraphrase-xlm-r-multilingual-v1\n",
            "2021-01-22 17:24:38 - Use pytorch device: cuda\n"
          ],
          "name": "stdout"
        }
      ]
    },
    {
      "cell_type": "code",
      "metadata": {
        "colab": {
          "base_uri": "https://localhost:8080/",
          "height": 293
        },
        "id": "ncrWZY_Oh-oK",
        "outputId": "79619567-6c10-4fcb-8fb2-ccbbe5343570"
      },
      "source": [
        "#full = df.loc[~mask]\r\n",
        "#full.reset_index(drop=True, inplace=True)\r\n",
        "#full.head()"
      ],
      "execution_count": null,
      "outputs": [
        {
          "output_type": "execute_result",
          "data": {
            "text/html": [
              "<div>\n",
              "<style scoped>\n",
              "    .dataframe tbody tr th:only-of-type {\n",
              "        vertical-align: middle;\n",
              "    }\n",
              "\n",
              "    .dataframe tbody tr th {\n",
              "        vertical-align: top;\n",
              "    }\n",
              "\n",
              "    .dataframe thead th {\n",
              "        text-align: right;\n",
              "    }\n",
              "</style>\n",
              "<table border=\"1\" class=\"dataframe\">\n",
              "  <thead>\n",
              "    <tr style=\"text-align: right;\">\n",
              "      <th></th>\n",
              "      <th>id</th>\n",
              "      <th>url</th>\n",
              "      <th>title</th>\n",
              "      <th>text</th>\n",
              "      <th>question</th>\n",
              "    </tr>\n",
              "  </thead>\n",
              "  <tbody>\n",
              "    <tr>\n",
              "      <th>0</th>\n",
              "      <td>2070375</td>\n",
              "      <td>http://pl.wikipedia.org/wiki/?curid=2070375</td>\n",
              "      <td>R136a1</td>\n",
              "      <td>R136a1 – gwiazda Wolfa-Rayeta typu widmowego W...</td>\n",
              "      <td>gdzie zaobserwowano najmasywniejszą znaną gwia...</td>\n",
              "    </tr>\n",
              "    <tr>\n",
              "      <th>1</th>\n",
              "      <td>2070656</td>\n",
              "      <td>http://pl.wikipedia.org/wiki/?curid=2070656</td>\n",
              "      <td>Apoteoza wojny</td>\n",
              "      <td>Apoteoza wojny (oryg. ros. Апофеоз войны, \"Apo...</td>\n",
              "      <td>komu Wasilij Wierieszczagin zadedykował swój o...</td>\n",
              "    </tr>\n",
              "    <tr>\n",
              "      <th>2</th>\n",
              "      <td>2070790</td>\n",
              "      <td>http://pl.wikipedia.org/wiki/?curid=2070790</td>\n",
              "      <td>Widzenie chłopca Bartłomieja</td>\n",
              "      <td>Widzenie chłopca Bartłomieja (oryg. ros. \"Виде...</td>\n",
              "      <td>który święty prawosławny został ukazany na obr...</td>\n",
              "    </tr>\n",
              "    <tr>\n",
              "      <th>3</th>\n",
              "      <td>2071346</td>\n",
              "      <td>http://pl.wikipedia.org/wiki/?curid=2071346</td>\n",
              "      <td>Cangjang Gjaco</td>\n",
              "      <td>Cangjang Gjaco (tyb. ཚང་དབྱངས་རྒྱ་མཚོ་ Wylie: ...</td>\n",
              "      <td>któremu dalajlamie przypisuje się nieśmierteln...</td>\n",
              "    </tr>\n",
              "    <tr>\n",
              "      <th>4</th>\n",
              "      <td>2071390</td>\n",
              "      <td>http://pl.wikipedia.org/wiki/?curid=2071390</td>\n",
              "      <td>Wojna erytrejsko-etiopska</td>\n",
              "      <td>Wojna erytrejsko-etiopska trwała w latach 1998...</td>\n",
              "      <td>jakie były skutki wojny erytrejsko-etiopskiej?</td>\n",
              "    </tr>\n",
              "  </tbody>\n",
              "</table>\n",
              "</div>"
            ],
            "text/plain": [
              "        id  ...                                           question\n",
              "0  2070375  ...  gdzie zaobserwowano najmasywniejszą znaną gwia...\n",
              "1  2070656  ...  komu Wasilij Wierieszczagin zadedykował swój o...\n",
              "2  2070790  ...  który święty prawosławny został ukazany na obr...\n",
              "3  2071346  ...  któremu dalajlamie przypisuje się nieśmierteln...\n",
              "4  2071390  ...     jakie były skutki wojny erytrejsko-etiopskiej?\n",
              "\n",
              "[5 rows x 5 columns]"
            ]
          },
          "metadata": {
            "tags": []
          },
          "execution_count": 34
        }
      ]
    },
    {
      "cell_type": "code",
      "metadata": {
        "id": "N36_LVfx3swh"
      },
      "source": [
        "tokenizer = nltk.data.load('tokenizers/punkt/polish.pickle')"
      ],
      "execution_count": null,
      "outputs": []
    },
    {
      "cell_type": "code",
      "metadata": {
        "id": "g_jqgbs5swhe"
      },
      "source": [
        "def text2sent(text):\r\n",
        "  threshold = 5\r\n",
        "  sentences = tokenizer.sentences_from_text(text)\r\n",
        "  sentences = [sent for sent in sentences if len(sent.split(' ')) >= threshold]\r\n",
        "  concatenated = [sentences[i-1] + ' ' + sentences[i] for i in range(1,len(sentences))]\r\n",
        "  sentences += concatenated\r\n",
        "  return sentences"
      ],
      "execution_count": null,
      "outputs": []
    },
    {
      "cell_type": "code",
      "metadata": {
        "id": "bPqDQakEIVFI"
      },
      "source": [
        "def divide_into_par(text, threshold=10):\r\n",
        "  splits = text.split('\\n')\r\n",
        "  pars = []\r\n",
        "  par = ''\r\n",
        "  for split in splits:\r\n",
        "    words = split.split(' ')\r\n",
        "    if len(words) > 0 and len(words) < threshold:\r\n",
        "      if len(par) > 0:\r\n",
        "        pars.append(par)\r\n",
        "        par = ''\r\n",
        "    elif len(words) > threshold:\r\n",
        "      par += split\r\n",
        "  if len(pars) > 0:\r\n",
        "    return pars\r\n",
        "  return [text]"
      ],
      "execution_count": null,
      "outputs": []
    },
    {
      "cell_type": "code",
      "metadata": {
        "colab": {
          "base_uri": "https://localhost:8080/",
          "height": 310
        },
        "id": "L2yfMz2ijpo-",
        "outputId": "e38a8e41-93dd-470b-ab58-98191818d51c"
      },
      "source": [
        "full['pars'] = full['text'].apply(divide_into_par)\r\n",
        "full.dropna(inplace=True)\r\n",
        "full.reset_index(drop=True, inplace=True)\r\n",
        "full.head()"
      ],
      "execution_count": null,
      "outputs": [
        {
          "output_type": "execute_result",
          "data": {
            "text/html": [
              "<div>\n",
              "<style scoped>\n",
              "    .dataframe tbody tr th:only-of-type {\n",
              "        vertical-align: middle;\n",
              "    }\n",
              "\n",
              "    .dataframe tbody tr th {\n",
              "        vertical-align: top;\n",
              "    }\n",
              "\n",
              "    .dataframe thead th {\n",
              "        text-align: right;\n",
              "    }\n",
              "</style>\n",
              "<table border=\"1\" class=\"dataframe\">\n",
              "  <thead>\n",
              "    <tr style=\"text-align: right;\">\n",
              "      <th></th>\n",
              "      <th>id</th>\n",
              "      <th>url</th>\n",
              "      <th>title</th>\n",
              "      <th>text</th>\n",
              "      <th>question</th>\n",
              "      <th>answer</th>\n",
              "      <th>pars</th>\n",
              "    </tr>\n",
              "  </thead>\n",
              "  <tbody>\n",
              "    <tr>\n",
              "      <th>0</th>\n",
              "      <td>2070375</td>\n",
              "      <td>http://pl.wikipedia.org/wiki/?curid=2070375</td>\n",
              "      <td>R136a1</td>\n",
              "      <td>R136a1 – gwiazda Wolfa-Rayeta typu widmowego W...</td>\n",
              "      <td>gdzie zaobserwowano najmasywniejszą znaną gwia...</td>\n",
              "      <td>W roku 1960 grupa astronomów pracujących w Obs...</td>\n",
              "      <td>[R136a1 – gwiazda Wolfa-Rayeta typu widmowego ...</td>\n",
              "    </tr>\n",
              "    <tr>\n",
              "      <th>1</th>\n",
              "      <td>2070656</td>\n",
              "      <td>http://pl.wikipedia.org/wiki/?curid=2070656</td>\n",
              "      <td>Apoteoza wojny</td>\n",
              "      <td>Apoteoza wojny (oryg. ros. Апофеоз войны, \"Apo...</td>\n",
              "      <td>komu Wasilij Wierieszczagin zadedykował swój o...</td>\n",
              "      <td>Apoteoza wojny (oryg. ros. Апофеоз войны, \"Apo...</td>\n",
              "      <td>[Apoteoza wojny (oryg. ros. Апофеоз войны, \"Ap...</td>\n",
              "    </tr>\n",
              "    <tr>\n",
              "      <th>2</th>\n",
              "      <td>2070790</td>\n",
              "      <td>http://pl.wikipedia.org/wiki/?curid=2070790</td>\n",
              "      <td>Widzenie chłopca Bartłomieja</td>\n",
              "      <td>Widzenie chłopca Bartłomieja (oryg. ros. \"Виде...</td>\n",
              "      <td>który święty prawosławny został ukazany na obr...</td>\n",
              "      <td>Niestierow ukazał tytułowego chłopca Bartłomie...</td>\n",
              "      <td>[Widzenie chłopca Bartłomieja (oryg. ros. \"Вид...</td>\n",
              "    </tr>\n",
              "    <tr>\n",
              "      <th>3</th>\n",
              "      <td>2071346</td>\n",
              "      <td>http://pl.wikipedia.org/wiki/?curid=2071346</td>\n",
              "      <td>Cangjang Gjaco</td>\n",
              "      <td>Cangjang Gjaco (tyb. ཚང་དབྱངས་རྒྱ་མཚོ་ Wylie: ...</td>\n",
              "      <td>któremu dalajlamie przypisuje się nieśmierteln...</td>\n",
              "      <td>Podczas podróży orszak z dalajlamą zatrzymał s...</td>\n",
              "      <td>[Cangjang Gjaco (tyb. ཚང་དབྱངས་རྒྱ་མཚོ་ Wylie:...</td>\n",
              "    </tr>\n",
              "    <tr>\n",
              "      <th>4</th>\n",
              "      <td>2071390</td>\n",
              "      <td>http://pl.wikipedia.org/wiki/?curid=2071390</td>\n",
              "      <td>Wojna erytrejsko-etiopska</td>\n",
              "      <td>Wojna erytrejsko-etiopska trwała w latach 1998...</td>\n",
              "      <td>jakie były skutki wojny erytrejsko-etiopskiej?</td>\n",
              "      <td>Wojna erytrejsko-etiopska trwała w latach 1998...</td>\n",
              "      <td>[Wojna erytrejsko-etiopska trwała w latach 199...</td>\n",
              "    </tr>\n",
              "  </tbody>\n",
              "</table>\n",
              "</div>"
            ],
            "text/plain": [
              "        id  ...                                               pars\n",
              "0  2070375  ...  [R136a1 – gwiazda Wolfa-Rayeta typu widmowego ...\n",
              "1  2070656  ...  [Apoteoza wojny (oryg. ros. Апофеоз войны, \"Ap...\n",
              "2  2070790  ...  [Widzenie chłopca Bartłomieja (oryg. ros. \"Вид...\n",
              "3  2071346  ...  [Cangjang Gjaco (tyb. ཚང་དབྱངས་རྒྱ་མཚོ་ Wylie:...\n",
              "4  2071390  ...  [Wojna erytrejsko-etiopska trwała w latach 199...\n",
              "\n",
              "[5 rows x 7 columns]"
            ]
          },
          "metadata": {
            "tags": []
          },
          "execution_count": 29
        }
      ]
    },
    {
      "cell_type": "code",
      "metadata": {
        "colab": {
          "base_uri": "https://localhost:8080/"
        },
        "id": "glypkAYIYQAa",
        "outputId": "c3a22c2f-4982-4d7a-94e4-e3bde8952b28"
      },
      "source": [
        "sum_length = 0\r\n",
        "for q in questions:\r\n",
        "  sum_length += len(q)\r\n",
        "sum_length/len(questions)"
      ],
      "execution_count": null,
      "outputs": [
        {
          "output_type": "execute_result",
          "data": {
            "text/plain": [
              "70.08787029623699"
            ]
          },
          "metadata": {
            "tags": []
          },
          "execution_count": 118
        }
      ]
    },
    {
      "cell_type": "code",
      "metadata": {
        "colab": {
          "base_uri": "https://localhost:8080/",
          "height": 718,
          "referenced_widgets": [
            "fcb7faaa940f4032a956c6a72e7fb56d",
            "4b67c8284db640e2842a05e2784852ba",
            "f8b459b8d3b54d6f9b3c5cc308276385",
            "fdc48b58ea534b339fbcdf338b97a25d",
            "b56ca128acac4dd59f4f6721e657c008",
            "c2209e2b24954ad68c9505c73b9f44ff",
            "31cd7f13ef294004b3f30012ed20e370",
            "6750a768c70e4903a8d070773c5d8c7e",
            "d4678957e9a1447483ad06fd418f2167",
            "41ede0c932ce4110b5b6a4ec231534d0",
            "0a398688b04a4bf49f7b5d7041e00485",
            "03e152203243499b974672f87cc110ce",
            "507d119361ef4d51a4bc049b5b743836",
            "4312d14e23a349c48b592a086c6aee9b",
            "637b7e3c366b41ad8cd095dba9c1028d",
            "11982802286f4f88878e86edad7364dd"
          ]
        },
        "id": "Cg6DbTVCTSY2",
        "outputId": "7da7b773-7756-4ecc-a089-e1cff6e73298"
      },
      "source": [
        "idx = 8\r\n",
        "question = full.loc[idx, 'question']\r\n",
        "sentences = full.loc[idx, 'pars']\r\n",
        "Qemb = model.encode(question)  \r\n",
        "Sembs = model.encode(sentences)\r\n",
        "print('Question:', question)\r\n",
        "result = semantic_search(Qemb, Sembs)[0]\r\n",
        "for r in result:\r\n",
        "  i = int(r['corpus_id'])\r\n",
        "  score = r['score']\r\n",
        "  answer = sentences[i]\r\n",
        "  print('Answer:', answer)\r\n",
        "  print('Score:', score, '\\n')"
      ],
      "execution_count": null,
      "outputs": [
        {
          "output_type": "display_data",
          "data": {
            "application/vnd.jupyter.widget-view+json": {
              "model_id": "fcb7faaa940f4032a956c6a72e7fb56d",
              "version_minor": 0,
              "version_major": 2
            },
            "text/plain": [
              "HBox(children=(FloatProgress(value=0.0, description='Batches', max=1.0, style=ProgressStyle(description_width=…"
            ]
          },
          "metadata": {
            "tags": []
          }
        },
        {
          "output_type": "stream",
          "text": [
            "\n"
          ],
          "name": "stdout"
        },
        {
          "output_type": "display_data",
          "data": {
            "application/vnd.jupyter.widget-view+json": {
              "model_id": "d4678957e9a1447483ad06fd418f2167",
              "version_minor": 0,
              "version_major": 2
            },
            "text/plain": [
              "HBox(children=(FloatProgress(value=0.0, description='Batches', max=1.0, style=ProgressStyle(description_width=…"
            ]
          },
          "metadata": {
            "tags": []
          }
        },
        {
          "output_type": "stream",
          "text": [
            "\n",
            "Question: jak wyglądała nauka na średniowiecznych uniwersytetach?\n",
            "Answer: Średniowieczny uniwersytet − powstała w średniowiecznej Europie Zachodniej instytucja szkolnictwa wyższego o charakterze korporacyjnym. Pierwsze uniwersytety powstały w XI i XII wieku we Włoszech, Francji i Anglii.\n",
            "Score: 0.5761721 \n",
            "\n",
            "Answer: Pierwsze uniwersytety były wzorem dla powstających później uczelni. W okresie średniowiecza ukształtowały się niezależnie trzy modele organizacji szkolnictwa uniwersyteckiego\n",
            "Score: 0.5283257 \n",
            "\n",
            "Answer: W przeciwieństwie do zwykłych szkół, na średniowiecznych uniwersytetach prowadzono oprócz początkowego programu sztuk wyzwolonych także kursy z medycyny, prawa, filozofii czy teologii.Studia opierały się na pracy nad tekstami – ich wykładaniu, komentowaniu i dyskusji nad nimi. Lektura tekstów prowadziła od jego literalnego rozumienia (\"littera\"), poprzez analizę argumentów (\"sensus\"), aż do ostatecznego celu, czyli odkrycia głównej jego myśli (\"sententia\"). Rodzące się w jej trakcie pytania i wątpliwości (\"quaestiones\") musiały być wyjaśnione dzięki komentarzom.Istniała hierarchia tekstów i autorów, w zależności od autorytetu, jakim się cieszyli. Najwyższym autorytetem była Biblia, a w filozofii Arystoteles. Oryginalność i nowość nie były dobrze widziane. Liczyło się wierne odczytywanie autorytarnych tekstów i umiejętność popierania własnego zdania odpowiednimi cytatami.Ważną rolę pełniły na uniwersytecie dysputy o ściśle określonej formie. Zaczynały się od postawienia problemu (np. \"Czy dusza jest nieśmiertelna?\"). Następnie gromadzone były argumenty za i przeciw danej tezie. Dysputa kończyła się wyjaśnieniem danego zagadnienia. Z tej metody dyskutowania (\"pro-contra-solutio\") bierze swoją formę wiele średniowiecznych dzieł filozoficznych i teologicznych (np. \"O prawdzie\" Tomasza z Akwinu).\n",
            "Score: 0.50393945 \n",
            "\n",
            "Answer: Zachodnioeuropejskie uniwersytety powstały samoczynnie i nie były kontynuacją szkół starożytnych, islamskich czy bizantyjskich. Ich powstanie wiąże się z rozwojem kultury miejskiej w XII i XIII wieku. We wcześniejszym okresie nauczanie i życie naukowe prowadzone było przede wszystkim w klasztorach, a uczniowie i mistrzowie należeli zawsze do stanu duchownego. Szkoły prowadzone w miastach przeznaczone były również dla świeckich (choć często stanowili oni mniejszość), a ich zależność od hierarchii kościelnej była znacznie mniejsza. Szkoły miejskie były organizowane na podobieństwo rzemieślniczych cechów, czyli były autonomicznymi związkami mistrzów i uczniów. Uniwersytety powstawały z połączenia różnych szkół, a przez to działały w budynkach rozproszonych po całym mieście.\n",
            "Score: 0.48153132 \n",
            "\n",
            "Answer: Założony przez Fryderyka II w 1224 roku Uniwersytet w Neapolu był uczelnią zamkniętą, o bardzo ostrych regułach. Uczniowie i profesorowie mieli zakaz opuszczania uczelni. Był to uniwersytet państwowy, niezależny od Kościoła. Ten rodzaj organizacji uniwersytetu przyjęty został także na niektórych hiszpańskich uniwersytetach, ale nie odegrał znaczącej roli.\n",
            "Score: 0.36125055 \n",
            "\n",
            "Answer: Uniwersytet Paryski był podporządkowany bezpośrednio miejscowemu biskupowi, który często wpływał na kształt i dobór nauczanych treści. Obowiązywały na nim ścisłe, podobne do zakonnych, reguły, a większość nauczających i uczących się stanowili duchowni. Rektor wybierany był z grona nauczającego. Z modelu paryskiego wywodzi się współczesna instytucja uniwersytetu.\n",
            "Score: 0.35313696 \n",
            "\n",
            "Answer: Pod koniec XII wieku niektóre szkoły (w Bolonii, Paryżu czy w Salerno) uzyskały międzynarodową rangę. Zaczęły przyciągać i kształcić mistrzów i uczniów z całej Europy, a ich program był bardziej zaawansowany niż w szkołach lokalnych. Zaczęto je określać mianem \"studium generale\", a późniejsze bulle papieskie uznały ich względną autonomię i międzynarodowy status. Dzięki przywilejom (takim jak prawna niezależność od władz miejskich czy prawo nadawania powszechnie uznawanych stopni naukowych) wyraźnie odznaczały się od pozostałych szkół, stając się podstawą średniowiecznego uniwersytetu. \"Studium generale\" pozostało do końca średniowiecza oficjalną nazwą uniwersytetu. Pojęcie \"uniwersytetu\" (\"universitas magistrorum et scholarium\") pojawia się dopiero w 1221.\n",
            "Score: 0.3477108 \n",
            "\n",
            "Answer: Tytuły nadawane przez uniwersytety uznawane były w całej Europie (czym odróżniały się od wcześniejszych szkół). Na fakultecie filozoficznym nadawano tytuł bakałarza filozofii (\"baccalarius artium\", po ok. 2 latach) i magistra filozofii (\"magister in artibus\", po dalszych 4 latach). Na wydziale teologii nadawano tytuły bakałarza biblijnego (\"baccalarius biblicus\"), bakałarza sentencjariusza (\"baccalarius sententiarius\") oraz magistra teologii (\"magister sacrae theologiae\"). Po ukończeniu fakultetu prawniczego można było uzyskać tytuł doktora (\"doctor decretorum\" lub \"doctor utriusque iuris\"), a medycznego - tytuł fizyka (\"physicus\").\n",
            "Score: 0.34770638 \n",
            "\n",
            "Answer: Uniwersytet w Bolonii znany był szczególnie ze swoich studiów nad prawem. To tutaj w XI w. odkryto Kodeks Justyniana, co zaowocowało odrodzeniem studiów nad prawem rzymskim. Szkoleni w Bolonii legiści rozprzestrzenili jego znajomość w Europie, wpływając na rozwój europejskiego prawa i ustrojów politycznych. W XII w. Gracjan dokonał kodyfikacji prawa kanonicznego (Dekret Gracjana).Uniwersytet Boloński zorganizowany był na zasadzie korporacyjnej. Studiujący organizowali się w związki oparte na wspólnocie językowej (nacje), zawierali umowy z nauczycielami i opłacali ich. Korporacje studentów były w pełni autonomiczne, a rektor był wybierany z ich grona. Większość uczących i studiujących stanowiły osoby świeckie.\n",
            "Score: 0.33264303 \n",
            "\n",
            "Answer: Żacy pobierający nauki na uniwersytetach byli podzieleni byli na \"nacje\" (łac. \"nationes\" – ziomkostwa lub \"vicinia\" – związki sąsiedzkie), będące wczesną formą korporacji akademickich. Zwyczaj ten pojawił się początkowo na uniwersytetach w Bolonii i Paryżu. Nacje zrzeszały studentów pochodzących z jednego kraju lub prowincji. Wzorowały się na organizacjach mieszczańskich: gildiach kupieckich i korporacjach cechowych. Powstawszy w XII w. funkcjonowały początkowo jako luźne związki. Od XIII w. poczęły formalizować swoją działalność. Posiadały własne statuty, władze i skarb, a nawet medyków i notariuszy. W modelu bolońskim organizacji uniwersytetów, prokuratorzy (najwyżsi urzędnicy) poszczególnych nacji współrządzili uniwersytetem razem z rektorem. Nacja utrzymywała się z wpisowego i składek członków. Dużą część dochodów stanowiły datki absolwentów, którzy po ukończeniu studiów nie zapominali o swojej nacji, a także wpływy z drobnych grzywien nakładanych na członków nacji za różne wybryki. Ważną cechą nacji było własne, autonomiczne sądownictwo właściwe w sprawach członków nacji.Rozwój monarchii narodowych pod koniec średniowiecza, przyniósł osłabienie systemowi nacji. Ostatecznie rozpadł się on w renesansie, wraz z rozwojem języków narodowych. Tym samym rozpadła się też europejska wspólnota uczonych oparta na łacinie.\n",
            "Score: 0.30397782 \n",
            "\n"
          ],
          "name": "stdout"
        }
      ]
    },
    {
      "cell_type": "code",
      "metadata": {
        "colab": {
          "base_uri": "https://localhost:8080/"
        },
        "id": "yco9NzTKk0O9",
        "outputId": "749947d1-f6b0-44bb-b003-36c422cd8627"
      },
      "source": [
        "for idx, row in full.iterrows():\r\n",
        "  if idx % 100 == 0:\r\n",
        "    print(idx, 'from', len(full))\r\n",
        "  question = full.loc[idx, 'question']\r\n",
        "  sentences = full.loc[idx, 'pars']\r\n",
        "  Qemb = model.encode(question, show_progress_bar=False)  \r\n",
        "  Sembs = model.encode(sentences, show_progress_bar=False)\r\n",
        "  result = semantic_search(Qemb, Sembs)[0][0]\r\n",
        "  i = int(result['corpus_id'])\r\n",
        "  answer = sentences[i]\r\n",
        "  full.loc[idx, 'answer'] = answer"
      ],
      "execution_count": null,
      "outputs": [
        {
          "output_type": "stream",
          "text": [
            "0 from 4817\n",
            "100 from 4817\n",
            "200 from 4817\n",
            "300 from 4817\n",
            "400 from 4817\n",
            "500 from 4817\n",
            "600 from 4817\n",
            "700 from 4817\n",
            "800 from 4817\n",
            "900 from 4817\n",
            "1000 from 4817\n",
            "1100 from 4817\n",
            "1200 from 4817\n",
            "1300 from 4817\n",
            "1400 from 4817\n",
            "1500 from 4817\n",
            "1600 from 4817\n",
            "1700 from 4817\n",
            "1800 from 4817\n",
            "1900 from 4817\n",
            "2000 from 4817\n",
            "2100 from 4817\n",
            "2200 from 4817\n",
            "2300 from 4817\n",
            "2400 from 4817\n",
            "2500 from 4817\n",
            "2600 from 4817\n",
            "2700 from 4817\n",
            "2800 from 4817\n",
            "2900 from 4817\n",
            "3000 from 4817\n",
            "3100 from 4817\n",
            "3200 from 4817\n",
            "3300 from 4817\n",
            "3400 from 4817\n",
            "3500 from 4817\n",
            "3600 from 4817\n",
            "3700 from 4817\n",
            "3800 from 4817\n",
            "3900 from 4817\n",
            "4000 from 4817\n",
            "4100 from 4817\n",
            "4200 from 4817\n",
            "4300 from 4817\n",
            "4400 from 4817\n",
            "4500 from 4817\n",
            "4600 from 4817\n",
            "4700 from 4817\n",
            "4800 from 4817\n"
          ],
          "name": "stdout"
        }
      ]
    },
    {
      "cell_type": "code",
      "metadata": {
        "colab": {
          "base_uri": "https://localhost:8080/"
        },
        "id": "wVZXLw94oliJ",
        "outputId": "af026832-b8df-459f-e44a-d51280ffbd56"
      },
      "source": [
        "random_answers = np.random.choice(len(full), size=10, replace=False)\r\n",
        "for idx in random_answers:\r\n",
        "  title = full.loc[idx, 'title']\r\n",
        "  question = full.loc[idx, 'question']\r\n",
        "  answer = full.loc[idx, 'answer']\r\n",
        "  print('Index:', idx)\r\n",
        "  print('Title:', title)\r\n",
        "  print('Question:', question)\r\n",
        "  print('Answer:', answer)\r\n",
        "  print('\\n')"
      ],
      "execution_count": null,
      "outputs": [
        {
          "output_type": "stream",
          "text": [
            "Index: 1983\n",
            "Title: FIS Ladies Winter Tournee\n",
            "Question: jak nazywa się najstarszy i najbardziej prestiżowy turniej w skokach narciarskich kobiet?\n",
            "Answer: Do 2000 roku FIS Ladies Grand Tournee, od 2000 roku FIS Ladies Grand Prix, od 2008 roku FIS Ladies Winter Tournee – najbardziej prestiżowy turniej w skokach narciarskich kobiet, bardzo często porównywany do Turnieju Czterech Skoczni. Zawody rozgrywane są na skoczniach w Niemczech (Baiersbronn, Breitenberg, Schönwald, Braunlage, Schonach i Hinterzarten) i Austrii (Saalfelden, Ramsau am Dachstein), do roku 2008 turniej rozgrywany był w lutym, po 2008 roku – w styczniu. Zwycięzcą zostaje zawodniczka, która zdobyła największą liczbę punktów we wszystkich konkursach łącznie. Turniej odbył się po raz pierwszy 1999 roku i jest najstarszym i najdłuższym turniejem w skokach narciarskich dla kobiet.Od 2005 do 2011 roku turniej Ladies Grand Prix był rozgrywany w ramach Pucharu Kontynentalnego.\n",
            "\n",
            "\n",
            "Index: 4593\n",
            "Title: Ząbkowanie (medycyna)\n",
            "Question: jakie wyróżnia się fazy ząbkowania?\n",
            "Answer: Zęby mleczne zaczynają wyrzynanie ok. 6 miesiąca życia dziecka. Do 9 miesiąca wyrasta 8 siekaczy, między 14 a 20 pierwsze zęby trzonowe, a w okresie 24-30 miesięcy życia drugie zęby trzonowe. Zwykle pierwsze wyrastają zęby dolne, a później odpowiednie zęby górne.Ząbkowanie łączy się z następującymi objawami: rozpulchnieniem dziąseł, obfitym ślinieniem, nierzadko stanem podgorączkowym. Zdarzają się biegunki, zaparcia, wymioty lub wysypka na skórze. Zachodzą zmiany w zachowaniu: zaburzenia snu, niepokój i podrażnienie, osłabienie apetytu. Dziecko wkłada do ust różne przedmioty w zasięgu rąk, co wiąże się z ryzykiem wystąpienia stanu zapalnego jamy ustnej.\n",
            "\n",
            "\n",
            "Index: 117\n",
            "Title: Jean Emile de Bouillon Serisier\n",
            "Question: w jakich okolicznościach Jean Emile de Bouillon Serisier został współzałożycielem miasta Dubbo w Australii?\n",
            "Answer: Jean Emile de Bouillon Serisier (ur. 1824 w Bordeaux, zm. 10 lutego 1880 w Paryżu) – francuski kupiec, współzałożyciel australijskiego miasta Dubbo.Jean Emile de Bouillon Serisier, najmłodszy syn Louisa Alexandre'a de Bouillona Serisiera, urodził się w Bordeaux w bogatej kupieckiej rodzinie. W 1840 16-letni Jean Emile udał się na Kubę na ślub swojej siostry, następnie mieszkał tam trzy lata, pracując w rodzinnej firmie. W 1843 postanowił wrócić do Francji i wsiadł na płynący do Sydney statek. Tuż przed Sydney zachorował na zapalenie wyrostka robaczkowego i został tam wyokrętowany. Po dojściu do zdrowia postanowił pozostać na pewien czas w Australii i został zatrudniony przez Fesq & Despointes, agentów firmy należącej do jego ojca. Wraz ze swoim wspólnikiem, młodym Belgiem Nicholasem Hyeronimusem, postanowili rozszerzyć swoją działalność i wyruszyli w głąb kraju, uważając, że znajdą tam więcej możliwości zrobienia dobrego interesu.Początkowo założyli sklep w Wellington, będącym wówczas najbardziej na zachód wysuniętym miastem kolonii, ale w 1847 postanowili ruszyć na północ, wzdłuż rzeki Macquarie. Początkowo zatrzymali się na farmie o nazwie Dubbo, należącej do Roberta Dulhunty'ego, gdzie chcieli założyć obsługujący tamtejszych farmerów i osadników sklep, ale zostali zmuszeni do jej opuszczenia przez Dulhunty'ego, który miał podobne plany i nie życzył sobie konkurencji. Opuściwszy farmę Dulhunty'ego, Serisier i Hyeronimus osiedlili się 10 km dalej, na terenie dzisiejszego Dubbo, na brzegach rzeki Macquarie. Serisier założył tam pub, a Hyeronimus – zajazd.Osiedliwszy się bez pozwolenia i wykupu ziemi, Serisier i Hyeronumus byli skwaterami. Zdając sobie sprawę, że przebywają tam nielegalnie, wspierani przez innych osadników, wystąpili do rządu o oficjalne założenie nowej miejscowości. Pomimo gwałtownych sprzeciwów Delhunty'ego i wbrew negatywnej opinii rządowego geodety, rząd Nowej Południowej Walii 28 sierpnia 1849 uznał nową miejscowość, nadając jej nazwę Dubbo. Znakomicie położone miasto, leżące na skrzyżowaniu ważnych dróg handlowych, szybko się rozrosłoOd momentu powstania Dubbo Serisier był bardzo aktywnym działaczem samorządowym, od 1855 był poczmistrzem, cztery lata później zaczął pracować w komisji wyborczej, a w latach 1862-1872 był sędzią pokoju (\"magistrate\") aktywnie działającym w całym dystrykcie. 1 marca 1858 poślubił Margaret Humphreys (1840-1914), z którą miał czterech synów. W 1873 Serisier sprzedał sklep i na swojej 4000-hektarowej posiadłości \"Emulga\" zasadził 16 ha winorośli. Produkowane przez Serisiera wina szybko zdobyły znaczną renomę.W 1879 Serisier postanowił odwiedzić Francję, ale w czasie podróży do ojczyzny zachorował na ospę i zmarł w Paryżu 10 lutego 1880.\n",
            "\n",
            "\n",
            "Index: 3667\n",
            "Title: Epargyreus clarus\n",
            "Question: jaką rozpiętość skrzydeł ma Epargyreus clarus?\n",
            "Answer: Rozpiętość skrzydeł tego motyla wynosi do 63 mm. Ubarwienie skrzydeł brązowe. Na dolnej stronie tylnych skrzydeł występuje duża srebrna plama. Na dolnej stronie przednich skrzydeł jest złota plama. Motyl lata od kwietnia do grudnia.Gąsienica barwy żółto-zielonej w poprzeczne ciemne paski. Głowa brązowoczerwona z dwoma pomarańczowymi plamami.Występuje na terenie Ameryki Północnej, od południowej części Kanady, przez większość obszaru USA po północny Meksyk. Nie występuje w Wielkiej Kotlinie i zachodnim Teksasie. Rozpowszechniony we wschodniej części kontynentu, rzadziej spotykany w zachodniej. Spotykany na obrzeżach lasów, w ogrodach i na polach.\n",
            "\n",
            "\n",
            "Index: 1042\n",
            "Title: Grupa Galów\n",
            "Question: z jakiej okazji powstała Grupa Galów?\n",
            "Answer: Grupa Galów – pomnik wystawiony ok. 228 p.n.e. przez Attalosa I w Pergamonie dla uczczenia zwycięstwa nad Galatami.\n",
            "\n",
            "\n",
            "Index: 241\n",
            "Title: Prawa pacjenta\n",
            "Question: jakie prawa przysługują pacjentowi?\n",
            "Answer: e) o rodzaju i zakresie udzielnych przez dany podmiot świadczeń zdrowotnych3. prawo żądania nieudzielania przez lekarza informacji w zakresie wskazanym przez pacjenta5. prawo do dostatecznie wczesnej informacji o zamiarze odstąpienia przez lekarza od leczenia\n",
            "\n",
            "\n",
            "Index: 2490\n",
            "Title: Para butów\n",
            "Question: ile Par butów namalował Vincent van Gogh?\n",
            "Answer: Obraz przedstawiający parę zdartych butów budzi rozmaite spekulacje. Buty te były postrzegane jako symbol trudnych momentów w życiu van Gogha. Pewien młody student odnotował, iż Vincent kupił robocze obuwie na pchlim targu w Paryżu, ponieważ zamierzał wykorzystać je jako temat martwej natury. Jako że były w zbyt dobrym stanie, postanowił nosić je podczas niepogody. Dopiero potem nadawały się do namalowania. Van Gogh namalował kilka martwych natur ze starymi butami. Były one dla niego być może symbolem ciężkiego, ale barwnego życia robotnika.Van Gogh był zawsze zadziwiająco wytrzymałym wędrowcem, a seria z butami pozostaje świadectwem jego zamiłowania do pieszych wędrówek. Obrazy są z pewnością sugestywne, ale niektóre interpretacje ich przesłania są raczej zbyt daleko idące.Namalowane buty szybko stały się najbardziej znanym obuwiem w historii sztuki współczesnej. Ale zawdzięczają to nie tyle van Goghowi, co ich krytycznej recepcji przez filozofów, jak Martin Heidegger, Meyer Schapiro czy Jacques Derrida. Martin Heidegger oglądał obraz van Gogha na wystawie w Amsterdamie w 1930. Wrażenia swe opisał następnie w eseju poświęconym teorii sztuki, \"Der Ursprung des Kunstwerkes (Pochodzenie dzieła sztuki)\" z 1935. Wyraził w nim pogląd, iż przedstawione na obrazie buty należą do wieśniaczki, a w ich wyglądzie widać zarówno surowość natury, jak i trud poruszania się i pracy na roli. Buty stają się świadkiem życia chłopskiego: niepewności co do zbiorów, radości z kolejnego przetrzymanego nieurodzaju, drżenia kobiety na myśl o połogu i strachu przed wszechobecna śmiercią. Buty należą w ten sposób jednocześnie i do ziemi i do świata wieśniaczki. \n",
            "\n",
            "\n",
            "Index: 3983\n",
            "Title: Aedes albopictus\n",
            "Question: jakie choroby może przenosić azjatycki komar Aedes albopictus?\n",
            "Answer: Aedes albopictus, azjatycki komar tygrysi – inwazyjny, szybko rozprzestrzeniający się gatunek owada z rodziny komarowatych (Culicidae), jeden z najbardziej rozpowszechnionych i najliczniej występujących komarów na całym obszarze Azji Południowo-Wschodniej, a jednocześnie najważniejszy z punktu widzenia mikrobiologii lekarskiej wektor, czyli gatunek roznoszący arbowirusy. Został zawleczony przez ludzi na inne kontynenty zagrażając ludziom takimi chorobami, jak chikungunya, denga, żółta febra, gorączka Zachodniego Nilu i japońskie zapalenie mózgu. W 1975 pojawił się na południu Europy i systematycznie przesuwa się na północ i zachód, zasiedlając kolejne kraje. Dotychczas nie stwierdzono jego występowania w Polsce.\n",
            "\n",
            "\n",
            "Index: 3725\n",
            "Title: Cerkiew św. Barbary w Vevey\n",
            "Question: z czym wiązało się powstanie cerkwi św. Barbary w Vevey?\n",
            "Answer: Cerkiew św. Barbary w Vevey – cerkiew prawosławna wzniesiona w 1878. Siedziba parafii w jurysdykcji eparchii genewskiej i zachodnioeuropejskiej Rosyjskiego Kościoła Prawosławnego poza granicami Rosji. \n",
            "\n",
            "\n",
            "Index: 4358\n",
            "Title: Blok Nasza Ukraina\n",
            "Question: ile partii tworzy powołaną przez Wiktora Juszczenkę koalicję Blok Nasza Ukraina?\n",
            "Answer: Blok Nasza Ukraina (ukr. \"Блок \"Наша Україна\"\", NU) – koalicja ukraińskich partii politycznych, powołana w 2001 przez Wiktora Juszczenkę, biorąca udział w wyborach parlamentarnych w 2002 i 2006, główna siła pomarańczowej rewolucji.\n",
            "\n",
            "\n"
          ],
          "name": "stdout"
        }
      ]
    },
    {
      "cell_type": "code",
      "metadata": {
        "colab": {
          "base_uri": "https://localhost:8080/",
          "height": 310
        },
        "id": "xNNkKXB2Nh9N",
        "outputId": "ffe23137-8a57-49be-98f3-b27f0ae1f17f"
      },
      "source": [
        "full.head()"
      ],
      "execution_count": null,
      "outputs": [
        {
          "output_type": "execute_result",
          "data": {
            "text/html": [
              "<div>\n",
              "<style scoped>\n",
              "    .dataframe tbody tr th:only-of-type {\n",
              "        vertical-align: middle;\n",
              "    }\n",
              "\n",
              "    .dataframe tbody tr th {\n",
              "        vertical-align: top;\n",
              "    }\n",
              "\n",
              "    .dataframe thead th {\n",
              "        text-align: right;\n",
              "    }\n",
              "</style>\n",
              "<table border=\"1\" class=\"dataframe\">\n",
              "  <thead>\n",
              "    <tr style=\"text-align: right;\">\n",
              "      <th></th>\n",
              "      <th>id</th>\n",
              "      <th>url</th>\n",
              "      <th>title</th>\n",
              "      <th>text</th>\n",
              "      <th>question</th>\n",
              "      <th>answer</th>\n",
              "      <th>pars</th>\n",
              "    </tr>\n",
              "  </thead>\n",
              "  <tbody>\n",
              "    <tr>\n",
              "      <th>0</th>\n",
              "      <td>2070375</td>\n",
              "      <td>http://pl.wikipedia.org/wiki/?curid=2070375</td>\n",
              "      <td>R136a1</td>\n",
              "      <td>R136a1 – gwiazda Wolfa-Rayeta typu widmowego W...</td>\n",
              "      <td>gdzie zaobserwowano najmasywniejszą znaną gwia...</td>\n",
              "      <td>W roku 1960 grupa astronomów pracujących w Obs...</td>\n",
              "      <td>[R136a1 – gwiazda Wolfa-Rayeta typu widmowego ...</td>\n",
              "    </tr>\n",
              "    <tr>\n",
              "      <th>1</th>\n",
              "      <td>2070656</td>\n",
              "      <td>http://pl.wikipedia.org/wiki/?curid=2070656</td>\n",
              "      <td>Apoteoza wojny</td>\n",
              "      <td>Apoteoza wojny (oryg. ros. Апофеоз войны, \"Apo...</td>\n",
              "      <td>komu Wasilij Wierieszczagin zadedykował swój o...</td>\n",
              "      <td>Apoteoza wojny (oryg. ros. Апофеоз войны, \"Apo...</td>\n",
              "      <td>[Apoteoza wojny (oryg. ros. Апофеоз войны, \"Ap...</td>\n",
              "    </tr>\n",
              "    <tr>\n",
              "      <th>2</th>\n",
              "      <td>2070790</td>\n",
              "      <td>http://pl.wikipedia.org/wiki/?curid=2070790</td>\n",
              "      <td>Widzenie chłopca Bartłomieja</td>\n",
              "      <td>Widzenie chłopca Bartłomieja (oryg. ros. \"Виде...</td>\n",
              "      <td>który święty prawosławny został ukazany na obr...</td>\n",
              "      <td>Niestierow ukazał tytułowego chłopca Bartłomie...</td>\n",
              "      <td>[Widzenie chłopca Bartłomieja (oryg. ros. \"Вид...</td>\n",
              "    </tr>\n",
              "    <tr>\n",
              "      <th>3</th>\n",
              "      <td>2071346</td>\n",
              "      <td>http://pl.wikipedia.org/wiki/?curid=2071346</td>\n",
              "      <td>Cangjang Gjaco</td>\n",
              "      <td>Cangjang Gjaco (tyb. ཚང་དབྱངས་རྒྱ་མཚོ་ Wylie: ...</td>\n",
              "      <td>któremu dalajlamie przypisuje się nieśmierteln...</td>\n",
              "      <td>Podczas podróży orszak z dalajlamą zatrzymał s...</td>\n",
              "      <td>[Cangjang Gjaco (tyb. ཚང་དབྱངས་རྒྱ་མཚོ་ Wylie:...</td>\n",
              "    </tr>\n",
              "    <tr>\n",
              "      <th>4</th>\n",
              "      <td>2071390</td>\n",
              "      <td>http://pl.wikipedia.org/wiki/?curid=2071390</td>\n",
              "      <td>Wojna erytrejsko-etiopska</td>\n",
              "      <td>Wojna erytrejsko-etiopska trwała w latach 1998...</td>\n",
              "      <td>jakie były skutki wojny erytrejsko-etiopskiej?</td>\n",
              "      <td>Wojna erytrejsko-etiopska trwała w latach 1998...</td>\n",
              "      <td>[Wojna erytrejsko-etiopska trwała w latach 199...</td>\n",
              "    </tr>\n",
              "  </tbody>\n",
              "</table>\n",
              "</div>"
            ],
            "text/plain": [
              "        id  ...                                               pars\n",
              "0  2070375  ...  [R136a1 – gwiazda Wolfa-Rayeta typu widmowego ...\n",
              "1  2070656  ...  [Apoteoza wojny (oryg. ros. Апофеоз войны, \"Ap...\n",
              "2  2070790  ...  [Widzenie chłopca Bartłomieja (oryg. ros. \"Вид...\n",
              "3  2071346  ...  [Cangjang Gjaco (tyb. ཚང་དབྱངས་རྒྱ་མཚོ་ Wylie:...\n",
              "4  2071390  ...  [Wojna erytrejsko-etiopska trwała w latach 199...\n",
              "\n",
              "[5 rows x 7 columns]"
            ]
          },
          "metadata": {
            "tags": []
          },
          "execution_count": 32
        }
      ]
    },
    {
      "cell_type": "code",
      "metadata": {
        "id": "Dx3N1jPUNjjf"
      },
      "source": [
        "full.drop(columns='pars', inplace=True)"
      ],
      "execution_count": null,
      "outputs": []
    },
    {
      "cell_type": "code",
      "metadata": {
        "colab": {
          "base_uri": "https://localhost:8080/",
          "height": 293
        },
        "id": "MAGIMxiRNpm1",
        "outputId": "4de66fb0-67d7-4d1b-cce0-fc5916a836f2"
      },
      "source": [
        "full.head()"
      ],
      "execution_count": null,
      "outputs": [
        {
          "output_type": "execute_result",
          "data": {
            "text/html": [
              "<div>\n",
              "<style scoped>\n",
              "    .dataframe tbody tr th:only-of-type {\n",
              "        vertical-align: middle;\n",
              "    }\n",
              "\n",
              "    .dataframe tbody tr th {\n",
              "        vertical-align: top;\n",
              "    }\n",
              "\n",
              "    .dataframe thead th {\n",
              "        text-align: right;\n",
              "    }\n",
              "</style>\n",
              "<table border=\"1\" class=\"dataframe\">\n",
              "  <thead>\n",
              "    <tr style=\"text-align: right;\">\n",
              "      <th></th>\n",
              "      <th>id</th>\n",
              "      <th>url</th>\n",
              "      <th>title</th>\n",
              "      <th>text</th>\n",
              "      <th>question</th>\n",
              "      <th>answer</th>\n",
              "    </tr>\n",
              "  </thead>\n",
              "  <tbody>\n",
              "    <tr>\n",
              "      <th>0</th>\n",
              "      <td>2070375</td>\n",
              "      <td>http://pl.wikipedia.org/wiki/?curid=2070375</td>\n",
              "      <td>R136a1</td>\n",
              "      <td>R136a1 – gwiazda Wolfa-Rayeta typu widmowego W...</td>\n",
              "      <td>gdzie zaobserwowano najmasywniejszą znaną gwia...</td>\n",
              "      <td>W roku 1960 grupa astronomów pracujących w Obs...</td>\n",
              "    </tr>\n",
              "    <tr>\n",
              "      <th>1</th>\n",
              "      <td>2070656</td>\n",
              "      <td>http://pl.wikipedia.org/wiki/?curid=2070656</td>\n",
              "      <td>Apoteoza wojny</td>\n",
              "      <td>Apoteoza wojny (oryg. ros. Апофеоз войны, \"Apo...</td>\n",
              "      <td>komu Wasilij Wierieszczagin zadedykował swój o...</td>\n",
              "      <td>Apoteoza wojny (oryg. ros. Апофеоз войны, \"Apo...</td>\n",
              "    </tr>\n",
              "    <tr>\n",
              "      <th>2</th>\n",
              "      <td>2070790</td>\n",
              "      <td>http://pl.wikipedia.org/wiki/?curid=2070790</td>\n",
              "      <td>Widzenie chłopca Bartłomieja</td>\n",
              "      <td>Widzenie chłopca Bartłomieja (oryg. ros. \"Виде...</td>\n",
              "      <td>który święty prawosławny został ukazany na obr...</td>\n",
              "      <td>Niestierow ukazał tytułowego chłopca Bartłomie...</td>\n",
              "    </tr>\n",
              "    <tr>\n",
              "      <th>3</th>\n",
              "      <td>2071346</td>\n",
              "      <td>http://pl.wikipedia.org/wiki/?curid=2071346</td>\n",
              "      <td>Cangjang Gjaco</td>\n",
              "      <td>Cangjang Gjaco (tyb. ཚང་དབྱངས་རྒྱ་མཚོ་ Wylie: ...</td>\n",
              "      <td>któremu dalajlamie przypisuje się nieśmierteln...</td>\n",
              "      <td>Podczas podróży orszak z dalajlamą zatrzymał s...</td>\n",
              "    </tr>\n",
              "    <tr>\n",
              "      <th>4</th>\n",
              "      <td>2071390</td>\n",
              "      <td>http://pl.wikipedia.org/wiki/?curid=2071390</td>\n",
              "      <td>Wojna erytrejsko-etiopska</td>\n",
              "      <td>Wojna erytrejsko-etiopska trwała w latach 1998...</td>\n",
              "      <td>jakie były skutki wojny erytrejsko-etiopskiej?</td>\n",
              "      <td>Wojna erytrejsko-etiopska trwała w latach 1998...</td>\n",
              "    </tr>\n",
              "  </tbody>\n",
              "</table>\n",
              "</div>"
            ],
            "text/plain": [
              "        id  ...                                             answer\n",
              "0  2070375  ...  W roku 1960 grupa astronomów pracujących w Obs...\n",
              "1  2070656  ...  Apoteoza wojny (oryg. ros. Апофеоз войны, \"Apo...\n",
              "2  2070790  ...  Niestierow ukazał tytułowego chłopca Bartłomie...\n",
              "3  2071346  ...  Podczas podróży orszak z dalajlamą zatrzymał s...\n",
              "4  2071390  ...  Wojna erytrejsko-etiopska trwała w latach 1998...\n",
              "\n",
              "[5 rows x 6 columns]"
            ]
          },
          "metadata": {
            "tags": []
          },
          "execution_count": 34
        }
      ]
    },
    {
      "cell_type": "code",
      "metadata": {
        "id": "JqaiKDkn6mUK"
      },
      "source": [
        "full.to_csv('/content/drive/MyDrive/czywieszki/answers_paragraphs.csv', index=False)"
      ],
      "execution_count": null,
      "outputs": []
    },
    {
      "cell_type": "markdown",
      "metadata": {
        "id": "bXc_r9os_9n0"
      },
      "source": [
        "# Train model"
      ]
    },
    {
      "cell_type": "markdown",
      "metadata": {
        "id": "gX60vQAEp-66"
      },
      "source": [
        "## Train on sentences"
      ]
    },
    {
      "cell_type": "code",
      "metadata": {
        "id": "HLfs5XW6ASk7"
      },
      "source": [
        "logging.basicConfig(format='%(asctime)s - %(message)s',\r\n",
        "                    datefmt='%Y-%m-%d %H:%M:%S',\r\n",
        "                    level=logging.INFO,\r\n",
        "                    handlers=[LoggingHandler()])"
      ],
      "execution_count": null,
      "outputs": []
    },
    {
      "cell_type": "code",
      "metadata": {
        "colab": {
          "base_uri": "https://localhost:8080/",
          "height": 310
        },
        "id": "Sc8b-jwKQQTJ",
        "outputId": "72a55d37-cf39-48dc-85db-abd095eb4ae7"
      },
      "source": [
        "full = pd.read_csv('/content/drive/MyDrive/czywieszki/answers.csv')\r\n",
        "full.drop(columns=['Unnamed: 0', 'Unnamed: 0.1'], inplace=True)\r\n",
        "full.head()"
      ],
      "execution_count": null,
      "outputs": [
        {
          "output_type": "execute_result",
          "data": {
            "text/html": [
              "<div>\n",
              "<style scoped>\n",
              "    .dataframe tbody tr th:only-of-type {\n",
              "        vertical-align: middle;\n",
              "    }\n",
              "\n",
              "    .dataframe tbody tr th {\n",
              "        vertical-align: top;\n",
              "    }\n",
              "\n",
              "    .dataframe thead th {\n",
              "        text-align: right;\n",
              "    }\n",
              "</style>\n",
              "<table border=\"1\" class=\"dataframe\">\n",
              "  <thead>\n",
              "    <tr style=\"text-align: right;\">\n",
              "      <th></th>\n",
              "      <th>id</th>\n",
              "      <th>url</th>\n",
              "      <th>title</th>\n",
              "      <th>text</th>\n",
              "      <th>question</th>\n",
              "      <th>sentence</th>\n",
              "      <th>answer</th>\n",
              "    </tr>\n",
              "  </thead>\n",
              "  <tbody>\n",
              "    <tr>\n",
              "      <th>0</th>\n",
              "      <td>2070375</td>\n",
              "      <td>http://pl.wikipedia.org/wiki/?curid=2070375</td>\n",
              "      <td>R136a1</td>\n",
              "      <td>R136a1 – gwiazda Wolfa-Rayeta typu widmowego W...</td>\n",
              "      <td>gdzie zaobserwowano najmasywniejszą znaną gwia...</td>\n",
              "      <td>['R136a1 – gwiazda Wolfa-Rayeta typu widmowego...</td>\n",
              "      <td>Na uzyskanych dzięki niemu zdjęciach można był...</td>\n",
              "    </tr>\n",
              "    <tr>\n",
              "      <th>1</th>\n",
              "      <td>2070656</td>\n",
              "      <td>http://pl.wikipedia.org/wiki/?curid=2070656</td>\n",
              "      <td>Apoteoza wojny</td>\n",
              "      <td>Apoteoza wojny (oryg. ros. Апофеоз войны, \"Apo...</td>\n",
              "      <td>komu Wasilij Wierieszczagin zadedykował swój o...</td>\n",
              "      <td>['Апофеоз войны, \"Apofieoz wojny\") – obraz Was...</td>\n",
              "      <td>Апофеоз войны, \"Apofieoz wojny\") – obraz Wasil...</td>\n",
              "    </tr>\n",
              "    <tr>\n",
              "      <th>2</th>\n",
              "      <td>2070790</td>\n",
              "      <td>http://pl.wikipedia.org/wiki/?curid=2070790</td>\n",
              "      <td>Widzenie chłopca Bartłomieja</td>\n",
              "      <td>Widzenie chłopca Bartłomieja (oryg. ros. \"Виде...</td>\n",
              "      <td>który święty prawosławny został ukazany na obr...</td>\n",
              "      <td>['\"Видение отроку Варфоломею\") – obraz Michaił...</td>\n",
              "      <td>Niestierow pragnął swoimi dziełami oddać hołd ...</td>\n",
              "    </tr>\n",
              "    <tr>\n",
              "      <th>3</th>\n",
              "      <td>2071346</td>\n",
              "      <td>http://pl.wikipedia.org/wiki/?curid=2071346</td>\n",
              "      <td>Cangjang Gjaco</td>\n",
              "      <td>Cangjang Gjaco (tyb. ཚང་དབྱངས་རྒྱ་མཚོ་ Wylie: ...</td>\n",
              "      <td>któremu dalajlamie przypisuje się nieśmierteln...</td>\n",
              "      <td>['ཚང་དབྱངས་རྒྱ་མཚོ་ Wylie: \"tshang-dbyangs-rgy...</td>\n",
              "      <td>Wśród świeckich tybetańskich rozpowszechnione ...</td>\n",
              "    </tr>\n",
              "    <tr>\n",
              "      <th>4</th>\n",
              "      <td>2071390</td>\n",
              "      <td>http://pl.wikipedia.org/wiki/?curid=2071390</td>\n",
              "      <td>Wojna erytrejsko-etiopska</td>\n",
              "      <td>Wojna erytrejsko-etiopska trwała w latach 1998...</td>\n",
              "      <td>jakie były skutki wojny erytrejsko-etiopskiej?</td>\n",
              "      <td>['Wojna erytrejsko-etiopska trwała w latach 19...</td>\n",
              "      <td>W wyniku działań wojsk etiopskich do przesiedl...</td>\n",
              "    </tr>\n",
              "  </tbody>\n",
              "</table>\n",
              "</div>"
            ],
            "text/plain": [
              "        id  ...                                             answer\n",
              "0  2070375  ...  Na uzyskanych dzięki niemu zdjęciach można był...\n",
              "1  2070656  ...  Апофеоз войны, \"Apofieoz wojny\") – obraz Wasil...\n",
              "2  2070790  ...  Niestierow pragnął swoimi dziełami oddać hołd ...\n",
              "3  2071346  ...  Wśród świeckich tybetańskich rozpowszechnione ...\n",
              "4  2071390  ...  W wyniku działań wojsk etiopskich do przesiedl...\n",
              "\n",
              "[5 rows x 7 columns]"
            ]
          },
          "metadata": {
            "tags": []
          },
          "execution_count": 6
        }
      ]
    },
    {
      "cell_type": "code",
      "metadata": {
        "id": "X0Kl0NUOQLaj"
      },
      "source": [
        "# Searching for hard negatives\r\n",
        "answer = full.loc[1, 'answer']\r\n",
        "question = full.loc[1, 'question']\r\n",
        "answers = full.loc[2:, 'answer'].tolist()\r\n",
        "Qemb = model.encode(question)  \r\n",
        "Sembs = model.encode(answers)\r\n",
        "result = semantic_search(Qemb, Sembs)[0]\r\n",
        "print('Question:', question, '\\n\\n')\r\n",
        "for r in result:\r\n",
        "  i = int(r['corpus_id'])\r\n",
        "  print('Answer:',full.loc[i, 'answer'], '\\n')"
      ],
      "execution_count": null,
      "outputs": []
    },
    {
      "cell_type": "code",
      "metadata": {
        "id": "gUxFPJFmULWe"
      },
      "source": [
        "questions = full['question'].tolist()\r\n",
        "answers = full['answer'].tolist()"
      ],
      "execution_count": null,
      "outputs": []
    },
    {
      "cell_type": "code",
      "metadata": {
        "id": "yc8S_IiaUTxf"
      },
      "source": [
        "train_questions, dev_questions = questions[:4000], questions[4000:]\r\n",
        "train_answers, dev_answers = answers[:4000], answers[4000:]"
      ],
      "execution_count": null,
      "outputs": []
    },
    {
      "cell_type": "code",
      "metadata": {
        "id": "8fJy2ttJAXt0"
      },
      "source": [
        "model_name = 'paraphrase-xlm-r-multilingual-v1'\r\n",
        "\r\n",
        "train_batch_size = 64           #Increasing the train batch size improves the model performance, but requires more GPU memory\r\n",
        "\r\n",
        "num_dev_queries = 500           #Number of queries we want to use to evaluate the performance while training\r\n",
        "num_max_dev_negatives = 200     #For every dev query, we use up to 200 hard negatives and add them to the dev corpus"
      ],
      "execution_count": null,
      "outputs": []
    },
    {
      "cell_type": "code",
      "metadata": {
        "id": "u3vtUT6HAeov"
      },
      "source": [
        "model_save_path = 'output/training_ms-marco_bi-encoder-'+model_name.replace(\"/\", \"-\")+'-'+datetime.now().strftime(\"%Y-%m-%d_%H-%M-%S\")"
      ],
      "execution_count": null,
      "outputs": []
    },
    {
      "cell_type": "code",
      "metadata": {
        "id": "vlPuv7UBVQe9"
      },
      "source": [
        "train_samples = []\r\n",
        "for q, a in zip(train_questions, train_answers):\r\n",
        "  sample = InputExample(texts=[q, a])\r\n",
        "  train_samples.append(sample)"
      ],
      "execution_count": null,
      "outputs": []
    },
    {
      "cell_type": "code",
      "metadata": {
        "id": "vjTxLNCiVwq6"
      },
      "source": [
        "dev_queries = {}\r\n",
        "dev_corpus = {}\r\n",
        "dev_rel_docs = {}\r\n",
        "\r\n",
        "for i in range(len(dev_questions)):\r\n",
        "  idx = str(i)\r\n",
        "  dev_queries[idx] = dev_questions[i]\r\n",
        "  dev_corpus[idx] = dev_answers[i]\r\n",
        "  dev_rel_docs[idx] = {idx}"
      ],
      "execution_count": null,
      "outputs": []
    },
    {
      "cell_type": "code",
      "metadata": {
        "id": "2LsHafzcB2K8"
      },
      "source": [
        "train_dataloader = DataLoader(train_samples, batch_size=train_batch_size)"
      ],
      "execution_count": null,
      "outputs": []
    },
    {
      "cell_type": "code",
      "metadata": {
        "id": "1Fa9ohJaYsrk"
      },
      "source": [
        "ir_evaluator = evaluation.InformationRetrievalEvaluator(dev_queries, dev_corpus, dev_rel_docs, name='czywiesz')"
      ],
      "execution_count": null,
      "outputs": []
    },
    {
      "cell_type": "code",
      "metadata": {
        "colab": {
          "base_uri": "https://localhost:8080/"
        },
        "id": "cTnEp1VBY1rT",
        "outputId": "83e99d6d-0c0b-4c2e-a78e-70071c4a373c"
      },
      "source": [
        "model = SentenceTransformer(model_name)"
      ],
      "execution_count": null,
      "outputs": [
        {
          "output_type": "stream",
          "text": [
            "2021-01-22 18:46:58 - Load pretrained SentenceTransformer: paraphrase-xlm-r-multilingual-v1\n",
            "2021-01-22 18:46:58 - Did not find folder paraphrase-xlm-r-multilingual-v1\n",
            "2021-01-22 18:46:58 - Try to download model from server: https://sbert.net/models/paraphrase-xlm-r-multilingual-v1.zip\n",
            "2021-01-22 18:46:58 - Downloading sentence transformer model from https://sbert.net/models/paraphrase-xlm-r-multilingual-v1.zip and saving it at /root/.cache/torch/sentence_transformers/sbert.net_models_paraphrase-xlm-r-multilingual-v1\n"
          ],
          "name": "stdout"
        },
        {
          "output_type": "stream",
          "text": [
            "100%|██████████| 1.01G/1.01G [00:33<00:00, 30.5MB/s]\n"
          ],
          "name": "stderr"
        },
        {
          "output_type": "stream",
          "text": [
            "2021-01-22 18:47:40 - Load SentenceTransformer from folder: /root/.cache/torch/sentence_transformers/sbert.net_models_paraphrase-xlm-r-multilingual-v1\n",
            "2021-01-22 18:47:48 - Use pytorch device: cuda\n"
          ],
          "name": "stdout"
        }
      ]
    },
    {
      "cell_type": "code",
      "metadata": {
        "colab": {
          "base_uri": "https://localhost:8080/"
        },
        "id": "-v0Kq7FiZdnq",
        "outputId": "c3921e71-717d-4cd1-e7a6-9362da07efe8"
      },
      "source": [
        "# result without training\r\n",
        "model.evaluate(ir_evaluator)"
      ],
      "execution_count": null,
      "outputs": [
        {
          "output_type": "stream",
          "text": [
            "2021-01-22 18:47:58 - Information Retrieval Evaluation on czywiesz dataset:\n",
            "2021-01-22 18:48:13 - Accuracy@1: 92.90%\n",
            "2021-01-22 18:48:13 - Accuracy@3: 97.43%\n",
            "2021-01-22 18:48:13 - Accuracy@5: 98.04%\n",
            "2021-01-22 18:48:13 - Accuracy@10: 98.65%\n",
            "2021-01-22 18:48:13 - Precision@1: 92.90%\n",
            "2021-01-22 18:48:13 - Precision@3: 32.48%\n",
            "2021-01-22 18:48:13 - Precision@5: 19.61%\n",
            "2021-01-22 18:48:13 - Precision@10: 9.87%\n",
            "2021-01-22 18:48:13 - Recall@1: 92.90%\n",
            "2021-01-22 18:48:13 - Recall@3: 97.43%\n",
            "2021-01-22 18:48:13 - Recall@5: 98.04%\n",
            "2021-01-22 18:48:13 - Recall@10: 98.65%\n",
            "2021-01-22 18:48:13 - MRR@10: 0.9524\n",
            "2021-01-22 18:48:13 - NDCG@10: 0.9609\n",
            "2021-01-22 18:48:13 - MAP@100: 0.9527\n",
            "2021-01-22 18:48:13 - Queries: 817\n",
            "2021-01-22 18:48:13 - Corpus: 817\n",
            "\n"
          ],
          "name": "stdout"
        },
        {
          "output_type": "execute_result",
          "data": {
            "text/plain": [
              "0.9527202099403028"
            ]
          },
          "metadata": {
            "tags": []
          },
          "execution_count": 16
        }
      ]
    },
    {
      "cell_type": "code",
      "metadata": {
        "id": "dGTW6h3OYxX9"
      },
      "source": [
        "train_loss = losses.MultipleNegativesRankingLoss(model=model)"
      ],
      "execution_count": null,
      "outputs": []
    },
    {
      "cell_type": "code",
      "metadata": {
        "colab": {
          "base_uri": "https://localhost:8080/",
          "height": 1000,
          "referenced_widgets": [
            "0bfe2908e50a4fc28e011e820aa3787d",
            "01d96434536747219fc1d8b30ff8a47b",
            "b4afc00e951e44fcbf458ece75040fce",
            "eecf0498449849089d98155fd28b073a",
            "f70b327b123347faa5971298ab944148",
            "10149d4ece90439ca8ac020d69af3776",
            "ebb9ac1d9487483bae7132ac7b11bbf6",
            "f3eee20dbc234c4fa0617a4542c9c2b7",
            "cff940273c2b4609bd6e37f8bb483895",
            "44d6369fbdd947a29cea84399ca27e1f",
            "4bd5bcdbd3154c66b1b86d0afcba5a9a",
            "bf7cf9c5e03540688a24a55245d1745a",
            "57194b2372684ec280f49d37c0d09387",
            "9955433c38ca4d50a1707fd42a2e0522",
            "547ceb152825418db1bac97807cc68a9",
            "0a6639985212423693c9142f8ad13019",
            "5d66c99c7e794a5d874c18b5eac747ae",
            "98ade0ff68a54d1095849bd22e80aad6",
            "103e292d400c4dee9ef42db092e26c70",
            "008c0761790b4394850b678db7856e0c",
            "600e854f470c441283895d5abdb85e8d",
            "b07312da8e3a493b882a404b582c2129",
            "5ef9471336d14c20a43fc4b536eecf87",
            "76ee2a1460874b438fb16e88a0446010",
            "045cedfdaa804ef68c44b325ecc910be",
            "fb18c0dff1fe4d68ad0987d5aee287db",
            "cd49f5822881410b903c0230b4f02cec",
            "b0e85d40c4604ed58cf58ba5780083a2",
            "60f323735e5648fa98756eb8914ca33b",
            "d332a667791349c2a483a9941f73ed3b",
            "3db04d72b83a44b5bceb3aeea4d50e0a",
            "ff5fdb87da654dd899e6df35c1113c17",
            "4faf2d392d9d4b46b72008b40e3a0c70",
            "5397a50b5bdf414e9e0c9f35408ca68a",
            "18d8046eedcc4328b746dde9c5341f7b",
            "adf715161bed446a99acf20c37a5fe11",
            "1fefe6e8c62d4f7f9e93061b5bf3fcaf",
            "62071c9aa6e74770ab21fc99c465ac99",
            "9d79342829144502910f3770e34674b9",
            "1ab83f53f1bf402da5b5d106da8d8fc4",
            "28c64f27fdcc49d39c9155e789382831"
          ]
        },
        "id": "8ILFgqXcY9xD",
        "outputId": "3b0dc24c-5fe1-4f4f-e940-7cb00aeb1d1c"
      },
      "source": [
        "# Train the model for 5 epochs\r\n",
        "import math\r\n",
        "num_epochs = 5\r\n",
        "warmup_steps = math.ceil(len(train_dataloader) * num_epochs  * 0.1) #10% of train data for warm-up\r\n",
        "model.fit(train_objectives=[(train_dataloader, train_loss)],\r\n",
        "          evaluator=ir_evaluator,\r\n",
        "          epochs=num_epochs,\r\n",
        "          warmup_steps=1000,\r\n",
        "          output_path=model_save_path,\r\n",
        "          evaluation_steps=500,\r\n",
        "          use_amp=True\r\n",
        "          )"
      ],
      "execution_count": null,
      "outputs": [
        {
          "output_type": "display_data",
          "data": {
            "application/vnd.jupyter.widget-view+json": {
              "model_id": "0bfe2908e50a4fc28e011e820aa3787d",
              "version_major": 2,
              "version_minor": 0
            },
            "text/plain": [
              "HBox(children=(FloatProgress(value=0.0, description='Epoch', max=5.0, style=ProgressStyle(description_width='i…"
            ]
          },
          "metadata": {
            "tags": []
          }
        },
        {
          "output_type": "display_data",
          "data": {
            "application/vnd.jupyter.widget-view+json": {
              "model_id": "cff940273c2b4609bd6e37f8bb483895",
              "version_major": 2,
              "version_minor": 0
            },
            "text/plain": [
              "HBox(children=(FloatProgress(value=0.0, description='Iteration', max=63.0, style=ProgressStyle(description_wid…"
            ]
          },
          "metadata": {
            "tags": []
          }
        },
        {
          "output_type": "stream",
          "text": [
            "\n",
            "2021-01-22 18:49:35 - Information Retrieval Evaluation on czywiesz dataset after epoch 0:\n",
            "2021-01-22 18:49:39 - Accuracy@1: 95.35%\n",
            "2021-01-22 18:49:39 - Accuracy@3: 97.92%\n",
            "2021-01-22 18:49:39 - Accuracy@5: 98.16%\n",
            "2021-01-22 18:49:39 - Accuracy@10: 98.41%\n",
            "2021-01-22 18:49:39 - Precision@1: 95.35%\n",
            "2021-01-22 18:49:39 - Precision@3: 32.64%\n",
            "2021-01-22 18:49:39 - Precision@5: 19.63%\n",
            "2021-01-22 18:49:39 - Precision@10: 9.84%\n",
            "2021-01-22 18:49:39 - Recall@1: 95.35%\n",
            "2021-01-22 18:49:39 - Recall@3: 97.92%\n",
            "2021-01-22 18:49:39 - Recall@5: 98.16%\n",
            "2021-01-22 18:49:39 - Recall@10: 98.41%\n",
            "2021-01-22 18:49:39 - MRR@10: 0.9658\n",
            "2021-01-22 18:49:39 - NDCG@10: 0.9704\n",
            "2021-01-22 18:49:39 - MAP@100: 0.9664\n",
            "2021-01-22 18:49:39 - Queries: 817\n",
            "2021-01-22 18:49:39 - Corpus: 817\n",
            "\n",
            "2021-01-22 18:49:39 - Save model to output/training_ms-marco_bi-encoder-paraphrase-xlm-r-multilingual-v1-2021-01-22_18-46-49\n"
          ],
          "name": "stdout"
        },
        {
          "output_type": "display_data",
          "data": {
            "application/vnd.jupyter.widget-view+json": {
              "model_id": "5d66c99c7e794a5d874c18b5eac747ae",
              "version_major": 2,
              "version_minor": 0
            },
            "text/plain": [
              "HBox(children=(FloatProgress(value=0.0, description='Iteration', max=63.0, style=ProgressStyle(description_wid…"
            ]
          },
          "metadata": {
            "tags": []
          }
        },
        {
          "output_type": "stream",
          "text": [
            "\n",
            "2021-01-22 18:50:31 - Information Retrieval Evaluation on czywiesz dataset after epoch 1:\n",
            "2021-01-22 18:50:36 - Accuracy@1: 95.59%\n",
            "2021-01-22 18:50:36 - Accuracy@3: 97.67%\n",
            "2021-01-22 18:50:36 - Accuracy@5: 98.41%\n",
            "2021-01-22 18:50:36 - Accuracy@10: 98.65%\n",
            "2021-01-22 18:50:36 - Precision@1: 95.59%\n",
            "2021-01-22 18:50:36 - Precision@3: 32.56%\n",
            "2021-01-22 18:50:36 - Precision@5: 19.68%\n",
            "2021-01-22 18:50:36 - Precision@10: 9.87%\n",
            "2021-01-22 18:50:36 - Recall@1: 95.59%\n",
            "2021-01-22 18:50:36 - Recall@3: 97.67%\n",
            "2021-01-22 18:50:36 - Recall@5: 98.41%\n",
            "2021-01-22 18:50:36 - Recall@10: 98.65%\n",
            "2021-01-22 18:50:36 - MRR@10: 0.9674\n",
            "2021-01-22 18:50:36 - NDCG@10: 0.9721\n",
            "2021-01-22 18:50:36 - MAP@100: 0.9678\n",
            "2021-01-22 18:50:36 - Queries: 817\n",
            "2021-01-22 18:50:36 - Corpus: 817\n",
            "\n",
            "2021-01-22 18:50:36 - Save model to output/training_ms-marco_bi-encoder-paraphrase-xlm-r-multilingual-v1-2021-01-22_18-46-49\n"
          ],
          "name": "stdout"
        },
        {
          "output_type": "display_data",
          "data": {
            "application/vnd.jupyter.widget-view+json": {
              "model_id": "045cedfdaa804ef68c44b325ecc910be",
              "version_major": 2,
              "version_minor": 0
            },
            "text/plain": [
              "HBox(children=(FloatProgress(value=0.0, description='Iteration', max=63.0, style=ProgressStyle(description_wid…"
            ]
          },
          "metadata": {
            "tags": []
          }
        },
        {
          "output_type": "stream",
          "text": [
            "\n",
            "2021-01-22 18:51:27 - Information Retrieval Evaluation on czywiesz dataset after epoch 2:\n",
            "2021-01-22 18:51:32 - Accuracy@1: 95.10%\n",
            "2021-01-22 18:51:32 - Accuracy@3: 97.92%\n",
            "2021-01-22 18:51:32 - Accuracy@5: 98.41%\n",
            "2021-01-22 18:51:32 - Accuracy@10: 98.65%\n",
            "2021-01-22 18:51:32 - Precision@1: 95.10%\n",
            "2021-01-22 18:51:32 - Precision@3: 32.64%\n",
            "2021-01-22 18:51:32 - Precision@5: 19.68%\n",
            "2021-01-22 18:51:32 - Precision@10: 9.87%\n",
            "2021-01-22 18:51:32 - Recall@1: 95.10%\n",
            "2021-01-22 18:51:32 - Recall@3: 97.92%\n",
            "2021-01-22 18:51:32 - Recall@5: 98.41%\n",
            "2021-01-22 18:51:32 - Recall@10: 98.65%\n",
            "2021-01-22 18:51:32 - MRR@10: 0.9655\n",
            "2021-01-22 18:51:32 - NDCG@10: 0.9707\n",
            "2021-01-22 18:51:32 - MAP@100: 0.9659\n",
            "2021-01-22 18:51:32 - Queries: 817\n",
            "2021-01-22 18:51:32 - Corpus: 817\n",
            "\n"
          ],
          "name": "stdout"
        },
        {
          "output_type": "display_data",
          "data": {
            "application/vnd.jupyter.widget-view+json": {
              "model_id": "4faf2d392d9d4b46b72008b40e3a0c70",
              "version_major": 2,
              "version_minor": 0
            },
            "text/plain": [
              "HBox(children=(FloatProgress(value=0.0, description='Iteration', max=63.0, style=ProgressStyle(description_wid…"
            ]
          },
          "metadata": {
            "tags": []
          }
        },
        {
          "output_type": "stream",
          "text": [
            "\n",
            "2021-01-22 18:52:19 - Information Retrieval Evaluation on czywiesz dataset after epoch 3:\n",
            "\n",
            "2021-01-22 18:52:19 - Information Retrieval Evaluation on czywiesz dataset after epoch 3:\n",
            "\n",
            "2021-01-22 18:52:19 - Information Retrieval Evaluation on czywiesz dataset after epoch 3:\n",
            "\n",
            "2021-01-22 18:52:19 - Information Retrieval Evaluation on czywiesz dataset after epoch 3:\n",
            "\n",
            "2021-01-22 18:52:19 - Information Retrieval Evaluation on czywiesz dataset after epoch 3:\n",
            "2021-01-22 18:52:24 - Accuracy@1: 95.35%\n",
            "2021-01-22 18:52:24 - Accuracy@3: 97.43%\n",
            "2021-01-22 18:52:24 - Accuracy@5: 98.29%\n",
            "2021-01-22 18:52:24 - Accuracy@10: 98.53%\n",
            "2021-01-22 18:52:24 - Precision@1: 95.35%\n",
            "2021-01-22 18:52:24 - Precision@3: 32.48%\n",
            "2021-01-22 18:52:24 - Precision@5: 19.66%\n",
            "2021-01-22 18:52:24 - Precision@10: 9.85%\n",
            "2021-01-22 18:52:24 - Recall@1: 95.35%\n",
            "2021-01-22 18:52:24 - Recall@3: 97.43%\n",
            "2021-01-22 18:52:24 - Recall@5: 98.29%\n",
            "2021-01-22 18:52:24 - Recall@10: 98.53%\n",
            "2021-01-22 18:52:24 - MRR@10: 0.9656\n",
            "2021-01-22 18:52:24 - NDCG@10: 0.9705\n",
            "2021-01-22 18:52:24 - MAP@100: 0.9662\n",
            "2021-01-22 18:52:24 - Queries: 817\n",
            "2021-01-22 18:52:24 - Corpus: 817\n",
            "\n",
            "2021-01-22 18:52:24 - Accuracy@1: 95.35%\n",
            "2021-01-22 18:52:24 - Accuracy@3: 97.43%\n",
            "2021-01-22 18:52:24 - Accuracy@5: 98.29%\n",
            "2021-01-22 18:52:24 - Accuracy@10: 98.53%\n",
            "2021-01-22 18:52:24 - Precision@1: 95.35%\n",
            "2021-01-22 18:52:24 - Precision@3: 32.48%\n",
            "2021-01-22 18:52:24 - Precision@5: 19.66%\n",
            "2021-01-22 18:52:24 - Precision@10: 9.85%\n",
            "2021-01-22 18:52:24 - Recall@1: 95.35%\n",
            "2021-01-22 18:52:24 - Recall@3: 97.43%\n",
            "2021-01-22 18:52:24 - Recall@5: 98.29%\n",
            "2021-01-22 18:52:24 - Recall@10: 98.53%\n",
            "2021-01-22 18:52:24 - MRR@10: 0.9656\n",
            "2021-01-22 18:52:24 - NDCG@10: 0.9705\n",
            "2021-01-22 18:52:24 - MAP@100: 0.9662\n",
            "2021-01-22 18:52:24 - Queries: 817\n",
            "2021-01-22 18:52:24 - Corpus: 817\n",
            "\n",
            "2021-01-22 18:52:24 - Accuracy@1: 95.35%\n",
            "2021-01-22 18:52:24 - Accuracy@3: 97.43%\n",
            "2021-01-22 18:52:24 - Accuracy@5: 98.29%\n",
            "2021-01-22 18:52:24 - Accuracy@10: 98.53%\n",
            "2021-01-22 18:52:24 - Precision@1: 95.35%\n",
            "2021-01-22 18:52:24 - Precision@3: 32.48%\n",
            "2021-01-22 18:52:24 - Precision@5: 19.66%\n",
            "2021-01-22 18:52:24 - Precision@10: 9.85%\n",
            "2021-01-22 18:52:24 - Recall@1: 95.35%\n",
            "2021-01-22 18:52:24 - Recall@3: 97.43%\n",
            "2021-01-22 18:52:24 - Recall@5: 98.29%\n",
            "2021-01-22 18:52:24 - Recall@10: 98.53%\n",
            "2021-01-22 18:52:24 - MRR@10: 0.9656\n",
            "2021-01-22 18:52:24 - NDCG@10: 0.9705\n",
            "2021-01-22 18:52:24 - MAP@100: 0.9662\n",
            "2021-01-22 18:52:24 - Queries: 817\n",
            "2021-01-22 18:52:24 - Corpus: 817\n",
            "\n",
            "2021-01-22 18:52:24 - Accuracy@1: 95.35%\n",
            "2021-01-22 18:52:24 - Accuracy@3: 97.43%\n",
            "2021-01-22 18:52:24 - Accuracy@5: 98.29%\n",
            "2021-01-22 18:52:24 - Accuracy@10: 98.53%\n",
            "2021-01-22 18:52:24 - Precision@1: 95.35%\n",
            "2021-01-22 18:52:24 - Precision@3: 32.48%\n",
            "2021-01-22 18:52:24 - Precision@5: 19.66%\n",
            "2021-01-22 18:52:24 - Precision@10: 9.85%\n",
            "2021-01-22 18:52:24 - Recall@1: 95.35%\n",
            "2021-01-22 18:52:24 - Recall@3: 97.43%\n",
            "2021-01-22 18:52:24 - Recall@5: 98.29%\n",
            "2021-01-22 18:52:24 - Recall@10: 98.53%\n",
            "2021-01-22 18:52:24 - MRR@10: 0.9656\n",
            "2021-01-22 18:52:24 - NDCG@10: 0.9705\n",
            "2021-01-22 18:52:24 - MAP@100: 0.9662\n",
            "2021-01-22 18:52:24 - Queries: 817\n",
            "2021-01-22 18:52:24 - Corpus: 817\n",
            "\n",
            "2021-01-22 18:52:24 - Accuracy@1: 95.35%\n",
            "2021-01-22 18:52:24 - Accuracy@3: 97.43%\n",
            "2021-01-22 18:52:24 - Accuracy@5: 98.29%\n",
            "2021-01-22 18:52:24 - Accuracy@10: 98.53%\n",
            "2021-01-22 18:52:24 - Precision@1: 95.35%\n",
            "2021-01-22 18:52:24 - Precision@3: 32.48%\n",
            "2021-01-22 18:52:24 - Precision@5: 19.66%\n",
            "2021-01-22 18:52:24 - Precision@10: 9.85%\n",
            "2021-01-22 18:52:24 - Recall@1: 95.35%\n",
            "2021-01-22 18:52:24 - Recall@3: 97.43%\n",
            "2021-01-22 18:52:24 - Recall@5: 98.29%\n",
            "2021-01-22 18:52:24 - Recall@10: 98.53%\n",
            "2021-01-22 18:52:24 - MRR@10: 0.9656\n",
            "2021-01-22 18:52:24 - NDCG@10: 0.9705\n",
            "2021-01-22 18:52:24 - MAP@100: 0.9662\n",
            "2021-01-22 18:52:24 - Queries: 817\n",
            "2021-01-22 18:52:24 - Corpus: 817\n",
            "\n"
          ],
          "name": "stdout"
        },
        {
          "output_type": "display_data",
          "data": {
            "application/vnd.jupyter.widget-view+json": {
              "model_id": "5397a50b5bdf414e9e0c9f35408ca68a",
              "version_minor": 0,
              "version_major": 2
            },
            "text/plain": [
              "HBox(children=(FloatProgress(value=0.0, description='Iteration', max=63.0, style=ProgressStyle(description_wid…"
            ]
          },
          "metadata": {
            "tags": []
          }
        },
        {
          "output_type": "display_data",
          "data": {
            "application/vnd.jupyter.widget-view+json": {
              "model_id": "5397a50b5bdf414e9e0c9f35408ca68a",
              "version_minor": 0,
              "version_major": 2
            },
            "text/plain": [
              "HBox(children=(FloatProgress(value=0.0, description='Iteration', max=63.0, style=ProgressStyle(description_wid…"
            ]
          },
          "metadata": {
            "tags": []
          }
        },
        {
          "output_type": "display_data",
          "data": {
            "application/vnd.jupyter.widget-view+json": {
              "model_id": "5397a50b5bdf414e9e0c9f35408ca68a",
              "version_minor": 0,
              "version_major": 2
            },
            "text/plain": [
              "HBox(children=(FloatProgress(value=0.0, description='Iteration', max=63.0, style=ProgressStyle(description_wid…"
            ]
          },
          "metadata": {
            "tags": []
          }
        },
        {
          "output_type": "display_data",
          "data": {
            "application/vnd.jupyter.widget-view+json": {
              "model_id": "5397a50b5bdf414e9e0c9f35408ca68a",
              "version_minor": 0,
              "version_major": 2
            },
            "text/plain": [
              "HBox(children=(FloatProgress(value=0.0, description='Iteration', max=63.0, style=ProgressStyle(description_wid…"
            ]
          },
          "metadata": {
            "tags": []
          }
        },
        {
          "output_type": "display_data",
          "data": {
            "application/vnd.jupyter.widget-view+json": {
              "model_id": "5397a50b5bdf414e9e0c9f35408ca68a",
              "version_minor": 0,
              "version_major": 2
            },
            "text/plain": [
              "HBox(children=(FloatProgress(value=0.0, description='Iteration', max=63.0, style=ProgressStyle(description_wid…"
            ]
          },
          "metadata": {
            "tags": []
          }
        },
        {
          "output_type": "stream",
          "text": [
            "\n",
            "2021-01-22 18:53:12 - Information Retrieval Evaluation on czywiesz dataset after epoch 4:\n",
            "\n",
            "2021-01-22 18:53:12 - Information Retrieval Evaluation on czywiesz dataset after epoch 4:\n",
            "\n",
            "2021-01-22 18:53:12 - Information Retrieval Evaluation on czywiesz dataset after epoch 4:\n",
            "\n",
            "2021-01-22 18:53:12 - Information Retrieval Evaluation on czywiesz dataset after epoch 4:\n",
            "\n",
            "2021-01-22 18:53:12 - Information Retrieval Evaluation on czywiesz dataset after epoch 4:\n",
            "2021-01-22 18:53:17 - Accuracy@1: 94.98%\n",
            "2021-01-22 18:53:17 - Accuracy@3: 97.43%\n",
            "2021-01-22 18:53:17 - Accuracy@5: 98.29%\n",
            "2021-01-22 18:53:17 - Accuracy@10: 98.65%\n",
            "2021-01-22 18:53:17 - Precision@1: 94.98%\n",
            "2021-01-22 18:53:17 - Precision@3: 32.48%\n",
            "2021-01-22 18:53:17 - Precision@5: 19.66%\n",
            "2021-01-22 18:53:17 - Precision@10: 9.87%\n",
            "2021-01-22 18:53:17 - Recall@1: 94.98%\n",
            "2021-01-22 18:53:17 - Recall@3: 97.43%\n",
            "2021-01-22 18:53:17 - Recall@5: 98.29%\n",
            "2021-01-22 18:53:17 - Recall@10: 98.65%\n",
            "2021-01-22 18:53:17 - MRR@10: 0.9639\n",
            "2021-01-22 18:53:17 - NDCG@10: 0.9695\n",
            "2021-01-22 18:53:17 - MAP@100: 0.9643\n",
            "2021-01-22 18:53:17 - Queries: 817\n",
            "2021-01-22 18:53:17 - Corpus: 817\n",
            "\n",
            "\n",
            "2021-01-22 18:53:17 - Accuracy@1: 94.98%\n",
            "2021-01-22 18:53:17 - Accuracy@3: 97.43%\n",
            "2021-01-22 18:53:17 - Accuracy@5: 98.29%\n",
            "2021-01-22 18:53:17 - Accuracy@10: 98.65%\n",
            "2021-01-22 18:53:17 - Precision@1: 94.98%\n",
            "2021-01-22 18:53:17 - Precision@3: 32.48%\n",
            "2021-01-22 18:53:17 - Precision@5: 19.66%\n",
            "2021-01-22 18:53:17 - Precision@10: 9.87%\n",
            "2021-01-22 18:53:17 - Recall@1: 94.98%\n",
            "2021-01-22 18:53:17 - Recall@3: 97.43%\n",
            "2021-01-22 18:53:17 - Recall@5: 98.29%\n",
            "2021-01-22 18:53:17 - Recall@10: 98.65%\n",
            "2021-01-22 18:53:17 - MRR@10: 0.9639\n",
            "2021-01-22 18:53:17 - NDCG@10: 0.9695\n",
            "2021-01-22 18:53:17 - MAP@100: 0.9643\n",
            "2021-01-22 18:53:17 - Queries: 817\n",
            "2021-01-22 18:53:17 - Corpus: 817\n",
            "\n",
            "\n",
            "2021-01-22 18:53:17 - Accuracy@1: 94.98%\n",
            "2021-01-22 18:53:17 - Accuracy@3: 97.43%\n",
            "2021-01-22 18:53:17 - Accuracy@5: 98.29%\n",
            "2021-01-22 18:53:17 - Accuracy@10: 98.65%\n",
            "2021-01-22 18:53:17 - Precision@1: 94.98%\n",
            "2021-01-22 18:53:17 - Precision@3: 32.48%\n",
            "2021-01-22 18:53:17 - Precision@5: 19.66%\n",
            "2021-01-22 18:53:17 - Precision@10: 9.87%\n",
            "2021-01-22 18:53:17 - Recall@1: 94.98%\n",
            "2021-01-22 18:53:17 - Recall@3: 97.43%\n",
            "2021-01-22 18:53:17 - Recall@5: 98.29%\n",
            "2021-01-22 18:53:17 - Recall@10: 98.65%\n",
            "2021-01-22 18:53:17 - MRR@10: 0.9639\n",
            "2021-01-22 18:53:17 - NDCG@10: 0.9695\n",
            "2021-01-22 18:53:17 - MAP@100: 0.9643\n",
            "2021-01-22 18:53:17 - Queries: 817\n",
            "2021-01-22 18:53:17 - Corpus: 817\n",
            "\n",
            "\n",
            "2021-01-22 18:53:17 - Accuracy@1: 94.98%\n",
            "2021-01-22 18:53:17 - Accuracy@3: 97.43%\n",
            "2021-01-22 18:53:17 - Accuracy@5: 98.29%\n",
            "2021-01-22 18:53:17 - Accuracy@10: 98.65%\n",
            "2021-01-22 18:53:17 - Precision@1: 94.98%\n",
            "2021-01-22 18:53:17 - Precision@3: 32.48%\n",
            "2021-01-22 18:53:17 - Precision@5: 19.66%\n",
            "2021-01-22 18:53:17 - Precision@10: 9.87%\n",
            "2021-01-22 18:53:17 - Recall@1: 94.98%\n",
            "2021-01-22 18:53:17 - Recall@3: 97.43%\n",
            "2021-01-22 18:53:17 - Recall@5: 98.29%\n",
            "2021-01-22 18:53:17 - Recall@10: 98.65%\n",
            "2021-01-22 18:53:17 - MRR@10: 0.9639\n",
            "2021-01-22 18:53:17 - NDCG@10: 0.9695\n",
            "2021-01-22 18:53:17 - MAP@100: 0.9643\n",
            "2021-01-22 18:53:17 - Queries: 817\n",
            "2021-01-22 18:53:17 - Corpus: 817\n",
            "\n",
            "\n",
            "2021-01-22 18:53:17 - Accuracy@1: 94.98%\n",
            "2021-01-22 18:53:17 - Accuracy@3: 97.43%\n",
            "2021-01-22 18:53:17 - Accuracy@5: 98.29%\n",
            "2021-01-22 18:53:17 - Accuracy@10: 98.65%\n",
            "2021-01-22 18:53:17 - Precision@1: 94.98%\n",
            "2021-01-22 18:53:17 - Precision@3: 32.48%\n",
            "2021-01-22 18:53:17 - Precision@5: 19.66%\n",
            "2021-01-22 18:53:17 - Precision@10: 9.87%\n",
            "2021-01-22 18:53:17 - Recall@1: 94.98%\n",
            "2021-01-22 18:53:17 - Recall@3: 97.43%\n",
            "2021-01-22 18:53:17 - Recall@5: 98.29%\n",
            "2021-01-22 18:53:17 - Recall@10: 98.65%\n",
            "2021-01-22 18:53:17 - MRR@10: 0.9639\n",
            "2021-01-22 18:53:17 - NDCG@10: 0.9695\n",
            "2021-01-22 18:53:17 - MAP@100: 0.9643\n",
            "2021-01-22 18:53:17 - Queries: 817\n",
            "2021-01-22 18:53:17 - Corpus: 817\n",
            "\n",
            "\n"
          ],
          "name": "stdout"
        }
      ]
    },
    {
      "cell_type": "code",
      "metadata": {
        "colab": {
          "base_uri": "https://localhost:8080/"
        },
        "id": "z0sHv-TPciqB",
        "outputId": "38f4f287-8573-40b1-e03e-980b50ec4c64"
      },
      "source": [
        "!mkdir /content/drive/MyDrive/models\r\n",
        "!cp -r /content/output/training_ms-marco_bi-encoder-paraphrase-xlm-r-multilingual-v1-2021-01-22_18-46-49 /content/drive/MyDrive/models"
      ],
      "execution_count": null,
      "outputs": [
        {
          "output_type": "stream",
          "text": [
            "mkdir: cannot create directory ‘/content/drive/MyDrive/models’: File exists\n"
          ],
          "name": "stdout"
        }
      ]
    },
    {
      "cell_type": "markdown",
      "metadata": {
        "id": "5srciZhWhd9s"
      },
      "source": [
        "### Check performance on embeddings"
      ]
    },
    {
      "cell_type": "code",
      "metadata": {
        "colab": {
          "base_uri": "https://localhost:8080/"
        },
        "id": "PIIyNTp_hTlk",
        "outputId": "ac76e315-b9d2-47b2-f2d1-6520f086d1b9"
      },
      "source": [
        "model = SentenceTransformer('/content/drive/MyDrive/models/training_ms-marco_bi-encoder-paraphrase-xlm-r-multilingual-v1-2021-01-22_18-46-49')"
      ],
      "execution_count": null,
      "outputs": [
        {
          "output_type": "stream",
          "text": [
            "2021-01-23 09:13:45 - Load pretrained SentenceTransformer: /content/drive/MyDrive/models/training_ms-marco_bi-encoder-paraphrase-xlm-r-multilingual-v1-2021-01-22_18-46-49\n",
            "2021-01-23 09:13:45 - Load SentenceTransformer from folder: /content/drive/MyDrive/models/training_ms-marco_bi-encoder-paraphrase-xlm-r-multilingual-v1-2021-01-22_18-46-49\n",
            "2021-01-23 09:14:09 - Use pytorch device: cuda\n"
          ],
          "name": "stdout"
        }
      ]
    },
    {
      "cell_type": "code",
      "metadata": {
        "colab": {
          "base_uri": "https://localhost:8080/",
          "height": 206
        },
        "id": "gMCIEILAhdZz",
        "outputId": "81988053-9073-446a-a3d8-23572704a7ac"
      },
      "source": [
        "cds = pd.read_csv('/content/drive/MyDrive/Polish CDSCorpus/dataset_1000.csv', sep='\\t')\r\n",
        "cds.head()"
      ],
      "execution_count": null,
      "outputs": [
        {
          "output_type": "execute_result",
          "data": {
            "text/html": [
              "<div>\n",
              "<style scoped>\n",
              "    .dataframe tbody tr th:only-of-type {\n",
              "        vertical-align: middle;\n",
              "    }\n",
              "\n",
              "    .dataframe tbody tr th {\n",
              "        vertical-align: top;\n",
              "    }\n",
              "\n",
              "    .dataframe thead th {\n",
              "        text-align: right;\n",
              "    }\n",
              "</style>\n",
              "<table border=\"1\" class=\"dataframe\">\n",
              "  <thead>\n",
              "    <tr style=\"text-align: right;\">\n",
              "      <th></th>\n",
              "      <th>ID</th>\n",
              "      <th>A</th>\n",
              "      <th>B</th>\n",
              "      <th>RE</th>\n",
              "      <th>round(RE)</th>\n",
              "      <th>A_wrt_B</th>\n",
              "      <th>B_wrt_A</th>\n",
              "    </tr>\n",
              "  </thead>\n",
              "  <tbody>\n",
              "    <tr>\n",
              "      <th>0</th>\n",
              "      <td>1</td>\n",
              "      <td>Zawodnik na boisku ze skórzaną rękawicą robi w...</td>\n",
              "      <td>Mężczyzna w sportowym stroju stoi na ugiętej n...</td>\n",
              "      <td>2.17</td>\n",
              "      <td>2</td>\n",
              "      <td>neutral</td>\n",
              "      <td>neutral</td>\n",
              "    </tr>\n",
              "    <tr>\n",
              "      <th>1</th>\n",
              "      <td>2</td>\n",
              "      <td>Zawodnik na boisku ze skórzaną rękawicą robi w...</td>\n",
              "      <td>Wykrok w przód jest robiony na piasku na boisk...</td>\n",
              "      <td>5.00</td>\n",
              "      <td>5</td>\n",
              "      <td>entailment</td>\n",
              "      <td>entailment</td>\n",
              "    </tr>\n",
              "    <tr>\n",
              "      <th>2</th>\n",
              "      <td>3</td>\n",
              "      <td>Zawodnik na boisku ze skórzaną rękawicą robi w...</td>\n",
              "      <td>Mężczyzna w sportowym stroju stoi na nodze, kt...</td>\n",
              "      <td>2.50</td>\n",
              "      <td>3</td>\n",
              "      <td>neutral</td>\n",
              "      <td>neutral</td>\n",
              "    </tr>\n",
              "    <tr>\n",
              "      <th>3</th>\n",
              "      <td>4</td>\n",
              "      <td>Zawodnik na boisku ze skórzaną rękawicą robi w...</td>\n",
              "      <td>Chłopak w czerwonych butach stoi na boisku z u...</td>\n",
              "      <td>1.50</td>\n",
              "      <td>2</td>\n",
              "      <td>neutral</td>\n",
              "      <td>neutral</td>\n",
              "    </tr>\n",
              "    <tr>\n",
              "      <th>4</th>\n",
              "      <td>5</td>\n",
              "      <td>Zawodnik na boisku ze skórzaną rękawicą robi w...</td>\n",
              "      <td>Osoba wykonuje skok przez przeszkodę na jasnob...</td>\n",
              "      <td>0.00</td>\n",
              "      <td>0</td>\n",
              "      <td>neutral</td>\n",
              "      <td>neutral</td>\n",
              "    </tr>\n",
              "  </tbody>\n",
              "</table>\n",
              "</div>"
            ],
            "text/plain": [
              "   ID  ...     B_wrt_A\n",
              "0   1  ...     neutral\n",
              "1   2  ...  entailment\n",
              "2   3  ...     neutral\n",
              "3   4  ...     neutral\n",
              "4   5  ...     neutral\n",
              "\n",
              "[5 rows x 7 columns]"
            ]
          },
          "metadata": {
            "tags": []
          },
          "execution_count": 14
        }
      ]
    },
    {
      "cell_type": "code",
      "metadata": {
        "id": "0pn41aORhjTg"
      },
      "source": [
        "cds_samples = []\r\n",
        "for index, row in cds.iterrows():\r\n",
        "  score = float(row['RE']) / 5.0\r\n",
        "  cds_samples.append(InputExample(texts=[row['A'], row['B']], label=score))"
      ],
      "execution_count": null,
      "outputs": []
    },
    {
      "cell_type": "code",
      "metadata": {
        "id": "hqXn-WFJhlB8"
      },
      "source": [
        "emb_evaluator = evaluation.EmbeddingSimilarityEvaluator.from_input_examples(cds_samples, name='cds')"
      ],
      "execution_count": null,
      "outputs": []
    },
    {
      "cell_type": "code",
      "metadata": {
        "colab": {
          "base_uri": "https://localhost:8080/"
        },
        "id": "8TobUxJkhw6v",
        "outputId": "3a89fe09-2ec9-468e-8bcf-637ae31fc6b2"
      },
      "source": [
        "model.evaluate(emb_evaluator)"
      ],
      "execution_count": null,
      "outputs": [
        {
          "output_type": "stream",
          "text": [
            "2021-01-23 09:15:44 - EmbeddingSimilarityEvaluator: Evaluating the model on cds dataset:\n",
            "2021-01-23 09:15:57 - Cosine-Similarity :\tPearson: 0.9203\tSpearman: 0.9269\n",
            "2021-01-23 09:15:57 - Manhattan-Distance:\tPearson: 0.9147\tSpearman: 0.9219\n",
            "2021-01-23 09:15:57 - Euclidean-Distance:\tPearson: 0.9165\tSpearman: 0.9238\n",
            "2021-01-23 09:15:57 - Dot-Product-Similarity:\tPearson: 0.8859\tSpearman: 0.8882\n"
          ],
          "name": "stdout"
        },
        {
          "output_type": "execute_result",
          "data": {
            "text/plain": [
              "0.9268805313393923"
            ]
          },
          "metadata": {
            "tags": []
          },
          "execution_count": 17
        }
      ]
    },
    {
      "cell_type": "markdown",
      "metadata": {
        "id": "8dbIbeaMiCS0"
      },
      "source": [
        "Before training\r\n",
        "```\r\n",
        "embeddings\r\n",
        "2021-01-23 00:43:46 - EmbeddingSimilarityEvaluator: Evaluating the model on cds dataset:\r\n",
        "2021-01-23 00:44:22 - Cosine-Similarity :\tPearson: 0.9158\tSpearman: 0.9106\r\n",
        "2021-01-23 00:44:22 - Manhattan-Distance:\tPearson: 0.9070\tSpearman: 0.9056\r\n",
        "2021-01-23 00:44:22 - Euclidean-Distance:\tPearson: 0.9083\tSpearman: 0.9071\r\n",
        "2021-01-23 00:44:22 - Dot-Product-Similarity:\tPearson: 0.8777\tSpearman: 0.8655\r\n",
        "```"
      ]
    },
    {
      "cell_type": "markdown",
      "metadata": {
        "id": "S5m2lEbaiUbL"
      },
      "source": [
        "### Train on CDS"
      ]
    },
    {
      "cell_type": "markdown",
      "metadata": {
        "id": "RdNuf7zVkWWE"
      },
      "source": [
        "Load model"
      ]
    },
    {
      "cell_type": "code",
      "metadata": {
        "colab": {
          "base_uri": "https://localhost:8080/"
        },
        "id": "c7YZjWlVjiZS",
        "outputId": "b8efd734-ac3b-4399-b000-5df5afd50308"
      },
      "source": [
        "model = SentenceTransformer('/content/drive/MyDrive/models/training_ms-marco_bi-encoder-paraphrase-xlm-r-multilingual-v1-2021-01-22_18-46-49')"
      ],
      "execution_count": null,
      "outputs": [
        {
          "output_type": "stream",
          "text": [
            "2021-01-23 10:08:40 - Load pretrained SentenceTransformer: /content/drive/MyDrive/models/training_ms-marco_bi-encoder-paraphrase-xlm-r-multilingual-v1-2021-01-22_18-46-49\n",
            "2021-01-23 10:08:40 - Load SentenceTransformer from folder: /content/drive/MyDrive/models/training_ms-marco_bi-encoder-paraphrase-xlm-r-multilingual-v1-2021-01-22_18-46-49\n",
            "2021-01-23 10:09:12 - Use pytorch device: cuda\n"
          ],
          "name": "stdout"
        }
      ]
    },
    {
      "cell_type": "markdown",
      "metadata": {
        "id": "KwsQdfHnkXq6"
      },
      "source": [
        "Prepare CDS"
      ]
    },
    {
      "cell_type": "code",
      "metadata": {
        "colab": {
          "base_uri": "https://localhost:8080/",
          "height": 206
        },
        "id": "XoIwWGCxiTe1",
        "outputId": "15494ada-c7d8-4f8d-a2d4-f9f65e75e8c2"
      },
      "source": [
        "cds = pd.read_csv('/content/drive/MyDrive/Polish CDSCorpus/dataset.csv', sep='\\t')\r\n",
        "cds.head()"
      ],
      "execution_count": null,
      "outputs": [
        {
          "output_type": "execute_result",
          "data": {
            "text/html": [
              "<div>\n",
              "<style scoped>\n",
              "    .dataframe tbody tr th:only-of-type {\n",
              "        vertical-align: middle;\n",
              "    }\n",
              "\n",
              "    .dataframe tbody tr th {\n",
              "        vertical-align: top;\n",
              "    }\n",
              "\n",
              "    .dataframe thead th {\n",
              "        text-align: right;\n",
              "    }\n",
              "</style>\n",
              "<table border=\"1\" class=\"dataframe\">\n",
              "  <thead>\n",
              "    <tr style=\"text-align: right;\">\n",
              "      <th></th>\n",
              "      <th>ID</th>\n",
              "      <th>A</th>\n",
              "      <th>B</th>\n",
              "      <th>RE</th>\n",
              "      <th>round(RE)</th>\n",
              "      <th>A_wrt_B</th>\n",
              "      <th>B_wrt_A</th>\n",
              "    </tr>\n",
              "  </thead>\n",
              "  <tbody>\n",
              "    <tr>\n",
              "      <th>0</th>\n",
              "      <td>1</td>\n",
              "      <td>Zawodnik na boisku ze skórzaną rękawicą robi w...</td>\n",
              "      <td>Mężczyzna w sportowym stroju stoi na ugiętej n...</td>\n",
              "      <td>2.17</td>\n",
              "      <td>2</td>\n",
              "      <td>neutral</td>\n",
              "      <td>neutral</td>\n",
              "    </tr>\n",
              "    <tr>\n",
              "      <th>1</th>\n",
              "      <td>2</td>\n",
              "      <td>Zawodnik na boisku ze skórzaną rękawicą robi w...</td>\n",
              "      <td>Wykrok w przód jest robiony na piasku na boisk...</td>\n",
              "      <td>5.00</td>\n",
              "      <td>5</td>\n",
              "      <td>entailment</td>\n",
              "      <td>entailment</td>\n",
              "    </tr>\n",
              "    <tr>\n",
              "      <th>2</th>\n",
              "      <td>3</td>\n",
              "      <td>Zawodnik na boisku ze skórzaną rękawicą robi w...</td>\n",
              "      <td>Mężczyzna w sportowym stroju stoi na nodze, kt...</td>\n",
              "      <td>2.50</td>\n",
              "      <td>3</td>\n",
              "      <td>neutral</td>\n",
              "      <td>neutral</td>\n",
              "    </tr>\n",
              "    <tr>\n",
              "      <th>3</th>\n",
              "      <td>4</td>\n",
              "      <td>Zawodnik na boisku ze skórzaną rękawicą robi w...</td>\n",
              "      <td>Chłopak w czerwonych butach stoi na boisku z u...</td>\n",
              "      <td>1.50</td>\n",
              "      <td>2</td>\n",
              "      <td>neutral</td>\n",
              "      <td>neutral</td>\n",
              "    </tr>\n",
              "    <tr>\n",
              "      <th>4</th>\n",
              "      <td>5</td>\n",
              "      <td>Zawodnik na boisku ze skórzaną rękawicą robi w...</td>\n",
              "      <td>Osoba wykonuje skok przez przeszkodę na jasnob...</td>\n",
              "      <td>0.00</td>\n",
              "      <td>0</td>\n",
              "      <td>neutral</td>\n",
              "      <td>neutral</td>\n",
              "    </tr>\n",
              "  </tbody>\n",
              "</table>\n",
              "</div>"
            ],
            "text/plain": [
              "   ID  ...     B_wrt_A\n",
              "0   1  ...     neutral\n",
              "1   2  ...  entailment\n",
              "2   3  ...     neutral\n",
              "3   4  ...     neutral\n",
              "4   5  ...     neutral\n",
              "\n",
              "[5 rows x 7 columns]"
            ]
          },
          "metadata": {
            "tags": []
          },
          "execution_count": 4
        }
      ]
    },
    {
      "cell_type": "code",
      "metadata": {
        "id": "Sru3u8idieE1"
      },
      "source": [
        "cds_samples = []\r\n",
        "for index, row in cds.iterrows():\r\n",
        "  score = float(row['RE']) / 5.0\r\n",
        "  cds_samples.append(InputExample(texts=[row['A'], row['B']], label=score))"
      ],
      "execution_count": null,
      "outputs": []
    },
    {
      "cell_type": "code",
      "metadata": {
        "id": "-U5pObonimsk"
      },
      "source": [
        "dev_samples = cds_samples[:1000]\r\n",
        "gold_samples = cds_samples[1000:]"
      ],
      "execution_count": null,
      "outputs": []
    },
    {
      "cell_type": "code",
      "metadata": {
        "id": "6n7qxQ_zise2"
      },
      "source": [
        "emb_evaluator = evaluation.EmbeddingSimilarityEvaluator.from_input_examples(dev_samples, name='cds')"
      ],
      "execution_count": null,
      "outputs": []
    },
    {
      "cell_type": "markdown",
      "metadata": {
        "id": "Iq_8bUm2kaFp"
      },
      "source": [
        "Prepare czywiesz"
      ]
    },
    {
      "cell_type": "code",
      "metadata": {
        "colab": {
          "base_uri": "https://localhost:8080/",
          "height": 310
        },
        "id": "aTs6W6PzkN3a",
        "outputId": "f514b7f9-38cb-452a-bcd0-ab90d9717cd8"
      },
      "source": [
        "full = pd.read_csv('/content/drive/MyDrive/czywieszki/answers.csv')\r\n",
        "full.drop(columns=['Unnamed: 0', 'Unnamed: 0.1'], inplace=True)\r\n",
        "full.head()"
      ],
      "execution_count": null,
      "outputs": [
        {
          "output_type": "execute_result",
          "data": {
            "text/html": [
              "<div>\n",
              "<style scoped>\n",
              "    .dataframe tbody tr th:only-of-type {\n",
              "        vertical-align: middle;\n",
              "    }\n",
              "\n",
              "    .dataframe tbody tr th {\n",
              "        vertical-align: top;\n",
              "    }\n",
              "\n",
              "    .dataframe thead th {\n",
              "        text-align: right;\n",
              "    }\n",
              "</style>\n",
              "<table border=\"1\" class=\"dataframe\">\n",
              "  <thead>\n",
              "    <tr style=\"text-align: right;\">\n",
              "      <th></th>\n",
              "      <th>id</th>\n",
              "      <th>url</th>\n",
              "      <th>title</th>\n",
              "      <th>text</th>\n",
              "      <th>question</th>\n",
              "      <th>sentence</th>\n",
              "      <th>answer</th>\n",
              "    </tr>\n",
              "  </thead>\n",
              "  <tbody>\n",
              "    <tr>\n",
              "      <th>0</th>\n",
              "      <td>2070375</td>\n",
              "      <td>http://pl.wikipedia.org/wiki/?curid=2070375</td>\n",
              "      <td>R136a1</td>\n",
              "      <td>R136a1 – gwiazda Wolfa-Rayeta typu widmowego W...</td>\n",
              "      <td>gdzie zaobserwowano najmasywniejszą znaną gwia...</td>\n",
              "      <td>['R136a1 – gwiazda Wolfa-Rayeta typu widmowego...</td>\n",
              "      <td>Na uzyskanych dzięki niemu zdjęciach można był...</td>\n",
              "    </tr>\n",
              "    <tr>\n",
              "      <th>1</th>\n",
              "      <td>2070656</td>\n",
              "      <td>http://pl.wikipedia.org/wiki/?curid=2070656</td>\n",
              "      <td>Apoteoza wojny</td>\n",
              "      <td>Apoteoza wojny (oryg. ros. Апофеоз войны, \"Apo...</td>\n",
              "      <td>komu Wasilij Wierieszczagin zadedykował swój o...</td>\n",
              "      <td>['Апофеоз войны, \"Apofieoz wojny\") – obraz Was...</td>\n",
              "      <td>Апофеоз войны, \"Apofieoz wojny\") – obraz Wasil...</td>\n",
              "    </tr>\n",
              "    <tr>\n",
              "      <th>2</th>\n",
              "      <td>2070790</td>\n",
              "      <td>http://pl.wikipedia.org/wiki/?curid=2070790</td>\n",
              "      <td>Widzenie chłopca Bartłomieja</td>\n",
              "      <td>Widzenie chłopca Bartłomieja (oryg. ros. \"Виде...</td>\n",
              "      <td>który święty prawosławny został ukazany na obr...</td>\n",
              "      <td>['\"Видение отроку Варфоломею\") – obraz Michaił...</td>\n",
              "      <td>Niestierow pragnął swoimi dziełami oddać hołd ...</td>\n",
              "    </tr>\n",
              "    <tr>\n",
              "      <th>3</th>\n",
              "      <td>2071346</td>\n",
              "      <td>http://pl.wikipedia.org/wiki/?curid=2071346</td>\n",
              "      <td>Cangjang Gjaco</td>\n",
              "      <td>Cangjang Gjaco (tyb. ཚང་དབྱངས་རྒྱ་མཚོ་ Wylie: ...</td>\n",
              "      <td>któremu dalajlamie przypisuje się nieśmierteln...</td>\n",
              "      <td>['ཚང་དབྱངས་རྒྱ་མཚོ་ Wylie: \"tshang-dbyangs-rgy...</td>\n",
              "      <td>Wśród świeckich tybetańskich rozpowszechnione ...</td>\n",
              "    </tr>\n",
              "    <tr>\n",
              "      <th>4</th>\n",
              "      <td>2071390</td>\n",
              "      <td>http://pl.wikipedia.org/wiki/?curid=2071390</td>\n",
              "      <td>Wojna erytrejsko-etiopska</td>\n",
              "      <td>Wojna erytrejsko-etiopska trwała w latach 1998...</td>\n",
              "      <td>jakie były skutki wojny erytrejsko-etiopskiej?</td>\n",
              "      <td>['Wojna erytrejsko-etiopska trwała w latach 19...</td>\n",
              "      <td>W wyniku działań wojsk etiopskich do przesiedl...</td>\n",
              "    </tr>\n",
              "  </tbody>\n",
              "</table>\n",
              "</div>"
            ],
            "text/plain": [
              "        id  ...                                             answer\n",
              "0  2070375  ...  Na uzyskanych dzięki niemu zdjęciach można był...\n",
              "1  2070656  ...  Апофеоз войны, \"Apofieoz wojny\") – obraz Wasil...\n",
              "2  2070790  ...  Niestierow pragnął swoimi dziełami oddać hołd ...\n",
              "3  2071346  ...  Wśród świeckich tybetańskich rozpowszechnione ...\n",
              "4  2071390  ...  W wyniku działań wojsk etiopskich do przesiedl...\n",
              "\n",
              "[5 rows x 7 columns]"
            ]
          },
          "metadata": {
            "tags": []
          },
          "execution_count": 8
        }
      ]
    },
    {
      "cell_type": "code",
      "metadata": {
        "id": "spHmiLTCkPR7"
      },
      "source": [
        "questions = full['question'].tolist()\r\n",
        "answers = full['answer'].tolist()"
      ],
      "execution_count": null,
      "outputs": []
    },
    {
      "cell_type": "code",
      "metadata": {
        "id": "CtLGOM9Bkeoe"
      },
      "source": [
        "train_questions, dev_questions = questions[:4000], questions[4000:]\r\n",
        "train_answers, dev_answers = answers[:4000], answers[4000:]"
      ],
      "execution_count": null,
      "outputs": []
    },
    {
      "cell_type": "code",
      "metadata": {
        "id": "e0TBzsSOkhZK"
      },
      "source": [
        "dev_queries = {}\r\n",
        "dev_corpus = {}\r\n",
        "dev_rel_docs = {}\r\n",
        "\r\n",
        "for i in range(len(dev_questions)):\r\n",
        "  idx = str(i)\r\n",
        "  dev_queries[idx] = dev_questions[i]\r\n",
        "  dev_corpus[idx] = dev_answers[i]\r\n",
        "  dev_rel_docs[idx] = {idx}"
      ],
      "execution_count": null,
      "outputs": []
    },
    {
      "cell_type": "code",
      "metadata": {
        "id": "NUFLsoQ5kj9B"
      },
      "source": [
        "ir_evaluator = evaluation.InformationRetrievalEvaluator(dev_queries, dev_corpus, dev_rel_docs, name='czywiesz')"
      ],
      "execution_count": null,
      "outputs": []
    },
    {
      "cell_type": "code",
      "metadata": {
        "id": "FIFsB6iQkxri"
      },
      "source": [
        "evaluator = evaluation.SequentialEvaluator([emb_evaluator, ir_evaluator])"
      ],
      "execution_count": null,
      "outputs": []
    },
    {
      "cell_type": "markdown",
      "metadata": {
        "id": "hokuSZaqkmzx"
      },
      "source": [
        "Training"
      ]
    },
    {
      "cell_type": "code",
      "metadata": {
        "id": "1MMiHrAci411"
      },
      "source": [
        "batch_size = 16\r\n",
        "num_epochs = 5\r\n",
        "train_dataloader = DataLoader(gold_samples, shuffle=True, batch_size=batch_size)\r\n",
        "train_loss = losses.CosineSimilarityLoss(model=model)\r\n",
        "model_name = 'czywiesz_model'\r\n",
        "model_save_path = 'output/training_cds_bi-encoder-'+model_name.replace(\"/\", \"-\")+'-'+datetime.now().strftime(\"%Y-%m-%d_%H-%M-%S\")"
      ],
      "execution_count": null,
      "outputs": []
    },
    {
      "cell_type": "code",
      "metadata": {
        "colab": {
          "base_uri": "https://localhost:8080/",
          "height": 1000,
          "referenced_widgets": [
            "427555adc578418889b39b11e9c20311",
            "7cb863abc4a54bc2a66b3c448f883697",
            "6524d849b32b47c281e488afcaf94a3c",
            "21468697da0d4526b50e364d6e1ac251",
            "88c4726c33824fd9b3b461e6c3bf547a",
            "59b4eb8deffd40bbb6e43bcb570bc517",
            "7c08a62101994b3db9da6b8cdac10468",
            "07c758e066474387b10ef8b4a17864d9",
            "b206d798d46c4897b88d7c1bc7cda7a4",
            "6f0dd7d732a74a97b0092971acce62dc",
            "aa9651549b7b4580904dc287ae7066b4",
            "39e9cb8926a644aab0dcf92706b576bf",
            "653fdcc383db47b8bc078625e45247d2",
            "ad6d78b4d55d45fcac23889b93fa7d48",
            "909f9e6279c040a689577a0b71931c66",
            "674c9e5b6808496fa672d2bd22f9e48d",
            "aac505b81e1a4ccb909ab747a538fc98",
            "11aee89c9b814d4a8c1876afdfa3d4c8",
            "074b283ccd004e1dad58925d4b437641",
            "84f98bfaad6d4d9ca66f7455c4cf519a",
            "86131fe75ffb449b882dd9128e8987c2",
            "4e9e8428ca034951b433e0e2599d5110",
            "b153b155f6a14a9580120afcde4c31e8",
            "0d7e1d96e10e4624adef7659a09632b3",
            "5d531419c5c34f6e8255945800c3b718",
            "7a144287051346899f7474c2dd32be3f",
            "bd19fbf42def469bad422697c4ef7dd8",
            "23948523dde344ef95038c3be93e8d28",
            "927779a622704a83b20ad25d5381eaf5",
            "085fe9b3fb51471fb8fc84fc2a13fe13",
            "a18a8e02021643108b2aa7cbd7577d29",
            "22e18a34b9044848b2819de8d938b95e",
            "1e1e91c1219f47e283bed34496dd996f",
            "713a8bf536d64a9986f131ed7c641f67",
            "57b37afd6fd549d5be967bd14f60a822",
            "5d5c045556b349a6bf7e8913ff144e91",
            "06b8dc9c1f8d42b5baa0231e70bc7d80",
            "232b38487b6d4015bdc226584e6110c8",
            "d771a2b953ce4ea58603ec838107a0a8",
            "94228518c8ee4d4da43d075e327f41a1",
            "91a263e0c98c4b4a922c76458ccb3e94",
            "2cb5729fa9fb487799ce35856da7de6b",
            "4ccf25cb83b145b0b6e72ac1178edeb8",
            "15da8d3ad0df424f917ca2ecfeebd4df",
            "5b205287e106450c9afd0ba08e2de3e4",
            "1568ff215fe74c33958c43c4586fb179",
            "15fc4b51646d4809bf5c635647ae89c0",
            "37238c9733ae4dfd9a12876623328307"
          ]
        },
        "id": "NeEX3-RXjM7b",
        "outputId": "7452deea-5511-4e1f-8e3e-1f81b35a9234"
      },
      "source": [
        "# Configure the training\r\n",
        "warmup_steps = math.ceil(len(train_dataloader) * num_epochs * 0.1) #10% of train data for warm-up\r\n",
        "model.fit(train_objectives=[(train_dataloader, train_loss)],\r\n",
        "          evaluator=evaluator,\r\n",
        "          epochs=num_epochs,\r\n",
        "          warmup_steps=warmup_steps,\r\n",
        "          evaluation_steps=250,\r\n",
        "          output_path=model_save_path)"
      ],
      "execution_count": null,
      "outputs": [
        {
          "output_type": "display_data",
          "data": {
            "application/vnd.jupyter.widget-view+json": {
              "model_id": "427555adc578418889b39b11e9c20311",
              "version_minor": 0,
              "version_major": 2
            },
            "text/plain": [
              "HBox(children=(FloatProgress(value=0.0, description='Epoch', max=5.0, style=ProgressStyle(description_width='i…"
            ]
          },
          "metadata": {
            "tags": []
          }
        },
        {
          "output_type": "display_data",
          "data": {
            "application/vnd.jupyter.widget-view+json": {
              "model_id": "b206d798d46c4897b88d7c1bc7cda7a4",
              "version_minor": 0,
              "version_major": 2
            },
            "text/plain": [
              "HBox(children=(FloatProgress(value=0.0, description='Iteration', max=563.0, style=ProgressStyle(description_wi…"
            ]
          },
          "metadata": {
            "tags": []
          }
        },
        {
          "output_type": "stream",
          "text": [
            "2021-01-23 09:38:11 - EmbeddingSimilarityEvaluator: Evaluating the model on cds dataset in epoch 0 after 250 steps:\n",
            "2021-01-23 09:38:14 - Cosine-Similarity :\tPearson: 0.9377\tSpearman: 0.9360\n",
            "2021-01-23 09:38:14 - Manhattan-Distance:\tPearson: 0.9101\tSpearman: 0.9219\n",
            "2021-01-23 09:38:14 - Euclidean-Distance:\tPearson: 0.9116\tSpearman: 0.9238\n",
            "2021-01-23 09:38:14 - Dot-Product-Similarity:\tPearson: 0.9220\tSpearman: 0.9224\n",
            "2021-01-23 09:38:14 - Information Retrieval Evaluation on czywiesz dataset in epoch 0 after 250 steps:\n",
            "2021-01-23 09:38:19 - Accuracy@1: 94.61%\n",
            "2021-01-23 09:38:19 - Accuracy@3: 97.43%\n",
            "2021-01-23 09:38:19 - Accuracy@5: 98.04%\n",
            "2021-01-23 09:38:19 - Accuracy@10: 98.65%\n",
            "2021-01-23 09:38:19 - Precision@1: 94.61%\n",
            "2021-01-23 09:38:19 - Precision@3: 32.48%\n",
            "2021-01-23 09:38:19 - Precision@5: 19.61%\n",
            "2021-01-23 09:38:19 - Precision@10: 9.87%\n",
            "2021-01-23 09:38:19 - Recall@1: 94.61%\n",
            "2021-01-23 09:38:19 - Recall@3: 97.43%\n",
            "2021-01-23 09:38:19 - Recall@5: 98.04%\n",
            "2021-01-23 09:38:19 - Recall@10: 98.65%\n",
            "2021-01-23 09:38:19 - MRR@10: 0.9615\n",
            "2021-01-23 09:38:19 - NDCG@10: 0.9677\n",
            "2021-01-23 09:38:19 - MAP@100: 0.9619\n",
            "2021-01-23 09:38:19 - Queries: 817\n",
            "2021-01-23 09:38:19 - Corpus: 817\n",
            "\n",
            "2021-01-23 09:38:19 - Save model to output/training_cds_bi-encoder-czywiesz_model-2021-01-23_09-36-43\n",
            "2021-01-23 09:39:45 - EmbeddingSimilarityEvaluator: Evaluating the model on cds dataset in epoch 0 after 500 steps:\n",
            "2021-01-23 09:39:49 - Cosine-Similarity :\tPearson: 0.9374\tSpearman: 0.9357\n",
            "2021-01-23 09:39:49 - Manhattan-Distance:\tPearson: 0.9128\tSpearman: 0.9263\n",
            "2021-01-23 09:39:49 - Euclidean-Distance:\tPearson: 0.9135\tSpearman: 0.9273\n",
            "2021-01-23 09:39:49 - Dot-Product-Similarity:\tPearson: 0.9244\tSpearman: 0.9246\n",
            "2021-01-23 09:39:49 - Information Retrieval Evaluation on czywiesz dataset in epoch 0 after 500 steps:\n",
            "2021-01-23 09:39:54 - Accuracy@1: 93.76%\n",
            "2021-01-23 09:39:54 - Accuracy@3: 97.18%\n",
            "2021-01-23 09:39:54 - Accuracy@5: 98.16%\n",
            "2021-01-23 09:39:54 - Accuracy@10: 98.41%\n",
            "2021-01-23 09:39:54 - Precision@1: 93.76%\n",
            "2021-01-23 09:39:54 - Precision@3: 32.39%\n",
            "2021-01-23 09:39:54 - Precision@5: 19.63%\n",
            "2021-01-23 09:39:54 - Precision@10: 9.84%\n",
            "2021-01-23 09:39:54 - Recall@1: 93.76%\n",
            "2021-01-23 09:39:54 - Recall@3: 97.18%\n",
            "2021-01-23 09:39:54 - Recall@5: 98.16%\n",
            "2021-01-23 09:39:54 - Recall@10: 98.41%\n",
            "2021-01-23 09:39:54 - MRR@10: 0.9557\n",
            "2021-01-23 09:39:54 - NDCG@10: 0.9628\n",
            "2021-01-23 09:39:54 - MAP@100: 0.9561\n",
            "2021-01-23 09:39:54 - Queries: 817\n",
            "2021-01-23 09:39:54 - Corpus: 817\n",
            "\n",
            "\n",
            "2021-01-23 09:40:14 - EmbeddingSimilarityEvaluator: Evaluating the model on cds dataset after epoch 0:\n",
            "2021-01-23 09:40:18 - Cosine-Similarity :\tPearson: 0.9369\tSpearman: 0.9358\n",
            "2021-01-23 09:40:18 - Manhattan-Distance:\tPearson: 0.9139\tSpearman: 0.9295\n",
            "2021-01-23 09:40:18 - Euclidean-Distance:\tPearson: 0.9142\tSpearman: 0.9309\n",
            "2021-01-23 09:40:18 - Dot-Product-Similarity:\tPearson: 0.9244\tSpearman: 0.9250\n",
            "2021-01-23 09:40:18 - Information Retrieval Evaluation on czywiesz dataset after epoch 0:\n",
            "2021-01-23 09:40:22 - Accuracy@1: 93.88%\n",
            "2021-01-23 09:40:22 - Accuracy@3: 97.18%\n",
            "2021-01-23 09:40:22 - Accuracy@5: 97.92%\n",
            "2021-01-23 09:40:22 - Accuracy@10: 98.41%\n",
            "2021-01-23 09:40:22 - Precision@1: 93.88%\n",
            "2021-01-23 09:40:22 - Precision@3: 32.39%\n",
            "2021-01-23 09:40:22 - Precision@5: 19.58%\n",
            "2021-01-23 09:40:22 - Precision@10: 9.84%\n",
            "2021-01-23 09:40:22 - Recall@1: 93.88%\n",
            "2021-01-23 09:40:22 - Recall@3: 97.18%\n",
            "2021-01-23 09:40:22 - Recall@5: 97.92%\n",
            "2021-01-23 09:40:22 - Recall@10: 98.41%\n",
            "2021-01-23 09:40:22 - MRR@10: 0.9558\n",
            "2021-01-23 09:40:22 - NDCG@10: 0.9628\n",
            "2021-01-23 09:40:22 - MAP@100: 0.9562\n",
            "2021-01-23 09:40:22 - Queries: 817\n",
            "2021-01-23 09:40:22 - Corpus: 817\n",
            "\n"
          ],
          "name": "stdout"
        },
        {
          "output_type": "display_data",
          "data": {
            "application/vnd.jupyter.widget-view+json": {
              "model_id": "aac505b81e1a4ccb909ab747a538fc98",
              "version_minor": 0,
              "version_major": 2
            },
            "text/plain": [
              "HBox(children=(FloatProgress(value=0.0, description='Iteration', max=563.0, style=ProgressStyle(description_wi…"
            ]
          },
          "metadata": {
            "tags": []
          }
        },
        {
          "output_type": "stream",
          "text": [
            "2021-01-23 09:41:43 - EmbeddingSimilarityEvaluator: Evaluating the model on cds dataset in epoch 1 after 250 steps:\n",
            "2021-01-23 09:41:47 - Cosine-Similarity :\tPearson: 0.9419\tSpearman: 0.9411\n",
            "2021-01-23 09:41:47 - Manhattan-Distance:\tPearson: 0.9210\tSpearman: 0.9341\n",
            "2021-01-23 09:41:47 - Euclidean-Distance:\tPearson: 0.9210\tSpearman: 0.9341\n",
            "2021-01-23 09:41:47 - Dot-Product-Similarity:\tPearson: 0.9283\tSpearman: 0.9286\n",
            "2021-01-23 09:41:47 - Information Retrieval Evaluation on czywiesz dataset in epoch 1 after 250 steps:\n",
            "2021-01-23 09:41:51 - Accuracy@1: 94.12%\n",
            "2021-01-23 09:41:51 - Accuracy@3: 97.31%\n",
            "2021-01-23 09:41:51 - Accuracy@5: 97.92%\n",
            "2021-01-23 09:41:51 - Accuracy@10: 98.41%\n",
            "2021-01-23 09:41:51 - Precision@1: 94.12%\n",
            "2021-01-23 09:41:51 - Precision@3: 32.44%\n",
            "2021-01-23 09:41:51 - Precision@5: 19.58%\n",
            "2021-01-23 09:41:51 - Precision@10: 9.84%\n",
            "2021-01-23 09:41:51 - Recall@1: 94.12%\n",
            "2021-01-23 09:41:51 - Recall@3: 97.31%\n",
            "2021-01-23 09:41:51 - Recall@5: 97.92%\n",
            "2021-01-23 09:41:51 - Recall@10: 98.41%\n",
            "2021-01-23 09:41:51 - MRR@10: 0.9577\n",
            "2021-01-23 09:41:51 - NDCG@10: 0.9642\n",
            "2021-01-23 09:41:51 - MAP@100: 0.9582\n",
            "2021-01-23 09:41:51 - Queries: 817\n",
            "2021-01-23 09:41:51 - Corpus: 817\n",
            "\n",
            "2021-01-23 09:43:13 - EmbeddingSimilarityEvaluator: Evaluating the model on cds dataset in epoch 1 after 500 steps:\n",
            "2021-01-23 09:43:16 - Cosine-Similarity :\tPearson: 0.9400\tSpearman: 0.9375\n",
            "2021-01-23 09:43:16 - Manhattan-Distance:\tPearson: 0.9161\tSpearman: 0.9312\n",
            "2021-01-23 09:43:16 - Euclidean-Distance:\tPearson: 0.9156\tSpearman: 0.9315\n",
            "2021-01-23 09:43:16 - Dot-Product-Similarity:\tPearson: 0.9247\tSpearman: 0.9248\n",
            "2021-01-23 09:43:16 - Information Retrieval Evaluation on czywiesz dataset in epoch 1 after 500 steps:\n",
            "2021-01-23 09:43:21 - Accuracy@1: 93.76%\n",
            "2021-01-23 09:43:21 - Accuracy@3: 97.06%\n",
            "2021-01-23 09:43:21 - Accuracy@5: 98.16%\n",
            "2021-01-23 09:43:21 - Accuracy@10: 98.78%\n",
            "2021-01-23 09:43:21 - Precision@1: 93.76%\n",
            "2021-01-23 09:43:21 - Precision@3: 32.35%\n",
            "2021-01-23 09:43:21 - Precision@5: 19.63%\n",
            "2021-01-23 09:43:21 - Precision@10: 9.88%\n",
            "2021-01-23 09:43:21 - Recall@1: 93.76%\n",
            "2021-01-23 09:43:21 - Recall@3: 97.06%\n",
            "2021-01-23 09:43:21 - Recall@5: 98.16%\n",
            "2021-01-23 09:43:21 - Recall@10: 98.78%\n",
            "2021-01-23 09:43:21 - MRR@10: 0.9562\n",
            "2021-01-23 09:43:21 - NDCG@10: 0.9640\n",
            "2021-01-23 09:43:21 - MAP@100: 0.9565\n",
            "2021-01-23 09:43:21 - Queries: 817\n",
            "2021-01-23 09:43:21 - Corpus: 817\n",
            "\n",
            "\n",
            "2021-01-23 09:43:41 - EmbeddingSimilarityEvaluator: Evaluating the model on cds dataset after epoch 1:\n",
            "2021-01-23 09:43:45 - Cosine-Similarity :\tPearson: 0.9450\tSpearman: 0.9429\n",
            "2021-01-23 09:43:45 - Manhattan-Distance:\tPearson: 0.9201\tSpearman: 0.9336\n",
            "2021-01-23 09:43:45 - Euclidean-Distance:\tPearson: 0.9204\tSpearman: 0.9344\n",
            "2021-01-23 09:43:45 - Dot-Product-Similarity:\tPearson: 0.9328\tSpearman: 0.9317\n",
            "2021-01-23 09:43:45 - Information Retrieval Evaluation on czywiesz dataset after epoch 1:\n",
            "2021-01-23 09:43:50 - Accuracy@1: 93.39%\n",
            "2021-01-23 09:43:50 - Accuracy@3: 97.18%\n",
            "2021-01-23 09:43:50 - Accuracy@5: 98.29%\n",
            "2021-01-23 09:43:50 - Accuracy@10: 98.78%\n",
            "2021-01-23 09:43:50 - Precision@1: 93.39%\n",
            "2021-01-23 09:43:50 - Precision@3: 32.39%\n",
            "2021-01-23 09:43:50 - Precision@5: 19.66%\n",
            "2021-01-23 09:43:50 - Precision@10: 9.88%\n",
            "2021-01-23 09:43:50 - Recall@1: 93.39%\n",
            "2021-01-23 09:43:50 - Recall@3: 97.18%\n",
            "2021-01-23 09:43:50 - Recall@5: 98.29%\n",
            "2021-01-23 09:43:50 - Recall@10: 98.78%\n",
            "2021-01-23 09:43:50 - MRR@10: 0.9547\n",
            "2021-01-23 09:43:50 - NDCG@10: 0.9629\n",
            "2021-01-23 09:43:50 - MAP@100: 0.9549\n",
            "2021-01-23 09:43:50 - Queries: 817\n",
            "2021-01-23 09:43:50 - Corpus: 817\n",
            "\n"
          ],
          "name": "stdout"
        },
        {
          "output_type": "display_data",
          "data": {
            "application/vnd.jupyter.widget-view+json": {
              "model_id": "5d531419c5c34f6e8255945800c3b718",
              "version_minor": 0,
              "version_major": 2
            },
            "text/plain": [
              "HBox(children=(FloatProgress(value=0.0, description='Iteration', max=563.0, style=ProgressStyle(description_wi…"
            ]
          },
          "metadata": {
            "tags": []
          }
        },
        {
          "output_type": "stream",
          "text": [
            "2021-01-23 09:45:10 - EmbeddingSimilarityEvaluator: Evaluating the model on cds dataset in epoch 2 after 250 steps:\n",
            "2021-01-23 09:45:14 - Cosine-Similarity :\tPearson: 0.9433\tSpearman: 0.9414\n",
            "2021-01-23 09:45:14 - Manhattan-Distance:\tPearson: 0.9197\tSpearman: 0.9345\n",
            "2021-01-23 09:45:14 - Euclidean-Distance:\tPearson: 0.9193\tSpearman: 0.9343\n",
            "2021-01-23 09:45:14 - Dot-Product-Similarity:\tPearson: 0.9290\tSpearman: 0.9289\n",
            "2021-01-23 09:45:14 - Information Retrieval Evaluation on czywiesz dataset in epoch 2 after 250 steps:\n",
            "2021-01-23 09:45:19 - Accuracy@1: 93.76%\n",
            "2021-01-23 09:45:19 - Accuracy@3: 97.18%\n",
            "2021-01-23 09:45:19 - Accuracy@5: 98.16%\n",
            "2021-01-23 09:45:19 - Accuracy@10: 98.78%\n",
            "2021-01-23 09:45:19 - Precision@1: 93.76%\n",
            "2021-01-23 09:45:19 - Precision@3: 32.39%\n",
            "2021-01-23 09:45:19 - Precision@5: 19.63%\n",
            "2021-01-23 09:45:19 - Precision@10: 9.88%\n",
            "2021-01-23 09:45:19 - Recall@1: 93.76%\n",
            "2021-01-23 09:45:19 - Recall@3: 97.18%\n",
            "2021-01-23 09:45:19 - Recall@5: 98.16%\n",
            "2021-01-23 09:45:19 - Recall@10: 98.78%\n",
            "2021-01-23 09:45:19 - MRR@10: 0.9565\n",
            "2021-01-23 09:45:19 - NDCG@10: 0.9642\n",
            "2021-01-23 09:45:19 - MAP@100: 0.9568\n",
            "2021-01-23 09:45:19 - Queries: 817\n",
            "2021-01-23 09:45:19 - Corpus: 817\n",
            "\n",
            "2021-01-23 09:46:40 - EmbeddingSimilarityEvaluator: Evaluating the model on cds dataset in epoch 2 after 500 steps:\n",
            "2021-01-23 09:46:44 - Cosine-Similarity :\tPearson: 0.9445\tSpearman: 0.9426\n",
            "2021-01-23 09:46:44 - Manhattan-Distance:\tPearson: 0.9200\tSpearman: 0.9340\n",
            "2021-01-23 09:46:44 - Euclidean-Distance:\tPearson: 0.9205\tSpearman: 0.9349\n",
            "2021-01-23 09:46:44 - Dot-Product-Similarity:\tPearson: 0.9296\tSpearman: 0.9290\n",
            "2021-01-23 09:46:44 - Information Retrieval Evaluation on czywiesz dataset in epoch 2 after 500 steps:\n",
            "2021-01-23 09:46:48 - Accuracy@1: 94.00%\n",
            "2021-01-23 09:46:48 - Accuracy@3: 97.18%\n",
            "2021-01-23 09:46:48 - Accuracy@5: 98.16%\n",
            "2021-01-23 09:46:48 - Accuracy@10: 98.65%\n",
            "2021-01-23 09:46:48 - Precision@1: 94.00%\n",
            "2021-01-23 09:46:48 - Precision@3: 32.39%\n",
            "2021-01-23 09:46:48 - Precision@5: 19.63%\n",
            "2021-01-23 09:46:48 - Precision@10: 9.87%\n",
            "2021-01-23 09:46:48 - Recall@1: 94.00%\n",
            "2021-01-23 09:46:48 - Recall@3: 97.18%\n",
            "2021-01-23 09:46:48 - Recall@5: 98.16%\n",
            "2021-01-23 09:46:48 - Recall@10: 98.65%\n",
            "2021-01-23 09:46:48 - MRR@10: 0.9577\n",
            "2021-01-23 09:46:48 - NDCG@10: 0.9648\n",
            "2021-01-23 09:46:48 - MAP@100: 0.9581\n",
            "2021-01-23 09:46:48 - Queries: 817\n",
            "2021-01-23 09:46:48 - Corpus: 817\n",
            "\n",
            "\n",
            "2021-01-23 09:47:08 - EmbeddingSimilarityEvaluator: Evaluating the model on cds dataset after epoch 2:\n",
            "2021-01-23 09:47:12 - Cosine-Similarity :\tPearson: 0.9458\tSpearman: 0.9435\n",
            "2021-01-23 09:47:12 - Manhattan-Distance:\tPearson: 0.9208\tSpearman: 0.9343\n",
            "2021-01-23 09:47:12 - Euclidean-Distance:\tPearson: 0.9212\tSpearman: 0.9351\n",
            "2021-01-23 09:47:12 - Dot-Product-Similarity:\tPearson: 0.9319\tSpearman: 0.9309\n",
            "2021-01-23 09:47:12 - Information Retrieval Evaluation on czywiesz dataset after epoch 2:\n",
            "2021-01-23 09:47:17 - Accuracy@1: 93.76%\n",
            "2021-01-23 09:47:17 - Accuracy@3: 97.06%\n",
            "2021-01-23 09:47:17 - Accuracy@5: 98.04%\n",
            "2021-01-23 09:47:17 - Accuracy@10: 98.65%\n",
            "2021-01-23 09:47:17 - Precision@1: 93.76%\n",
            "2021-01-23 09:47:17 - Precision@3: 32.35%\n",
            "2021-01-23 09:47:17 - Precision@5: 19.61%\n",
            "2021-01-23 09:47:17 - Precision@10: 9.87%\n",
            "2021-01-23 09:47:17 - Recall@1: 93.76%\n",
            "2021-01-23 09:47:17 - Recall@3: 97.06%\n",
            "2021-01-23 09:47:17 - Recall@5: 98.04%\n",
            "2021-01-23 09:47:17 - Recall@10: 98.65%\n",
            "2021-01-23 09:47:17 - MRR@10: 0.9558\n",
            "2021-01-23 09:47:17 - NDCG@10: 0.9634\n",
            "2021-01-23 09:47:17 - MAP@100: 0.9561\n",
            "2021-01-23 09:47:17 - Queries: 817\n",
            "2021-01-23 09:47:17 - Corpus: 817\n",
            "\n"
          ],
          "name": "stdout"
        },
        {
          "output_type": "display_data",
          "data": {
            "application/vnd.jupyter.widget-view+json": {
              "model_id": "1e1e91c1219f47e283bed34496dd996f",
              "version_minor": 0,
              "version_major": 2
            },
            "text/plain": [
              "HBox(children=(FloatProgress(value=0.0, description='Iteration', max=563.0, style=ProgressStyle(description_wi…"
            ]
          },
          "metadata": {
            "tags": []
          }
        },
        {
          "output_type": "stream",
          "text": [
            "2021-01-23 09:48:38 - EmbeddingSimilarityEvaluator: Evaluating the model on cds dataset in epoch 3 after 250 steps:\n",
            "2021-01-23 09:48:42 - Cosine-Similarity :\tPearson: 0.9444\tSpearman: 0.9418\n",
            "2021-01-23 09:48:42 - Manhattan-Distance:\tPearson: 0.9192\tSpearman: 0.9327\n",
            "2021-01-23 09:48:42 - Euclidean-Distance:\tPearson: 0.9191\tSpearman: 0.9331\n",
            "2021-01-23 09:48:42 - Dot-Product-Similarity:\tPearson: 0.9311\tSpearman: 0.9298\n",
            "2021-01-23 09:48:42 - Information Retrieval Evaluation on czywiesz dataset in epoch 3 after 250 steps:\n",
            "2021-01-23 09:48:46 - Accuracy@1: 93.64%\n",
            "2021-01-23 09:48:46 - Accuracy@3: 97.31%\n",
            "2021-01-23 09:48:46 - Accuracy@5: 97.92%\n",
            "2021-01-23 09:48:46 - Accuracy@10: 98.78%\n",
            "2021-01-23 09:48:46 - Precision@1: 93.64%\n",
            "2021-01-23 09:48:46 - Precision@3: 32.44%\n",
            "2021-01-23 09:48:46 - Precision@5: 19.58%\n",
            "2021-01-23 09:48:46 - Precision@10: 9.88%\n",
            "2021-01-23 09:48:46 - Recall@1: 93.64%\n",
            "2021-01-23 09:48:46 - Recall@3: 97.31%\n",
            "2021-01-23 09:48:46 - Recall@5: 97.92%\n",
            "2021-01-23 09:48:46 - Recall@10: 98.78%\n",
            "2021-01-23 09:48:46 - MRR@10: 0.9557\n",
            "2021-01-23 09:48:46 - NDCG@10: 0.9636\n",
            "2021-01-23 09:48:46 - MAP@100: 0.9559\n",
            "2021-01-23 09:48:46 - Queries: 817\n",
            "2021-01-23 09:48:46 - Corpus: 817\n",
            "\n",
            "2021-01-23 09:50:07 - EmbeddingSimilarityEvaluator: Evaluating the model on cds dataset in epoch 3 after 500 steps:\n",
            "2021-01-23 09:50:11 - Cosine-Similarity :\tPearson: 0.9446\tSpearman: 0.9424\n",
            "2021-01-23 09:50:11 - Manhattan-Distance:\tPearson: 0.9173\tSpearman: 0.9323\n",
            "2021-01-23 09:50:11 - Euclidean-Distance:\tPearson: 0.9171\tSpearman: 0.9329\n",
            "2021-01-23 09:50:11 - Dot-Product-Similarity:\tPearson: 0.9318\tSpearman: 0.9314\n",
            "2021-01-23 09:50:11 - Information Retrieval Evaluation on czywiesz dataset in epoch 3 after 500 steps:\n",
            "2021-01-23 09:50:15 - Accuracy@1: 93.64%\n",
            "2021-01-23 09:50:15 - Accuracy@3: 97.18%\n",
            "2021-01-23 09:50:15 - Accuracy@5: 98.04%\n",
            "2021-01-23 09:50:15 - Accuracy@10: 98.78%\n",
            "2021-01-23 09:50:15 - Precision@1: 93.64%\n",
            "2021-01-23 09:50:15 - Precision@3: 32.39%\n",
            "2021-01-23 09:50:15 - Precision@5: 19.61%\n",
            "2021-01-23 09:50:15 - Precision@10: 9.88%\n",
            "2021-01-23 09:50:15 - Recall@1: 93.64%\n",
            "2021-01-23 09:50:15 - Recall@3: 97.18%\n",
            "2021-01-23 09:50:15 - Recall@5: 98.04%\n",
            "2021-01-23 09:50:15 - Recall@10: 98.78%\n",
            "2021-01-23 09:50:15 - MRR@10: 0.9556\n",
            "2021-01-23 09:50:15 - NDCG@10: 0.9635\n",
            "2021-01-23 09:50:15 - MAP@100: 0.9559\n",
            "2021-01-23 09:50:15 - Queries: 817\n",
            "2021-01-23 09:50:15 - Corpus: 817\n",
            "\n",
            "\n",
            "2021-01-23 09:50:35 - EmbeddingSimilarityEvaluator: Evaluating the model on cds dataset after epoch 3:\n",
            "2021-01-23 09:50:39 - Cosine-Similarity :\tPearson: 0.9445\tSpearman: 0.9422\n",
            "2021-01-23 09:50:39 - Manhattan-Distance:\tPearson: 0.9183\tSpearman: 0.9324\n",
            "2021-01-23 09:50:39 - Euclidean-Distance:\tPearson: 0.9183\tSpearman: 0.9331\n",
            "2021-01-23 09:50:39 - Dot-Product-Similarity:\tPearson: 0.9322\tSpearman: 0.9313\n",
            "2021-01-23 09:50:39 - Information Retrieval Evaluation on czywiesz dataset after epoch 3:\n",
            "2021-01-23 09:50:44 - Accuracy@1: 93.64%\n",
            "2021-01-23 09:50:44 - Accuracy@3: 97.31%\n",
            "2021-01-23 09:50:44 - Accuracy@5: 98.04%\n",
            "2021-01-23 09:50:44 - Accuracy@10: 98.90%\n",
            "2021-01-23 09:50:44 - Precision@1: 93.64%\n",
            "2021-01-23 09:50:44 - Precision@3: 32.44%\n",
            "2021-01-23 09:50:44 - Precision@5: 19.61%\n",
            "2021-01-23 09:50:44 - Precision@10: 9.89%\n",
            "2021-01-23 09:50:44 - Recall@1: 93.64%\n",
            "2021-01-23 09:50:44 - Recall@3: 97.31%\n",
            "2021-01-23 09:50:44 - Recall@5: 98.04%\n",
            "2021-01-23 09:50:44 - Recall@10: 98.90%\n",
            "2021-01-23 09:50:44 - MRR@10: 0.9561\n",
            "2021-01-23 09:50:44 - NDCG@10: 0.9642\n",
            "2021-01-23 09:50:44 - MAP@100: 0.9563\n",
            "2021-01-23 09:50:44 - Queries: 817\n",
            "2021-01-23 09:50:44 - Corpus: 817\n",
            "\n"
          ],
          "name": "stdout"
        },
        {
          "output_type": "display_data",
          "data": {
            "application/vnd.jupyter.widget-view+json": {
              "model_id": "91a263e0c98c4b4a922c76458ccb3e94",
              "version_minor": 0,
              "version_major": 2
            },
            "text/plain": [
              "HBox(children=(FloatProgress(value=0.0, description='Iteration', max=563.0, style=ProgressStyle(description_wi…"
            ]
          },
          "metadata": {
            "tags": []
          }
        },
        {
          "output_type": "stream",
          "text": [
            "2021-01-23 09:52:05 - EmbeddingSimilarityEvaluator: Evaluating the model on cds dataset in epoch 4 after 250 steps:\n",
            "2021-01-23 09:52:08 - Cosine-Similarity :\tPearson: 0.9443\tSpearman: 0.9420\n",
            "2021-01-23 09:52:08 - Manhattan-Distance:\tPearson: 0.9178\tSpearman: 0.9320\n",
            "2021-01-23 09:52:08 - Euclidean-Distance:\tPearson: 0.9178\tSpearman: 0.9328\n",
            "2021-01-23 09:52:08 - Dot-Product-Similarity:\tPearson: 0.9316\tSpearman: 0.9310\n",
            "2021-01-23 09:52:08 - Information Retrieval Evaluation on czywiesz dataset in epoch 4 after 250 steps:\n",
            "2021-01-23 09:52:13 - Accuracy@1: 93.51%\n",
            "2021-01-23 09:52:13 - Accuracy@3: 97.31%\n",
            "2021-01-23 09:52:13 - Accuracy@5: 97.92%\n",
            "2021-01-23 09:52:13 - Accuracy@10: 98.78%\n",
            "2021-01-23 09:52:13 - Precision@1: 93.51%\n",
            "2021-01-23 09:52:13 - Precision@3: 32.44%\n",
            "2021-01-23 09:52:13 - Precision@5: 19.58%\n",
            "2021-01-23 09:52:13 - Precision@10: 9.88%\n",
            "2021-01-23 09:52:13 - Recall@1: 93.51%\n",
            "2021-01-23 09:52:13 - Recall@3: 97.31%\n",
            "2021-01-23 09:52:13 - Recall@5: 97.92%\n",
            "2021-01-23 09:52:13 - Recall@10: 98.78%\n",
            "2021-01-23 09:52:13 - MRR@10: 0.9547\n",
            "2021-01-23 09:52:13 - NDCG@10: 0.9628\n",
            "2021-01-23 09:52:13 - MAP@100: 0.9549\n",
            "2021-01-23 09:52:13 - Queries: 817\n",
            "2021-01-23 09:52:13 - Corpus: 817\n",
            "\n",
            "2021-01-23 09:53:34 - EmbeddingSimilarityEvaluator: Evaluating the model on cds dataset in epoch 4 after 500 steps:\n",
            "2021-01-23 09:53:38 - Cosine-Similarity :\tPearson: 0.9446\tSpearman: 0.9421\n",
            "2021-01-23 09:53:38 - Manhattan-Distance:\tPearson: 0.9183\tSpearman: 0.9326\n",
            "2021-01-23 09:53:38 - Euclidean-Distance:\tPearson: 0.9182\tSpearman: 0.9331\n",
            "2021-01-23 09:53:38 - Dot-Product-Similarity:\tPearson: 0.9315\tSpearman: 0.9309\n",
            "2021-01-23 09:53:38 - Information Retrieval Evaluation on czywiesz dataset in epoch 4 after 500 steps:\n",
            "2021-01-23 09:53:42 - Accuracy@1: 93.64%\n",
            "2021-01-23 09:53:42 - Accuracy@3: 97.31%\n",
            "2021-01-23 09:53:42 - Accuracy@5: 97.92%\n",
            "2021-01-23 09:53:42 - Accuracy@10: 98.78%\n",
            "2021-01-23 09:53:42 - Precision@1: 93.64%\n",
            "2021-01-23 09:53:42 - Precision@3: 32.44%\n",
            "2021-01-23 09:53:42 - Precision@5: 19.58%\n",
            "2021-01-23 09:53:42 - Precision@10: 9.88%\n",
            "2021-01-23 09:53:42 - Recall@1: 93.64%\n",
            "2021-01-23 09:53:42 - Recall@3: 97.31%\n",
            "2021-01-23 09:53:42 - Recall@5: 97.92%\n",
            "2021-01-23 09:53:42 - Recall@10: 98.78%\n",
            "2021-01-23 09:53:42 - MRR@10: 0.9554\n",
            "2021-01-23 09:53:42 - NDCG@10: 0.9634\n",
            "2021-01-23 09:53:42 - MAP@100: 0.9557\n",
            "2021-01-23 09:53:42 - Queries: 817\n",
            "2021-01-23 09:53:42 - Corpus: 817\n",
            "\n",
            "\n",
            "2021-01-23 09:54:02 - EmbeddingSimilarityEvaluator: Evaluating the model on cds dataset after epoch 4:\n",
            "2021-01-23 09:54:06 - Cosine-Similarity :\tPearson: 0.9446\tSpearman: 0.9422\n",
            "2021-01-23 09:54:06 - Manhattan-Distance:\tPearson: 0.9183\tSpearman: 0.9326\n",
            "2021-01-23 09:54:06 - Euclidean-Distance:\tPearson: 0.9181\tSpearman: 0.9331\n",
            "2021-01-23 09:54:06 - Dot-Product-Similarity:\tPearson: 0.9315\tSpearman: 0.9309\n",
            "2021-01-23 09:54:06 - Information Retrieval Evaluation on czywiesz dataset after epoch 4:\n",
            "2021-01-23 09:54:11 - Accuracy@1: 93.64%\n",
            "2021-01-23 09:54:11 - Accuracy@3: 97.31%\n",
            "2021-01-23 09:54:11 - Accuracy@5: 97.92%\n",
            "2021-01-23 09:54:11 - Accuracy@10: 98.78%\n",
            "2021-01-23 09:54:11 - Precision@1: 93.64%\n",
            "2021-01-23 09:54:11 - Precision@3: 32.44%\n",
            "2021-01-23 09:54:11 - Precision@5: 19.58%\n",
            "2021-01-23 09:54:11 - Precision@10: 9.88%\n",
            "2021-01-23 09:54:11 - Recall@1: 93.64%\n",
            "2021-01-23 09:54:11 - Recall@3: 97.31%\n",
            "2021-01-23 09:54:11 - Recall@5: 97.92%\n",
            "2021-01-23 09:54:11 - Recall@10: 98.78%\n",
            "2021-01-23 09:54:11 - MRR@10: 0.9554\n",
            "2021-01-23 09:54:11 - NDCG@10: 0.9634\n",
            "2021-01-23 09:54:11 - MAP@100: 0.9557\n",
            "2021-01-23 09:54:11 - Queries: 817\n",
            "2021-01-23 09:54:11 - Corpus: 817\n",
            "\n",
            "\n"
          ],
          "name": "stdout"
        }
      ]
    },
    {
      "cell_type": "code",
      "metadata": {
        "id": "-UAWkV5oranG"
      },
      "source": [
        "!cp -r /content/output/training_cds_bi-encoder-czywiesz_model-2021-01-23_09-36-43 /content/drive/MyDrive/models"
      ],
      "execution_count": null,
      "outputs": []
    },
    {
      "cell_type": "markdown",
      "metadata": {
        "id": "q1-56odGuJMD"
      },
      "source": [
        "Training - evaluate on CDS only"
      ]
    },
    {
      "cell_type": "code",
      "metadata": {
        "id": "YQ3n9O1zuMGz"
      },
      "source": [
        "batch_size = 16\r\n",
        "num_epochs = 5\r\n",
        "train_dataloader = DataLoader(gold_samples, shuffle=True, batch_size=batch_size)\r\n",
        "train_loss = losses.CosineSimilarityLoss(model=model)\r\n",
        "model_name = 'czywiesz_model'\r\n",
        "model_save_path = 'output/training_cds_bi-encoder-'+model_name.replace(\"/\", \"-\")+'-'+datetime.now().strftime(\"%Y-%m-%d_%H-%M-%S\")"
      ],
      "execution_count": null,
      "outputs": []
    },
    {
      "cell_type": "code",
      "metadata": {
        "colab": {
          "base_uri": "https://localhost:8080/",
          "height": 844,
          "referenced_widgets": [
            "d043bd8ae0da4bf68c601882d93b6edb",
            "eca64680b01340a9bac04fd1d5df77fd",
            "4f200da2e49c4109991c2b3f18f2f59b",
            "9a14077243dc4503874a81afc2fc63cd",
            "339bea8c0a0645eb955be4fe1918ad36",
            "c20ba568b5ac4c4f872ddef572f65c22",
            "ee3c7424c9324c0494ae5729b98808df",
            "226233c9902a4a78b3fc34d30543a904",
            "fa9f41ef031242b1aeaa83ab3fa566ff",
            "afbbd00e79ac4e0e9e85145f79df6d6a",
            "af8dc64f3ac944e98baefeedbdc92bfc",
            "655f502fa1c04d818bce3d3981957d25",
            "ea6cf82f28b242c2aa5c564a47c4d065",
            "0b8ffddf20a3430bb3b8943700631bda",
            "b0bf401733544894a51d79fd009fa6de",
            "eddcd65dd2ce4c84acb104deb51e9f33",
            "02ef33b9d3f447838915fafaf0a30e19",
            "77ac64ce1a0b483cb34133a33ef23f27",
            "9edc7996bef9415fb7bbd6eaa37aa49d",
            "52448ad11a584a52a7b0926449533bac",
            "07c1642e225f4d25ba9b724848a41063",
            "ced4a43a8cde4bf0bb4f1d11339785a9",
            "d2eee4bedf2a4ce48012f9114bd2fc49",
            "a8dd860785a04de1b03f026920e002f9",
            "e641a96c450f407c859035be721cf072",
            "8531136155444704bb280dfa36643a6a",
            "a2ffa6c28285407b92e1c7a51608b50b",
            "2bb4d1e4d57d4503a7866e1eee3bdf3d",
            "37be2c52437d44108f1f999ddfb3c669",
            "a256e6107ba149a1b5806dca24b31e37",
            "427972d056044739b84f54c76098b427",
            "cb8e35cbb8eb4d8f9f6a9fbc4726042c",
            "8e5686a5b02448cfa0880c0fea2cba2c",
            "fba33549a9e141e79dba53b2081ace7f",
            "dfbde1d926574b22a4e782faa0d93458",
            "f70f00c559be418a94b8482c9eadb926",
            "b95e3a42eb6a4e8089cbfc7ca9731ab6",
            "fef35b80da9c428f816cad37537c69d5",
            "b59d01e154e047e38984d5e7b0eb24fb",
            "1d0b5a07e836441b91afa249a3b14725",
            "6c05ccf360544829a42ae8b3f1511cff",
            "4f98067dc2c849f390a09e8bd18aa1dc",
            "f1a656aaeb5c43a69fbc2cf89049e55f",
            "3f2a29348a144f8998c41a410d2c8721",
            "a9cbdbe545c64d8891569f8f52b18dbd",
            "38a94dc2a8e04e76bbb19a7f131f523a",
            "efd4207c8807498484b81a32196d911d",
            "8bc160a784114b898476d78a2627abd7"
          ]
        },
        "id": "NgLPqeb5uRlr",
        "outputId": "a9c8e7a5-b993-47f3-d817-376a9f5f0c29"
      },
      "source": [
        "# Configure the training\r\n",
        "warmup_steps = math.ceil(len(train_dataloader) * num_epochs * 0.1) #10% of train data for warm-up\r\n",
        "model.fit(train_objectives=[(train_dataloader, train_loss)],\r\n",
        "          evaluator=emb_evaluator,\r\n",
        "          epochs=num_epochs,\r\n",
        "          warmup_steps=warmup_steps,\r\n",
        "          evaluation_steps=1000,\r\n",
        "          output_path=model_save_path)"
      ],
      "execution_count": null,
      "outputs": [
        {
          "output_type": "display_data",
          "data": {
            "application/vnd.jupyter.widget-view+json": {
              "model_id": "d043bd8ae0da4bf68c601882d93b6edb",
              "version_minor": 0,
              "version_major": 2
            },
            "text/plain": [
              "HBox(children=(FloatProgress(value=0.0, description='Epoch', max=5.0, style=ProgressStyle(description_width='i…"
            ]
          },
          "metadata": {
            "tags": []
          }
        },
        {
          "output_type": "display_data",
          "data": {
            "application/vnd.jupyter.widget-view+json": {
              "model_id": "fa9f41ef031242b1aeaa83ab3fa566ff",
              "version_minor": 0,
              "version_major": 2
            },
            "text/plain": [
              "HBox(children=(FloatProgress(value=0.0, description='Iteration', max=563.0, style=ProgressStyle(description_wi…"
            ]
          },
          "metadata": {
            "tags": []
          }
        },
        {
          "output_type": "stream",
          "text": [
            "\n",
            "2021-01-23 10:13:35 - EmbeddingSimilarityEvaluator: Evaluating the model on cds dataset after epoch 0:\n",
            "2021-01-23 10:13:39 - Cosine-Similarity :\tPearson: 0.9397\tSpearman: 0.9384\n",
            "2021-01-23 10:13:39 - Manhattan-Distance:\tPearson: 0.9149\tSpearman: 0.9313\n",
            "2021-01-23 10:13:39 - Euclidean-Distance:\tPearson: 0.9164\tSpearman: 0.9330\n",
            "2021-01-23 10:13:39 - Dot-Product-Similarity:\tPearson: 0.9271\tSpearman: 0.9272\n",
            "2021-01-23 10:13:39 - Save model to output/training_cds_bi-encoder-czywiesz_model-2021-01-23_10-10-09\n"
          ],
          "name": "stdout"
        },
        {
          "output_type": "display_data",
          "data": {
            "application/vnd.jupyter.widget-view+json": {
              "model_id": "02ef33b9d3f447838915fafaf0a30e19",
              "version_minor": 0,
              "version_major": 2
            },
            "text/plain": [
              "HBox(children=(FloatProgress(value=0.0, description='Iteration', max=563.0, style=ProgressStyle(description_wi…"
            ]
          },
          "metadata": {
            "tags": []
          }
        },
        {
          "output_type": "stream",
          "text": [
            "\n",
            "2021-01-23 10:16:47 - EmbeddingSimilarityEvaluator: Evaluating the model on cds dataset after epoch 1:\n",
            "2021-01-23 10:16:50 - Cosine-Similarity :\tPearson: 0.9428\tSpearman: 0.9400\n",
            "2021-01-23 10:16:50 - Manhattan-Distance:\tPearson: 0.9176\tSpearman: 0.9321\n",
            "2021-01-23 10:16:50 - Euclidean-Distance:\tPearson: 0.9188\tSpearman: 0.9335\n",
            "2021-01-23 10:16:50 - Dot-Product-Similarity:\tPearson: 0.9294\tSpearman: 0.9280\n",
            "2021-01-23 10:16:50 - Save model to output/training_cds_bi-encoder-czywiesz_model-2021-01-23_10-10-09\n"
          ],
          "name": "stdout"
        },
        {
          "output_type": "display_data",
          "data": {
            "application/vnd.jupyter.widget-view+json": {
              "model_id": "e641a96c450f407c859035be721cf072",
              "version_minor": 0,
              "version_major": 2
            },
            "text/plain": [
              "HBox(children=(FloatProgress(value=0.0, description='Iteration', max=563.0, style=ProgressStyle(description_wi…"
            ]
          },
          "metadata": {
            "tags": []
          }
        },
        {
          "output_type": "stream",
          "text": [
            "\n",
            "2021-01-23 10:19:57 - EmbeddingSimilarityEvaluator: Evaluating the model on cds dataset after epoch 2:\n",
            "2021-01-23 10:20:01 - Cosine-Similarity :\tPearson: 0.9434\tSpearman: 0.9402\n",
            "2021-01-23 10:20:01 - Manhattan-Distance:\tPearson: 0.9174\tSpearman: 0.9314\n",
            "2021-01-23 10:20:01 - Euclidean-Distance:\tPearson: 0.9188\tSpearman: 0.9333\n",
            "2021-01-23 10:20:01 - Dot-Product-Similarity:\tPearson: 0.9312\tSpearman: 0.9295\n",
            "2021-01-23 10:20:01 - Save model to output/training_cds_bi-encoder-czywiesz_model-2021-01-23_10-10-09\n"
          ],
          "name": "stdout"
        },
        {
          "output_type": "display_data",
          "data": {
            "application/vnd.jupyter.widget-view+json": {
              "model_id": "8e5686a5b02448cfa0880c0fea2cba2c",
              "version_minor": 0,
              "version_major": 2
            },
            "text/plain": [
              "HBox(children=(FloatProgress(value=0.0, description='Iteration', max=563.0, style=ProgressStyle(description_wi…"
            ]
          },
          "metadata": {
            "tags": []
          }
        },
        {
          "output_type": "stream",
          "text": [
            "\n",
            "2021-01-23 10:23:08 - EmbeddingSimilarityEvaluator: Evaluating the model on cds dataset after epoch 3:\n",
            "2021-01-23 10:23:12 - Cosine-Similarity :\tPearson: 0.9429\tSpearman: 0.9393\n",
            "2021-01-23 10:23:12 - Manhattan-Distance:\tPearson: 0.9153\tSpearman: 0.9307\n",
            "2021-01-23 10:23:12 - Euclidean-Distance:\tPearson: 0.9165\tSpearman: 0.9324\n",
            "2021-01-23 10:23:12 - Dot-Product-Similarity:\tPearson: 0.9315\tSpearman: 0.9297\n"
          ],
          "name": "stdout"
        },
        {
          "output_type": "display_data",
          "data": {
            "application/vnd.jupyter.widget-view+json": {
              "model_id": "6c05ccf360544829a42ae8b3f1511cff",
              "version_minor": 0,
              "version_major": 2
            },
            "text/plain": [
              "HBox(children=(FloatProgress(value=0.0, description='Iteration', max=563.0, style=ProgressStyle(description_wi…"
            ]
          },
          "metadata": {
            "tags": []
          }
        },
        {
          "output_type": "stream",
          "text": [
            "\n",
            "2021-01-23 10:26:14 - EmbeddingSimilarityEvaluator: Evaluating the model on cds dataset after epoch 4:\n",
            "2021-01-23 10:26:18 - Cosine-Similarity :\tPearson: 0.9431\tSpearman: 0.9395\n",
            "2021-01-23 10:26:18 - Manhattan-Distance:\tPearson: 0.9158\tSpearman: 0.9309\n",
            "2021-01-23 10:26:18 - Euclidean-Distance:\tPearson: 0.9171\tSpearman: 0.9325\n",
            "2021-01-23 10:26:18 - Dot-Product-Similarity:\tPearson: 0.9318\tSpearman: 0.9299\n",
            "\n"
          ],
          "name": "stdout"
        }
      ]
    },
    {
      "cell_type": "markdown",
      "metadata": {
        "id": "rKTl3VgreQmy"
      },
      "source": [
        "## Train on paragraphs"
      ]
    },
    {
      "cell_type": "code",
      "metadata": {
        "colab": {
          "base_uri": "https://localhost:8080/"
        },
        "id": "MwHeQVbzeQVH",
        "outputId": "a16fa6af-b42f-4f00-b0ac-2320c64d1048"
      },
      "source": [
        "model = SentenceTransformer(model_name)"
      ],
      "execution_count": null,
      "outputs": [
        {
          "output_type": "stream",
          "text": [
            "2021-01-23 00:23:25 - Load pretrained SentenceTransformer: paraphrase-xlm-r-multilingual-v1\n",
            "2021-01-23 00:23:25 - Did not find folder paraphrase-xlm-r-multilingual-v1\n",
            "2021-01-23 00:23:25 - Try to download model from server: https://sbert.net/models/paraphrase-xlm-r-multilingual-v1.zip\n",
            "2021-01-23 00:23:25 - Load SentenceTransformer from folder: /root/.cache/torch/sentence_transformers/sbert.net_models_paraphrase-xlm-r-multilingual-v1\n",
            "2021-01-23 00:23:55 - Use pytorch device: cuda\n"
          ],
          "name": "stdout"
        }
      ]
    },
    {
      "cell_type": "code",
      "metadata": {
        "colab": {
          "base_uri": "https://localhost:8080/"
        },
        "id": "NBNJIdrEfBGi",
        "outputId": "ab9e61eb-7b56-49db-8faa-6ad02fccafc8"
      },
      "source": [
        "# Before training\r\n",
        "model.evaluate(ir_evaluator)"
      ],
      "execution_count": null,
      "outputs": [
        {
          "output_type": "stream",
          "text": [
            "2021-01-23 00:24:01 - Information Retrieval Evaluation on czywiesz dataset:\n",
            "2021-01-23 00:24:08 - Accuracy@1: 79.93%\n",
            "2021-01-23 00:24:08 - Accuracy@3: 87.03%\n",
            "2021-01-23 00:24:08 - Accuracy@5: 89.72%\n",
            "2021-01-23 00:24:08 - Accuracy@10: 92.41%\n",
            "2021-01-23 00:24:08 - Precision@1: 79.93%\n",
            "2021-01-23 00:24:08 - Precision@3: 29.01%\n",
            "2021-01-23 00:24:08 - Precision@5: 17.94%\n",
            "2021-01-23 00:24:08 - Precision@10: 9.24%\n",
            "2021-01-23 00:24:08 - Recall@1: 79.93%\n",
            "2021-01-23 00:24:08 - Recall@3: 87.03%\n",
            "2021-01-23 00:24:08 - Recall@5: 89.72%\n",
            "2021-01-23 00:24:08 - Recall@10: 92.41%\n",
            "2021-01-23 00:24:08 - MRR@10: 0.8404\n",
            "2021-01-23 00:24:08 - NDCG@10: 0.8606\n",
            "2021-01-23 00:24:08 - MAP@100: 0.8432\n",
            "2021-01-23 00:24:08 - Queries: 817\n",
            "2021-01-23 00:24:08 - Corpus: 817\n",
            "\n"
          ],
          "name": "stdout"
        },
        {
          "output_type": "execute_result",
          "data": {
            "text/plain": [
              "0.8431559461581645"
            ]
          },
          "metadata": {
            "tags": []
          },
          "execution_count": 62
        }
      ]
    },
    {
      "cell_type": "code",
      "metadata": {
        "id": "iNZ27xU0fU2u"
      },
      "source": [
        "train_loss = losses.MultipleNegativesRankingLoss(model=model)"
      ],
      "execution_count": null,
      "outputs": []
    },
    {
      "cell_type": "code",
      "metadata": {
        "colab": {
          "base_uri": "https://localhost:8080/",
          "height": 1000,
          "referenced_widgets": [
            "d8bca04b403745b4ab12970af78f4523",
            "b22da11235054309930b1aa76005321f",
            "372426f3a41a4fcd835eeb419d8605b9",
            "be9f03ad84684ee0b302159bbbe5172f",
            "74afc0226cd8439593ceb057dca42774",
            "851a3dc500c64b438ac8267081675740",
            "4563e0f31b5c48cf8d03f5a48d1a994a",
            "9d925bb7ca9344fc8628480233482447",
            "e7aca085ce5c4d3b9bac92c5d332039f",
            "fb6a4dc76d964e779856d1582115399d",
            "83b17f5658d14736a8e434a6ef1e3600",
            "04023d55eab14085b7c7c7409fd2dd4e",
            "9569435a9b774b60a4786c13305a592b",
            "f5f9e9c2cb2f40bcae4ecdafaa0b8661",
            "3f4e87b063a74b048629b5e40358eebd",
            "be65c8f2459b4581b80c34de72bee5b5",
            "d63bbba4130f47578bb7831a448ad613",
            "7db3e2c55246440680ac55eceea39e88",
            "594bddaa653f41d9b66c4dbfd6f4f540",
            "c48523e098fc4c268b93e747412d6159",
            "8b47d3466a694e24b83d39bc82aa7a24",
            "1bd33b30bb51459fa642427e0d1bc9fa",
            "e497cfe8b8624cd7aa2aa3865f7cf9cb",
            "ea0c21093b2843309f6a802add5df2b2",
            "66779ff90145442a980d0459c565b249",
            "78917dbc6c694b6b977d465f71eb858d",
            "4f4ca7a4ee234b12862a52287268b550",
            "a9fc0bacc6954d398f31bd02372eb228",
            "567582cc174844f2a2a10cc518060ff9",
            "3cd6caf75c4146e0b3260e46111596f5",
            "f9302a9a134a4d1ba50d24c461ce7284",
            "d77dd71216f4473d960c50e266dbfcda",
            "8c882e0674ab42da9f9be6526efd504c",
            "3ab2f7a2d60c4e9fb27a1d50adb6f037",
            "ffb828c712894621971af2caf912341c",
            "919975d8d5c947daa351a476c77b0325",
            "a24414f6d8db4cd3919acb6e1279c8e3",
            "ad1f925f5f2f49248baf6df049c4efaa",
            "57c61b98e2484ef9bb3e47ab21e4e007",
            "506e6d6438614757a85181c495f543ff",
            "9a63468139764bc88181e2225854f429",
            "e23067a20020472ba7983178c8beffef",
            "494744d5d7ef41e7bd1d63679d9edd70",
            "b8af88a90b4d490c86228a56ed841ad7",
            "aadd80f03b594737b2f084f664494cb4",
            "bf311147608c4e83b3f6ad94b330d189",
            "ca79836f480140d79e90aa720bde5374",
            "e5deb9786eab4eb9954ab9e3601a4615"
          ]
        },
        "id": "oyz-v3aYfg-I",
        "outputId": "68c95c0c-f08c-4984-e07f-4fd82909b0df"
      },
      "source": [
        "# Train the model for 5 epochs\r\n",
        "import math\r\n",
        "num_epochs = 5\r\n",
        "warmup_steps = math.ceil(len(train_dataloader) * num_epochs  * 0.1) #10% of train data for warm-up\r\n",
        "model.fit(train_objectives=[(train_dataloader, train_loss)],\r\n",
        "          evaluator=ir_evaluator,\r\n",
        "          epochs=num_epochs,\r\n",
        "          warmup_steps=1000,\r\n",
        "          output_path=model_save_path,\r\n",
        "          evaluation_steps=500,\r\n",
        "          use_amp=True\r\n",
        "          )"
      ],
      "execution_count": null,
      "outputs": [
        {
          "output_type": "display_data",
          "data": {
            "application/vnd.jupyter.widget-view+json": {
              "model_id": "d8bca04b403745b4ab12970af78f4523",
              "version_minor": 0,
              "version_major": 2
            },
            "text/plain": [
              "HBox(children=(FloatProgress(value=0.0, description='Epoch', max=5.0, style=ProgressStyle(description_width='i…"
            ]
          },
          "metadata": {
            "tags": []
          }
        },
        {
          "output_type": "display_data",
          "data": {
            "application/vnd.jupyter.widget-view+json": {
              "model_id": "e7aca085ce5c4d3b9bac92c5d332039f",
              "version_minor": 0,
              "version_major": 2
            },
            "text/plain": [
              "HBox(children=(FloatProgress(value=0.0, description='Iteration', max=63.0, style=ProgressStyle(description_wid…"
            ]
          },
          "metadata": {
            "tags": []
          }
        },
        {
          "output_type": "stream",
          "text": [
            "\n",
            "2021-01-23 00:25:03 - Information Retrieval Evaluation on czywiesz dataset after epoch 0:\n",
            "2021-01-23 00:25:10 - Accuracy@1: 85.68%\n",
            "2021-01-23 00:25:10 - Accuracy@3: 92.78%\n",
            "2021-01-23 00:25:10 - Accuracy@5: 94.37%\n",
            "2021-01-23 00:25:10 - Accuracy@10: 96.21%\n",
            "2021-01-23 00:25:10 - Precision@1: 85.68%\n",
            "2021-01-23 00:25:10 - Precision@3: 30.93%\n",
            "2021-01-23 00:25:10 - Precision@5: 18.87%\n",
            "2021-01-23 00:25:10 - Precision@10: 9.62%\n",
            "2021-01-23 00:25:10 - Recall@1: 85.68%\n",
            "2021-01-23 00:25:10 - Recall@3: 92.78%\n",
            "2021-01-23 00:25:10 - Recall@5: 94.37%\n",
            "2021-01-23 00:25:10 - Recall@10: 96.21%\n",
            "2021-01-23 00:25:10 - MRR@10: 0.8944\n",
            "2021-01-23 00:25:10 - NDCG@10: 0.9110\n",
            "2021-01-23 00:25:10 - MAP@100: 0.8961\n",
            "2021-01-23 00:25:10 - Queries: 817\n",
            "2021-01-23 00:25:10 - Corpus: 817\n",
            "\n",
            "2021-01-23 00:25:10 - Save model to output/training_ms-marco_bi-encoder-paraphrase-xlm-r-multilingual-v1-2021-01-22_23-40-10\n"
          ],
          "name": "stdout"
        },
        {
          "output_type": "display_data",
          "data": {
            "application/vnd.jupyter.widget-view+json": {
              "model_id": "d63bbba4130f47578bb7831a448ad613",
              "version_minor": 0,
              "version_major": 2
            },
            "text/plain": [
              "HBox(children=(FloatProgress(value=0.0, description='Iteration', max=63.0, style=ProgressStyle(description_wid…"
            ]
          },
          "metadata": {
            "tags": []
          }
        },
        {
          "output_type": "stream",
          "text": [
            "\n",
            "2021-01-23 00:26:04 - Information Retrieval Evaluation on czywiesz dataset after epoch 1:\n",
            "2021-01-23 00:26:11 - Accuracy@1: 88.49%\n",
            "2021-01-23 00:26:11 - Accuracy@3: 94.00%\n",
            "2021-01-23 00:26:11 - Accuracy@5: 95.47%\n",
            "2021-01-23 00:26:11 - Accuracy@10: 97.31%\n",
            "2021-01-23 00:26:11 - Precision@1: 88.49%\n",
            "2021-01-23 00:26:11 - Precision@3: 31.33%\n",
            "2021-01-23 00:26:11 - Precision@5: 19.09%\n",
            "2021-01-23 00:26:11 - Precision@10: 9.73%\n",
            "2021-01-23 00:26:11 - Recall@1: 88.49%\n",
            "2021-01-23 00:26:11 - Recall@3: 94.00%\n",
            "2021-01-23 00:26:11 - Recall@5: 95.47%\n",
            "2021-01-23 00:26:11 - Recall@10: 97.31%\n",
            "2021-01-23 00:26:11 - MRR@10: 0.9144\n",
            "2021-01-23 00:26:11 - NDCG@10: 0.9287\n",
            "2021-01-23 00:26:11 - MAP@100: 0.9156\n",
            "2021-01-23 00:26:11 - Queries: 817\n",
            "2021-01-23 00:26:11 - Corpus: 817\n",
            "\n",
            "2021-01-23 00:26:11 - Save model to output/training_ms-marco_bi-encoder-paraphrase-xlm-r-multilingual-v1-2021-01-22_23-40-10\n"
          ],
          "name": "stdout"
        },
        {
          "output_type": "display_data",
          "data": {
            "application/vnd.jupyter.widget-view+json": {
              "model_id": "66779ff90145442a980d0459c565b249",
              "version_minor": 0,
              "version_major": 2
            },
            "text/plain": [
              "HBox(children=(FloatProgress(value=0.0, description='Iteration', max=63.0, style=ProgressStyle(description_wid…"
            ]
          },
          "metadata": {
            "tags": []
          }
        },
        {
          "output_type": "stream",
          "text": [
            "\n",
            "2021-01-23 00:27:06 - Information Retrieval Evaluation on czywiesz dataset after epoch 2:\n",
            "2021-01-23 00:27:13 - Accuracy@1: 89.47%\n",
            "2021-01-23 00:27:13 - Accuracy@3: 94.49%\n",
            "2021-01-23 00:27:13 - Accuracy@5: 96.21%\n",
            "2021-01-23 00:27:13 - Accuracy@10: 97.31%\n",
            "2021-01-23 00:27:13 - Precision@1: 89.47%\n",
            "2021-01-23 00:27:13 - Precision@3: 31.50%\n",
            "2021-01-23 00:27:13 - Precision@5: 19.24%\n",
            "2021-01-23 00:27:13 - Precision@10: 9.73%\n",
            "2021-01-23 00:27:13 - Recall@1: 89.47%\n",
            "2021-01-23 00:27:13 - Recall@3: 94.49%\n",
            "2021-01-23 00:27:13 - Recall@5: 96.21%\n",
            "2021-01-23 00:27:13 - Recall@10: 97.31%\n",
            "2021-01-23 00:27:13 - MRR@10: 0.9225\n",
            "2021-01-23 00:27:13 - NDCG@10: 0.9349\n",
            "2021-01-23 00:27:13 - MAP@100: 0.9238\n",
            "2021-01-23 00:27:13 - Queries: 817\n",
            "2021-01-23 00:27:13 - Corpus: 817\n",
            "\n",
            "2021-01-23 00:27:13 - Save model to output/training_ms-marco_bi-encoder-paraphrase-xlm-r-multilingual-v1-2021-01-22_23-40-10\n"
          ],
          "name": "stdout"
        },
        {
          "output_type": "display_data",
          "data": {
            "application/vnd.jupyter.widget-view+json": {
              "model_id": "8c882e0674ab42da9f9be6526efd504c",
              "version_minor": 0,
              "version_major": 2
            },
            "text/plain": [
              "HBox(children=(FloatProgress(value=0.0, description='Iteration', max=63.0, style=ProgressStyle(description_wid…"
            ]
          },
          "metadata": {
            "tags": []
          }
        },
        {
          "output_type": "stream",
          "text": [
            "\n",
            "2021-01-23 00:28:08 - Information Retrieval Evaluation on czywiesz dataset after epoch 3:\n",
            "2021-01-23 00:28:15 - Accuracy@1: 89.84%\n",
            "2021-01-23 00:28:15 - Accuracy@3: 94.37%\n",
            "2021-01-23 00:28:15 - Accuracy@5: 96.21%\n",
            "2021-01-23 00:28:15 - Accuracy@10: 97.43%\n",
            "2021-01-23 00:28:15 - Precision@1: 89.84%\n",
            "2021-01-23 00:28:15 - Precision@3: 31.46%\n",
            "2021-01-23 00:28:15 - Precision@5: 19.24%\n",
            "2021-01-23 00:28:15 - Precision@10: 9.74%\n",
            "2021-01-23 00:28:15 - Recall@1: 89.84%\n",
            "2021-01-23 00:28:15 - Recall@3: 94.37%\n",
            "2021-01-23 00:28:15 - Recall@5: 96.21%\n",
            "2021-01-23 00:28:15 - Recall@10: 97.43%\n",
            "2021-01-23 00:28:15 - MRR@10: 0.9248\n",
            "2021-01-23 00:28:15 - NDCG@10: 0.9369\n",
            "2021-01-23 00:28:15 - MAP@100: 0.9259\n",
            "2021-01-23 00:28:15 - Queries: 817\n",
            "2021-01-23 00:28:15 - Corpus: 817\n",
            "\n",
            "2021-01-23 00:28:15 - Save model to output/training_ms-marco_bi-encoder-paraphrase-xlm-r-multilingual-v1-2021-01-22_23-40-10\n"
          ],
          "name": "stdout"
        },
        {
          "output_type": "display_data",
          "data": {
            "application/vnd.jupyter.widget-view+json": {
              "model_id": "9a63468139764bc88181e2225854f429",
              "version_minor": 0,
              "version_major": 2
            },
            "text/plain": [
              "HBox(children=(FloatProgress(value=0.0, description='Iteration', max=63.0, style=ProgressStyle(description_wid…"
            ]
          },
          "metadata": {
            "tags": []
          }
        },
        {
          "output_type": "stream",
          "text": [
            "\n",
            "2021-01-23 00:29:10 - Information Retrieval Evaluation on czywiesz dataset after epoch 4:\n",
            "2021-01-23 00:29:17 - Accuracy@1: 89.47%\n",
            "2021-01-23 00:29:17 - Accuracy@3: 94.98%\n",
            "2021-01-23 00:29:17 - Accuracy@5: 96.33%\n",
            "2021-01-23 00:29:17 - Accuracy@10: 97.43%\n",
            "2021-01-23 00:29:17 - Precision@1: 89.47%\n",
            "2021-01-23 00:29:17 - Precision@3: 31.66%\n",
            "2021-01-23 00:29:17 - Precision@5: 19.27%\n",
            "2021-01-23 00:29:17 - Precision@10: 9.74%\n",
            "2021-01-23 00:29:17 - Recall@1: 89.47%\n",
            "2021-01-23 00:29:17 - Recall@3: 94.98%\n",
            "2021-01-23 00:29:17 - Recall@5: 96.33%\n",
            "2021-01-23 00:29:17 - Recall@10: 97.43%\n",
            "2021-01-23 00:29:17 - MRR@10: 0.9242\n",
            "2021-01-23 00:29:17 - NDCG@10: 0.9366\n",
            "2021-01-23 00:29:17 - MAP@100: 0.9253\n",
            "2021-01-23 00:29:17 - Queries: 817\n",
            "2021-01-23 00:29:17 - Corpus: 817\n",
            "\n",
            "\n"
          ],
          "name": "stdout"
        }
      ]
    },
    {
      "cell_type": "code",
      "metadata": {
        "id": "aiTD0kLao1qC"
      },
      "source": [
        "!cp -r /content/output/training_cds_bi-encoder-czywiesz_model-2021-01-23_10-10-09 /content/drive/MyDrive/models"
      ],
      "execution_count": null,
      "outputs": []
    },
    {
      "cell_type": "markdown",
      "metadata": {
        "id": "Ug61p26H7Rjq"
      },
      "source": [
        "## Label czywiesz"
      ]
    },
    {
      "cell_type": "markdown",
      "metadata": {
        "id": "-yOViraqALhW"
      },
      "source": [
        "### Train Cross-Encoder"
      ]
    },
    {
      "cell_type": "code",
      "metadata": {
        "id": "lHvLgrwL7VgO"
      },
      "source": [
        "#You can specify any huggingface/transformers pre-trained model here, for example, bert-base-uncased, roberta-base, xlm-roberta-base\r\n",
        "model_name = 'bert-base-multilingual-cased'\r\n",
        "batch_size = 16\r\n",
        "num_epochs = 5\r\n",
        "max_seq_length = 128\r\n",
        "use_cuda = torch.cuda.is_available()"
      ],
      "execution_count": null,
      "outputs": []
    },
    {
      "cell_type": "code",
      "metadata": {
        "id": "o5ctQHcu7iwq",
        "colab": {
          "base_uri": "https://localhost:8080/",
          "height": 193
        },
        "outputId": "614902a1-12fc-4555-bcb2-d0dd74885ee0"
      },
      "source": [
        "cross_encoder_path = 'output/cross-encoder/cds_indomain_'+model_name.replace(\"/\", \"-\")+'-'+datetime.now().strftime(\"%Y-%m-%d_%H-%M-%S\")\r\n",
        "bi_encoder_path = 'output/bi-encoder/cds_czywiesz_domain_'+model_name.replace(\"/\", \"-\")+'-'+datetime.now().strftime(\"%Y-%m-%d_%H-%M-%S\")"
      ],
      "execution_count": null,
      "outputs": [
        {
          "output_type": "error",
          "ename": "NameError",
          "evalue": "ignored",
          "traceback": [
            "\u001b[0;31m---------------------------------------------------------------------------\u001b[0m",
            "\u001b[0;31mNameError\u001b[0m                                 Traceback (most recent call last)",
            "\u001b[0;32m<ipython-input-3-e20fb7dc5a47>\u001b[0m in \u001b[0;36m<module>\u001b[0;34m()\u001b[0m\n\u001b[0;32m----> 1\u001b[0;31m \u001b[0mcross_encoder_path\u001b[0m \u001b[0;34m=\u001b[0m \u001b[0;34m'output/cross-encoder/cds_indomain_'\u001b[0m\u001b[0;34m+\u001b[0m\u001b[0mmodel_name\u001b[0m\u001b[0;34m.\u001b[0m\u001b[0mreplace\u001b[0m\u001b[0;34m(\u001b[0m\u001b[0;34m\"/\"\u001b[0m\u001b[0;34m,\u001b[0m \u001b[0;34m\"-\"\u001b[0m\u001b[0;34m)\u001b[0m\u001b[0;34m+\u001b[0m\u001b[0;34m'-'\u001b[0m\u001b[0;34m+\u001b[0m\u001b[0mdatetime\u001b[0m\u001b[0;34m.\u001b[0m\u001b[0mnow\u001b[0m\u001b[0;34m(\u001b[0m\u001b[0;34m)\u001b[0m\u001b[0;34m.\u001b[0m\u001b[0mstrftime\u001b[0m\u001b[0;34m(\u001b[0m\u001b[0;34m\"%Y-%m-%d_%H-%M-%S\"\u001b[0m\u001b[0;34m)\u001b[0m\u001b[0;34m\u001b[0m\u001b[0;34m\u001b[0m\u001b[0m\n\u001b[0m\u001b[1;32m      2\u001b[0m \u001b[0mbi_encoder_path\u001b[0m \u001b[0;34m=\u001b[0m \u001b[0;34m'output/bi-encoder/cds_czywiesz_domain_'\u001b[0m\u001b[0;34m+\u001b[0m\u001b[0mmodel_name\u001b[0m\u001b[0;34m.\u001b[0m\u001b[0mreplace\u001b[0m\u001b[0;34m(\u001b[0m\u001b[0;34m\"/\"\u001b[0m\u001b[0;34m,\u001b[0m \u001b[0;34m\"-\"\u001b[0m\u001b[0;34m)\u001b[0m\u001b[0;34m+\u001b[0m\u001b[0;34m'-'\u001b[0m\u001b[0;34m+\u001b[0m\u001b[0mdatetime\u001b[0m\u001b[0;34m.\u001b[0m\u001b[0mnow\u001b[0m\u001b[0;34m(\u001b[0m\u001b[0;34m)\u001b[0m\u001b[0;34m.\u001b[0m\u001b[0mstrftime\u001b[0m\u001b[0;34m(\u001b[0m\u001b[0;34m\"%Y-%m-%d_%H-%M-%S\"\u001b[0m\u001b[0;34m)\u001b[0m\u001b[0;34m\u001b[0m\u001b[0;34m\u001b[0m\u001b[0m\n",
            "\u001b[0;31mNameError\u001b[0m: name 'model_name' is not defined"
          ]
        }
      ]
    },
    {
      "cell_type": "code",
      "metadata": {
        "colab": {
          "base_uri": "https://localhost:8080/",
          "height": 501,
          "referenced_widgets": [
            "1e2da23b219b4cc5b47360e1d064b5af",
            "2541e23766a945d0a56641a420fb7b46",
            "e2b994d0646546acbaf63c767fb3eeb4",
            "fb99280a7faf4e9f9bbad84cdce29972",
            "6f17993f454b4f64861629fcd7cb9776",
            "5fcf1f9ca0ce4f96b33b0b5227aee72c",
            "76e5b309b85041ba9111e3ca1739fbce",
            "492665ac7eac490f82b787267c6916c1",
            "6d62d73ef4b5495dacb15d0e6cec5d7b",
            "74b6b65924ad4afaa2902c7986a3a474",
            "6d50cfd3601246269783be80f42f5fdf",
            "822337058ba64831ae2b449d331e0256",
            "267bf189cd964b88813014c6b3e90730",
            "4abe5b5e5e4b4bde9c53899cfb354d98",
            "f6faee878595498cad6e491647f4b937",
            "2c19b1d71e4647beac216794d51a0bb2",
            "ec1d3894c45242ab946fb375a0bc50c9",
            "bbf4a471484d4a2fa111907c3e29c839",
            "2e2b77d5fd614b1fb7019ce68916d0a2",
            "244fca75dc13473f911b0b29ff5f7ff5",
            "d16231d0e52a4a96a2cb8c89b7ff2bf5",
            "ba33ed747f954843b2bb68aed37a2f03",
            "8bc82936711548178c6bb74e65017036",
            "ef120b302cc642559941262febebe4fc",
            "a5fc3ad80ae24b86a29f43477006fb69",
            "2fc72bee998746d280269340200a1351",
            "e8e594e729bb4382acaa98967f78fce0",
            "ce151c360e7546ed896d2bdab04b8aca",
            "b44bde52a56f4469bdd92d221d006724",
            "5a45c3e6cebe4a25b8a29f0921512ecd",
            "5ab4322eda6e4a61aba5bb311a2a6c57",
            "71908fa0059441e49e96e6c6aa27b983"
          ]
        },
        "id": "Ql6QLN3n7kue",
        "outputId": "573dd785-74e9-471e-d7de-fdf9bd81a45d"
      },
      "source": [
        "# Use Huggingface/transformers model (like BERT, RoBERTa, XLNet, XLM-R) for cross-encoder model\r\n",
        "cross_encoder = CrossEncoder(model_name, num_labels=1)"
      ],
      "execution_count": null,
      "outputs": [
        {
          "output_type": "stream",
          "text": [
            "2021-01-23 11:11:22 - Lock 139665276002432 acquired on /root/.cache/huggingface/transformers/6c4a5d81a58c9791cdf76a09bce1b5abfb9cf958aebada51200f4515403e5d08.0fe59f3f4f1335dadeb4bce8b8146199d9083512b50d07323c1c319f96df450c.lock\n"
          ],
          "name": "stdout"
        },
        {
          "output_type": "display_data",
          "data": {
            "application/vnd.jupyter.widget-view+json": {
              "model_id": "1e2da23b219b4cc5b47360e1d064b5af",
              "version_minor": 0,
              "version_major": 2
            },
            "text/plain": [
              "HBox(children=(FloatProgress(value=0.0, description='Downloading', max=625.0, style=ProgressStyle(description_…"
            ]
          },
          "metadata": {
            "tags": []
          }
        },
        {
          "output_type": "stream",
          "text": [
            "\n",
            "2021-01-23 11:11:22 - Lock 139665276002432 released on /root/.cache/huggingface/transformers/6c4a5d81a58c9791cdf76a09bce1b5abfb9cf958aebada51200f4515403e5d08.0fe59f3f4f1335dadeb4bce8b8146199d9083512b50d07323c1c319f96df450c.lock\n",
            "2021-01-23 11:11:23 - Lock 139665276004560 acquired on /root/.cache/huggingface/transformers/0a3fd51713dcbb4def175c7f85bddc995d5976ce1dde327f99104e4d33069f17.aa7be4c79d76f4066d9b354496ea477c9ee39c5d889156dd1efb680643c2b052.lock\n"
          ],
          "name": "stdout"
        },
        {
          "output_type": "display_data",
          "data": {
            "application/vnd.jupyter.widget-view+json": {
              "model_id": "6d62d73ef4b5495dacb15d0e6cec5d7b",
              "version_minor": 0,
              "version_major": 2
            },
            "text/plain": [
              "HBox(children=(FloatProgress(value=0.0, description='Downloading', max=714314041.0, style=ProgressStyle(descri…"
            ]
          },
          "metadata": {
            "tags": []
          }
        },
        {
          "output_type": "stream",
          "text": [
            "\n",
            "2021-01-23 11:11:35 - Lock 139665276004560 released on /root/.cache/huggingface/transformers/0a3fd51713dcbb4def175c7f85bddc995d5976ce1dde327f99104e4d33069f17.aa7be4c79d76f4066d9b354496ea477c9ee39c5d889156dd1efb680643c2b052.lock\n"
          ],
          "name": "stdout"
        },
        {
          "output_type": "stream",
          "text": [
            "Some weights of the model checkpoint at bert-base-multilingual-cased were not used when initializing BertForSequenceClassification: ['cls.predictions.bias', 'cls.predictions.transform.dense.weight', 'cls.predictions.transform.dense.bias', 'cls.predictions.decoder.weight', 'cls.seq_relationship.weight', 'cls.seq_relationship.bias', 'cls.predictions.transform.LayerNorm.weight', 'cls.predictions.transform.LayerNorm.bias']\n",
            "- This IS expected if you are initializing BertForSequenceClassification from the checkpoint of a model trained on another task or with another architecture (e.g. initializing a BertForSequenceClassification model from a BertForPreTraining model).\n",
            "- This IS NOT expected if you are initializing BertForSequenceClassification from the checkpoint of a model that you expect to be exactly identical (initializing a BertForSequenceClassification model from a BertForSequenceClassification model).\n",
            "Some weights of BertForSequenceClassification were not initialized from the model checkpoint at bert-base-multilingual-cased and are newly initialized: ['classifier.weight', 'classifier.bias']\n",
            "You should probably TRAIN this model on a down-stream task to be able to use it for predictions and inference.\n"
          ],
          "name": "stderr"
        },
        {
          "output_type": "stream",
          "text": [
            "2021-01-23 11:11:41 - Lock 139665248024784 acquired on /root/.cache/huggingface/transformers/eff018e45de5364a8368df1f2df3461d506e2a111e9dd50af1fae061cd460ead.6c5b6600e968f4b5e08c86d8891ea99e51537fc2bf251435fb46922e8f7a7b29.lock\n"
          ],
          "name": "stdout"
        },
        {
          "output_type": "display_data",
          "data": {
            "application/vnd.jupyter.widget-view+json": {
              "model_id": "ec1d3894c45242ab946fb375a0bc50c9",
              "version_minor": 0,
              "version_major": 2
            },
            "text/plain": [
              "HBox(children=(FloatProgress(value=0.0, description='Downloading', max=995526.0, style=ProgressStyle(descripti…"
            ]
          },
          "metadata": {
            "tags": []
          }
        },
        {
          "output_type": "stream",
          "text": [
            "\n",
            "2021-01-23 11:11:42 - Lock 139665248024784 released on /root/.cache/huggingface/transformers/eff018e45de5364a8368df1f2df3461d506e2a111e9dd50af1fae061cd460ead.6c5b6600e968f4b5e08c86d8891ea99e51537fc2bf251435fb46922e8f7a7b29.lock\n",
            "2021-01-23 11:11:42 - Lock 139665248024784 acquired on /root/.cache/huggingface/transformers/46880f3b0081fda494a4e15b05787692aa4c1e21e0ff2428ba8b14d4eda0784d.b33e51591f94f17c238ee9b1fac75b96ff2678cbaed6e108feadb3449d18dc24.lock\n"
          ],
          "name": "stdout"
        },
        {
          "output_type": "display_data",
          "data": {
            "application/vnd.jupyter.widget-view+json": {
              "model_id": "a5fc3ad80ae24b86a29f43477006fb69",
              "version_minor": 0,
              "version_major": 2
            },
            "text/plain": [
              "HBox(children=(FloatProgress(value=0.0, description='Downloading', max=1961828.0, style=ProgressStyle(descript…"
            ]
          },
          "metadata": {
            "tags": []
          }
        },
        {
          "output_type": "stream",
          "text": [
            "\n",
            "2021-01-23 11:11:43 - Lock 139665248024784 released on /root/.cache/huggingface/transformers/46880f3b0081fda494a4e15b05787692aa4c1e21e0ff2428ba8b14d4eda0784d.b33e51591f94f17c238ee9b1fac75b96ff2678cbaed6e108feadb3449d18dc24.lock\n",
            "2021-01-23 11:11:43 - Use pytorch device: cuda\n"
          ],
          "name": "stdout"
        }
      ]
    },
    {
      "cell_type": "code",
      "metadata": {
        "colab": {
          "base_uri": "https://localhost:8080/",
          "height": 206
        },
        "id": "FE5HoQtW8R4H",
        "outputId": "aa2d7591-4b5c-4f85-a7b7-8b87a9f1e86e"
      },
      "source": [
        "cds = pd.read_csv('/content/drive/MyDrive/Polish CDSCorpus/dataset.csv', sep='\\t')\r\n",
        "cds.head()"
      ],
      "execution_count": null,
      "outputs": [
        {
          "output_type": "execute_result",
          "data": {
            "text/html": [
              "<div>\n",
              "<style scoped>\n",
              "    .dataframe tbody tr th:only-of-type {\n",
              "        vertical-align: middle;\n",
              "    }\n",
              "\n",
              "    .dataframe tbody tr th {\n",
              "        vertical-align: top;\n",
              "    }\n",
              "\n",
              "    .dataframe thead th {\n",
              "        text-align: right;\n",
              "    }\n",
              "</style>\n",
              "<table border=\"1\" class=\"dataframe\">\n",
              "  <thead>\n",
              "    <tr style=\"text-align: right;\">\n",
              "      <th></th>\n",
              "      <th>ID</th>\n",
              "      <th>A</th>\n",
              "      <th>B</th>\n",
              "      <th>RE</th>\n",
              "      <th>round(RE)</th>\n",
              "      <th>A_wrt_B</th>\n",
              "      <th>B_wrt_A</th>\n",
              "    </tr>\n",
              "  </thead>\n",
              "  <tbody>\n",
              "    <tr>\n",
              "      <th>0</th>\n",
              "      <td>1</td>\n",
              "      <td>Zawodnik na boisku ze skórzaną rękawicą robi w...</td>\n",
              "      <td>Mężczyzna w sportowym stroju stoi na ugiętej n...</td>\n",
              "      <td>2.17</td>\n",
              "      <td>2</td>\n",
              "      <td>neutral</td>\n",
              "      <td>neutral</td>\n",
              "    </tr>\n",
              "    <tr>\n",
              "      <th>1</th>\n",
              "      <td>2</td>\n",
              "      <td>Zawodnik na boisku ze skórzaną rękawicą robi w...</td>\n",
              "      <td>Wykrok w przód jest robiony na piasku na boisk...</td>\n",
              "      <td>5.00</td>\n",
              "      <td>5</td>\n",
              "      <td>entailment</td>\n",
              "      <td>entailment</td>\n",
              "    </tr>\n",
              "    <tr>\n",
              "      <th>2</th>\n",
              "      <td>3</td>\n",
              "      <td>Zawodnik na boisku ze skórzaną rękawicą robi w...</td>\n",
              "      <td>Mężczyzna w sportowym stroju stoi na nodze, kt...</td>\n",
              "      <td>2.50</td>\n",
              "      <td>3</td>\n",
              "      <td>neutral</td>\n",
              "      <td>neutral</td>\n",
              "    </tr>\n",
              "    <tr>\n",
              "      <th>3</th>\n",
              "      <td>4</td>\n",
              "      <td>Zawodnik na boisku ze skórzaną rękawicą robi w...</td>\n",
              "      <td>Chłopak w czerwonych butach stoi na boisku z u...</td>\n",
              "      <td>1.50</td>\n",
              "      <td>2</td>\n",
              "      <td>neutral</td>\n",
              "      <td>neutral</td>\n",
              "    </tr>\n",
              "    <tr>\n",
              "      <th>4</th>\n",
              "      <td>5</td>\n",
              "      <td>Zawodnik na boisku ze skórzaną rękawicą robi w...</td>\n",
              "      <td>Osoba wykonuje skok przez przeszkodę na jasnob...</td>\n",
              "      <td>0.00</td>\n",
              "      <td>0</td>\n",
              "      <td>neutral</td>\n",
              "      <td>neutral</td>\n",
              "    </tr>\n",
              "  </tbody>\n",
              "</table>\n",
              "</div>"
            ],
            "text/plain": [
              "   ID  ...     B_wrt_A\n",
              "0   1  ...     neutral\n",
              "1   2  ...  entailment\n",
              "2   3  ...     neutral\n",
              "3   4  ...     neutral\n",
              "4   5  ...     neutral\n",
              "\n",
              "[5 rows x 7 columns]"
            ]
          },
          "metadata": {
            "tags": []
          },
          "execution_count": 31
        }
      ]
    },
    {
      "cell_type": "code",
      "metadata": {
        "id": "Kswq6Gfd8cmu"
      },
      "source": [
        "cds_samples = []\r\n",
        "for index, row in cds.iterrows():\r\n",
        "  score = float(row['RE']) / 5.0\r\n",
        "  cds_samples.append(InputExample(texts=[row['A'], row['B']], label=score))"
      ],
      "execution_count": null,
      "outputs": []
    },
    {
      "cell_type": "code",
      "metadata": {
        "id": "IKx0kIha8ft9"
      },
      "source": [
        "dev_samples = cds_samples[:1000]\r\n",
        "gold_samples = cds_samples[1000:]"
      ],
      "execution_count": null,
      "outputs": []
    },
    {
      "cell_type": "code",
      "metadata": {
        "id": "XwPRRG0R8j94"
      },
      "source": [
        "# We wrap gold_samples (which is a List[InputExample]) into a pytorch DataLoader\r\n",
        "train_dataloader = DataLoader(gold_samples, shuffle=True, batch_size=batch_size)"
      ],
      "execution_count": null,
      "outputs": []
    },
    {
      "cell_type": "code",
      "metadata": {
        "id": "xgDPw_Jj8qxd"
      },
      "source": [
        "# We add an evaluator, which evaluates the performance during training\r\n",
        "evaluator = CECorrelationEvaluator.from_input_examples(dev_samples, name='cds')"
      ],
      "execution_count": null,
      "outputs": []
    },
    {
      "cell_type": "code",
      "metadata": {
        "colab": {
          "base_uri": "https://localhost:8080/",
          "height": 564,
          "referenced_widgets": [
            "b806d009691c43439cf689b8f86edf62",
            "a5ed2887625842c6ac94d177dba2516f",
            "bec84d5fcd0a4ab6924660aad41d027d",
            "1aa5500056264a6c9845948f5a2da9b4",
            "38c6c26233744c2e95a1b5a0728fe49d",
            "4880c0b0111a480fb0cfb1a02d79b1f4",
            "28b436a4fae74be3a48ff86595df51d1",
            "9bd6d0e9afde433ea63c97c273655137",
            "7268a3c017894034b0e66e58af139fda",
            "ffdf2bc0f17547989feb8738771500fa",
            "86aaa44e381640f38aba3c175f069104",
            "5e48b16f48cb481fa08a2badbc9c1314",
            "4cbbf518cf0f41328ac46247a3c44cae",
            "85dd0b87f91346d3831197fabf8d64f6",
            "b8606d277f03442894bcaaa4548d1834",
            "2d448d4082124778ab8169279c39f649",
            "1390b0f8656f43e38481a72d443adf09",
            "1519d302a1f742a7b0aa374b77e5d287",
            "02ab508b31594cfd93013a60707af37d",
            "1c160c8a8b46452c851639cbfb2fb233",
            "7c547b3dac544261899ecc9b2660ff18",
            "62709012f27f4d8891d3d46381bd414a",
            "1d31aa626bf541cd94fdbd3bd3b49f08",
            "bd93a5df1e0340e985a0e2e478226bdc",
            "7f1c6cced7cb4feb81faa641cd2be146",
            "f473e1488e2e4e9abdfed9cccd2ca8dc",
            "99feb15fbf374be7bb34c440574fc85e",
            "8d50d5cd57b54202bcdd9cc063107a1a",
            "6da1d74ba4d249cc838a922b5e451af8",
            "17008476612447a0881d57b6bf75703f",
            "b1e1812e7059458d83efe922d5b150c1",
            "a705aea9a57d4a1a8b7d5eb28ff5307a",
            "85460c589b0f4ef880bd7294b69162e7",
            "84ca2c74f7c64e6c8a47d4a767f9c4d8",
            "2719ccdc58104ea888351eabc2471f88",
            "da3eadd3012a4dfe9e0b4bfdf3bb5b95",
            "b026f955ecce4eb38021b7e4fbfd4df1",
            "0f6af941a1e64a7da18016e6f63eb1da",
            "a75779f86ea54f33b8b08928fefa0890",
            "75f110873cc14392a075909169d666e8",
            "754cf61c8a8649d8ab40e4445aee354a",
            "51665e59bfda43df822644961d2cd39e",
            "fb85a7f25dee4ee0bf8f5e02e3bb3076",
            "df17f13204124671b87e0003a123f20c",
            "5702082ed041485abef2597b7b4f606e",
            "6d102e7a51524983ac8e22d17357b14b",
            "5e424bc688214a2da8e9f1b8faa0963a",
            "da9d4412e2974ae48d8ce820e4601207"
          ]
        },
        "id": "7G_4ud2h8teV",
        "outputId": "703c7953-ad8f-4ba2-d545-a01bbb8336c6"
      },
      "source": [
        "# Configure the training\r\n",
        "warmup_steps = math.ceil(len(train_dataloader) * num_epochs * 0.1) #10% of train data for warm-up\r\n",
        "logging.info(\"Warmup-steps: {}\".format(warmup_steps))\r\n",
        "\r\n",
        "# Train the cross-encoder model\r\n",
        "cross_encoder.fit(train_dataloader=train_dataloader,\r\n",
        "          evaluator=evaluator,\r\n",
        "          epochs=num_epochs,\r\n",
        "          evaluation_steps=1000,\r\n",
        "          warmup_steps=warmup_steps,\r\n",
        "          output_path=cross_encoder_path)"
      ],
      "execution_count": null,
      "outputs": [
        {
          "output_type": "stream",
          "text": [
            "2021-01-23 11:13:43 - Warmup-steps: 282\n"
          ],
          "name": "stdout"
        },
        {
          "output_type": "display_data",
          "data": {
            "application/vnd.jupyter.widget-view+json": {
              "model_id": "b806d009691c43439cf689b8f86edf62",
              "version_minor": 0,
              "version_major": 2
            },
            "text/plain": [
              "HBox(children=(FloatProgress(value=0.0, description='Epoch', max=5.0, style=ProgressStyle(description_width='i…"
            ]
          },
          "metadata": {
            "tags": []
          }
        },
        {
          "output_type": "display_data",
          "data": {
            "application/vnd.jupyter.widget-view+json": {
              "model_id": "7268a3c017894034b0e66e58af139fda",
              "version_minor": 0,
              "version_major": 2
            },
            "text/plain": [
              "HBox(children=(FloatProgress(value=0.0, description='Iteration', max=563.0, style=ProgressStyle(description_wi…"
            ]
          },
          "metadata": {
            "tags": []
          }
        },
        {
          "output_type": "stream",
          "text": [
            "\n",
            "2021-01-23 11:16:22 - CECorrelationEvaluator: Evaluating the model on cds dataset after epoch 0:\n",
            "2021-01-23 11:16:28 - Correlation:\tPearson: 0.9391\tSpearman: 0.9411\n",
            "2021-01-23 11:16:28 - Save model to output/cross-encoder/cds_indomain_czywiesz_model-2021-01-23_11-09-04\n"
          ],
          "name": "stdout"
        },
        {
          "output_type": "display_data",
          "data": {
            "application/vnd.jupyter.widget-view+json": {
              "model_id": "1390b0f8656f43e38481a72d443adf09",
              "version_minor": 0,
              "version_major": 2
            },
            "text/plain": [
              "HBox(children=(FloatProgress(value=0.0, description='Iteration', max=563.0, style=ProgressStyle(description_wi…"
            ]
          },
          "metadata": {
            "tags": []
          }
        },
        {
          "output_type": "stream",
          "text": [
            "\n",
            "2021-01-23 11:19:08 - CECorrelationEvaluator: Evaluating the model on cds dataset after epoch 1:\n",
            "2021-01-23 11:19:13 - Correlation:\tPearson: 0.9569\tSpearman: 0.9507\n",
            "2021-01-23 11:19:13 - Save model to output/cross-encoder/cds_indomain_czywiesz_model-2021-01-23_11-09-04\n"
          ],
          "name": "stdout"
        },
        {
          "output_type": "display_data",
          "data": {
            "application/vnd.jupyter.widget-view+json": {
              "model_id": "7f1c6cced7cb4feb81faa641cd2be146",
              "version_minor": 0,
              "version_major": 2
            },
            "text/plain": [
              "HBox(children=(FloatProgress(value=0.0, description='Iteration', max=563.0, style=ProgressStyle(description_wi…"
            ]
          },
          "metadata": {
            "tags": []
          }
        },
        {
          "output_type": "stream",
          "text": [
            "\n",
            "2021-01-23 11:21:52 - CECorrelationEvaluator: Evaluating the model on cds dataset after epoch 2:\n",
            "2021-01-23 11:21:57 - Correlation:\tPearson: 0.9567\tSpearman: 0.9488\n"
          ],
          "name": "stdout"
        },
        {
          "output_type": "display_data",
          "data": {
            "application/vnd.jupyter.widget-view+json": {
              "model_id": "85460c589b0f4ef880bd7294b69162e7",
              "version_minor": 0,
              "version_major": 2
            },
            "text/plain": [
              "HBox(children=(FloatProgress(value=0.0, description='Iteration', max=563.0, style=ProgressStyle(description_wi…"
            ]
          },
          "metadata": {
            "tags": []
          }
        },
        {
          "output_type": "stream",
          "text": [
            "\n",
            "2021-01-23 11:24:33 - CECorrelationEvaluator: Evaluating the model on cds dataset after epoch 3:\n",
            "2021-01-23 11:24:38 - Correlation:\tPearson: 0.9571\tSpearman: 0.9490\n"
          ],
          "name": "stdout"
        },
        {
          "output_type": "display_data",
          "data": {
            "application/vnd.jupyter.widget-view+json": {
              "model_id": "754cf61c8a8649d8ab40e4445aee354a",
              "version_minor": 0,
              "version_major": 2
            },
            "text/plain": [
              "HBox(children=(FloatProgress(value=0.0, description='Iteration', max=563.0, style=ProgressStyle(description_wi…"
            ]
          },
          "metadata": {
            "tags": []
          }
        },
        {
          "output_type": "stream",
          "text": [
            "\n",
            "2021-01-23 11:27:15 - CECorrelationEvaluator: Evaluating the model on cds dataset after epoch 4:\n",
            "2021-01-23 11:27:20 - Correlation:\tPearson: 0.9572\tSpearman: 0.9488\n",
            "\n"
          ],
          "name": "stdout"
        }
      ]
    },
    {
      "cell_type": "code",
      "metadata": {
        "id": "5_UtqUz6AAqV"
      },
      "source": [
        "!cp -r /content/output/cross-encoder /content/drive/MyDrive/models"
      ],
      "execution_count": null,
      "outputs": []
    },
    {
      "cell_type": "markdown",
      "metadata": {
        "id": "QwwzHmTfARjF"
      },
      "source": [
        "### Label data"
      ]
    },
    {
      "cell_type": "code",
      "metadata": {
        "colab": {
          "base_uri": "https://localhost:8080/"
        },
        "id": "3eA8svKPBClU",
        "outputId": "d9c93203-92e0-4608-bb41-1e3d535662ee"
      },
      "source": [
        "cross_encoder = CrossEncoder('/content/drive/MyDrive/models/cross-encoder/cds_indomain_czywiesz_model-2021-01-23_11-09-04')"
      ],
      "execution_count": null,
      "outputs": [
        {
          "output_type": "stream",
          "text": [
            "2021-01-23 11:32:43 - Use pytorch device: cuda\n"
          ],
          "name": "stdout"
        }
      ]
    },
    {
      "cell_type": "code",
      "metadata": {
        "colab": {
          "base_uri": "https://localhost:8080/",
          "height": 310
        },
        "id": "1KcGCr0jAS7j",
        "outputId": "fc05cb74-d533-454c-d3f0-f425d4753e53"
      },
      "source": [
        "full = pd.read_csv('/content/drive/MyDrive/czywieszki/answers.csv')\r\n",
        "full.drop(columns=['Unnamed: 0', 'Unnamed: 0.1'], inplace=True)\r\n",
        "full.head()"
      ],
      "execution_count": null,
      "outputs": [
        {
          "output_type": "execute_result",
          "data": {
            "text/html": [
              "<div>\n",
              "<style scoped>\n",
              "    .dataframe tbody tr th:only-of-type {\n",
              "        vertical-align: middle;\n",
              "    }\n",
              "\n",
              "    .dataframe tbody tr th {\n",
              "        vertical-align: top;\n",
              "    }\n",
              "\n",
              "    .dataframe thead th {\n",
              "        text-align: right;\n",
              "    }\n",
              "</style>\n",
              "<table border=\"1\" class=\"dataframe\">\n",
              "  <thead>\n",
              "    <tr style=\"text-align: right;\">\n",
              "      <th></th>\n",
              "      <th>id</th>\n",
              "      <th>url</th>\n",
              "      <th>title</th>\n",
              "      <th>text</th>\n",
              "      <th>question</th>\n",
              "      <th>sentence</th>\n",
              "      <th>answer</th>\n",
              "    </tr>\n",
              "  </thead>\n",
              "  <tbody>\n",
              "    <tr>\n",
              "      <th>0</th>\n",
              "      <td>2070375</td>\n",
              "      <td>http://pl.wikipedia.org/wiki/?curid=2070375</td>\n",
              "      <td>R136a1</td>\n",
              "      <td>R136a1 – gwiazda Wolfa-Rayeta typu widmowego W...</td>\n",
              "      <td>gdzie zaobserwowano najmasywniejszą znaną gwia...</td>\n",
              "      <td>['R136a1 – gwiazda Wolfa-Rayeta typu widmowego...</td>\n",
              "      <td>Na uzyskanych dzięki niemu zdjęciach można był...</td>\n",
              "    </tr>\n",
              "    <tr>\n",
              "      <th>1</th>\n",
              "      <td>2070656</td>\n",
              "      <td>http://pl.wikipedia.org/wiki/?curid=2070656</td>\n",
              "      <td>Apoteoza wojny</td>\n",
              "      <td>Apoteoza wojny (oryg. ros. Апофеоз войны, \"Apo...</td>\n",
              "      <td>komu Wasilij Wierieszczagin zadedykował swój o...</td>\n",
              "      <td>['Апофеоз войны, \"Apofieoz wojny\") – obraz Was...</td>\n",
              "      <td>Апофеоз войны, \"Apofieoz wojny\") – obraz Wasil...</td>\n",
              "    </tr>\n",
              "    <tr>\n",
              "      <th>2</th>\n",
              "      <td>2070790</td>\n",
              "      <td>http://pl.wikipedia.org/wiki/?curid=2070790</td>\n",
              "      <td>Widzenie chłopca Bartłomieja</td>\n",
              "      <td>Widzenie chłopca Bartłomieja (oryg. ros. \"Виде...</td>\n",
              "      <td>który święty prawosławny został ukazany na obr...</td>\n",
              "      <td>['\"Видение отроку Варфоломею\") – obraz Michaił...</td>\n",
              "      <td>Niestierow pragnął swoimi dziełami oddać hołd ...</td>\n",
              "    </tr>\n",
              "    <tr>\n",
              "      <th>3</th>\n",
              "      <td>2071346</td>\n",
              "      <td>http://pl.wikipedia.org/wiki/?curid=2071346</td>\n",
              "      <td>Cangjang Gjaco</td>\n",
              "      <td>Cangjang Gjaco (tyb. ཚང་དབྱངས་རྒྱ་མཚོ་ Wylie: ...</td>\n",
              "      <td>któremu dalajlamie przypisuje się nieśmierteln...</td>\n",
              "      <td>['ཚང་དབྱངས་རྒྱ་མཚོ་ Wylie: \"tshang-dbyangs-rgy...</td>\n",
              "      <td>Wśród świeckich tybetańskich rozpowszechnione ...</td>\n",
              "    </tr>\n",
              "    <tr>\n",
              "      <th>4</th>\n",
              "      <td>2071390</td>\n",
              "      <td>http://pl.wikipedia.org/wiki/?curid=2071390</td>\n",
              "      <td>Wojna erytrejsko-etiopska</td>\n",
              "      <td>Wojna erytrejsko-etiopska trwała w latach 1998...</td>\n",
              "      <td>jakie były skutki wojny erytrejsko-etiopskiej?</td>\n",
              "      <td>['Wojna erytrejsko-etiopska trwała w latach 19...</td>\n",
              "      <td>W wyniku działań wojsk etiopskich do przesiedl...</td>\n",
              "    </tr>\n",
              "  </tbody>\n",
              "</table>\n",
              "</div>"
            ],
            "text/plain": [
              "        id  ...                                             answer\n",
              "0  2070375  ...  Na uzyskanych dzięki niemu zdjęciach można był...\n",
              "1  2070656  ...  Апофеоз войны, \"Apofieoz wojny\") – obraz Wasil...\n",
              "2  2070790  ...  Niestierow pragnął swoimi dziełami oddać hołd ...\n",
              "3  2071346  ...  Wśród świeckich tybetańskich rozpowszechnione ...\n",
              "4  2071390  ...  W wyniku działań wojsk etiopskich do przesiedl...\n",
              "\n",
              "[5 rows x 7 columns]"
            ]
          },
          "metadata": {
            "tags": []
          },
          "execution_count": 41
        }
      ]
    },
    {
      "cell_type": "code",
      "metadata": {
        "id": "5SFs1Cs9As4S"
      },
      "source": [
        "questions = full['question'].tolist()\r\n",
        "answers = full['answer'].tolist()"
      ],
      "execution_count": null,
      "outputs": []
    },
    {
      "cell_type": "code",
      "metadata": {
        "id": "FOtyy_SVAvJ7"
      },
      "source": [
        "silver_data = []\r\n",
        "for q, a in zip(questions, answers):\r\n",
        "  silver_data.append([q, a])"
      ],
      "execution_count": null,
      "outputs": []
    },
    {
      "cell_type": "code",
      "metadata": {
        "colab": {
          "base_uri": "https://localhost:8080/",
          "height": 68,
          "referenced_widgets": [
            "4577f1e25a5045fb93db51ac914c389f",
            "fc3d8d534d9a4279bc38e05525bec610",
            "7dc3dd6067ab4ffa9d94075d5d898b2c",
            "c9a35ebff4814906b564366acc41b3f8",
            "08b76c60c33648fbbc51d3bb6ee43270",
            "d49a3d6e5e8d42239840750ec204a758",
            "cbc148d4250a492faeba5d0ac4fadc61",
            "15f1f7e6a93d4f53b610adc569070b05"
          ]
        },
        "id": "8r7hFJkfA_WM",
        "outputId": "462901c4-5268-4075-a15b-12bbb061672a"
      },
      "source": [
        "silver_scores = cross_encoder.predict(silver_data, show_progress_bar=True)"
      ],
      "execution_count": null,
      "outputs": [
        {
          "output_type": "display_data",
          "data": {
            "application/vnd.jupyter.widget-view+json": {
              "model_id": "4577f1e25a5045fb93db51ac914c389f",
              "version_minor": 0,
              "version_major": 2
            },
            "text/plain": [
              "HBox(children=(FloatProgress(value=0.0, description='Batches', max=151.0, style=ProgressStyle(description_widt…"
            ]
          },
          "metadata": {
            "tags": []
          }
        },
        {
          "output_type": "stream",
          "text": [
            "\n"
          ],
          "name": "stdout"
        }
      ]
    },
    {
      "cell_type": "code",
      "metadata": {
        "colab": {
          "base_uri": "https://localhost:8080/",
          "height": 377
        },
        "id": "-jC_00S4BVD7",
        "outputId": "4fa3d0c5-7c3e-46b4-8585-3eaaa642b387"
      },
      "source": [
        "import matplotlib.pyplot as plt\r\n",
        "plt.hist(silver_scores)"
      ],
      "execution_count": null,
      "outputs": [
        {
          "output_type": "execute_result",
          "data": {
            "text/plain": [
              "(array([  47.,   60.,   95.,  328.,  670., 1127., 1422.,  822.,  199.,\n",
              "          47.]),\n",
              " array([0.02244714, 0.11888336, 0.21531959, 0.3117558 , 0.40819204,\n",
              "        0.50462824, 0.6010645 , 0.6975007 , 0.7939369 , 0.8903732 ,\n",
              "        0.9868094 ], dtype=float32),\n",
              " <a list of 10 Patch objects>)"
            ]
          },
          "metadata": {
            "tags": []
          },
          "execution_count": 49
        },
        {
          "output_type": "display_data",
          "data": {
            "image/png": "[encoded data removed]",
            "text/plain": [
              "<Figure size 432x288 with 1 Axes>"
            ]
          },
          "metadata": {
            "tags": [],
            "needs_background": "light"
          }
        }
      ]
    },
    {
      "cell_type": "code",
      "metadata": {
        "colab": {
          "base_uri": "https://localhost:8080/",
          "height": 206
        },
        "id": "NpckHXNgBi-q",
        "outputId": "7befcb5b-5e99-495f-d395-b6184116395a"
      },
      "source": [
        "cw = pd.DataFrame(columns=['A', 'B', 'score'])\r\n",
        "cw['A'] = questions\r\n",
        "cw['B'] = answers\r\n",
        "cw['score'] = silver_scores\r\n",
        "cw.head() "
      ],
      "execution_count": null,
      "outputs": [
        {
          "output_type": "execute_result",
          "data": {
            "text/html": [
              "<div>\n",
              "<style scoped>\n",
              "    .dataframe tbody tr th:only-of-type {\n",
              "        vertical-align: middle;\n",
              "    }\n",
              "\n",
              "    .dataframe tbody tr th {\n",
              "        vertical-align: top;\n",
              "    }\n",
              "\n",
              "    .dataframe thead th {\n",
              "        text-align: right;\n",
              "    }\n",
              "</style>\n",
              "<table border=\"1\" class=\"dataframe\">\n",
              "  <thead>\n",
              "    <tr style=\"text-align: right;\">\n",
              "      <th></th>\n",
              "      <th>A</th>\n",
              "      <th>B</th>\n",
              "      <th>score</th>\n",
              "    </tr>\n",
              "  </thead>\n",
              "  <tbody>\n",
              "    <tr>\n",
              "      <th>0</th>\n",
              "      <td>gdzie zaobserwowano najmasywniejszą znaną gwia...</td>\n",
              "      <td>Na uzyskanych dzięki niemu zdjęciach można był...</td>\n",
              "      <td>0.483649</td>\n",
              "    </tr>\n",
              "    <tr>\n",
              "      <th>1</th>\n",
              "      <td>komu Wasilij Wierieszczagin zadedykował swój o...</td>\n",
              "      <td>Апофеоз войны, \"Apofieoz wojny\") – obraz Wasil...</td>\n",
              "      <td>0.735258</td>\n",
              "    </tr>\n",
              "    <tr>\n",
              "      <th>2</th>\n",
              "      <td>który święty prawosławny został ukazany na obr...</td>\n",
              "      <td>Niestierow pragnął swoimi dziełami oddać hołd ...</td>\n",
              "      <td>0.674529</td>\n",
              "    </tr>\n",
              "    <tr>\n",
              "      <th>3</th>\n",
              "      <td>któremu dalajlamie przypisuje się nieśmierteln...</td>\n",
              "      <td>Wśród świeckich tybetańskich rozpowszechnione ...</td>\n",
              "      <td>0.488337</td>\n",
              "    </tr>\n",
              "    <tr>\n",
              "      <th>4</th>\n",
              "      <td>jakie były skutki wojny erytrejsko-etiopskiej?</td>\n",
              "      <td>W wyniku działań wojsk etiopskich do przesiedl...</td>\n",
              "      <td>0.534575</td>\n",
              "    </tr>\n",
              "  </tbody>\n",
              "</table>\n",
              "</div>"
            ],
            "text/plain": [
              "                                                   A  ...     score\n",
              "0  gdzie zaobserwowano najmasywniejszą znaną gwia...  ...  0.483649\n",
              "1  komu Wasilij Wierieszczagin zadedykował swój o...  ...  0.735258\n",
              "2  który święty prawosławny został ukazany na obr...  ...  0.674529\n",
              "3  któremu dalajlamie przypisuje się nieśmierteln...  ...  0.488337\n",
              "4     jakie były skutki wojny erytrejsko-etiopskiej?  ...  0.534575\n",
              "\n",
              "[5 rows x 3 columns]"
            ]
          },
          "metadata": {
            "tags": []
          },
          "execution_count": 50
        }
      ]
    },
    {
      "cell_type": "code",
      "metadata": {
        "id": "S5_SYMu-B52_"
      },
      "source": [
        "cw.to_csv('/content/drive/MyDrive/czywieszki/czywiesz_sts.csv', index=False)"
      ],
      "execution_count": null,
      "outputs": []
    },
    {
      "cell_type": "markdown",
      "metadata": {
        "id": "NVMyHVUMAPD6"
      },
      "source": [
        "### Train Bi-Encoder"
      ]
    },
    {
      "cell_type": "code",
      "metadata": {
        "colab": {
          "base_uri": "https://localhost:8080/",
          "height": 206
        },
        "id": "EHRHY-vJAJJW",
        "outputId": "196d1433-9ae6-443a-bc50-a14a2e19f895"
      },
      "source": [
        "cw = pd.read_csv('/content/drive/MyDrive/czywieszki/czywiesz_sts.csv')\r\n",
        "cw.head()"
      ],
      "execution_count": null,
      "outputs": [
        {
          "output_type": "execute_result",
          "data": {
            "text/html": [
              "<div>\n",
              "<style scoped>\n",
              "    .dataframe tbody tr th:only-of-type {\n",
              "        vertical-align: middle;\n",
              "    }\n",
              "\n",
              "    .dataframe tbody tr th {\n",
              "        vertical-align: top;\n",
              "    }\n",
              "\n",
              "    .dataframe thead th {\n",
              "        text-align: right;\n",
              "    }\n",
              "</style>\n",
              "<table border=\"1\" class=\"dataframe\">\n",
              "  <thead>\n",
              "    <tr style=\"text-align: right;\">\n",
              "      <th></th>\n",
              "      <th>A</th>\n",
              "      <th>B</th>\n",
              "      <th>score</th>\n",
              "    </tr>\n",
              "  </thead>\n",
              "  <tbody>\n",
              "    <tr>\n",
              "      <th>0</th>\n",
              "      <td>gdzie zaobserwowano najmasywniejszą znaną gwia...</td>\n",
              "      <td>Na uzyskanych dzięki niemu zdjęciach można był...</td>\n",
              "      <td>0.483649</td>\n",
              "    </tr>\n",
              "    <tr>\n",
              "      <th>1</th>\n",
              "      <td>komu Wasilij Wierieszczagin zadedykował swój o...</td>\n",
              "      <td>Апофеоз войны, \"Apofieoz wojny\") – obraz Wasil...</td>\n",
              "      <td>0.735258</td>\n",
              "    </tr>\n",
              "    <tr>\n",
              "      <th>2</th>\n",
              "      <td>który święty prawosławny został ukazany na obr...</td>\n",
              "      <td>Niestierow pragnął swoimi dziełami oddać hołd ...</td>\n",
              "      <td>0.674529</td>\n",
              "    </tr>\n",
              "    <tr>\n",
              "      <th>3</th>\n",
              "      <td>któremu dalajlamie przypisuje się nieśmierteln...</td>\n",
              "      <td>Wśród świeckich tybetańskich rozpowszechnione ...</td>\n",
              "      <td>0.488337</td>\n",
              "    </tr>\n",
              "    <tr>\n",
              "      <th>4</th>\n",
              "      <td>jakie były skutki wojny erytrejsko-etiopskiej?</td>\n",
              "      <td>W wyniku działań wojsk etiopskich do przesiedl...</td>\n",
              "      <td>0.534575</td>\n",
              "    </tr>\n",
              "  </tbody>\n",
              "</table>\n",
              "</div>"
            ],
            "text/plain": [
              "                                                   A  ...     score\n",
              "0  gdzie zaobserwowano najmasywniejszą znaną gwia...  ...  0.483649\n",
              "1  komu Wasilij Wierieszczagin zadedykował swój o...  ...  0.735258\n",
              "2  który święty prawosławny został ukazany na obr...  ...  0.674529\n",
              "3  któremu dalajlamie przypisuje się nieśmierteln...  ...  0.488337\n",
              "4     jakie były skutki wojny erytrejsko-etiopskiej?  ...  0.534575\n",
              "\n",
              "[5 rows x 3 columns]"
            ]
          },
          "metadata": {
            "tags": []
          },
          "execution_count": 3
        }
      ]
    },
    {
      "cell_type": "code",
      "metadata": {
        "colab": {
          "base_uri": "https://localhost:8080/",
          "height": 206
        },
        "id": "Kpsz8omNCPhj",
        "outputId": "f71766a9-0c68-4e7c-b747-4ba216bb4aed"
      },
      "source": [
        "cds = pd.read_csv('/content/drive/MyDrive/Polish CDSCorpus/dataset.csv', sep='\\t')\r\n",
        "cds.head()"
      ],
      "execution_count": null,
      "outputs": [
        {
          "output_type": "execute_result",
          "data": {
            "text/html": [
              "<div>\n",
              "<style scoped>\n",
              "    .dataframe tbody tr th:only-of-type {\n",
              "        vertical-align: middle;\n",
              "    }\n",
              "\n",
              "    .dataframe tbody tr th {\n",
              "        vertical-align: top;\n",
              "    }\n",
              "\n",
              "    .dataframe thead th {\n",
              "        text-align: right;\n",
              "    }\n",
              "</style>\n",
              "<table border=\"1\" class=\"dataframe\">\n",
              "  <thead>\n",
              "    <tr style=\"text-align: right;\">\n",
              "      <th></th>\n",
              "      <th>ID</th>\n",
              "      <th>A</th>\n",
              "      <th>B</th>\n",
              "      <th>RE</th>\n",
              "      <th>round(RE)</th>\n",
              "      <th>A_wrt_B</th>\n",
              "      <th>B_wrt_A</th>\n",
              "    </tr>\n",
              "  </thead>\n",
              "  <tbody>\n",
              "    <tr>\n",
              "      <th>0</th>\n",
              "      <td>1</td>\n",
              "      <td>Zawodnik na boisku ze skórzaną rękawicą robi w...</td>\n",
              "      <td>Mężczyzna w sportowym stroju stoi na ugiętej n...</td>\n",
              "      <td>2.17</td>\n",
              "      <td>2</td>\n",
              "      <td>neutral</td>\n",
              "      <td>neutral</td>\n",
              "    </tr>\n",
              "    <tr>\n",
              "      <th>1</th>\n",
              "      <td>2</td>\n",
              "      <td>Zawodnik na boisku ze skórzaną rękawicą robi w...</td>\n",
              "      <td>Wykrok w przód jest robiony na piasku na boisk...</td>\n",
              "      <td>5.00</td>\n",
              "      <td>5</td>\n",
              "      <td>entailment</td>\n",
              "      <td>entailment</td>\n",
              "    </tr>\n",
              "    <tr>\n",
              "      <th>2</th>\n",
              "      <td>3</td>\n",
              "      <td>Zawodnik na boisku ze skórzaną rękawicą robi w...</td>\n",
              "      <td>Mężczyzna w sportowym stroju stoi na nodze, kt...</td>\n",
              "      <td>2.50</td>\n",
              "      <td>3</td>\n",
              "      <td>neutral</td>\n",
              "      <td>neutral</td>\n",
              "    </tr>\n",
              "    <tr>\n",
              "      <th>3</th>\n",
              "      <td>4</td>\n",
              "      <td>Zawodnik na boisku ze skórzaną rękawicą robi w...</td>\n",
              "      <td>Chłopak w czerwonych butach stoi na boisku z u...</td>\n",
              "      <td>1.50</td>\n",
              "      <td>2</td>\n",
              "      <td>neutral</td>\n",
              "      <td>neutral</td>\n",
              "    </tr>\n",
              "    <tr>\n",
              "      <th>4</th>\n",
              "      <td>5</td>\n",
              "      <td>Zawodnik na boisku ze skórzaną rękawicą robi w...</td>\n",
              "      <td>Osoba wykonuje skok przez przeszkodę na jasnob...</td>\n",
              "      <td>0.00</td>\n",
              "      <td>0</td>\n",
              "      <td>neutral</td>\n",
              "      <td>neutral</td>\n",
              "    </tr>\n",
              "  </tbody>\n",
              "</table>\n",
              "</div>"
            ],
            "text/plain": [
              "   ID  ...     B_wrt_A\n",
              "0   1  ...     neutral\n",
              "1   2  ...  entailment\n",
              "2   3  ...     neutral\n",
              "3   4  ...     neutral\n",
              "4   5  ...     neutral\n",
              "\n",
              "[5 rows x 7 columns]"
            ]
          },
          "metadata": {
            "tags": []
          },
          "execution_count": 4
        }
      ]
    },
    {
      "cell_type": "code",
      "metadata": {
        "id": "tAltyzRvCQbj"
      },
      "source": [
        "gold_samples = []\r\n",
        "for index, row in cds.iterrows():\r\n",
        "  score = float(row['RE']) / 5.0\r\n",
        "  gold_samples.append(InputExample(texts=[row['A'], row['B']], label=score))"
      ],
      "execution_count": null,
      "outputs": []
    },
    {
      "cell_type": "code",
      "metadata": {
        "id": "cNQ3rog9CLBQ"
      },
      "source": [
        "dev_samples = gold_samples[:1000]\r\n",
        "gold_samples = gold_samples[1000:]"
      ],
      "execution_count": null,
      "outputs": []
    },
    {
      "cell_type": "code",
      "metadata": {
        "id": "dHFdNbuoCk4P"
      },
      "source": [
        "silver_samples = []\r\n",
        "for index, row in cw.iterrows():\r\n",
        "  score = row['score']\r\n",
        "  silver_samples.append(InputExample(texts=[row['A'], row['B']], label=score))"
      ],
      "execution_count": null,
      "outputs": []
    },
    {
      "cell_type": "code",
      "metadata": {
        "id": "wXXWQNUuC37U"
      },
      "source": [
        "batch_size = 16\r\n",
        "# We wrap gold_samples (which is a List[InputExample]) into a pytorch DataLoader\r\n",
        "train_dataloader = DataLoader(gold_samples+silver_samples, shuffle=True, batch_size=batch_size)"
      ],
      "execution_count": null,
      "outputs": []
    },
    {
      "cell_type": "code",
      "metadata": {
        "id": "YA_fmuLRDEfQ"
      },
      "source": [
        "emb_evaluator = evaluation.EmbeddingSimilarityEvaluator.from_input_examples(dev_samples, name='cds')"
      ],
      "execution_count": null,
      "outputs": []
    },
    {
      "cell_type": "code",
      "metadata": {
        "colab": {
          "base_uri": "https://localhost:8080/"
        },
        "id": "frVGh-nMDTTB",
        "outputId": "77334fd1-2317-4e8e-ae92-c87e80808de7"
      },
      "source": [
        "model_name = 'paraphrase-xlm-r-multilingual-v1'\r\n",
        "bi_encoder_path = 'output/bi-encoder/cds_czywiesz_domain_'+model_name.replace(\"/\", \"-\")+'-'+datetime.now().strftime(\"%Y-%m-%d_%H-%M-%S\")\r\n",
        "model = SentenceTransformer(model_name)"
      ],
      "execution_count": null,
      "outputs": [
        {
          "output_type": "stream",
          "text": [
            "2021-01-23 12:09:14 - Load pretrained SentenceTransformer: paraphrase-xlm-r-multilingual-v1\n",
            "2021-01-23 12:09:14 - Did not find folder paraphrase-xlm-r-multilingual-v1\n",
            "2021-01-23 12:09:14 - Try to download model from server: https://sbert.net/models/paraphrase-xlm-r-multilingual-v1.zip\n",
            "2021-01-23 12:09:14 - Load SentenceTransformer from folder: /root/.cache/torch/sentence_transformers/sbert.net_models_paraphrase-xlm-r-multilingual-v1\n",
            "2021-01-23 12:09:21 - Use pytorch device: cuda\n"
          ],
          "name": "stdout"
        }
      ]
    },
    {
      "cell_type": "code",
      "metadata": {
        "id": "CsuFupn4DI2G"
      },
      "source": [
        "train_loss = losses.CosineSimilarityLoss(model=model)"
      ],
      "execution_count": null,
      "outputs": []
    },
    {
      "cell_type": "code",
      "metadata": {
        "colab": {
          "base_uri": "https://localhost:8080/",
          "height": 863,
          "referenced_widgets": [
            "e5176606c067487f9c57da53fbac44e9",
            "f0e518660ae641d6b7f573c35b8d463a",
            "b0683e60651549a0be2357184de0a715",
            "6eea6ff773b64202a91fd9149197247c",
            "01eca0e21f6344de95f94acfee709fcf",
            "a9c19e046c2a432694738d3a2ee34845",
            "50445f3a6f034b8eaf5b8c1d8c51de81",
            "ca57d4f862494abd975e05a9416168ba",
            "13317c92994d4670accb1f2bcd54c3ae",
            "8d831711b2e7402b83aa20ee6be73cef",
            "6d86dd3c150b4cf5b29da29f018b8c32",
            "3efa8d3c06b84155bc47a0dfd40a5e64",
            "1780304c225042cd8471c2d2852a479f",
            "b7b5b7d2a74e4b5daf09ba1e33603643",
            "0faa3d664e064e0993126c4571bc7a18",
            "7db69e46e43443fca85a54683b315b5c",
            "b0f9f542d1af44fea444776c3aaea375",
            "756f2a6c9c47462d85f4e78b2ce16a23",
            "6af30a9d25134b99b2aea7134b8691ac",
            "31f5eadfa31a47119b66858b31bd3acc",
            "bb4c0e33759743cd82c41c77b7885858",
            "c58eb5cfb2884fa190981ff9adf0133c",
            "3da9379aab09467eba434d512b090b66",
            "f80792fe095b48299a20c8094e632b5f",
            "4928a404a25748c8bb25bb9441ded7e2",
            "f715bbdafa144ddc98b12be949866e8a",
            "5da9e9bdca04431aba4262ee4639485b",
            "554b7faa864d4c8d9aba7cdbe4a5255b",
            "e2be934df8274748af908b5eb8858eb4",
            "8a7fe67100a1404aaa51a1fa86a72174",
            "dd85edecb43c4d72901cad6f69c0b60f",
            "99cae964d4754bdba075c8006b4b92a6",
            "5329aa02634d4fcd8bdc89bcd7363510",
            "65ab0f30a836483c94482306be26ccd0",
            "c1f50194168c414597ac162e7f39f0a2",
            "1196a46c276b43ba83dad772a27003e4",
            "64ae8c9b92b449dc937d0bf1edd393e5",
            "0c9d7180711f42ddb8a3f14e8358c8f3",
            "90ac4403ca224e62b1f959e463578539",
            "ac515baddd4442f3b85fb49eab794258",
            "9b0760be1e794c2cbc710f4a62f2fb18",
            "ea8460e325fd47998769e6f3ce3cc0a7",
            "a07af44fad554a91a79990faa7c1e2ee",
            "d4379cd40dd64515bc53434c96f4a6c1",
            "517e2c3eed8b44beb921e12a9d88f438",
            "da84413c45e0466a9af4e512bcd36c0a",
            "57d4034445114eb3bbef28612afe266d",
            "41699ffbe9514791b765cea52ba33cbf"
          ]
        },
        "id": "a1cl1NZtDN0H",
        "outputId": "b304d421-8808-467a-839e-4fbfe962103a"
      },
      "source": [
        "num_epochs=5\r\n",
        "warmup_steps = math.ceil(len(train_dataloader) * num_epochs  * 0.1) #10% of train data for warm-up\r\n",
        "model.fit(train_objectives=[(train_dataloader, train_loss)],\r\n",
        "          evaluator=emb_evaluator,\r\n",
        "          epochs=num_epochs,\r\n",
        "          evaluation_steps=1000,\r\n",
        "          warmup_steps=warmup_steps,\r\n",
        "          output_path=bi_encoder_path\r\n",
        "          )"
      ],
      "execution_count": 12,
      "outputs": [
        {
          "output_type": "display_data",
          "data": {
            "application/vnd.jupyter.widget-view+json": {
              "model_id": "e5176606c067487f9c57da53fbac44e9",
              "version_major": 2,
              "version_minor": 0
            },
            "text/plain": [
              "HBox(children=(FloatProgress(value=0.0, description='Epoch', max=5.0, style=ProgressStyle(description_width='i…"
            ]
          },
          "metadata": {
            "tags": []
          }
        },
        {
          "output_type": "display_data",
          "data": {
            "application/vnd.jupyter.widget-view+json": {
              "model_id": "13317c92994d4670accb1f2bcd54c3ae",
              "version_major": 2,
              "version_minor": 0
            },
            "text/plain": [
              "HBox(children=(FloatProgress(value=0.0, description='Iteration', max=864.0, style=ProgressStyle(description_wi…"
            ]
          },
          "metadata": {
            "tags": []
          }
        },
        {
          "output_type": "stream",
          "text": [
            "\n",
            "2021-01-23 12:15:53 - EmbeddingSimilarityEvaluator: Evaluating the model on cds dataset after epoch 0:\n",
            "2021-01-23 12:15:56 - Cosine-Similarity :\tPearson: 0.9422\tSpearman: 0.9416\n",
            "2021-01-23 12:15:56 - Manhattan-Distance:\tPearson: 0.9234\tSpearman: 0.9381\n",
            "2021-01-23 12:15:56 - Euclidean-Distance:\tPearson: 0.9234\tSpearman: 0.9381\n",
            "2021-01-23 12:15:56 - Dot-Product-Similarity:\tPearson: 0.9290\tSpearman: 0.9291\n",
            "2021-01-23 12:15:56 - Save model to output/bi-encoder/cds_czywiesz_domain_paraphrase-xlm-r-multilingual-v1-2021-01-23_12-09-14\n"
          ],
          "name": "stdout"
        },
        {
          "output_type": "display_data",
          "data": {
            "application/vnd.jupyter.widget-view+json": {
              "model_id": "b0f9f542d1af44fea444776c3aaea375",
              "version_major": 2,
              "version_minor": 0
            },
            "text/plain": [
              "HBox(children=(FloatProgress(value=0.0, description='Iteration', max=864.0, style=ProgressStyle(description_wi…"
            ]
          },
          "metadata": {
            "tags": []
          }
        },
        {
          "output_type": "stream",
          "text": [
            "\n",
            "2021-01-23 12:22:28 - EmbeddingSimilarityEvaluator: Evaluating the model on cds dataset after epoch 1:\n",
            "2021-01-23 12:22:32 - Cosine-Similarity :\tPearson: 0.9456\tSpearman: 0.9440\n",
            "2021-01-23 12:22:32 - Manhattan-Distance:\tPearson: 0.9177\tSpearman: 0.9359\n",
            "2021-01-23 12:22:32 - Euclidean-Distance:\tPearson: 0.9191\tSpearman: 0.9378\n",
            "2021-01-23 12:22:32 - Dot-Product-Similarity:\tPearson: 0.9312\tSpearman: 0.9315\n",
            "2021-01-23 12:22:32 - Save model to output/bi-encoder/cds_czywiesz_domain_paraphrase-xlm-r-multilingual-v1-2021-01-23_12-09-14\n"
          ],
          "name": "stdout"
        },
        {
          "output_type": "display_data",
          "data": {
            "application/vnd.jupyter.widget-view+json": {
              "model_id": "4928a404a25748c8bb25bb9441ded7e2",
              "version_major": 2,
              "version_minor": 0
            },
            "text/plain": [
              "HBox(children=(FloatProgress(value=0.0, description='Iteration', max=864.0, style=ProgressStyle(description_wi…"
            ]
          },
          "metadata": {
            "tags": []
          }
        },
        {
          "output_type": "stream",
          "text": [
            "\n",
            "2021-01-23 12:29:05 - EmbeddingSimilarityEvaluator: Evaluating the model on cds dataset after epoch 2:\n",
            "2021-01-23 12:29:08 - Cosine-Similarity :\tPearson: 0.9477\tSpearman: 0.9453\n",
            "2021-01-23 12:29:08 - Manhattan-Distance:\tPearson: 0.9220\tSpearman: 0.9381\n",
            "2021-01-23 12:29:08 - Euclidean-Distance:\tPearson: 0.9229\tSpearman: 0.9398\n",
            "2021-01-23 12:29:08 - Dot-Product-Similarity:\tPearson: 0.9344\tSpearman: 0.9333\n",
            "2021-01-23 12:29:08 - Save model to output/bi-encoder/cds_czywiesz_domain_paraphrase-xlm-r-multilingual-v1-2021-01-23_12-09-14\n"
          ],
          "name": "stdout"
        },
        {
          "output_type": "display_data",
          "data": {
            "application/vnd.jupyter.widget-view+json": {
              "model_id": "5329aa02634d4fcd8bdc89bcd7363510",
              "version_major": 2,
              "version_minor": 0
            },
            "text/plain": [
              "HBox(children=(FloatProgress(value=0.0, description='Iteration', max=864.0, style=ProgressStyle(description_wi…"
            ]
          },
          "metadata": {
            "tags": []
          }
        },
        {
          "output_type": "stream",
          "text": [
            "\n",
            "2021-01-23 12:35:40 - EmbeddingSimilarityEvaluator: Evaluating the model on cds dataset after epoch 3:\n",
            "2021-01-23 12:35:43 - Cosine-Similarity :\tPearson: 0.9476\tSpearman: 0.9451\n",
            "2021-01-23 12:35:43 - Manhattan-Distance:\tPearson: 0.9228\tSpearman: 0.9382\n",
            "2021-01-23 12:35:43 - Euclidean-Distance:\tPearson: 0.9235\tSpearman: 0.9395\n",
            "2021-01-23 12:35:43 - Dot-Product-Similarity:\tPearson: 0.9356\tSpearman: 0.9344\n"
          ],
          "name": "stdout"
        },
        {
          "output_type": "display_data",
          "data": {
            "application/vnd.jupyter.widget-view+json": {
              "model_id": "9b0760be1e794c2cbc710f4a62f2fb18",
              "version_major": 2,
              "version_minor": 0
            },
            "text/plain": [
              "HBox(children=(FloatProgress(value=0.0, description='Iteration', max=864.0, style=ProgressStyle(description_wi…"
            ]
          },
          "metadata": {
            "tags": []
          }
        },
        {
          "output_type": "stream",
          "text": [
            "\n",
            "2021-01-23 12:42:07 - EmbeddingSimilarityEvaluator: Evaluating the model on cds dataset after epoch 4:\n",
            "2021-01-23 12:42:11 - Cosine-Similarity :\tPearson: 0.9479\tSpearman: 0.9455\n",
            "2021-01-23 12:42:11 - Manhattan-Distance:\tPearson: 0.9230\tSpearman: 0.9383\n",
            "2021-01-23 12:42:11 - Euclidean-Distance:\tPearson: 0.9238\tSpearman: 0.9396\n",
            "2021-01-23 12:42:11 - Dot-Product-Similarity:\tPearson: 0.9359\tSpearman: 0.9350\n",
            "2021-01-23 12:42:11 - Save model to output/bi-encoder/cds_czywiesz_domain_paraphrase-xlm-r-multilingual-v1-2021-01-23_12-09-14\n",
            "\n"
          ],
          "name": "stdout"
        }
      ]
    },
    {
      "cell_type": "code",
      "metadata": {
        "id": "njEdgH22QG7k"
      },
      "source": [
        "!cp -r /content/output/bi-encoder/cds_czywiesz_domain_paraphrase-xlm-r-multilingual-v1-2021-01-23_12-09-14 /content/drive/MyDrive/models"
      ],
      "execution_count": 13,
      "outputs": []
    },
    {
      "cell_type": "code",
      "metadata": {
        "id": "Cw64IZvc6-EK"
      },
      "source": [
        ""
      ],
      "execution_count": null,
      "outputs": []
    },
    {
      "cell_type": "markdown",
      "metadata": {
        "id": "yd4df83-RwBj"
      },
      "source": [
        "# Information Retrieval"
      ]
    },
    {
      "cell_type": "code",
      "metadata": {
        "id": "3HMG2I9yUQbk"
      },
      "source": [
        "#We use the Bi-Encoder to encode all passages, so that we can use it with sematic search\r\n",
        "bi_encoder = SentenceTransformer('/content/drive/MyDrive/models/cds_czywiesz_domain_paraphrase-xlm-r-multilingual-v1-2021-01-23_12-09-14')\r\n",
        "top_k = 100     #Number of passages we want to retrieve with the bi-encoder\r\n",
        "\r\n",
        "#The bi-encoder will retrieve 100 documents. We use a cross-encoder, to re-rank the results list to improve the quality\r\n",
        "cross_encoder = CrossEncoder('/content/drive/MyDrive/models/cross-encoder/cds_indomain_czywiesz_model-2021-01-23_11-09-04')"
      ],
      "execution_count": 5,
      "outputs": []
    },
    {
      "cell_type": "code",
      "metadata": {
        "colab": {
          "base_uri": "https://localhost:8080/",
          "height": 206
        },
        "id": "zCpzZYWpUeca",
        "outputId": "2f213c1b-54e3-4a90-de69-d5d02d5f7297"
      },
      "source": [
        "w = pickle.load( open( '/content/drive/MyDrive/Wikipedia/wikipedia.pickle', 'rb' ))\r\n",
        "w.head()"
      ],
      "execution_count": 6,
      "outputs": [
        {
          "output_type": "execute_result",
          "data": {
            "text/html": [
              "<div>\n",
              "<style scoped>\n",
              "    .dataframe tbody tr th:only-of-type {\n",
              "        vertical-align: middle;\n",
              "    }\n",
              "\n",
              "    .dataframe tbody tr th {\n",
              "        vertical-align: top;\n",
              "    }\n",
              "\n",
              "    .dataframe thead th {\n",
              "        text-align: right;\n",
              "    }\n",
              "</style>\n",
              "<table border=\"1\" class=\"dataframe\">\n",
              "  <thead>\n",
              "    <tr style=\"text-align: right;\">\n",
              "      <th></th>\n",
              "      <th>id</th>\n",
              "      <th>url</th>\n",
              "      <th>title</th>\n",
              "      <th>text</th>\n",
              "    </tr>\n",
              "  </thead>\n",
              "  <tbody>\n",
              "    <tr>\n",
              "      <th>0</th>\n",
              "      <td>2069101</td>\n",
              "      <td>http://pl.wikipedia.org/wiki/?curid=2069101</td>\n",
              "      <td>Parafia Matki Bożej Miłosierdzia Ostrobamskiej...</td>\n",
              "      <td>Parafia Matki Bożej Miłosierdzia - Matki Bożej...</td>\n",
              "    </tr>\n",
              "    <tr>\n",
              "      <th>1</th>\n",
              "      <td>2069102</td>\n",
              "      <td>http://pl.wikipedia.org/wiki/?curid=2069102</td>\n",
              "      <td>Parafia Wniebowzięcia Najświętszej Maryi Panny...</td>\n",
              "      <td>Parafia pw. Wniebowzięcia Najświętszej Maryi P...</td>\n",
              "    </tr>\n",
              "    <tr>\n",
              "      <th>2</th>\n",
              "      <td>2069104</td>\n",
              "      <td>http://pl.wikipedia.org/wiki/?curid=2069104</td>\n",
              "      <td>Parafia Matki Bożej Częstochowskiej w Wilamowie</td>\n",
              "      <td>Parafia Matki Bożej Częstochowskiej w Wilamowi...</td>\n",
              "    </tr>\n",
              "    <tr>\n",
              "      <th>3</th>\n",
              "      <td>2069107</td>\n",
              "      <td>http://pl.wikipedia.org/wiki/?curid=2069107</td>\n",
              "      <td>Parafia św. Tomasza Apostoła w Rybotyczach</td>\n",
              "      <td>Parafia pw. Świętego Tomasza Apostoła w Ryboty...</td>\n",
              "    </tr>\n",
              "    <tr>\n",
              "      <th>4</th>\n",
              "      <td>2069108</td>\n",
              "      <td>http://pl.wikipedia.org/wiki/?curid=2069108</td>\n",
              "      <td>Ił-78</td>\n",
              "      <td>Ił-78 – rosyjski powietrzny tankowiec (ros. \"И...</td>\n",
              "    </tr>\n",
              "  </tbody>\n",
              "</table>\n",
              "</div>"
            ],
            "text/plain": [
              "        id  ...                                               text\n",
              "0  2069101  ...  Parafia Matki Bożej Miłosierdzia - Matki Bożej...\n",
              "1  2069102  ...  Parafia pw. Wniebowzięcia Najświętszej Maryi P...\n",
              "2  2069104  ...  Parafia Matki Bożej Częstochowskiej w Wilamowi...\n",
              "3  2069107  ...  Parafia pw. Świętego Tomasza Apostoła w Ryboty...\n",
              "4  2069108  ...  Ił-78 – rosyjski powietrzny tankowiec (ros. \"И...\n",
              "\n",
              "[5 rows x 4 columns]"
            ]
          },
          "metadata": {
            "tags": []
          },
          "execution_count": 6
        }
      ]
    },
    {
      "cell_type": "code",
      "metadata": {
        "id": "0fEcK6NBWMBg"
      },
      "source": [
        "def divide_into_par(text, threshold=10):\r\n",
        "  splits = text.split('\\n')\r\n",
        "  pars = []\r\n",
        "  par = ''\r\n",
        "  for split in splits:\r\n",
        "    words = split.split(' ')\r\n",
        "    if len(words) > 0 and len(words) < threshold:\r\n",
        "      if len(par) > 0:\r\n",
        "        pars.append(par)\r\n",
        "        par = ''\r\n",
        "    elif len(words) > threshold:\r\n",
        "      par += split\r\n",
        "  if len(pars) > 0:\r\n",
        "    return pars\r\n",
        "  return [text]"
      ],
      "execution_count": 7,
      "outputs": []
    },
    {
      "cell_type": "code",
      "metadata": {
        "colab": {
          "base_uri": "https://localhost:8080/",
          "height": 293
        },
        "id": "Zz_paz1KW9CR",
        "outputId": "ca4fa64a-a3eb-4551-88d2-53a17fab2ac9"
      },
      "source": [
        "w['paragraph'] = w['text'].apply(divide_into_par)\r\n",
        "w.reset_index(drop=True, inplace=True)\r\n",
        "w.head()"
      ],
      "execution_count": 8,
      "outputs": [
        {
          "output_type": "execute_result",
          "data": {
            "text/html": [
              "<div>\n",
              "<style scoped>\n",
              "    .dataframe tbody tr th:only-of-type {\n",
              "        vertical-align: middle;\n",
              "    }\n",
              "\n",
              "    .dataframe tbody tr th {\n",
              "        vertical-align: top;\n",
              "    }\n",
              "\n",
              "    .dataframe thead th {\n",
              "        text-align: right;\n",
              "    }\n",
              "</style>\n",
              "<table border=\"1\" class=\"dataframe\">\n",
              "  <thead>\n",
              "    <tr style=\"text-align: right;\">\n",
              "      <th></th>\n",
              "      <th>id</th>\n",
              "      <th>url</th>\n",
              "      <th>title</th>\n",
              "      <th>text</th>\n",
              "      <th>paragraph</th>\n",
              "    </tr>\n",
              "  </thead>\n",
              "  <tbody>\n",
              "    <tr>\n",
              "      <th>0</th>\n",
              "      <td>2069101</td>\n",
              "      <td>http://pl.wikipedia.org/wiki/?curid=2069101</td>\n",
              "      <td>Parafia Matki Bożej Miłosierdzia Ostrobamskiej...</td>\n",
              "      <td>Parafia Matki Bożej Miłosierdzia - Matki Bożej...</td>\n",
              "      <td>[Parafia Matki Bożej Miłosierdzia - Matki Boże...</td>\n",
              "    </tr>\n",
              "    <tr>\n",
              "      <th>1</th>\n",
              "      <td>2069102</td>\n",
              "      <td>http://pl.wikipedia.org/wiki/?curid=2069102</td>\n",
              "      <td>Parafia Wniebowzięcia Najświętszej Maryi Panny...</td>\n",
              "      <td>Parafia pw. Wniebowzięcia Najświętszej Maryi P...</td>\n",
              "      <td>[Parafia pw. Wniebowzięcia Najświętszej Maryi ...</td>\n",
              "    </tr>\n",
              "    <tr>\n",
              "      <th>2</th>\n",
              "      <td>2069104</td>\n",
              "      <td>http://pl.wikipedia.org/wiki/?curid=2069104</td>\n",
              "      <td>Parafia Matki Bożej Częstochowskiej w Wilamowie</td>\n",
              "      <td>Parafia Matki Bożej Częstochowskiej w Wilamowi...</td>\n",
              "      <td>[Parafia Matki Bożej Częstochowskiej w Wilamow...</td>\n",
              "    </tr>\n",
              "    <tr>\n",
              "      <th>3</th>\n",
              "      <td>2069107</td>\n",
              "      <td>http://pl.wikipedia.org/wiki/?curid=2069107</td>\n",
              "      <td>Parafia św. Tomasza Apostoła w Rybotyczach</td>\n",
              "      <td>Parafia pw. Świętego Tomasza Apostoła w Ryboty...</td>\n",
              "      <td>[Parafia pw. Świętego Tomasza Apostoła w Rybot...</td>\n",
              "    </tr>\n",
              "    <tr>\n",
              "      <th>4</th>\n",
              "      <td>2069108</td>\n",
              "      <td>http://pl.wikipedia.org/wiki/?curid=2069108</td>\n",
              "      <td>Ił-78</td>\n",
              "      <td>Ił-78 – rosyjski powietrzny tankowiec (ros. \"И...</td>\n",
              "      <td>[Ił-78 – rosyjski powietrzny tankowiec (ros. \"...</td>\n",
              "    </tr>\n",
              "  </tbody>\n",
              "</table>\n",
              "</div>"
            ],
            "text/plain": [
              "        id  ...                                          paragraph\n",
              "0  2069101  ...  [Parafia Matki Bożej Miłosierdzia - Matki Boże...\n",
              "1  2069102  ...  [Parafia pw. Wniebowzięcia Najświętszej Maryi ...\n",
              "2  2069104  ...  [Parafia Matki Bożej Częstochowskiej w Wilamow...\n",
              "3  2069107  ...  [Parafia pw. Świętego Tomasza Apostoła w Rybot...\n",
              "4  2069108  ...  [Ił-78 – rosyjski powietrzny tankowiec (ros. \"...\n",
              "\n",
              "[5 rows x 5 columns]"
            ]
          },
          "metadata": {
            "tags": []
          },
          "execution_count": 8
        }
      ]
    },
    {
      "cell_type": "code",
      "metadata": {
        "colab": {
          "base_uri": "https://localhost:8080/",
          "height": 293
        },
        "id": "nXm1_OgcXPu4",
        "outputId": "4ed35da2-5d71-48f9-c136-4f662325354f"
      },
      "source": [
        "w = w.explode('paragraph')\r\n",
        "w.reset_index(drop=True, inplace=True)\r\n",
        "w.head()"
      ],
      "execution_count": 9,
      "outputs": [
        {
          "output_type": "execute_result",
          "data": {
            "text/html": [
              "<div>\n",
              "<style scoped>\n",
              "    .dataframe tbody tr th:only-of-type {\n",
              "        vertical-align: middle;\n",
              "    }\n",
              "\n",
              "    .dataframe tbody tr th {\n",
              "        vertical-align: top;\n",
              "    }\n",
              "\n",
              "    .dataframe thead th {\n",
              "        text-align: right;\n",
              "    }\n",
              "</style>\n",
              "<table border=\"1\" class=\"dataframe\">\n",
              "  <thead>\n",
              "    <tr style=\"text-align: right;\">\n",
              "      <th></th>\n",
              "      <th>id</th>\n",
              "      <th>url</th>\n",
              "      <th>title</th>\n",
              "      <th>text</th>\n",
              "      <th>paragraph</th>\n",
              "    </tr>\n",
              "  </thead>\n",
              "  <tbody>\n",
              "    <tr>\n",
              "      <th>0</th>\n",
              "      <td>2069101</td>\n",
              "      <td>http://pl.wikipedia.org/wiki/?curid=2069101</td>\n",
              "      <td>Parafia Matki Bożej Miłosierdzia Ostrobamskiej...</td>\n",
              "      <td>Parafia Matki Bożej Miłosierdzia - Matki Bożej...</td>\n",
              "      <td>Parafia Matki Bożej Miłosierdzia - Matki Bożej...</td>\n",
              "    </tr>\n",
              "    <tr>\n",
              "      <th>1</th>\n",
              "      <td>2069102</td>\n",
              "      <td>http://pl.wikipedia.org/wiki/?curid=2069102</td>\n",
              "      <td>Parafia Wniebowzięcia Najświętszej Maryi Panny...</td>\n",
              "      <td>Parafia pw. Wniebowzięcia Najświętszej Maryi P...</td>\n",
              "      <td>Parafia pw. Wniebowzięcia Najświętszej Maryi P...</td>\n",
              "    </tr>\n",
              "    <tr>\n",
              "      <th>2</th>\n",
              "      <td>2069104</td>\n",
              "      <td>http://pl.wikipedia.org/wiki/?curid=2069104</td>\n",
              "      <td>Parafia Matki Bożej Częstochowskiej w Wilamowie</td>\n",
              "      <td>Parafia Matki Bożej Częstochowskiej w Wilamowi...</td>\n",
              "      <td>Parafia Matki Bożej Częstochowskiej w Wilamowi...</td>\n",
              "    </tr>\n",
              "    <tr>\n",
              "      <th>3</th>\n",
              "      <td>2069107</td>\n",
              "      <td>http://pl.wikipedia.org/wiki/?curid=2069107</td>\n",
              "      <td>Parafia św. Tomasza Apostoła w Rybotyczach</td>\n",
              "      <td>Parafia pw. Świętego Tomasza Apostoła w Ryboty...</td>\n",
              "      <td>Parafia pw. Świętego Tomasza Apostoła w Ryboty...</td>\n",
              "    </tr>\n",
              "    <tr>\n",
              "      <th>4</th>\n",
              "      <td>2069108</td>\n",
              "      <td>http://pl.wikipedia.org/wiki/?curid=2069108</td>\n",
              "      <td>Ił-78</td>\n",
              "      <td>Ił-78 – rosyjski powietrzny tankowiec (ros. \"И...</td>\n",
              "      <td>Ił-78 – rosyjski powietrzny tankowiec (ros. \"И...</td>\n",
              "    </tr>\n",
              "  </tbody>\n",
              "</table>\n",
              "</div>"
            ],
            "text/plain": [
              "        id  ...                                          paragraph\n",
              "0  2069101  ...  Parafia Matki Bożej Miłosierdzia - Matki Bożej...\n",
              "1  2069102  ...  Parafia pw. Wniebowzięcia Najświętszej Maryi P...\n",
              "2  2069104  ...  Parafia Matki Bożej Częstochowskiej w Wilamowi...\n",
              "3  2069107  ...  Parafia pw. Świętego Tomasza Apostoła w Ryboty...\n",
              "4  2069108  ...  Ił-78 – rosyjski powietrzny tankowiec (ros. \"И...\n",
              "\n",
              "[5 rows x 5 columns]"
            ]
          },
          "metadata": {
            "tags": []
          },
          "execution_count": 9
        }
      ]
    },
    {
      "cell_type": "code",
      "metadata": {
        "colab": {
          "base_uri": "https://localhost:8080/",
          "height": 293
        },
        "id": "KknWmDITadoE",
        "outputId": "3f6703a0-58be-4de6-8a7e-15a1858c3452"
      },
      "source": [
        "w = w.sort_values(by='title')\r\n",
        "w.reset_index(drop=True, inplace=True)\r\n",
        "w.head()"
      ],
      "execution_count": 10,
      "outputs": [
        {
          "output_type": "execute_result",
          "data": {
            "text/html": [
              "<div>\n",
              "<style scoped>\n",
              "    .dataframe tbody tr th:only-of-type {\n",
              "        vertical-align: middle;\n",
              "    }\n",
              "\n",
              "    .dataframe tbody tr th {\n",
              "        vertical-align: top;\n",
              "    }\n",
              "\n",
              "    .dataframe thead th {\n",
              "        text-align: right;\n",
              "    }\n",
              "</style>\n",
              "<table border=\"1\" class=\"dataframe\">\n",
              "  <thead>\n",
              "    <tr style=\"text-align: right;\">\n",
              "      <th></th>\n",
              "      <th>id</th>\n",
              "      <th>url</th>\n",
              "      <th>title</th>\n",
              "      <th>text</th>\n",
              "      <th>paragraph</th>\n",
              "    </tr>\n",
              "  </thead>\n",
              "  <tbody>\n",
              "    <tr>\n",
              "      <th>0</th>\n",
              "      <td>954308</td>\n",
              "      <td>http://pl.wikipedia.org/wiki/?curid=954308</td>\n",
              "      <td>!!!</td>\n",
              "      <td>!!! (Chk Chk Chk) – Indie-rockowy zespół założ...</td>\n",
              "      <td>!!! (Chk Chk Chk) – Indie-rockowy zespół założ...</td>\n",
              "    </tr>\n",
              "    <tr>\n",
              "      <th>1</th>\n",
              "      <td>2307002</td>\n",
              "      <td>http://pl.wikipedia.org/wiki/?curid=2307002</td>\n",
              "      <td>!Kheis</td>\n",
              "      <td>!Kheis – gmina w Republice Południowej Afryki,...</td>\n",
              "      <td>!Kheis – gmina w Republice Południowej Afryki,...</td>\n",
              "    </tr>\n",
              "    <tr>\n",
              "      <th>2</th>\n",
              "      <td>2865775</td>\n",
              "      <td>http://pl.wikipedia.org/wiki/?curid=2865775</td>\n",
              "      <td>!TO!</td>\n",
              "      <td>!TO! – siódma studyjna płyta zespołu Strachy n...</td>\n",
              "      <td>!TO! – siódma studyjna płyta zespołu Strachy n...</td>\n",
              "    </tr>\n",
              "    <tr>\n",
              "      <th>3</th>\n",
              "      <td>2090308</td>\n",
              "      <td>http://pl.wikipedia.org/wiki/?curid=2090308</td>\n",
              "      <td>\"Cóż to jest prawda?\" Chrystus przed Piłatem</td>\n",
              "      <td>\"Cóż to jest prawda?\" Chrystus przed Piłatem (...</td>\n",
              "      <td>\"Cóż to jest prawda?\" Chrystus przed Piłatem (...</td>\n",
              "    </tr>\n",
              "    <tr>\n",
              "      <th>4</th>\n",
              "      <td>1869558</td>\n",
              "      <td>http://pl.wikipedia.org/wiki/?curid=1869558</td>\n",
              "      <td>\"Dom Kaźni\" w Rypinie</td>\n",
              "      <td>„Dom Kaźni” w Rypinie – nazwa nadana siedzibie...</td>\n",
              "      <td>Masowe zbrodnie na terenie „Domu Kaźni” i w po...</td>\n",
              "    </tr>\n",
              "  </tbody>\n",
              "</table>\n",
              "</div>"
            ],
            "text/plain": [
              "        id  ...                                          paragraph\n",
              "0   954308  ...  !!! (Chk Chk Chk) – Indie-rockowy zespół założ...\n",
              "1  2307002  ...  !Kheis – gmina w Republice Południowej Afryki,...\n",
              "2  2865775  ...  !TO! – siódma studyjna płyta zespołu Strachy n...\n",
              "3  2090308  ...  \"Cóż to jest prawda?\" Chrystus przed Piłatem (...\n",
              "4  1869558  ...  Masowe zbrodnie na terenie „Domu Kaźni” i w po...\n",
              "\n",
              "[5 rows x 5 columns]"
            ]
          },
          "metadata": {
            "tags": []
          },
          "execution_count": 10
        }
      ]
    },
    {
      "cell_type": "code",
      "metadata": {
        "colab": {
          "base_uri": "https://localhost:8080/"
        },
        "id": "i4AFHpH_aS8F",
        "outputId": "12a088f5-2e27-40f9-98ce-b3b2e54a1ff5"
      },
      "source": [
        "len(w)"
      ],
      "execution_count": 8,
      "outputs": [
        {
          "output_type": "execute_result",
          "data": {
            "text/plain": [
              "1536384"
            ]
          },
          "metadata": {
            "tags": []
          },
          "execution_count": 8
        }
      ]
    },
    {
      "cell_type": "code",
      "metadata": {
        "colab": {
          "base_uri": "https://localhost:8080/",
          "height": 68,
          "referenced_widgets": [
            "b463b11be0f0452c91569ad4f65b397f",
            "264e7c7929ab4fb5b716f2ad91e94371",
            "95e93ab13cd746299b40f4b53f5d1655",
            "158af628dc62452395ae9c7afd3195d8",
            "13e743fd7d2846f8b39fe0ad22b22976",
            "7c00e079a48c4699bf910f52e50a26b8",
            "6733810ef30b41ca8885552c72cc2357",
            "37e130b07e2c46daa3f9faa2f0a64e8b"
          ]
        },
        "id": "DFUBP6amYuS_",
        "outputId": "d9be076d-cb0c-42ee-8a2e-61b5d785ecf3"
      },
      "source": [
        "#Now we encode all passages we have in our Simple Wikipedia corpus\r\n",
        "corpus_embeddings = bi_encoder.encode(w['paragraph'].tolist()[:100000], show_progress_bar=True)"
      ],
      "execution_count": 10,
      "outputs": [
        {
          "output_type": "display_data",
          "data": {
            "application/vnd.jupyter.widget-view+json": {
              "model_id": "b463b11be0f0452c91569ad4f65b397f",
              "version_minor": 0,
              "version_major": 2
            },
            "text/plain": [
              "HBox(children=(FloatProgress(value=0.0, description='Batches', max=3125.0, style=ProgressStyle(description_wid…"
            ]
          },
          "metadata": {
            "tags": []
          }
        },
        {
          "output_type": "stream",
          "text": [
            "\n"
          ],
          "name": "stdout"
        }
      ]
    },
    {
      "cell_type": "code",
      "metadata": {
        "id": "6_tzCV1IdXN6"
      },
      "source": [
        "#Store sentences & embeddings on disc\r\n",
        "with open('/content/drive/MyDrive/Wikipedia/embeddings.pkl', \"wb\") as f:\r\n",
        "    pickle.dump(corpus_embeddings, f, protocol=pickle.HIGHEST_PROTOCOL)"
      ],
      "execution_count": 17,
      "outputs": []
    },
    {
      "cell_type": "code",
      "metadata": {
        "id": "kpMa8Ar-ANku"
      },
      "source": [
        "with open('/content/drive/MyDrive/Wikipedia/embeddings.pkl', \"rb\") as f:\r\n",
        "    corpus_embeddings = pickle.load(f)"
      ],
      "execution_count": 12,
      "outputs": []
    },
    {
      "cell_type": "code",
      "metadata": {
        "colab": {
          "base_uri": "https://localhost:8080/"
        },
        "id": "IXDI31ORdBiz",
        "outputId": "ec7f5a7c-6fbf-4511-d169-843a896db623"
      },
      "source": [
        "'Antybiotyki' in w['title'].iloc[:100000].unique()"
      ],
      "execution_count": 13,
      "outputs": [
        {
          "output_type": "execute_result",
          "data": {
            "text/plain": [
              "True"
            ]
          },
          "metadata": {
            "tags": []
          },
          "execution_count": 13
        }
      ]
    },
    {
      "cell_type": "code",
      "metadata": {
        "id": "pKdNSQ-SdQu1"
      },
      "source": [
        "temp = w.iloc[:100000]"
      ],
      "execution_count": 20,
      "outputs": []
    },
    {
      "cell_type": "code",
      "metadata": {
        "colab": {
          "base_uri": "https://localhost:8080/",
          "height": 269
        },
        "id": "CE7wps3Sdv8Y",
        "outputId": "89abfba2-b90a-457f-c86f-5eb43adb55c2"
      },
      "source": [
        "temp.loc[temp['title'] == 'Antybiotyki']"
      ],
      "execution_count": 21,
      "outputs": [
        {
          "output_type": "execute_result",
          "data": {
            "text/html": [
              "<div>\n",
              "<style scoped>\n",
              "    .dataframe tbody tr th:only-of-type {\n",
              "        vertical-align: middle;\n",
              "    }\n",
              "\n",
              "    .dataframe tbody tr th {\n",
              "        vertical-align: top;\n",
              "    }\n",
              "\n",
              "    .dataframe thead th {\n",
              "        text-align: right;\n",
              "    }\n",
              "</style>\n",
              "<table border=\"1\" class=\"dataframe\">\n",
              "  <thead>\n",
              "    <tr style=\"text-align: right;\">\n",
              "      <th></th>\n",
              "      <th>id</th>\n",
              "      <th>url</th>\n",
              "      <th>title</th>\n",
              "      <th>text</th>\n",
              "      <th>paragraph</th>\n",
              "    </tr>\n",
              "  </thead>\n",
              "  <tbody>\n",
              "    <tr>\n",
              "      <th>97734</th>\n",
              "      <td>110</td>\n",
              "      <td>http://pl.wikipedia.org/wiki/?curid=110</td>\n",
              "      <td>Antybiotyki</td>\n",
              "      <td>Antybiotyki (z greki \"anti\" – przeciw, \"bios\" ...</td>\n",
              "      <td>Antybiotyki (z greki \"anti\" – przeciw, \"bios\" ...</td>\n",
              "    </tr>\n",
              "    <tr>\n",
              "      <th>97735</th>\n",
              "      <td>110</td>\n",
              "      <td>http://pl.wikipedia.org/wiki/?curid=110</td>\n",
              "      <td>Antybiotyki</td>\n",
              "      <td>Antybiotyki (z greki \"anti\" – przeciw, \"bios\" ...</td>\n",
              "      <td>Niektóre antybiotyki uzyskuje się na skalę prz...</td>\n",
              "    </tr>\n",
              "    <tr>\n",
              "      <th>97736</th>\n",
              "      <td>110</td>\n",
              "      <td>http://pl.wikipedia.org/wiki/?curid=110</td>\n",
              "      <td>Antybiotyki</td>\n",
              "      <td>Antybiotyki (z greki \"anti\" – przeciw, \"bios\" ...</td>\n",
              "      <td>Oporność na antybiotyki jest cechą pewnych szc...</td>\n",
              "    </tr>\n",
              "    <tr>\n",
              "      <th>97737</th>\n",
              "      <td>110</td>\n",
              "      <td>http://pl.wikipedia.org/wiki/?curid=110</td>\n",
              "      <td>Antybiotyki</td>\n",
              "      <td>Antybiotyki (z greki \"anti\" – przeciw, \"bios\" ...</td>\n",
              "      <td>Działanie antybiotyków polega na powodowaniu ś...</td>\n",
              "    </tr>\n",
              "    <tr>\n",
              "      <th>97738</th>\n",
              "      <td>110</td>\n",
              "      <td>http://pl.wikipedia.org/wiki/?curid=110</td>\n",
              "      <td>Antybiotyki</td>\n",
              "      <td>Antybiotyki (z greki \"anti\" – przeciw, \"bios\" ...</td>\n",
              "      <td>Nazwa odwołuje się do zabójczego dla żywych ba...</td>\n",
              "    </tr>\n",
              "    <tr>\n",
              "      <th>97739</th>\n",
              "      <td>110</td>\n",
              "      <td>http://pl.wikipedia.org/wiki/?curid=110</td>\n",
              "      <td>Antybiotyki</td>\n",
              "      <td>Antybiotyki (z greki \"anti\" – przeciw, \"bios\" ...</td>\n",
              "      <td>Naturalne antybiotyki są produkowane przez nie...</td>\n",
              "    </tr>\n",
              "    <tr>\n",
              "      <th>97740</th>\n",
              "      <td>110</td>\n",
              "      <td>http://pl.wikipedia.org/wiki/?curid=110</td>\n",
              "      <td>Antybiotyki</td>\n",
              "      <td>Antybiotyki (z greki \"anti\" – przeciw, \"bios\" ...</td>\n",
              "      <td>Odkrycie pierwszego antybiotyku (penicyliny) z...</td>\n",
              "    </tr>\n",
              "  </tbody>\n",
              "</table>\n",
              "</div>"
            ],
            "text/plain": [
              "        id  ...                                          paragraph\n",
              "97734  110  ...  Antybiotyki (z greki \"anti\" – przeciw, \"bios\" ...\n",
              "97735  110  ...  Niektóre antybiotyki uzyskuje się na skalę prz...\n",
              "97736  110  ...  Oporność na antybiotyki jest cechą pewnych szc...\n",
              "97737  110  ...  Działanie antybiotyków polega na powodowaniu ś...\n",
              "97738  110  ...  Nazwa odwołuje się do zabójczego dla żywych ba...\n",
              "97739  110  ...  Naturalne antybiotyki są produkowane przez nie...\n",
              "97740  110  ...  Odkrycie pierwszego antybiotyku (penicyliny) z...\n",
              "\n",
              "[7 rows x 5 columns]"
            ]
          },
          "metadata": {
            "tags": []
          },
          "execution_count": 21
        }
      ]
    },
    {
      "cell_type": "code",
      "metadata": {
        "colab": {
          "base_uri": "https://localhost:8080/"
        },
        "id": "pTCR9hfNcf91",
        "outputId": "de23def1-e41e-44fe-d687-5a7f0080f095"
      },
      "source": [
        "w['title'].iloc[:100000].unique()[50300:50600]"
      ],
      "execution_count": 23,
      "outputs": [
        {
          "output_type": "execute_result",
          "data": {
            "text/plain": [
              "array(['Anaksymenes z Lampsakos', 'Anaktorion', 'Anal Blast', 'Anal Cunt',\n",
              "       'Anal Stench', 'Anal Vomit', 'Analbuminemia', 'Analcym',\n",
              "       'Analecta', 'Analecta Cracoviensia',\n",
              "       'Analecta. Studia i Materiały z Dziejów Nauki', 'Analemma',\n",
              "       'Analeptyki', 'Analfabetyzm', 'Analfabetyzm funkcjonalny',\n",
              "       'Analgetyk', 'Analgezja', 'Analgezja kontrolowana przez pacjenta',\n",
              "       'Analgezja wrodzona', 'Analgosedacja', 'Analicia Ramírez',\n",
              "       'Analiondas', 'Analit', 'Analityczna teoria prawa', 'Analiza',\n",
              "       'Analiza (automatyka)', 'Analiza CVP', 'Analiza Du Ponta',\n",
              "       'Analiza SWOT', 'Analiza aktywacyjna', 'Analiza algorytmów',\n",
              "       'Analiza archiwalna', 'Analiza bilansu', 'Analiza biznesowa',\n",
              "       'Analiza branżowa', 'Analiza błędów', 'Analiza chemiczna',\n",
              "       'Analiza czynnikowa', 'Analiza danych',\n",
              "       'Analiza danych przestrzennych', 'Analiza dwuzmiennowa',\n",
              "       'Analiza dyskryminacyjna', 'Analiza dyskryminacyjna (ekonomia)',\n",
              "       'Analiza długości fragmentów restrykcyjnych',\n",
              "       'Analiza efektywności zużycia paliw płynnych',\n",
              "       'Analiza egzystencjalna', 'Analiza ekonomiczna',\n",
              "       'Analiza elementarna', 'Analiza emanacyjna', 'Analiza fali pulsu',\n",
              "       'Analiza finansowa', 'Analiza frazowa', 'Analiza fundamentalna',\n",
              "       'Analiza funkcjonalna', 'Analiza głównych składowych',\n",
              "       'Analiza harmoniczna', 'Analiza ilości i jakości',\n",
              "       'Analiza impedancji bioelektrycznej', 'Analiza izotopowa',\n",
              "       'Analiza jednowymiarowa', 'Analiza kluczowych czynników sukcesu',\n",
              "       'Analiza konkurencji', 'Analiza konkurencyjności',\n",
              "       'Analiza kontaktu', 'Analiza kontrastywna', 'Analiza kosztów',\n",
              "       'Analiza kosztów i korzyści',\n",
              "       'Analiza kosztów własnych produkcji sprzedanej',\n",
              "       'Analiza kosztów-efektywności', 'Analiza koszykowa',\n",
              "       'Analiza kredytowa', 'Analiza kryminalna', 'Analiza krytyczna',\n",
              "       'Analiza literacka', 'Analiza logiczna', 'Analiza marketingowa',\n",
              "       'Analiza matematyczna', 'Analiza międzyrynkowa', 'Analiza modalna',\n",
              "       'Analiza morfologiczna', 'Analiza multifraktalna',\n",
              "       'Analiza muzyczna', 'Analiza normatywna', 'Analiza numeryczna',\n",
              "       'Analiza odpowiedniości', 'Analiza operacyjna',\n",
              "       'Analiza otoczenia', 'Analiza partnerów',\n",
              "       'Analiza pionowa bilansu', 'Analiza portfelowa',\n",
              "       'Analiza porównawcza', 'Analiza pracy', 'Analiza preferencji',\n",
              "       'Analiza programów', 'Analiza przedziałowa',\n",
              "       'Analiza przestrzenna', 'Analiza przeżycia',\n",
              "       'Analiza radiochemiczna', 'Analiza radiometryczna',\n",
              "       'Analiza ruchu celu', 'Analiza rynku', 'Analiza ryzyka',\n",
              "       'Analiza rzędów', 'Analiza sektorowa', 'Analiza sekwencyjna',\n",
              "       'Analiza semantyczna', 'Analiza sensoryczna', 'Analiza sitowa',\n",
              "       'Analiza skupień', 'Analiza składniowa',\n",
              "       'Analiza spektralna (analiza chemiczna)', 'Analiza strategiczna',\n",
              "       'Analiza strukturalna sektora', 'Analiza struktury kosztów',\n",
              "       'Analiza systemowa', 'Analiza sytuacji',\n",
              "       'Analiza sytuacji chemicznej',\n",
              "       'Analiza sytuacji promieniotwórczej',\n",
              "       'Analiza słowotwórcza wyrazu', 'Analiza techniczna',\n",
              "       'Analiza termiczna', 'Analiza termograwimetryczna',\n",
              "       'Analiza toksykologiczna', 'Analiza transakcyjna',\n",
              "       'Analiza treści', 'Analiza utworu literackiego', 'Analiza wagowa',\n",
              "       'Analiza wariancji', 'Analiza wariancyjna', 'Analiza wartości',\n",
              "       'Analiza wewnętrzna', 'Analiza widmowa', 'Analiza wrażliwości',\n",
              "       'Analiza wskaźnikowa', 'Analiza wstępująca', 'Analiza wymiarowa',\n",
              "       'Analiza wymiarowa konstrukcji', 'Analiza wypukła',\n",
              "       'Analiza wędrowna i lokalna', 'Analiza zadania',\n",
              "       'Analiza zadań testowych', 'Analiza zależnościowa',\n",
              "       'Analiza zdalna', 'Analiza zespolona', 'Analiza zstępująca',\n",
              "       'Analizator (fizjologia)', 'Analizator Równań Różniczkowych',\n",
              "       'Analizator amplitudy', 'Analizator barw',\n",
              "       'Analizator cyklotronowego rezonansu jonów',\n",
              "       'Analizator cyklotronowego rezonansu jonów z fourierowską transformacją wyników',\n",
              "       'Analizator czasu', 'Analizator czasu przelotu',\n",
              "       'Analizator elektrostatyczny', 'Analizator gazowy',\n",
              "       'Analizator gazu alfa-jonizujący', 'Analizator polowy',\n",
              "       'Analizator składniowy', 'Analizator spalin', 'Analizator widma',\n",
              "       'Analizator światła spolaryzowanego', 'Analizy BAS',\n",
              "       'Analog (chemia)', 'Analog (grupa muzyczna)', 'Analog Devices',\n",
              "       'Analog Heart', 'Analog Science Fiction and Fact',\n",
              "       'Analogi gonadoliberyny', 'Analogi insuliny', 'Analogia',\n",
              "       'Analogia (grupa muzyczna)', 'Analogia iuris', 'Analogia legis',\n",
              "       'Analogie mechano-elektro-akustyczne', 'Analogion',\n",
              "       'Analogowe przetwarzanie sygnałów',\n",
              "       'Analogowy aparat fotograficzny', 'Analogue', 'Analyse',\n",
              "       'Analytic Hierarchy Process', 'Analytoceras', 'Analândia', 'Anam',\n",
              "       'Anam na Éireann', 'Anamaria Marinca', 'Anamaria Tămârjan',\n",
              "       'Anamarija Brajdić', 'Anambad', 'Anambel Drusiotu', 'Anambra',\n",
              "       'Anamika', 'Anammox', 'Anamneza (filozofia)',\n",
              "       'Anamneza (liturgia)', 'Anamneza (medycyna)',\n",
              "       'Anamneza (modlitwa)', 'Anamorfoza', 'Anamosa', 'Anampses',\n",
              "       'Anamur', 'Anamã', 'Anan (Francja)', 'Anan (miasto)',\n",
              "       'Anan ben Dawid', 'Ananas', 'Ananas Berżenicki', 'Ananas jadalny',\n",
              "       'Ananasy z mojej klasy', 'Anand', 'Anand Raj Anand',\n",
              "       'Anand Satyanand', 'Ananda (hinduizm)', 'Ananda Coomaraswamy',\n",
              "       'Ananda Lewis', 'Ananda Marga', 'Ananda Sutram', 'Anandamaji Ma',\n",
              "       'Anandamid', 'Anandmurti Guruma', 'Anandnagar', 'Anangama',\n",
              "       'Anangaranga', 'Ananiasz', 'Ananiasz (Dżaparidze)',\n",
              "       'Ananiasz Rojecki', 'Ananiasz Zajączkowski',\n",
              "       'Ananiasz syn Nebedeusza', 'Ananiasz z Damaszku',\n",
              "       'Ananiasz z Edessy', 'Ananim', 'Ananindeua', 'Ananiw', 'Anankazm',\n",
              "       'Ananke (księżyc)', 'Ananke (mitologia)', 'Anann', 'Anansi',\n",
              "       'Ananta', 'Anantapur (dystrykt)', 'Anantapur (miasto)',\n",
              "       'Ananteris', 'Anantopodon', 'Ananuri', 'Ananya Khare', 'Anapa',\n",
              "       'Anapachydiscus', 'Anapait', 'Anapana', 'Anapandites Kliseis',\n",
              "       'Anapest', 'Anaphyllopsis', 'Anaphyllum', 'Anapireksja',\n",
              "       'Anapka (zatoka)', 'Anaplasma phagocytophilum', 'Anaplazja',\n",
              "       'Anaplazmoza', 'Anapolina Anápolis', 'Anapsydy', 'Anaptyksa',\n",
              "       'Anapu', 'Anapurna Stadium', 'Anar', 'Anarak', 'Anarbor',\n",
              "       'Anarchia', 'Anarchist Cookbook',\n",
              "       'Anarchistyczna Federacja Polski', 'Anarchistyczne FAQ',\n",
              "       'Anarchistyczni Burzyciele', 'Anarchistyczny Czarny Krzyż',\n",
              "       'Anarchitektur', 'Anarchiva', 'Anarchizm',\n",
              "       'Anarchizm bezprzymiotnikowy', 'Anarchizm feministyczny',\n",
              "       'Anarchizm indywidualistyczny', 'Anarchizm kolektywistyczny',\n",
              "       'Anarchizm komunistyczny', 'Anarchizm metodologiczny',\n",
              "       'Anarchizm w Meksyku', 'Anarchizm w Polsce',\n",
              "       'Anarchizm w rewolucji 1905 r. w Rosji', 'Anarchiści (film)',\n",
              "       'Anarcho-punk', 'Anarchokapitalizm', 'Anarchoprymitywizm',\n",
              "       'Anarchosyndykalizm', 'Anarchy (album Busta Rhymesa)',\n",
              "       'Anarchy (album grupy Chumbawamba)', 'Anarchy Online',\n",
              "       'Anarchy in the U.K.', 'Anarita', 'Anarmani', 'Anarres',\n",
              "       'Anarrhichthys ocellatus', 'Anarthriaceae', 'Anartowie',\n",
              "       'Anartria', 'Anaruk, chłopiec z Grenlandii'], dtype=object)"
            ]
          },
          "metadata": {
            "tags": []
          },
          "execution_count": 23
        }
      ]
    },
    {
      "cell_type": "code",
      "metadata": {
        "colab": {
          "base_uri": "https://localhost:8080/"
        },
        "id": "fesFfRHBNl57",
        "outputId": "2f4d6426-2403-4731-c490-5c7186f109b6"
      },
      "source": [
        "!lscpu"
      ],
      "execution_count": 31,
      "outputs": [
        {
          "output_type": "stream",
          "text": [
            "Architecture:        x86_64\n",
            "CPU op-mode(s):      32-bit, 64-bit\n",
            "Byte Order:          Little Endian\n",
            "CPU(s):              2\n",
            "On-line CPU(s) list: 0,1\n",
            "Thread(s) per core:  2\n",
            "Core(s) per socket:  1\n",
            "Socket(s):           1\n",
            "NUMA node(s):        1\n",
            "Vendor ID:           GenuineIntel\n",
            "CPU family:          6\n",
            "Model:               85\n",
            "Model name:          Intel(R) Xeon(R) CPU @ 2.00GHz\n",
            "Stepping:            3\n",
            "CPU MHz:             2000.190\n",
            "BogoMIPS:            4000.38\n",
            "Hypervisor vendor:   KVM\n",
            "Virtualization type: full\n",
            "L1d cache:           32K\n",
            "L1i cache:           32K\n",
            "L2 cache:            1024K\n",
            "L3 cache:            39424K\n",
            "NUMA node0 CPU(s):   0,1\n",
            "Flags:               fpu vme de pse tsc msr pae mce cx8 apic sep mtrr pge mca cmov pat pse36 clflush mmx fxsr sse sse2 ss ht syscall nx pdpe1gb rdtscp lm constant_tsc rep_good nopl xtopology nonstop_tsc cpuid tsc_known_freq pni pclmulqdq ssse3 fma cx16 pcid sse4_1 sse4_2 x2apic movbe popcnt aes xsave avx f16c rdrand hypervisor lahf_lm abm 3dnowprefetch invpcid_single ssbd ibrs ibpb stibp fsgsbase tsc_adjust bmi1 hle avx2 smep bmi2 erms invpcid rtm mpx avx512f avx512dq rdseed adx smap clflushopt clwb avx512cd avx512bw avx512vl xsaveopt xsavec xgetbv1 xsaves arat md_clear arch_capabilities\n"
          ],
          "name": "stdout"
        }
      ]
    },
    {
      "cell_type": "code",
      "metadata": {
        "colab": {
          "base_uri": "https://localhost:8080/",
          "height": 1000
        },
        "id": "2gm9giVEbcet",
        "outputId": "5eb42832-af76-4f8f-880d-914254d9a4eb"
      },
      "source": [
        "passages = w['paragraph'].tolist()[:100000]\r\n",
        "while True:\r\n",
        "    query = input(\"Please enter a question: \")\r\n",
        "\r\n",
        "    #Encode the query using the bi-encoder and find potentially relevant passages\r\n",
        "    start_time = time.time()\r\n",
        "    question_embedding = bi_encoder.encode(query, convert_to_tensor=True)\r\n",
        "    hits = util.semantic_search(question_embedding, corpus_embeddings, top_k=top_k)\r\n",
        "    hits = hits[0]  # Get the hits for the first query\r\n",
        "\r\n",
        "    #Now, score all retrieved passages with the cross_encoder\r\n",
        "    cross_inp = [[query, passages[hit['corpus_id']]] for hit in hits]\r\n",
        "    cross_scores = cross_encoder.predict(cross_inp)\r\n",
        "\r\n",
        "    #Sort results by the cross-encoder scores\r\n",
        "    for idx in range(len(cross_scores)):\r\n",
        "        hits[idx]['cross-score'] = cross_scores[idx]\r\n",
        "\r\n",
        "    hits = sorted(hits, key=lambda x: x['cross-score'], reverse=True)\r\n",
        "    end_time = time.time()\r\n",
        "\r\n",
        "    #Output of top-5 hits\r\n",
        "    print(\"Input question:\", query)\r\n",
        "    print(\"Results (after {:.3f} seconds):\".format(end_time - start_time))\r\n",
        "    for hit in hits[0:5]:\r\n",
        "        index = hit['corpus_id']\r\n",
        "        article = w.iloc[index]\r\n",
        "        print('\\nTitle:', article['title'])\r\n",
        "        print('Paragraph:', article['paragraph'])\r\n",
        "        print('Url:', article['url'])\r\n",
        "        print('Index:', index)\r\n",
        "    print(\"\\n\\n========\\n\")"
      ],
      "execution_count": 24,
      "outputs": [
        {
          "output_type": "stream",
          "text": [
            "Please enter a question: substancja do zmywania lakieru do paznokci\n",
            "Input question: substancja do zmywania lakieru do paznokci\n",
            "Results (after 1.869 seconds):\n",
            "\n",
            "Title: Aceton\n",
            "Paragraph: Aceton jest powszechnie stosowanym rozpuszczalnikiem organicznym o dużej polarności. Rozpuszcza większość miękkich tworzyw sztucznych, lakiery, tłuszcze, oleje (nawet nagar silnikowy). . Stosuje się go przy produkcji leków, barwników, farb, lakierów i środków czyszczących. Jest często stosowany jako składnik zmywacza do paznokci.Aceton może być wykorzystywany jako prekursor do produkcji narkotyków i w związku z tym obrót nim podlega w Polsce kontroli, zgodnie z Ustawą o Przeciwdziałaniu Narkomanii (Dz. U. z 2005 roku Nr 179 poz. 1485) oraz rozporządzeniami Wspólnoty Europejskiej. Jednak z uwagi na to, że aceton należy do prekursorów niskiej kategorii (trzeciej), przepisy nie ograniczają jego dostępności w handlu detalicznym.\n",
            "Url: http://pl.wikipedia.org/wiki/?curid=42\n",
            "Index: 40335\n",
            "\n",
            "Title: Akwamaryna (kolor)\n",
            "Paragraph: Akwamaryna – zielono-niebieski pigment mineralny pochodzenia naturalnego lub syntetycznego, stosowany do produkcji farb, lakierów i emalii oraz jako środek barwiący wielu innych substancji, w tym także jako wybielacz optyczny.\n",
            "Url: http://pl.wikipedia.org/wiki/?curid=2275775\n",
            "Index: 54814\n",
            "\n",
            "Title: Amorolfina\n",
            "Paragraph: W trakcie leczenia amorolfiną używanie kosmetycznych lakierów oraz naklejanie sztucznych paznokci jest niewskazane. Stosowanie leku u kobiet w ciąży jest wskazane w przypadku zdecydowanej konieczności. Nie stosować w okresie karmienia piersią.\n",
            "Url: http://pl.wikipedia.org/wiki/?curid=1769620\n",
            "Index: 76740\n",
            "\n",
            "Title: Amorolfina\n",
            "Paragraph: Lek stosowany zewnętrznie, częstotliwość oraz czas trwania stosowania ustala lekarz, zwykle lakier stosuje się 1–2 razy w tygodniu. Leczenie paznokci u rąk trwa ok. 6 miesięcy, natomiast paznokci u stóp 9–12 miesięcy.\n",
            "Url: http://pl.wikipedia.org/wiki/?curid=1769620\n",
            "Index: 76741\n",
            "\n",
            "Title: Afinacja\n",
            "Paragraph: Afinacja - oczyszczanie substancji z domieszek. Proces stosowany głównie w cukrowniach do oczyszczania cukru, również do wydobywania z rudy metali szlachetnych.\n",
            "Url: http://pl.wikipedia.org/wiki/?curid=1119681\n",
            "Index: 47810\n",
            "\n",
            "\n",
            "========\n",
            "\n",
            "Please enter a question: leki na choroby bakteryjne\n",
            "Input question: leki na choroby bakteryjne\n",
            "Results (after 1.733 seconds):\n",
            "\n",
            "Title: Antybiotyki\n",
            "Paragraph: Oporność na antybiotyki jest cechą pewnych szczepów bakteryjnych, która umożliwia im przetrwanie w obecności antybiotyku. W zależności od pochodzenia, dzieli się ją na pierwotną (naturalna struktura bakterii uniemożliwiająca działanie leku) lub nabytą – na skutek nabycia genów oporności od innych bakterii lub spontanicznych mutacji. Częsta oporność wśród bakterii wiąże się z nieracjonalną antybiotykoterapią oraz zbyt dużym zużyciem tych leków w przemyśle spożywczym. W wielu krajach (np. USA) legalne jest też stosowanie niewielkich dawek antybiotyków podczas hodowli dla podniesienia masy trzody chlewnej. Dawki te są zbyt małe, aby zabić wszystkie bakterie, świetnie więc stymulują wyrobienie przez bakterie antybiotykooporności .\n",
            "Url: http://pl.wikipedia.org/wiki/?curid=110\n",
            "Index: 97736\n",
            "\n",
            "Title: Antybiotyki przeciwprątkowe\n",
            "Paragraph: Antybiotyki przeciwprątkowe to leki bakteriobójcze i bakteriostatyczne w stosunku do prątka gruźlicy, obecnie najczęściej wykorzystywane w leczeniu gruźlicy są następujące leki: Leki są stosowane w połączeniach trój- i czterolekowych, w celu zapobiegania wytworzenia się\n",
            "Url: http://pl.wikipedia.org/wiki/?curid=76089\n",
            "Index: 97744\n",
            "\n",
            "Title: Antybiotyki\n",
            "Paragraph: Antybiotyki (z greki \"anti\" – przeciw, \"bios\" – życie) – naturalne, wtórne produkty metabolizmu drobnoustrojów, które działając wybiórczo w niskich stężeniach wpływają na struktury komórkowe lub procesy metaboliczne innych drobnoustrojów hamując ich wzrost i podziały. Antybiotyki są przedmiotem badań auksanografii, stosuje się je jako leki w leczeniu wszelkiego rodzaju zakażeń bakteryjnych. Bywają także używane profilaktycznie w zapobieganiu zakażeniom bakteryjnym w przypadku osłabienia odporności, np. neutropenii, a także w profilaktyce bakteryjnego zapalenia wsierdzia.\n",
            "Url: http://pl.wikipedia.org/wiki/?curid=110\n",
            "Index: 97734\n",
            "\n",
            "Title: Antymetabolit\n",
            "Paragraph: Antymetabolity mogą w analogiczny sposób wpływać na rozwój innych organizmów. Na ich efekcie toksycznym w stosunku do patogenów opera się leczenie chorób zakaźnych. Drobnoustroje często wykorzystują unikalne procesy metaboliczne, które nie mają swojego odpowiednika u organizmów wyższych. Ponadto struktura kluczowych białek odpowiedzialnych np. za syntezę kwasów nukleinowych bywa odmienna.Leki przeciwbakteryjne: typowymi antymetabolitami są antybiotyki oddziałujące na syntezę ściany komórkowej: beta-laktamy (penicyliny i cefalosporyny), glikopeptydy, wiele leków przeciwgruźliczych; inhibitory rybosomów: tetracykliny, makrolidy, czy chloramfenikol oraz niektóre środki zaburzające syntezę bakteryjnego DNA, np. sulfonamidy.Leki przeciwwirusowe: leki wirostatyczne hamują replikację wirusów na różnych etapach. Te aktywne podczas powielania DNA (acyklowir, efawirenz, tenofowir, zydowudyna) oraz translacji (oligonukleotyd antysensowny – fomiwirsen) ponownie zalicza się do antymetabolitów.Leki przeciwgrzybicze: punkty uchwytu, które służą przerwaniu ważnych szlaków metabolicznych, to m.in. synteza ergosterolu (azole, inhibitory epoksydazy skwalenowej, morfoliny), synteza glukanów (kandyny), synteza kwasów nukleinowych (flucytozyna).\n",
            "Url: http://pl.wikipedia.org/wiki/?curid=2372393\n",
            "Index: 98011\n",
            "\n",
            "Title: Amfoterycyna B\n",
            "Paragraph: Amfoterycyna B – organiczny związek chemiczny pochodzenia naturalnego, antybiotyk przeciwgrzybiczy wytwarzany przez bakterie z rodzaju \"Streptomyces\". Zawiera pierścień makrocykliczny zbudowany z fragmentu polienowego oraz polihydroksylowego. Skuteczny lek w walce z zakażeniami, pochodzącymi od \"Candida albicans\" (np. drożdżyca amerykańska), a także w niektórych grzybicach (np. histoplazmoza, kryptokokoza czy grzybica układu pokarmowego).\n",
            "Url: http://pl.wikipedia.org/wiki/?curid=1309393\n",
            "Index: 75972\n",
            "\n",
            "\n",
            "========\n",
            "\n",
            "Please enter a question: brak władzy w kraju\n",
            "Input question: brak władzy w kraju\n",
            "Results (after 1.972 seconds):\n",
            "\n",
            "Title: Ali Mahdi Mohamed\n",
            "Paragraph: Ali Mahdi Mohamed (som. Cali Mahdi Maxamed, arab. علي مهدي محمد, ur. 1938) - somalijski polityk, prezydent Somalii w latach 1991-1993.Ali Mahdi Mohamed stracił faktyczną władzę w kraju 27 sierpnia 1993, choć na arenie międzynarodowej był uważany za legalnego prezydenta do roku 2000. Mohamed Farrah Aidid zdobył władzę w kraju przemocą, prezydentura jego i jego syna nie została oficjalnie uznana.\n",
            "Url: http://pl.wikipedia.org/wiki/?curid=1594083\n",
            "Index: 68443\n",
            "\n",
            "Title: Alienacja polityczna\n",
            "Paragraph: Alienacja polityczna - pojęcie to pochodzi z języka łacińskiego, w którym \"\"alieus\"\" oznacza 'obcy', 'należący do kogoś innego', 'wyobcowany'. Dotyczy wyizolowania od świata polityki, od struktur lub elit władzy w systemie politycznym, oderwanie się, usamodzielnienie, autonomizacja instytucji politycznych a zwłaszcza państwa od społeczeństwa i mechanizmów społecznej kontroli. Objawami alienacji politycznej jest zanik więzi między obywatelami, a sferą działania politycznego oraz brak identyfikacji z systemem władzy politycznej. Wyzwala bądź utrwala społeczne przekonanie, że działania polityczne są niezależne od woli obywatela. Alienacja ma charakter procesu, w którym kolejno instytucje polityczne, będące wytworem działań społecznych, wychodzą poza kontrolę swych twórców, przeciwstawiają się im i podporządkowują ich zachowania obcym interesom.Zjawisko alienacji można ujmować dwuwymiarowo: obiektywnie i subiektywnie. Obiektywny wymiar wyznaczony jest przez stan braku zależności między potrzebami i interesami szeroko ujmowanego społeczeństwa, a wartościami, decyzjami i działaniami władzy politycznej. W wymiarze subiektywnym zjawisko to określane jest, z jednej strony, jako społeczne poczucie braku wpływu na działania i decyzje władcze. Z drugiej zaś, jako poczucie oderwania się członków elit władzy od szarej rzeczywistości społecznej i instrumentalnego traktowania mas społecznych czy tzw. elektoratu. Symptomatyczny jest tu podział na „my” jako społeczeństwo i „oni” jako władza. Taki stosunek polaryzuje scenę polityczną na dwa obojętne, a często wrogie sobie obozy. Charakterystyczny jest tu zanik więzi między obu stronami i tendencją do uprzedmiotowiania i dyskrecji, wyrażającej się często w symbolicznej degradacji przeciwnika.Kiedy elity polityczne są wyalienowane, ludzie władzy jawią się społeczeństwu, często jako grupa oszukańcza i skorumpowana, dbająca o swój własny interes i nie dotrzymująca danego słowa. Elita polityczna postrzegana jest jako niezdolna do realizacji oczekiwań społecznych. Powszechne staje się także poczucie braku bądź zaniku dialogu i społecznych konsultacji w działaniach elity rządzącej. Instytucje polityczne są ujmowane jako instrumenty realizacji partykularnych interesów. Sceptycyzm i społeczna nieufność wobec polityki generuje krytycyzm i negatywną ocenę partii politycznych, a nierzadko również instytucji państwowych. Partie są postrzegane jako dążące do władzy kliki, powodujące kłótnie i zamęt w państwie. Organizacje polityczne oskarżane są o zrzeszanie ludzi, dla których najważniejsze są własne ambicje, a nie interes państwowy, postulaty wyborców czy żądania elektoratu.Ze względu na dynamiczny charakter zjawisk politycznych także zjawisko alienacji nie może być ujmowane statycznie, lecz w dynamicznym ujęciu procesu. Poziom wyalienowania w zależności od uwarunkowań relacji władza-społeczeństwo może przyjmować różne wartości w różnych płaszczyznach. W systemach demokratycznych, opartych na funkcjonowaniu mechanizmów reprezentacji politycznej, problem alienacji politycznej związany jest z dostępem do grona zasobów władzy, procesami selekcji, weryfikacji i wymiany przywódców czy liderów politycznych.Pojęcie alienacji znajduje częste zastosowanie w konfliktowych teoriach politycznych, których cechą charakterystyczną jest przeciwstawianie elity władzy wobec pozostałej części społeczeństwa. Alienacja jest tu najczęściej ujmowana jako źródło lub objaw konfliktów i jest wyrazem separacji społeczeństwa od jego elit politycznych.\n",
            "Url: http://pl.wikipedia.org/wiki/?curid=718310\n",
            "Index: 69126\n",
            "\n",
            "Title: 51. stan\n",
            "Paragraph: Portoryko zostało zajęte przez USA w roku 1898. Od 1917 Portorykańczycy mają amerykańskie obywatelstwo. Ostateczny status polityczny wyspy nie został dotąd ustalony. Portoryko nie ma reprezentacji w Kongresie, jednak ma tam pełnomocnika. Obywatele nie biorą udziału w wyborach prezydenckich, nie płacą też federalnych podatków od dochodów wytworzonych na wyspie. Posiadają paszport USA jak i prawo do swobodnego osiedlania się na terytorium Stanów, a ci którzy z tego prawa skorzystają automatycznie nabierają prawa do głosowania w wyborach.Portoryko ma autonomię w ramach stowarzyszenia z USA. Niektórzy mieszkańcy wyspy domagają się pełnej niepodległości, inni z kolei chcą pełnej integracji ze Stanami Zjednoczonymi i przekształcenia wyspy w kolejny amerykański stan. Rząd federalny USA nakazał wyspie przyjęcie własnej konstytucji w 1951, w której kraj ten określony jest jako \"Wspólnota Portoryka\".Akt Demokratyczny Portoryka (HR 2499) to projekt ustawy przewidujący federalne zapewnienie procesu samostanowienia dla mieszkańców wyspy. Ustawa ta zapewni plebiscyty, które odbędą się w Portoryko, w celu określenia ostatecznego statusu politycznego wyspy. Został wprowadzony dwa razy w Kongresie Stanów Zjednoczonych, najpierw w 2007 i ponownie w 2009. 29 kwietnia 2010 Izba Reprezentantów zagłosowała 223–169 za przyjęciem HR 2499, dotąd jednak nie odbyło się głosowanie w Senacie.Gdyby Portoryko zostało 51. stanem, miałoby 27. miejsce pod względem populacji i 6 miejsc w Izbie Reprezentantów.Uczynienie wyspy stanem jest forsowane przez Nową Postępową Partię Portoryko (hiszp. \"Partido Nuevo Progresista de Puerto Rico\", \"PNP\"). Zarówno Partia Demokratyczna i Partia Republikańska, wyraziły swoje poparcie dla praw obywateli Stanów Zjednoczonych w Portoryko w celu określenia przyszłego statusu politycznego w formie nieterytorialnej.Gubernator Luis Fortuno ogłosił, że pod koniec marca 2011 jego Nowa Partia Postępowa, która dominuje w rządzie, dokona dwuczęściowego plebiscytu w celu określenia statusu Portoryko. W pierwszej turze głosowania, które odbędzie się pod koniec 2011, Portorykańczycy będą mieli do wyboru trzy opcje: dołączenie jako 51. stan, zachowanie obecnego statusu wyspy i pełna niepodległość. Druga tura odbędzie się w pierwszym kwartale 2013.W czerwcu 2011 odbyła się pierwsza od 50 lat wizyta amerykańskiego prezydenta w Portoryko. Barack Obama odwiedził wyspę by ubiegać się o głosy portorykańczyków mieszkających na terenie USA.6 listopada 2012 roku na wyspie odbyło się referendum ws. statusu wyspy, w którym mieszkańcy odpowiedzieli na dwa pytania: Czy chcą utrzymać dotychczasowy status wyspy? oraz Którą z opcji zmiany statusu wyspy preferują. Opcjami do wyboru były: przyłączenie do Stanów Zjednoczonych jako 51. Stan, niepodległość oraz \"suwerenne wolne stowarzyszenie\", czyli zwiększenie autonomii od USA. Na pierwsze pytanie 934 238 osób (54%) odpowiedziało negatywnie, a 796 007 osób (46%) poparło utrzymanie status quo. W drugim pytaniu większość (802 179 głosujących - 61,2%) poparła ideę przyłączenia do Stanów Zjednoczonych, 436 997 osób (33,3%) zwiększenie autonomii, a 72 551 głosujących (5,5%) proklamowanie niepodległości.\n",
            "Url: http://pl.wikipedia.org/wiki/?curid=2239790\n",
            "Index: 29529\n",
            "\n",
            "Title: Akt wykonawczy\n",
            "Paragraph: Akt wykonawczy - powszechnie obowiązujący akt normatywny wydawany przez kompetentny organ państwa na podstawie udzielonego mu w innym akcie normatywnym upoważnienia. W większości demokratycznych państw prawo wydawania aktów wykonawczych zarezerwowane jest dla władzy wykonawczej. Należy jednak zastrzec, iż władzy tej brak jest bezpośrednich kompetencji do wydawania takiego dokumentu - prawo takie otrzymuje dopiero w chwili, gdy organ władzy ustawodawczej upoważni ją do uregulowania danych kwestii.\n",
            "Url: http://pl.wikipedia.org/wiki/?curid=1264054\n",
            "Index: 54502\n",
            "\n",
            "Title: Angola (ujednoznacznienie)\n",
            "Paragraph: Angola - państwo w południowo-zachodniej Afryce\n",
            "\n",
            "Url: http://pl.wikipedia.org/wiki/?curid=400631\n",
            "Index: 88465\n",
            "\n",
            "\n",
            "========\n",
            "\n",
            "Please enter a question: stan, w którym w państwie nie ma władzy\n",
            "Input question: stan, w którym w państwie nie ma władzy\n",
            "Results (after 1.978 seconds):\n",
            "\n",
            "Title: Anarchia\n",
            "Paragraph: Anarchia ( – \"bez władcy\") – forma struktury społeczno-politycznej, w której nie ma żadnej ukonstytuowanej władzy.W rozumieniu politycznym (w anarchizmie) to taka struktura, w której państwo zostaje zastąpione przez nieprzymusową i niescentralizowaną organizację społeczeństwa (np. federację autonomicznych miejscowości).\n",
            "Url: http://pl.wikipedia.org/wiki/?curid=26\n",
            "Index: 78499\n",
            "\n",
            "Title: Administratorzy Terytorium Północnego\n",
            "Paragraph: Administrator Terytorium Północnego (\"Administrator of the Northern Territory\") - formalnie najwyższy urząd we władzy wykonawczej Terytorium Północnego w Australii. W praktyce administratorzy przestali kierować administracją Terytorium w roku 1979, kiedy uzyskało ono stopień samodzielności porównywalny z sześcioma australijskimi stanami. Od tego czasu administrator pełni rolę analogiczną do tej, jaką w stanach wypełniają ich gubernatorzy. Posiada bardzo szerokie kompetencje - m.in. powołuje premiera, rozpisuje wybory do regionalnego parlamentu, a także podpisuje jego ustawy. W praktyce administrator zawsze mianuje szefem rządu lidera większości w parlamencie, a następnie korzysta ze swych prerogatyw jedynie na jego wniosek. Najważniejsza różnica między administratorem a gubernatorami stanowymi podlega na nieco odmiennym statusie konstytucyjnym. Gubernatorzy uważani są za osobistych przedstawicieli królowej Australii, zaś władze federalne Australii w ogóle nie biorą udziału w ich powoływaniu. Inaczej jest w przypadku Terytorium Północnego, które formalnie wciąż pozostaje terytorium federalnym. Z tego względu nie ma własnego gubernatora, lecz - czysto teoretycznie - rozciągają się na nie kompetencje gubernatora generalnego Australii. To właśnie gubernator generalny - działając na wniosek rządu federalnego - powołuje administratora jako swego przedstawiciela. Decyzja o wskazaniu kandydata podejmowana przez rząd Terytorium - choć faktycznie ma rozstrzygające znaczenie - formalnie jest tylko rekomendacją dla rządu federalnego i gubernatora generalnego.\n",
            "Url: http://pl.wikipedia.org/wiki/?curid=1631111\n",
            "Index: 44974\n",
            "\n",
            "Title: 51. stan\n",
            "Paragraph: Portoryko zostało zajęte przez USA w roku 1898. Od 1917 Portorykańczycy mają amerykańskie obywatelstwo. Ostateczny status polityczny wyspy nie został dotąd ustalony. Portoryko nie ma reprezentacji w Kongresie, jednak ma tam pełnomocnika. Obywatele nie biorą udziału w wyborach prezydenckich, nie płacą też federalnych podatków od dochodów wytworzonych na wyspie. Posiadają paszport USA jak i prawo do swobodnego osiedlania się na terytorium Stanów, a ci którzy z tego prawa skorzystają automatycznie nabierają prawa do głosowania w wyborach.Portoryko ma autonomię w ramach stowarzyszenia z USA. Niektórzy mieszkańcy wyspy domagają się pełnej niepodległości, inni z kolei chcą pełnej integracji ze Stanami Zjednoczonymi i przekształcenia wyspy w kolejny amerykański stan. Rząd federalny USA nakazał wyspie przyjęcie własnej konstytucji w 1951, w której kraj ten określony jest jako \"Wspólnota Portoryka\".Akt Demokratyczny Portoryka (HR 2499) to projekt ustawy przewidujący federalne zapewnienie procesu samostanowienia dla mieszkańców wyspy. Ustawa ta zapewni plebiscyty, które odbędą się w Portoryko, w celu określenia ostatecznego statusu politycznego wyspy. Został wprowadzony dwa razy w Kongresie Stanów Zjednoczonych, najpierw w 2007 i ponownie w 2009. 29 kwietnia 2010 Izba Reprezentantów zagłosowała 223–169 za przyjęciem HR 2499, dotąd jednak nie odbyło się głosowanie w Senacie.Gdyby Portoryko zostało 51. stanem, miałoby 27. miejsce pod względem populacji i 6 miejsc w Izbie Reprezentantów.Uczynienie wyspy stanem jest forsowane przez Nową Postępową Partię Portoryko (hiszp. \"Partido Nuevo Progresista de Puerto Rico\", \"PNP\"). Zarówno Partia Demokratyczna i Partia Republikańska, wyraziły swoje poparcie dla praw obywateli Stanów Zjednoczonych w Portoryko w celu określenia przyszłego statusu politycznego w formie nieterytorialnej.Gubernator Luis Fortuno ogłosił, że pod koniec marca 2011 jego Nowa Partia Postępowa, która dominuje w rządzie, dokona dwuczęściowego plebiscytu w celu określenia statusu Portoryko. W pierwszej turze głosowania, które odbędzie się pod koniec 2011, Portorykańczycy będą mieli do wyboru trzy opcje: dołączenie jako 51. stan, zachowanie obecnego statusu wyspy i pełna niepodległość. Druga tura odbędzie się w pierwszym kwartale 2013.W czerwcu 2011 odbyła się pierwsza od 50 lat wizyta amerykańskiego prezydenta w Portoryko. Barack Obama odwiedził wyspę by ubiegać się o głosy portorykańczyków mieszkających na terenie USA.6 listopada 2012 roku na wyspie odbyło się referendum ws. statusu wyspy, w którym mieszkańcy odpowiedzieli na dwa pytania: Czy chcą utrzymać dotychczasowy status wyspy? oraz Którą z opcji zmiany statusu wyspy preferują. Opcjami do wyboru były: przyłączenie do Stanów Zjednoczonych jako 51. Stan, niepodległość oraz \"suwerenne wolne stowarzyszenie\", czyli zwiększenie autonomii od USA. Na pierwsze pytanie 934 238 osób (54%) odpowiedziało negatywnie, a 796 007 osób (46%) poparło utrzymanie status quo. W drugim pytaniu większość (802 179 głosujących - 61,2%) poparła ideę przyłączenia do Stanów Zjednoczonych, 436 997 osób (33,3%) zwiększenie autonomii, a 72 551 głosujących (5,5%) proklamowanie niepodległości.\n",
            "Url: http://pl.wikipedia.org/wiki/?curid=2239790\n",
            "Index: 29529\n",
            "\n",
            "Title: Administracja publiczna\n",
            "Paragraph: Monizm administracji publicznej, polega na istnieniu w danym państwie wyłącznie administracji państwowej. Wówczas nie występuje rzeczywisty samorząd, czyli nie ma podziału na administrację rządową i samorządową. Tak dzieje się w państwach totalitarnych, także wówczas gdy istnieją instytucje samorządowe z nazwy (tzw. fasadowe), które faktycznie samorządem nie są. Tak było np. w PRL. Rad narodowych nie można przecież nazwać samorządem. Ani nie pochodziły z wyborów, ani nie cieszyły się niezależnością.Natomiast dualizm administracji publicznej, to podział administracji publicznej na rządową i samorządową. Jest podstawową zasadą w państwach demokratycznych. Wiąże się z decentralizacją.\n",
            "Url: http://pl.wikipedia.org/wiki/?curid=392243\n",
            "Index: 44927\n",
            "\n",
            "Title: Amyntas IV Macedoński\n",
            "Paragraph: Z uwagi na zbyt młody wiek niepozwalający mu na samodzielne sprawowanie władzy regentem młodego króla wyznaczono jego stryja Filipa. Justyn podaje jednak iż Filip panował 25 lat czyli tyle, ile minęło od śmierci Perdikkasa III. W świetle jego relacji Amyntas nigdy nie sprawował władzy królewskiej. Jednak w zrekonstruowanej inskrypcji pochodzącej z wyroczni w Lebadei (w Beocji) figuruje \"\"Amyntas syn Perdikkasa, król Macedończyków\"\" co przemawia za panowaniem Amyntasa. Część historyków rozważa także istnienie okresu podwójnego panowania Filipa II i Amyntasa IV. Stan ten miałby trwać w ciągu maksymalnie dwóch lat od śmierci Perdikkasa III. Starożytni Macedończycy uważali że w rodzie królewskim łaska bogów przechodzi z ojca na syna, podwójna monarchia była była więc kompromisem między zadbaniem o przychylność bogów w trudnym dla państwa momencie, a naglącą potrzebą przejęcia władzy przez silną i zdolną jednostkę. W czasie tego podwójnego panowania Amyntasowi przypadły więc jedynie religijne aspekty władzy królewskiej (jedyne dla niego poświadczone w źródłach).Sytuacja Macedonii po klęsce Perdikkasa III była bardzo ciężka. W przegranej bitwie zginęło 4 tys. Macedończyków co w znaczący sposób uszczupliło królewską armię, a co gorsza bardzo podkopało jej morale. Licząc na przychylność bogów Macedończycy wysłali małego Amyntasa do wyroczni w Lebadei chcąc, dzięki obecności króla, uzyskać łączność z bogiem. Na razie jednak Ilirowie zatrzymali się w Górnej Macedonii umacniając swoje zdobycze i przygotowując się do najazdu w przyszłym roku, natomiast północ kraju plądrowali Pajonowie - z tym zagrożeniem Filip poradził sobie przekupując pajońskiego króla złotem i szczodrymi obietnicami. Kolejnym zagrożeniem dla władzy Amyntasa były konflikty dynastyczne. Chcąc wykorzystać fakt iż na tronie zasiadało dziecko kilku przedstawicieli rodu próbowało zdobyć królewski diadem za pomocą obcych sił. Dwóch z nich Pauzaniasz i Argajos było synami króla Macedonii Archelaosa (panującego w latach 413-399 p.n.e.). Argajos już raz zasiadał na macedońskim tronie dzięki poparciu Ilirów, jednak został usunięty przez dziadka Amyntasa IV, Amyntasa III. Tym razem Argajos uzyskał (mimo zabiegów dyplomatycznych Filipa) pomoc z strony Ateńczyków, którzy do jego ekspedycji składającej się z najemników i macedońskich wygnańców dołączyli własnych najemników (w sile 3 tys. hoplitów). Argajos wylądował na macedońskich wybrzeżu w pobliży miasta Methone skąd wyruszył do Ajgaj (starej stolicy Macedonii) w towarzystwie jedynie własnych najemników i przybyłych wraz z nim Macedończyków. W mieście jednak nie uzyskał żadnego poparcia i musiał się wycofać. Drogę powrotną do Methone zagrodził mu jednak Filip wraz z królewską armią. Oddziały Argajosa zostały pokonane i otoczone na wzgórzu (byli to głównie najemnicy). Filip zaproponował im, że jeśli wydadzą Argajosa i macedońskich zdrajców pozwoli im odejść wolno. Najemnicy przystali na jego warunki i wydali Argajosa, którego po niedługim czasie skazano na śmierć za zdradę. Po stracie swojego kandydata do tronu Ateńczycy byli zmuszeni do wycofania się i zawarcia pokoju. Brat Argajosa Pauzaniasz zwrócił się o pomoc do króla trackich Odrysów Kotysa I jednak jego nagła śmierć pozwoliła Filipowi na przekupienie jego następcy, by ten zamordował Pauzaniasza. Kolejnym zagrożeniem byli trzej stryjowie Amyntasa (przyrodni bracia Filipa i Perdikksa) Archelaos, Arridajos i Menelaos korzystający z poparcia Związki Chalkidyckiego. Jednak zajęty w tym czasie związek nie mógł udzielić im należytego wsparcia, dzięki czemu nie stanowili oni w tym momencie znaczącego zagrożenie. Dzięki zażegnaniu najpilniejszych problemów Filip mógł skupić się na przygotowaniach do odparcia spodziewanego najazdu Ilirów. Na miejsce poległych żołnierzy zaciągnął nowych, których zaczął szkolić w posługiwaniu się nową, wymyśloną przez siebie bronią - sarissą. Gdy w 358 nadeszły wieści o śmierci pajońskiego króla Filip wyprawił się na czele armii i podbił jego królestwo. Następnie zaatakował Ilirów, których pokonał w bitwie pod Linksos. Zwycięstwo zaowocowało przyłączeniem do Królestwa Macedonii (niziny) terenów Górnej Macedonii (wyżyny) co dwukrotnie zwiększyło obszar państwa. Następnego roku Filip interweniował w Tesalii, z którą się sprzymierzył w roku 357 lub rok wcześniej poślubiając Olimpias, bratanicę króla Epiru Arybbasa co miało stanowić przypieczętowanie sojuszu między obu państwami. W tym samym roku Filip rozpoczął oblężenie Amfipolis. Bojąc się ewentualnej koalicji Ateńczyków ze Związkiem Chalkidyckim Macedończycy obwołali Filipa królem detronizując jednocześnie Amyntasa (bądź też uczynili z Filipa jedynego króla) chcąc zapewnić państwu silne kierownictwo. Po detronizacji Amyntas pozostawał w cieniu swojego stryja nie odgrywając poważniejszej roli w życiu politycznym, choć w źródłach możemy go odnaleźć na czele poselstwa do Teb. Sytuacja zmieniła się, gdy Filip dał Amyntasowi za żonę swoją córkę Kynane. Według niektórych wersji Filip widział w bratanku jednego z możliwych następców gdyż planowana wyprawa do Azji wymagała by najpewniej zabrania ze sobą syna Aleksandra, który mógłby zginąć w bitwie. Gdy w zamordowano Filipa, a Aleksander zajął się dochodzeniem, w pierwszej kolejności oskarżył o spisek synów Areoposa, będących bliskimi przyjaciółmi Amyntasa. Z trzech braci stracono dwóch, trzeci - Aleksander - uniknął oskarżenia jedynie dzięki małżeństwu z córką wpływowego wodza Antypatra. Po zakończeniu kampanii w Grecji Aleksander powrócił do Macedonii na zimę 335. Zgromadził dowody świadczące o zamieszaniu Amyntasa w spisek i kazał stracić za zdradę. \n",
            "Url: http://pl.wikipedia.org/wiki/?curid=1195105\n",
            "Index: 77362\n",
            "\n",
            "\n",
            "========\n",
            "\n",
            "Please enter a question: nieumiejętność czytania i pisania\n",
            "Input question: nieumiejętność czytania i pisania\n",
            "Results (after 1.941 seconds):\n",
            "\n",
            "Title: Aleksja (medycyna)\n",
            "Paragraph: Aleksja (), niezdolność czytania – zaburzenie objawiające się częściową lub całkowitą niezdolnością rozumienia słowa pisanego (drukowanego). Osoby na nią cierpiące nie mają zaburzeń wzroku czy słuchu i potrafią rozumieć słowa wymawiane.Jej przyczyną jest uszkodzenie lewej półkuli mózgu, co uniemożliwia przez człowieka powiązania danego dźwięku z prawidłowo rozpoznawaną literą .W terminologii angielskiej zaburzenie to czasami jest nazywane \"word blindness\" (\"ślepota na słowa\") lub \"visual aphasia\" (\"afazja wzrokowa\"). Czysta aleksja nazywana też czystą ślepotą słów lub aleksją bez agrafii to skrajny przypadek, w którym osoba dotknięta aleksją zachowała zdolność pisania (spontanicznie i pod\n",
            "Url: http://pl.wikipedia.org/wiki/?curid=165045\n",
            "Index: 63891\n",
            "\n",
            "Title: Analfabetyzm\n",
            "Paragraph: Analfabetyzm (gr. \"αναλφαβετος\" \"nieznający liter\") – w rozumieniu potocznym, brak umiejętności pisania i czytania oraz wykonywania czterech podstawowych działań matematycznych u osób dorosłych, tj. według kryteriów UNESCO – powyżej 15. roku życia. Osoby nie posiadające takiej umiejętności nazywane są \"analfabetami\". Kryteria statystyczne są niejednolite i nieprecyzyjne. Jako liczbę analfabetów, zwykle przyjmuje się liczbę osób bez określonego w danym kraju, minimalnego poziomu szkolnej edukacji, np. bez szkoły podstawowej, lub np. bez ukończonych jej czterech pierwszych klas W praktyce oznacza to, że imigrant, także absolwent uczelni, po przeniesieniu się na stałe do innego kraju, jeśli nie zadbał o uznanie tu swej edukacji, w statystyce zostanie ujęty jako analfabeta.W krajach Trzeciego Świata problem analfabetyzmu sięga kilkunastu, a nawet kilkudziesięciu procent mieszkańców. Obecnie szacuje się, że w Europie jest 3% analfabetów, w Ameryce Pd. - 15%, w Azji - 33%, a w Afryce - 50%.W Polsce analfabetyzm był spuścizną po polityce zaborców, którzy dążyli do ograniczania szkolnictwa. W 1914 na ziemiach polskich było: 57% analfabetów w zaborze rosyjskim, 40% w Galicji i 5% w zaborze pruskim. Według statystyk w Polsce w 1921 było 33,1% analfabetów, w 1931 - 23,1%, w 1960 - 2,7%, w 1978 - 1,2%.Nie jest łatwa ocena skali analfabetyzmu wtórnego oraz funkcjonalnego (dot. niemożności zrozumienia i wykorzystania drukowanych informacji oraz przedstawień graficznych tj. ikon, wykresów, diagramów), czyli praktycznej niezdolności posługiwania się słowem pisanym: braku zrozumienia treści najprostszych instrukcji, braku umiejętności wypełnienia najprostszych formularzy. Podobnie jest z analfabetyzmem matematycznym, czyniącym ludzi niezdolnymi do sprawdzenia rachunku w kasie sklepowej, nie mówiąc o obliczeniu podatków. Badanie tych zagadnień daje czasem bardzo różne wyniki, w zależności od przyjętych kryteriów. Odsetek ten nawet w bogatych krajach może sięgać 50 i więcej procent. Ocenia się np., że 77% Amerykanów, 47% Polaków i 28% Szwedów ma problemy ze zrozumieniem tekstów, a mianem sprawnych językowo można nazwać w tych trzech krajach odpowiednio tylko 2%, 21% i 32% mieszkańców (według \"International Adult Literacy Society\"). Jakkolwiek zwalczanie analfabetyzmu pierwotnego udaje się metodami stosunkowo prostymi (choć dla biednych krajów nawet one bywają zbyt kosztowne) - przez zapewnienie wszystkim dzieciom podstawowej edukacji, tak zjawisko pojawiania się analfabetyzmu wtórnego jest znacznie trudniejsze do opanowania i wiązać się musi z upowszechnieniem czytelnictwa wśród ogółu ludności - zachęcania do korzystania z bibliotek, księgarni, prasy, internetu.\n",
            "Url: http://pl.wikipedia.org/wiki/?curid=141098\n",
            "Index: 77999\n",
            "\n",
            "Title: Alabama\n",
            "Paragraph: Nowa konstytucja stanowa z 1901 roku ograniczyła prawo do głosowania m.in. wprowadzając wymóg umiejętności czytania i pisania. Mimo, iż plantatorzy uzyskali poparcie dla tych zmian wśród białych nieposiadających ziemi nowe ograniczenia nękały biednych głównie przez narzucanie podatku pogłównego.W roku 1900 prawa wyborcze posiadało ponad 181 tys. Afroamerykanów, ale w czerwcu 1903 liczba ta spadła do 2980, pomimo że co najmniej 79 tys. Afroamerykanów potrafiło czytać i pisać. W roku 1941 600 tys. białych i 520 tys. czarnych nie posiadało własnej ziemi. Niemal wszyscy Afroamerykanie utracili prawa głosu. Prześladowania zakończyły się w połowie lat 60-tych na mocy ustaw federalnych dających prawo głosu dla wszystkich obywateli.Zdominowana przez interesy rolnicze Alabama konsekwentnie zmniejszała finansowanie szkół i usług dla Afroamerykanów, nie zwalniając ich przy tym z płacenia podatków. Dalszy ciąg dyskryminacji rasowej, kryzys rolniczy oraz nieurodzaj bawełny na skutek zarazy nasienia skłonił dziesiątki tysięcy Afroamerykanów do emigracji na północ. Opuścili oni Alabamę na początku XX wieku i w wyniku Wielkiej Migracji przenieśli się do pracy w przemyśle i lepszej przyszłości w uprzemysłowionych miastach północy. Tempo wzrostu populacji w latach 1910-1920 spadło blisko o połowę. W tym samym czasie wielu rolników, zarówno białych jak i czarnych, przeniosło się do Birmingham znajdując zatrudnienie w rozwijającym się przemyśle. Miasto doznało tak szybkiego wzrostu populacji, że było nazywane \"The Magic City\", co znaczy magiczne miasto. W latach 20-stych Birmingham było 19. miastem Stanów Zjednoczonych pod względem ludności i mieszkało w nim ponad 30% mieszkańców całego stanu. Podstawą jego gospodarki był przemysł ciężki oraz górnictwo.Rozwój przemysłu napędzany potrzebami wojska w związku z II wojną światową przyniósł dobrobyt. Uprawa bawełny straciła na znaczeniu, a stan stał się bazą dla przemysłu i usług. W latach 60-tych wielu białych było przeciwnych polityce integracji rasowej w szkołach i obiektach użyteczności publicznej.\n",
            "Url: http://pl.wikipedia.org/wiki/?curid=97\n",
            "Index: 55839\n",
            "\n",
            "Title: 39 Pułk Piechoty Strzelców Lwowskich\n",
            "Paragraph: Założenia wychowania obywatelskiego przewidywały, aby żołnierz po odbyciu służby był czynny społecznie w życiu państwa i narodu. Za szczególnie ważne zadanie uważano opanowanie przez strzelców elementarnych umiejętności pisania, czytania i liczenia. Ze względu na wysoki odsetek analfabetów wśród poborowych organizowano żołnierskie szkoły początkowe. Program nauczania zawierał skrócony zakres szkoły powszechnej oraz wiadomości o prawach i obowiązkach żołnierza i obywatela.Istniała biblioteka pułkowa z filiami w kompaniach oraz czytelnia. W świetlicach pododdziałowych odbywały się pogadanki i wykłady oficerskie, słuchano radia i wyświetlano filmy. W 1939 roku zwrócono szczególną uwagę na podniesienie morale wojska wobec zagrożenia wojennego.\n",
            "Url: http://pl.wikipedia.org/wiki/?curid=1090066\n",
            "Index: 27411\n",
            "\n",
            "Title: Analfabetyzm funkcjonalny\n",
            "Paragraph: Analfabetyzm funkcjonalny - sytuacja, w której osoby nieposiadające wykształcenia lub posiadające formalne wykształcenie nie potrafią wykorzystać wiedzy do tego, by sprawnie funkcjonować w codziennym życiu w nowoczesnym społeczeństwie.Najczęściej pojęcie analfabetyzmu funkcjonalnego odnosi się do braku umiejętności poprawnego pisania, czytania ze zrozumieniem i prawidłowego dokonywania prostych obliczeń, rzadziej także do umiejętności obsługi współczesnych technologii, przede wszystkim technologii informacyjnych niezależnie od posiadania wiedzy na ich temat.\n",
            "Url: http://pl.wikipedia.org/wiki/?curid=199924\n",
            "Index: 78000\n",
            "\n",
            "\n",
            "========\n",
            "\n"
          ],
          "name": "stdout"
        },
        {
          "output_type": "error",
          "ename": "KeyboardInterrupt",
          "evalue": "ignored",
          "traceback": [
            "\u001b[0;31m---------------------------------------------------------------------------\u001b[0m",
            "\u001b[0;31mKeyboardInterrupt\u001b[0m                         Traceback (most recent call last)",
            "\u001b[0;32m/usr/local/lib/python3.6/dist-packages/ipykernel/kernelbase.py\u001b[0m in \u001b[0;36m_input_request\u001b[0;34m(self, prompt, ident, parent, password)\u001b[0m\n\u001b[1;32m    728\u001b[0m             \u001b[0;32mtry\u001b[0m\u001b[0;34m:\u001b[0m\u001b[0;34m\u001b[0m\u001b[0;34m\u001b[0m\u001b[0m\n\u001b[0;32m--> 729\u001b[0;31m                 \u001b[0mident\u001b[0m\u001b[0;34m,\u001b[0m \u001b[0mreply\u001b[0m \u001b[0;34m=\u001b[0m \u001b[0mself\u001b[0m\u001b[0;34m.\u001b[0m\u001b[0msession\u001b[0m\u001b[0;34m.\u001b[0m\u001b[0mrecv\u001b[0m\u001b[0;34m(\u001b[0m\u001b[0mself\u001b[0m\u001b[0;34m.\u001b[0m\u001b[0mstdin_socket\u001b[0m\u001b[0;34m,\u001b[0m \u001b[0;36m0\u001b[0m\u001b[0;34m)\u001b[0m\u001b[0;34m\u001b[0m\u001b[0;34m\u001b[0m\u001b[0m\n\u001b[0m\u001b[1;32m    730\u001b[0m             \u001b[0;32mexcept\u001b[0m \u001b[0mException\u001b[0m\u001b[0;34m:\u001b[0m\u001b[0;34m\u001b[0m\u001b[0;34m\u001b[0m\u001b[0m\n",
            "\u001b[0;32m/usr/local/lib/python3.6/dist-packages/jupyter_client/session.py\u001b[0m in \u001b[0;36mrecv\u001b[0;34m(self, socket, mode, content, copy)\u001b[0m\n\u001b[1;32m    802\u001b[0m         \u001b[0;32mtry\u001b[0m\u001b[0;34m:\u001b[0m\u001b[0;34m\u001b[0m\u001b[0;34m\u001b[0m\u001b[0m\n\u001b[0;32m--> 803\u001b[0;31m             \u001b[0mmsg_list\u001b[0m \u001b[0;34m=\u001b[0m \u001b[0msocket\u001b[0m\u001b[0;34m.\u001b[0m\u001b[0mrecv_multipart\u001b[0m\u001b[0;34m(\u001b[0m\u001b[0mmode\u001b[0m\u001b[0;34m,\u001b[0m \u001b[0mcopy\u001b[0m\u001b[0;34m=\u001b[0m\u001b[0mcopy\u001b[0m\u001b[0;34m)\u001b[0m\u001b[0;34m\u001b[0m\u001b[0;34m\u001b[0m\u001b[0m\n\u001b[0m\u001b[1;32m    804\u001b[0m         \u001b[0;32mexcept\u001b[0m \u001b[0mzmq\u001b[0m\u001b[0;34m.\u001b[0m\u001b[0mZMQError\u001b[0m \u001b[0;32mas\u001b[0m \u001b[0me\u001b[0m\u001b[0;34m:\u001b[0m\u001b[0;34m\u001b[0m\u001b[0;34m\u001b[0m\u001b[0m\n",
            "\u001b[0;32m/usr/local/lib/python3.6/dist-packages/zmq/sugar/socket.py\u001b[0m in \u001b[0;36mrecv_multipart\u001b[0;34m(self, flags, copy, track)\u001b[0m\n\u001b[1;32m    565\u001b[0m         \"\"\"\n\u001b[0;32m--> 566\u001b[0;31m         \u001b[0mparts\u001b[0m \u001b[0;34m=\u001b[0m \u001b[0;34m[\u001b[0m\u001b[0mself\u001b[0m\u001b[0;34m.\u001b[0m\u001b[0mrecv\u001b[0m\u001b[0;34m(\u001b[0m\u001b[0mflags\u001b[0m\u001b[0;34m,\u001b[0m \u001b[0mcopy\u001b[0m\u001b[0;34m=\u001b[0m\u001b[0mcopy\u001b[0m\u001b[0;34m,\u001b[0m \u001b[0mtrack\u001b[0m\u001b[0;34m=\u001b[0m\u001b[0mtrack\u001b[0m\u001b[0;34m)\u001b[0m\u001b[0;34m]\u001b[0m\u001b[0;34m\u001b[0m\u001b[0;34m\u001b[0m\u001b[0m\n\u001b[0m\u001b[1;32m    567\u001b[0m         \u001b[0;31m# have first part already, only loop while more to receive\u001b[0m\u001b[0;34m\u001b[0m\u001b[0;34m\u001b[0m\u001b[0;34m\u001b[0m\u001b[0m\n",
            "\u001b[0;32mzmq/backend/cython/socket.pyx\u001b[0m in \u001b[0;36mzmq.backend.cython.socket.Socket.recv\u001b[0;34m()\u001b[0m\n",
            "\u001b[0;32mzmq/backend/cython/socket.pyx\u001b[0m in \u001b[0;36mzmq.backend.cython.socket.Socket.recv\u001b[0;34m()\u001b[0m\n",
            "\u001b[0;32mzmq/backend/cython/socket.pyx\u001b[0m in \u001b[0;36mzmq.backend.cython.socket._recv_copy\u001b[0;34m()\u001b[0m\n",
            "\u001b[0;32m/usr/local/lib/python3.6/dist-packages/zmq/backend/cython/checkrc.pxd\u001b[0m in \u001b[0;36mzmq.backend.cython.checkrc._check_rc\u001b[0;34m()\u001b[0m\n",
            "\u001b[0;31mKeyboardInterrupt\u001b[0m: ",
            "\nDuring handling of the above exception, another exception occurred:\n",
            "\u001b[0;31mKeyboardInterrupt\u001b[0m                         Traceback (most recent call last)",
            "\u001b[0;32m<ipython-input-24-8522cc81ff6f>\u001b[0m in \u001b[0;36m<module>\u001b[0;34m()\u001b[0m\n\u001b[1;32m      1\u001b[0m \u001b[0mpassages\u001b[0m \u001b[0;34m=\u001b[0m \u001b[0mw\u001b[0m\u001b[0;34m[\u001b[0m\u001b[0;34m'paragraph'\u001b[0m\u001b[0;34m]\u001b[0m\u001b[0;34m.\u001b[0m\u001b[0mtolist\u001b[0m\u001b[0;34m(\u001b[0m\u001b[0;34m)\u001b[0m\u001b[0;34m[\u001b[0m\u001b[0;34m:\u001b[0m\u001b[0;36m100000\u001b[0m\u001b[0;34m]\u001b[0m\u001b[0;34m\u001b[0m\u001b[0;34m\u001b[0m\u001b[0m\n\u001b[1;32m      2\u001b[0m \u001b[0;32mwhile\u001b[0m \u001b[0;32mTrue\u001b[0m\u001b[0;34m:\u001b[0m\u001b[0;34m\u001b[0m\u001b[0;34m\u001b[0m\u001b[0m\n\u001b[0;32m----> 3\u001b[0;31m     \u001b[0mquery\u001b[0m \u001b[0;34m=\u001b[0m \u001b[0minput\u001b[0m\u001b[0;34m(\u001b[0m\u001b[0;34m\"Please enter a question: \"\u001b[0m\u001b[0;34m)\u001b[0m\u001b[0;34m\u001b[0m\u001b[0;34m\u001b[0m\u001b[0m\n\u001b[0m\u001b[1;32m      4\u001b[0m \u001b[0;34m\u001b[0m\u001b[0m\n\u001b[1;32m      5\u001b[0m     \u001b[0;31m#Encode the query using the bi-encoder and find potentially relevant passages\u001b[0m\u001b[0;34m\u001b[0m\u001b[0;34m\u001b[0m\u001b[0;34m\u001b[0m\u001b[0m\n",
            "\u001b[0;32m/usr/local/lib/python3.6/dist-packages/ipykernel/kernelbase.py\u001b[0m in \u001b[0;36mraw_input\u001b[0;34m(self, prompt)\u001b[0m\n\u001b[1;32m    702\u001b[0m             \u001b[0mself\u001b[0m\u001b[0;34m.\u001b[0m\u001b[0m_parent_ident\u001b[0m\u001b[0;34m,\u001b[0m\u001b[0;34m\u001b[0m\u001b[0;34m\u001b[0m\u001b[0m\n\u001b[1;32m    703\u001b[0m             \u001b[0mself\u001b[0m\u001b[0;34m.\u001b[0m\u001b[0m_parent_header\u001b[0m\u001b[0;34m,\u001b[0m\u001b[0;34m\u001b[0m\u001b[0;34m\u001b[0m\u001b[0m\n\u001b[0;32m--> 704\u001b[0;31m             \u001b[0mpassword\u001b[0m\u001b[0;34m=\u001b[0m\u001b[0;32mFalse\u001b[0m\u001b[0;34m,\u001b[0m\u001b[0;34m\u001b[0m\u001b[0;34m\u001b[0m\u001b[0m\n\u001b[0m\u001b[1;32m    705\u001b[0m         )\n\u001b[1;32m    706\u001b[0m \u001b[0;34m\u001b[0m\u001b[0m\n",
            "\u001b[0;32m/usr/local/lib/python3.6/dist-packages/ipykernel/kernelbase.py\u001b[0m in \u001b[0;36m_input_request\u001b[0;34m(self, prompt, ident, parent, password)\u001b[0m\n\u001b[1;32m    732\u001b[0m             \u001b[0;32mexcept\u001b[0m \u001b[0mKeyboardInterrupt\u001b[0m\u001b[0;34m:\u001b[0m\u001b[0;34m\u001b[0m\u001b[0;34m\u001b[0m\u001b[0m\n\u001b[1;32m    733\u001b[0m                 \u001b[0;31m# re-raise KeyboardInterrupt, to truncate traceback\u001b[0m\u001b[0;34m\u001b[0m\u001b[0;34m\u001b[0m\u001b[0;34m\u001b[0m\u001b[0m\n\u001b[0;32m--> 734\u001b[0;31m                 \u001b[0;32mraise\u001b[0m \u001b[0mKeyboardInterrupt\u001b[0m\u001b[0;34m\u001b[0m\u001b[0;34m\u001b[0m\u001b[0m\n\u001b[0m\u001b[1;32m    735\u001b[0m             \u001b[0;32melse\u001b[0m\u001b[0;34m:\u001b[0m\u001b[0;34m\u001b[0m\u001b[0;34m\u001b[0m\u001b[0m\n\u001b[1;32m    736\u001b[0m                 \u001b[0;32mbreak\u001b[0m\u001b[0;34m\u001b[0m\u001b[0;34m\u001b[0m\u001b[0m\n",
            "\u001b[0;31mKeyboardInterrupt\u001b[0m: "
          ]
        }
      ]
    },
    {
      "cell_type": "code",
      "metadata": {
        "colab": {
          "base_uri": "https://localhost:8080/",
          "height": 1000
        },
        "id": "MXCIp9t0GL5k",
        "outputId": "7411d870-2384-4d6c-8b88-79906aabf39a"
      },
      "source": [
        "passages = w['paragraph'].tolist()[:100000]\r\n",
        "while True:\r\n",
        "    query = input(\"Please enter a question: \")\r\n",
        "\r\n",
        "    #Encode the query using the bi-encoder and find potentially relevant passages\r\n",
        "    start_time = time.time()\r\n",
        "    question_embedding = bi_encoder.encode(query, convert_to_tensor=True)\r\n",
        "    hits = util.semantic_search(question_embedding, corpus_embeddings, top_k=top_k)\r\n",
        "    hits = hits[0]  # Get the hits for the first query\r\n",
        "\r\n",
        "    #Now, score all retrieved passages with the cross_encoder\r\n",
        "    #cross_inp = [[query, passages[hit['corpus_id']]] for hit in hits]\r\n",
        "    #cross_scores = cross_encoder.predict(cross_inp)\r\n",
        "\r\n",
        "    #Sort results by the cross-encoder scores\r\n",
        "    #for idx in range(len(cross_scores)):\r\n",
        "        #hits[idx]['cross-score'] = cross_scores[idx]\r\n",
        "\r\n",
        "    #hits = sorted(hits, key=lambda x: x['cross-score'], reverse=True)\r\n",
        "    end_time = time.time()\r\n",
        "\r\n",
        "    #Output of top-5 hits\r\n",
        "    print(\"Input question:\", query)\r\n",
        "    print(\"Results (after {:.3f} seconds):\".format(end_time - start_time))\r\n",
        "    for hit in hits[0:5]:\r\n",
        "        index = hit['corpus_id']\r\n",
        "        article = w.iloc[index]\r\n",
        "        print('\\nTitle:', article['title'])\r\n",
        "        print('Paragraph:', article['paragraph'])\r\n",
        "        print('Url:', article['url'])\r\n",
        "        print('Index:', index)\r\n",
        "    print(\"\\n\\n========\\n\")"
      ],
      "execution_count": 25,
      "outputs": [
        {
          "output_type": "stream",
          "text": [
            "Please enter a question: substancja do zmywania lakieru do paznokci\n",
            "Input question: substancja do zmywania lakieru do paznokci\n",
            "Results (after 0.241 seconds):\n",
            "\n",
            "Title: Amorolfina\n",
            "Paragraph: Lek stosowany zewnętrznie, częstotliwość oraz czas trwania stosowania ustala lekarz, zwykle lakier stosuje się 1–2 razy w tygodniu. Leczenie paznokci u rąk trwa ok. 6 miesięcy, natomiast paznokci u stóp 9–12 miesięcy.\n",
            "Url: http://pl.wikipedia.org/wiki/?curid=1769620\n",
            "Index: 76741\n",
            "\n",
            "Title: Amorolfina\n",
            "Paragraph: W trakcie leczenia amorolfiną używanie kosmetycznych lakierów oraz naklejanie sztucznych paznokci jest niewskazane. Stosowanie leku u kobiet w ciąży jest wskazane w przypadku zdecydowanej konieczności. Nie stosować w okresie karmienia piersią.\n",
            "Url: http://pl.wikipedia.org/wiki/?curid=1769620\n",
            "Index: 76740\n",
            "\n",
            "Title: Afinacja\n",
            "Paragraph: Afinacja - oczyszczanie substancji z domieszek. Proces stosowany głównie w cukrowniach do oczyszczania cukru, również do wydobywania z rudy metali szlachetnych.\n",
            "Url: http://pl.wikipedia.org/wiki/?curid=1119681\n",
            "Index: 47810\n",
            "\n",
            "Title: Aceton\n",
            "Paragraph: Aceton jest powszechnie stosowanym rozpuszczalnikiem organicznym o dużej polarności. Rozpuszcza większość miękkich tworzyw sztucznych, lakiery, tłuszcze, oleje (nawet nagar silnikowy). . Stosuje się go przy produkcji leków, barwników, farb, lakierów i środków czyszczących. Jest często stosowany jako składnik zmywacza do paznokci.Aceton może być wykorzystywany jako prekursor do produkcji narkotyków i w związku z tym obrót nim podlega w Polsce kontroli, zgodnie z Ustawą o Przeciwdziałaniu Narkomanii (Dz. U. z 2005 roku Nr 179 poz. 1485) oraz rozporządzeniami Wspólnoty Europejskiej. Jednak z uwagi na to, że aceton należy do prekursorów niskiej kategorii (trzeciej), przepisy nie ograniczają jego dostępności w handlu detalicznym.\n",
            "Url: http://pl.wikipedia.org/wiki/?curid=42\n",
            "Index: 40335\n",
            "\n",
            "Title: Akwamaryna (kolor)\n",
            "Paragraph: Akwamaryna – zielono-niebieski pigment mineralny pochodzenia naturalnego lub syntetycznego, stosowany do produkcji farb, lakierów i emalii oraz jako środek barwiący wielu innych substancji, w tym także jako wybielacz optyczny.\n",
            "Url: http://pl.wikipedia.org/wiki/?curid=2275775\n",
            "Index: 54814\n",
            "\n",
            "\n",
            "========\n",
            "\n",
            "Please enter a question: leki na choroby bakteryjne\n",
            "Input question: leki na choroby bakteryjne\n",
            "Results (after 0.235 seconds):\n",
            "\n",
            "Title: Antybiotyki\n",
            "Paragraph: Działanie antybiotyków polega na powodowaniu śmierci komórki bakteryjnej (działanie bakteriobójcze) lub wpływaniu w taki sposób na jej metabolizm, aby ograniczyć jej możliwości rozmnażania się (działanie bakteriostatyczne).Leczenie chorób zakaźnych polega na zabiciu drobnoustrojów wywołujących chorobę. Trudność terapii, z którą borykali się lekarze przed erą antybiotyków polega na tym, żeby znaleźć środek jednocześnie zabójczy dla chorobotwórczych bakterii i bezpieczny dla gospodarza.Antybiotyki zazwyczaj zakłócają procesy metaboliczne drobnoustrojów. Podstawą terapii antybiotykami jest zasada selektywnej toksyczności Ehrliha, zgodnie z którą, antybiotykiem jest substancja, która w organizmie, w stężeniu nie wykazującym większej toksyczności dla ludzi i zwierząt wyższych, powoduje uszkodzenie lub śmierć drobnoustrojów. Można to osiągnąć przez stosowanie substancji oddziałujących na takie struktury, które są obecne w komórkach drobnoustrojów, a których nie ma w organizmie człowieka lub występują w nim w innej formie. \n",
            "Url: http://pl.wikipedia.org/wiki/?curid=110\n",
            "Index: 97737\n",
            "\n",
            "Title: Antybiotyki przeciwprątkowe\n",
            "Paragraph: Antybiotyki przeciwprątkowe to leki bakteriobójcze i bakteriostatyczne w stosunku do prątka gruźlicy, obecnie najczęściej wykorzystywane w leczeniu gruźlicy są następujące leki: Leki są stosowane w połączeniach trój- i czterolekowych, w celu zapobiegania wytworzenia się\n",
            "Url: http://pl.wikipedia.org/wiki/?curid=76089\n",
            "Index: 97744\n",
            "\n",
            "Title: Antybiotyki\n",
            "Paragraph: Antybiotyki (z greki \"anti\" – przeciw, \"bios\" – życie) – naturalne, wtórne produkty metabolizmu drobnoustrojów, które działając wybiórczo w niskich stężeniach wpływają na struktury komórkowe lub procesy metaboliczne innych drobnoustrojów hamując ich wzrost i podziały. Antybiotyki są przedmiotem badań auksanografii, stosuje się je jako leki w leczeniu wszelkiego rodzaju zakażeń bakteryjnych. Bywają także używane profilaktycznie w zapobieganiu zakażeniom bakteryjnym w przypadku osłabienia odporności, np. neutropenii, a także w profilaktyce bakteryjnego zapalenia wsierdzia.\n",
            "Url: http://pl.wikipedia.org/wiki/?curid=110\n",
            "Index: 97734\n",
            "\n",
            "Title: Aminoglikozydy\n",
            "Paragraph: Aminoglikozydy, antybiotyki aminoglikozydowe (ATC J 01 G) − grupa bakteriobójczych antybiotyków o szczególnym znaczeniu w zwalczaniu groźnych zakażeń wywołanych bakteriami Gram ujemnymi.\n",
            "Url: http://pl.wikipedia.org/wiki/?curid=487814\n",
            "Index: 76295\n",
            "\n",
            "Title: Angina\n",
            "Paragraph: Angina (łac. \"angina\", zapalenie gardła) – w najczęstszym rozumieniu ostre zapalenie migdałków podniebiennych i błony śluzowej gardła, wywołane przez bakterie paciorkowce β-hemolizujące z grupy A. Jest chorobą zakaźną przenoszoną drogą kropelkową.\n",
            "Url: http://pl.wikipedia.org/wiki/?curid=223069\n",
            "Index: 88280\n",
            "\n",
            "\n",
            "========\n",
            "\n",
            "Please enter a question: brak władzy w kraju\n",
            "Input question: brak władzy w kraju\n",
            "Results (after 0.238 seconds):\n",
            "\n",
            "Title: Anarchia\n",
            "Paragraph: Anarchia ( – \"bez władcy\") – forma struktury społeczno-politycznej, w której nie ma żadnej ukonstytuowanej władzy.W rozumieniu politycznym (w anarchizmie) to taka struktura, w której państwo zostaje zastąpione przez nieprzymusową i niescentralizowaną organizację społeczeństwa (np. federację autonomicznych miejscowości).\n",
            "Url: http://pl.wikipedia.org/wiki/?curid=26\n",
            "Index: 78499\n",
            "\n",
            "Title: Absolutum dominium\n",
            "Paragraph: Absolutum dominium (łac. \"nieograniczona władza\") - określenie używane w Polsce XVI-XVIII wieku, w którym szlachta piętnowała dążenia króla do wzmocnienia władzy monarszej. Polska szlachta obawiała się, że królowie (przede wszystkim z dynastii Wazów) będą dązyli do formy rządów, w której władca skupia w swym ręku pełnię niekontrolowanej władzy. W rzeczywistości chodziło o to, by pełnia władzy w królestwie znalazła się w rękach oligarchii magnackich i ich szlacheckiej klienteli. To doprowadziło w konsekwencji do upadku I Rzeczypospolitej w końcu XVIII wieku.\n",
            "Url: http://pl.wikipedia.org/wiki/?curid=453032\n",
            "Index: 39485\n",
            "\n",
            "Title: Absorpcja krajowa\n",
            "Paragraph: Absorpcja krajowa to zużycie dóbr na potrzeby konsumpcji i inwestycji oraz wydatków rządowych.Dążenie do zwiększenia absorpcji krajowej jest zasadniczą przyczyną korzystania przez kraj z kredytów zagranicznych.W gospodarce możliwa jest sytuacja, że wielkość dochodu narodowego wytworzonego w danym kraju nie jest równa sumie dóbr przeznaczonych na inwestycje, konsumpcję i wydatki rządowe. Dzieje się tak wtedy, gdy wielkość importu nie jest równa wielkości eksportu. Jeżeli eksport będzie większy od importu, to wielkość dochodu narodowego wytworzonego w kraju będzie większa od wielkości dochodu narodowego podzielonego. W ten sposób wartość eksportu netto wpływa na wielkość środków, jakie państwo może przeznaczyć na inwestycje i konsumpcję. W gospodarce zamkniętej państwo może wpływać na ich wielkość jedynie poprzez zwiększenie jednego z tych agregatów kosztem drugiego. Uwzględniając rachunek eksportu i importu, istnieje możliwość zmiany wielkości przeznaczonej na inwestycje bez zmiany wielkości konsumpcji i odwrotnie. Umożliwia też łączne zwiększenie wielkości absorpcji ponad wielkość dochodu wytworzonego w kraju. Ma to miejsce wówczas, gdy eksport danego kraju jest mniejszy od jego importu i kraj korzysta z kredytów zagranicznych. Presja na korzystanie z tego typu pożyczek pojawia się, gdy kraj w wyniku oddziaływania czynników zewnętrznych (spadek popytu na rynku światowym) lub wewnętrznych (ograniczenie możliwości eksportowych) ma trudności ze zrównoważeniem bilansu handlowego bez prowadzenia polityki ograniczania inwestycji lub konsumpcji. Możliwość utrzymywania przez pewien czas nadwyżki importu nad eksportem ma duży znaczenie dla dynamiki wzrostu gospodarczego. Oprócz korzyści związanych z utrzymywaniem nadwyżki importu nad eksportem zaciąganie zagranicznych kredytów powoduje powstawanie zobowiązań finansowych wobec zagranicy. W dłuższym okresie dany kraj musi osiągnąć nadwyżkę eksportu nad importem pozwalających na spłatę powstałych zobowiązań. W przeciwnym wypadku kraj nie będzie w stanie wywiązać się z obsługi długu i będzie zmuszony do zaciągania kredytów w celu spłaty zadłużenia bądź podjęcia rokowań w celu odroczenia spłaty zobowiązań płatniczych.\n",
            "Url: http://pl.wikipedia.org/wiki/?curid=539000\n",
            "Index: 39529\n",
            "\n",
            "Title: 451 stopni Fahrenheita (utwór)\n",
            "Paragraph: Świat, który stworzył Bradbury, to świat przyszłości, w której wielką potęgą stają się Stany Zjednoczone, uważające się za jedno z najsilniejszych państw i prowadzące bezmyślną wojnę z wszystkimi krajami świata. Jednak w samych Stanach nie odczuwa się tego. Domy zbudowane z niepalnych materiałów dają mieszkańcom poczucie bezpieczeństwa.W tym świecie zakazana została wszelka literatura, nie wolno czytać książek oraz ich posiadać. Ich usuwaniem zajmują się specjalnie wyselekcjonowani i wyszkoleni strażacy, a znalezione przez nich książki zostają spalone. Ludzie w wielkim stopniu są zmanipulowani przez media, pokazujące w kolorowych barwach nawet największe katastrofy i klęski. Zachwiana została również wartość rodziny, bo żony nie martwią się o mężów, a dzieci są traktowane jak niepotrzebny ciężar. Uczniowie na zajęciach w szkołach uczą się tylko z filmów, co powoduje ich zezwierzęcenie. Odreagowują w specjalnych „wesołych miasteczkach”, gdzie gabinet luster zastąpiony został tłuczeniem szyb, a samochodziki i karuzele super szybkimi samochodami. Dorośli, swój wolny czas poświęcają interaktywnemu programowi telewizyjnemu „Rodzinka”, gdzie mogą odgrywać swoją własną „rolę”, nie ruszając się z domu.\n",
            "Url: http://pl.wikipedia.org/wiki/?curid=600497\n",
            "Index: 28555\n",
            "\n",
            "Title: Akt Supremacji\n",
            "Paragraph: Akt supremacji (ang. \"Act of Supremacy\") to ustawa uchwalona przez parlament angielski w roku 1534 (przywrócona później w 1559), która przyznała władcy Anglii tytuł głowy kościoła anglikańskiego oraz uniezależniła faktycznie angielskie duchowieństwo od papiestwa.\n",
            "Url: http://pl.wikipedia.org/wiki/?curid=508171\n",
            "Index: 54446\n",
            "\n",
            "\n",
            "========\n",
            "\n",
            "Please enter a question: stan, w którym w państwie nie ma władzy\n",
            "Input question: stan, w którym w państwie nie ma władzy\n",
            "Results (after 0.237 seconds):\n",
            "\n",
            "Title: Anarchia\n",
            "Paragraph: Anarchia ( – \"bez władcy\") – forma struktury społeczno-politycznej, w której nie ma żadnej ukonstytuowanej władzy.W rozumieniu politycznym (w anarchizmie) to taka struktura, w której państwo zostaje zastąpione przez nieprzymusową i niescentralizowaną organizację społeczeństwa (np. federację autonomicznych miejscowości).\n",
            "Url: http://pl.wikipedia.org/wiki/?curid=26\n",
            "Index: 78499\n",
            "\n",
            "Title: 51. stan\n",
            "Paragraph: 51. stan (ang. \"51st State\") – określenie hipotetycznego kolejnego stanu Stanów Zjednoczonych. Nazwę tę najczęściej stosuje się w odniesieniu do Portoryko, a także Waszyngtonu czy terytoriów nieinkorporowanych. Wyrażenie \"51. stan\" użyte w sensie negatywnym może oznaczać niepodległe państwo, które znajduje się pod nadmiernym wpływem USA, bądź jest jako takie postrzegane. Przed przyłączeniem do Stanów Zjednoczonych Hawajów i Alaski w tym samym kontekście funkcjonowało pojęcie 49. stanu.\n",
            "Url: http://pl.wikipedia.org/wiki/?curid=2239790\n",
            "Index: 29528\n",
            "\n",
            "Title: Administracja publiczna\n",
            "Paragraph: Monizm administracji publicznej, polega na istnieniu w danym państwie wyłącznie administracji państwowej. Wówczas nie występuje rzeczywisty samorząd, czyli nie ma podziału na administrację rządową i samorządową. Tak dzieje się w państwach totalitarnych, także wówczas gdy istnieją instytucje samorządowe z nazwy (tzw. fasadowe), które faktycznie samorządem nie są. Tak było np. w PRL. Rad narodowych nie można przecież nazwać samorządem. Ani nie pochodziły z wyborów, ani nie cieszyły się niezależnością.Natomiast dualizm administracji publicznej, to podział administracji publicznej na rządową i samorządową. Jest podstawową zasadą w państwach demokratycznych. Wiąże się z decentralizacją.\n",
            "Url: http://pl.wikipedia.org/wiki/?curid=392243\n",
            "Index: 44927\n",
            "\n",
            "Title: 51. stan\n",
            "Paragraph: Portoryko zostało zajęte przez USA w roku 1898. Od 1917 Portorykańczycy mają amerykańskie obywatelstwo. Ostateczny status polityczny wyspy nie został dotąd ustalony. Portoryko nie ma reprezentacji w Kongresie, jednak ma tam pełnomocnika. Obywatele nie biorą udziału w wyborach prezydenckich, nie płacą też federalnych podatków od dochodów wytworzonych na wyspie. Posiadają paszport USA jak i prawo do swobodnego osiedlania się na terytorium Stanów, a ci którzy z tego prawa skorzystają automatycznie nabierają prawa do głosowania w wyborach.Portoryko ma autonomię w ramach stowarzyszenia z USA. Niektórzy mieszkańcy wyspy domagają się pełnej niepodległości, inni z kolei chcą pełnej integracji ze Stanami Zjednoczonymi i przekształcenia wyspy w kolejny amerykański stan. Rząd federalny USA nakazał wyspie przyjęcie własnej konstytucji w 1951, w której kraj ten określony jest jako \"Wspólnota Portoryka\".Akt Demokratyczny Portoryka (HR 2499) to projekt ustawy przewidujący federalne zapewnienie procesu samostanowienia dla mieszkańców wyspy. Ustawa ta zapewni plebiscyty, które odbędą się w Portoryko, w celu określenia ostatecznego statusu politycznego wyspy. Został wprowadzony dwa razy w Kongresie Stanów Zjednoczonych, najpierw w 2007 i ponownie w 2009. 29 kwietnia 2010 Izba Reprezentantów zagłosowała 223–169 za przyjęciem HR 2499, dotąd jednak nie odbyło się głosowanie w Senacie.Gdyby Portoryko zostało 51. stanem, miałoby 27. miejsce pod względem populacji i 6 miejsc w Izbie Reprezentantów.Uczynienie wyspy stanem jest forsowane przez Nową Postępową Partię Portoryko (hiszp. \"Partido Nuevo Progresista de Puerto Rico\", \"PNP\"). Zarówno Partia Demokratyczna i Partia Republikańska, wyraziły swoje poparcie dla praw obywateli Stanów Zjednoczonych w Portoryko w celu określenia przyszłego statusu politycznego w formie nieterytorialnej.Gubernator Luis Fortuno ogłosił, że pod koniec marca 2011 jego Nowa Partia Postępowa, która dominuje w rządzie, dokona dwuczęściowego plebiscytu w celu określenia statusu Portoryko. W pierwszej turze głosowania, które odbędzie się pod koniec 2011, Portorykańczycy będą mieli do wyboru trzy opcje: dołączenie jako 51. stan, zachowanie obecnego statusu wyspy i pełna niepodległość. Druga tura odbędzie się w pierwszym kwartale 2013.W czerwcu 2011 odbyła się pierwsza od 50 lat wizyta amerykańskiego prezydenta w Portoryko. Barack Obama odwiedził wyspę by ubiegać się o głosy portorykańczyków mieszkających na terenie USA.6 listopada 2012 roku na wyspie odbyło się referendum ws. statusu wyspy, w którym mieszkańcy odpowiedzieli na dwa pytania: Czy chcą utrzymać dotychczasowy status wyspy? oraz Którą z opcji zmiany statusu wyspy preferują. Opcjami do wyboru były: przyłączenie do Stanów Zjednoczonych jako 51. Stan, niepodległość oraz \"suwerenne wolne stowarzyszenie\", czyli zwiększenie autonomii od USA. Na pierwsze pytanie 934 238 osób (54%) odpowiedziało negatywnie, a 796 007 osób (46%) poparło utrzymanie status quo. W drugim pytaniu większość (802 179 głosujących - 61,2%) poparła ideę przyłączenia do Stanów Zjednoczonych, 436 997 osób (33,3%) zwiększenie autonomii, a 72 551 głosujących (5,5%) proklamowanie niepodległości.\n",
            "Url: http://pl.wikipedia.org/wiki/?curid=2239790\n",
            "Index: 29529\n",
            "\n",
            "Title: Akrecja (prawo)\n",
            "Paragraph: Akrecja – to przyrost obszaru państwa spowodowane działaniem siły Coriolisa. Siła ta powoduje, iż rzeki płynące na północnej półkuli podmywają brzeg prawy, a na południu - lewy, co powoduje przyrost obszaru jednego państwa, a ubytek u drugiego. Nabycie obszaru w wyniku akrecji jest traktowane jako rodzaj pierwotnego nabycia terytorium i nie wymaga od państwa żadnych działań o charakterze prawnym. \n",
            "Url: http://pl.wikipedia.org/wiki/?curid=136701\n",
            "Index: 54121\n",
            "\n",
            "\n",
            "========\n",
            "\n",
            "Please enter a question: nieumiejętność czytania i pisania\n",
            "Input question: nieumiejętność czytania i pisania\n",
            "Results (after 0.236 seconds):\n",
            "\n",
            "Title: Aleksja (medycyna)\n",
            "Paragraph: Aleksja (), niezdolność czytania – zaburzenie objawiające się częściową lub całkowitą niezdolnością rozumienia słowa pisanego (drukowanego). Osoby na nią cierpiące nie mają zaburzeń wzroku czy słuchu i potrafią rozumieć słowa wymawiane.Jej przyczyną jest uszkodzenie lewej półkuli mózgu, co uniemożliwia przez człowieka powiązania danego dźwięku z prawidłowo rozpoznawaną literą .W terminologii angielskiej zaburzenie to czasami jest nazywane \"word blindness\" (\"ślepota na słowa\") lub \"visual aphasia\" (\"afazja wzrokowa\"). Czysta aleksja nazywana też czystą ślepotą słów lub aleksją bez agrafii to skrajny przypadek, w którym osoba dotknięta aleksją zachowała zdolność pisania (spontanicznie i pod\n",
            "Url: http://pl.wikipedia.org/wiki/?curid=165045\n",
            "Index: 63891\n",
            "\n",
            "Title: Analfabetyzm funkcjonalny\n",
            "Paragraph: Analfabetyzm funkcjonalny - sytuacja, w której osoby nieposiadające wykształcenia lub posiadające formalne wykształcenie nie potrafią wykorzystać wiedzy do tego, by sprawnie funkcjonować w codziennym życiu w nowoczesnym społeczeństwie.Najczęściej pojęcie analfabetyzmu funkcjonalnego odnosi się do braku umiejętności poprawnego pisania, czytania ze zrozumieniem i prawidłowego dokonywania prostych obliczeń, rzadziej także do umiejętności obsługi współczesnych technologii, przede wszystkim technologii informacyjnych niezależnie od posiadania wiedzy na ich temat.\n",
            "Url: http://pl.wikipedia.org/wiki/?curid=199924\n",
            "Index: 78000\n",
            "\n",
            "Title: Analfabetyzm\n",
            "Paragraph: Analfabetyzm (gr. \"αναλφαβετος\" \"nieznający liter\") – w rozumieniu potocznym, brak umiejętności pisania i czytania oraz wykonywania czterech podstawowych działań matematycznych u osób dorosłych, tj. według kryteriów UNESCO – powyżej 15. roku życia. Osoby nie posiadające takiej umiejętności nazywane są \"analfabetami\". Kryteria statystyczne są niejednolite i nieprecyzyjne. Jako liczbę analfabetów, zwykle przyjmuje się liczbę osób bez określonego w danym kraju, minimalnego poziomu szkolnej edukacji, np. bez szkoły podstawowej, lub np. bez ukończonych jej czterech pierwszych klas W praktyce oznacza to, że imigrant, także absolwent uczelni, po przeniesieniu się na stałe do innego kraju, jeśli nie zadbał o uznanie tu swej edukacji, w statystyce zostanie ujęty jako analfabeta.W krajach Trzeciego Świata problem analfabetyzmu sięga kilkunastu, a nawet kilkudziesięciu procent mieszkańców. Obecnie szacuje się, że w Europie jest 3% analfabetów, w Ameryce Pd. - 15%, w Azji - 33%, a w Afryce - 50%.W Polsce analfabetyzm był spuścizną po polityce zaborców, którzy dążyli do ograniczania szkolnictwa. W 1914 na ziemiach polskich było: 57% analfabetów w zaborze rosyjskim, 40% w Galicji i 5% w zaborze pruskim. Według statystyk w Polsce w 1921 było 33,1% analfabetów, w 1931 - 23,1%, w 1960 - 2,7%, w 1978 - 1,2%.Nie jest łatwa ocena skali analfabetyzmu wtórnego oraz funkcjonalnego (dot. niemożności zrozumienia i wykorzystania drukowanych informacji oraz przedstawień graficznych tj. ikon, wykresów, diagramów), czyli praktycznej niezdolności posługiwania się słowem pisanym: braku zrozumienia treści najprostszych instrukcji, braku umiejętności wypełnienia najprostszych formularzy. Podobnie jest z analfabetyzmem matematycznym, czyniącym ludzi niezdolnymi do sprawdzenia rachunku w kasie sklepowej, nie mówiąc o obliczeniu podatków. Badanie tych zagadnień daje czasem bardzo różne wyniki, w zależności od przyjętych kryteriów. Odsetek ten nawet w bogatych krajach może sięgać 50 i więcej procent. Ocenia się np., że 77% Amerykanów, 47% Polaków i 28% Szwedów ma problemy ze zrozumieniem tekstów, a mianem sprawnych językowo można nazwać w tych trzech krajach odpowiednio tylko 2%, 21% i 32% mieszkańców (według \"International Adult Literacy Society\"). Jakkolwiek zwalczanie analfabetyzmu pierwotnego udaje się metodami stosunkowo prostymi (choć dla biednych krajów nawet one bywają zbyt kosztowne) - przez zapewnienie wszystkim dzieciom podstawowej edukacji, tak zjawisko pojawiania się analfabetyzmu wtórnego jest znacznie trudniejsze do opanowania i wiązać się musi z upowszechnieniem czytelnictwa wśród ogółu ludności - zachęcania do korzystania z bibliotek, księgarni, prasy, internetu.\n",
            "Url: http://pl.wikipedia.org/wiki/?curid=141098\n",
            "Index: 77999\n",
            "\n",
            "Title: Andrzej Niemojewski\n",
            "Paragraph: Poezje, poematy, dramaty, opowiadania, szkice, krytyka literacka etc. oraz studia biblijne i prace astralistyczne.\n",
            "Url: http://pl.wikipedia.org/wiki/?curid=65080\n",
            "Index: 84767\n",
            "\n",
            "Title: Akta (ujednoznacznienie)\n",
            "Paragraph: Literatura, adaptacje\n",
            "\n",
            "Url: http://pl.wikipedia.org/wiki/?curid=2854471\n",
            "Index: 54509\n",
            "\n",
            "\n",
            "========\n",
            "\n",
            "Please enter a question: sposób malowania farbami wodnymi\n",
            "Input question: sposób malowania farbami wodnymi\n",
            "Results (after 0.241 seconds):\n",
            "\n",
            "Title: Akwarela\n",
            "Paragraph: Akwarela − nazwa techniki malarskiej i jednocześnie nazwa obrazów wykonywanych tą techniką. Technika ta polega na malowaniu rozcieńczonymi w wodzie pigmentami na porowatym papierze, który szybko wchłania wodę. Rozcieńczone pigmenty nie pokrywają całkowicie faktury papieru, lecz pozostawiają ją dobrze widoczną. Z tego względu na efekt końcowy bardzo duży wpływ ma barwa i faktura samego papieru.Obrazy malowane tą techniką mają zwykle delikatną, zwiewną kolorystykę, gdyż możliwe tutaj do uzyskania barwy to głównie barwy pastelowe. Technikę tę stosuje się do tematów, które wymagają tego rodzaju kolorystyki i jednocześnie nie wymagają \"cyzelowania\" detali - stosuje się ją więc do pejzaży, \"zwiewnych\" portretów itp.Akwarela jest jedną z tańszych technik malarskich, lecz jest ona bardzo trudna, gdyż nie daje prawie żadnej możliwości dokonywania poprawek i retuszy. W szczególności, nie można usunąć namalowanego fragmentu, a jedynie przerobić go, i to też w niewielkim stopniu. Przyczyną jest fakt, iż nie można w tej technice stosować krycia farbą. Stąd też właściwie nie używa się tu białej farby - na papierze nic nie zasłoni, a zamalowany obszar można w ostateczności nieco rozjaśnić, malując zamalowane miejsce samą wodą, co jednak powoduje przy okazji rozszerzenie się barwnej plamy. Również nakładanie jasnych kolorów na ciemniejsze nie rozjaśnia ich, a jedynie zmienia odcień. Wyraźniejszą zmianę daje jedynie nałożenie ciemniejszej barwy na jaśniejszą, jednak praktycznie cała akwarela jest transparentna, czyli przezroczysta. Farby miesza się na paletce, ponieważ nakładanie bezpośrednio pigmentu na papier daje \"sztuczny\" efekt. Kolor utworzony na paletce (najlepiej plastikowej) nakładamy na papier.\n",
            "Url: http://pl.wikipedia.org/wiki/?curid=165\n",
            "Index: 54825\n",
            "\n",
            "Title: Adam i Ewa (rysunek Leonarda da Vinci)\n",
            "Paragraph: Leonardo zastosował przy sporządzaniu obrazu technikę rysowania pędzlem w czarnej i białej tonacji, z rozświetleniami bielą ołowianą. Podobną technikę zastosował przy wykonywaniu obrazu \"Pokłon Trzech Króli\".\n",
            "Url: http://pl.wikipedia.org/wiki/?curid=810138\n",
            "Index: 43765\n",
            "\n",
            "Title: Adam Tarnawski\n",
            "Paragraph: Adam Tarnawski (ur. 24 grudnia 1923 w Przemyślu) – artysta malarz, twórca nowego stylu malarskiego – kodyzmu, będącego obrazowaniem treści literackich barwnym alfabetem.\n",
            "Url: http://pl.wikipedia.org/wiki/?curid=2453831\n",
            "Index: 43480\n",
            "\n",
            "Title: 101A\n",
            "Paragraph: Wagony 101A były początkowo malowane na oliwkowo. W latach osiemdziesiątych zostały przemalowane na zielono-biało. Część wagonów tego typu dostało malowanie żółto-błękitne podobne do ówczesnego malowania EN57.\n",
            "Url: http://pl.wikipedia.org/wiki/?curid=1495640\n",
            "Index: 18992\n",
            "\n",
            "Title: Aerograf\n",
            "Paragraph: Aerograf – miniaturowy \"pistolet\" do malowania precyzyjnego. Ręczne narzędzie niewielkich rozmiarów, służące do malowania metodą rozpylania farby przez strumień powietrza. Ślad farby charakteryzuje się równomiernym kryciem z rozmytymi brzegami.Malować można swobodnie – nanosząc farbę bezpośrednio na pokrywaną powierzchnię, lub poprzez odpowiednie szablony. Aerograf służy zarówno do malowania powierzchni płaskich, jak i przedmiotów o skomplikowanych kształtach. Umożliwia malowanie precyzyjnych szczegółów. Stosowany jest w pracach retuszerskich, konserwatorskich, modelarskich, rzemieślniczym zdobieniu niewielkich przedmiotów, a także jako technika artystyczna (aerografika). Stosowanie wymiennych końcówek (na końcówkę składa się: dysza, łuska oraz iglica) umożliwia dobór kształtu i szerokości strumienia oraz rozmycia lub wyostrzenia krawędzi malowanych detali – odpowiednio do wykonywanej pracy.Charakterystyczną cechą przy używaniu tej techniki malowania artystycznego jest sposób tworzenia się kolorów pośrednich – odcieni przez nakładanie na siebie kolorów podstawowych. Chcąc uzyskać np. barwę szarą można zastosować farbę czarną położoną w odpowiedniej ilości na białe tło. Technika ta przypomina trochę malarstwo laserunkowe znane od dawna w sztuce, jednak ze względu na jakość tworzonych przy jego użyciu przejść tonalnych stanowi kolejny krok na drodze dążenia do ideału w malarstwie hiperrealistycznym i tam chyba należy umiejscawiać tę sztukę. Trzeba jednak zaznaczyć, że malarze hiperrealistyczni posługujący się tradycyjnymi technikami – pędzlami i farbami olejnymi, akrylowymi dość podejrzliwie patrzą na twórców, którzy używają aerografów, zarzucając im zbytnie stechnicyzowanie hiperrealizmu i uprawianie tzw. \"sztuki dla sztuki\".Jednym z najbardziej znanych malarzy współczesnych używających aerografu w swoich pracach jest Hajime Sorayama, japoński hiperrealista.Właśnie ze względu na hiperrealistyczną jakość tworzonych za pomocą aerografu prac, techniki tej często używa się przy ilustracjach technicznych – przekrojach, rzutach architektonicznych, skomplikowanych mechanizmach. Te ostatnie zadania przejmują jednak ostatnio coraz bardziej komputery z racji opracowywania większości projektów w oparciu o modelowanie trójwymiarowe, które umożliwia dla tak stworzonych modeli wykonanie renderingów – czyli \"wirtualnych zdjęć\".\n",
            "Url: http://pl.wikipedia.org/wiki/?curid=53625\n",
            "Index: 47211\n",
            "\n",
            "\n",
            "========\n",
            "\n",
            "Please enter a question: porównywanie jednego pojęcia do innego podobnego\n",
            "Input question: porównywanie jednego pojęcia do innego podobnego\n",
            "Results (after 0.236 seconds):\n",
            "\n",
            "Title: Apolityczność\n",
            "Paragraph: Apolityczność - odnosi się do dwóch podobnych pojeć.\n",
            "\n",
            "Url: http://pl.wikipedia.org/wiki/?curid=946946\n",
            "Index: 99716\n",
            "\n",
            "Title: Abstrakcja (psychologia)\n",
            "Paragraph: Abstrakcja, abstrahowanie jest to jedna z operacji umysłowych, także proces uczenia się pojęć. Proces abstrahowania polega na pomijaniu różnic między egzemplarzami danego zbioru i wyodrębnianiu ich cech wspólnychProcesy abstrahowania prowadzą do wyodrębnienia się pojęć i są ściśle związane z myśleniem formalnym w teorii Piageta.\n",
            "Url: http://pl.wikipedia.org/wiki/?curid=738112\n",
            "Index: 39556\n",
            "\n",
            "Title: Analogia\n",
            "Paragraph: Analogia (gr. \"αναλογια\" – odpowiedniość, podobieństwo) – orzekanie o pewnych cechach omawianego przedmiotu (rzeczy, osoby, pojęcia itp.) na zasadzie jego podobieństwa do innego przedmiotu (dla którego odpowiednie cechy są określone i znane) lub równoległości występujących pomiędzy nimi innych cech. Pojęcie analogii jest szeroko stosowane w filozofii, prawie, matematyce, statystyce itd.Rozumowaniu \"per analogiam\" przypisuje się w nauce głównie funkcję heurystyczną, to znaczy uważa się je za środek do wynajdowania nowych pomysłów i rozwiązań (hipotez naukowych). Odmawia natomiast funkcji dowodowej. W niektórych jednak dziedzinach – jak filozofia czy nauki prawne – ten rodzaj rozumowania służy nie tylko do stawiania wstępnych wniosków, ale jest zarazem pełnowartościowym sposobem na ich udowodnienie.Niektórzy uważają, że metoda wnioskowania w drodze analogii jest czymś wpisanym w umysł człowieka i ten posługuje się nim na co dzień, często sobie tego nawet nie uświadamiając. Tak porównywanie różnych spraw celem podjęcia decyzji życiowych, wydania wyroku sądowego czy oszacowania wartości nieruchomości są tradycyjną domeną analogii. Bardziej kontrowersyjnym zastosowaniem analogii są tezy dotyczące sposobów w jaki ludzie dokonują percepcji. Mianowicie można założyć iż posługiwanie się ogólnymi pojęciami języka zawsze wymagać będzie porównania obiektów (desygnatów), jakie spotykamy w rzeczywistości z jakimś idealnym wyobrażeniem odpowiadającym danemu pojęciu.\n",
            "Url: http://pl.wikipedia.org/wiki/?curid=43627\n",
            "Index: 78330\n",
            "\n",
            "Title: Aggregate\n",
            "Paragraph: ¹) dane jednej z wersji, dla pozostałych zbliżone ; ²) dane oszacowane;\n",
            "Url: http://pl.wikipedia.org/wiki/?curid=1046718\n",
            "Index: 49101\n",
            "\n",
            "Title: Antonim\n",
            "Paragraph: Antonim (z gr. anti \"naprzeciw\", onoma \"imię\") - termin oznaczający przeciwieństwo, odwrotność znaczeniową innego terminu, antonimy to terminy przeciwstawne. Są nimi np. ciepło - zimno, mądry - głupi, syty - głodny. Dziedzina wiedzy zajmująca się m.in. antonimami to językoznawstwo.Antonimy właściwe podlegają stopniowaniu (np. \"młody - stary\", \"młodszy - starszy\"; \"mądry - głupi\", \"mądrzejszy - głupszy\"), nie oznaczają niezależnych przeciwstawnych jakości, lecz służą jako leksykalny środek wyrażania stopniowania (np. \"wysoki - niższy - najniższy\", \"młody - starszy - najstarszy\").Antonimy komplementarne to pary wyrazów, w których zaprzeczenie jednego powoduje stwierdzenie drugiego, np. \"On jest żonaty\" → \"On nie jest kawalerem\".Do antonimów zalicza się też tzw. konwersje, czyli pary wyrazowe typu \"kupić - sprzedać\", \"ożenić się - wyjść za mąż\".\n",
            "Url: http://pl.wikipedia.org/wiki/?curid=404\n",
            "Index: 96368\n",
            "\n",
            "\n",
            "========\n",
            "\n"
          ],
          "name": "stdout"
        },
        {
          "output_type": "error",
          "ename": "KeyboardInterrupt",
          "evalue": "ignored",
          "traceback": [
            "\u001b[0;31m---------------------------------------------------------------------------\u001b[0m",
            "\u001b[0;31mKeyboardInterrupt\u001b[0m                         Traceback (most recent call last)",
            "\u001b[0;32m/usr/local/lib/python3.6/dist-packages/ipykernel/kernelbase.py\u001b[0m in \u001b[0;36m_input_request\u001b[0;34m(self, prompt, ident, parent, password)\u001b[0m\n\u001b[1;32m    728\u001b[0m             \u001b[0;32mtry\u001b[0m\u001b[0;34m:\u001b[0m\u001b[0;34m\u001b[0m\u001b[0;34m\u001b[0m\u001b[0m\n\u001b[0;32m--> 729\u001b[0;31m                 \u001b[0mident\u001b[0m\u001b[0;34m,\u001b[0m \u001b[0mreply\u001b[0m \u001b[0;34m=\u001b[0m \u001b[0mself\u001b[0m\u001b[0;34m.\u001b[0m\u001b[0msession\u001b[0m\u001b[0;34m.\u001b[0m\u001b[0mrecv\u001b[0m\u001b[0;34m(\u001b[0m\u001b[0mself\u001b[0m\u001b[0;34m.\u001b[0m\u001b[0mstdin_socket\u001b[0m\u001b[0;34m,\u001b[0m \u001b[0;36m0\u001b[0m\u001b[0;34m)\u001b[0m\u001b[0;34m\u001b[0m\u001b[0;34m\u001b[0m\u001b[0m\n\u001b[0m\u001b[1;32m    730\u001b[0m             \u001b[0;32mexcept\u001b[0m \u001b[0mException\u001b[0m\u001b[0;34m:\u001b[0m\u001b[0;34m\u001b[0m\u001b[0;34m\u001b[0m\u001b[0m\n",
            "\u001b[0;32m/usr/local/lib/python3.6/dist-packages/jupyter_client/session.py\u001b[0m in \u001b[0;36mrecv\u001b[0;34m(self, socket, mode, content, copy)\u001b[0m\n\u001b[1;32m    802\u001b[0m         \u001b[0;32mtry\u001b[0m\u001b[0;34m:\u001b[0m\u001b[0;34m\u001b[0m\u001b[0;34m\u001b[0m\u001b[0m\n\u001b[0;32m--> 803\u001b[0;31m             \u001b[0mmsg_list\u001b[0m \u001b[0;34m=\u001b[0m \u001b[0msocket\u001b[0m\u001b[0;34m.\u001b[0m\u001b[0mrecv_multipart\u001b[0m\u001b[0;34m(\u001b[0m\u001b[0mmode\u001b[0m\u001b[0;34m,\u001b[0m \u001b[0mcopy\u001b[0m\u001b[0;34m=\u001b[0m\u001b[0mcopy\u001b[0m\u001b[0;34m)\u001b[0m\u001b[0;34m\u001b[0m\u001b[0;34m\u001b[0m\u001b[0m\n\u001b[0m\u001b[1;32m    804\u001b[0m         \u001b[0;32mexcept\u001b[0m \u001b[0mzmq\u001b[0m\u001b[0;34m.\u001b[0m\u001b[0mZMQError\u001b[0m \u001b[0;32mas\u001b[0m \u001b[0me\u001b[0m\u001b[0;34m:\u001b[0m\u001b[0;34m\u001b[0m\u001b[0;34m\u001b[0m\u001b[0m\n",
            "\u001b[0;32m/usr/local/lib/python3.6/dist-packages/zmq/sugar/socket.py\u001b[0m in \u001b[0;36mrecv_multipart\u001b[0;34m(self, flags, copy, track)\u001b[0m\n\u001b[1;32m    565\u001b[0m         \"\"\"\n\u001b[0;32m--> 566\u001b[0;31m         \u001b[0mparts\u001b[0m \u001b[0;34m=\u001b[0m \u001b[0;34m[\u001b[0m\u001b[0mself\u001b[0m\u001b[0;34m.\u001b[0m\u001b[0mrecv\u001b[0m\u001b[0;34m(\u001b[0m\u001b[0mflags\u001b[0m\u001b[0;34m,\u001b[0m \u001b[0mcopy\u001b[0m\u001b[0;34m=\u001b[0m\u001b[0mcopy\u001b[0m\u001b[0;34m,\u001b[0m \u001b[0mtrack\u001b[0m\u001b[0;34m=\u001b[0m\u001b[0mtrack\u001b[0m\u001b[0;34m)\u001b[0m\u001b[0;34m]\u001b[0m\u001b[0;34m\u001b[0m\u001b[0;34m\u001b[0m\u001b[0m\n\u001b[0m\u001b[1;32m    567\u001b[0m         \u001b[0;31m# have first part already, only loop while more to receive\u001b[0m\u001b[0;34m\u001b[0m\u001b[0;34m\u001b[0m\u001b[0;34m\u001b[0m\u001b[0m\n",
            "\u001b[0;32mzmq/backend/cython/socket.pyx\u001b[0m in \u001b[0;36mzmq.backend.cython.socket.Socket.recv\u001b[0;34m()\u001b[0m\n",
            "\u001b[0;32mzmq/backend/cython/socket.pyx\u001b[0m in \u001b[0;36mzmq.backend.cython.socket.Socket.recv\u001b[0;34m()\u001b[0m\n",
            "\u001b[0;32mzmq/backend/cython/socket.pyx\u001b[0m in \u001b[0;36mzmq.backend.cython.socket._recv_copy\u001b[0;34m()\u001b[0m\n",
            "\u001b[0;32m/usr/local/lib/python3.6/dist-packages/zmq/backend/cython/checkrc.pxd\u001b[0m in \u001b[0;36mzmq.backend.cython.checkrc._check_rc\u001b[0;34m()\u001b[0m\n",
            "\u001b[0;31mKeyboardInterrupt\u001b[0m: ",
            "\nDuring handling of the above exception, another exception occurred:\n",
            "\u001b[0;31mKeyboardInterrupt\u001b[0m                         Traceback (most recent call last)",
            "\u001b[0;32m<ipython-input-25-767c3166aab1>\u001b[0m in \u001b[0;36m<module>\u001b[0;34m()\u001b[0m\n\u001b[1;32m      1\u001b[0m \u001b[0mpassages\u001b[0m \u001b[0;34m=\u001b[0m \u001b[0mw\u001b[0m\u001b[0;34m[\u001b[0m\u001b[0;34m'paragraph'\u001b[0m\u001b[0;34m]\u001b[0m\u001b[0;34m.\u001b[0m\u001b[0mtolist\u001b[0m\u001b[0;34m(\u001b[0m\u001b[0;34m)\u001b[0m\u001b[0;34m[\u001b[0m\u001b[0;34m:\u001b[0m\u001b[0;36m100000\u001b[0m\u001b[0;34m]\u001b[0m\u001b[0;34m\u001b[0m\u001b[0;34m\u001b[0m\u001b[0m\n\u001b[1;32m      2\u001b[0m \u001b[0;32mwhile\u001b[0m \u001b[0;32mTrue\u001b[0m\u001b[0;34m:\u001b[0m\u001b[0;34m\u001b[0m\u001b[0;34m\u001b[0m\u001b[0m\n\u001b[0;32m----> 3\u001b[0;31m     \u001b[0mquery\u001b[0m \u001b[0;34m=\u001b[0m \u001b[0minput\u001b[0m\u001b[0;34m(\u001b[0m\u001b[0;34m\"Please enter a question: \"\u001b[0m\u001b[0;34m)\u001b[0m\u001b[0;34m\u001b[0m\u001b[0;34m\u001b[0m\u001b[0m\n\u001b[0m\u001b[1;32m      4\u001b[0m \u001b[0;34m\u001b[0m\u001b[0m\n\u001b[1;32m      5\u001b[0m     \u001b[0;31m#Encode the query using the bi-encoder and find potentially relevant passages\u001b[0m\u001b[0;34m\u001b[0m\u001b[0;34m\u001b[0m\u001b[0;34m\u001b[0m\u001b[0m\n",
            "\u001b[0;32m/usr/local/lib/python3.6/dist-packages/ipykernel/kernelbase.py\u001b[0m in \u001b[0;36mraw_input\u001b[0;34m(self, prompt)\u001b[0m\n\u001b[1;32m    702\u001b[0m             \u001b[0mself\u001b[0m\u001b[0;34m.\u001b[0m\u001b[0m_parent_ident\u001b[0m\u001b[0;34m,\u001b[0m\u001b[0;34m\u001b[0m\u001b[0;34m\u001b[0m\u001b[0m\n\u001b[1;32m    703\u001b[0m             \u001b[0mself\u001b[0m\u001b[0;34m.\u001b[0m\u001b[0m_parent_header\u001b[0m\u001b[0;34m,\u001b[0m\u001b[0;34m\u001b[0m\u001b[0;34m\u001b[0m\u001b[0m\n\u001b[0;32m--> 704\u001b[0;31m             \u001b[0mpassword\u001b[0m\u001b[0;34m=\u001b[0m\u001b[0;32mFalse\u001b[0m\u001b[0;34m,\u001b[0m\u001b[0;34m\u001b[0m\u001b[0;34m\u001b[0m\u001b[0m\n\u001b[0m\u001b[1;32m    705\u001b[0m         )\n\u001b[1;32m    706\u001b[0m \u001b[0;34m\u001b[0m\u001b[0m\n",
            "\u001b[0;32m/usr/local/lib/python3.6/dist-packages/ipykernel/kernelbase.py\u001b[0m in \u001b[0;36m_input_request\u001b[0;34m(self, prompt, ident, parent, password)\u001b[0m\n\u001b[1;32m    732\u001b[0m             \u001b[0;32mexcept\u001b[0m \u001b[0mKeyboardInterrupt\u001b[0m\u001b[0;34m:\u001b[0m\u001b[0;34m\u001b[0m\u001b[0;34m\u001b[0m\u001b[0m\n\u001b[1;32m    733\u001b[0m                 \u001b[0;31m# re-raise KeyboardInterrupt, to truncate traceback\u001b[0m\u001b[0;34m\u001b[0m\u001b[0;34m\u001b[0m\u001b[0;34m\u001b[0m\u001b[0m\n\u001b[0;32m--> 734\u001b[0;31m                 \u001b[0;32mraise\u001b[0m \u001b[0mKeyboardInterrupt\u001b[0m\u001b[0;34m\u001b[0m\u001b[0;34m\u001b[0m\u001b[0m\n\u001b[0m\u001b[1;32m    735\u001b[0m             \u001b[0;32melse\u001b[0m\u001b[0;34m:\u001b[0m\u001b[0;34m\u001b[0m\u001b[0;34m\u001b[0m\u001b[0m\n\u001b[1;32m    736\u001b[0m                 \u001b[0;32mbreak\u001b[0m\u001b[0;34m\u001b[0m\u001b[0;34m\u001b[0m\u001b[0m\n",
            "\u001b[0;31mKeyboardInterrupt\u001b[0m: "
          ]
        }
      ]
    },
    {
      "cell_type": "markdown",
      "metadata": {
        "id": "lKqVO5OkhLSK"
      },
      "source": [
        "# Check different pretrained-models"
      ]
    },
    {
      "cell_type": "code",
      "metadata": {
        "id": "57WjxsuYhZLP"
      },
      "source": [
        "full = pd.read_csv('/content/drive/MyDrive/czywieszki/answers.csv')\r\n",
        "full.drop(columns=['Unnamed: 0', 'Unnamed: 0.1'], inplace=True)\r\n",
        "full.head()"
      ],
      "execution_count": null,
      "outputs": []
    },
    {
      "cell_type": "code",
      "metadata": {
        "id": "UqRhdIUThwsv"
      },
      "source": [
        "full_par = pd.read_csv('/content/drive/MyDrive/czywieszki/answers_paragraphs.csv')\r\n",
        "full_par.head()"
      ],
      "execution_count": null,
      "outputs": []
    },
    {
      "cell_type": "code",
      "metadata": {
        "id": "FTwsEU6Ph3y4"
      },
      "source": [
        "cds = pd.read_csv('/content/drive/MyDrive/Polish CDSCorpus/dataset.csv', sep='\\t')\r\n",
        "cds.head()"
      ],
      "execution_count": null,
      "outputs": []
    },
    {
      "cell_type": "code",
      "metadata": {
        "id": "Oq8KtL_hiDjg"
      },
      "source": [
        "questions = full['question'].tolist()\r\n",
        "answers = full['answer'].tolist()"
      ],
      "execution_count": null,
      "outputs": []
    },
    {
      "cell_type": "code",
      "metadata": {
        "id": "WhcUbts3iXBW"
      },
      "source": [
        "dev_queries = {}\r\n",
        "dev_corpus = {}\r\n",
        "dev_rel_docs = {}\r\n",
        "\r\n",
        "for i in range(len(questions)):\r\n",
        "  idx = str(i)\r\n",
        "  dev_queries[idx] = questions[i]\r\n",
        "  dev_corpus[idx] = answers[i]\r\n",
        "  dev_rel_docs[idx] = {idx}"
      ],
      "execution_count": null,
      "outputs": []
    },
    {
      "cell_type": "code",
      "metadata": {
        "id": "5Qjl2eDlicxO"
      },
      "source": [
        "answers_par = full_par['answer'].tolist()"
      ],
      "execution_count": null,
      "outputs": []
    },
    {
      "cell_type": "code",
      "metadata": {
        "id": "GRwvFTJNhXoP"
      },
      "source": [
        "dev_queries_par = {}\r\n",
        "dev_corpus_par = {}\r\n",
        "dev_rel_docs_par = {}\r\n",
        "\r\n",
        "for i in range(len(questions)):\r\n",
        "  idx = str(i)\r\n",
        "  dev_queries_par[idx] = questions[i]\r\n",
        "  dev_corpus_par[idx] = answers_par[i]\r\n",
        "  dev_rel_docs_par[idx] = {idx}"
      ],
      "execution_count": null,
      "outputs": []
    },
    {
      "cell_type": "code",
      "metadata": {
        "id": "LtTKuZysi15X"
      },
      "source": [
        "ir_evaluator = evaluation.InformationRetrievalEvaluator(dev_queries, dev_corpus, dev_rel_docs, name='czywiesz')"
      ],
      "execution_count": null,
      "outputs": []
    },
    {
      "cell_type": "code",
      "metadata": {
        "id": "p4Y2AdFBi-s_"
      },
      "source": [
        "ir_evaluator_par = evaluation.InformationRetrievalEvaluator(dev_queries_par, dev_corpus_par, dev_rel_docs_par, name='czywiesz_par')"
      ],
      "execution_count": null,
      "outputs": []
    },
    {
      "cell_type": "code",
      "metadata": {
        "id": "x7PX1VWujDZG"
      },
      "source": [
        "cds_samples = []\r\n",
        "for index, row in cds.iterrows():\r\n",
        "  score = float(row['RE']) / 5.0\r\n",
        "  cds_samples.append(InputExample(texts=[row['A'], row['B']], label=score))"
      ],
      "execution_count": null,
      "outputs": []
    },
    {
      "cell_type": "code",
      "metadata": {
        "id": "jV5EGdNLjOPG"
      },
      "source": [
        "emb_evaluator = evaluation.EmbeddingSimilarityEvaluator.from_input_examples(cds_samples, name='cds')"
      ],
      "execution_count": null,
      "outputs": []
    },
    {
      "cell_type": "code",
      "metadata": {
        "id": "Ib3npITqg4_R"
      },
      "source": [
        "names = [\r\n",
        "         'distiluse-base-multilingual-cased-v2',\r\n",
        "         'paraphrase-xlm-r-multilingual-v1',\r\n",
        "         'stsb-xlm-r-multilingual',\r\n",
        "         'quora-distilbert-multilingual'\r\n",
        "]\r\n",
        "evaluators = [\r\n",
        "              ir_evaluator,\r\n",
        "              ir_evaluator_par,\r\n",
        "              emb_evaluator\r\n",
        "]\r\n",
        "evaluation_names = [\r\n",
        "                    'ir',\r\n",
        "                    'ir_paragraphs',\r\n",
        "                    'embeddings'\r\n",
        "]"
      ],
      "execution_count": null,
      "outputs": []
    },
    {
      "cell_type": "code",
      "metadata": {
        "id": "_-CzH9RAhUO6"
      },
      "source": [
        "for name in names:\r\n",
        "  print('Testing', name, '...')\r\n",
        "  model = SentenceTransformer(name)\r\n",
        "  for evaluator, eval_name in zip(evaluators, evaluation_names):\r\n",
        "    print(eval_name)\r\n",
        "    output_path = '/content/drive/MyDrive/models/Tests/' + name + '/' + eval_name\r\n",
        "    model.evaluate(evaluator, output_path=output_path)\r\n",
        "  print('\\n')"
      ],
      "execution_count": null,
      "outputs": []
    },
    {
      "cell_type": "code",
      "metadata": {
        "id": "e2XLgsVfuzQM"
      },
      "source": [
        "import os\r\n",
        "for "
      ],
      "execution_count": null,
      "outputs": []
    },
    {
      "cell_type": "markdown",
      "metadata": {
        "id": "_2Tn2j8Om-Ia"
      },
      "source": [
        "**paraphrase-xlm-r-multilingual-v1 - best results**"
      ]
    },
    {
      "cell_type": "markdown",
      "metadata": {
        "id": "Z2U3063Ure2Q"
      },
      "source": [
        "## Check PolBERT performance"
      ]
    },
    {
      "cell_type": "code",
      "metadata": {
        "id": "USx_CvK5riGH"
      },
      "source": [
        "names = [\r\n",
        "         'dkleczek/bert-base-polish-uncased-v1',\r\n",
        "         'dkleczek/bert-base-polish-cased-v1'\r\n",
        "]\r\n",
        "for name in names:\r\n",
        "  model = SentenceTransformer(name)\r\n",
        "  for evaluator, eval_name in zip(evaluators, evaluation_names):\r\n",
        "    print(eval_name)\r\n",
        "    output_path = '/content/drive/MyDrive/models/Tests/' + name + '/' + eval_name\r\n",
        "    model.evaluate(evaluator, output_path=output_path)\r\n",
        "  print('\\n')"
      ],
      "execution_count": null,
      "outputs": []
    },
    {
      "cell_type": "code",
      "metadata": {
        "id": "c6c_OgHWuGna"
      },
      "source": [
        ""
      ],
      "execution_count": null,
      "outputs": []
    }
  ]
}